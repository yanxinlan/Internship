{
 "cells": [
  {
   "cell_type": "code",
   "execution_count": 1,
   "metadata": {},
   "outputs": [],
   "source": [
    "#data preprocessing\n",
    "import pandas as pd\n",
    "import numpy as np\n",
    "from sklearn import preprocessing\n",
    "from sklearn.model_selection import train_test_split\n",
    "import collections\n",
    "from collections import defaultdict\n",
    "#logistic regression model: train and evaluation and XGB \n",
    "from sklearn.linear_model import LogisticRegression\n",
    "import xgboost as xgb\n",
    "import seaborn as sns\n",
    "\n",
    "from sklearn.calibration import calibration_curve\n",
    "from sklearn.metrics import roc_curve, precision_recall_curve, roc_auc_score, auc, accuracy_score\n",
    "import sklearn.metrics as metrics\n",
    "from sklearn.impute import SimpleImputer\n",
    "import matplotlib.lines as mlines\n",
    "import matplotlib.transforms as mtransforms\n",
    "from matplotlib import pyplot as plt\n",
    "import pyupset as pyu\n",
    "import math"
   ]
  },
  {
   "cell_type": "code",
   "execution_count": 2,
   "metadata": {},
   "outputs": [],
   "source": [
    "# the full files pathes are here\n",
    "# time dependent\n",
    "DATA_PATH_stages=\"../data/kdigo_stages_measured.csv\" \n",
    "DATA_PATH_labs = \"../data/labs-kdigo_stages_measured.csv\" \n",
    "DATA_PATH_vitals = \"../data/vitals-kdigo_stages_measured.csv\" \n",
    "DATA_PATH_vents = \"../data/vents-vasopressor-sedatives-kdigo_stages_measured.csv\"\n",
    "#no time dependent\n",
    "DATA_PATH_detail=\"../data/icustay_detail-kdigo_stages_measured.csv\" #age constraint\n",
    "DATA_PATH_icd = \"../data/diagnoses_icd_aki_measured.csv\" #AL was \"...measured 2.csv\"\n",
    "\n",
    "SEPARATOR=\";\""
   ]
  },
  {
   "cell_type": "code",
   "execution_count": 3,
   "metadata": {},
   "outputs": [],
   "source": [
    "# Set parameter as constant \n",
    "LOS = True # additional code to cut the records longer than 32 days\n",
    "\n",
    "#which classifier to use, only run one classifier at one time \n",
    "ALL_STAGES = False\n",
    "CLASS1 = True   #AnyAKI\n",
    "\n",
    "    \n",
    "SELECTED_FEATURE_SET = False\n",
    "MAX_FEATURE_SET = True\n",
    "DIAGNOSIS = False\n",
    "\n",
    "MAX_DAYS = 35\n",
    "\n",
    "NORMALIZATION = 'min-max'  # worsen results for XGB and RF\n",
    "CAPPING = True\n",
    "\n",
    "if CAPPING:\n",
    "    CAPPING_THRESHOLD_UPPER = 0.99\n",
    "    CAPPING_THRESHOLD_LOWER = 0.01\n",
    "\n",
    "#Age constraints: adults\n",
    "ADULTS_MIN_AGE = 18\n",
    "ADULTS_MAX_AGE = -1\n",
    "\n",
    "#Two options to deal with time series data\n",
    "FIRST_TURN_POS = True #True #False # the first charttime that turn pos as bechmark for Target\n",
    "LAST_CHARTTIME = False #the last charttime as bechmark for Target\n",
    "\n",
    "# resampling or not\n",
    "TIME_SAMPLING = True \n",
    "SAMPLING_INTERVAL = '6H'\n",
    "RESAMPLE_LIMIT = 16 # 4 days*6h interval\n",
    "MOST_COMMON = False #resampling with most common\n",
    "# if MOST_COMMON is not applied,sampling with different strategies per kind of variable, \n",
    "# numeric variables use mean value, categorical variables use max value\n",
    "IMPUTE_EACH_ID = False # imputation within each icustay_id\n",
    "IMPUTE_COLUMN = False # imputation based on whole column\n",
    "IMPUTE_METHOD = 'most_frequent' \n",
    "FILL_VALUE = 0 #fill missing value and ragged part of 3d array\n",
    "\n",
    "# How much time the prediction should occur (hours)\n",
    "HOURS_AHEAD = 48\n",
    "\n",
    "# precentage of dataset to be used for testing model\n",
    "TEST_SIZE = 0.3\n",
    "\n",
    "NORM_TYPE = 'min_max'\n",
    "\n",
    "# set constant for function build_basic_LR\n",
    "C = 0.1\n",
    "PENALTY = \"l1\"\n",
    "SOLVER = 'saga' \n",
    "MAX_ITERATION = 1000 \n",
    "CLASS_WEIGHT = \"balanced\"\n",
    "RANDOM = 42\n",
    "\n",
    "#set changable info corresponding to each classifier as variables\n",
    "\n",
    "#min_set =  [\"icustay_id\", \"charttime\", \"creat\", \"uo_rt_6hr\", \"uo_rt_12hr\", \"uo_rt_24hr\", \"aki_stage\"]\n",
    "\n",
    "\n",
    "#selected_set = \n",
    "\n",
    "\n",
    "max_set = [\"icustay_id\", \"charttime\", 'hadm_id', \"creat\", \"aki_stage_creat\", \"uo_rt_6hr\",\"uo_rt_12hr\", \"uo_rt_24hr\", \n",
    "                  \"aki_stage_uo\", \"aki_stage\", \"aniongap_min\",\"albumin_min\", \"bicarbonate_min\", \"bilirubin_min\", \n",
    "                  \"chloride_min\", \"glucose_min\", \"hematocrit_min\", \"hemoglobin_min\", \"potassium_min\", \"ptt_min\",            \n",
    "                  \"sodium_min\" , \"bun_min\" , \"wbc_min\" , \"heartrate_mean\" , \"sysbp_mean\", \"diasbp_mean\" , \"resprate_mean\",\n",
    "                  \"vent\", \"vasopressor\", \"sedative\"]\n",
    "\n",
    "# naming model and plot\n",
    "classifier_name = \"None vs. Any AKI\"    ###change every time #Moderate vs. Severe #None vs. Any #Others vs. Severe\n",
    "plot_name = \"adult_AnyAKI_LR\"    ###change every time"
   ]
  },
  {
   "cell_type": "code",
   "execution_count": 4,
   "metadata": {},
   "outputs": [],
   "source": [
    "# Some functions used later\n",
    "\n",
    "if CAPPING:\n",
    "    def cap_data(df):\n",
    "        cap_mask = df.columns.difference(['icustay_id', 'charttime', 'aki_stage'])\n",
    "        df[cap_mask] = df[cap_mask].clip(df[cap_mask].quantile(CAPPING_THRESHOLD_LOWER),\n",
    "                                         df[cap_mask].quantile(CAPPING_THRESHOLD_UPPER),\n",
    "                                         axis=1)\n",
    "\n",
    "        return df\n",
    "\n",
    "# impute missing value in resampleing data with most common based on each id\n",
    "def fast_mode(df, key_cols, value_col):\n",
    "    \"\"\" \n",
    "    Calculate a column mode, by group, ignoring null values. \n",
    "\n",
    "    key_cols : list of str\n",
    "        Columns to groupby for calculation of mode.\n",
    "    value_col : str\n",
    "        Column for which to calculate the mode. \n",
    "\n",
    "    Return\n",
    "    ------ \n",
    "    pandas.DataFrame\n",
    "        One row for the mode of value_col per key_cols group. If ties, \n",
    "        returns the one which is sorted first. \n",
    "    \"\"\"\n",
    "    return (df.groupby(key_cols + [value_col]).size() \n",
    "              .to_frame('counts').reset_index() \n",
    "              .sort_values('counts', ascending=False) \n",
    "              .drop_duplicates(subset=key_cols)).drop('counts',axis=1)\n",
    "\n",
    "\n",
    "def normalise_data(df, norm_mask):\n",
    "    print(\"Normalizing in [0,1] with {} normalization\".format(NORMALIZATION))\n",
    "    \n",
    "    df[norm_mask] = (df[norm_mask] - df[norm_mask].min()) / (df[norm_mask].max() - df[norm_mask].min())\n",
    "    \n",
    "    return df\n",
    "\n",
    "\n",
    "#get max shape of 3d array\n",
    "def get_dimensions(array, level=0):   \n",
    "    yield level, len(array)\n",
    "    try:\n",
    "        for row in array:\n",
    "            yield from get_dimensions(row, level + 1)\n",
    "    except TypeError: #not an iterable\n",
    "        pass\n",
    "\n",
    "def get_max_shape(array):\n",
    "    dimensions = defaultdict(int)\n",
    "    for level, length in get_dimensions(array):\n",
    "        dimensions[level] = max(dimensions[level], length)\n",
    "    return [value for _, value in sorted(dimensions.items())]\n",
    "\n",
    "#pad the ragged 3d array to rectangular shape based on max size\n",
    "def iterate_nested_array(array, index=()):\n",
    "    try:\n",
    "        for idx, row in enumerate(array):\n",
    "            yield from iterate_nested_array(row, (*index, idx)) \n",
    "    except TypeError: # final level            \n",
    "        yield (*index, slice(len(array))), array # think of the types\n",
    "\n",
    "def pad(array, fill_value):\n",
    "    dimensions = get_max_shape(array)\n",
    "    result = np.full(dimensions, fill_value, dtype = np.float64)  \n",
    "    for index, value in iterate_nested_array(array):\n",
    "        result[index] = value \n",
    "    return result\n",
    "\n",
    "def bin_total(y_true, y_prob, n_bins):\n",
    "    bins = np.linspace(0., 1. + 1e-8, n_bins + 1)\n",
    "\n",
    "    # In sklearn.calibration.calibration_curve,\n",
    "    # the last value in the array is always 0.\n",
    "    binids = np.digitize(y_prob, bins) - 1\n",
    "\n",
    "    return np.bincount(binids, minlength=len(bins))\n",
    "\n",
    "def missing_bin(bin_array):\n",
    "    midpoint = \" \"    \n",
    "    if bin_array[0]==0:\n",
    "        midpoint = \"5%, \"\n",
    "    if bin_array[1]==0:\n",
    "        midpoint = midpoint + \"15%, \"\n",
    "    if bin_array[2]==0:\n",
    "        midpoint = midpoint + \"25%, \"\n",
    "    if bin_array[3]==0:\n",
    "        midpoint = midpoint + \"35%, \" \n",
    "    if bin_array[4]==0:\n",
    "        midpoint = midpoint + \"45%, \"\n",
    "    if bin_array[5]==0:\n",
    "        midpoint = midpoint + \"55%, \"\n",
    "    if bin_array[6]==0:\n",
    "        midpoint = midpoint + \"65%, \"\n",
    "    if bin_array[7]==0:\n",
    "        midpoint = midpoint + \"75%, \"\n",
    "    if bin_array[8]==0:\n",
    "        midpoint = midpoint + \"85%, \"\n",
    "    if bin_array[9]==0:\n",
    "        midpoint = midpoint + \"95%, \"\n",
    "    return \"The missing bins have midpoint values of \"+ str(midpoint)\n"
   ]
  },
  {
   "cell_type": "markdown",
   "metadata": {},
   "source": [
    "# Download data fron CSV tables"
   ]
  },
  {
   "cell_type": "code",
   "execution_count": 5,
   "metadata": {
    "scrolled": true
   },
   "outputs": [
    {
     "name": "stdout",
     "output_type": "stream",
     "text": [
      "read csv files\n",
      "convert charttime to timestamp\n"
     ]
    }
   ],
   "source": [
    "print(\"read csv files\")\n",
    "#reading csv files\n",
    "X = pd.read_csv(DATA_PATH_stages, sep= SEPARATOR)\n",
    "X.drop([\"aki_stage_creat\", \"aki_stage_uo\"], axis = 1, inplace = True)\n",
    "#remove totally empty rows \n",
    "X = X.dropna(how = 'all', subset = ['creat','uo_rt_6hr','uo_rt_12hr','uo_rt_24hr','aki_stage'])\n",
    "print(\"convert charttime to timestamp\")\n",
    "X['charttime'] = pd.to_datetime(X['charttime'])\n",
    "# AL it substitutes missing values with zero!\n",
    "#merge rows if they have exact timestamp within same icustay_id\n",
    "#X = X.groupby(['icustay_id', 'charttime']).sum().reset_index(['icustay_id', 'charttime'])\n",
    "\n",
    "dataset_detail = pd.read_csv(DATA_PATH_detail, sep= SEPARATOR)  #age constraint\n",
    "dataset_detail.drop(['dod', 'admittime','dischtime', 'los_hospital','ethnicity','hospital_expire_flag', 'hospstay_seq',\n",
    "       'first_hosp_stay', 'intime', 'outtime', 'los_icu', 'icustay_seq','first_icu_stay'], axis = 1, inplace = True)\n"
   ]
  },
  {
   "cell_type": "code",
   "execution_count": 108,
   "metadata": {},
   "outputs": [
    {
     "name": "stdout",
     "output_type": "stream",
     "text": [
      "uo_rt_6hr 12.31\n"
     ]
    }
   ],
   "source": [
    "print(\"uo_rt_6hr %.2f\" % (X.isnull().sum()[3]/X.shape[0]*100))"
   ]
  },
  {
   "cell_type": "code",
   "execution_count": 109,
   "metadata": {},
   "outputs": [
    {
     "name": "stdout",
     "output_type": "stream",
     "text": [
      "uo_rt_6hr 12.31\n",
      "percentage fo rows having both measures on a timestamp 0.35\n"
     ]
    },
    {
     "data": {
      "text/plain": [
       "icustay_id          0\n",
       "charttime           0\n",
       "creat         3290149\n",
       "uo_rt_6hr      463867\n",
       "uo_rt_12hr     463867\n",
       "uo_rt_24hr     463867\n",
       "aki_stage           0\n",
       "dtype: int64"
      ]
     },
     "execution_count": 109,
     "metadata": {},
     "output_type": "execute_result"
    }
   ],
   "source": [
    "# DATASET X % of missing per column\n",
    "#print(\"creat %.2f\" % (X.isnull().sum()[2]/X.shape[0]*100))\n",
    "print(\"uo_rt_6hr %.2f\" % (X.isnull().sum()[3]/X.shape[0]*100))\n",
    "print(\"percentage fo rows having both measures on a timestamp %.2f\" % (X.dropna().shape[0]/X.shape[0]*100))\n",
    "X.dropna().shape[0]\n",
    "X = cap_data(X)\n",
    "X.isnull().sum()\n",
    "\n"
   ]
  },
  {
   "cell_type": "code",
   "execution_count": 110,
   "metadata": {},
   "outputs": [],
   "source": [
    "def describe_series(series):\n",
    "    series = series.dropna()\n",
    "    d = series.describe()\n",
    "    result = pd.DataFrame({'feature':d})\n",
    "    return result\n",
    "    "
   ]
  },
  {
   "cell_type": "code",
   "execution_count": 111,
   "metadata": {},
   "outputs": [
    {
     "data": {
      "text/plain": [
       "count    3303496.00000\n",
       "mean           1.38108\n",
       "std            1.11269\n",
       "min            0.03550\n",
       "25%            0.66110\n",
       "50%            1.09140\n",
       "75%            1.73000\n",
       "max            6.38300\n",
       "dtype: object"
      ]
     },
     "execution_count": 111,
     "metadata": {},
     "output_type": "execute_result"
    }
   ],
   "source": [
    "result = describe_series(X['uo_rt_24hr'])\n",
    "result.apply(lambda x: '%.5f' % x, axis=1)"
   ]
  },
  {
   "cell_type": "code",
   "execution_count": 112,
   "metadata": {},
   "outputs": [
    {
     "name": "stdout",
     "output_type": "stream",
     "text": [
      "subject ids\n",
      "42078\n"
     ]
    },
    {
     "data": {
      "text/plain": [
       "subject_id           0\n",
       "hadm_id              0\n",
       "icustay_id           0\n",
       "gender               0\n",
       "age                  0\n",
       "ethnicity_grouped    0\n",
       "admission_type       0\n",
       "dtype: int64"
      ]
     },
     "execution_count": 112,
     "metadata": {},
     "output_type": "execute_result"
    }
   ],
   "source": [
    "print('subject ids')\n",
    "print(dataset_detail['subject_id'].nunique())\n",
    "dataset_detail['admission_type'].value_counts()\n",
    "dataset_detail.isnull().sum()"
   ]
  },
  {
   "cell_type": "code",
   "execution_count": 78,
   "metadata": {
    "scrolled": true
   },
   "outputs": [
    {
     "data": {
      "text/plain": [
       "white       40265\n",
       "unknown      5892\n",
       "black        5446\n",
       "hispanic     1973\n",
       "other        1602\n",
       "asian        1438\n",
       "native         45\n",
       "Name: ethnicity_grouped, dtype: int64"
      ]
     },
     "execution_count": 78,
     "metadata": {},
     "output_type": "execute_result"
    }
   ],
   "source": [
    "dataset_detail['ethnicity_grouped'].value_counts()"
   ]
  },
  {
   "cell_type": "code",
   "execution_count": 79,
   "metadata": {},
   "outputs": [
    {
     "data": {
      "text/plain": [
       "10.39868692751628"
      ]
     },
     "execution_count": 79,
     "metadata": {},
     "output_type": "execute_result"
    }
   ],
   "source": [
    "#unknown\n",
    "dataset_detail['ethnicity_grouped'].value_counts()[1]/dataset_detail.shape[0]*100"
   ]
  },
  {
   "cell_type": "markdown",
   "metadata": {},
   "source": [
    "# vitals and vents"
   ]
  },
  {
   "cell_type": "code",
   "execution_count": 14,
   "metadata": {},
   "outputs": [
    {
     "ename": "NameError",
     "evalue": "name 'col1' is not defined",
     "output_type": "error",
     "traceback": [
      "\u001b[0;31m---------------------------------------------------------------------------\u001b[0m",
      "\u001b[0;31mNameError\u001b[0m                                 Traceback (most recent call last)",
      "\u001b[0;32m<ipython-input-14-c5b67d5b81d4>\u001b[0m in \u001b[0;36m<module>\u001b[0;34m\u001b[0m\n\u001b[1;32m      1\u001b[0m \u001b[0mrow\u001b[0m \u001b[0;34m=\u001b[0m \u001b[0;36m715520\u001b[0m\u001b[0;34m\u001b[0m\u001b[0;34m\u001b[0m\u001b[0m\n\u001b[0;32m----> 2\u001b[0;31m \u001b[0ma\u001b[0m \u001b[0;34m=\u001b[0m \u001b[0mdataset_vitals\u001b[0m\u001b[0;34m.\u001b[0m\u001b[0miloc\u001b[0m\u001b[0;34m[\u001b[0m\u001b[0mrow\u001b[0m\u001b[0;34m,\u001b[0m\u001b[0mcol1\u001b[0m\u001b[0;34m]\u001b[0m\u001b[0;34m\u001b[0m\u001b[0;34m\u001b[0m\u001b[0m\n\u001b[0m\u001b[1;32m      3\u001b[0m \u001b[0mb\u001b[0m \u001b[0;34m=\u001b[0m \u001b[0mdataset_vitals\u001b[0m\u001b[0;34m.\u001b[0m\u001b[0miloc\u001b[0m\u001b[0;34m[\u001b[0m\u001b[0mrow\u001b[0m\u001b[0;34m,\u001b[0m\u001b[0mcol2\u001b[0m\u001b[0;34m]\u001b[0m\u001b[0;34m\u001b[0m\u001b[0;34m\u001b[0m\u001b[0m\n\u001b[1;32m      4\u001b[0m \u001b[0mc\u001b[0m \u001b[0;34m=\u001b[0m \u001b[0mdataset_vitals\u001b[0m\u001b[0;34m.\u001b[0m\u001b[0miloc\u001b[0m\u001b[0;34m[\u001b[0m\u001b[0mrow\u001b[0m\u001b[0;34m,\u001b[0m\u001b[0mcol3\u001b[0m\u001b[0;34m]\u001b[0m\u001b[0;34m\u001b[0m\u001b[0;34m\u001b[0m\u001b[0m\n\u001b[1;32m      5\u001b[0m \u001b[0mprint\u001b[0m\u001b[0;34m(\u001b[0m\u001b[0ma\u001b[0m\u001b[0;34m,\u001b[0m \u001b[0mb\u001b[0m\u001b[0;34m,\u001b[0m \u001b[0mc\u001b[0m\u001b[0;34m)\u001b[0m\u001b[0;34m\u001b[0m\u001b[0;34m\u001b[0m\u001b[0m\n",
      "\u001b[0;31mNameError\u001b[0m: name 'col1' is not defined"
     ]
    }
   ],
   "source": [
    "#min max mean - either all missing or all present (checked)\n",
    "'''\n",
    "dataset_vitals = pd.read_csv(DATA_PATH_vitals, sep= SEPARATOR)\n",
    "dataset_vitals.drop(['meanbp_min','meanbp_max', 'meanbp_mean','tempc_min', 'tempc_max', 'tempc_mean'], axis = 1, inplace = True)\n",
    "dataset_vitals.shape \n",
    "\n",
    "row = 715520\n",
    "a = dataset_vitals.iloc[row,col1]\n",
    "b = dataset_vitals.iloc[row,col2]\n",
    "c = dataset_vitals.iloc[row,col3]\n",
    "print(a, b, c)\n",
    "\n",
    "row = 3025107\n",
    "a = dataset_vitals.iloc[row,col1]\n",
    "b = dataset_vitals.iloc[row,col2]\n",
    "c = dataset_vitals.iloc[row,col3]\n",
    "print(a, b, c)\n",
    "\n",
    "row = 3888829\n",
    "a = dataset_vitals.iloc[row,col1]\n",
    "b = dataset_vitals.iloc[row,col2]\n",
    "c = dataset_vitals.iloc[row,col3]\n",
    "print(a, b, c)\n",
    "\n",
    "row = 4181716\n",
    "a = dataset_vitals.iloc[row,col1]\n",
    "b = dataset_vitals.iloc[row,col2]\n",
    "c = dataset_vitals.iloc[row,col3]\n",
    "print(a, b, c)\n",
    "\n",
    "row = 4181720\n",
    "a = dataset_vitals.iloc[row,col1]\n",
    "b = dataset_vitals.iloc[row,col2]\n",
    "c = dataset_vitals.iloc[row,col3]\n",
    "print(a, b, c)\n",
    "'''"
   ]
  },
  {
   "cell_type": "code",
   "execution_count": null,
   "metadata": {
    "scrolled": true
   },
   "outputs": [],
   "source": [
    "#min max mean - either all missing or all present (checked)\n",
    "'''\n",
    "#heartrate\n",
    "row = 0\n",
    "col1 = 19\n",
    "col2 = 20\n",
    "col3 = 21\n",
    "different = []\n",
    "\n",
    "min_v = []\n",
    "mean_v = []\n",
    "max_v = []\n",
    "\n",
    "while row < dataset_vitals.shape[0]:  \n",
    "    a = dataset_vitals.iloc[row,col1]\n",
    "    b = dataset_vitals.iloc[row,col2]\n",
    "    c = dataset_vitals.iloc[row,col3]\n",
    "    if math.isnan(a) and math.isnan(b) and math.isnan(c):\n",
    "        pass\n",
    "    elif a !=b or b !=c or c !=a:\n",
    "        #print(row)\n",
    "        different.append(row)\n",
    "        min_v.append(a)\n",
    "        mean_v.append(b)\n",
    "        max_v.append(c)\n",
    "    if row == 2270220:\n",
    "        print('25%')\n",
    "    if row == 4540440:\n",
    "        print('50%')\n",
    "    if row == 6810660:\n",
    "        print('75%')\n",
    "    row +=1\n",
    "\n",
    "check = pd.DataFrame()\n",
    "check['min']  = min_v\n",
    "check['mean']  = mean_v\n",
    "check['max'] = max_v\n",
    "\n",
    "check.isnull().sum()\n",
    "'''"
   ]
  },
  {
   "cell_type": "code",
   "execution_count": 6,
   "metadata": {},
   "outputs": [
    {
     "name": "stdout",
     "output_type": "stream",
     "text": [
      "convert charttime to timestamp\n"
     ]
    }
   ],
   "source": [
    "if SELECTED_FEATURE_SET or MAX_FEATURE_SET:\n",
    "    #4,5,6\n",
    "    dataset_vitals = pd.read_csv(DATA_PATH_vitals, sep= SEPARATOR)  #'meanbp_mean', 'tempc_mean',\n",
    "    dataset_vents = pd.read_csv(DATA_PATH_vents , sep= SEPARATOR)\n",
    "    #dataset_icd = pd.read_csv(DATA_PATH_icd, sep= SEPARATOR)\n",
    "\n",
    "    dataset_vitals.drop([\"heartrate_min\", \"heartrate_max\",\"sysbp_min\", \"sysbp_max\",\"diasbp_min\", \"diasbp_max\",\n",
    "                        'meanbp_min','meanbp_max', 'meanbp_mean','tempc_min', 'tempc_max', 'tempc_mean',\n",
    "                        \"resprate_min\", \"resprate_max\", \"spo2_min\", \"spo2_max\", \"glucose_min\", \"glucose_max\"], axis = 1, inplace = True)\n",
    "          \n",
    "    print(\"convert charttime to timestamp\")\n",
    "    dataset_vitals['charttime'] = pd.to_datetime(dataset_vitals['charttime'])\n",
    "    dataset_vents['charttime'] = pd.to_datetime(dataset_vents['charttime'])\n",
    "    \n",
    "    dataset_vitals = dataset_vitals.sort_values(by=['icustay_id', 'charttime'])\n",
    "    dataset_vents = dataset_vents.sort_values(by=['icustay_id', 'charttime'])\n",
    "    \n",
    "    # AL drop those where all columns are nan\n",
    "    dataset_vitals = dataset_vitals.dropna(subset=dataset_vitals.columns[4:], how='all')   \n",
    "    dataset_vitals = cap_data(dataset_vitals)\n",
    "     "
   ]
  },
  {
   "cell_type": "code",
   "execution_count": 114,
   "metadata": {
    "scrolled": false
   },
   "outputs": [
    {
     "name": "stdout",
     "output_type": "stream",
     "text": [
      "heartrate 12.95\n",
      "sysbp_mean 36.02\n",
      "diasbp_mean 36.04\n",
      "resprate_mean 30.55\n",
      "spo2_mean 32.68\n",
      "glucose_mean 86.03\n",
      "percentage fo rows having all measures on a timestamp 7.28\n"
     ]
    },
    {
     "data": {
      "text/plain": [
       "subject_id              0\n",
       "hadm_id                 0\n",
       "icustay_id              0\n",
       "charttime               0\n",
       "heartrate_mean    1169644\n",
       "sysbp_mean        3252955\n",
       "diasbp_mean       3254742\n",
       "resprate_mean     2758605\n",
       "spo2_mean         2950969\n",
       "glucose_mean      7768785\n",
       "dtype: int64"
      ]
     },
     "execution_count": 114,
     "metadata": {},
     "output_type": "execute_result"
    }
   ],
   "source": [
    "# VITALS % of missing per column\n",
    "print(\"heartrate %.2f\" % (dataset_vitals.isnull().sum()[4]/dataset_vitals.shape[0]*100) )\n",
    "print(\"sysbp_mean %.2f\" % (dataset_vitals.isnull().sum()[5]/dataset_vitals.shape[0]*100))\n",
    "print(\"diasbp_mean %.2f\" % (dataset_vitals.isnull().sum()[6]/dataset_vitals.shape[0]*100))\n",
    "print(\"resprate_mean %.2f\" % (dataset_vitals.isnull().sum()[7]/dataset_vitals.shape[0]*100))\n",
    "print(\"spo2_mean %.2f\" % (dataset_vitals.isnull().sum()[8]/dataset_vitals.shape[0]*100))\n",
    "print(\"glucose_mean %.2f\" % (dataset_vitals.isnull().sum()[9]/dataset_vitals.shape[0]*100))\n",
    "\n",
    "\n",
    "print(\"percentage fo rows having all measures on a timestamp %.2f\" % (dataset_vitals.dropna().shape[0]/dataset_vitals.shape[0]*100))\n",
    "dataset_vitals.dropna().shape[0]\n",
    "#print(\"tempc_mean %.2f\" % (dataset_vitals.isnull().sum()[8]/dataset_vitals.shape[0]*100)) 80.85% missing\n",
    "dataset_vitals.isnull().sum()"
   ]
  },
  {
   "cell_type": "code",
   "execution_count": 82,
   "metadata": {},
   "outputs": [
    {
     "data": {
      "text/plain": [
       "count    6079499.00000\n",
       "mean          97.17875\n",
       "std            2.73069\n",
       "min           87.00000\n",
       "25%           96.00000\n",
       "50%           98.00000\n",
       "75%           99.00000\n",
       "max          100.00000\n",
       "dtype: object"
      ]
     },
     "execution_count": 82,
     "metadata": {},
     "output_type": "execute_result"
    }
   ],
   "source": [
    "a = describe_series(dataset_vitals['spo2_mean'])\n",
    "a.apply(lambda x: '%.5f' % x, axis=1)\n"
   ]
  },
  {
   "cell_type": "markdown",
   "metadata": {},
   "source": [
    "# labs"
   ]
  },
  {
   "cell_type": "code",
   "execution_count": 7,
   "metadata": {},
   "outputs": [],
   "source": [
    "#3\n",
    "dataset_labs = pd.read_csv(DATA_PATH_labs, sep= SEPARATOR) # 'bands lactate platelet ptt inr pt\n",
    "dataset_labs.drop(['albumin_min', 'albumin_max','bilirubin_min', 'bilirubin_max','bands_min', 'bands_max',\n",
    "                   'lactate_min', 'lactate_max','platelet_min', 'platelet_max','ptt_min', 'ptt_max', \n",
    "                   'inr_min', 'inr_max', 'pt_min', 'pt_max'], axis = 1, inplace = True)\n",
    "dataset_labs = dataset_labs.dropna(subset=['charttime'])\n",
    "dataset_labs = dataset_labs.dropna(subset=dataset_labs.columns[4:], how='all')\n",
    "dataset_labs['charttime'] = pd.to_datetime(dataset_labs['charttime'])\n",
    "dataset_labs = dataset_labs.sort_values(by=['icustay_id', 'charttime'])\n",
    "dataset_labs = cap_data(dataset_labs)"
   ]
  },
  {
   "cell_type": "code",
   "execution_count": 8,
   "metadata": {},
   "outputs": [],
   "source": [
    "# Labs file: instead of min and max their avg\n",
    "counter = 0\n",
    "col1 = 4\n",
    "col2 = 5\n",
    "null_l = [] # no null values in those that are different\n",
    "changed = 0 # 4316 records changed to avg\n",
    "\n",
    "while counter < 11:\n",
    "    row = 0\n",
    "# find where min and max are different and save their row indices \n",
    "    while row < len(dataset_labs):\n",
    "        a = dataset_labs.iloc[row,col1]\n",
    "        b = dataset_labs.iloc[row,col2]\n",
    "        if a==b or (np.isnan(a) and np.isnan(b)):\n",
    "            pass\n",
    "        elif a!=b:\n",
    "            changed +=1\n",
    "            avg = (a+b)/2\n",
    "            dataset_labs.iloc[row,col1] = avg\n",
    "            if (np.isnan(a) and ~np.isnan(b)) or (np.isnan(b) and ~np.isnan(a)):\n",
    "                null_l.append(row)\n",
    "        else:\n",
    "            print(a)\n",
    "            print(b)\n",
    "        row +=1       \n",
    "    # delete the redundant column max, update counters\n",
    "    dataset_labs.drop(dataset_labs.columns[col2], axis=1, inplace = True)\n",
    "    counter = counter+1\n",
    "    col1 = col1+1\n",
    "    col2 = col2+1\n",
    "\n",
    "dataset_labs.columns = ['subject_id','hadm_id', 'icustay_id', 'charttime', 'aniongap_avg', 'bicarbonate_avg', \n",
    "                        'creatinine_avg', 'chloride_avg', 'glucose_avg', 'hematocrit_avg','hemoglobin_avg',\n",
    "                        'potassium_avg', 'sodium_avg', 'bun_avg', 'wbc_avg']\n",
    "if len(null_l)>0:\n",
    "    print(\"null values encountered\")"
   ]
  },
  {
   "cell_type": "code",
   "execution_count": 85,
   "metadata": {},
   "outputs": [
    {
     "name": "stdout",
     "output_type": "stream",
     "text": [
      "aniongap_avg 43.09\n",
      "bicarbonate_avg 42.19\n",
      "creatinine_avg 42.00\n",
      "chloride_avg 36.89\n",
      "glucose_avg 26.76\n",
      "hematocrit_avg 27.96\n",
      "hemoglobin_avg 38.82\n",
      "potassium_avg 20.86\n",
      "sodium_avg 33.93\n",
      "bun_avg 42.20\n",
      "wbc_avg 46.24\n",
      "percentage fo rows having all measures on a timestamp 46.04\n"
     ]
    },
    {
     "data": {
      "text/plain": [
       "589184"
      ]
     },
     "execution_count": 85,
     "metadata": {},
     "output_type": "execute_result"
    }
   ],
   "source": [
    "# LABS1 % of missing per column\n",
    "print(\"aniongap_avg %.2f\" % (dataset_labs.isnull().sum()[4]/dataset_labs.shape[0]*100) )\n",
    "print(\"bicarbonate_avg %.2f\" % (dataset_labs.isnull().sum()[5]/dataset_labs.shape[0]*100))\n",
    "print(\"creatinine_avg %.2f\" % (dataset_labs.isnull().sum()[6]/dataset_labs.shape[0]*100))\n",
    "print(\"chloride_avg %.2f\" % (dataset_labs.isnull().sum()[7]/dataset_labs.shape[0]*100))\n",
    "print(\"glucose_avg %.2f\" % (dataset_labs.isnull().sum()[8]/dataset_labs.shape[0]*100) )\n",
    "print(\"hematocrit_avg %.2f\" % (dataset_labs.isnull().sum()[9]/dataset_labs.shape[0]*100))\n",
    "print(\"hemoglobin_avg %.2f\" % (dataset_labs.isnull().sum()[10]/dataset_labs.shape[0]*100))\n",
    "print(\"potassium_avg %.2f\" % (dataset_labs.isnull().sum()[11]/dataset_labs.shape[0]*100))\n",
    "print(\"sodium_avg %.2f\" % (dataset_labs.isnull().sum()[12]/dataset_labs.shape[0]*100))\n",
    "print(\"bun_avg %.2f\" % (dataset_labs.isnull().sum()[13]/dataset_labs.shape[0]*100))\n",
    "print(\"wbc_avg %.2f\" % (dataset_labs.isnull().sum()[14]/dataset_labs.shape[0]*100))\n",
    "#print(\"lactate %.2f\" % (dataset_labs.isnull().sum()[17]/dataset_labs.shape[0]*100))\n",
    "#print(\"platelet %.2f\" % (dataset_labs.isnull().sum()[19]/dataset_labs.shape[0]*100))\n",
    "\n",
    "\n",
    "print(\"percentage fo rows having all measures on a timestamp %.2f\" % (dataset_labs.dropna().shape[0]/dataset_labs.shape[0]*100))\n",
    "dataset_labs.dropna().shape[0]"
   ]
  },
  {
   "cell_type": "code",
   "execution_count": 22,
   "metadata": {
    "scrolled": false
   },
   "outputs": [
    {
     "data": {
      "text/plain": [
       "subject_id              0\n",
       "hadm_id                 0\n",
       "icustay_id              0\n",
       "charttime               0\n",
       "aniongap_avg       551516\n",
       "bicarbonate_avg    539995\n",
       "creatinine_avg     537526\n",
       "chloride_avg       472049\n",
       "glucose_avg        342419\n",
       "hematocrit_avg     357857\n",
       "hemoglobin_avg     496776\n",
       "potassium_avg      266911\n",
       "sodium_avg         434181\n",
       "bun_avg            540020\n",
       "wbc_avg            591785\n",
       "dtype: int64"
      ]
     },
     "execution_count": 22,
     "metadata": {},
     "output_type": "execute_result"
    }
   ],
   "source": [
    "dataset_labs.isnull().sum()"
   ]
  },
  {
   "cell_type": "code",
   "execution_count": 23,
   "metadata": {
    "scrolled": true
   },
   "outputs": [
    {
     "data": {
      "text/plain": [
       "Index(['subject_id', 'hadm_id', 'icustay_id', 'charttime', 'aniongap_avg',\n",
       "       'bicarbonate_avg', 'creatinine_avg', 'chloride_avg', 'glucose_avg',\n",
       "       'hematocrit_avg', 'hemoglobin_avg', 'potassium_avg', 'sodium_avg',\n",
       "       'bun_avg', 'wbc_avg'],\n",
       "      dtype='object')"
      ]
     },
     "execution_count": 23,
     "metadata": {},
     "output_type": "execute_result"
    }
   ],
   "source": [
    "dataset_labs.columns"
   ]
  },
  {
   "cell_type": "code",
   "execution_count": 24,
   "metadata": {},
   "outputs": [
    {
     "name": "stdout",
     "output_type": "stream",
     "text": [
      "count    845592.00000\n",
      "mean        138.39087\n",
      "std           4.89839\n",
      "min         125.00000\n",
      "25%         135.00000\n",
      "50%         138.00000\n",
      "75%         141.00000\n",
      "max         151.00000\n",
      "dtype: object\n"
     ]
    }
   ],
   "source": [
    "a = describe_series(dataset_labs['sodium_avg'])\n",
    "print(a.apply(lambda x: '%.5f' % x, axis=1))\n"
   ]
  },
  {
   "cell_type": "code",
   "execution_count": 9,
   "metadata": {},
   "outputs": [
    {
     "name": "stdout",
     "output_type": "stream",
     "text": [
      "Merge creatinine and glucose.\n"
     ]
    }
   ],
   "source": [
    "print(\"Merge creatinine and glucose.\")\n",
    "# merge creatinine from labs and set with labels\n",
    "creat_l = dataset_labs[['icustay_id','charttime','creatinine_avg']].copy()\n",
    "creat_l = creat_l.dropna(subset=['creatinine_avg'])\n",
    "creat = X[['icustay_id','charttime', 'creat']].copy()\n",
    "creat = creat.dropna(subset=['creat'])\n",
    "creat_l = creat_l.rename(columns={\"creatinine_avg\": \"creat\"})\n",
    "creat = creat.append(creat_l, ignore_index=True)\n",
    "creat.drop_duplicates(inplace = True)\n",
    "#delete old columns\n",
    "dataset_labs.drop([\"creatinine_avg\"], axis = 1, inplace = True)\n",
    "dataset_labs = dataset_labs.dropna(subset=dataset_labs.columns[4:], how='all')\n",
    "X.drop([\"creat\"], axis = 1, inplace = True)\n",
    "#merge new column\n",
    "X = pd.merge(X, creat, on = [\"icustay_id\", \"charttime\"], sort = True, how= \"outer\", copy = False)\n",
    "if SELECTED_FEATURE_SET or MAX_FEATURE_SET:\n",
    "    # merge glucose from vitals and labs\n",
    "    glucose_v = dataset_vitals[['subject_id','hadm_id','icustay_id','charttime', 'glucose_mean']].copy()\n",
    "    glucose_v = glucose_v.dropna(subset=['glucose_mean'])\n",
    "    glucose = dataset_labs[['subject_id','hadm_id','icustay_id','charttime', 'glucose_avg']].copy()\n",
    "    glucose = glucose.dropna(subset=['glucose_avg'])\n",
    "    glucose_v = glucose_v.rename(columns={\"glucose_mean\": \"glucose_avg\"})\n",
    "    glucose = glucose.append(glucose_v, ignore_index=True)\n",
    "    glucose.drop_duplicates(inplace = True)\n",
    "    #delete old columns\n",
    "    dataset_labs.drop([\"glucose_avg\"], axis = 1, inplace = True)\n",
    "    dataset_vitals.drop([\"glucose_mean\"], axis = 1, inplace = True)\n",
    "    dataset_vitals = dataset_vitals.dropna(subset=dataset_vitals.columns[4:], how='all')\n",
    "    #merge new column\n",
    "    dataset_labs = pd.merge(dataset_labs, glucose, on = ['subject_id','hadm_id','icustay_id','charttime',], sort = True, how= \"outer\", copy = False)\n",
    "dataset_labs = dataset_labs.sort_values(by=['icustay_id', 'charttime'], ignore_index = True)\n",
    "X = X.sort_values(by=['icustay_id', 'charttime'], ignore_index = True)   "
   ]
  },
  {
   "cell_type": "code",
   "execution_count": 26,
   "metadata": {},
   "outputs": [
    {
     "name": "stdout",
     "output_type": "stream",
     "text": [
      "creat 81.24\n"
     ]
    }
   ],
   "source": [
    "print(\"creat %.2f\" % (X.isnull().sum()[6]/X.shape[0]*100))"
   ]
  },
  {
   "cell_type": "code",
   "execution_count": 27,
   "metadata": {},
   "outputs": [
    {
     "name": "stdout",
     "output_type": "stream",
     "text": [
      "count    758795.00000\n",
      "mean          1.57177\n",
      "std           1.54648\n",
      "min           0.30000\n",
      "25%           0.70000\n",
      "50%           1.00000\n",
      "75%           1.70000\n",
      "max           8.50000\n",
      "dtype: object\n"
     ]
    }
   ],
   "source": [
    "a = describe_series(X['creat'])\n",
    "print(a.apply(lambda x: '%.5f' % x, axis=1))"
   ]
  },
  {
   "cell_type": "code",
   "execution_count": 28,
   "metadata": {},
   "outputs": [
    {
     "name": "stdout",
     "output_type": "stream",
     "text": [
      "glucose_avg 15.42\n"
     ]
    }
   ],
   "source": [
    "print(\"glucose_avg %.2f\" % (dataset_labs.isnull().sum()[13]/dataset_labs.shape[0]*100))"
   ]
  },
  {
   "cell_type": "code",
   "execution_count": 29,
   "metadata": {},
   "outputs": [
    {
     "name": "stdout",
     "output_type": "stream",
     "text": [
      "count    1859581.00000\n",
      "mean         137.49621\n",
      "std           51.75584\n",
      "min           58.00000\n",
      "25%          104.00000\n",
      "50%          126.00000\n",
      "75%          157.00000\n",
      "max          350.00000\n",
      "dtype: object\n"
     ]
    }
   ],
   "source": [
    "a = describe_series(dataset_labs['glucose_avg'])\n",
    "print(a.apply(lambda x: '%.5f' % x, axis=1))"
   ]
  },
  {
   "cell_type": "code",
   "execution_count": 30,
   "metadata": {
    "scrolled": false
   },
   "outputs": [
    {
     "data": {
      "text/plain": [
       "subject_id               0\n",
       "hadm_id                  0\n",
       "icustay_id               0\n",
       "charttime                0\n",
       "aniongap_avg       1461145\n",
       "bicarbonate_avg    1449554\n",
       "chloride_avg       1381146\n",
       "hematocrit_avg     1268637\n",
       "hemoglobin_avg     1408025\n",
       "potassium_avg      1174712\n",
       "sodium_avg         1342985\n",
       "bun_avg            1449678\n",
       "wbc_avg            1503487\n",
       "glucose_avg         339045\n",
       "dtype: int64"
      ]
     },
     "execution_count": 30,
     "metadata": {},
     "output_type": "execute_result"
    }
   ],
   "source": [
    "dataset_labs.isnull().sum()"
   ]
  },
  {
   "cell_type": "code",
   "execution_count": 31,
   "metadata": {
    "scrolled": false
   },
   "outputs": [
    {
     "data": {
      "text/plain": [
       "icustay_id          0\n",
       "charttime           0\n",
       "uo_rt_6hr      740408\n",
       "uo_rt_12hr     740408\n",
       "uo_rt_24hr     740408\n",
       "aki_stage      271143\n",
       "creat         3285185\n",
       "dtype: int64"
      ]
     },
     "execution_count": 31,
     "metadata": {},
     "output_type": "execute_result"
    }
   ],
   "source": [
    "X.isnull().sum()"
   ]
  },
  {
   "cell_type": "code",
   "execution_count": 118,
   "metadata": {},
   "outputs": [
    {
     "name": "stdout",
     "output_type": "stream",
     "text": [
      "creat 81.24\n",
      "percentage fo rows having both measures on a timestamp 0.45\n"
     ]
    },
    {
     "data": {
      "text/plain": [
       "18387"
      ]
     },
     "execution_count": 118,
     "metadata": {},
     "output_type": "execute_result"
    }
   ],
   "source": [
    "# DATASET X % of missing per column\n",
    "print(\"creat %.2f\" % (X.isnull().sum()[6]/X.shape[0]*100))\n",
    "#print(\"uo_rt_6hr %.2f\" % (X.isnull().sum()[2]/X.shape[0]*100))\n",
    "print(\"percentage fo rows having both measures on a timestamp %.2f\" % (X.dropna().shape[0]/X.shape[0]*100))\n",
    "X.dropna().shape[0]"
   ]
  },
  {
   "cell_type": "code",
   "execution_count": 10,
   "metadata": {},
   "outputs": [
    {
     "name": "stdout",
     "output_type": "stream",
     "text": [
      "Merging labs, vitals and vents files\n"
     ]
    }
   ],
   "source": [
    "print(\"Merging labs, vitals and vents files\")\n",
    "#merge files with time-dependent data, based on icustay_id and charttime\n",
    "if SELECTED_FEATURE_SET or MAX_FEATURE_SET:\n",
    "    X = pd.merge(X, dataset_labs, on = [\"icustay_id\", \"charttime\"], how= \"outer\", copy = False)\n",
    "    X = pd.merge(X, dataset_vitals, on = [\"icustay_id\", \"charttime\",\"subject_id\", \"hadm_id\"], how= \"outer\", copy = False)\n",
    "    X = pd.merge(X, dataset_vents, on = [\"icustay_id\", \"charttime\"], how= \"outer\", copy = False) \n",
    "    X.drop([\"subject_id\"], axis = 1, inplace = True) \n"
   ]
  },
  {
   "cell_type": "code",
   "execution_count": 34,
   "metadata": {
    "scrolled": false
   },
   "outputs": [
    {
     "data": {
      "text/plain": [
       "56661"
      ]
     },
     "execution_count": 34,
     "metadata": {},
     "output_type": "execute_result"
    }
   ],
   "source": [
    "X['icustay_id'].nunique()"
   ]
  },
  {
   "cell_type": "code",
   "execution_count": 35,
   "metadata": {},
   "outputs": [
    {
     "data": {
      "text/plain": [
       "42078"
      ]
     },
     "execution_count": 35,
     "metadata": {},
     "output_type": "execute_result"
    }
   ],
   "source": [
    "dataset_detail['subject_id'].nunique()"
   ]
  },
  {
   "cell_type": "code",
   "execution_count": 11,
   "metadata": {},
   "outputs": [
    {
     "name": "stdout",
     "output_type": "stream",
     "text": [
      "start preprocessing time dependent data\n",
      "Removing patients under the min age\n"
     ]
    }
   ],
   "source": [
    "print(\"start preprocessing time dependent data\") # AL removed a line where rows with missing labels are deleted (we will ffil)\n",
    "print(\"Removing patients under the min age\")\n",
    "dataset_detail = dataset_detail.loc[dataset_detail['age'] >= ADULTS_MIN_AGE]\n",
    "adults_icustay_id_list = dataset_detail['icustay_id'].unique()\n",
    "X = X[X.icustay_id.isin(adults_icustay_id_list)].sort_values(by=['icustay_id'], ignore_index = True)\n",
    "X = X.sort_values(by=['icustay_id', 'charttime'], ignore_index = True)\n",
    "adults_icustay_id_list = np.sort(adults_icustay_id_list)"
   ]
  },
  {
   "cell_type": "code",
   "execution_count": 12,
   "metadata": {},
   "outputs": [
    {
     "name": "stdout",
     "output_type": "stream",
     "text": [
      "drop icustay_id with time span less than 48hrs\n",
      "2302 long stays\n",
      "there are 5214 id-s shorter than 48 hours\n"
     ]
    }
   ],
   "source": [
    "print(\"drop icustay_id with time span less than 48hrs\")\n",
    "def more_than_HOURS_ahead(adults_icustay_id_list, X):\n",
    "    drop_list = []\n",
    "    los_list = [] # calculating LOS ICU based on charttime\n",
    "    long_stays_id = [] # LOS longer than MAX DAYS days\n",
    "    last_charttime_list = []\n",
    "    seq_length = X.groupby(['icustay_id'],as_index=False).size()\n",
    "    id_count = 0\n",
    "    first_row_index = 0\n",
    "\n",
    "    while id_count < len(adults_icustay_id_list):\n",
    "        icustay_id = adults_icustay_id_list[id_count]\n",
    "        last_row_index = first_row_index + seq_length.iloc[id_count,1]-1\n",
    "        first_time = X.iat[first_row_index, X.columns.get_loc('charttime')]\n",
    "        last_time = X.iat[last_row_index, X.columns.get_loc('charttime')]\n",
    "        los = round(float((last_time - first_time).total_seconds()/60/60/24),4) # in days\n",
    "        if los < HOURS_AHEAD/24:\n",
    "            drop_list.append(icustay_id)\n",
    "        else:\n",
    "            los_list.append(los)\n",
    "            if los > MAX_DAYS:\n",
    "                long_stays_id.append(icustay_id)\n",
    "                last_charttime_list.append(last_time)\n",
    "        # udpate for the next icustay_id\n",
    "        first_row_index = last_row_index+1\n",
    "        id_count +=1\n",
    "    if len(long_stays_id) != len(last_charttime_list):\n",
    "        print('ERROR')\n",
    "    print(\"%d long stays\" % len(long_stays_id))\n",
    "    # drop all the rows with the saved icustay_id\n",
    "    print(\"there are %d id-s shorter than 48 hours\" % len(drop_list))\n",
    "    X = X[~X.icustay_id.isin(drop_list)]\n",
    "    id_list = X['icustay_id'].unique()\n",
    "    X = X.sort_values(by=['icustay_id', 'charttime'], ignore_index = True)\n",
    "    \n",
    "    return id_list, X, long_stays_id,last_charttime_list, los_list\n",
    "\n",
    "id_list, X, long_stays_id,last_charttime_list, los_list  = more_than_HOURS_ahead(adults_icustay_id_list, X)\n",
    "\n",
    "\n",
    "long = pd.DataFrame()\n",
    "long['icustay_id']  = long_stays_id\n",
    "long['last_time']  = last_charttime_list\n",
    "dataset_detail = dataset_detail[dataset_detail.icustay_id.isin(id_list)].sort_values(by=['icustay_id'], ignore_index = True)\n"
   ]
  },
  {
   "cell_type": "code",
   "execution_count": 123,
   "metadata": {},
   "outputs": [
    {
     "name": "stdout",
     "output_type": "stream",
     "text": [
      "47752\n"
     ]
    }
   ],
   "source": [
    "dataset_detail['ICU_LOS_days'] = los_list\n",
    "print(len(los_list))"
   ]
  },
  {
   "cell_type": "code",
   "execution_count": 134,
   "metadata": {},
   "outputs": [],
   "source": [
    "l1 = [los for los in dataset_detail['ICU_LOS_days'] if los >=30] #3200 records 6.7%\n",
    "l2 = [los for los in dataset_detail['ICU_LOS_days'] if los >=35] #2302 records 4.8%\n",
    "l3 = [los for los in dataset_detail['ICU_LOS_days'] if los >=40] #1690 records 3.5%\n",
    "l4 = [los for los in dataset_detail['ICU_LOS_days'] if los >=45] #1276 records  2.7%\n",
    "l5 = [los for los in dataset_detail['ICU_LOS_days'] if los >=50] #1020 records 2.1%\n",
    "l6 = [los for los in dataset_detail['ICU_LOS_days'] if los >=55] #802 records 1.7%"
   ]
  },
  {
   "cell_type": "code",
   "execution_count": 135,
   "metadata": {},
   "outputs": [
    {
     "data": {
      "text/plain": [
       "802"
      ]
     },
     "execution_count": 135,
     "metadata": {},
     "output_type": "execute_result"
    }
   ],
   "source": [
    "len(l6)"
   ]
  },
  {
   "cell_type": "code",
   "execution_count": 93,
   "metadata": {},
   "outputs": [
    {
     "name": "stdout",
     "output_type": "stream",
     "text": [
      "0 long stays\n",
      "there are 1 id-s shorter than 48 hours\n"
     ]
    }
   ],
   "source": [
    "# deleting rows that are not within MAX_DAYS (35) period\n",
    "i = 0 # long df index\n",
    "drop_long_time = []\n",
    "    \n",
    "while i < len(long_stays_id):\n",
    "    j = 0\n",
    "    all_rows = X.index[X['icustay_id'] == long.loc[i,'icustay_id']].tolist()\n",
    "    while j < len(all_rows):\n",
    "        time = X.iat[all_rows[j], X.columns.get_loc('charttime')]\n",
    "        # if keep last MAX_DAYS \n",
    "        if (long.loc[i,'last_time'] - time).total_seconds() > MAX_DAYS*24*60*60:\n",
    "            drop_long_time.append(all_rows[j])\n",
    "            j +=1\n",
    "        else:\n",
    "            break\n",
    "    i +=1       \n",
    "X.drop(X.index[drop_long_time], inplace=True) \n",
    "\n",
    "# checking for 48h min length again\n",
    "id_list, X, long_stays_id,last_charttime_list, los_list  = more_than_HOURS_ahead(id_list, X)\n",
    "dataset_detail = dataset_detail[dataset_detail.icustay_id.isin(id_list)].sort_values(by=['icustay_id'], ignore_index = True)\n"
   ]
  },
  {
   "cell_type": "code",
   "execution_count": 20,
   "metadata": {},
   "outputs": [
    {
     "data": {
      "text/plain": [
       "array([200001, 200003, 200006, ..., 299995, 299998, 299999])"
      ]
     },
     "execution_count": 20,
     "metadata": {},
     "output_type": "execute_result"
    }
   ],
   "source": [
    "id_list"
   ]
  },
  {
   "cell_type": "code",
   "execution_count": null,
   "metadata": {
    "scrolled": true
   },
   "outputs": [],
   "source": [
    "#subjects = list(dataset_detail['subject_id'].unique())\n",
    "#dataset_icd= dataset_icd[dataset_icd.subject_id.isin(subjects)].sort_values(by=['subject_id'], ignore_index = True)\n",
    "#dataset_icd['icd9_code'].value_counts().sort_values(ascending = False)"
   ]
  },
  {
   "cell_type": "code",
   "execution_count": 35,
   "metadata": {},
   "outputs": [],
   "source": [
    "seq_length = X.groupby(['icustay_id'],as_index=False).size()\n",
    "id_count = 0\n",
    "first_row_index = 0\n",
    "dead_id = []\n",
    "lastt = []\n",
    "deatht = []\n",
    "\n",
    "while id_count < dataset_detail.shape[0]:\n",
    "    #print(id_count)\n",
    "    icustay_id = id_list[id_count]\n",
    "    last_row_index = first_row_index + seq_length.iloc[id_count,1]-1\n",
    "    last_time = X.iat[last_row_index, X.columns.get_loc('charttime')]\n",
    "    death_time = dataset_detail.iat[id_count,dataset_detail.columns.get_loc('dod')]\n",
    "    if death_time==pd._libs.tslibs.nattype.NaTType:\n",
    "        pass\n",
    "    elif last_time>death_time:\n",
    "        dead_id.append(icustay_id)\n",
    "        lastt.append(last_time)\n",
    "        deatht.append(death_time)\n",
    "    id_count +=1\n",
    "    first_row_index = last_row_index+1\n",
    "    \n",
    "        "
   ]
  },
  {
   "cell_type": "code",
   "execution_count": 31,
   "metadata": {},
   "outputs": [
    {
     "data": {
      "text/plain": [
       "True"
      ]
     },
     "execution_count": 31,
     "metadata": {},
     "output_type": "execute_result"
    }
   ],
   "source": [
    "#dataset_detail = pd.read_csv(DATA_PATH_detail, sep= SEPARATOR)\n",
    "#dataset_detail = dataset_detail[dataset_detail.icustay_id.isin(id_list)].sort_values(by=['icustay_id'], ignore_index = True)\n",
    "dataset_detail['dod'] = pd.to_datetime(dataset_detail['dod'])\n",
    "type(dataset_detail.iloc[3,4])\n"
   ]
  },
  {
   "cell_type": "code",
   "execution_count": 36,
   "metadata": {},
   "outputs": [
    {
     "data": {
      "text/html": [
       "<div>\n",
       "<style scoped>\n",
       "    .dataframe tbody tr th:only-of-type {\n",
       "        vertical-align: middle;\n",
       "    }\n",
       "\n",
       "    .dataframe tbody tr th {\n",
       "        vertical-align: top;\n",
       "    }\n",
       "\n",
       "    .dataframe thead th {\n",
       "        text-align: right;\n",
       "    }\n",
       "</style>\n",
       "<table border=\"1\" class=\"dataframe\">\n",
       "  <thead>\n",
       "    <tr style=\"text-align: right;\">\n",
       "      <th></th>\n",
       "      <th>icustay_id</th>\n",
       "      <th>last</th>\n",
       "      <th>dod</th>\n",
       "    </tr>\n",
       "  </thead>\n",
       "  <tbody>\n",
       "    <tr>\n",
       "      <th>0</th>\n",
       "      <td>200019</td>\n",
       "      <td>2178-07-11 05:00:00</td>\n",
       "      <td>2178-07-11</td>\n",
       "    </tr>\n",
       "    <tr>\n",
       "      <th>1</th>\n",
       "      <td>200024</td>\n",
       "      <td>2127-03-03 20:00:00</td>\n",
       "      <td>2127-03-03</td>\n",
       "    </tr>\n",
       "    <tr>\n",
       "      <th>2</th>\n",
       "      <td>200033</td>\n",
       "      <td>2198-08-21 12:00:00</td>\n",
       "      <td>2198-08-21</td>\n",
       "    </tr>\n",
       "    <tr>\n",
       "      <th>3</th>\n",
       "      <td>200095</td>\n",
       "      <td>2113-10-31 00:15:00</td>\n",
       "      <td>2113-10-31</td>\n",
       "    </tr>\n",
       "    <tr>\n",
       "      <th>4</th>\n",
       "      <td>200102</td>\n",
       "      <td>2193-06-27 16:00:00</td>\n",
       "      <td>2193-06-27</td>\n",
       "    </tr>\n",
       "    <tr>\n",
       "      <th>...</th>\n",
       "      <td>...</td>\n",
       "      <td>...</td>\n",
       "      <td>...</td>\n",
       "    </tr>\n",
       "    <tr>\n",
       "      <th>3889</th>\n",
       "      <td>299813</td>\n",
       "      <td>2125-12-03 17:37:00</td>\n",
       "      <td>2125-12-03</td>\n",
       "    </tr>\n",
       "    <tr>\n",
       "      <th>3890</th>\n",
       "      <td>299852</td>\n",
       "      <td>2124-11-19 20:00:00</td>\n",
       "      <td>2124-11-19</td>\n",
       "    </tr>\n",
       "    <tr>\n",
       "      <th>3891</th>\n",
       "      <td>299867</td>\n",
       "      <td>2186-08-02 14:31:00</td>\n",
       "      <td>2186-08-02</td>\n",
       "    </tr>\n",
       "    <tr>\n",
       "      <th>3892</th>\n",
       "      <td>299889</td>\n",
       "      <td>2172-06-09 04:00:00</td>\n",
       "      <td>2172-06-09</td>\n",
       "    </tr>\n",
       "    <tr>\n",
       "      <th>3893</th>\n",
       "      <td>299895</td>\n",
       "      <td>2109-09-06 01:13:00</td>\n",
       "      <td>2109-09-06</td>\n",
       "    </tr>\n",
       "  </tbody>\n",
       "</table>\n",
       "<p>3894 rows × 3 columns</p>\n",
       "</div>"
      ],
      "text/plain": [
       "      icustay_id                last        dod\n",
       "0         200019 2178-07-11 05:00:00 2178-07-11\n",
       "1         200024 2127-03-03 20:00:00 2127-03-03\n",
       "2         200033 2198-08-21 12:00:00 2198-08-21\n",
       "3         200095 2113-10-31 00:15:00 2113-10-31\n",
       "4         200102 2193-06-27 16:00:00 2193-06-27\n",
       "...          ...                 ...        ...\n",
       "3889      299813 2125-12-03 17:37:00 2125-12-03\n",
       "3890      299852 2124-11-19 20:00:00 2124-11-19\n",
       "3891      299867 2186-08-02 14:31:00 2186-08-02\n",
       "3892      299889 2172-06-09 04:00:00 2172-06-09\n",
       "3893      299895 2109-09-06 01:13:00 2109-09-06\n",
       "\n",
       "[3894 rows x 3 columns]"
      ]
     },
     "execution_count": 36,
     "metadata": {},
     "output_type": "execute_result"
    }
   ],
   "source": [
    "dod = pd.DataFrame()\n",
    "dod['icustay_id']  = dead_id\n",
    "dod['last'] = lastt\n",
    "dod['dod'] = deatht\n",
    "dod"
   ]
  },
  {
   "cell_type": "markdown",
   "metadata": {},
   "source": [
    "# data description"
   ]
  },
  {
   "cell_type": "code",
   "execution_count": 37,
   "metadata": {},
   "outputs": [
    {
     "data": {
      "text/plain": [
       "[Text(0, 0, 'No AKI'),\n",
       " Text(1, 0, 'Only stage 1'),\n",
       " Text(2, 0, 'Only stage 2'),\n",
       " Text(3, 0, '1 and 2 stages'),\n",
       " Text(4, 0, 'Only stage 3'),\n",
       " Text(5, 0, '1 and 3 stages'),\n",
       " Text(6, 0, '2 and 3 stages'),\n",
       " Text(7, 0, 'All AKI stages')]"
      ]
     },
     "execution_count": 37,
     "metadata": {},
     "output_type": "execute_result"
    },
    {
     "data": {
      "image/png": "[encoded data removed]",
      "text/plain": [
       "<Figure size 576x432 with 1 Axes>"
      ]
     },
     "metadata": {},
     "output_type": "display_data"
    }
   ],
   "source": [
    "############################## AKI ############################################\n",
    "no_aki = []\n",
    "only_aki1 = []\n",
    "only_aki2=  []\n",
    "only_aki3 = []\n",
    "aki1_aki2 = []\n",
    "aki2_aki3 = []\n",
    "aki1_aki3 = []\n",
    "aki123 = []\n",
    "    \n",
    "for ID in id_list:\n",
    "    a = X.loc[X['icustay_id']==ID].aki_stage\n",
    "    if 1 in a.values and 2 in a.values and 3 in a.values:\n",
    "        aki123.append(ID)\n",
    "    if 1 in a.values and 2 in a.values and 3 not in a.values:\n",
    "        aki1_aki2.append(ID)\n",
    "    if 1 in a.values and 2 not in a.values and 3 in a.values:\n",
    "        aki1_aki3.append(ID)\n",
    "    if 1 not in a.values and 2 in a.values and 3 in a.values:\n",
    "        aki2_aki3.append(ID)\n",
    "    if 1 in a.values and 2 not in a.values and 3 not in a.values:\n",
    "        only_aki1.append(ID)\n",
    "    if 1 not in a.values and 2 in a.values and 3 not in a.values:\n",
    "        only_aki2.append(ID)\n",
    "    if 1 not in a.values and 2 not in a.values and 3 in a.values:\n",
    "        only_aki3.append(ID)\n",
    "    if 1 not in a.values and 2 not in a.values and 3 not in a.values:\n",
    "        no_aki.append(ID)\n",
    "    \n",
    "names =  ['No AKI', 'Only stage 1', 'Only stage 2', '1 and 2 stages','Only stage 3','1 and 3 stages', '2 and 3 stages','All AKI stages']      \n",
    "values =  [len(no_aki), len(only_aki1), len(only_aki2), len(aki1_aki2),len(only_aki3), len(aki1_aki3), len(aki2_aki3), len(aki123)]      \n",
    "aki = pd.DataFrame({'AKI stages':names, 'Number of ICU stays': values})\n",
    "sns.set_style('whitegrid')\n",
    "plt.figure(figsize=(8,6))\n",
    "chart = sns.barplot(x='AKI stages', y='Number of ICU stays', hue=None, data=aki, order=None, hue_order=None, units=None, seed=None, orient=None, color=None, palette='ch:2.5,-.2,dark=.3', saturation=0.75, errcolor='.26', errwidth=None, capsize=None, dodge=True, ax=None)\n",
    "chart.set_xticklabels(chart.get_xticklabels(), rotation=45,horizontalalignment='right', fontsize='x-large')"
   ]
  },
  {
   "cell_type": "code",
   "execution_count": 39,
   "metadata": {},
   "outputs": [
    {
     "data": {
      "text/plain": [
       "14338"
      ]
     },
     "execution_count": 39,
     "metadata": {},
     "output_type": "execute_result"
    }
   ],
   "source": [
    "len(no_aki)"
   ]
  },
  {
   "cell_type": "code",
   "execution_count": 40,
   "metadata": {},
   "outputs": [
    {
     "name": "stdout",
     "output_type": "stream",
     "text": [
      "3580\n"
     ]
    }
   ],
   "source": [
    "# 3580 out of those who died had AKI \n",
    "counter = 3894\n",
    "for i in dead_id:\n",
    "    if i in no_aki:\n",
    "        counter -=1\n",
    "print(counter)"
   ]
  },
  {
   "cell_type": "code",
   "execution_count": 37,
   "metadata": {},
   "outputs": [],
   "source": [
    "data_dict = {\n",
    "  \"No AKI\": len(no_aki),\n",
    "  \"Only stage 1\": len(only_aki1),\n",
    "  \"Only stage 2\": len(only_aki2),\n",
    "  \"1 and 2 stages\": len(aki1_aki2),\n",
    "  \"Only stage 3\": len(only_aki3),\n",
    "  \"1 and 3 stages\": len(aki1_aki3),\n",
    "  \"2 and 3 stages\": len(aki2_aki3),\n",
    "  \"All AKI stages\":len(aki123)    \n",
    "}"
   ]
  },
  {
   "cell_type": "code",
   "execution_count": 56,
   "metadata": {},
   "outputs": [
    {
     "data": {
      "text/plain": [
       "cat0   cat1   cat2 \n",
       "False  False  False      56\n",
       "              True      283\n",
       "       True   False    1279\n",
       "              True     5882\n",
       "True   False  False      24\n",
       "              True       90\n",
       "       True   False     429\n",
       "              True     1957\n",
       "Name: value, dtype: int64"
      ]
     },
     "execution_count": 56,
     "metadata": {},
     "output_type": "execute_result"
    }
   ],
   "source": [
    "from upsetplot import generate_counts\n",
    "example = generate_counts()\n",
    "example"
   ]
  },
  {
   "cell_type": "code",
   "execution_count": 75,
   "metadata": {},
   "outputs": [
    {
     "data": {
      "image/png": "[encoded data removed]",
      "text/plain": [
       "<Figure size 354.25x288 with 4 Axes>"
      ]
     },
     "metadata": {},
     "output_type": "display_data"
    }
   ],
   "source": [
    "import upsetplot\n",
    "from upsetplot import from_memberships\n",
    "\n",
    "  \n",
    "# Creating the row axis labels \n",
    "\n",
    "\n",
    "\n",
    "example = from_memberships(\n",
    "     [[],\n",
    "      ['AKI 1'],\n",
    "      ['AKI 2'],\n",
    "      ['AKI 1', 'AKI 2'],\n",
    "      ['AKI 3'],\n",
    "      ['AKI 1', 'AKI 3'],\n",
    "      ['AKI 2', 'AKI 3'],\n",
    "      ['AKI 1', 'AKI 2', 'AKI 3'],\n",
    "      ],\n",
    "      data=[len(no_aki), len(only_aki1),len(only_aki2),len(aki1_aki2),len(only_aki3),len(aki1_aki3),len(aki2_aki3),\n",
    "           len(aki123)]\n",
    " )\n",
    "\n",
    "#example.index = ['No AKI', 'Only stage 1', 'Only stage 2', '1 and 2 stages', 'Only stage 3', '1 and 3 stages', '2 and 3 stages','All AKI stages' ]  \n",
    "\n",
    "from upsetplot import plot\n",
    "plot(example) \n",
    "plt.savefig('Upset.png', dpi = 300) \n",
    "\n",
    "#plt.show()  \n",
    "\n",
    "#example\n"
   ]
  },
  {
   "cell_type": "code",
   "execution_count": 40,
   "metadata": {},
   "outputs": [],
   "source": [
    "if ALL_STAGES:\n",
    "    pass\n",
    "elif CLASS1:\n",
    "    X.loc[X['aki_stage'] > 1, 'aki_stage'] = 1\n",
    "elif CLASS2:\n",
    "    X.loc[X['aki_stage'] < 2, 'aki_stage'] = 0\n",
    "    X.loc[X['aki_stage'] > 1, 'aki_stage'] = 1\n",
    "elif CLASS3:\n",
    "    X.loc[X['aki_stage'] < 3, 'aki_stage'] = 0\n",
    "    X.loc[X['aki_stage'] > 2, 'aki_stage'] = 1"
   ]
  },
  {
   "cell_type": "code",
   "execution_count": 41,
   "metadata": {},
   "outputs": [
    {
     "name": "stdout",
     "output_type": "stream",
     "text": [
      "47751\n",
      "47751\n",
      "34516\n"
     ]
    }
   ],
   "source": [
    "print(dataset_detail['icustay_id'].nunique())\n",
    "print(X['icustay_id'].nunique())\n",
    "print(dataset_detail['subject_id'].nunique())\n"
   ]
  },
  {
   "cell_type": "code",
   "execution_count": 42,
   "metadata": {},
   "outputs": [
    {
     "name": "stdout",
     "output_type": "stream",
     "text": [
      "lists_done\n",
      "patients with AKI\n",
      "24935\n",
      "patients without AKI\n",
      "9581\n"
     ]
    }
   ],
   "source": [
    "# DEVISION BY ICUSTAY ID\n",
    "positive_list = []\n",
    "negative_list = []\n",
    "  \n",
    "for ID in id_list:\n",
    "    a = X.loc[X['icustay_id']==ID].aki_stage\n",
    "    if 1 in a.values:\n",
    "        positive_list.append(ID)\n",
    "    else:\n",
    "        negative_list.append(ID)\n",
    "\n",
    "print(\"lists_done\")\n",
    "############################ 1) DETAIL FILE ###################################\n",
    "\n",
    "subj_pos = []\n",
    "subj_neg = []\n",
    "patients_id = dataset_detail['subject_id'].unique()\n",
    "\n",
    "for ID in patients_id:\n",
    "    a = dataset_detail.loc[dataset_detail['subject_id']==ID].icustay_id\n",
    "    b=0\n",
    "    for stayid in a:\n",
    "        if stayid in positive_list:\n",
    "            b=b+1\n",
    "    if b>0:\n",
    "        subj_pos.append(ID)\n",
    "    else:\n",
    "        subj_neg.append(ID) \n",
    "# DEVISION BY PATIENT\n",
    "dataset_pos = dataset_detail[dataset_detail.subject_id.isin(subj_pos)].sort_values(by=['icustay_id'])\n",
    "dataset_neg = dataset_detail[dataset_detail.subject_id.isin(subj_neg)].sort_values(by=['icustay_id'])\n",
    "    \n",
    "print(\"patients with AKI\")\n",
    "print(len(subj_pos))\n",
    "print(\"patients without AKI\")\n",
    "print(len(subj_neg))"
   ]
  },
  {
   "cell_type": "code",
   "execution_count": 43,
   "metadata": {},
   "outputs": [
    {
     "name": "stdout",
     "output_type": "stream",
     "text": [
      "18+ 9581 unique patient id-s.\n",
      "There are 5382 male patients and 4199 female patients.\n",
      " \n",
      "white       6712\n",
      "unknown     1048\n",
      "black        779\n",
      "hispanic     406\n",
      "asian        332\n",
      "other        298\n",
      "native         6\n",
      "Name: ethnicity, dtype: int64\n"
     ]
    }
   ],
   "source": [
    "#1 All\n",
    "#df = dataset_detail.copy(deep = True)\n",
    "#2 without AKI (option1)\n",
    "df = dataset_neg.copy(deep = True)   \n",
    "#3 WITH AKI (Option2)\n",
    "#df = dataset_pos.copy(deep = True)\n",
    "\n",
    "### patients\n",
    "\n",
    "print(\"18+ \" +str(df['subject_id'].nunique()) +\" unique patient id-s.\")   \n",
    "subject = []\n",
    "ethnicity = []\n",
    "gender = []\n",
    "row = -1\n",
    "while row < df.shape[0]-1:\n",
    "    row = row+1\n",
    "    if df.iat[row, df.columns.get_loc('subject_id')] in subject:\n",
    "        continue\n",
    "    else:\n",
    "        subject.append(df.iat[row, df.columns.get_loc('subject_id')])\n",
    "        gender.append(df.iat[row, df.columns.get_loc('gender')])\n",
    "        ethnicity.append(df.iat[row, df.columns.get_loc('ethnicity_grouped')])\n",
    "        '''if df.iat[row, df.columns.get_loc('age')] >=89: \n",
    "            age.append(90)\n",
    "        else:\n",
    "            age.append(df.iat[row, df.columns.get_loc('age')])'''\n",
    "            \n",
    "patients = pd.DataFrame({'subject_id':subject, 'ethnicity': ethnicity, 'gender': gender})\n",
    "                            \n",
    "gender = patients['gender'].value_counts()\n",
    "print(\"There are \"+ str(gender[0])+ \" male patients and \" + str(gender[1])+ \" female patients.\\n \")      \n",
    "print(patients['ethnicity'].value_counts())"
   ]
  },
  {
   "cell_type": "code",
   "execution_count": 44,
   "metadata": {},
   "outputs": [
    {
     "name": "stdout",
     "output_type": "stream",
     "text": [
      "\n",
      " In icustay detail file there are 33909 admition id-s.\n"
     ]
    },
    {
     "ename": "KeyError",
     "evalue": "'los_hospital'",
     "output_type": "error",
     "traceback": [
      "\u001b[0;31m---------------------------------------------------------------------------\u001b[0m",
      "\u001b[0;31mKeyError\u001b[0m                                  Traceback (most recent call last)",
      "\u001b[0;32m/opt/anaconda3/lib/python3.8/site-packages/pandas/core/indexes/base.py\u001b[0m in \u001b[0;36mget_loc\u001b[0;34m(self, key, method, tolerance)\u001b[0m\n\u001b[1;32m   3079\u001b[0m             \u001b[0;32mtry\u001b[0m\u001b[0;34m:\u001b[0m\u001b[0;34m\u001b[0m\u001b[0;34m\u001b[0m\u001b[0m\n\u001b[0;32m-> 3080\u001b[0;31m                 \u001b[0;32mreturn\u001b[0m \u001b[0mself\u001b[0m\u001b[0;34m.\u001b[0m\u001b[0m_engine\u001b[0m\u001b[0;34m.\u001b[0m\u001b[0mget_loc\u001b[0m\u001b[0;34m(\u001b[0m\u001b[0mcasted_key\u001b[0m\u001b[0;34m)\u001b[0m\u001b[0;34m\u001b[0m\u001b[0;34m\u001b[0m\u001b[0m\n\u001b[0m\u001b[1;32m   3081\u001b[0m             \u001b[0;32mexcept\u001b[0m \u001b[0mKeyError\u001b[0m \u001b[0;32mas\u001b[0m \u001b[0merr\u001b[0m\u001b[0;34m:\u001b[0m\u001b[0;34m\u001b[0m\u001b[0;34m\u001b[0m\u001b[0m\n",
      "\u001b[0;32mpandas/_libs/index.pyx\u001b[0m in \u001b[0;36mpandas._libs.index.IndexEngine.get_loc\u001b[0;34m()\u001b[0m\n",
      "\u001b[0;32mpandas/_libs/index.pyx\u001b[0m in \u001b[0;36mpandas._libs.index.IndexEngine.get_loc\u001b[0;34m()\u001b[0m\n",
      "\u001b[0;32mpandas/_libs/hashtable_class_helper.pxi\u001b[0m in \u001b[0;36mpandas._libs.hashtable.PyObjectHashTable.get_item\u001b[0;34m()\u001b[0m\n",
      "\u001b[0;32mpandas/_libs/hashtable_class_helper.pxi\u001b[0m in \u001b[0;36mpandas._libs.hashtable.PyObjectHashTable.get_item\u001b[0;34m()\u001b[0m\n",
      "\u001b[0;31mKeyError\u001b[0m: 'los_hospital'",
      "\nThe above exception was the direct cause of the following exception:\n",
      "\u001b[0;31mKeyError\u001b[0m                                  Traceback (most recent call last)",
      "\u001b[0;32m<ipython-input-44-21ea9c2d6ecb>\u001b[0m in \u001b[0;36m<module>\u001b[0;34m\u001b[0m\n\u001b[1;32m     20\u001b[0m         \u001b[0maid\u001b[0m\u001b[0;34m.\u001b[0m\u001b[0mappend\u001b[0m\u001b[0;34m(\u001b[0m\u001b[0mdf\u001b[0m\u001b[0;34m.\u001b[0m\u001b[0miat\u001b[0m\u001b[0;34m[\u001b[0m\u001b[0mrow\u001b[0m\u001b[0;34m,\u001b[0m \u001b[0mdf\u001b[0m\u001b[0;34m.\u001b[0m\u001b[0mcolumns\u001b[0m\u001b[0;34m.\u001b[0m\u001b[0mget_loc\u001b[0m\u001b[0;34m(\u001b[0m\u001b[0;34m'hadm_id'\u001b[0m\u001b[0;34m)\u001b[0m\u001b[0;34m]\u001b[0m\u001b[0;34m)\u001b[0m\u001b[0;34m\u001b[0m\u001b[0;34m\u001b[0m\u001b[0m\n\u001b[1;32m     21\u001b[0m         \u001b[0matype\u001b[0m\u001b[0;34m.\u001b[0m\u001b[0mappend\u001b[0m\u001b[0;34m(\u001b[0m\u001b[0mdf\u001b[0m\u001b[0;34m.\u001b[0m\u001b[0miat\u001b[0m\u001b[0;34m[\u001b[0m\u001b[0mrow\u001b[0m\u001b[0;34m,\u001b[0m \u001b[0mdf\u001b[0m\u001b[0;34m.\u001b[0m\u001b[0mcolumns\u001b[0m\u001b[0;34m.\u001b[0m\u001b[0mget_loc\u001b[0m\u001b[0;34m(\u001b[0m\u001b[0;34m'admission_type'\u001b[0m\u001b[0;34m)\u001b[0m\u001b[0;34m]\u001b[0m\u001b[0;34m)\u001b[0m\u001b[0;34m\u001b[0m\u001b[0;34m\u001b[0m\u001b[0m\n\u001b[0;32m---> 22\u001b[0;31m         \u001b[0mlos_hosp\u001b[0m\u001b[0;34m.\u001b[0m\u001b[0mappend\u001b[0m\u001b[0;34m(\u001b[0m\u001b[0mdf\u001b[0m\u001b[0;34m.\u001b[0m\u001b[0miat\u001b[0m\u001b[0;34m[\u001b[0m\u001b[0mrow\u001b[0m\u001b[0;34m,\u001b[0m \u001b[0mdf\u001b[0m\u001b[0;34m.\u001b[0m\u001b[0mcolumns\u001b[0m\u001b[0;34m.\u001b[0m\u001b[0mget_loc\u001b[0m\u001b[0;34m(\u001b[0m\u001b[0;34m'los_hospital'\u001b[0m\u001b[0;34m)\u001b[0m\u001b[0;34m]\u001b[0m\u001b[0;34m)\u001b[0m\u001b[0;34m\u001b[0m\u001b[0;34m\u001b[0m\u001b[0m\n\u001b[0m\u001b[1;32m     23\u001b[0m     \u001b[0;32mif\u001b[0m \u001b[0mdf\u001b[0m\u001b[0;34m.\u001b[0m\u001b[0miat\u001b[0m\u001b[0;34m[\u001b[0m\u001b[0mrow\u001b[0m\u001b[0;34m,\u001b[0m \u001b[0mdf\u001b[0m\u001b[0;34m.\u001b[0m\u001b[0mcolumns\u001b[0m\u001b[0;34m.\u001b[0m\u001b[0mget_loc\u001b[0m\u001b[0;34m(\u001b[0m\u001b[0;34m'age'\u001b[0m\u001b[0;34m)\u001b[0m\u001b[0;34m]\u001b[0m \u001b[0;34m>=\u001b[0m \u001b[0;36m89\u001b[0m\u001b[0;34m:\u001b[0m\u001b[0;34m\u001b[0m\u001b[0;34m\u001b[0m\u001b[0m\n\u001b[1;32m     24\u001b[0m         \u001b[0mdf\u001b[0m\u001b[0;34m.\u001b[0m\u001b[0miat\u001b[0m\u001b[0;34m[\u001b[0m\u001b[0mrow\u001b[0m\u001b[0;34m,\u001b[0m \u001b[0mdf\u001b[0m\u001b[0;34m.\u001b[0m\u001b[0mcolumns\u001b[0m\u001b[0;34m.\u001b[0m\u001b[0mget_loc\u001b[0m\u001b[0;34m(\u001b[0m\u001b[0;34m'age'\u001b[0m\u001b[0;34m)\u001b[0m\u001b[0;34m]\u001b[0m\u001b[0;34m=\u001b[0m\u001b[0;36m90\u001b[0m\u001b[0;34m\u001b[0m\u001b[0;34m\u001b[0m\u001b[0m\n",
      "\u001b[0;32m/opt/anaconda3/lib/python3.8/site-packages/pandas/core/indexes/base.py\u001b[0m in \u001b[0;36mget_loc\u001b[0;34m(self, key, method, tolerance)\u001b[0m\n\u001b[1;32m   3080\u001b[0m                 \u001b[0;32mreturn\u001b[0m \u001b[0mself\u001b[0m\u001b[0;34m.\u001b[0m\u001b[0m_engine\u001b[0m\u001b[0;34m.\u001b[0m\u001b[0mget_loc\u001b[0m\u001b[0;34m(\u001b[0m\u001b[0mcasted_key\u001b[0m\u001b[0;34m)\u001b[0m\u001b[0;34m\u001b[0m\u001b[0;34m\u001b[0m\u001b[0m\n\u001b[1;32m   3081\u001b[0m             \u001b[0;32mexcept\u001b[0m \u001b[0mKeyError\u001b[0m \u001b[0;32mas\u001b[0m \u001b[0merr\u001b[0m\u001b[0;34m:\u001b[0m\u001b[0;34m\u001b[0m\u001b[0;34m\u001b[0m\u001b[0m\n\u001b[0;32m-> 3082\u001b[0;31m                 \u001b[0;32mraise\u001b[0m \u001b[0mKeyError\u001b[0m\u001b[0;34m(\u001b[0m\u001b[0mkey\u001b[0m\u001b[0;34m)\u001b[0m \u001b[0;32mfrom\u001b[0m \u001b[0merr\u001b[0m\u001b[0;34m\u001b[0m\u001b[0;34m\u001b[0m\u001b[0m\n\u001b[0m\u001b[1;32m   3083\u001b[0m \u001b[0;34m\u001b[0m\u001b[0m\n\u001b[1;32m   3084\u001b[0m         \u001b[0;32mif\u001b[0m \u001b[0mtolerance\u001b[0m \u001b[0;32mis\u001b[0m \u001b[0;32mnot\u001b[0m \u001b[0;32mNone\u001b[0m\u001b[0;34m:\u001b[0m\u001b[0;34m\u001b[0m\u001b[0;34m\u001b[0m\u001b[0m\n",
      "\u001b[0;31mKeyError\u001b[0m: 'los_hospital'"
     ]
    }
   ],
   "source": [
    "#1 All\n",
    "#df = dataset_detail.copy(deep = True)\n",
    "#2 without AKI (option1)\n",
    "#df = dataset_neg.copy(deep = True)   \n",
    "#3 WITH AKI (Option2)\n",
    "df = dataset_pos.copy(deep = True)\n",
    "\n",
    "###########################  ADMISSIONS #######################################\n",
    "print(\"\\n In icustay detail file there are \" +str(df['hadm_id'].nunique())+ \" admition id-s.\")\n",
    "        \n",
    "atype = []\n",
    "aid = []\n",
    "los_hosp = []\n",
    "row = -1\n",
    "while row < df.shape[0]-1:\n",
    "    row = row+1\n",
    "    if df.iat[row, df.columns.get_loc('hadm_id')] in aid:\n",
    "        continue\n",
    "    else:\n",
    "        aid.append(df.iat[row, df.columns.get_loc('hadm_id')])\n",
    "        atype.append(df.iat[row, df.columns.get_loc('admission_type')])\n",
    "        los_hosp.append(df.iat[row, df.columns.get_loc('los_hospital')])\n",
    "    if df.iat[row, df.columns.get_loc('age')] >= 89:\n",
    "        df.iat[row, df.columns.get_loc('age')]=90\n",
    "                \n",
    "adm = pd.DataFrame({'hadm_id':aid, 'type': atype, 'los_hosp': los_hosp})\n",
    "print(\"types of admission\\n\")\n",
    "print(adm['type'].value_counts())\n",
    "#print(\"\\n los in hospital \\n\")\n",
    "#print(adm['los_hosp'].describe()) "
   ]
  },
  {
   "cell_type": "code",
   "execution_count": null,
   "metadata": {},
   "outputs": [],
   "source": [
    "#1 All\n",
    "df = dataset_detail.copy(deep = True)\n",
    "#2 without AKI (option1)\n",
    "#df = dataset_neg.copy(deep = True)   \n",
    "#3 WITH AKI (Option2)\n",
    "#df = dataset_pos.copy(deep = True)\n",
    "\n",
    "###########################  ICU STAYS ########################################\n",
    "   \n",
    "#icu_stays = df['subject_id'].value_counts()\n",
    "#print(\"stays per patient \\n\")\n",
    "#print(icu_stays.value_counts())\n",
    "#print('\\n age description\\n')\n",
    "#print(df['age'].describe())\n",
    "\n",
    "#print(df[\"ICU_LOS_days\"].describe())\n",
    "#print(df[\"ICU_LOS_days\"].median())\n",
    "\n",
    "#df['ICU_LOS_days'].quantile(0.95)\n",
    "\n",
    "df['icustay_id'].nunique()"
   ]
  },
  {
   "cell_type": "code",
   "execution_count": 46,
   "metadata": {},
   "outputs": [
    {
     "ename": "NameError",
     "evalue": "name 'los_list' is not defined",
     "output_type": "error",
     "traceback": [
      "\u001b[0;31m---------------------------------------------------------------------------\u001b[0m",
      "\u001b[0;31mNameError\u001b[0m                                 Traceback (most recent call last)",
      "\u001b[0;32m<ipython-input-46-d50abee19e82>\u001b[0m in \u001b[0;36m<module>\u001b[0;34m\u001b[0m\n\u001b[0;32m----> 1\u001b[0;31m \u001b[0mlen\u001b[0m\u001b[0;34m(\u001b[0m\u001b[0mlos_list\u001b[0m\u001b[0;34m)\u001b[0m\u001b[0;34m\u001b[0m\u001b[0;34m\u001b[0m\u001b[0m\n\u001b[0m",
      "\u001b[0;31mNameError\u001b[0m: name 'los_list' is not defined"
     ]
    }
   ],
   "source": [
    "len(los_list)"
   ]
  },
  {
   "cell_type": "code",
   "execution_count": 94,
   "metadata": {},
   "outputs": [
    {
     "name": "stderr",
     "output_type": "stream",
     "text": [
      "/opt/anaconda3/lib/python3.8/site-packages/seaborn/distributions.py:2557: FutureWarning: `distplot` is a deprecated function and will be removed in a future version. Please adapt your code to use either `displot` (a figure-level function with similar flexibility) or `kdeplot` (an axes-level function for kernel density plots).\n",
      "  warnings.warn(msg, FutureWarning)\n"
     ]
    },
    {
     "data": {
      "image/png": "[encoded data removed]",
      "text/plain": [
       "<Figure size 576x432 with 1 Axes>"
      ]
     },
     "metadata": {},
     "output_type": "display_data"
    }
   ],
   "source": [
    "import seaborn as sns\n",
    "df = dataset_detail.copy(deep = True)\n",
    "    \n",
    "sns.set_style('whitegrid')\n",
    "plt.figure(figsize=(8,6))\n",
    "los = sns.distplot (df['ICU_LOS_days'], bins=None, hist=False, kde=True, rug=False, fit=None, hist_kws=None, kde_kws=None, \n",
    "                        rug_kws=None, fit_kws=None, color='Green', vertical=False, norm_hist=False, axlabel='LOS ICU, days', \n",
    "                        ax=None)\n",
    "plt.title('ICU stays’ LOSes probability density function for the kernel density estimation')\n",
    "plt.savefig('dencity_stays_full.png', dpi = 300, bbox_inches='tight')"
   ]
  },
  {
   "cell_type": "code",
   "execution_count": 96,
   "metadata": {},
   "outputs": [
    {
     "name": "stderr",
     "output_type": "stream",
     "text": [
      "/opt/anaconda3/lib/python3.8/site-packages/seaborn/distributions.py:2557: FutureWarning: `distplot` is a deprecated function and will be removed in a future version. Please adapt your code to use either `displot` (a figure-level function with similar flexibility) or `kdeplot` (an axes-level function for kernel density plots).\n",
      "  warnings.warn(msg, FutureWarning)\n",
      "No handles with labels found to put in legend.\n"
     ]
    },
    {
     "name": "stdout",
     "output_type": "stream",
     "text": [
      "(45450, 8)\n",
      "(45450, 8)\n"
     ]
    },
    {
     "data": {
      "image/png": "[encoded data removed]",
      "text/plain": [
       "<Figure size 648x432 with 1 Axes>"
      ]
     },
     "metadata": {},
     "output_type": "display_data"
    }
   ],
   "source": [
    "print(df.shape)\n",
    "df = df.loc[df['ICU_LOS_days'] < 35]\n",
    "print(df.shape)\n",
    "sns.set_style('whitegrid')\n",
    "plt.figure(figsize=(9,6))\n",
    "los = sns.distplot (df['ICU_LOS_days'], bins=None, hist=False, kde=True, rug=False, fit=None, hist_kws=None, kde_kws=None, \n",
    "                        rug_kws=None, fit_kws=None, color='Green', vertical=False, norm_hist=False, axlabel='LOS ICU, days', \n",
    "                        ax=None)\n",
    "plt.legend(loc='upper right')\n",
    "plt.title('ICU stays’ LOSes probability density function for the kernel density estimation')\n",
    "plt.savefig('dencity_stays_shortened.png', dpi = 300, bbox_inches='tight')"
   ]
  },
  {
   "cell_type": "code",
   "execution_count": 96,
   "metadata": {},
   "outputs": [],
   "source": [
    "if SELECTED_FEATURE_SET or MAX_FEATURE_SET:\n",
    "    # AL create a dictionary for hadm\n",
    "    hadm = dataset_detail.filter(['hadm_id','icustay_id'],axis = 1)\n",
    "    dict_hadm = pd.Series(hadm.hadm_id.values,index=hadm.icustay_id).to_dict()\n",
    "    # fill in the missing values (to ensure correct merging of icd below)\n",
    "    X.hadm_id = X.hadm_id.fillna(FILL_VALUE)\n",
    "    # AL change the type to prevent warning of merging int on float\n",
    "    X = X.astype({\"hadm_id\": int})\n",
    "    a = -1\n",
    "    while a < X.shape[0]-1:\n",
    "        a = a+1\n",
    "        if X.iat[a, X.columns.get_loc('hadm_id')] !=-1 :\n",
    "            continue\n",
    "        elif X.iat[a, X.columns.get_loc('hadm_id')]==-1:\n",
    "            X.iat[a, X.columns.get_loc('hadm_id')] = dict_hadm[X.iat[a, X.columns.get_loc('icustay_id')]]\n"
   ]
  },
  {
   "cell_type": "code",
   "execution_count": null,
   "metadata": {},
   "outputs": [],
   "source": [
    "X[\"ICU_LOS_days\"].isnull().sum()"
   ]
  },
  {
   "cell_type": "code",
   "execution_count": 63,
   "metadata": {},
   "outputs": [
    {
     "data": {
      "text/plain": [
       "(47752, 1)"
      ]
     },
     "execution_count": 63,
     "metadata": {},
     "output_type": "execute_result"
    }
   ],
   "source": [
    "los_calculated.shape"
   ]
  },
  {
   "cell_type": "code",
   "execution_count": 58,
   "metadata": {},
   "outputs": [
    {
     "name": "stdout",
     "output_type": "stream",
     "text": [
      "\n",
      " LOS description \n",
      "\n",
      "count     11930148.00\n",
      "unique        4482.00\n",
      "top             30.81\n",
      "freq         45785.00\n",
      "Name: ICU_LOS_days, dtype: float64\n"
     ]
    }
   ],
   "source": [
    "# correct here\n",
    "print('\\n LOS description \\n')\n",
    "print(X['ICU_LOS_days'].describe())\n",
    "\n",
    "\n",
    "#df['ICU_LOS_days'].mean()\n",
    "#df['ICU_LOS_days'].quantile(0.25)\n",
    "#df['ICU_LOS_days'].quantile(0.5)\n",
    "#df['ICU_LOS_days'].quantile(0.75)"
   ]
  },
  {
   "cell_type": "code",
   "execution_count": 20,
   "metadata": {},
   "outputs": [
    {
     "name": "stdout",
     "output_type": "stream",
     "text": [
      "47752\n",
      "47752\n",
      "34516\n"
     ]
    }
   ],
   "source": [
    "\n",
    "print(dataset_detail['icustay_id'].nunique())\n",
    "print(X['icustay_id'].nunique())\n",
    "print(dataset_detail['subject_id'].nunique())\n"
   ]
  },
  {
   "cell_type": "code",
   "execution_count": null,
   "metadata": {},
   "outputs": [],
   "source": []
  },
  {
   "cell_type": "code",
   "execution_count": null,
   "metadata": {},
   "outputs": [],
   "source": []
  },
  {
   "cell_type": "code",
   "execution_count": null,
   "metadata": {},
   "outputs": [],
   "source": []
  },
  {
   "cell_type": "code",
   "execution_count": null,
   "metadata": {},
   "outputs": [],
   "source": []
  },
  {
   "cell_type": "markdown",
   "metadata": {},
   "source": [
    "# For testing purpose, use small amount of data first"
   ]
  },
  {
   "cell_type": "code",
   "execution_count": 310,
   "metadata": {},
   "outputs": [],
   "source": [
    "#For testing purpose, use small amount of data first\n",
    "if TESTING:\n",
    "    rest, id_list = train_test_split(id_list, test_size= 0.01, random_state=42)\n",
    "    X = X[X.icustay_id.isin(id_list)].sort_values(by=['icustay_id'])\n",
    "    dataset_detail = dataset_detail[dataset_detail.icustay_id.isin(id_list)].sort_values(by=['icustay_id'])"
   ]
  },
  {
   "cell_type": "markdown",
   "metadata": {},
   "source": [
    "# Resample  and impute"
   ]
  },
  {
   "cell_type": "code",
   "execution_count": 97,
   "metadata": {},
   "outputs": [
    {
     "name": "stdout",
     "output_type": "stream",
     "text": [
      "resampling: MEAN & ZERO\n",
      "Merging sampled features\n"
     ]
    }
   ],
   "source": [
    "if (TIME_SAMPLING and MOST_COMMON):\n",
    "    print(\"resampling: MOST_COMMON\")\n",
    "    # Resample the data using assigned interval,mode() for most common\n",
    "    X = X.set_index('charttime').groupby('icustay_id').resample(SAMPLING_INTERVAL).mode().reset_index()  \n",
    "elif TIME_SAMPLING:\n",
    "    print(\"resampling: MEAN & ZERO\")\n",
    "    # Sampling with different strategies per kind of variable\n",
    "    # AL adding if-else to make it work\n",
    "    label = ['aki_stage']\n",
    "    skip = ['icustay_id', 'charttime', 'aki_stage']\n",
    "    if SELECTED_FEATURE_SET or MAX_FEATURE_SET:\n",
    "        discrete_feat = ['sedative', 'vasopressor', 'vent', 'hadm_id']\n",
    "        skip.extend(discrete_feat)    \n",
    "    # all features that are not in skip are numeric\n",
    "    numeric_feat = list(X.columns.difference(skip))\n",
    "    \n",
    "    # Applying aggregation to features depending on their type\n",
    "    X = X.set_index('charttime').groupby('icustay_id').resample(SAMPLING_INTERVAL)\n",
    "    if SELECTED_FEATURE_SET or MAX_FEATURE_SET:\n",
    "        X_discrete = X[discrete_feat].max().fillna(FILL_VALUE).astype(np.int64)\n",
    "    X_numeric = X[numeric_feat].mean()\n",
    "    X_label = X['aki_stage'].max().ffill(limit=RESAMPLE_LIMIT)\n",
    "    \n",
    "    \n",
    "    print(\"Merging sampled features\")\n",
    "    try:\n",
    "        X = pd.concat([X_numeric, X_discrete,X_label], axis=1).reset_index()\n",
    "    except:\n",
    "        X = pd.concat([X_numeric,X_label], axis=1).reset_index()\n"
   ]
  },
  {
   "cell_type": "code",
   "execution_count": 206,
   "metadata": {},
   "outputs": [
    {
     "name": "stdout",
     "output_type": "stream",
     "text": [
      "albumin_avg 95.14\n",
      "aniongap_avg 71.15\n",
      "bicarbonate_avg 70.69\n",
      "bilirubin_avg 92.59\n",
      "bun_avg 70.14\n",
      "chloride_avg 69.37\n",
      "creat 69.54\n",
      "diasbp_mean 62.14\n",
      "glucose_avg 54.11\n",
      "heartrate_mean 61.82\n",
      "hematocrit_avg 66.95\n",
      "hemoglobin_avg 71.48\n",
      "potassium_avg 64.52\n",
      "resprate_mean 62.01\n",
      "sodium_avg 68.43\n",
      "spo2 62.22\n",
      "sysbp_mean 62.14\n",
      "uo_rt_6hr 67.35\n",
      "wbc_avg 72.64\n",
      "percentage fo rows having both measures on a timestamp 1.15\n",
      "24870\n"
     ]
    },
    {
     "data": {
      "text/plain": [
       "icustay_id               0\n",
       "charttime                0\n",
       "albumin_avg        2051618\n",
       "aniongap_avg       1534459\n",
       "bicarbonate_avg    1524395\n",
       "bilirubin_avg      1996829\n",
       "bun_avg            1512502\n",
       "chloride_avg       1495910\n",
       "creat              1499690\n",
       "diasbp_mean        1340102\n",
       "glucose_avg        1166946\n",
       "heartrate_mean     1333095\n",
       "hematocrit_avg     1443764\n",
       "hemoglobin_avg     1541518\n",
       "potassium_avg      1391410\n",
       "resprate_mean      1337254\n",
       "sodium_avg         1475618\n",
       "spo2_mean          1341789\n",
       "sysbp_mean         1340057\n",
       "uo_rt_12hr         1452418\n",
       "uo_rt_24hr         1452418\n",
       "uo_rt_6hr          1452418\n",
       "wbc_avg            1566605\n",
       "sedative                 0\n",
       "vasopressor              0\n",
       "vent                     0\n",
       "hadm_id                  0\n",
       "aki_stage           399321\n",
       "dtype: int64"
      ]
     },
     "execution_count": 206,
     "metadata": {},
     "output_type": "execute_result"
    }
   ],
   "source": [
    "# MISSING after resampling (right before imputing)\n",
    "\n",
    "print(\"albumin_avg %.2f\" % (X.isnull().sum()[2]/X.shape[0]*100))\n",
    "print(\"aniongap_avg %.2f\" % (X.isnull().sum()[3]/X.shape[0]*100))\n",
    "print(\"bicarbonate_avg %.2f\" % (X.isnull().sum()[4]/X.shape[0]*100))\n",
    "print(\"bilirubin_avg %.2f\" % (X.isnull().sum()[5]/X.shape[0]*100))\n",
    "print(\"bun_avg %.2f\" % (X.isnull().sum()[6]/X.shape[0]*100))\n",
    "print(\"chloride_avg %.2f\" % (X.isnull().sum()[7]/X.shape[0]*100))\n",
    "print(\"creat %.2f\" % (X.isnull().sum()[8]/X.shape[0]*100))\n",
    "print(\"diasbp_mean %.2f\" % (X.isnull().sum()[9]/X.shape[0]*100))\n",
    "print(\"glucose_avg %.2f\" % (X.isnull().sum()[10]/X.shape[0]*100))\n",
    "print(\"heartrate_mean %.2f\" % (X.isnull().sum()[11]/X.shape[0]*100))\n",
    "print(\"hematocrit_avg %.2f\" % (X.isnull().sum()[12]/X.shape[0]*100))\n",
    "print(\"hemoglobin_avg %.2f\" % (X.isnull().sum()[13]/X.shape[0]*100))\n",
    "print(\"potassium_avg %.2f\" % (X.isnull().sum()[14]/X.shape[0]*100))\n",
    "print(\"resprate_mean %.2f\" % (X.isnull().sum()[15]/X.shape[0]*100))\n",
    "print(\"sodium_avg %.2f\" % (X.isnull().sum()[16]/X.shape[0]*100))\n",
    "print(\"spo2 %.2f\" % (X.isnull().sum()[17]/X.shape[0]*100))\n",
    "print(\"sysbp_mean %.2f\" % (X.isnull().sum()[18]/X.shape[0]*100))\n",
    "print(\"uo_rt_6hr %.2f\" % (X.isnull().sum()[19]/X.shape[0]*100))\n",
    "print(\"wbc_avg %.2f\" % (X.isnull().sum()[22]/X.shape[0]*100))\n",
    "\n",
    "print(\"percentage fo rows having all measures on a timestamp %.2f\" % (X.dropna().shape[0]/X.shape[0]*100))\n",
    "print(X.dropna().shape[0])\n",
    "X.isnull().sum()"
   ]
  },
  {
   "cell_type": "code",
   "execution_count": 205,
   "metadata": {},
   "outputs": [
    {
     "data": {
      "text/plain": [
       "1566605"
      ]
     },
     "execution_count": 205,
     "metadata": {},
     "output_type": "execute_result"
    }
   ],
   "source": [
    "X.isnull().sum()[22]"
   ]
  },
  {
   "cell_type": "code",
   "execution_count": 100,
   "metadata": {},
   "outputs": [],
   "source": [
    "a = X.groupby(['icustay_id'],as_index=False).size()"
   ]
  },
  {
   "cell_type": "code",
   "execution_count": 102,
   "metadata": {},
   "outputs": [
    {
     "name": "stderr",
     "output_type": "stream",
     "text": [
      "/opt/anaconda3/lib/python3.8/site-packages/seaborn/distributions.py:2557: FutureWarning: `distplot` is a deprecated function and will be removed in a future version. Please adapt your code to use either `displot` (a figure-level function with similar flexibility) or `kdeplot` (an axes-level function for kernel density plots).\n",
      "  warnings.warn(msg, FutureWarning)\n",
      "No handles with labels found to put in legend.\n"
     ]
    },
    {
     "name": "stdout",
     "output_type": "stream",
     "text": [
      "(47751, 2)\n"
     ]
    },
    {
     "data": {
      "image/png": "[encoded data removed]",
      "text/plain": [
       "<Figure size 648x432 with 1 Axes>"
      ]
     },
     "metadata": {},
     "output_type": "display_data"
    }
   ],
   "source": [
    "print(a.shape)\n",
    "import seaborn as sns \n",
    "sns.set_style('whitegrid')\n",
    "plt.figure(figsize=(9,6))\n",
    "los = sns.distplot (a['size'], bins=None, hist=False, kde=True, rug=False, fit=None, hist_kws=None, kde_kws=None, \n",
    "                        rug_kws=None, fit_kws=None, color='Green', vertical=False, norm_hist=False, axlabel='Sequence length, days', \n",
    "                        label=\"\", ax=None)\n",
    "plt.legend(loc='upper right')\n",
    "\n",
    "plt.title('Sequence length density function for the kernel density estimation')\n",
    "plt.savefig('sequences distribution.png', dpi = 300, bbox_inches='tight')"
   ]
  },
  {
   "cell_type": "code",
   "execution_count": 312,
   "metadata": {},
   "outputs": [
    {
     "name": "stdout",
     "output_type": "stream",
     "text": [
      "Do imputation again if there are still missing values\n"
     ]
    }
   ],
   "source": [
    "print(\"Do imputation again if there are still missing values\")\n",
    "# do imputation if there are still missing values\n",
    "\n",
    "# using most common within each icustay_id\n",
    "if IMPUTE_EACH_ID:\n",
    "    # set a new variable so won't change the orginial X\n",
    "    column_name = list(X.columns)\n",
    "    column_name.remove(column_name[0])\n",
    "    \n",
    "    for feature in column_name:\n",
    "        X.loc[X[feature].isnull(), feature] = X.icustay_id.map(fast_mode(X, ['icustay_id'], feature).set_index('icustay_id')[feature])\n",
    "        \n",
    "# imputation based on whole column\n",
    "if IMPUTE_COLUMN:\n",
    "    imp = SimpleImputer(missing_values=np.nan, strategy= IMPUTE_METHOD)\n",
    "    X=imp.fit_transform(X)\n",
    "    \n",
    "# If no imputation, fill missing value direclty with FILL_VALUE\n",
    "if IMPUTE_COLUMN==False and IMPUTE_EACH_ID==False: #AL added this condition\n",
    "    X = X.fillna(FILL_VALUE)\n",
    "    "
   ]
  },
  {
   "cell_type": "code",
   "execution_count": 313,
   "metadata": {},
   "outputs": [],
   "source": [
    "if ALL_STAGES:\n",
    "    pass\n",
    "elif CLASS1:\n",
    "    X.loc[X['aki_stage'] > 1, 'aki_stage'] = 1\n",
    "elif CLASS2:\n",
    "    X.loc[X['aki_stage'] < 2, 'aki_stage'] = 0\n",
    "    X.loc[X['aki_stage'] > 1, 'aki_stage'] = 1\n",
    "elif CLASS3:\n",
    "    X.loc[X['aki_stage'] < 3, 'aki_stage'] = 0\n",
    "    X.loc[X['aki_stage'] > 2, 'aki_stage'] = 1"
   ]
  }
 ],
 "metadata": {
  "kernelspec": {
   "display_name": "Python 3",
   "language": "python",
   "name": "python3"
  },
  "language_info": {
   "codemirror_mode": {
    "name": "ipython",
    "version": 3
   },
   "file_extension": ".py",
   "mimetype": "text/x-python",
   "name": "python",
   "nbconvert_exporter": "python",
   "pygments_lexer": "ipython3",
   "version": "3.8.5"
  }
 },
 "nbformat": 4,
 "nbformat_minor": 2
}
