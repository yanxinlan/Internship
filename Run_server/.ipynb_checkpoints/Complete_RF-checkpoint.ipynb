{
 "cells": [
  {
   "cell_type": "code",
   "execution_count": 9,
   "metadata": {},
   "outputs": [],
   "source": [
    "# data preprocessing\n",
    "import pandas as pd\n",
    "import numpy as np\n",
    "from sklearn import preprocessing\n",
    "from sklearn.model_selection import train_test_split\n",
    "from collections import defaultdict\n",
    "import collections"
   ]
  },
  {
   "cell_type": "code",
   "execution_count": 10,
   "metadata": {},
   "outputs": [],
   "source": [
    "# gradient boost model: train and evaluation\n",
    "from  sklearn.ensemble import RandomForestClassifier\n",
    "from sklearn.metrics import roc_curve, precision_recall_curve, roc_auc_score, auc, accuracy_score\n",
    "from matplotlib import pyplot as plt\n",
    "from sklearn.calibration import calibration_curve\n",
    "\n",
    "import matplotlib.lines as mlines\n",
    "import matplotlib.transforms as mtransforms\n",
    "from sklearn.impute import SimpleImputer"
   ]
  },
  {
   "cell_type": "code",
   "execution_count": 11,
   "metadata": {},
   "outputs": [],
   "source": [
    "# Set parameter as constant \n",
    "# path of the dataset\n",
    "# time dependent\n",
    "DATA_PATH_stages=\"../data/kdigo_stages_measured.csv\" \n",
    "DATA_PATH_labs = \"../data/labs-kdigo_stages_measured.csv\" \n",
    "DATA_PATH_vitals = \"../data/vitals-kdigo_stages_measured.csv\" \n",
    "DATA_PATH_vents = \"../data/vents-vasopressor-sedatives-kdigo_stages_measured.csv\"\n",
    "#no time dependent\n",
    "DATA_PATH_detail=\"../data/icustay_detail-kdigo_stages_measured.csv\" #age constraint\n",
    "DATA_PATH_icd = \"../data/diagnoses_icd_aki_measured.csv\"\n",
    "\n",
    "# seperator\n",
    "SEPARATOR=\";\"\n",
    "\n",
    "# whether to merge other time-dependent files\n",
    "MERGE_LABS = False\n",
    "MERGE_VITALS = False\n",
    "MERGE_VENTS = False\n",
    "\n",
    "# whether to merge other not time-dependent files\n",
    "MERGE_DETAILS = False\n",
    "MERGE_ICD = False\n",
    "\n",
    "# Age constraints: adults\n",
    "ADULTS_MIN_AGE = 18\n",
    "ADULTS_MAX_AGE = -1\n",
    "\n",
    "#Two options to deal with time series data\n",
    "LAST_CHARTTIME = False #True #the last charttime as bechmark for Target\n",
    "FIRST_TURN_POS = True #False # the first charttime that turn pos as bechmark for Target\n",
    "\n",
    "# resampling or not\n",
    "TIME_SAMPLING = True\n",
    "SAMPLING_INTERVAL = '6H'\n",
    "MOST_COMMON = False #resampling with most common\n",
    "# if MOST_COMMON is not applied,sampling with different strategies per kind of variable, \n",
    "# numeric variables use mean value, categorical variables use max value\n",
    "\n",
    "# imputation within each icustay_id\n",
    "IMPUTE_EACH_ID = False\n",
    "# imputation based on whole column\n",
    "IMPUTE_COLUMN = False\n",
    "IMPUTE_METHOD = 'most_frequent' \n",
    "\n",
    "# fill missing value and ragged part of 3d array\n",
    "FILL_VALUE = -1\n",
    "\n",
    "# How much time the prediction should occur (hours)\n",
    "HOURS_AHEAD = 48\n",
    "\n",
    "# precentage of dataset to be used for testing model\n",
    "TEST_SIZE = 0.3\n",
    "\n",
    "# whether to use only features in the paper \n",
    "PAPER_FEATURES = False #True\n",
    "\n",
    "#which classifier to use, only run one classifier at one time \n",
    "CLASS1 = True   #AnyAKI\n",
    "CLASS2 = False    #ModerateSevereAKI\n",
    "CLASS3 = False    #SevereAKI\n",
    "\n",
    "#category threshold for the 3 binary class \n",
    "if CLASS1 == True:\n",
    "    CAT_THRESHOLD = 0\n",
    "elif CLASS2 == True:\n",
    "    CAT_THRESHOLD = 1\n",
    "elif CLASS3 == True:\n",
    "    CAT_THRESHOLD = 2\n"
   ]
  },
  {
   "cell_type": "code",
   "execution_count": 12,
   "metadata": {},
   "outputs": [],
   "source": [
    "#set changable info as variables\n",
    "\n",
    "# features used in the paper \n",
    "paper_features = [\"icustay_id\", \"charttime\", 'hadm_id', \"creat\", \"aki_stage_creat\", \"uo_rt_6hr\",\"uo_rt_12hr\", \"uo_rt_24hr\", \n",
    "                  \"aki_stage_uo\", \"aki_stage\", \"aniongap_min\",\"albumin_min\", \"bicarbonate_min\", \"bilirubin_min\", \n",
    "                  \"chloride_min\", \"glucose_min\", \"hematocrit_min\", \"hemoglobin_min\", \"potassium_min\", \"ptt_min\",            \n",
    "                  \"sodium_min\" , \"bun_min\" , \"wbc_min\" , \"heartrate_mean\" , \"sysbp_mean\", \"diasbp_mean\" , \"resprate_mean\",\n",
    "                  \"vent\", \"vasopressor\", \"sedative\"]\n",
    "\n",
    "# naming model and plot\n",
    "classifier_name = \"None vs. Any AKI\"    ###change every time #Moderate vs. Severe #None vs. Any #Others vs. Severe\n",
    "plot_name = \"None_vs_Any_AKI_RF\"    ###change every time"
   ]
  },
  {
   "cell_type": "code",
   "execution_count": 13,
   "metadata": {},
   "outputs": [],
   "source": [
    "# Some functions used later\n",
    "\n",
    "# impute missing value in resampleing data with most common based on each id\n",
    "def fast_mode(df, key_cols, value_col):\n",
    "    \"\"\" \n",
    "    Calculate a column mode, by group, ignoring null values. \n",
    "\n",
    "    Parameters\n",
    "    ----------\n",
    "    df : pandas.DataFrame\n",
    "        DataFrame over which to calcualate the mode. \n",
    "    key_cols : list of str\n",
    "        Columns to groupby for calculation of mode.\n",
    "    value_col : str\n",
    "        Column for which to calculate the mode. \n",
    "\n",
    "    Return\n",
    "    ------ \n",
    "    pandas.DataFrame\n",
    "        One row for the mode of value_col per key_cols group. If ties, \n",
    "        returns the one which is sorted first. \n",
    "    \"\"\"\n",
    "    return (df.groupby(key_cols + [value_col]).size() \n",
    "              .to_frame('counts').reset_index() \n",
    "              .sort_values('counts', ascending=False) \n",
    "              .drop_duplicates(subset=key_cols)).drop('counts',axis=1)\n",
    "\n",
    "# get max shape of 3d array\n",
    "def get_dimensions(array, level=0):   \n",
    "    yield level, len(array)\n",
    "    try:\n",
    "        for row in array:\n",
    "            yield from get_dimensions(row, level + 1)\n",
    "    except TypeError: #not an iterable\n",
    "        pass\n",
    "\n",
    "def get_max_shape(array):\n",
    "    dimensions = defaultdict(int)\n",
    "    for level, length in get_dimensions(array):\n",
    "        dimensions[level] = max(dimensions[level], length)\n",
    "    return [value for _, value in sorted(dimensions.items())]\n",
    "\n",
    "#pad the ragged 3d array to rectangular shape based on max size\n",
    "def iterate_nested_array(array, index=()):\n",
    "    try:\n",
    "        for idx, row in enumerate(array):\n",
    "            yield from iterate_nested_array(row, (*index, idx))\n",
    "    except TypeError: # final level            \n",
    "        yield (*index, slice(len(array))), array\n",
    "\n",
    "def pad(array, fill_value):\n",
    "    dimensions = get_max_shape(array)\n",
    "    result = np.full(dimensions, fill_value)\n",
    "    for index, value in iterate_nested_array(array):\n",
    "        result[index] = value\n",
    "    return result\n",
    "\n",
    "def bin_total(y_true, y_prob, n_bins):\n",
    "    bins = np.linspace(0., 1. + 1e-8, n_bins + 1)\n",
    "\n",
    "    # In sklearn.calibration.calibration_curve,\n",
    "    # the last value in the array is always 0.\n",
    "    binids = np.digitize(y_prob, bins) - 1\n",
    "\n",
    "    return np.bincount(binids, minlength=len(bins))\n",
    "\n",
    "\n",
    "def missing_bin(bin_array):\n",
    "    midpoint = \" \"    \n",
    "    if bin_array[0]==0:\n",
    "        midpoint = \"5%, \"\n",
    "    if bin_array[1]==0:\n",
    "        midpoint = midpoint + \"15%, \"\n",
    "    if bin_array[2]==0:\n",
    "        midpoint = midpoint + \"25%, \"\n",
    "    if bin_array[3]==0:\n",
    "        midpoint = midpoint + \"35%, \" \n",
    "    if bin_array[4]==0:\n",
    "        midpoint = midpoint + \"45%, \"\n",
    "    if bin_array[5]==0:\n",
    "        midpoint = midpoint + \"55%, \"\n",
    "    if bin_array[6]==0:\n",
    "        midpoint = midpoint + \"65%, \"\n",
    "    if bin_array[7]==0:\n",
    "        midpoint = midpoint + \"75%, \"\n",
    "    if bin_array[8]==0:\n",
    "        midpoint = midpoint + \"85%, \"\n",
    "    if bin_array[9]==0:\n",
    "        midpoint = midpoint + \"95%, \"\n",
    "    return \"The missing bins have midpoint values of \"+ str(midpoint)    "
   ]
  },
  {
   "cell_type": "code",
   "execution_count": 14,
   "metadata": {},
   "outputs": [
    {
     "name": "stdout",
     "output_type": "stream",
     "text": [
      "read csv file\n"
     ]
    }
   ],
   "source": [
    "print(\"read csv file\")\n",
    "# read csv file\n",
    "dataset = pd.read_csv(DATA_PATH_stages, sep= SEPARATOR)\n",
    "dataset_detail = pd.read_csv(DATA_PATH_detail, sep= SEPARATOR)  #age constraint"
   ]
  },
  {
   "cell_type": "code",
   "execution_count": 15,
   "metadata": {},
   "outputs": [],
   "source": [
    "# read csv file for further merging\n",
    "if MERGE_LABS:\n",
    "    dataset_labs = pd.read_csv(DATA_PATH_labs, sep= SEPARATOR)\n",
    "if MERGE_VITALS:\n",
    "    dataset_vitals = pd.read_csv(DATA_PATH_vitals, sep= SEPARATOR)\n",
    "if MERGE_VENTS:    \n",
    "    dataset_vents = pd.read_csv(DATA_PATH_vents , sep= SEPARATOR)\n",
    "if MERGE_ICD:\n",
    "    dataset_icd = pd.read_csv(DATA_PATH_icd, sep= SEPARATOR)"
   ]
  },
  {
   "cell_type": "code",
   "execution_count": 16,
   "metadata": {},
   "outputs": [
    {
     "name": "stdout",
     "output_type": "stream",
     "text": [
      "combine time dependent data\n"
     ]
    }
   ],
   "source": [
    "# time dependent data\n",
    "print(\"combine time dependent data\")"
   ]
  },
  {
   "cell_type": "code",
   "execution_count": 17,
   "metadata": {},
   "outputs": [
    {
     "name": "stdout",
     "output_type": "stream",
     "text": [
      "drop duplicate features & convert charttime to timestamp\n"
     ]
    }
   ],
   "source": [
    "print(\"drop duplicate features & convert charttime to timestamp\")\n",
    "# reorganize dataset by dropping duplicate columns \n",
    "# convert charttime column from object to timestamp\n",
    "dataset['charttime'] = pd.to_datetime(dataset['charttime'])\n",
    "\n",
    "if MERGE_LABS:\n",
    "    dataset_labs['charttime'] = pd.to_datetime(dataset_labs['charttime'])\n",
    "    dataset_labs.drop([\"aniongap_max\", \"albumin_max\", \"bands_max\", \"bicarbonate_max\", \"bilirubin_max\", \n",
    "                   \"bilirubin_max\", \"creatinine_max\", \"chloride_max\", \"glucose_max\", \"hematocrit_max\", \n",
    "                   \"hemoglobin_max\", \"lactate_max\", \"platelet_max\", \"potassium_max\", \"ptt_max\", \"sodium_max\", \n",
    "                   \"inr_max\", \"pt_max\", \"bun_max\", \"wbc_max\"], axis=1, inplace=True)  \n",
    "if MERGE_VITALS:\n",
    "    dataset_vitals['charttime'] = pd.to_datetime(dataset_vitals['charttime'])\n",
    "    dataset_vitals.drop([\"heartrate_min\", \"heartrate_max\", \"sysbp_min\", \"heartrate_max\", \"sysbp_min\", \"sysbp_max\",\n",
    "                   \"diasbp_min\", \"diasbp_max\", \"meanbp_min\", \"meanbp_max\", \"resprate_min\", \"resprate_max\",\n",
    "                   \"tempc_min\", \"tempc_max\", \"spo2_min\", \"spo2_max\", \"glucose_min\", \"glucose_max\" ], axis=1, inplace=True)\n",
    "if MERGE_VENTS:\n",
    "    dataset_vents['charttime'] = pd.to_datetime(dataset_vents['charttime'])"
   ]
  },
  {
   "cell_type": "code",
   "execution_count": 18,
   "metadata": {},
   "outputs": [
    {
     "name": "stdout",
     "output_type": "stream",
     "text": [
      "merge files\n"
     ]
    }
   ],
   "source": [
    "print(\"merge files\")\n",
    "# merge files with time-dependent data, based on icustay_id and charttime\n",
    "if MERGE_LABS:\n",
    "    dataset = pd.merge(dataset, dataset_labs, on = [\"icustay_id\", \"charttime\"], how= \"outer\")\n",
    "if MERGE_VITALS:\n",
    "    dataset = pd.merge(dataset, dataset_vitals, on = [\"icustay_id\", \"charttime\",\"subject_id\", \"hadm_id\"], how= \"outer\")"
   ]
  },
  {
   "cell_type": "code",
   "execution_count": 19,
   "metadata": {},
   "outputs": [],
   "source": [
    "# remove rows with missing value in charttime\n",
    "dataset = dataset.dropna(subset=['charttime'])"
   ]
  },
  {
   "cell_type": "code",
   "execution_count": 20,
   "metadata": {
    "scrolled": true
   },
   "outputs": [],
   "source": [
    "# merge rows if they have exact timestamp within same icustay_id\n",
    "dataset = dataset.groupby(['icustay_id', 'charttime']).sum().reset_index(['icustay_id', 'charttime'])"
   ]
  },
  {
   "cell_type": "code",
   "execution_count": 21,
   "metadata": {},
   "outputs": [],
   "source": [
    "# merge files with time-dependent data, based on icustay_id and charttime\n",
    "if MERGE_VENTS:\n",
    "    dataset = pd.merge(dataset, dataset_vents, on = [\"icustay_id\", \"charttime\"], how= \"outer\")    "
   ]
  },
  {
   "cell_type": "code",
   "execution_count": 22,
   "metadata": {},
   "outputs": [
    {
     "name": "stdout",
     "output_type": "stream",
     "text": [
      "start preprocessing time dependent data\n"
     ]
    }
   ],
   "source": [
    "print(\"start preprocessing time dependent data\")\n",
    "# remove rows with missing data in aki_stage\n",
    "dataset = dataset.dropna(subset=['aki_stage'])"
   ]
  },
  {
   "cell_type": "code",
   "execution_count": 23,
   "metadata": {},
   "outputs": [],
   "source": [
    "# extract icustay_id & age from dataset_detail for further age constraint \n",
    "dataset_age = dataset_detail[['icustay_id','age']]"
   ]
  },
  {
   "cell_type": "code",
   "execution_count": 24,
   "metadata": {},
   "outputs": [
    {
     "name": "stdout",
     "output_type": "stream",
     "text": [
      "extract adults from dataset\n"
     ]
    }
   ],
   "source": [
    "print(\"extract adults from dataset\")\n",
    "# only adults\n",
    "adults_testAge = (dataset_age['age'] >= ADULTS_MIN_AGE)\n",
    "adults = dataset_age[adults_testAge]"
   ]
  },
  {
   "cell_type": "code",
   "execution_count": 25,
   "metadata": {},
   "outputs": [],
   "source": [
    "# icustay_id list based on adults_dataset\n",
    "adults_icustay_id_list = adults['icustay_id'].unique()"
   ]
  },
  {
   "cell_type": "markdown",
   "metadata": {},
   "source": [
    "# For testing purpose, use small amount of data first"
   ]
  },
  {
   "cell_type": "code",
   "execution_count": 132,
   "metadata": {},
   "outputs": [],
   "source": [
    "#For testing purpose, use small amount of data first\n",
    "large, adults_icustay_id_list = train_test_split(adults_icustay_id_list, test_size= 0.02, random_state=42)"
   ]
  },
  {
   "cell_type": "code",
   "execution_count": 26,
   "metadata": {},
   "outputs": [],
   "source": [
    "# updated datasets based on adults_icustay_id_list, children_icustay_id_list\n",
    "adults_dataset = dataset.loc[dataset['icustay_id'].isin(adults_icustay_id_list)]\n",
    "\n",
    "# unique id list derived from datasets, sorted by ascending order \n",
    "adults_list = np.sort(adults_dataset['icustay_id'].unique())\n",
    "\n",
    "# split list into train, test list\n",
    "adults_train_id, adults_test_id = train_test_split(adults_list, test_size= TEST_SIZE, random_state=42)\n",
    "\n",
    "# new adults dataset based on adults_train_id. and sort by 'icustay_id'\n",
    "adults_train_dataset = adults_dataset.loc[adults_dataset['icustay_id'].isin(adults_train_id)]\n",
    "adults_train_dataset = adults_train_dataset.sort_values(by=['icustay_id', 'charttime'])\n",
    "# sort adults_train_id by ascending ordder\n",
    "adults_train_id = np.sort(adults_train_id)"
   ]
  },
  {
   "cell_type": "code",
   "execution_count": 27,
   "metadata": {},
   "outputs": [
    {
     "name": "stdout",
     "output_type": "stream",
     "text": [
      "For Adults, we get the following: \n",
      "adults_train_dataset\n",
      "adults_train_id\n"
     ]
    }
   ],
   "source": [
    "print(\"For Adults, we get the following: \")\n",
    "print(\"adults_train_dataset\") \n",
    "print(\"adults_train_id\") "
   ]
  },
  {
   "cell_type": "code",
   "execution_count": 28,
   "metadata": {
    "scrolled": true
   },
   "outputs": [
    {
     "name": "stdout",
     "output_type": "stream",
     "text": [
      "Two options to deal with time series data\n",
      "LAST_CHARTTIME: the last charttime as bechmark for Target\n",
      "FIRST_TURN_POS: the first charttime that turn pos as bechmark for Target\n"
     ]
    }
   ],
   "source": [
    "print(\"Two options to deal with time series data\")\n",
    "print(\"LAST_CHARTTIME: the last charttime as bechmark for Target\")\n",
    "print(\"FIRST_TURN_POS: the first charttime that turn pos as bechmark for Target\")"
   ]
  },
  {
   "cell_type": "code",
   "execution_count": 29,
   "metadata": {},
   "outputs": [
    {
     "name": "stdout",
     "output_type": "stream",
     "text": [
      "drop icustay_id with time span less than 48hrs\n"
     ]
    }
   ],
   "source": [
    "print(\"drop icustay_id with time span less than 48hrs\")\n",
    "# drop icustay_id with time span less than 48hrs\n",
    "id_list = adults_train_id\n",
    "dataset = adults_train_dataset \n",
    "index_total_length = dataset.shape[0]\n",
    "drop_list = []\n",
    "\n",
    "i=0 # index of train_id_DATASET\n",
    "j=0 # the times that id matches\n",
    "\n",
    "for icustay_id in id_list:\n",
    "     while i < index_total_length:\n",
    "            if dataset.iat[i, dataset.columns.get_loc('icustay_id')] == icustay_id:\n",
    "                if j ==0 and i != index_total_length-1:\n",
    "                    first_row_index = i\n",
    "                    first_time = dataset.iat[first_row_index, dataset.columns.get_loc('charttime')]\n",
    "                    i = i+1\n",
    "                    j = j+1\n",
    "                elif j !=0:\n",
    "                    if i == index_total_length-1:\n",
    "                        last_row_index = i\n",
    "                        last_time = dataset.iat[last_row_index, dataset.columns.get_loc('charttime')]\n",
    "                        if (last_time - first_time).total_seconds() < HOURS_AHEAD*60*60:\n",
    "                            drop_list.append(icustay_id)\n",
    "                    i = i+1\n",
    "            elif dataset.iat[i, dataset.columns.get_loc('icustay_id')] != icustay_id:\n",
    "                last_row_index = i-1\n",
    "                last_time = dataset.iat[last_row_index, dataset.columns.get_loc('charttime')]\n",
    "                if (last_time - first_time).total_seconds() < HOURS_AHEAD*60*60:\n",
    "                    drop_list.append(icustay_id)\n",
    "                j=0\n",
    "                break"
   ]
  },
  {
   "cell_type": "code",
   "execution_count": 30,
   "metadata": {},
   "outputs": [],
   "source": [
    "# drop all the rows with the saved icustay_id\n",
    "dataset = dataset[~dataset.icustay_id.isin(drop_list)]"
   ]
  },
  {
   "cell_type": "markdown",
   "metadata": {},
   "source": [
    "# IF Lasttime"
   ]
  },
  {
   "cell_type": "code",
   "execution_count": 31,
   "metadata": {},
   "outputs": [],
   "source": [
    "# extract list for \"last\" charttime\n",
    "extract_list = dataset['icustay_id'].unique()"
   ]
  },
  {
   "cell_type": "code",
   "execution_count": 32,
   "metadata": {},
   "outputs": [],
   "source": [
    "if LAST_CHARTTIME:\n",
    "    print(\"Here we choose the last charttime as bechmark for Target\")\n",
    "    print(\"find last charttime for each icustay_id\")\n",
    "    # extract the aki_stage value of row of \"last\" charttime of each icustay_id as the label/target set\n",
    "    # find last charttime for each icustay_id\n",
    "\n",
    "    target_list = [] #to store target(y)\n",
    "    last_charttime_list= [] #a list to store last charttime for every icustay_id\n",
    "    last_charttime_index_list = [] #a list to store index when last charttime for every icustay_id\n",
    "\n",
    "    dataset_size = dataset.shape[0]\n",
    "    k=0 # index\n",
    "    h=0 # the times that id matches\n",
    "\n",
    "    for extract_id in extract_list:\n",
    "        while k < dataset_size:\n",
    "            if dataset.iat[k, dataset.columns.get_loc('icustay_id')] == extract_id:\n",
    "                if h==0 and k != dataset_size-1:\n",
    "                    k = k+1\n",
    "                    h = h+1\n",
    "                elif h !=0:\n",
    "                    if k == dataset_size-1:\n",
    "                        target_list.append(dataset.iat[k, dataset.columns.get_loc('aki_stage')])\n",
    "                        last_charttime_list.append(dataset.iat[k, dataset.columns.get_loc('charttime')])\n",
    "                        last_charttime_index_list.append(k)\n",
    "                    k = k+1\n",
    "            elif dataset.iat[k, dataset.columns.get_loc('icustay_id')] != extract_id:\n",
    "                target_list.append(dataset.iat[k-1, dataset.columns.get_loc('aki_stage')])\n",
    "                last_charttime_list.append(dataset.iat[k-1, dataset.columns.get_loc('charttime')])\n",
    "                last_charttime_index_list.append(k-1)\n",
    "                h=0\n",
    "                break"
   ]
  },
  {
   "cell_type": "code",
   "execution_count": 33,
   "metadata": {},
   "outputs": [],
   "source": [
    "if LAST_CHARTTIME:\n",
    "    # a threshold list to store the threshold time(last charttime-48hrs) for every icustay_id\n",
    "    threshold_list=[]\n",
    "\n",
    "    v=0# index for dataset\n",
    "\n",
    "    c=0 # number to countdown from index of last charttime\n",
    "\n",
    "    list_length = len(last_charttime_list)\n",
    "    t=0 # index for last_charttime_list\n",
    "\n",
    "\n",
    "\n",
    "    for index in last_charttime_index_list:\n",
    "        while t < list_length:\n",
    "            if (last_charttime_list[t]- dataset.iat[index-c, dataset.columns.get_loc('charttime')]).total_seconds() <HOURS_AHEAD*60*60:\n",
    "                t=t\n",
    "                c=c+1\n",
    "            elif (last_charttime_list[t]-dataset.iat[index-c, dataset.columns.get_loc('charttime')]).total_seconds() >= HOURS_AHEAD*60*60:\n",
    "                threshold_list.append(dataset.iat[index-c, dataset.columns.get_loc('charttime')])\n",
    "                t=t+1\n",
    "                c=0\n",
    "                break"
   ]
  },
  {
   "cell_type": "code",
   "execution_count": 34,
   "metadata": {},
   "outputs": [],
   "source": [
    "if LAST_CHARTTIME:\n",
    "    print(\"extract rows that meet time constraint\")\n",
    "    # extract rows that are within threshold time\n",
    "    # set new variable to avoid changing orginal dataset\n",
    "    thresholds = pd.DataFrame({'icustay_id':extract_list, 'charttime': threshold_list})\n",
    "    X = (thresholds.merge(dataset, on='icustay_id', how='left',suffixes=('_x','')).query(\"charttime_x >= charttime\").reindex(columns=dataset.columns))"
   ]
  },
  {
   "cell_type": "markdown",
   "metadata": {},
   "source": [
    "# option2 IF first turn pos"
   ]
  },
  {
   "cell_type": "code",
   "execution_count": 35,
   "metadata": {},
   "outputs": [
    {
     "name": "stdout",
     "output_type": "stream",
     "text": [
      "Here we choose the first charttime that turn pos as bechmark for Target\n",
      "divide dataset into positive and negative dataset based on assigned threshold\n"
     ]
    }
   ],
   "source": [
    "if FIRST_TURN_POS:\n",
    "    print(\"Here we choose the first charttime that turn pos as bechmark for Target\")\n",
    "    #extract icustay_id that are positive in this category\n",
    "    id_list = dataset['icustay_id'].unique()\n",
    "    positive_list = []\n",
    "    negative_list = []\n",
    "    \n",
    "    for ID in id_list:\n",
    "        df = dataset.loc[dataset['icustay_id']==ID].aki_stage\n",
    "        if CLASS1 == True :\n",
    "            if 3 in df.values:\n",
    "                positive_list.append(ID)\n",
    "            elif 2 in df.values: \n",
    "                positive_list.append(ID)\n",
    "            elif 1 in df.values: \n",
    "                positive_list.append(ID)\n",
    "            else:\n",
    "                negative_list.append(ID)\n",
    "                \n",
    "        if CLASS2 == True :\n",
    "            if 3 in df.values:\n",
    "                positive_list.append(ID)\n",
    "            elif 2 in df.values: \n",
    "                positive_list.append(ID)\n",
    "            else:\n",
    "                negative_list.append(ID)\n",
    "        \n",
    "        if CLASS3 == True :\n",
    "            if 3 in df.values:\n",
    "                positive_list.append(ID)\n",
    "            else:\n",
    "                negative_list.append(ID)\n",
    "    \n",
    "    # divide dataset into positive and negative dataset based on assigned threshold\n",
    "    print(\"divide dataset into positive and negative dataset based on assigned threshold\")\n",
    "    dataset_pos = dataset[dataset.icustay_id.isin(positive_list)].sort_values(by=['icustay_id', 'charttime'])\n",
    "    dataset_neg = dataset[dataset.icustay_id.isin(negative_list)].sort_values(by=['icustay_id', 'charttime'])"
   ]
  },
  {
   "cell_type": "code",
   "execution_count": 36,
   "metadata": {},
   "outputs": [
    {
     "name": "stdout",
     "output_type": "stream",
     "text": [
      "start preprocessing the dataset with positive label\n"
     ]
    }
   ],
   "source": [
    "if FIRST_TURN_POS:\n",
    "    print(\"start preprocessing the dataset with positive label\")\n",
    "    # extract list for \"last\" charttime\n",
    "    extract_list_pos = dataset_pos['icustay_id'].unique()"
   ]
  },
  {
   "cell_type": "code",
   "execution_count": 37,
   "metadata": {},
   "outputs": [],
   "source": [
    "if FIRST_TURN_POS:\n",
    "    #extract the aki_stage value of row of \"first\" charttime of each icustay_id that turn positive stages as the label/target set\n",
    "    #find first pos charttime for each icustay_id\n",
    "\n",
    "    target_pos = pd.DataFrame(columns=['icustay_id', 'aki_stage'])\n",
    "    pos_charttime_list= [] #a list to store first charttime that turn positive for every icustay_id\n",
    "    pos_charttime_index_list = [] #a list to store index of the first row that turn positive for every icustay_id\n",
    "\n",
    "    datasize = dataset_pos.shape[0]\n",
    "    k=0 #index\n",
    "\n",
    "    for extract_id in extract_list_pos:\n",
    "        while k < datasize:\n",
    "            if dataset_pos.iat[k, dataset_pos.columns.get_loc('icustay_id')] == extract_id and k != datasize-1:\n",
    "                if dataset_pos.iat[k, dataset_pos.columns.get_loc('aki_stage')] <= CAT_THRESHOLD:\n",
    "                    k = k+1\n",
    "                elif dataset_pos.iat[k, dataset_pos.columns.get_loc('aki_stage')] > CAT_THRESHOLD:\n",
    "                    target_pos = target_pos.append({'icustay_id': extract_id, 'aki_stage': 1}, ignore_index=True) #because in DATASET_pos, all target are pos, namely 1\n",
    "                    pos_charttime_list.append(dataset_pos.iat[k, dataset_pos.columns.get_loc('charttime')])\n",
    "                    pos_charttime_index_list.append(k)            \n",
    "                    k = k+1\n",
    "                    break\n",
    "            elif dataset_pos.iat[k, dataset_pos.columns.get_loc('icustay_id')] != extract_id:\n",
    "                k = k +1                "
   ]
  },
  {
   "cell_type": "code",
   "execution_count": 38,
   "metadata": {},
   "outputs": [],
   "source": [
    "if FIRST_TURN_POS:\n",
    "    #a threshold list to store the threshold time(last charttime-48hrs) for every icustay_id\n",
    "    threshold_time_list=[]\n",
    "    updated_extract_list = []\n",
    "    list_length = len(pos_charttime_list)\n",
    "\n",
    "    c=0 #number to countdown from index of last charttime\n",
    "    t=0 #index for last_charttime_list\n",
    "\n",
    "\n",
    "\n",
    "    for index in pos_charttime_index_list:\n",
    "        while t < list_length:\n",
    "            if dataset_pos.iat[index-c, dataset_pos.columns.get_loc('icustay_id')] == extract_list_pos[t]:\n",
    "                if (pos_charttime_list[t]- dataset_pos.iat[index-c, dataset_pos.columns.get_loc('charttime')]).total_seconds() <48*60*60:\n",
    "                    t=t\n",
    "                    #print(index)\n",
    "                    #print(\"t :\" + str(t))\n",
    "                    c=c+1\n",
    "                    #print(\"c :\" + str(c))\n",
    "                elif (pos_charttime_list[t]-dataset_pos.iat[index-c, dataset_pos.columns.get_loc('charttime')]).total_seconds() >= 48*60*60:\n",
    "                    #print(\"index-c :\"+ str(index-c))\n",
    "                    threshold_time_list.append(dataset_pos.iloc[index-c]['charttime'])\n",
    "                    updated_extract_list.append(dataset_pos.iloc[index]['icustay_id'])\n",
    "                    t=t+1\n",
    "                    #print(\"t :\" + str(t))\n",
    "                    #print(\"c :\" + str(c))\n",
    "                    c=0\n",
    "                    break\n",
    "            else:\n",
    "                t = t+1\n",
    "                c = 0\n",
    "                break\n",
    "     \n",
    "    # extract rows that are within threshold time\n",
    "    dataset_pos = dataset_pos[dataset_pos.icustay_id.isin(updated_extract_list)]\n",
    "    target_pos = target_pos[target_pos.icustay_id.isin(updated_extract_list)]\n",
    "    \n",
    "    Thresholds = pd.DataFrame({'icustay_id':updated_extract_list, 'charttime': threshold_time_list})\n",
    "    dataset_pos = (Thresholds.merge(dataset_pos, on='icustay_id', how='left',suffixes=('_x','')).query(\"charttime_x >= charttime\").reindex(columns=dataset_pos.columns))"
   ]
  },
  {
   "cell_type": "code",
   "execution_count": 39,
   "metadata": {},
   "outputs": [
    {
     "name": "stdout",
     "output_type": "stream",
     "text": [
      "start preprocessing the dataset with negative label\n"
     ]
    }
   ],
   "source": [
    "if FIRST_TURN_POS:\n",
    "    print(\"start preprocessing the dataset with negative label\")\n",
    "    # extract list for \"last\" charttime\n",
    "    extract_list_neg = dataset_neg['icustay_id'].unique()"
   ]
  },
  {
   "cell_type": "code",
   "execution_count": 40,
   "metadata": {},
   "outputs": [],
   "source": [
    "if FIRST_TURN_POS:    \n",
    "    #extract the aki_stage value of row of \"last\" charttime of each icustay_id as the label/target set\n",
    "    #find last charttime for each icustay_id\n",
    "    #target_list_neg = [] #to store target(y)\n",
    "    target_neg = pd.DataFrame(columns=['icustay_id', 'aki_stage'])\n",
    "    last_charttime_list= [] #a list to store last charttime for every icustay_id\n",
    "    last_charttime_index_list = [] #a list to store index when last charttime for every icustay_id\n",
    "\n",
    "    datasize = dataset_neg.shape[0]\n",
    "    k=0 #index\n",
    "    h=0 #the times that id matches\n",
    "\n",
    "    for extract_id in extract_list_neg:\n",
    "        while k < datasize:\n",
    "            if dataset_neg.iat[k, dataset_neg.columns.get_loc('icustay_id')] == extract_id:\n",
    "                if h==0 and k != datasize-1:\n",
    "                    k = k+1\n",
    "                    h = h+1\n",
    "                elif h !=0:\n",
    "                    if k == datasize-1:\n",
    "                        target_neg = target_neg.append({'icustay_id': extract_id, 'aki_stage': 0}, ignore_index=True) #because in DATASET_neg, all target are neg, namely 0\n",
    "                        last_charttime_list.append(dataset_neg.iat[k, dataset_neg.columns.get_loc('charttime')])\n",
    "                        last_charttime_index_list.append(k)\n",
    "                    k = k+1\n",
    "            elif dataset_neg.iat[k, dataset_neg.columns.get_loc('icustay_id')] != extract_id:\n",
    "                target_neg = target_neg.append({'icustay_id': extract_id, 'aki_stage': 0}, ignore_index=True) #because in DATASET_neg, all target are neg, namely 0\n",
    "                last_charttime_list.append(dataset_neg.iat[k-1, dataset_neg.columns.get_loc('charttime')])\n",
    "                last_charttime_index_list.append(k-1)\n",
    "                h=0\n",
    "                break            "
   ]
  },
  {
   "cell_type": "code",
   "execution_count": 41,
   "metadata": {},
   "outputs": [],
   "source": [
    "if FIRST_TURN_POS:        \n",
    "    #a threshold list to store the threshold time(last charttime-48hrs) for every icustay_id\n",
    "    threshold_list=[]\n",
    "\n",
    "    datasize = dataset_neg.shape[0]\n",
    "    v=0#index for dataset_neg\n",
    "    c=0 #number to countdown from index of last charttime\n",
    "\n",
    "    list_length = len(last_charttime_list)\n",
    "    t=0 #index for last_charttime_list\n",
    "\n",
    "\n",
    "    for index in last_charttime_index_list:\n",
    "        while t < list_length:\n",
    "            if (last_charttime_list[t]- dataset_neg.iat[index-c, dataset_neg.columns.get_loc('charttime')]).total_seconds() <48*60*60:\n",
    "                t=t\n",
    "                c=c+1\n",
    "            elif (last_charttime_list[t]-dataset_neg.iat[index-c, dataset_neg.columns.get_loc('charttime')]).total_seconds() >= 48*60*60:\n",
    "                threshold_list.append(dataset_neg.iat[index-c, dataset_neg.columns.get_loc('charttime')])\n",
    "                t=t+1\n",
    "                c=0\n",
    "                break\n",
    "                \n",
    "    Thresholds = pd.DataFrame({'icustay_id':extract_list_neg, 'charttime': threshold_list})\n",
    "    dataset_neg = (Thresholds.merge(dataset_neg, on='icustay_id', how='left',suffixes=('_x','')).query(\"charttime_x >= charttime\").reindex(columns=dataset_neg.columns))            "
   ]
  },
  {
   "cell_type": "code",
   "execution_count": 42,
   "metadata": {},
   "outputs": [],
   "source": [
    "if FIRST_TURN_POS:\n",
    "    # combine DATASET_pos and DATASET_neg, set as X\n",
    "    X = pd.concat([dataset_pos, dataset_neg], axis=0).sort_values(by=['icustay_id', 'charttime'])\n",
    "    #print(X[['icustay_id',\"aki_stage\"]])\n",
    "    extract_list = X['icustay_id'].unique()"
   ]
  },
  {
   "cell_type": "markdown",
   "metadata": {},
   "source": [
    "# Further processing"
   ]
  },
  {
   "cell_type": "code",
   "execution_count": 43,
   "metadata": {},
   "outputs": [
    {
     "name": "stdout",
     "output_type": "stream",
     "text": [
      "resampling: MOST_COMMON or MEAN & MAX\n",
      "Features before sampling\n",
      "Merging sampled features\n"
     ]
    }
   ],
   "source": [
    "print(\"resampling: MOST_COMMON or MEAN & MAX\")\n",
    "# resampling\n",
    "if TIME_SAMPLING & MOST_COMMON:\n",
    "    # Resample the data using assigned interval,mode() for most common\n",
    "    X = X.set_index('charttime').groupby('icustay_id').resample(SAMPLING_INTERVAL).mode().reset_index()\n",
    "elif TIME_SAMPLING:\n",
    "    # Sampling with different strategies per kind of variable\n",
    "    # Preparing masks for selecting features by their type\n",
    "    print(\"Features before sampling\")\n",
    "    #print(X.head())\n",
    "    \n",
    "    labels = ['aki_stage_creat', 'aki_stage_uo', 'aki_stage']\n",
    "    \n",
    "        #AL adding if-else to make it work\n",
    "    if MERGE_VENTS:\n",
    "        discrete_feat = list(dataset_vents.columns.difference([\"icustay_id\",\"charttime\"]))\n",
    "        discrete_feat.extend(labels)\n",
    "    else:\n",
    "        discrete_feat = labels\n",
    "        \n",
    "    skip = ['icustay_id', 'charttime']\n",
    "    skip.extend(discrete_feat)\n",
    "    \n",
    "    # all features that are not in skip are numeric\n",
    "    numeric_feat = list(X.columns.difference(skip))\n",
    "\n",
    "    # Applying aggregation to features depending on their type\n",
    "    X = X.set_index('charttime').groupby('icustay_id').resample(SAMPLING_INTERVAL)\n",
    "    \n",
    "    X_discrete = X[discrete_feat].max().fillna(0).astype(np.int64)\n",
    "    #print(\"discrete\")\n",
    "    #print(X_discrete.head())\n",
    "    \n",
    "    X_numeric = X[numeric_feat].mean()\n",
    "    #print(\"numeric\")\n",
    "    #print(X_numeric.head())\n",
    "    \n",
    "    X = pd.concat([X_numeric, X_discrete], axis=1).reset_index()\n",
    "    print(\"Merging sampled features\")\n",
    "    #print(X.head())"
   ]
  },
  {
   "cell_type": "code",
   "execution_count": 44,
   "metadata": {},
   "outputs": [
    {
     "name": "stdout",
     "output_type": "stream",
     "text": [
      "Additional option: do imputation again if there are still missing values\n"
     ]
    }
   ],
   "source": [
    "print(\"Additional option: do imputation again if there are still missing values\")\n",
    "# do imputation if there are still missing values\n",
    "\n",
    "# using most common within each icustay_id\n",
    "if IMPUTE_EACH_ID:\n",
    "    # set a new variable so won't change the orginial X\n",
    "    column_name = list(X.columns)\n",
    "    column_name.remove(column_name[0])\n",
    "    \n",
    "    for feature in column_name:\n",
    "        X.loc[X[feature].isnull(), feature] = X.icustay_id.map(fast_mode(X, ['icustay_id'], feature).set_index('icustay_id')[feature])\n",
    "        \n",
    "# imputation based on whole column\n",
    "if IMPUTE_COLUMN:\n",
    "    imp = SimpleImputer(missing_values=np.nan, strategy= IMPUTE_METHOD)\n",
    "    X=imp.fit_transform(X)\n",
    "    \n",
    "# If no imputation, fill missing value direclty with FILL_VALUE\n",
    "\n",
    "if IMPUTE_COLUMN==False and IMPUTE_EACH_ID==False:\n",
    "    X = X.fillna(FILL_VALUE)"
   ]
  },
  {
   "cell_type": "code",
   "execution_count": 45,
   "metadata": {},
   "outputs": [
    {
     "name": "stdout",
     "output_type": "stream",
     "text": [
      "start preprocessing not time dependent data\n"
     ]
    }
   ],
   "source": [
    "# no time dependent data\n",
    "print(\"start preprocessing not time dependent data\")"
   ]
  },
  {
   "cell_type": "code",
   "execution_count": 46,
   "metadata": {},
   "outputs": [],
   "source": [
    "if MERGE_DETAILS:\n",
    "    #extract datasets based on extract_list\n",
    "    dataset_detail = dataset_detail.loc[dataset_detail['icustay_id'].isin(extract_list)]\n",
    "    #sort by ascending order\n",
    "    dataset_detail = dataset_detail.sort_values(by=['icustay_id'])\n",
    "    subject_id = dataset_detail[\"subject_id\"].unique()\n",
    "    \n",
    "    #reorganize dataset by selecting needed columns \n",
    "    dataset_detail = dataset_detail[[\"icustay_id\",'subject_id',\"age\",\"gender\",\"ethnicity_grouped\"]]\n",
    "    #transfrom categorical data to binary form\n",
    "    dataset_detail = dataset_detail.join(pd.get_dummies(dataset_detail.pop('gender')))\n",
    "    dataset_detail = dataset_detail.join(pd.get_dummies(dataset_detail.pop(\"ethnicity_grouped\")))\n",
    "    dataset_detail = dataset_detail.drop([\"icustay_id\",'subject_id'], axis=1)\n",
    "    #convert dataframe to array for later concontenate\n",
    "    # AL: as_matrix does not work anymore\n",
    "    #dataset_detail = np.array((dataset_detail.fillna(FILL_VALUE)).apply(pd.DataFrame.as_matrix))\n",
    "    dataset_detail = np.array((dataset_detail.fillna(FILL_VALUE)).to_numpy())\n",
    "    X = X.drop([\"subject_id\"], axis=1)\n",
    "    "
   ]
  },
  {
   "cell_type": "code",
   "execution_count": 47,
   "metadata": {},
   "outputs": [],
   "source": [
    "# Divide dataset into features(X) & target(y) sets\n",
    "# set features as X\n",
    "X = X.drop([\"aki_stage\"], axis=1)\n",
    "# set taeget as y\n",
    "if LAST_CHARTTIME:\n",
    "    y = pd.DataFrame(target_list)\n",
    "if FIRST_TURN_POS:\n",
    "    # combine target_pos and target_neg,set as y\n",
    "    y = pd.concat([target_pos, target_neg], axis=0).sort_values(by=['icustay_id']).reset_index(drop=True)\n",
    "    y = y.drop(['icustay_id'], axis=1)\n",
    "    y = y.values.ravel().astype('int64')\n",
    "    #print(y)"
   ]
  },
  {
   "cell_type": "code",
   "execution_count": 48,
   "metadata": {},
   "outputs": [],
   "source": [
    "if MERGE_ICD:\n",
    "    dataset_icd = dataset_icd.loc[dataset_icd['subject_id'].isin(subject_id)]\n",
    "    #convert catagorical data to binary form\n",
    "    dataset_icd = dataset_icd.join(pd.get_dummies(dataset_icd.pop('seq_num')))\n",
    "    dataset_icd = dataset_icd.join(pd.get_dummies(dataset_icd.pop('icd9_code')))\n",
    "    \n",
    "    #merge rows if they have the same \"hadm_id\"\n",
    "    dataset_icd.drop([\"subject_id\"], axis=1, inplace=True)\n",
    "    dataset_icd = dataset_icd.groupby(['hadm_id']).max().reset_index(['hadm_id'])\n",
    "    \n",
    "    # merge ICD9 codes at the end of admission\n",
    "    # Pushing all diagnoses at the end of the admission (to avoid leaking information from future)\n",
    "    # Add timestamp corresponding to the last charttime in the admission to diagnoses\n",
    "    # dataset_icd already with one-hot for ICD9 codes (merged, ie many ones per row)\n",
    "    print(\"merge ICD9 codes at the end of admission\")\n",
    "    dataset_icd = pd.merge(dataset_icd, X.groupby('hadm_id')['charttime'].max().to_frame().reset_index(), on='hadm_id', how='left')\n",
    "    X = pd.merge(X, dataset_icd, on=['hadm_id', 'charttime'], how='left')"
   ]
  },
  {
   "cell_type": "code",
   "execution_count": 49,
   "metadata": {
    "scrolled": true
   },
   "outputs": [
    {
     "name": "stdout",
     "output_type": "stream",
     "text": [
      "select features used in the paper\n"
     ]
    }
   ],
   "source": [
    "print(\"select features used in the paper\")\n",
    "#select only features that used in paper\n",
    "if PAPER_FEATURES:\n",
    "    X = X[paper_features]"
   ]
  },
  {
   "cell_type": "code",
   "execution_count": 50,
   "metadata": {},
   "outputs": [],
   "source": [
    "X = X.fillna(FILL_VALUE)"
   ]
  },
  {
   "cell_type": "code",
   "execution_count": 51,
   "metadata": {},
   "outputs": [],
   "source": [
    "#AL re-write as try except to make it work as hadm_id is not used if only one csv file is used and none are merged\n",
    "try:\n",
    "    X = X.drop(['hadm_id', 'charttime'], axis=1)\n",
    "except:\n",
    "    X = X.drop(['charttime'], axis=1)"
   ]
  },
  {
   "cell_type": "code",
   "execution_count": 52,
   "metadata": {},
   "outputs": [],
   "source": [
    "#AL I believe we should also drop these\n",
    "X = X.drop(['aki_stage_creat','aki_stage_uo'], axis = 1)"
   ]
  },
  {
   "cell_type": "code",
   "execution_count": 53,
   "metadata": {
    "scrolled": true
   },
   "outputs": [
    {
     "name": "stdout",
     "output_type": "stream",
     "text": [
      "reshape 2D dataframe to 3D Array, group by icustay_id\n"
     ]
    }
   ],
   "source": [
    "print(\"reshape 2D dataframe to 3D Array, group by icustay_id\")\n",
    "#X = np.array(list(X.groupby(['icustay_id'],as_index=False).apply(pd.DataFrame.as_matrix)))\n",
    "X = np.array(list(X.groupby(['icustay_id'],as_index=False).apply(pd.DataFrame.to_numpy)))"
   ]
  },
  {
   "cell_type": "code",
   "execution_count": 54,
   "metadata": {
    "scrolled": true
   },
   "outputs": [
    {
     "name": "stdout",
     "output_type": "stream",
     "text": [
      "fill ragged part(missing value) of 3d array with FILL_VALUE\n",
      "(19240, 190, 5)\n",
      "flatten 3D array back to 2D array\n",
      "(19240, 950)\n"
     ]
    }
   ],
   "source": [
    "print(\"fill ragged part(missing value) of 3d array with FILL_VALUE\")\n",
    "# fill ragged part(missing value) of 3d array with FILL_VALUE\n",
    "X = pad(X, FILL_VALUE)\n",
    "print(X.shape)\n",
    "\n",
    "print(\"flatten 3D array back to 2D array\")\n",
    "#flatten 3d array to 2d array\n",
    "nsamples, nx, ny = X.shape\n",
    "X = X.reshape((nsamples,nx*ny))\n",
    "print(X.shape)"
   ]
  },
  {
   "cell_type": "code",
   "execution_count": 55,
   "metadata": {},
   "outputs": [],
   "source": [
    "if MERGE_DETAILS:\n",
    "    print(\"merge X with dataset_detail\")\n",
    "    # concontenate X with dataset_detail\n",
    "    X = np.concatenate((X, dataset_detail), axis=1)"
   ]
  },
  {
   "cell_type": "code",
   "execution_count": 56,
   "metadata": {},
   "outputs": [
    {
     "name": "stdout",
     "output_type": "stream",
     "text": [
      "Now, we get the following: \n",
      "X as features\n",
      "y as Targets\n"
     ]
    }
   ],
   "source": [
    "print(\"Now, we get the following: \")\n",
    "print(\"X as features\")\n",
    "print(\"y as Targets\")\n",
    "\n",
    "#AL (for none vs any)\n",
    "#if First turn pos : y is numpy.ndarray \n",
    "# 0 and 1 Counter({0: 9649, 1: 9591})\n",
    "\n",
    "# if Last time : y is a dataframe \n",
    "# Counter({0.0: 26963, 1.0: 2629, 3.0: 1873, 2.0: 1407})\n",
    "# meaning for class1 (non vs any) 0: 26,963 and 1: 5,909"
   ]
  },
  {
   "cell_type": "code",
   "execution_count": 57,
   "metadata": {},
   "outputs": [
    {
     "name": "stdout",
     "output_type": "stream",
     "text": [
      "Counter({0: 9649, 1: 9591})\n"
     ]
    }
   ],
   "source": [
    "#AL to see the balance of the classes\n",
    "try:\n",
    "    z = list(y[0])\n",
    "except:\n",
    "    z = y\n",
    "counter=collections.Counter(z)\n",
    "print(counter)"
   ]
  },
  {
   "cell_type": "code",
   "execution_count": 58,
   "metadata": {},
   "outputs": [
    {
     "name": "stdout",
     "output_type": "stream",
     "text": [
      "divide dataset into train, test sets\n"
     ]
    }
   ],
   "source": [
    "print(\"divide dataset into train, test sets\")\n",
    "# divide dataset into train, test sets\n",
    "X_train, X_test, y_train, y_test = train_test_split(X, y, test_size = TEST_SIZE, random_state = 42)"
   ]
  },
  {
   "cell_type": "code",
   "execution_count": 59,
   "metadata": {},
   "outputs": [],
   "source": [
    "if LAST_CHARTTIME:\n",
    "    print(\"Transform multiclass Targets to 3 binary class\")\n",
    "    # Transform the multiclass dataset into 3 different binary outcome sets\n",
    "    lb = preprocessing.LabelBinarizer()\n",
    "\n",
    "    y_train = lb.fit_transform(y_train)\n",
    "    y_train = pd.DataFrame(y_train)\n",
    "    y_total_number = list(range(1, y_train.shape[0]+1, 1))\n",
    "\n",
    "    y_test = lb.fit_transform(y_test)\n",
    "    y_test = pd.DataFrame(y_test)\n",
    "    y_total_number1 = list(range(1, y_test.shape[0]+1, 1))\n",
    "\n",
    "\n",
    "    # classifier1 : stage0 vs. stage1,2,3\n",
    "    if CLASS1:\n",
    "        train_c1 = []\n",
    "        for n in y_total_number:\n",
    "            train_c1.append(n)\n",
    "            if y_train.at[n-1, 0] == 1:\n",
    "                train_c1[n-1] = 0\n",
    "            else:\n",
    "                train_c1[n-1] =1\n",
    "        y_train = pd.DataFrame(train_c1).values.ravel()\n",
    "        test_c1 = []\n",
    "        for n in y_total_number1:\n",
    "            test_c1.append(n)\n",
    "            if y_test.at[n-1, 0] == 1:\n",
    "                test_c1[n-1] = 0\n",
    "            else:\n",
    "                test_c1[n-1] =1\n",
    "        y_test = pd.DataFrame(test_c1).values.ravel()\n",
    "\n",
    "    # classifier2 : stage0,1 vs. stage2,3\n",
    "    if CLASS2:\n",
    "        train_c2 = []\n",
    "        for i in y_total_number:\n",
    "            train_c2.append(i)\n",
    "            if y_train.at[i-1, 0] == 1 or y_train.at[i-1, 1] == 1:\n",
    "                train_c2[i-1] = 0\n",
    "            else:\n",
    "                train_c2[i-1] =1\n",
    "        y_train = pd.DataFrame(train_c2).values.ravel()\n",
    "        test_c2 = []\n",
    "        for i in y_total_number1:\n",
    "            test_c2.append(i)\n",
    "            if y_test.at[i-1, 0] == 1 or y_test.at[i-1, 1] == 1:\n",
    "                test_c2[i-1] = 0\n",
    "            else:\n",
    "                test_c2[i-1] =1\n",
    "        y_test = pd.DataFrame(test_c2).values.ravel()\n",
    "\n",
    "\n",
    "    # classifier3 : stage0,1,2 vs. stage3\n",
    "    if CLASS3:\n",
    "        train_c3 = []\n",
    "        for z in y_total_number:\n",
    "            train_c3.append(z)\n",
    "            if y_train.at[z-1, 3] == 1:\n",
    "                train_c3[z-1] =1\n",
    "            else:\n",
    "                train_c3[z-1] =0\n",
    "        y_train = pd.DataFrame(train_c3).values.ravel()\n",
    "        test_c3 = []\n",
    "        for z in y_total_number1:\n",
    "            test_c3.append(z)\n",
    "            if y_test.at[z-1, 3] == 1:\n",
    "                test_c3[z-1] =1\n",
    "            else:\n",
    "                test_c3[z-1] =0\n",
    "        y_test = pd.DataFrame(test_c3).values.ravel()"
   ]
  },
  {
   "cell_type": "code",
   "execution_count": 60,
   "metadata": {},
   "outputs": [
    {
     "name": "stdout",
     "output_type": "stream",
     "text": [
      "Now, the dataset is divided to X_train, X_test, y_train, y_test\n"
     ]
    }
   ],
   "source": [
    "print(\"Now, the dataset is divided to X_train, X_test, y_train, y_test\")\n",
    "# Now, the dataset is divided to \n",
    "# X_train\n",
    "# X_test\n",
    "# y_train\n",
    "# y_test"
   ]
  },
  {
   "cell_type": "markdown",
   "metadata": {},
   "source": [
    "# The Random Forests model"
   ]
  },
  {
   "cell_type": "code",
   "execution_count": 61,
   "metadata": {},
   "outputs": [
    {
     "name": "stdout",
     "output_type": "stream",
     "text": [
      "y train has \n",
      "[[   0    1]\n",
      " [6748 6720]]\n"
     ]
    }
   ],
   "source": [
    "print('y train has ')\n",
    "(unique, counts) = np.unique(y_train, return_counts=True)\n",
    "frequencies = np.asarray((unique, counts))\n",
    "print(frequencies)"
   ]
  },
  {
   "cell_type": "markdown",
   "metadata": {},
   "source": [
    "# First try with the default parameters"
   ]
  },
  {
   "cell_type": "code",
   "execution_count": 62,
   "metadata": {
    "scrolled": true
   },
   "outputs": [
    {
     "name": "stdout",
     "output_type": "stream",
     "text": [
      "build RF\n",
      "train RF\n"
     ]
    },
    {
     "data": {
      "text/plain": [
       "RandomForestClassifier(bootstrap=True, ccp_alpha=0.0, class_weight=None,\n",
       "                       criterion='gini', max_depth=None, max_features='auto',\n",
       "                       max_leaf_nodes=None, max_samples=None,\n",
       "                       min_impurity_decrease=0.0, min_impurity_split=None,\n",
       "                       min_samples_leaf=1, min_samples_split=2,\n",
       "                       min_weight_fraction_leaf=0.0, n_estimators=100,\n",
       "                       n_jobs=None, oob_score=False, random_state=None,\n",
       "                       verbose=0, warm_start=False)"
      ]
     },
     "execution_count": 62,
     "metadata": {},
     "output_type": "execute_result"
    }
   ],
   "source": [
    "print(\"build RF\")\n",
    "# building RF (default parameters) to compare to later\n",
    "rf_model = RandomForestClassifier(n_estimators=100,criterion='gini',max_depth=None,min_samples_split=2,min_samples_leaf=1,\n",
    "                                  min_weight_fraction_leaf=0.0,max_features='auto',max_leaf_nodes=None,min_impurity_decrease=0.0,\n",
    "                                  min_impurity_split=None,bootstrap=True,oob_score=False,n_jobs=None,random_state=None,verbose=0,\n",
    "                                  warm_start=False,class_weight=None,ccp_alpha=0.0,max_samples=None)\n",
    "\n",
    "\n",
    "print(\"train RF\")\n",
    "# train RF\n",
    "rf_model.fit(X_train, y_train)"
   ]
  },
  {
   "cell_type": "code",
   "execution_count": 64,
   "metadata": {},
   "outputs": [],
   "source": [
    "# to see how the forest looks like with default parameters\n",
    "\n",
    "# depth of trees is around 43-77\n",
    "#[estimator.tree_.max_depth for estimator in rf_model.estimators_]\n",
    "\n"
   ]
  },
  {
   "cell_type": "code",
   "execution_count": 65,
   "metadata": {},
   "outputs": [
    {
     "name": "stdout",
     "output_type": "stream",
     "text": [
      "predictions\n"
     ]
    }
   ],
   "source": [
    "print(\"predictions\")\n",
    "#Make predictions \n",
    "RF_pred = rf_model.predict(X_test)\n",
    "RF_probs = rf_model.predict_proba(X_test)[::,1] # probability of class 1"
   ]
  },
  {
   "cell_type": "code",
   "execution_count": 66,
   "metadata": {},
   "outputs": [
    {
     "name": "stdout",
     "output_type": "stream",
     "text": [
      "RF accuracy for Classifier None vs. Any AKI : 0.7703\n",
      "compute ROC AUC\n",
      "Area Under ROC Curve: 0.8175\n",
      "compute PR AUC\n",
      "Area Under PR Curve(AP): 0.8133\n"
     ]
    }
   ],
   "source": [
    "# accuracy\n",
    "print('RF accuracy for Classifier ' + str(classifier_name) + ' : {:.4f}'.format(accuracy_score(y_test, RF_pred)))\n",
    "\n",
    "print(\"compute ROC AUC\")\n",
    "# ROC AUC | ROC curve\n",
    "fpr_RF, tpr_RF, _ = roc_curve(y_test, RF_probs)\n",
    "roc_auc_RF = roc_auc_score(y_test, RF_probs)\n",
    "print (\"Area Under ROC Curve: %0.4f\" % roc_auc_RF)\n",
    "\n",
    "\n",
    "print(\"compute PR AUC\")\n",
    "# PR AUC | Precision-Recall curve\n",
    "precision_RF, recall_RF, _ = precision_recall_curve(y_test, RF_probs)\n",
    "pr_auc_RF = auc(recall_RF, precision_RF)\n",
    "print (\"Area Under PR Curve(AP): %0.4f\" % pr_auc_RF  )"
   ]
  },
  {
   "cell_type": "markdown",
   "metadata": {},
   "source": [
    "# Next create a parameter grid to sample from during fitting\n",
    "\n"
   ]
  },
  {
   "cell_type": "code",
   "execution_count": 69,
   "metadata": {},
   "outputs": [
    {
     "name": "stdout",
     "output_type": "stream",
     "text": [
      "{'n_estimators': [100, 200, 300, 400, 500, 600, 700, 800, 900, 1000], 'max_features': ['auto', 'sqrt'], 'max_depth': [5, 15, 26, 36, 47, 57, 68, 78, 89, 100, None], 'min_samples_split': [2, 5, 10], 'min_samples_leaf': [2, 4], 'bootstrap': [True, False]}\n"
     ]
    }
   ],
   "source": [
    "from sklearn.model_selection import RandomizedSearchCV\n",
    "\n",
    "# Number of trees in random forest\n",
    "n_estimators = [int(x) for x in np.linspace(start = 100, stop = 1000, num = 10)]\n",
    "# Number of features to consider at every split\n",
    "max_features = ['auto', 'sqrt']\n",
    "# Maximum number of levels in tree\n",
    "max_depth = [int(x) for x in np.linspace(5, 100, num = 10)]\n",
    "max_depth.append(None)\n",
    "# Minimum number of samples required to split a node\n",
    "min_samples_split = [2, 5, 10]\n",
    "# Minimum number of samples required at each leaf node\n",
    "min_samples_leaf = [2, 4]\n",
    "# Method of selecting samples for training each tree\n",
    "bootstrap = [True, False]\n",
    "# Create the random grid\n",
    "random_grid = {'n_estimators': n_estimators,\n",
    "               'max_features': max_features,\n",
    "               'max_depth': max_depth,\n",
    "               'min_samples_split': min_samples_split,\n",
    "               'min_samples_leaf': min_samples_leaf,\n",
    "               'bootstrap': bootstrap}\n",
    "print(random_grid)\n",
    "\n",
    "# Random search training\n",
    "# Use the random grid to search for best hyperparameters\n",
    "# Random search of parameters, using 3 fold cross validation\n",
    "rf_random = RandomizedSearchCV(estimator = rf_model, param_distributions = random_grid, n_iter = 100, cv = 5, verbose=2, random_state=42, n_jobs = 1)"
   ]
  },
  {
   "cell_type": "code",
   "execution_count": 70,
   "metadata": {},
   "outputs": [
    {
     "name": "stdout",
     "output_type": "stream",
     "text": [
      "Fitting 5 folds for each of 100 candidates, totalling 500 fits\n",
      "[CV] n_estimators=600, min_samples_split=10, min_samples_leaf=2, max_features=sqrt, max_depth=57, bootstrap=False \n"
     ]
    },
    {
     "name": "stderr",
     "output_type": "stream",
     "text": [
      "[Parallel(n_jobs=1)]: Using backend SequentialBackend with 1 concurrent workers.\n"
     ]
    },
    {
     "name": "stdout",
     "output_type": "stream",
     "text": [
      "[CV]  n_estimators=600, min_samples_split=10, min_samples_leaf=2, max_features=sqrt, max_depth=57, bootstrap=False, total=  33.5s\n",
      "[CV] n_estimators=600, min_samples_split=10, min_samples_leaf=2, max_features=sqrt, max_depth=57, bootstrap=False \n"
     ]
    },
    {
     "name": "stderr",
     "output_type": "stream",
     "text": [
      "[Parallel(n_jobs=1)]: Done   1 out of   1 | elapsed:   33.5s remaining:    0.0s\n"
     ]
    },
    {
     "name": "stdout",
     "output_type": "stream",
     "text": [
      "[CV]  n_estimators=600, min_samples_split=10, min_samples_leaf=2, max_features=sqrt, max_depth=57, bootstrap=False, total=  32.0s\n",
      "[CV] n_estimators=600, min_samples_split=10, min_samples_leaf=2, max_features=sqrt, max_depth=57, bootstrap=False \n",
      "[CV]  n_estimators=600, min_samples_split=10, min_samples_leaf=2, max_features=sqrt, max_depth=57, bootstrap=False, total=  30.8s\n",
      "[CV] n_estimators=600, min_samples_split=10, min_samples_leaf=2, max_features=sqrt, max_depth=57, bootstrap=False \n",
      "[CV]  n_estimators=600, min_samples_split=10, min_samples_leaf=2, max_features=sqrt, max_depth=57, bootstrap=False, total=  30.1s\n",
      "[CV] n_estimators=600, min_samples_split=10, min_samples_leaf=2, max_features=sqrt, max_depth=57, bootstrap=False \n",
      "[CV]  n_estimators=600, min_samples_split=10, min_samples_leaf=2, max_features=sqrt, max_depth=57, bootstrap=False, total=  32.2s\n",
      "[CV] n_estimators=300, min_samples_split=2, min_samples_leaf=4, max_features=auto, max_depth=5, bootstrap=True \n",
      "[CV]  n_estimators=300, min_samples_split=2, min_samples_leaf=4, max_features=auto, max_depth=5, bootstrap=True, total=   4.2s\n",
      "[CV] n_estimators=300, min_samples_split=2, min_samples_leaf=4, max_features=auto, max_depth=5, bootstrap=True \n",
      "[CV]  n_estimators=300, min_samples_split=2, min_samples_leaf=4, max_features=auto, max_depth=5, bootstrap=True, total=   4.3s\n",
      "[CV] n_estimators=300, min_samples_split=2, min_samples_leaf=4, max_features=auto, max_depth=5, bootstrap=True \n",
      "[CV]  n_estimators=300, min_samples_split=2, min_samples_leaf=4, max_features=auto, max_depth=5, bootstrap=True, total=   4.9s\n",
      "[CV] n_estimators=300, min_samples_split=2, min_samples_leaf=4, max_features=auto, max_depth=5, bootstrap=True \n",
      "[CV]  n_estimators=300, min_samples_split=2, min_samples_leaf=4, max_features=auto, max_depth=5, bootstrap=True, total=   5.1s\n",
      "[CV] n_estimators=300, min_samples_split=2, min_samples_leaf=4, max_features=auto, max_depth=5, bootstrap=True \n",
      "[CV]  n_estimators=300, min_samples_split=2, min_samples_leaf=4, max_features=auto, max_depth=5, bootstrap=True, total=   4.9s\n",
      "[CV] n_estimators=300, min_samples_split=2, min_samples_leaf=2, max_features=auto, max_depth=89, bootstrap=True \n",
      "[CV]  n_estimators=300, min_samples_split=2, min_samples_leaf=2, max_features=auto, max_depth=89, bootstrap=True, total=  10.1s\n",
      "[CV] n_estimators=300, min_samples_split=2, min_samples_leaf=2, max_features=auto, max_depth=89, bootstrap=True \n",
      "[CV]  n_estimators=300, min_samples_split=2, min_samples_leaf=2, max_features=auto, max_depth=89, bootstrap=True, total=   9.8s\n",
      "[CV] n_estimators=300, min_samples_split=2, min_samples_leaf=2, max_features=auto, max_depth=89, bootstrap=True \n",
      "[CV]  n_estimators=300, min_samples_split=2, min_samples_leaf=2, max_features=auto, max_depth=89, bootstrap=True, total=   9.6s\n",
      "[CV] n_estimators=300, min_samples_split=2, min_samples_leaf=2, max_features=auto, max_depth=89, bootstrap=True \n",
      "[CV]  n_estimators=300, min_samples_split=2, min_samples_leaf=2, max_features=auto, max_depth=89, bootstrap=True, total=  11.5s\n",
      "[CV] n_estimators=300, min_samples_split=2, min_samples_leaf=2, max_features=auto, max_depth=89, bootstrap=True \n",
      "[CV]  n_estimators=300, min_samples_split=2, min_samples_leaf=2, max_features=auto, max_depth=89, bootstrap=True, total=  10.4s\n",
      "[CV] n_estimators=200, min_samples_split=10, min_samples_leaf=2, max_features=auto, max_depth=15, bootstrap=False \n",
      "[CV]  n_estimators=200, min_samples_split=10, min_samples_leaf=2, max_features=auto, max_depth=15, bootstrap=False, total=   8.0s\n",
      "[CV] n_estimators=200, min_samples_split=10, min_samples_leaf=2, max_features=auto, max_depth=15, bootstrap=False \n",
      "[CV]  n_estimators=200, min_samples_split=10, min_samples_leaf=2, max_features=auto, max_depth=15, bootstrap=False, total=   9.5s\n",
      "[CV] n_estimators=200, min_samples_split=10, min_samples_leaf=2, max_features=auto, max_depth=15, bootstrap=False \n",
      "[CV]  n_estimators=200, min_samples_split=10, min_samples_leaf=2, max_features=auto, max_depth=15, bootstrap=False, total=  11.0s\n",
      "[CV] n_estimators=200, min_samples_split=10, min_samples_leaf=2, max_features=auto, max_depth=15, bootstrap=False \n",
      "[CV]  n_estimators=200, min_samples_split=10, min_samples_leaf=2, max_features=auto, max_depth=15, bootstrap=False, total=  11.4s\n",
      "[CV] n_estimators=200, min_samples_split=10, min_samples_leaf=2, max_features=auto, max_depth=15, bootstrap=False \n",
      "[CV]  n_estimators=200, min_samples_split=10, min_samples_leaf=2, max_features=auto, max_depth=15, bootstrap=False, total=   7.7s\n",
      "[CV] n_estimators=900, min_samples_split=10, min_samples_leaf=4, max_features=sqrt, max_depth=36, bootstrap=True \n",
      "[CV]  n_estimators=900, min_samples_split=10, min_samples_leaf=4, max_features=sqrt, max_depth=36, bootstrap=True, total=  23.7s\n",
      "[CV] n_estimators=900, min_samples_split=10, min_samples_leaf=4, max_features=sqrt, max_depth=36, bootstrap=True \n",
      "[CV]  n_estimators=900, min_samples_split=10, min_samples_leaf=4, max_features=sqrt, max_depth=36, bootstrap=True, total=  23.1s\n",
      "[CV] n_estimators=900, min_samples_split=10, min_samples_leaf=4, max_features=sqrt, max_depth=36, bootstrap=True \n",
      "[CV]  n_estimators=900, min_samples_split=10, min_samples_leaf=4, max_features=sqrt, max_depth=36, bootstrap=True, total=  29.5s\n",
      "[CV] n_estimators=900, min_samples_split=10, min_samples_leaf=4, max_features=sqrt, max_depth=36, bootstrap=True \n",
      "[CV]  n_estimators=900, min_samples_split=10, min_samples_leaf=4, max_features=sqrt, max_depth=36, bootstrap=True, total=  23.1s\n",
      "[CV] n_estimators=900, min_samples_split=10, min_samples_leaf=4, max_features=sqrt, max_depth=36, bootstrap=True \n",
      "[CV]  n_estimators=900, min_samples_split=10, min_samples_leaf=4, max_features=sqrt, max_depth=36, bootstrap=True, total=  24.6s\n",
      "[CV] n_estimators=300, min_samples_split=5, min_samples_leaf=2, max_features=sqrt, max_depth=None, bootstrap=True \n",
      "[CV]  n_estimators=300, min_samples_split=5, min_samples_leaf=2, max_features=sqrt, max_depth=None, bootstrap=True, total=   9.6s\n",
      "[CV] n_estimators=300, min_samples_split=5, min_samples_leaf=2, max_features=sqrt, max_depth=None, bootstrap=True \n",
      "[CV]  n_estimators=300, min_samples_split=5, min_samples_leaf=2, max_features=sqrt, max_depth=None, bootstrap=True, total=   9.7s\n",
      "[CV] n_estimators=300, min_samples_split=5, min_samples_leaf=2, max_features=sqrt, max_depth=None, bootstrap=True \n",
      "[CV]  n_estimators=300, min_samples_split=5, min_samples_leaf=2, max_features=sqrt, max_depth=None, bootstrap=True, total=   9.2s\n",
      "[CV] n_estimators=300, min_samples_split=5, min_samples_leaf=2, max_features=sqrt, max_depth=None, bootstrap=True \n",
      "[CV]  n_estimators=300, min_samples_split=5, min_samples_leaf=2, max_features=sqrt, max_depth=None, bootstrap=True, total=   9.1s\n",
      "[CV] n_estimators=300, min_samples_split=5, min_samples_leaf=2, max_features=sqrt, max_depth=None, bootstrap=True \n",
      "[CV]  n_estimators=300, min_samples_split=5, min_samples_leaf=2, max_features=sqrt, max_depth=None, bootstrap=True, total=   9.1s\n",
      "[CV] n_estimators=200, min_samples_split=2, min_samples_leaf=4, max_features=sqrt, max_depth=15, bootstrap=True \n",
      "[CV]  n_estimators=200, min_samples_split=2, min_samples_leaf=4, max_features=sqrt, max_depth=15, bootstrap=True, total=   5.0s\n",
      "[CV] n_estimators=200, min_samples_split=2, min_samples_leaf=4, max_features=sqrt, max_depth=15, bootstrap=True \n",
      "[CV]  n_estimators=200, min_samples_split=2, min_samples_leaf=4, max_features=sqrt, max_depth=15, bootstrap=True, total=   5.5s\n",
      "[CV] n_estimators=200, min_samples_split=2, min_samples_leaf=4, max_features=sqrt, max_depth=15, bootstrap=True \n",
      "[CV]  n_estimators=200, min_samples_split=2, min_samples_leaf=4, max_features=sqrt, max_depth=15, bootstrap=True, total=   4.5s\n",
      "[CV] n_estimators=200, min_samples_split=2, min_samples_leaf=4, max_features=sqrt, max_depth=15, bootstrap=True \n",
      "[CV]  n_estimators=200, min_samples_split=2, min_samples_leaf=4, max_features=sqrt, max_depth=15, bootstrap=True, total=   5.1s\n",
      "[CV] n_estimators=200, min_samples_split=2, min_samples_leaf=4, max_features=sqrt, max_depth=15, bootstrap=True \n",
      "[CV]  n_estimators=200, min_samples_split=2, min_samples_leaf=4, max_features=sqrt, max_depth=15, bootstrap=True, total=   4.6s\n",
      "[CV] n_estimators=1000, min_samples_split=5, min_samples_leaf=4, max_features=sqrt, max_depth=None, bootstrap=True \n"
     ]
    },
    {
     "name": "stdout",
     "output_type": "stream",
     "text": [
      "[CV]  n_estimators=1000, min_samples_split=5, min_samples_leaf=4, max_features=sqrt, max_depth=None, bootstrap=True, total=  25.5s\n",
      "[CV] n_estimators=1000, min_samples_split=5, min_samples_leaf=4, max_features=sqrt, max_depth=None, bootstrap=True \n",
      "[CV]  n_estimators=1000, min_samples_split=5, min_samples_leaf=4, max_features=sqrt, max_depth=None, bootstrap=True, total=  26.1s\n",
      "[CV] n_estimators=1000, min_samples_split=5, min_samples_leaf=4, max_features=sqrt, max_depth=None, bootstrap=True \n",
      "[CV]  n_estimators=1000, min_samples_split=5, min_samples_leaf=4, max_features=sqrt, max_depth=None, bootstrap=True, total=  25.7s\n",
      "[CV] n_estimators=1000, min_samples_split=5, min_samples_leaf=4, max_features=sqrt, max_depth=None, bootstrap=True \n",
      "[CV]  n_estimators=1000, min_samples_split=5, min_samples_leaf=4, max_features=sqrt, max_depth=None, bootstrap=True, total=  26.0s\n",
      "[CV] n_estimators=1000, min_samples_split=5, min_samples_leaf=4, max_features=sqrt, max_depth=None, bootstrap=True \n",
      "[CV]  n_estimators=1000, min_samples_split=5, min_samples_leaf=4, max_features=sqrt, max_depth=None, bootstrap=True, total=  27.6s\n",
      "[CV] n_estimators=600, min_samples_split=2, min_samples_leaf=2, max_features=sqrt, max_depth=36, bootstrap=False \n",
      "[CV]  n_estimators=600, min_samples_split=2, min_samples_leaf=2, max_features=sqrt, max_depth=36, bootstrap=False, total=  29.2s\n",
      "[CV] n_estimators=600, min_samples_split=2, min_samples_leaf=2, max_features=sqrt, max_depth=36, bootstrap=False \n",
      "[CV]  n_estimators=600, min_samples_split=2, min_samples_leaf=2, max_features=sqrt, max_depth=36, bootstrap=False, total=  31.5s\n",
      "[CV] n_estimators=600, min_samples_split=2, min_samples_leaf=2, max_features=sqrt, max_depth=36, bootstrap=False \n",
      "[CV]  n_estimators=600, min_samples_split=2, min_samples_leaf=2, max_features=sqrt, max_depth=36, bootstrap=False, total=  33.3s\n",
      "[CV] n_estimators=600, min_samples_split=2, min_samples_leaf=2, max_features=sqrt, max_depth=36, bootstrap=False \n",
      "[CV]  n_estimators=600, min_samples_split=2, min_samples_leaf=2, max_features=sqrt, max_depth=36, bootstrap=False, total=  31.3s\n",
      "[CV] n_estimators=600, min_samples_split=2, min_samples_leaf=2, max_features=sqrt, max_depth=36, bootstrap=False \n",
      "[CV]  n_estimators=600, min_samples_split=2, min_samples_leaf=2, max_features=sqrt, max_depth=36, bootstrap=False, total=  28.9s\n",
      "[CV] n_estimators=900, min_samples_split=10, min_samples_leaf=4, max_features=auto, max_depth=15, bootstrap=False \n",
      "[CV]  n_estimators=900, min_samples_split=10, min_samples_leaf=4, max_features=auto, max_depth=15, bootstrap=False, total=  36.5s\n",
      "[CV] n_estimators=900, min_samples_split=10, min_samples_leaf=4, max_features=auto, max_depth=15, bootstrap=False \n",
      "[CV]  n_estimators=900, min_samples_split=10, min_samples_leaf=4, max_features=auto, max_depth=15, bootstrap=False, total=  36.7s\n",
      "[CV] n_estimators=900, min_samples_split=10, min_samples_leaf=4, max_features=auto, max_depth=15, bootstrap=False \n",
      "[CV]  n_estimators=900, min_samples_split=10, min_samples_leaf=4, max_features=auto, max_depth=15, bootstrap=False, total=  36.7s\n",
      "[CV] n_estimators=900, min_samples_split=10, min_samples_leaf=4, max_features=auto, max_depth=15, bootstrap=False \n",
      "[CV]  n_estimators=900, min_samples_split=10, min_samples_leaf=4, max_features=auto, max_depth=15, bootstrap=False, total=  37.5s\n",
      "[CV] n_estimators=900, min_samples_split=10, min_samples_leaf=4, max_features=auto, max_depth=15, bootstrap=False \n",
      "[CV]  n_estimators=900, min_samples_split=10, min_samples_leaf=4, max_features=auto, max_depth=15, bootstrap=False, total=  34.4s\n",
      "[CV] n_estimators=200, min_samples_split=2, min_samples_leaf=4, max_features=sqrt, max_depth=5, bootstrap=False \n",
      "[CV]  n_estimators=200, min_samples_split=2, min_samples_leaf=4, max_features=sqrt, max_depth=5, bootstrap=False, total=   4.7s\n",
      "[CV] n_estimators=200, min_samples_split=2, min_samples_leaf=4, max_features=sqrt, max_depth=5, bootstrap=False \n",
      "[CV]  n_estimators=200, min_samples_split=2, min_samples_leaf=4, max_features=sqrt, max_depth=5, bootstrap=False, total=   4.4s\n",
      "[CV] n_estimators=200, min_samples_split=2, min_samples_leaf=4, max_features=sqrt, max_depth=5, bootstrap=False \n",
      "[CV]  n_estimators=200, min_samples_split=2, min_samples_leaf=4, max_features=sqrt, max_depth=5, bootstrap=False, total=   4.2s\n",
      "[CV] n_estimators=200, min_samples_split=2, min_samples_leaf=4, max_features=sqrt, max_depth=5, bootstrap=False \n",
      "[CV]  n_estimators=200, min_samples_split=2, min_samples_leaf=4, max_features=sqrt, max_depth=5, bootstrap=False, total=   4.1s\n",
      "[CV] n_estimators=200, min_samples_split=2, min_samples_leaf=4, max_features=sqrt, max_depth=5, bootstrap=False \n",
      "[CV]  n_estimators=200, min_samples_split=2, min_samples_leaf=4, max_features=sqrt, max_depth=5, bootstrap=False, total=   3.8s\n",
      "[CV] n_estimators=500, min_samples_split=2, min_samples_leaf=4, max_features=sqrt, max_depth=100, bootstrap=False \n",
      "[CV]  n_estimators=500, min_samples_split=2, min_samples_leaf=4, max_features=sqrt, max_depth=100, bootstrap=False, total=  24.3s\n",
      "[CV] n_estimators=500, min_samples_split=2, min_samples_leaf=4, max_features=sqrt, max_depth=100, bootstrap=False \n",
      "[CV]  n_estimators=500, min_samples_split=2, min_samples_leaf=4, max_features=sqrt, max_depth=100, bootstrap=False, total=  22.0s\n",
      "[CV] n_estimators=500, min_samples_split=2, min_samples_leaf=4, max_features=sqrt, max_depth=100, bootstrap=False \n",
      "[CV]  n_estimators=500, min_samples_split=2, min_samples_leaf=4, max_features=sqrt, max_depth=100, bootstrap=False, total=  21.6s\n",
      "[CV] n_estimators=500, min_samples_split=2, min_samples_leaf=4, max_features=sqrt, max_depth=100, bootstrap=False \n",
      "[CV]  n_estimators=500, min_samples_split=2, min_samples_leaf=4, max_features=sqrt, max_depth=100, bootstrap=False, total=  22.1s\n",
      "[CV] n_estimators=500, min_samples_split=2, min_samples_leaf=4, max_features=sqrt, max_depth=100, bootstrap=False \n",
      "[CV]  n_estimators=500, min_samples_split=2, min_samples_leaf=4, max_features=sqrt, max_depth=100, bootstrap=False, total=  21.3s\n",
      "[CV] n_estimators=600, min_samples_split=5, min_samples_leaf=2, max_features=sqrt, max_depth=5, bootstrap=False \n",
      "[CV]  n_estimators=600, min_samples_split=5, min_samples_leaf=2, max_features=sqrt, max_depth=5, bootstrap=False, total=  12.9s\n",
      "[CV] n_estimators=600, min_samples_split=5, min_samples_leaf=2, max_features=sqrt, max_depth=5, bootstrap=False \n",
      "[CV]  n_estimators=600, min_samples_split=5, min_samples_leaf=2, max_features=sqrt, max_depth=5, bootstrap=False, total=  13.0s\n",
      "[CV] n_estimators=600, min_samples_split=5, min_samples_leaf=2, max_features=sqrt, max_depth=5, bootstrap=False \n",
      "[CV]  n_estimators=600, min_samples_split=5, min_samples_leaf=2, max_features=sqrt, max_depth=5, bootstrap=False, total=  12.3s\n",
      "[CV] n_estimators=600, min_samples_split=5, min_samples_leaf=2, max_features=sqrt, max_depth=5, bootstrap=False \n",
      "[CV]  n_estimators=600, min_samples_split=5, min_samples_leaf=2, max_features=sqrt, max_depth=5, bootstrap=False, total=  12.2s\n",
      "[CV] n_estimators=600, min_samples_split=5, min_samples_leaf=2, max_features=sqrt, max_depth=5, bootstrap=False \n",
      "[CV]  n_estimators=600, min_samples_split=5, min_samples_leaf=2, max_features=sqrt, max_depth=5, bootstrap=False, total=  12.0s\n",
      "[CV] n_estimators=100, min_samples_split=2, min_samples_leaf=4, max_features=sqrt, max_depth=5, bootstrap=False \n",
      "[CV]  n_estimators=100, min_samples_split=2, min_samples_leaf=4, max_features=sqrt, max_depth=5, bootstrap=False, total=   2.2s\n",
      "[CV] n_estimators=100, min_samples_split=2, min_samples_leaf=4, max_features=sqrt, max_depth=5, bootstrap=False \n",
      "[CV]  n_estimators=100, min_samples_split=2, min_samples_leaf=4, max_features=sqrt, max_depth=5, bootstrap=False, total=   2.2s\n",
      "[CV] n_estimators=100, min_samples_split=2, min_samples_leaf=4, max_features=sqrt, max_depth=5, bootstrap=False \n",
      "[CV]  n_estimators=100, min_samples_split=2, min_samples_leaf=4, max_features=sqrt, max_depth=5, bootstrap=False, total=   2.1s\n",
      "[CV] n_estimators=100, min_samples_split=2, min_samples_leaf=4, max_features=sqrt, max_depth=5, bootstrap=False \n",
      "[CV]  n_estimators=100, min_samples_split=2, min_samples_leaf=4, max_features=sqrt, max_depth=5, bootstrap=False, total=   2.1s\n",
      "[CV] n_estimators=100, min_samples_split=2, min_samples_leaf=4, max_features=sqrt, max_depth=5, bootstrap=False \n"
     ]
    },
    {
     "name": "stdout",
     "output_type": "stream",
     "text": [
      "[CV]  n_estimators=100, min_samples_split=2, min_samples_leaf=4, max_features=sqrt, max_depth=5, bootstrap=False, total=   2.2s\n",
      "[CV] n_estimators=500, min_samples_split=2, min_samples_leaf=2, max_features=sqrt, max_depth=None, bootstrap=True \n",
      "[CV]  n_estimators=500, min_samples_split=2, min_samples_leaf=2, max_features=sqrt, max_depth=None, bootstrap=True, total=  15.4s\n",
      "[CV] n_estimators=500, min_samples_split=2, min_samples_leaf=2, max_features=sqrt, max_depth=None, bootstrap=True \n",
      "[CV]  n_estimators=500, min_samples_split=2, min_samples_leaf=2, max_features=sqrt, max_depth=None, bootstrap=True, total=  15.6s\n",
      "[CV] n_estimators=500, min_samples_split=2, min_samples_leaf=2, max_features=sqrt, max_depth=None, bootstrap=True \n",
      "[CV]  n_estimators=500, min_samples_split=2, min_samples_leaf=2, max_features=sqrt, max_depth=None, bootstrap=True, total=  16.1s\n",
      "[CV] n_estimators=500, min_samples_split=2, min_samples_leaf=2, max_features=sqrt, max_depth=None, bootstrap=True \n",
      "[CV]  n_estimators=500, min_samples_split=2, min_samples_leaf=2, max_features=sqrt, max_depth=None, bootstrap=True, total=  15.3s\n",
      "[CV] n_estimators=500, min_samples_split=2, min_samples_leaf=2, max_features=sqrt, max_depth=None, bootstrap=True \n",
      "[CV]  n_estimators=500, min_samples_split=2, min_samples_leaf=2, max_features=sqrt, max_depth=None, bootstrap=True, total=  15.6s\n",
      "[CV] n_estimators=500, min_samples_split=5, min_samples_leaf=4, max_features=auto, max_depth=100, bootstrap=False \n",
      "[CV]  n_estimators=500, min_samples_split=5, min_samples_leaf=4, max_features=auto, max_depth=100, bootstrap=False, total=  24.0s\n",
      "[CV] n_estimators=500, min_samples_split=5, min_samples_leaf=4, max_features=auto, max_depth=100, bootstrap=False \n",
      "[CV]  n_estimators=500, min_samples_split=5, min_samples_leaf=4, max_features=auto, max_depth=100, bootstrap=False, total=  22.4s\n",
      "[CV] n_estimators=500, min_samples_split=5, min_samples_leaf=4, max_features=auto, max_depth=100, bootstrap=False \n",
      "[CV]  n_estimators=500, min_samples_split=5, min_samples_leaf=4, max_features=auto, max_depth=100, bootstrap=False, total=  21.2s\n",
      "[CV] n_estimators=500, min_samples_split=5, min_samples_leaf=4, max_features=auto, max_depth=100, bootstrap=False \n",
      "[CV]  n_estimators=500, min_samples_split=5, min_samples_leaf=4, max_features=auto, max_depth=100, bootstrap=False, total=  23.0s\n",
      "[CV] n_estimators=500, min_samples_split=5, min_samples_leaf=4, max_features=auto, max_depth=100, bootstrap=False \n",
      "[CV]  n_estimators=500, min_samples_split=5, min_samples_leaf=4, max_features=auto, max_depth=100, bootstrap=False, total=  22.3s\n",
      "[CV] n_estimators=600, min_samples_split=10, min_samples_leaf=2, max_features=sqrt, max_depth=68, bootstrap=False \n",
      "[CV]  n_estimators=600, min_samples_split=10, min_samples_leaf=2, max_features=sqrt, max_depth=68, bootstrap=False, total=  30.2s\n",
      "[CV] n_estimators=600, min_samples_split=10, min_samples_leaf=2, max_features=sqrt, max_depth=68, bootstrap=False \n",
      "[CV]  n_estimators=600, min_samples_split=10, min_samples_leaf=2, max_features=sqrt, max_depth=68, bootstrap=False, total=  31.2s\n",
      "[CV] n_estimators=600, min_samples_split=10, min_samples_leaf=2, max_features=sqrt, max_depth=68, bootstrap=False \n",
      "[CV]  n_estimators=600, min_samples_split=10, min_samples_leaf=2, max_features=sqrt, max_depth=68, bootstrap=False, total=  29.5s\n",
      "[CV] n_estimators=600, min_samples_split=10, min_samples_leaf=2, max_features=sqrt, max_depth=68, bootstrap=False \n",
      "[CV]  n_estimators=600, min_samples_split=10, min_samples_leaf=2, max_features=sqrt, max_depth=68, bootstrap=False, total=  28.7s\n",
      "[CV] n_estimators=600, min_samples_split=10, min_samples_leaf=2, max_features=sqrt, max_depth=68, bootstrap=False \n",
      "[CV]  n_estimators=600, min_samples_split=10, min_samples_leaf=2, max_features=sqrt, max_depth=68, bootstrap=False, total=  29.2s\n",
      "[CV] n_estimators=600, min_samples_split=2, min_samples_leaf=2, max_features=auto, max_depth=5, bootstrap=False \n",
      "[CV]  n_estimators=600, min_samples_split=2, min_samples_leaf=2, max_features=auto, max_depth=5, bootstrap=False, total=  12.2s\n",
      "[CV] n_estimators=600, min_samples_split=2, min_samples_leaf=2, max_features=auto, max_depth=5, bootstrap=False \n",
      "[CV]  n_estimators=600, min_samples_split=2, min_samples_leaf=2, max_features=auto, max_depth=5, bootstrap=False, total=  13.5s\n",
      "[CV] n_estimators=600, min_samples_split=2, min_samples_leaf=2, max_features=auto, max_depth=5, bootstrap=False \n",
      "[CV]  n_estimators=600, min_samples_split=2, min_samples_leaf=2, max_features=auto, max_depth=5, bootstrap=False, total=  12.9s\n",
      "[CV] n_estimators=600, min_samples_split=2, min_samples_leaf=2, max_features=auto, max_depth=5, bootstrap=False \n",
      "[CV]  n_estimators=600, min_samples_split=2, min_samples_leaf=2, max_features=auto, max_depth=5, bootstrap=False, total=  12.7s\n",
      "[CV] n_estimators=600, min_samples_split=2, min_samples_leaf=2, max_features=auto, max_depth=5, bootstrap=False \n",
      "[CV]  n_estimators=600, min_samples_split=2, min_samples_leaf=2, max_features=auto, max_depth=5, bootstrap=False, total=  12.2s\n",
      "[CV] n_estimators=600, min_samples_split=2, min_samples_leaf=2, max_features=auto, max_depth=47, bootstrap=True \n",
      "[CV]  n_estimators=600, min_samples_split=2, min_samples_leaf=2, max_features=auto, max_depth=47, bootstrap=True, total=  17.8s\n",
      "[CV] n_estimators=600, min_samples_split=2, min_samples_leaf=2, max_features=auto, max_depth=47, bootstrap=True \n",
      "[CV]  n_estimators=600, min_samples_split=2, min_samples_leaf=2, max_features=auto, max_depth=47, bootstrap=True, total=  21.1s\n",
      "[CV] n_estimators=600, min_samples_split=2, min_samples_leaf=2, max_features=auto, max_depth=47, bootstrap=True \n",
      "[CV]  n_estimators=600, min_samples_split=2, min_samples_leaf=2, max_features=auto, max_depth=47, bootstrap=True, total=  17.6s\n",
      "[CV] n_estimators=600, min_samples_split=2, min_samples_leaf=2, max_features=auto, max_depth=47, bootstrap=True \n",
      "[CV]  n_estimators=600, min_samples_split=2, min_samples_leaf=2, max_features=auto, max_depth=47, bootstrap=True, total=  19.0s\n",
      "[CV] n_estimators=600, min_samples_split=2, min_samples_leaf=2, max_features=auto, max_depth=47, bootstrap=True \n",
      "[CV]  n_estimators=600, min_samples_split=2, min_samples_leaf=2, max_features=auto, max_depth=47, bootstrap=True, total=  17.8s\n",
      "[CV] n_estimators=200, min_samples_split=5, min_samples_leaf=2, max_features=auto, max_depth=15, bootstrap=False \n",
      "[CV]  n_estimators=200, min_samples_split=5, min_samples_leaf=2, max_features=auto, max_depth=15, bootstrap=False, total=   8.0s\n",
      "[CV] n_estimators=200, min_samples_split=5, min_samples_leaf=2, max_features=auto, max_depth=15, bootstrap=False \n",
      "[CV]  n_estimators=200, min_samples_split=5, min_samples_leaf=2, max_features=auto, max_depth=15, bootstrap=False, total=   8.8s\n",
      "[CV] n_estimators=200, min_samples_split=5, min_samples_leaf=2, max_features=auto, max_depth=15, bootstrap=False \n",
      "[CV]  n_estimators=200, min_samples_split=5, min_samples_leaf=2, max_features=auto, max_depth=15, bootstrap=False, total=   8.9s\n",
      "[CV] n_estimators=200, min_samples_split=5, min_samples_leaf=2, max_features=auto, max_depth=15, bootstrap=False \n",
      "[CV]  n_estimators=200, min_samples_split=5, min_samples_leaf=2, max_features=auto, max_depth=15, bootstrap=False, total=   7.8s\n",
      "[CV] n_estimators=200, min_samples_split=5, min_samples_leaf=2, max_features=auto, max_depth=15, bootstrap=False \n",
      "[CV]  n_estimators=200, min_samples_split=5, min_samples_leaf=2, max_features=auto, max_depth=15, bootstrap=False, total=   7.8s\n",
      "[CV] n_estimators=700, min_samples_split=2, min_samples_leaf=4, max_features=sqrt, max_depth=89, bootstrap=True \n",
      "[CV]  n_estimators=700, min_samples_split=2, min_samples_leaf=4, max_features=sqrt, max_depth=89, bootstrap=True, total=  19.4s\n",
      "[CV] n_estimators=700, min_samples_split=2, min_samples_leaf=4, max_features=sqrt, max_depth=89, bootstrap=True \n",
      "[CV]  n_estimators=700, min_samples_split=2, min_samples_leaf=4, max_features=sqrt, max_depth=89, bootstrap=True, total=  18.0s\n",
      "[CV] n_estimators=700, min_samples_split=2, min_samples_leaf=4, max_features=sqrt, max_depth=89, bootstrap=True \n",
      "[CV]  n_estimators=700, min_samples_split=2, min_samples_leaf=4, max_features=sqrt, max_depth=89, bootstrap=True, total=  19.0s\n",
      "[CV] n_estimators=700, min_samples_split=2, min_samples_leaf=4, max_features=sqrt, max_depth=89, bootstrap=True \n"
     ]
    },
    {
     "name": "stdout",
     "output_type": "stream",
     "text": [
      "[CV]  n_estimators=700, min_samples_split=2, min_samples_leaf=4, max_features=sqrt, max_depth=89, bootstrap=True, total=  18.7s\n",
      "[CV] n_estimators=700, min_samples_split=2, min_samples_leaf=4, max_features=sqrt, max_depth=89, bootstrap=True \n",
      "[CV]  n_estimators=700, min_samples_split=2, min_samples_leaf=4, max_features=sqrt, max_depth=89, bootstrap=True, total=  18.9s\n",
      "[CV] n_estimators=100, min_samples_split=10, min_samples_leaf=4, max_features=auto, max_depth=36, bootstrap=True \n",
      "[CV]  n_estimators=100, min_samples_split=10, min_samples_leaf=4, max_features=auto, max_depth=36, bootstrap=True, total=   2.6s\n",
      "[CV] n_estimators=100, min_samples_split=10, min_samples_leaf=4, max_features=auto, max_depth=36, bootstrap=True \n",
      "[CV]  n_estimators=100, min_samples_split=10, min_samples_leaf=4, max_features=auto, max_depth=36, bootstrap=True, total=   2.6s\n",
      "[CV] n_estimators=100, min_samples_split=10, min_samples_leaf=4, max_features=auto, max_depth=36, bootstrap=True \n",
      "[CV]  n_estimators=100, min_samples_split=10, min_samples_leaf=4, max_features=auto, max_depth=36, bootstrap=True, total=   2.6s\n",
      "[CV] n_estimators=100, min_samples_split=10, min_samples_leaf=4, max_features=auto, max_depth=36, bootstrap=True \n",
      "[CV]  n_estimators=100, min_samples_split=10, min_samples_leaf=4, max_features=auto, max_depth=36, bootstrap=True, total=   2.7s\n",
      "[CV] n_estimators=100, min_samples_split=10, min_samples_leaf=4, max_features=auto, max_depth=36, bootstrap=True \n",
      "[CV]  n_estimators=100, min_samples_split=10, min_samples_leaf=4, max_features=auto, max_depth=36, bootstrap=True, total=   2.6s\n",
      "[CV] n_estimators=400, min_samples_split=5, min_samples_leaf=2, max_features=auto, max_depth=None, bootstrap=True \n",
      "[CV]  n_estimators=400, min_samples_split=5, min_samples_leaf=2, max_features=auto, max_depth=None, bootstrap=True, total=  12.6s\n",
      "[CV] n_estimators=400, min_samples_split=5, min_samples_leaf=2, max_features=auto, max_depth=None, bootstrap=True \n",
      "[CV]  n_estimators=400, min_samples_split=5, min_samples_leaf=2, max_features=auto, max_depth=None, bootstrap=True, total=  13.3s\n",
      "[CV] n_estimators=400, min_samples_split=5, min_samples_leaf=2, max_features=auto, max_depth=None, bootstrap=True \n",
      "[CV]  n_estimators=400, min_samples_split=5, min_samples_leaf=2, max_features=auto, max_depth=None, bootstrap=True, total=  13.3s\n",
      "[CV] n_estimators=400, min_samples_split=5, min_samples_leaf=2, max_features=auto, max_depth=None, bootstrap=True \n",
      "[CV]  n_estimators=400, min_samples_split=5, min_samples_leaf=2, max_features=auto, max_depth=None, bootstrap=True, total=  13.7s\n",
      "[CV] n_estimators=400, min_samples_split=5, min_samples_leaf=2, max_features=auto, max_depth=None, bootstrap=True \n",
      "[CV]  n_estimators=400, min_samples_split=5, min_samples_leaf=2, max_features=auto, max_depth=None, bootstrap=True, total=  11.7s\n",
      "[CV] n_estimators=100, min_samples_split=5, min_samples_leaf=4, max_features=auto, max_depth=None, bootstrap=False \n",
      "[CV]  n_estimators=100, min_samples_split=5, min_samples_leaf=4, max_features=auto, max_depth=None, bootstrap=False, total=   4.5s\n",
      "[CV] n_estimators=100, min_samples_split=5, min_samples_leaf=4, max_features=auto, max_depth=None, bootstrap=False \n",
      "[CV]  n_estimators=100, min_samples_split=5, min_samples_leaf=4, max_features=auto, max_depth=None, bootstrap=False, total=   4.6s\n",
      "[CV] n_estimators=100, min_samples_split=5, min_samples_leaf=4, max_features=auto, max_depth=None, bootstrap=False \n",
      "[CV]  n_estimators=100, min_samples_split=5, min_samples_leaf=4, max_features=auto, max_depth=None, bootstrap=False, total=   4.4s\n",
      "[CV] n_estimators=100, min_samples_split=5, min_samples_leaf=4, max_features=auto, max_depth=None, bootstrap=False \n",
      "[CV]  n_estimators=100, min_samples_split=5, min_samples_leaf=4, max_features=auto, max_depth=None, bootstrap=False, total=   4.4s\n",
      "[CV] n_estimators=100, min_samples_split=5, min_samples_leaf=4, max_features=auto, max_depth=None, bootstrap=False \n",
      "[CV]  n_estimators=100, min_samples_split=5, min_samples_leaf=4, max_features=auto, max_depth=None, bootstrap=False, total=   4.2s\n",
      "[CV] n_estimators=100, min_samples_split=2, min_samples_leaf=2, max_features=sqrt, max_depth=36, bootstrap=False \n",
      "[CV]  n_estimators=100, min_samples_split=2, min_samples_leaf=2, max_features=sqrt, max_depth=36, bootstrap=False, total=   5.1s\n",
      "[CV] n_estimators=100, min_samples_split=2, min_samples_leaf=2, max_features=sqrt, max_depth=36, bootstrap=False \n",
      "[CV]  n_estimators=100, min_samples_split=2, min_samples_leaf=2, max_features=sqrt, max_depth=36, bootstrap=False, total=   5.0s\n",
      "[CV] n_estimators=100, min_samples_split=2, min_samples_leaf=2, max_features=sqrt, max_depth=36, bootstrap=False \n",
      "[CV]  n_estimators=100, min_samples_split=2, min_samples_leaf=2, max_features=sqrt, max_depth=36, bootstrap=False, total=   5.1s\n",
      "[CV] n_estimators=100, min_samples_split=2, min_samples_leaf=2, max_features=sqrt, max_depth=36, bootstrap=False \n",
      "[CV]  n_estimators=100, min_samples_split=2, min_samples_leaf=2, max_features=sqrt, max_depth=36, bootstrap=False, total=   4.8s\n",
      "[CV] n_estimators=100, min_samples_split=2, min_samples_leaf=2, max_features=sqrt, max_depth=36, bootstrap=False \n",
      "[CV]  n_estimators=100, min_samples_split=2, min_samples_leaf=2, max_features=sqrt, max_depth=36, bootstrap=False, total=   5.0s\n",
      "[CV] n_estimators=1000, min_samples_split=10, min_samples_leaf=4, max_features=auto, max_depth=100, bootstrap=False \n",
      "[CV]  n_estimators=1000, min_samples_split=10, min_samples_leaf=4, max_features=auto, max_depth=100, bootstrap=False, total=  46.0s\n",
      "[CV] n_estimators=1000, min_samples_split=10, min_samples_leaf=4, max_features=auto, max_depth=100, bootstrap=False \n",
      "[CV]  n_estimators=1000, min_samples_split=10, min_samples_leaf=4, max_features=auto, max_depth=100, bootstrap=False, total=  42.3s\n",
      "[CV] n_estimators=1000, min_samples_split=10, min_samples_leaf=4, max_features=auto, max_depth=100, bootstrap=False \n",
      "[CV]  n_estimators=1000, min_samples_split=10, min_samples_leaf=4, max_features=auto, max_depth=100, bootstrap=False, total=  44.1s\n",
      "[CV] n_estimators=1000, min_samples_split=10, min_samples_leaf=4, max_features=auto, max_depth=100, bootstrap=False \n",
      "[CV]  n_estimators=1000, min_samples_split=10, min_samples_leaf=4, max_features=auto, max_depth=100, bootstrap=False, total=  42.0s\n",
      "[CV] n_estimators=1000, min_samples_split=10, min_samples_leaf=4, max_features=auto, max_depth=100, bootstrap=False \n",
      "[CV]  n_estimators=1000, min_samples_split=10, min_samples_leaf=4, max_features=auto, max_depth=100, bootstrap=False, total=  47.6s\n",
      "[CV] n_estimators=500, min_samples_split=5, min_samples_leaf=4, max_features=sqrt, max_depth=36, bootstrap=True \n",
      "[CV]  n_estimators=500, min_samples_split=5, min_samples_leaf=4, max_features=sqrt, max_depth=36, bootstrap=True, total=  13.2s\n",
      "[CV] n_estimators=500, min_samples_split=5, min_samples_leaf=4, max_features=sqrt, max_depth=36, bootstrap=True \n",
      "[CV]  n_estimators=500, min_samples_split=5, min_samples_leaf=4, max_features=sqrt, max_depth=36, bootstrap=True, total=  13.3s\n",
      "[CV] n_estimators=500, min_samples_split=5, min_samples_leaf=4, max_features=sqrt, max_depth=36, bootstrap=True \n",
      "[CV]  n_estimators=500, min_samples_split=5, min_samples_leaf=4, max_features=sqrt, max_depth=36, bootstrap=True, total=  13.8s\n",
      "[CV] n_estimators=500, min_samples_split=5, min_samples_leaf=4, max_features=sqrt, max_depth=36, bootstrap=True \n",
      "[CV]  n_estimators=500, min_samples_split=5, min_samples_leaf=4, max_features=sqrt, max_depth=36, bootstrap=True, total=  15.2s\n",
      "[CV] n_estimators=500, min_samples_split=5, min_samples_leaf=4, max_features=sqrt, max_depth=36, bootstrap=True \n",
      "[CV]  n_estimators=500, min_samples_split=5, min_samples_leaf=4, max_features=sqrt, max_depth=36, bootstrap=True, total=  14.0s\n",
      "[CV] n_estimators=700, min_samples_split=10, min_samples_leaf=2, max_features=sqrt, max_depth=36, bootstrap=False \n",
      "[CV]  n_estimators=700, min_samples_split=10, min_samples_leaf=2, max_features=sqrt, max_depth=36, bootstrap=False, total=  36.0s\n",
      "[CV] n_estimators=700, min_samples_split=10, min_samples_leaf=2, max_features=sqrt, max_depth=36, bootstrap=False \n",
      "[CV]  n_estimators=700, min_samples_split=10, min_samples_leaf=2, max_features=sqrt, max_depth=36, bootstrap=False, total=  33.7s\n",
      "[CV] n_estimators=700, min_samples_split=10, min_samples_leaf=2, max_features=sqrt, max_depth=36, bootstrap=False \n"
     ]
    },
    {
     "name": "stdout",
     "output_type": "stream",
     "text": [
      "[CV]  n_estimators=700, min_samples_split=10, min_samples_leaf=2, max_features=sqrt, max_depth=36, bootstrap=False, total=  33.7s\n",
      "[CV] n_estimators=700, min_samples_split=10, min_samples_leaf=2, max_features=sqrt, max_depth=36, bootstrap=False \n",
      "[CV]  n_estimators=700, min_samples_split=10, min_samples_leaf=2, max_features=sqrt, max_depth=36, bootstrap=False, total=  34.4s\n",
      "[CV] n_estimators=700, min_samples_split=10, min_samples_leaf=2, max_features=sqrt, max_depth=36, bootstrap=False \n",
      "[CV]  n_estimators=700, min_samples_split=10, min_samples_leaf=2, max_features=sqrt, max_depth=36, bootstrap=False, total=  33.2s\n",
      "[CV] n_estimators=300, min_samples_split=5, min_samples_leaf=4, max_features=sqrt, max_depth=47, bootstrap=True \n",
      "[CV]  n_estimators=300, min_samples_split=5, min_samples_leaf=4, max_features=sqrt, max_depth=47, bootstrap=True, total=   9.5s\n",
      "[CV] n_estimators=300, min_samples_split=5, min_samples_leaf=4, max_features=sqrt, max_depth=47, bootstrap=True \n",
      "[CV]  n_estimators=300, min_samples_split=5, min_samples_leaf=4, max_features=sqrt, max_depth=47, bootstrap=True, total=   8.4s\n",
      "[CV] n_estimators=300, min_samples_split=5, min_samples_leaf=4, max_features=sqrt, max_depth=47, bootstrap=True \n",
      "[CV]  n_estimators=300, min_samples_split=5, min_samples_leaf=4, max_features=sqrt, max_depth=47, bootstrap=True, total=   7.8s\n",
      "[CV] n_estimators=300, min_samples_split=5, min_samples_leaf=4, max_features=sqrt, max_depth=47, bootstrap=True \n",
      "[CV]  n_estimators=300, min_samples_split=5, min_samples_leaf=4, max_features=sqrt, max_depth=47, bootstrap=True, total=  10.1s\n",
      "[CV] n_estimators=300, min_samples_split=5, min_samples_leaf=4, max_features=sqrt, max_depth=47, bootstrap=True \n",
      "[CV]  n_estimators=300, min_samples_split=5, min_samples_leaf=4, max_features=sqrt, max_depth=47, bootstrap=True, total=   8.5s\n",
      "[CV] n_estimators=100, min_samples_split=10, min_samples_leaf=2, max_features=sqrt, max_depth=68, bootstrap=False \n",
      "[CV]  n_estimators=100, min_samples_split=10, min_samples_leaf=2, max_features=sqrt, max_depth=68, bootstrap=False, total=   5.0s\n",
      "[CV] n_estimators=100, min_samples_split=10, min_samples_leaf=2, max_features=sqrt, max_depth=68, bootstrap=False \n",
      "[CV]  n_estimators=100, min_samples_split=10, min_samples_leaf=2, max_features=sqrt, max_depth=68, bootstrap=False, total=   4.9s\n",
      "[CV] n_estimators=100, min_samples_split=10, min_samples_leaf=2, max_features=sqrt, max_depth=68, bootstrap=False \n",
      "[CV]  n_estimators=100, min_samples_split=10, min_samples_leaf=2, max_features=sqrt, max_depth=68, bootstrap=False, total=   4.8s\n",
      "[CV] n_estimators=100, min_samples_split=10, min_samples_leaf=2, max_features=sqrt, max_depth=68, bootstrap=False \n",
      "[CV]  n_estimators=100, min_samples_split=10, min_samples_leaf=2, max_features=sqrt, max_depth=68, bootstrap=False, total=   4.9s\n",
      "[CV] n_estimators=100, min_samples_split=10, min_samples_leaf=2, max_features=sqrt, max_depth=68, bootstrap=False \n",
      "[CV]  n_estimators=100, min_samples_split=10, min_samples_leaf=2, max_features=sqrt, max_depth=68, bootstrap=False, total=   4.9s\n",
      "[CV] n_estimators=100, min_samples_split=5, min_samples_leaf=2, max_features=sqrt, max_depth=36, bootstrap=True \n",
      "[CV]  n_estimators=100, min_samples_split=5, min_samples_leaf=2, max_features=sqrt, max_depth=36, bootstrap=True, total=   3.0s\n",
      "[CV] n_estimators=100, min_samples_split=5, min_samples_leaf=2, max_features=sqrt, max_depth=36, bootstrap=True \n",
      "[CV]  n_estimators=100, min_samples_split=5, min_samples_leaf=2, max_features=sqrt, max_depth=36, bootstrap=True, total=   3.1s\n",
      "[CV] n_estimators=100, min_samples_split=5, min_samples_leaf=2, max_features=sqrt, max_depth=36, bootstrap=True \n",
      "[CV]  n_estimators=100, min_samples_split=5, min_samples_leaf=2, max_features=sqrt, max_depth=36, bootstrap=True, total=   3.0s\n",
      "[CV] n_estimators=100, min_samples_split=5, min_samples_leaf=2, max_features=sqrt, max_depth=36, bootstrap=True \n",
      "[CV]  n_estimators=100, min_samples_split=5, min_samples_leaf=2, max_features=sqrt, max_depth=36, bootstrap=True, total=   3.0s\n",
      "[CV] n_estimators=100, min_samples_split=5, min_samples_leaf=2, max_features=sqrt, max_depth=36, bootstrap=True \n",
      "[CV]  n_estimators=100, min_samples_split=5, min_samples_leaf=2, max_features=sqrt, max_depth=36, bootstrap=True, total=   3.0s\n",
      "[CV] n_estimators=800, min_samples_split=5, min_samples_leaf=2, max_features=auto, max_depth=78, bootstrap=False \n",
      "[CV]  n_estimators=800, min_samples_split=5, min_samples_leaf=2, max_features=auto, max_depth=78, bootstrap=False, total=  41.0s\n",
      "[CV] n_estimators=800, min_samples_split=5, min_samples_leaf=2, max_features=auto, max_depth=78, bootstrap=False \n",
      "[CV]  n_estimators=800, min_samples_split=5, min_samples_leaf=2, max_features=auto, max_depth=78, bootstrap=False, total=  39.3s\n",
      "[CV] n_estimators=800, min_samples_split=5, min_samples_leaf=2, max_features=auto, max_depth=78, bootstrap=False \n",
      "[CV]  n_estimators=800, min_samples_split=5, min_samples_leaf=2, max_features=auto, max_depth=78, bootstrap=False, total=  43.2s\n",
      "[CV] n_estimators=800, min_samples_split=5, min_samples_leaf=2, max_features=auto, max_depth=78, bootstrap=False \n",
      "[CV]  n_estimators=800, min_samples_split=5, min_samples_leaf=2, max_features=auto, max_depth=78, bootstrap=False, total=  39.3s\n",
      "[CV] n_estimators=800, min_samples_split=5, min_samples_leaf=2, max_features=auto, max_depth=78, bootstrap=False \n",
      "[CV]  n_estimators=800, min_samples_split=5, min_samples_leaf=2, max_features=auto, max_depth=78, bootstrap=False, total=  38.8s\n",
      "[CV] n_estimators=600, min_samples_split=10, min_samples_leaf=4, max_features=auto, max_depth=5, bootstrap=False \n",
      "[CV]  n_estimators=600, min_samples_split=10, min_samples_leaf=4, max_features=auto, max_depth=5, bootstrap=False, total=  15.2s\n",
      "[CV] n_estimators=600, min_samples_split=10, min_samples_leaf=4, max_features=auto, max_depth=5, bootstrap=False \n",
      "[CV]  n_estimators=600, min_samples_split=10, min_samples_leaf=4, max_features=auto, max_depth=5, bootstrap=False, total=  12.6s\n",
      "[CV] n_estimators=600, min_samples_split=10, min_samples_leaf=4, max_features=auto, max_depth=5, bootstrap=False \n",
      "[CV]  n_estimators=600, min_samples_split=10, min_samples_leaf=4, max_features=auto, max_depth=5, bootstrap=False, total=  12.2s\n",
      "[CV] n_estimators=600, min_samples_split=10, min_samples_leaf=4, max_features=auto, max_depth=5, bootstrap=False \n",
      "[CV]  n_estimators=600, min_samples_split=10, min_samples_leaf=4, max_features=auto, max_depth=5, bootstrap=False, total=  12.7s\n",
      "[CV] n_estimators=600, min_samples_split=10, min_samples_leaf=4, max_features=auto, max_depth=5, bootstrap=False \n",
      "[CV]  n_estimators=600, min_samples_split=10, min_samples_leaf=4, max_features=auto, max_depth=5, bootstrap=False, total=  14.4s\n",
      "[CV] n_estimators=1000, min_samples_split=2, min_samples_leaf=4, max_features=sqrt, max_depth=57, bootstrap=False \n",
      "[CV]  n_estimators=1000, min_samples_split=2, min_samples_leaf=4, max_features=sqrt, max_depth=57, bootstrap=False, total=  46.9s\n",
      "[CV] n_estimators=1000, min_samples_split=2, min_samples_leaf=4, max_features=sqrt, max_depth=57, bootstrap=False \n",
      "[CV]  n_estimators=1000, min_samples_split=2, min_samples_leaf=4, max_features=sqrt, max_depth=57, bootstrap=False, total=  44.7s\n",
      "[CV] n_estimators=1000, min_samples_split=2, min_samples_leaf=4, max_features=sqrt, max_depth=57, bootstrap=False \n",
      "[CV]  n_estimators=1000, min_samples_split=2, min_samples_leaf=4, max_features=sqrt, max_depth=57, bootstrap=False, total=  45.9s\n",
      "[CV] n_estimators=1000, min_samples_split=2, min_samples_leaf=4, max_features=sqrt, max_depth=57, bootstrap=False \n",
      "[CV]  n_estimators=1000, min_samples_split=2, min_samples_leaf=4, max_features=sqrt, max_depth=57, bootstrap=False, total=  45.9s\n",
      "[CV] n_estimators=1000, min_samples_split=2, min_samples_leaf=4, max_features=sqrt, max_depth=57, bootstrap=False \n",
      "[CV]  n_estimators=1000, min_samples_split=2, min_samples_leaf=4, max_features=sqrt, max_depth=57, bootstrap=False, total=  44.7s\n",
      "[CV] n_estimators=200, min_samples_split=2, min_samples_leaf=2, max_features=auto, max_depth=78, bootstrap=False \n",
      "[CV]  n_estimators=200, min_samples_split=2, min_samples_leaf=2, max_features=auto, max_depth=78, bootstrap=False, total=  11.0s\n",
      "[CV] n_estimators=200, min_samples_split=2, min_samples_leaf=2, max_features=auto, max_depth=78, bootstrap=False \n"
     ]
    },
    {
     "name": "stdout",
     "output_type": "stream",
     "text": [
      "[CV]  n_estimators=200, min_samples_split=2, min_samples_leaf=2, max_features=auto, max_depth=78, bootstrap=False, total=  10.2s\n",
      "[CV] n_estimators=200, min_samples_split=2, min_samples_leaf=2, max_features=auto, max_depth=78, bootstrap=False \n",
      "[CV]  n_estimators=200, min_samples_split=2, min_samples_leaf=2, max_features=auto, max_depth=78, bootstrap=False, total=  10.2s\n",
      "[CV] n_estimators=200, min_samples_split=2, min_samples_leaf=2, max_features=auto, max_depth=78, bootstrap=False \n",
      "[CV]  n_estimators=200, min_samples_split=2, min_samples_leaf=2, max_features=auto, max_depth=78, bootstrap=False, total=  10.7s\n",
      "[CV] n_estimators=200, min_samples_split=2, min_samples_leaf=2, max_features=auto, max_depth=78, bootstrap=False \n",
      "[CV]  n_estimators=200, min_samples_split=2, min_samples_leaf=2, max_features=auto, max_depth=78, bootstrap=False, total=  10.6s\n",
      "[CV] n_estimators=700, min_samples_split=10, min_samples_leaf=4, max_features=auto, max_depth=5, bootstrap=True \n",
      "[CV]  n_estimators=700, min_samples_split=10, min_samples_leaf=4, max_features=auto, max_depth=5, bootstrap=True, total=   9.8s\n",
      "[CV] n_estimators=700, min_samples_split=10, min_samples_leaf=4, max_features=auto, max_depth=5, bootstrap=True \n",
      "[CV]  n_estimators=700, min_samples_split=10, min_samples_leaf=4, max_features=auto, max_depth=5, bootstrap=True, total=  14.5s\n",
      "[CV] n_estimators=700, min_samples_split=10, min_samples_leaf=4, max_features=auto, max_depth=5, bootstrap=True \n",
      "[CV]  n_estimators=700, min_samples_split=10, min_samples_leaf=4, max_features=auto, max_depth=5, bootstrap=True, total=  10.6s\n",
      "[CV] n_estimators=700, min_samples_split=10, min_samples_leaf=4, max_features=auto, max_depth=5, bootstrap=True \n",
      "[CV]  n_estimators=700, min_samples_split=10, min_samples_leaf=4, max_features=auto, max_depth=5, bootstrap=True, total=  30.0s\n",
      "[CV] n_estimators=700, min_samples_split=10, min_samples_leaf=4, max_features=auto, max_depth=5, bootstrap=True \n",
      "[CV]  n_estimators=700, min_samples_split=10, min_samples_leaf=4, max_features=auto, max_depth=5, bootstrap=True, total=  17.8s\n",
      "[CV] n_estimators=600, min_samples_split=5, min_samples_leaf=4, max_features=auto, max_depth=57, bootstrap=False \n",
      "[CV]  n_estimators=600, min_samples_split=5, min_samples_leaf=4, max_features=auto, max_depth=57, bootstrap=False, total=  27.0s\n",
      "[CV] n_estimators=600, min_samples_split=5, min_samples_leaf=4, max_features=auto, max_depth=57, bootstrap=False \n",
      "[CV]  n_estimators=600, min_samples_split=5, min_samples_leaf=4, max_features=auto, max_depth=57, bootstrap=False, total=  26.7s\n",
      "[CV] n_estimators=600, min_samples_split=5, min_samples_leaf=4, max_features=auto, max_depth=57, bootstrap=False \n",
      "[CV]  n_estimators=600, min_samples_split=5, min_samples_leaf=4, max_features=auto, max_depth=57, bootstrap=False, total=  27.2s\n",
      "[CV] n_estimators=600, min_samples_split=5, min_samples_leaf=4, max_features=auto, max_depth=57, bootstrap=False \n",
      "[CV]  n_estimators=600, min_samples_split=5, min_samples_leaf=4, max_features=auto, max_depth=57, bootstrap=False, total=  27.8s\n",
      "[CV] n_estimators=600, min_samples_split=5, min_samples_leaf=4, max_features=auto, max_depth=57, bootstrap=False \n",
      "[CV]  n_estimators=600, min_samples_split=5, min_samples_leaf=4, max_features=auto, max_depth=57, bootstrap=False, total=  27.0s\n",
      "[CV] n_estimators=400, min_samples_split=2, min_samples_leaf=4, max_features=auto, max_depth=100, bootstrap=True \n",
      "[CV]  n_estimators=400, min_samples_split=2, min_samples_leaf=4, max_features=auto, max_depth=100, bootstrap=True, total=  11.3s\n",
      "[CV] n_estimators=400, min_samples_split=2, min_samples_leaf=4, max_features=auto, max_depth=100, bootstrap=True \n",
      "[CV]  n_estimators=400, min_samples_split=2, min_samples_leaf=4, max_features=auto, max_depth=100, bootstrap=True, total=  11.4s\n",
      "[CV] n_estimators=400, min_samples_split=2, min_samples_leaf=4, max_features=auto, max_depth=100, bootstrap=True \n",
      "[CV]  n_estimators=400, min_samples_split=2, min_samples_leaf=4, max_features=auto, max_depth=100, bootstrap=True, total=  10.8s\n",
      "[CV] n_estimators=400, min_samples_split=2, min_samples_leaf=4, max_features=auto, max_depth=100, bootstrap=True \n",
      "[CV]  n_estimators=400, min_samples_split=2, min_samples_leaf=4, max_features=auto, max_depth=100, bootstrap=True, total=  11.0s\n",
      "[CV] n_estimators=400, min_samples_split=2, min_samples_leaf=4, max_features=auto, max_depth=100, bootstrap=True \n",
      "[CV]  n_estimators=400, min_samples_split=2, min_samples_leaf=4, max_features=auto, max_depth=100, bootstrap=True, total=  10.5s\n",
      "[CV] n_estimators=600, min_samples_split=5, min_samples_leaf=4, max_features=sqrt, max_depth=57, bootstrap=True \n",
      "[CV]  n_estimators=600, min_samples_split=5, min_samples_leaf=4, max_features=sqrt, max_depth=57, bootstrap=True, total=  17.2s\n",
      "[CV] n_estimators=600, min_samples_split=5, min_samples_leaf=4, max_features=sqrt, max_depth=57, bootstrap=True \n",
      "[CV]  n_estimators=600, min_samples_split=5, min_samples_leaf=4, max_features=sqrt, max_depth=57, bootstrap=True, total=  16.9s\n",
      "[CV] n_estimators=600, min_samples_split=5, min_samples_leaf=4, max_features=sqrt, max_depth=57, bootstrap=True \n",
      "[CV]  n_estimators=600, min_samples_split=5, min_samples_leaf=4, max_features=sqrt, max_depth=57, bootstrap=True, total=  16.2s\n",
      "[CV] n_estimators=600, min_samples_split=5, min_samples_leaf=4, max_features=sqrt, max_depth=57, bootstrap=True \n",
      "[CV]  n_estimators=600, min_samples_split=5, min_samples_leaf=4, max_features=sqrt, max_depth=57, bootstrap=True, total=  16.3s\n",
      "[CV] n_estimators=600, min_samples_split=5, min_samples_leaf=4, max_features=sqrt, max_depth=57, bootstrap=True \n",
      "[CV]  n_estimators=600, min_samples_split=5, min_samples_leaf=4, max_features=sqrt, max_depth=57, bootstrap=True, total=  17.6s\n",
      "[CV] n_estimators=600, min_samples_split=5, min_samples_leaf=4, max_features=sqrt, max_depth=57, bootstrap=False \n",
      "[CV]  n_estimators=600, min_samples_split=5, min_samples_leaf=4, max_features=sqrt, max_depth=57, bootstrap=False, total=  26.7s\n",
      "[CV] n_estimators=600, min_samples_split=5, min_samples_leaf=4, max_features=sqrt, max_depth=57, bootstrap=False \n",
      "[CV]  n_estimators=600, min_samples_split=5, min_samples_leaf=4, max_features=sqrt, max_depth=57, bootstrap=False, total=  26.9s\n",
      "[CV] n_estimators=600, min_samples_split=5, min_samples_leaf=4, max_features=sqrt, max_depth=57, bootstrap=False \n",
      "[CV]  n_estimators=600, min_samples_split=5, min_samples_leaf=4, max_features=sqrt, max_depth=57, bootstrap=False, total=  27.1s\n",
      "[CV] n_estimators=600, min_samples_split=5, min_samples_leaf=4, max_features=sqrt, max_depth=57, bootstrap=False \n",
      "[CV]  n_estimators=600, min_samples_split=5, min_samples_leaf=4, max_features=sqrt, max_depth=57, bootstrap=False, total=  27.2s\n",
      "[CV] n_estimators=600, min_samples_split=5, min_samples_leaf=4, max_features=sqrt, max_depth=57, bootstrap=False \n",
      "[CV]  n_estimators=600, min_samples_split=5, min_samples_leaf=4, max_features=sqrt, max_depth=57, bootstrap=False, total=  27.3s\n",
      "[CV] n_estimators=600, min_samples_split=2, min_samples_leaf=2, max_features=auto, max_depth=47, bootstrap=False \n",
      "[CV]  n_estimators=600, min_samples_split=2, min_samples_leaf=2, max_features=auto, max_depth=47, bootstrap=False, total=  32.8s\n",
      "[CV] n_estimators=600, min_samples_split=2, min_samples_leaf=2, max_features=auto, max_depth=47, bootstrap=False \n",
      "[CV]  n_estimators=600, min_samples_split=2, min_samples_leaf=2, max_features=auto, max_depth=47, bootstrap=False, total=  33.7s\n",
      "[CV] n_estimators=600, min_samples_split=2, min_samples_leaf=2, max_features=auto, max_depth=47, bootstrap=False \n",
      "[CV]  n_estimators=600, min_samples_split=2, min_samples_leaf=2, max_features=auto, max_depth=47, bootstrap=False, total=  33.2s\n",
      "[CV] n_estimators=600, min_samples_split=2, min_samples_leaf=2, max_features=auto, max_depth=47, bootstrap=False \n",
      "[CV]  n_estimators=600, min_samples_split=2, min_samples_leaf=2, max_features=auto, max_depth=47, bootstrap=False, total=  31.8s\n",
      "[CV] n_estimators=600, min_samples_split=2, min_samples_leaf=2, max_features=auto, max_depth=47, bootstrap=False \n",
      "[CV]  n_estimators=600, min_samples_split=2, min_samples_leaf=2, max_features=auto, max_depth=47, bootstrap=False, total=  31.0s\n",
      "[CV] n_estimators=300, min_samples_split=5, min_samples_leaf=2, max_features=sqrt, max_depth=89, bootstrap=True \n"
     ]
    },
    {
     "name": "stdout",
     "output_type": "stream",
     "text": [
      "[CV]  n_estimators=300, min_samples_split=5, min_samples_leaf=2, max_features=sqrt, max_depth=89, bootstrap=True, total=   9.7s\n",
      "[CV] n_estimators=300, min_samples_split=5, min_samples_leaf=2, max_features=sqrt, max_depth=89, bootstrap=True \n",
      "[CV]  n_estimators=300, min_samples_split=5, min_samples_leaf=2, max_features=sqrt, max_depth=89, bootstrap=True, total=   9.3s\n",
      "[CV] n_estimators=300, min_samples_split=5, min_samples_leaf=2, max_features=sqrt, max_depth=89, bootstrap=True \n",
      "[CV]  n_estimators=300, min_samples_split=5, min_samples_leaf=2, max_features=sqrt, max_depth=89, bootstrap=True, total=  10.0s\n",
      "[CV] n_estimators=300, min_samples_split=5, min_samples_leaf=2, max_features=sqrt, max_depth=89, bootstrap=True \n",
      "[CV]  n_estimators=300, min_samples_split=5, min_samples_leaf=2, max_features=sqrt, max_depth=89, bootstrap=True, total=   9.4s\n",
      "[CV] n_estimators=300, min_samples_split=5, min_samples_leaf=2, max_features=sqrt, max_depth=89, bootstrap=True \n",
      "[CV]  n_estimators=300, min_samples_split=5, min_samples_leaf=2, max_features=sqrt, max_depth=89, bootstrap=True, total=   9.4s\n",
      "[CV] n_estimators=100, min_samples_split=2, min_samples_leaf=2, max_features=auto, max_depth=57, bootstrap=False \n",
      "[CV]  n_estimators=100, min_samples_split=2, min_samples_leaf=2, max_features=auto, max_depth=57, bootstrap=False, total=   5.3s\n",
      "[CV] n_estimators=100, min_samples_split=2, min_samples_leaf=2, max_features=auto, max_depth=57, bootstrap=False \n",
      "[CV]  n_estimators=100, min_samples_split=2, min_samples_leaf=2, max_features=auto, max_depth=57, bootstrap=False, total=   5.5s\n",
      "[CV] n_estimators=100, min_samples_split=2, min_samples_leaf=2, max_features=auto, max_depth=57, bootstrap=False \n",
      "[CV]  n_estimators=100, min_samples_split=2, min_samples_leaf=2, max_features=auto, max_depth=57, bootstrap=False, total=   5.4s\n",
      "[CV] n_estimators=100, min_samples_split=2, min_samples_leaf=2, max_features=auto, max_depth=57, bootstrap=False \n",
      "[CV]  n_estimators=100, min_samples_split=2, min_samples_leaf=2, max_features=auto, max_depth=57, bootstrap=False, total=   5.4s\n",
      "[CV] n_estimators=100, min_samples_split=2, min_samples_leaf=2, max_features=auto, max_depth=57, bootstrap=False \n",
      "[CV]  n_estimators=100, min_samples_split=2, min_samples_leaf=2, max_features=auto, max_depth=57, bootstrap=False, total=   5.5s\n",
      "[CV] n_estimators=300, min_samples_split=2, min_samples_leaf=4, max_features=auto, max_depth=57, bootstrap=True \n",
      "[CV]  n_estimators=300, min_samples_split=2, min_samples_leaf=4, max_features=auto, max_depth=57, bootstrap=True, total=   9.5s\n",
      "[CV] n_estimators=300, min_samples_split=2, min_samples_leaf=4, max_features=auto, max_depth=57, bootstrap=True \n",
      "[CV]  n_estimators=300, min_samples_split=2, min_samples_leaf=4, max_features=auto, max_depth=57, bootstrap=True, total=   7.8s\n",
      "[CV] n_estimators=300, min_samples_split=2, min_samples_leaf=4, max_features=auto, max_depth=57, bootstrap=True \n",
      "[CV]  n_estimators=300, min_samples_split=2, min_samples_leaf=4, max_features=auto, max_depth=57, bootstrap=True, total=  10.0s\n",
      "[CV] n_estimators=300, min_samples_split=2, min_samples_leaf=4, max_features=auto, max_depth=57, bootstrap=True \n",
      "[CV]  n_estimators=300, min_samples_split=2, min_samples_leaf=4, max_features=auto, max_depth=57, bootstrap=True, total=   8.2s\n",
      "[CV] n_estimators=300, min_samples_split=2, min_samples_leaf=4, max_features=auto, max_depth=57, bootstrap=True \n",
      "[CV]  n_estimators=300, min_samples_split=2, min_samples_leaf=4, max_features=auto, max_depth=57, bootstrap=True, total=   8.6s\n",
      "[CV] n_estimators=300, min_samples_split=2, min_samples_leaf=2, max_features=auto, max_depth=100, bootstrap=False \n",
      "[CV]  n_estimators=300, min_samples_split=2, min_samples_leaf=2, max_features=auto, max_depth=100, bootstrap=False, total=  15.7s\n",
      "[CV] n_estimators=300, min_samples_split=2, min_samples_leaf=2, max_features=auto, max_depth=100, bootstrap=False \n",
      "[CV]  n_estimators=300, min_samples_split=2, min_samples_leaf=2, max_features=auto, max_depth=100, bootstrap=False, total=  15.9s\n",
      "[CV] n_estimators=300, min_samples_split=2, min_samples_leaf=2, max_features=auto, max_depth=100, bootstrap=False \n",
      "[CV]  n_estimators=300, min_samples_split=2, min_samples_leaf=2, max_features=auto, max_depth=100, bootstrap=False, total=  16.2s\n",
      "[CV] n_estimators=300, min_samples_split=2, min_samples_leaf=2, max_features=auto, max_depth=100, bootstrap=False \n",
      "[CV]  n_estimators=300, min_samples_split=2, min_samples_leaf=2, max_features=auto, max_depth=100, bootstrap=False, total=  17.3s\n",
      "[CV] n_estimators=300, min_samples_split=2, min_samples_leaf=2, max_features=auto, max_depth=100, bootstrap=False \n",
      "[CV]  n_estimators=300, min_samples_split=2, min_samples_leaf=2, max_features=auto, max_depth=100, bootstrap=False, total=  15.1s\n",
      "[CV] n_estimators=500, min_samples_split=5, min_samples_leaf=4, max_features=sqrt, max_depth=78, bootstrap=True \n",
      "[CV]  n_estimators=500, min_samples_split=5, min_samples_leaf=4, max_features=sqrt, max_depth=78, bootstrap=True, total=  15.0s\n",
      "[CV] n_estimators=500, min_samples_split=5, min_samples_leaf=4, max_features=sqrt, max_depth=78, bootstrap=True \n",
      "[CV]  n_estimators=500, min_samples_split=5, min_samples_leaf=4, max_features=sqrt, max_depth=78, bootstrap=True, total=  15.3s\n",
      "[CV] n_estimators=500, min_samples_split=5, min_samples_leaf=4, max_features=sqrt, max_depth=78, bootstrap=True \n",
      "[CV]  n_estimators=500, min_samples_split=5, min_samples_leaf=4, max_features=sqrt, max_depth=78, bootstrap=True, total=  13.5s\n",
      "[CV] n_estimators=500, min_samples_split=5, min_samples_leaf=4, max_features=sqrt, max_depth=78, bootstrap=True \n",
      "[CV]  n_estimators=500, min_samples_split=5, min_samples_leaf=4, max_features=sqrt, max_depth=78, bootstrap=True, total=  14.0s\n",
      "[CV] n_estimators=500, min_samples_split=5, min_samples_leaf=4, max_features=sqrt, max_depth=78, bootstrap=True \n",
      "[CV]  n_estimators=500, min_samples_split=5, min_samples_leaf=4, max_features=sqrt, max_depth=78, bootstrap=True, total=  13.9s\n",
      "[CV] n_estimators=500, min_samples_split=10, min_samples_leaf=2, max_features=sqrt, max_depth=78, bootstrap=False \n",
      "[CV]  n_estimators=500, min_samples_split=10, min_samples_leaf=2, max_features=sqrt, max_depth=78, bootstrap=False, total=  24.2s\n",
      "[CV] n_estimators=500, min_samples_split=10, min_samples_leaf=2, max_features=sqrt, max_depth=78, bootstrap=False \n",
      "[CV]  n_estimators=500, min_samples_split=10, min_samples_leaf=2, max_features=sqrt, max_depth=78, bootstrap=False, total=  26.0s\n",
      "[CV] n_estimators=500, min_samples_split=10, min_samples_leaf=2, max_features=sqrt, max_depth=78, bootstrap=False \n",
      "[CV]  n_estimators=500, min_samples_split=10, min_samples_leaf=2, max_features=sqrt, max_depth=78, bootstrap=False, total=  25.1s\n",
      "[CV] n_estimators=500, min_samples_split=10, min_samples_leaf=2, max_features=sqrt, max_depth=78, bootstrap=False \n",
      "[CV]  n_estimators=500, min_samples_split=10, min_samples_leaf=2, max_features=sqrt, max_depth=78, bootstrap=False, total=  25.2s\n",
      "[CV] n_estimators=500, min_samples_split=10, min_samples_leaf=2, max_features=sqrt, max_depth=78, bootstrap=False \n",
      "[CV]  n_estimators=500, min_samples_split=10, min_samples_leaf=2, max_features=sqrt, max_depth=78, bootstrap=False, total=  24.0s\n",
      "[CV] n_estimators=700, min_samples_split=2, min_samples_leaf=4, max_features=auto, max_depth=15, bootstrap=False \n",
      "[CV]  n_estimators=700, min_samples_split=2, min_samples_leaf=4, max_features=auto, max_depth=15, bootstrap=False, total=  26.8s\n",
      "[CV] n_estimators=700, min_samples_split=2, min_samples_leaf=4, max_features=auto, max_depth=15, bootstrap=False \n",
      "[CV]  n_estimators=700, min_samples_split=2, min_samples_leaf=4, max_features=auto, max_depth=15, bootstrap=False, total=  26.1s\n",
      "[CV] n_estimators=700, min_samples_split=2, min_samples_leaf=4, max_features=auto, max_depth=15, bootstrap=False \n",
      "[CV]  n_estimators=700, min_samples_split=2, min_samples_leaf=4, max_features=auto, max_depth=15, bootstrap=False, total=  26.2s\n",
      "[CV] n_estimators=700, min_samples_split=2, min_samples_leaf=4, max_features=auto, max_depth=15, bootstrap=False \n",
      "[CV]  n_estimators=700, min_samples_split=2, min_samples_leaf=4, max_features=auto, max_depth=15, bootstrap=False, total=  27.7s\n",
      "[CV] n_estimators=700, min_samples_split=2, min_samples_leaf=4, max_features=auto, max_depth=15, bootstrap=False \n"
     ]
    },
    {
     "name": "stdout",
     "output_type": "stream",
     "text": [
      "[CV]  n_estimators=700, min_samples_split=2, min_samples_leaf=4, max_features=auto, max_depth=15, bootstrap=False, total=  28.6s\n",
      "[CV] n_estimators=200, min_samples_split=5, min_samples_leaf=4, max_features=auto, max_depth=None, bootstrap=False \n",
      "[CV]  n_estimators=200, min_samples_split=5, min_samples_leaf=4, max_features=auto, max_depth=None, bootstrap=False, total=   9.6s\n",
      "[CV] n_estimators=200, min_samples_split=5, min_samples_leaf=4, max_features=auto, max_depth=None, bootstrap=False \n",
      "[CV]  n_estimators=200, min_samples_split=5, min_samples_leaf=4, max_features=auto, max_depth=None, bootstrap=False, total=   8.9s\n",
      "[CV] n_estimators=200, min_samples_split=5, min_samples_leaf=4, max_features=auto, max_depth=None, bootstrap=False \n",
      "[CV]  n_estimators=200, min_samples_split=5, min_samples_leaf=4, max_features=auto, max_depth=None, bootstrap=False, total=  10.4s\n",
      "[CV] n_estimators=200, min_samples_split=5, min_samples_leaf=4, max_features=auto, max_depth=None, bootstrap=False \n",
      "[CV]  n_estimators=200, min_samples_split=5, min_samples_leaf=4, max_features=auto, max_depth=None, bootstrap=False, total=  10.6s\n",
      "[CV] n_estimators=200, min_samples_split=5, min_samples_leaf=4, max_features=auto, max_depth=None, bootstrap=False \n",
      "[CV]  n_estimators=200, min_samples_split=5, min_samples_leaf=4, max_features=auto, max_depth=None, bootstrap=False, total=   9.6s\n",
      "[CV] n_estimators=1000, min_samples_split=10, min_samples_leaf=2, max_features=sqrt, max_depth=None, bootstrap=False \n",
      "[CV]  n_estimators=1000, min_samples_split=10, min_samples_leaf=2, max_features=sqrt, max_depth=None, bootstrap=False, total=  52.9s\n",
      "[CV] n_estimators=1000, min_samples_split=10, min_samples_leaf=2, max_features=sqrt, max_depth=None, bootstrap=False \n",
      "[CV]  n_estimators=1000, min_samples_split=10, min_samples_leaf=2, max_features=sqrt, max_depth=None, bootstrap=False, total=  53.9s\n",
      "[CV] n_estimators=1000, min_samples_split=10, min_samples_leaf=2, max_features=sqrt, max_depth=None, bootstrap=False \n",
      "[CV]  n_estimators=1000, min_samples_split=10, min_samples_leaf=2, max_features=sqrt, max_depth=None, bootstrap=False, total=  53.0s\n",
      "[CV] n_estimators=1000, min_samples_split=10, min_samples_leaf=2, max_features=sqrt, max_depth=None, bootstrap=False \n",
      "[CV]  n_estimators=1000, min_samples_split=10, min_samples_leaf=2, max_features=sqrt, max_depth=None, bootstrap=False, total=  59.5s\n",
      "[CV] n_estimators=1000, min_samples_split=10, min_samples_leaf=2, max_features=sqrt, max_depth=None, bootstrap=False \n",
      "[CV]  n_estimators=1000, min_samples_split=10, min_samples_leaf=2, max_features=sqrt, max_depth=None, bootstrap=False, total=  55.8s\n",
      "[CV] n_estimators=300, min_samples_split=10, min_samples_leaf=4, max_features=auto, max_depth=89, bootstrap=False \n",
      "[CV]  n_estimators=300, min_samples_split=10, min_samples_leaf=4, max_features=auto, max_depth=89, bootstrap=False, total=  14.1s\n",
      "[CV] n_estimators=300, min_samples_split=10, min_samples_leaf=4, max_features=auto, max_depth=89, bootstrap=False \n",
      "[CV]  n_estimators=300, min_samples_split=10, min_samples_leaf=4, max_features=auto, max_depth=89, bootstrap=False, total=  13.6s\n",
      "[CV] n_estimators=300, min_samples_split=10, min_samples_leaf=4, max_features=auto, max_depth=89, bootstrap=False \n",
      "[CV]  n_estimators=300, min_samples_split=10, min_samples_leaf=4, max_features=auto, max_depth=89, bootstrap=False, total=  13.9s\n",
      "[CV] n_estimators=300, min_samples_split=10, min_samples_leaf=4, max_features=auto, max_depth=89, bootstrap=False \n",
      "[CV]  n_estimators=300, min_samples_split=10, min_samples_leaf=4, max_features=auto, max_depth=89, bootstrap=False, total=  13.1s\n",
      "[CV] n_estimators=300, min_samples_split=10, min_samples_leaf=4, max_features=auto, max_depth=89, bootstrap=False \n",
      "[CV]  n_estimators=300, min_samples_split=10, min_samples_leaf=4, max_features=auto, max_depth=89, bootstrap=False, total=  13.2s\n",
      "[CV] n_estimators=800, min_samples_split=5, min_samples_leaf=4, max_features=auto, max_depth=36, bootstrap=True \n",
      "[CV]  n_estimators=800, min_samples_split=5, min_samples_leaf=4, max_features=auto, max_depth=36, bootstrap=True, total=  22.2s\n",
      "[CV] n_estimators=800, min_samples_split=5, min_samples_leaf=4, max_features=auto, max_depth=36, bootstrap=True \n",
      "[CV]  n_estimators=800, min_samples_split=5, min_samples_leaf=4, max_features=auto, max_depth=36, bootstrap=True, total=  27.4s\n",
      "[CV] n_estimators=800, min_samples_split=5, min_samples_leaf=4, max_features=auto, max_depth=36, bootstrap=True \n",
      "[CV]  n_estimators=800, min_samples_split=5, min_samples_leaf=4, max_features=auto, max_depth=36, bootstrap=True, total=  29.7s\n",
      "[CV] n_estimators=800, min_samples_split=5, min_samples_leaf=4, max_features=auto, max_depth=36, bootstrap=True \n",
      "[CV]  n_estimators=800, min_samples_split=5, min_samples_leaf=4, max_features=auto, max_depth=36, bootstrap=True, total=  28.7s\n",
      "[CV] n_estimators=800, min_samples_split=5, min_samples_leaf=4, max_features=auto, max_depth=36, bootstrap=True \n",
      "[CV]  n_estimators=800, min_samples_split=5, min_samples_leaf=4, max_features=auto, max_depth=36, bootstrap=True, total=  24.9s\n",
      "[CV] n_estimators=500, min_samples_split=2, min_samples_leaf=4, max_features=auto, max_depth=78, bootstrap=False \n",
      "[CV]  n_estimators=500, min_samples_split=2, min_samples_leaf=4, max_features=auto, max_depth=78, bootstrap=False, total=  34.7s\n",
      "[CV] n_estimators=500, min_samples_split=2, min_samples_leaf=4, max_features=auto, max_depth=78, bootstrap=False \n",
      "[CV]  n_estimators=500, min_samples_split=2, min_samples_leaf=4, max_features=auto, max_depth=78, bootstrap=False, total=  22.7s\n",
      "[CV] n_estimators=500, min_samples_split=2, min_samples_leaf=4, max_features=auto, max_depth=78, bootstrap=False \n",
      "[CV]  n_estimators=500, min_samples_split=2, min_samples_leaf=4, max_features=auto, max_depth=78, bootstrap=False, total=  23.0s\n",
      "[CV] n_estimators=500, min_samples_split=2, min_samples_leaf=4, max_features=auto, max_depth=78, bootstrap=False \n",
      "[CV]  n_estimators=500, min_samples_split=2, min_samples_leaf=4, max_features=auto, max_depth=78, bootstrap=False, total=  22.8s\n",
      "[CV] n_estimators=500, min_samples_split=2, min_samples_leaf=4, max_features=auto, max_depth=78, bootstrap=False \n",
      "[CV]  n_estimators=500, min_samples_split=2, min_samples_leaf=4, max_features=auto, max_depth=78, bootstrap=False, total=  26.6s\n",
      "[CV] n_estimators=500, min_samples_split=5, min_samples_leaf=4, max_features=auto, max_depth=5, bootstrap=True \n",
      "[CV]  n_estimators=500, min_samples_split=5, min_samples_leaf=4, max_features=auto, max_depth=5, bootstrap=True, total=   8.4s\n",
      "[CV] n_estimators=500, min_samples_split=5, min_samples_leaf=4, max_features=auto, max_depth=5, bootstrap=True \n",
      "[CV]  n_estimators=500, min_samples_split=5, min_samples_leaf=4, max_features=auto, max_depth=5, bootstrap=True, total=   7.7s\n",
      "[CV] n_estimators=500, min_samples_split=5, min_samples_leaf=4, max_features=auto, max_depth=5, bootstrap=True \n",
      "[CV]  n_estimators=500, min_samples_split=5, min_samples_leaf=4, max_features=auto, max_depth=5, bootstrap=True, total=   7.2s\n",
      "[CV] n_estimators=500, min_samples_split=5, min_samples_leaf=4, max_features=auto, max_depth=5, bootstrap=True \n",
      "[CV]  n_estimators=500, min_samples_split=5, min_samples_leaf=4, max_features=auto, max_depth=5, bootstrap=True, total=   6.9s\n",
      "[CV] n_estimators=500, min_samples_split=5, min_samples_leaf=4, max_features=auto, max_depth=5, bootstrap=True \n",
      "[CV]  n_estimators=500, min_samples_split=5, min_samples_leaf=4, max_features=auto, max_depth=5, bootstrap=True, total=   7.2s\n",
      "[CV] n_estimators=400, min_samples_split=5, min_samples_leaf=2, max_features=sqrt, max_depth=5, bootstrap=True \n",
      "[CV]  n_estimators=400, min_samples_split=5, min_samples_leaf=2, max_features=sqrt, max_depth=5, bootstrap=True, total=   7.4s\n",
      "[CV] n_estimators=400, min_samples_split=5, min_samples_leaf=2, max_features=sqrt, max_depth=5, bootstrap=True \n",
      "[CV]  n_estimators=400, min_samples_split=5, min_samples_leaf=2, max_features=sqrt, max_depth=5, bootstrap=True, total=   5.6s\n",
      "[CV] n_estimators=400, min_samples_split=5, min_samples_leaf=2, max_features=sqrt, max_depth=5, bootstrap=True \n",
      "[CV]  n_estimators=400, min_samples_split=5, min_samples_leaf=2, max_features=sqrt, max_depth=5, bootstrap=True, total=   5.5s\n",
      "[CV] n_estimators=400, min_samples_split=5, min_samples_leaf=2, max_features=sqrt, max_depth=5, bootstrap=True \n"
     ]
    },
    {
     "name": "stdout",
     "output_type": "stream",
     "text": [
      "[CV]  n_estimators=400, min_samples_split=5, min_samples_leaf=2, max_features=sqrt, max_depth=5, bootstrap=True, total=   5.7s\n",
      "[CV] n_estimators=400, min_samples_split=5, min_samples_leaf=2, max_features=sqrt, max_depth=5, bootstrap=True \n",
      "[CV]  n_estimators=400, min_samples_split=5, min_samples_leaf=2, max_features=sqrt, max_depth=5, bootstrap=True, total=   6.0s\n",
      "[CV] n_estimators=100, min_samples_split=2, min_samples_leaf=2, max_features=auto, max_depth=78, bootstrap=True \n",
      "[CV]  n_estimators=100, min_samples_split=2, min_samples_leaf=2, max_features=auto, max_depth=78, bootstrap=True, total=   3.6s\n",
      "[CV] n_estimators=100, min_samples_split=2, min_samples_leaf=2, max_features=auto, max_depth=78, bootstrap=True \n",
      "[CV]  n_estimators=100, min_samples_split=2, min_samples_leaf=2, max_features=auto, max_depth=78, bootstrap=True, total=   3.2s\n",
      "[CV] n_estimators=100, min_samples_split=2, min_samples_leaf=2, max_features=auto, max_depth=78, bootstrap=True \n",
      "[CV]  n_estimators=100, min_samples_split=2, min_samples_leaf=2, max_features=auto, max_depth=78, bootstrap=True, total=   4.0s\n",
      "[CV] n_estimators=100, min_samples_split=2, min_samples_leaf=2, max_features=auto, max_depth=78, bootstrap=True \n",
      "[CV]  n_estimators=100, min_samples_split=2, min_samples_leaf=2, max_features=auto, max_depth=78, bootstrap=True, total=   3.1s\n",
      "[CV] n_estimators=100, min_samples_split=2, min_samples_leaf=2, max_features=auto, max_depth=78, bootstrap=True \n",
      "[CV]  n_estimators=100, min_samples_split=2, min_samples_leaf=2, max_features=auto, max_depth=78, bootstrap=True, total=   3.6s\n",
      "[CV] n_estimators=300, min_samples_split=10, min_samples_leaf=4, max_features=auto, max_depth=100, bootstrap=False \n",
      "[CV]  n_estimators=300, min_samples_split=10, min_samples_leaf=4, max_features=auto, max_depth=100, bootstrap=False, total=  21.1s\n",
      "[CV] n_estimators=300, min_samples_split=10, min_samples_leaf=4, max_features=auto, max_depth=100, bootstrap=False \n",
      "[CV]  n_estimators=300, min_samples_split=10, min_samples_leaf=4, max_features=auto, max_depth=100, bootstrap=False, total=  19.4s\n",
      "[CV] n_estimators=300, min_samples_split=10, min_samples_leaf=4, max_features=auto, max_depth=100, bootstrap=False \n",
      "[CV]  n_estimators=300, min_samples_split=10, min_samples_leaf=4, max_features=auto, max_depth=100, bootstrap=False, total=  23.6s\n",
      "[CV] n_estimators=300, min_samples_split=10, min_samples_leaf=4, max_features=auto, max_depth=100, bootstrap=False \n",
      "[CV]  n_estimators=300, min_samples_split=10, min_samples_leaf=4, max_features=auto, max_depth=100, bootstrap=False, total=  18.8s\n",
      "[CV] n_estimators=300, min_samples_split=10, min_samples_leaf=4, max_features=auto, max_depth=100, bootstrap=False \n",
      "[CV]  n_estimators=300, min_samples_split=10, min_samples_leaf=4, max_features=auto, max_depth=100, bootstrap=False, total=  21.4s\n",
      "[CV] n_estimators=500, min_samples_split=5, min_samples_leaf=2, max_features=sqrt, max_depth=47, bootstrap=True \n",
      "[CV]  n_estimators=500, min_samples_split=5, min_samples_leaf=2, max_features=sqrt, max_depth=47, bootstrap=True, total=  16.6s\n",
      "[CV] n_estimators=500, min_samples_split=5, min_samples_leaf=2, max_features=sqrt, max_depth=47, bootstrap=True \n",
      "[CV]  n_estimators=500, min_samples_split=5, min_samples_leaf=2, max_features=sqrt, max_depth=47, bootstrap=True, total=  16.5s\n",
      "[CV] n_estimators=500, min_samples_split=5, min_samples_leaf=2, max_features=sqrt, max_depth=47, bootstrap=True \n",
      "[CV]  n_estimators=500, min_samples_split=5, min_samples_leaf=2, max_features=sqrt, max_depth=47, bootstrap=True, total=  16.2s\n",
      "[CV] n_estimators=500, min_samples_split=5, min_samples_leaf=2, max_features=sqrt, max_depth=47, bootstrap=True \n",
      "[CV]  n_estimators=500, min_samples_split=5, min_samples_leaf=2, max_features=sqrt, max_depth=47, bootstrap=True, total=  20.2s\n",
      "[CV] n_estimators=500, min_samples_split=5, min_samples_leaf=2, max_features=sqrt, max_depth=47, bootstrap=True \n",
      "[CV]  n_estimators=500, min_samples_split=5, min_samples_leaf=2, max_features=sqrt, max_depth=47, bootstrap=True, total=  22.9s\n",
      "[CV] n_estimators=300, min_samples_split=10, min_samples_leaf=2, max_features=auto, max_depth=78, bootstrap=True \n",
      "[CV]  n_estimators=300, min_samples_split=10, min_samples_leaf=2, max_features=auto, max_depth=78, bootstrap=True, total=  14.4s\n",
      "[CV] n_estimators=300, min_samples_split=10, min_samples_leaf=2, max_features=auto, max_depth=78, bootstrap=True \n",
      "[CV]  n_estimators=300, min_samples_split=10, min_samples_leaf=2, max_features=auto, max_depth=78, bootstrap=True, total=  10.0s\n",
      "[CV] n_estimators=300, min_samples_split=10, min_samples_leaf=2, max_features=auto, max_depth=78, bootstrap=True \n",
      "[CV]  n_estimators=300, min_samples_split=10, min_samples_leaf=2, max_features=auto, max_depth=78, bootstrap=True, total=   9.4s\n",
      "[CV] n_estimators=300, min_samples_split=10, min_samples_leaf=2, max_features=auto, max_depth=78, bootstrap=True \n",
      "[CV]  n_estimators=300, min_samples_split=10, min_samples_leaf=2, max_features=auto, max_depth=78, bootstrap=True, total=   9.4s\n",
      "[CV] n_estimators=300, min_samples_split=10, min_samples_leaf=2, max_features=auto, max_depth=78, bootstrap=True \n",
      "[CV]  n_estimators=300, min_samples_split=10, min_samples_leaf=2, max_features=auto, max_depth=78, bootstrap=True, total=   9.3s\n",
      "[CV] n_estimators=300, min_samples_split=10, min_samples_leaf=2, max_features=sqrt, max_depth=100, bootstrap=False \n",
      "[CV]  n_estimators=300, min_samples_split=10, min_samples_leaf=2, max_features=sqrt, max_depth=100, bootstrap=False, total=  15.5s\n",
      "[CV] n_estimators=300, min_samples_split=10, min_samples_leaf=2, max_features=sqrt, max_depth=100, bootstrap=False \n",
      "[CV]  n_estimators=300, min_samples_split=10, min_samples_leaf=2, max_features=sqrt, max_depth=100, bootstrap=False, total=  15.1s\n",
      "[CV] n_estimators=300, min_samples_split=10, min_samples_leaf=2, max_features=sqrt, max_depth=100, bootstrap=False \n",
      "[CV]  n_estimators=300, min_samples_split=10, min_samples_leaf=2, max_features=sqrt, max_depth=100, bootstrap=False, total=  15.1s\n",
      "[CV] n_estimators=300, min_samples_split=10, min_samples_leaf=2, max_features=sqrt, max_depth=100, bootstrap=False \n",
      "[CV]  n_estimators=300, min_samples_split=10, min_samples_leaf=2, max_features=sqrt, max_depth=100, bootstrap=False, total=  19.3s\n",
      "[CV] n_estimators=300, min_samples_split=10, min_samples_leaf=2, max_features=sqrt, max_depth=100, bootstrap=False \n",
      "[CV]  n_estimators=300, min_samples_split=10, min_samples_leaf=2, max_features=sqrt, max_depth=100, bootstrap=False, total=  16.6s\n",
      "[CV] n_estimators=1000, min_samples_split=5, min_samples_leaf=4, max_features=sqrt, max_depth=47, bootstrap=False \n",
      "[CV]  n_estimators=1000, min_samples_split=5, min_samples_leaf=4, max_features=sqrt, max_depth=47, bootstrap=False, total=  44.8s\n",
      "[CV] n_estimators=1000, min_samples_split=5, min_samples_leaf=4, max_features=sqrt, max_depth=47, bootstrap=False \n",
      "[CV]  n_estimators=1000, min_samples_split=5, min_samples_leaf=4, max_features=sqrt, max_depth=47, bootstrap=False, total=  46.1s\n",
      "[CV] n_estimators=1000, min_samples_split=5, min_samples_leaf=4, max_features=sqrt, max_depth=47, bootstrap=False \n",
      "[CV]  n_estimators=1000, min_samples_split=5, min_samples_leaf=4, max_features=sqrt, max_depth=47, bootstrap=False, total=  43.1s\n",
      "[CV] n_estimators=1000, min_samples_split=5, min_samples_leaf=4, max_features=sqrt, max_depth=47, bootstrap=False \n",
      "[CV]  n_estimators=1000, min_samples_split=5, min_samples_leaf=4, max_features=sqrt, max_depth=47, bootstrap=False, total=  44.7s\n",
      "[CV] n_estimators=1000, min_samples_split=5, min_samples_leaf=4, max_features=sqrt, max_depth=47, bootstrap=False \n",
      "[CV]  n_estimators=1000, min_samples_split=5, min_samples_leaf=4, max_features=sqrt, max_depth=47, bootstrap=False, total=  45.4s\n",
      "[CV] n_estimators=1000, min_samples_split=2, min_samples_leaf=4, max_features=auto, max_depth=68, bootstrap=True \n",
      "[CV]  n_estimators=1000, min_samples_split=2, min_samples_leaf=4, max_features=auto, max_depth=68, bootstrap=True, total=  29.4s\n",
      "[CV] n_estimators=1000, min_samples_split=2, min_samples_leaf=4, max_features=auto, max_depth=68, bootstrap=True \n",
      "[CV]  n_estimators=1000, min_samples_split=2, min_samples_leaf=4, max_features=auto, max_depth=68, bootstrap=True, total=  29.0s\n",
      "[CV] n_estimators=1000, min_samples_split=2, min_samples_leaf=4, max_features=auto, max_depth=68, bootstrap=True \n"
     ]
    },
    {
     "name": "stdout",
     "output_type": "stream",
     "text": [
      "[CV]  n_estimators=1000, min_samples_split=2, min_samples_leaf=4, max_features=auto, max_depth=68, bootstrap=True, total=  27.0s\n",
      "[CV] n_estimators=1000, min_samples_split=2, min_samples_leaf=4, max_features=auto, max_depth=68, bootstrap=True \n",
      "[CV]  n_estimators=1000, min_samples_split=2, min_samples_leaf=4, max_features=auto, max_depth=68, bootstrap=True, total=  27.7s\n",
      "[CV] n_estimators=1000, min_samples_split=2, min_samples_leaf=4, max_features=auto, max_depth=68, bootstrap=True \n",
      "[CV]  n_estimators=1000, min_samples_split=2, min_samples_leaf=4, max_features=auto, max_depth=68, bootstrap=True, total=  27.8s\n",
      "[CV] n_estimators=100, min_samples_split=2, min_samples_leaf=4, max_features=sqrt, max_depth=15, bootstrap=False \n",
      "[CV]  n_estimators=100, min_samples_split=2, min_samples_leaf=4, max_features=sqrt, max_depth=15, bootstrap=False, total=   4.0s\n",
      "[CV] n_estimators=100, min_samples_split=2, min_samples_leaf=4, max_features=sqrt, max_depth=15, bootstrap=False \n",
      "[CV]  n_estimators=100, min_samples_split=2, min_samples_leaf=4, max_features=sqrt, max_depth=15, bootstrap=False, total=   3.9s\n",
      "[CV] n_estimators=100, min_samples_split=2, min_samples_leaf=4, max_features=sqrt, max_depth=15, bootstrap=False \n",
      "[CV]  n_estimators=100, min_samples_split=2, min_samples_leaf=4, max_features=sqrt, max_depth=15, bootstrap=False, total=   4.1s\n",
      "[CV] n_estimators=100, min_samples_split=2, min_samples_leaf=4, max_features=sqrt, max_depth=15, bootstrap=False \n",
      "[CV]  n_estimators=100, min_samples_split=2, min_samples_leaf=4, max_features=sqrt, max_depth=15, bootstrap=False, total=   3.9s\n",
      "[CV] n_estimators=100, min_samples_split=2, min_samples_leaf=4, max_features=sqrt, max_depth=15, bootstrap=False \n",
      "[CV]  n_estimators=100, min_samples_split=2, min_samples_leaf=4, max_features=sqrt, max_depth=15, bootstrap=False, total=   4.7s\n",
      "[CV] n_estimators=100, min_samples_split=2, min_samples_leaf=4, max_features=sqrt, max_depth=68, bootstrap=True \n",
      "[CV]  n_estimators=100, min_samples_split=2, min_samples_leaf=4, max_features=sqrt, max_depth=68, bootstrap=True, total=   3.0s\n",
      "[CV] n_estimators=100, min_samples_split=2, min_samples_leaf=4, max_features=sqrt, max_depth=68, bootstrap=True \n",
      "[CV]  n_estimators=100, min_samples_split=2, min_samples_leaf=4, max_features=sqrt, max_depth=68, bootstrap=True, total=   3.0s\n",
      "[CV] n_estimators=100, min_samples_split=2, min_samples_leaf=4, max_features=sqrt, max_depth=68, bootstrap=True \n",
      "[CV]  n_estimators=100, min_samples_split=2, min_samples_leaf=4, max_features=sqrt, max_depth=68, bootstrap=True, total=   3.0s\n",
      "[CV] n_estimators=100, min_samples_split=2, min_samples_leaf=4, max_features=sqrt, max_depth=68, bootstrap=True \n",
      "[CV]  n_estimators=100, min_samples_split=2, min_samples_leaf=4, max_features=sqrt, max_depth=68, bootstrap=True, total=   3.1s\n",
      "[CV] n_estimators=100, min_samples_split=2, min_samples_leaf=4, max_features=sqrt, max_depth=68, bootstrap=True \n",
      "[CV]  n_estimators=100, min_samples_split=2, min_samples_leaf=4, max_features=sqrt, max_depth=68, bootstrap=True, total=   2.8s\n",
      "[CV] n_estimators=500, min_samples_split=2, min_samples_leaf=2, max_features=auto, max_depth=15, bootstrap=True \n",
      "[CV]  n_estimators=500, min_samples_split=2, min_samples_leaf=2, max_features=auto, max_depth=15, bootstrap=True, total=  13.2s\n",
      "[CV] n_estimators=500, min_samples_split=2, min_samples_leaf=2, max_features=auto, max_depth=15, bootstrap=True \n",
      "[CV]  n_estimators=500, min_samples_split=2, min_samples_leaf=2, max_features=auto, max_depth=15, bootstrap=True, total=  14.6s\n",
      "[CV] n_estimators=500, min_samples_split=2, min_samples_leaf=2, max_features=auto, max_depth=15, bootstrap=True \n",
      "[CV]  n_estimators=500, min_samples_split=2, min_samples_leaf=2, max_features=auto, max_depth=15, bootstrap=True, total=  13.3s\n",
      "[CV] n_estimators=500, min_samples_split=2, min_samples_leaf=2, max_features=auto, max_depth=15, bootstrap=True \n",
      "[CV]  n_estimators=500, min_samples_split=2, min_samples_leaf=2, max_features=auto, max_depth=15, bootstrap=True, total=  13.5s\n",
      "[CV] n_estimators=500, min_samples_split=2, min_samples_leaf=2, max_features=auto, max_depth=15, bootstrap=True \n",
      "[CV]  n_estimators=500, min_samples_split=2, min_samples_leaf=2, max_features=auto, max_depth=15, bootstrap=True, total=  14.1s\n",
      "[CV] n_estimators=100, min_samples_split=10, min_samples_leaf=2, max_features=auto, max_depth=26, bootstrap=False \n",
      "[CV]  n_estimators=100, min_samples_split=10, min_samples_leaf=2, max_features=auto, max_depth=26, bootstrap=False, total=   5.0s\n",
      "[CV] n_estimators=100, min_samples_split=10, min_samples_leaf=2, max_features=auto, max_depth=26, bootstrap=False \n",
      "[CV]  n_estimators=100, min_samples_split=10, min_samples_leaf=2, max_features=auto, max_depth=26, bootstrap=False, total=   5.1s\n",
      "[CV] n_estimators=100, min_samples_split=10, min_samples_leaf=2, max_features=auto, max_depth=26, bootstrap=False \n",
      "[CV]  n_estimators=100, min_samples_split=10, min_samples_leaf=2, max_features=auto, max_depth=26, bootstrap=False, total=   5.3s\n",
      "[CV] n_estimators=100, min_samples_split=10, min_samples_leaf=2, max_features=auto, max_depth=26, bootstrap=False \n",
      "[CV]  n_estimators=100, min_samples_split=10, min_samples_leaf=2, max_features=auto, max_depth=26, bootstrap=False, total=   4.8s\n",
      "[CV] n_estimators=100, min_samples_split=10, min_samples_leaf=2, max_features=auto, max_depth=26, bootstrap=False \n",
      "[CV]  n_estimators=100, min_samples_split=10, min_samples_leaf=2, max_features=auto, max_depth=26, bootstrap=False, total=   5.0s\n",
      "[CV] n_estimators=700, min_samples_split=10, min_samples_leaf=2, max_features=auto, max_depth=89, bootstrap=False \n",
      "[CV]  n_estimators=700, min_samples_split=10, min_samples_leaf=2, max_features=auto, max_depth=89, bootstrap=False, total=  36.7s\n",
      "[CV] n_estimators=700, min_samples_split=10, min_samples_leaf=2, max_features=auto, max_depth=89, bootstrap=False \n",
      "[CV]  n_estimators=700, min_samples_split=10, min_samples_leaf=2, max_features=auto, max_depth=89, bootstrap=False, total=  36.9s\n",
      "[CV] n_estimators=700, min_samples_split=10, min_samples_leaf=2, max_features=auto, max_depth=89, bootstrap=False \n",
      "[CV]  n_estimators=700, min_samples_split=10, min_samples_leaf=2, max_features=auto, max_depth=89, bootstrap=False, total=  36.1s\n",
      "[CV] n_estimators=700, min_samples_split=10, min_samples_leaf=2, max_features=auto, max_depth=89, bootstrap=False \n",
      "[CV]  n_estimators=700, min_samples_split=10, min_samples_leaf=2, max_features=auto, max_depth=89, bootstrap=False, total=  37.1s\n",
      "[CV] n_estimators=700, min_samples_split=10, min_samples_leaf=2, max_features=auto, max_depth=89, bootstrap=False \n",
      "[CV]  n_estimators=700, min_samples_split=10, min_samples_leaf=2, max_features=auto, max_depth=89, bootstrap=False, total=  36.2s\n",
      "[CV] n_estimators=300, min_samples_split=5, min_samples_leaf=4, max_features=auto, max_depth=None, bootstrap=True \n",
      "[CV]  n_estimators=300, min_samples_split=5, min_samples_leaf=4, max_features=auto, max_depth=None, bootstrap=True, total=   8.2s\n",
      "[CV] n_estimators=300, min_samples_split=5, min_samples_leaf=4, max_features=auto, max_depth=None, bootstrap=True \n",
      "[CV]  n_estimators=300, min_samples_split=5, min_samples_leaf=4, max_features=auto, max_depth=None, bootstrap=True, total=   8.7s\n",
      "[CV] n_estimators=300, min_samples_split=5, min_samples_leaf=4, max_features=auto, max_depth=None, bootstrap=True \n",
      "[CV]  n_estimators=300, min_samples_split=5, min_samples_leaf=4, max_features=auto, max_depth=None, bootstrap=True, total=   9.0s\n",
      "[CV] n_estimators=300, min_samples_split=5, min_samples_leaf=4, max_features=auto, max_depth=None, bootstrap=True \n",
      "[CV]  n_estimators=300, min_samples_split=5, min_samples_leaf=4, max_features=auto, max_depth=None, bootstrap=True, total=   8.2s\n",
      "[CV] n_estimators=300, min_samples_split=5, min_samples_leaf=4, max_features=auto, max_depth=None, bootstrap=True \n",
      "[CV]  n_estimators=300, min_samples_split=5, min_samples_leaf=4, max_features=auto, max_depth=None, bootstrap=True, total=   8.7s\n",
      "[CV] n_estimators=200, min_samples_split=2, min_samples_leaf=2, max_features=auto, max_depth=89, bootstrap=True \n",
      "[CV]  n_estimators=200, min_samples_split=2, min_samples_leaf=2, max_features=auto, max_depth=89, bootstrap=True, total=   6.2s\n",
      "[CV] n_estimators=200, min_samples_split=2, min_samples_leaf=2, max_features=auto, max_depth=89, bootstrap=True \n"
     ]
    },
    {
     "name": "stdout",
     "output_type": "stream",
     "text": [
      "[CV]  n_estimators=200, min_samples_split=2, min_samples_leaf=2, max_features=auto, max_depth=89, bootstrap=True, total=   6.4s\n",
      "[CV] n_estimators=200, min_samples_split=2, min_samples_leaf=2, max_features=auto, max_depth=89, bootstrap=True \n",
      "[CV]  n_estimators=200, min_samples_split=2, min_samples_leaf=2, max_features=auto, max_depth=89, bootstrap=True, total=   7.6s\n",
      "[CV] n_estimators=200, min_samples_split=2, min_samples_leaf=2, max_features=auto, max_depth=89, bootstrap=True \n",
      "[CV]  n_estimators=200, min_samples_split=2, min_samples_leaf=2, max_features=auto, max_depth=89, bootstrap=True, total=   7.7s\n",
      "[CV] n_estimators=200, min_samples_split=2, min_samples_leaf=2, max_features=auto, max_depth=89, bootstrap=True \n",
      "[CV]  n_estimators=200, min_samples_split=2, min_samples_leaf=2, max_features=auto, max_depth=89, bootstrap=True, total=   6.5s\n",
      "[CV] n_estimators=100, min_samples_split=5, min_samples_leaf=2, max_features=sqrt, max_depth=5, bootstrap=True \n",
      "[CV]  n_estimators=100, min_samples_split=5, min_samples_leaf=2, max_features=sqrt, max_depth=5, bootstrap=True, total=   1.5s\n",
      "[CV] n_estimators=100, min_samples_split=5, min_samples_leaf=2, max_features=sqrt, max_depth=5, bootstrap=True \n",
      "[CV]  n_estimators=100, min_samples_split=5, min_samples_leaf=2, max_features=sqrt, max_depth=5, bootstrap=True, total=   1.5s\n",
      "[CV] n_estimators=100, min_samples_split=5, min_samples_leaf=2, max_features=sqrt, max_depth=5, bootstrap=True \n",
      "[CV]  n_estimators=100, min_samples_split=5, min_samples_leaf=2, max_features=sqrt, max_depth=5, bootstrap=True, total=   1.6s\n",
      "[CV] n_estimators=100, min_samples_split=5, min_samples_leaf=2, max_features=sqrt, max_depth=5, bootstrap=True \n",
      "[CV]  n_estimators=100, min_samples_split=5, min_samples_leaf=2, max_features=sqrt, max_depth=5, bootstrap=True, total=   1.6s\n",
      "[CV] n_estimators=100, min_samples_split=5, min_samples_leaf=2, max_features=sqrt, max_depth=5, bootstrap=True \n",
      "[CV]  n_estimators=100, min_samples_split=5, min_samples_leaf=2, max_features=sqrt, max_depth=5, bootstrap=True, total=   1.5s\n",
      "[CV] n_estimators=800, min_samples_split=5, min_samples_leaf=2, max_features=sqrt, max_depth=89, bootstrap=True \n",
      "[CV]  n_estimators=800, min_samples_split=5, min_samples_leaf=2, max_features=sqrt, max_depth=89, bootstrap=True, total=  25.1s\n",
      "[CV] n_estimators=800, min_samples_split=5, min_samples_leaf=2, max_features=sqrt, max_depth=89, bootstrap=True \n",
      "[CV]  n_estimators=800, min_samples_split=5, min_samples_leaf=2, max_features=sqrt, max_depth=89, bootstrap=True, total=  25.3s\n",
      "[CV] n_estimators=800, min_samples_split=5, min_samples_leaf=2, max_features=sqrt, max_depth=89, bootstrap=True \n",
      "[CV]  n_estimators=800, min_samples_split=5, min_samples_leaf=2, max_features=sqrt, max_depth=89, bootstrap=True, total=  25.2s\n",
      "[CV] n_estimators=800, min_samples_split=5, min_samples_leaf=2, max_features=sqrt, max_depth=89, bootstrap=True \n",
      "[CV]  n_estimators=800, min_samples_split=5, min_samples_leaf=2, max_features=sqrt, max_depth=89, bootstrap=True, total=  25.4s\n",
      "[CV] n_estimators=800, min_samples_split=5, min_samples_leaf=2, max_features=sqrt, max_depth=89, bootstrap=True \n",
      "[CV]  n_estimators=800, min_samples_split=5, min_samples_leaf=2, max_features=sqrt, max_depth=89, bootstrap=True, total=  25.3s\n",
      "[CV] n_estimators=100, min_samples_split=10, min_samples_leaf=2, max_features=auto, max_depth=57, bootstrap=True \n",
      "[CV]  n_estimators=100, min_samples_split=10, min_samples_leaf=2, max_features=auto, max_depth=57, bootstrap=True, total=   3.3s\n",
      "[CV] n_estimators=100, min_samples_split=10, min_samples_leaf=2, max_features=auto, max_depth=57, bootstrap=True \n",
      "[CV]  n_estimators=100, min_samples_split=10, min_samples_leaf=2, max_features=auto, max_depth=57, bootstrap=True, total=   3.2s\n",
      "[CV] n_estimators=100, min_samples_split=10, min_samples_leaf=2, max_features=auto, max_depth=57, bootstrap=True \n",
      "[CV]  n_estimators=100, min_samples_split=10, min_samples_leaf=2, max_features=auto, max_depth=57, bootstrap=True, total=   3.1s\n",
      "[CV] n_estimators=100, min_samples_split=10, min_samples_leaf=2, max_features=auto, max_depth=57, bootstrap=True \n",
      "[CV]  n_estimators=100, min_samples_split=10, min_samples_leaf=2, max_features=auto, max_depth=57, bootstrap=True, total=   3.3s\n",
      "[CV] n_estimators=100, min_samples_split=10, min_samples_leaf=2, max_features=auto, max_depth=57, bootstrap=True \n",
      "[CV]  n_estimators=100, min_samples_split=10, min_samples_leaf=2, max_features=auto, max_depth=57, bootstrap=True, total=   3.2s\n",
      "[CV] n_estimators=500, min_samples_split=2, min_samples_leaf=4, max_features=auto, max_depth=78, bootstrap=True \n",
      "[CV]  n_estimators=500, min_samples_split=2, min_samples_leaf=4, max_features=auto, max_depth=78, bootstrap=True, total=  14.7s\n",
      "[CV] n_estimators=500, min_samples_split=2, min_samples_leaf=4, max_features=auto, max_depth=78, bootstrap=True \n",
      "[CV]  n_estimators=500, min_samples_split=2, min_samples_leaf=4, max_features=auto, max_depth=78, bootstrap=True, total=  14.4s\n",
      "[CV] n_estimators=500, min_samples_split=2, min_samples_leaf=4, max_features=auto, max_depth=78, bootstrap=True \n",
      "[CV]  n_estimators=500, min_samples_split=2, min_samples_leaf=4, max_features=auto, max_depth=78, bootstrap=True, total=  13.7s\n",
      "[CV] n_estimators=500, min_samples_split=2, min_samples_leaf=4, max_features=auto, max_depth=78, bootstrap=True \n",
      "[CV]  n_estimators=500, min_samples_split=2, min_samples_leaf=4, max_features=auto, max_depth=78, bootstrap=True, total=  13.0s\n",
      "[CV] n_estimators=500, min_samples_split=2, min_samples_leaf=4, max_features=auto, max_depth=78, bootstrap=True \n",
      "[CV]  n_estimators=500, min_samples_split=2, min_samples_leaf=4, max_features=auto, max_depth=78, bootstrap=True, total=  13.4s\n",
      "[CV] n_estimators=100, min_samples_split=10, min_samples_leaf=4, max_features=sqrt, max_depth=89, bootstrap=False \n",
      "[CV]  n_estimators=100, min_samples_split=10, min_samples_leaf=4, max_features=sqrt, max_depth=89, bootstrap=False, total=   5.0s\n",
      "[CV] n_estimators=100, min_samples_split=10, min_samples_leaf=4, max_features=sqrt, max_depth=89, bootstrap=False \n",
      "[CV]  n_estimators=100, min_samples_split=10, min_samples_leaf=4, max_features=sqrt, max_depth=89, bootstrap=False, total=   4.5s\n",
      "[CV] n_estimators=100, min_samples_split=10, min_samples_leaf=4, max_features=sqrt, max_depth=89, bootstrap=False \n",
      "[CV]  n_estimators=100, min_samples_split=10, min_samples_leaf=4, max_features=sqrt, max_depth=89, bootstrap=False, total=   4.6s\n",
      "[CV] n_estimators=100, min_samples_split=10, min_samples_leaf=4, max_features=sqrt, max_depth=89, bootstrap=False \n",
      "[CV]  n_estimators=100, min_samples_split=10, min_samples_leaf=4, max_features=sqrt, max_depth=89, bootstrap=False, total=   4.5s\n",
      "[CV] n_estimators=100, min_samples_split=10, min_samples_leaf=4, max_features=sqrt, max_depth=89, bootstrap=False \n",
      "[CV]  n_estimators=100, min_samples_split=10, min_samples_leaf=4, max_features=sqrt, max_depth=89, bootstrap=False, total=   4.9s\n",
      "[CV] n_estimators=700, min_samples_split=5, min_samples_leaf=2, max_features=sqrt, max_depth=47, bootstrap=False \n",
      "[CV]  n_estimators=700, min_samples_split=5, min_samples_leaf=2, max_features=sqrt, max_depth=47, bootstrap=False, total=  34.5s\n",
      "[CV] n_estimators=700, min_samples_split=5, min_samples_leaf=2, max_features=sqrt, max_depth=47, bootstrap=False \n",
      "[CV]  n_estimators=700, min_samples_split=5, min_samples_leaf=2, max_features=sqrt, max_depth=47, bootstrap=False, total=  35.3s\n",
      "[CV] n_estimators=700, min_samples_split=5, min_samples_leaf=2, max_features=sqrt, max_depth=47, bootstrap=False \n",
      "[CV]  n_estimators=700, min_samples_split=5, min_samples_leaf=2, max_features=sqrt, max_depth=47, bootstrap=False, total=  36.8s\n",
      "[CV] n_estimators=700, min_samples_split=5, min_samples_leaf=2, max_features=sqrt, max_depth=47, bootstrap=False \n",
      "[CV]  n_estimators=700, min_samples_split=5, min_samples_leaf=2, max_features=sqrt, max_depth=47, bootstrap=False, total=  34.7s\n",
      "[CV] n_estimators=700, min_samples_split=5, min_samples_leaf=2, max_features=sqrt, max_depth=47, bootstrap=False \n",
      "[CV]  n_estimators=700, min_samples_split=5, min_samples_leaf=2, max_features=sqrt, max_depth=47, bootstrap=False, total=  33.9s\n",
      "[CV] n_estimators=700, min_samples_split=5, min_samples_leaf=4, max_features=auto, max_depth=5, bootstrap=False \n"
     ]
    },
    {
     "name": "stdout",
     "output_type": "stream",
     "text": [
      "[CV]  n_estimators=700, min_samples_split=5, min_samples_leaf=4, max_features=auto, max_depth=5, bootstrap=False, total=  13.8s\n",
      "[CV] n_estimators=700, min_samples_split=5, min_samples_leaf=4, max_features=auto, max_depth=5, bootstrap=False \n",
      "[CV]  n_estimators=700, min_samples_split=5, min_samples_leaf=4, max_features=auto, max_depth=5, bootstrap=False, total=  18.4s\n",
      "[CV] n_estimators=700, min_samples_split=5, min_samples_leaf=4, max_features=auto, max_depth=5, bootstrap=False \n",
      "[CV]  n_estimators=700, min_samples_split=5, min_samples_leaf=4, max_features=auto, max_depth=5, bootstrap=False, total=  16.1s\n",
      "[CV] n_estimators=700, min_samples_split=5, min_samples_leaf=4, max_features=auto, max_depth=5, bootstrap=False \n",
      "[CV]  n_estimators=700, min_samples_split=5, min_samples_leaf=4, max_features=auto, max_depth=5, bootstrap=False, total=  16.1s\n",
      "[CV] n_estimators=700, min_samples_split=5, min_samples_leaf=4, max_features=auto, max_depth=5, bootstrap=False \n",
      "[CV]  n_estimators=700, min_samples_split=5, min_samples_leaf=4, max_features=auto, max_depth=5, bootstrap=False, total=  14.9s\n",
      "[CV] n_estimators=100, min_samples_split=2, min_samples_leaf=2, max_features=auto, max_depth=47, bootstrap=True \n",
      "[CV]  n_estimators=100, min_samples_split=2, min_samples_leaf=2, max_features=auto, max_depth=47, bootstrap=True, total=   3.1s\n",
      "[CV] n_estimators=100, min_samples_split=2, min_samples_leaf=2, max_features=auto, max_depth=47, bootstrap=True \n",
      "[CV]  n_estimators=100, min_samples_split=2, min_samples_leaf=2, max_features=auto, max_depth=47, bootstrap=True, total=   3.2s\n",
      "[CV] n_estimators=100, min_samples_split=2, min_samples_leaf=2, max_features=auto, max_depth=47, bootstrap=True \n",
      "[CV]  n_estimators=100, min_samples_split=2, min_samples_leaf=2, max_features=auto, max_depth=47, bootstrap=True, total=   3.5s\n",
      "[CV] n_estimators=100, min_samples_split=2, min_samples_leaf=2, max_features=auto, max_depth=47, bootstrap=True \n",
      "[CV]  n_estimators=100, min_samples_split=2, min_samples_leaf=2, max_features=auto, max_depth=47, bootstrap=True, total=   3.3s\n",
      "[CV] n_estimators=100, min_samples_split=2, min_samples_leaf=2, max_features=auto, max_depth=47, bootstrap=True \n",
      "[CV]  n_estimators=100, min_samples_split=2, min_samples_leaf=2, max_features=auto, max_depth=47, bootstrap=True, total=   3.1s\n",
      "[CV] n_estimators=800, min_samples_split=5, min_samples_leaf=2, max_features=sqrt, max_depth=26, bootstrap=False \n",
      "[CV]  n_estimators=800, min_samples_split=5, min_samples_leaf=2, max_features=sqrt, max_depth=26, bootstrap=False, total=  39.8s\n",
      "[CV] n_estimators=800, min_samples_split=5, min_samples_leaf=2, max_features=sqrt, max_depth=26, bootstrap=False \n",
      "[CV]  n_estimators=800, min_samples_split=5, min_samples_leaf=2, max_features=sqrt, max_depth=26, bootstrap=False, total=  37.3s\n",
      "[CV] n_estimators=800, min_samples_split=5, min_samples_leaf=2, max_features=sqrt, max_depth=26, bootstrap=False \n",
      "[CV]  n_estimators=800, min_samples_split=5, min_samples_leaf=2, max_features=sqrt, max_depth=26, bootstrap=False, total=  40.6s\n",
      "[CV] n_estimators=800, min_samples_split=5, min_samples_leaf=2, max_features=sqrt, max_depth=26, bootstrap=False \n",
      "[CV]  n_estimators=800, min_samples_split=5, min_samples_leaf=2, max_features=sqrt, max_depth=26, bootstrap=False, total=  43.4s\n",
      "[CV] n_estimators=800, min_samples_split=5, min_samples_leaf=2, max_features=sqrt, max_depth=26, bootstrap=False \n",
      "[CV]  n_estimators=800, min_samples_split=5, min_samples_leaf=2, max_features=sqrt, max_depth=26, bootstrap=False, total=  42.4s\n",
      "[CV] n_estimators=500, min_samples_split=5, min_samples_leaf=2, max_features=auto, max_depth=26, bootstrap=True \n",
      "[CV]  n_estimators=500, min_samples_split=5, min_samples_leaf=2, max_features=auto, max_depth=26, bootstrap=True, total=  16.5s\n",
      "[CV] n_estimators=500, min_samples_split=5, min_samples_leaf=2, max_features=auto, max_depth=26, bootstrap=True \n",
      "[CV]  n_estimators=500, min_samples_split=5, min_samples_leaf=2, max_features=auto, max_depth=26, bootstrap=True, total=  15.5s\n",
      "[CV] n_estimators=500, min_samples_split=5, min_samples_leaf=2, max_features=auto, max_depth=26, bootstrap=True \n",
      "[CV]  n_estimators=500, min_samples_split=5, min_samples_leaf=2, max_features=auto, max_depth=26, bootstrap=True, total=  15.5s\n",
      "[CV] n_estimators=500, min_samples_split=5, min_samples_leaf=2, max_features=auto, max_depth=26, bootstrap=True \n",
      "[CV]  n_estimators=500, min_samples_split=5, min_samples_leaf=2, max_features=auto, max_depth=26, bootstrap=True, total=  15.9s\n",
      "[CV] n_estimators=500, min_samples_split=5, min_samples_leaf=2, max_features=auto, max_depth=26, bootstrap=True \n",
      "[CV]  n_estimators=500, min_samples_split=5, min_samples_leaf=2, max_features=auto, max_depth=26, bootstrap=True, total=  15.3s\n",
      "[CV] n_estimators=100, min_samples_split=2, min_samples_leaf=2, max_features=sqrt, max_depth=36, bootstrap=True \n",
      "[CV]  n_estimators=100, min_samples_split=2, min_samples_leaf=2, max_features=sqrt, max_depth=36, bootstrap=True, total=   3.1s\n",
      "[CV] n_estimators=100, min_samples_split=2, min_samples_leaf=2, max_features=sqrt, max_depth=36, bootstrap=True \n",
      "[CV]  n_estimators=100, min_samples_split=2, min_samples_leaf=2, max_features=sqrt, max_depth=36, bootstrap=True, total=   3.3s\n",
      "[CV] n_estimators=100, min_samples_split=2, min_samples_leaf=2, max_features=sqrt, max_depth=36, bootstrap=True \n",
      "[CV]  n_estimators=100, min_samples_split=2, min_samples_leaf=2, max_features=sqrt, max_depth=36, bootstrap=True, total=   3.3s\n",
      "[CV] n_estimators=100, min_samples_split=2, min_samples_leaf=2, max_features=sqrt, max_depth=36, bootstrap=True \n",
      "[CV]  n_estimators=100, min_samples_split=2, min_samples_leaf=2, max_features=sqrt, max_depth=36, bootstrap=True, total=   3.1s\n",
      "[CV] n_estimators=100, min_samples_split=2, min_samples_leaf=2, max_features=sqrt, max_depth=36, bootstrap=True \n",
      "[CV]  n_estimators=100, min_samples_split=2, min_samples_leaf=2, max_features=sqrt, max_depth=36, bootstrap=True, total=   3.2s\n",
      "[CV] n_estimators=100, min_samples_split=10, min_samples_leaf=4, max_features=sqrt, max_depth=68, bootstrap=False \n",
      "[CV]  n_estimators=100, min_samples_split=10, min_samples_leaf=4, max_features=sqrt, max_depth=68, bootstrap=False, total=   4.7s\n",
      "[CV] n_estimators=100, min_samples_split=10, min_samples_leaf=4, max_features=sqrt, max_depth=68, bootstrap=False \n",
      "[CV]  n_estimators=100, min_samples_split=10, min_samples_leaf=4, max_features=sqrt, max_depth=68, bootstrap=False, total=   4.8s\n",
      "[CV] n_estimators=100, min_samples_split=10, min_samples_leaf=4, max_features=sqrt, max_depth=68, bootstrap=False \n",
      "[CV]  n_estimators=100, min_samples_split=10, min_samples_leaf=4, max_features=sqrt, max_depth=68, bootstrap=False, total=   4.9s\n",
      "[CV] n_estimators=100, min_samples_split=10, min_samples_leaf=4, max_features=sqrt, max_depth=68, bootstrap=False \n",
      "[CV]  n_estimators=100, min_samples_split=10, min_samples_leaf=4, max_features=sqrt, max_depth=68, bootstrap=False, total=   4.6s\n",
      "[CV] n_estimators=100, min_samples_split=10, min_samples_leaf=4, max_features=sqrt, max_depth=68, bootstrap=False \n",
      "[CV]  n_estimators=100, min_samples_split=10, min_samples_leaf=4, max_features=sqrt, max_depth=68, bootstrap=False, total=   4.3s\n",
      "[CV] n_estimators=400, min_samples_split=10, min_samples_leaf=4, max_features=sqrt, max_depth=15, bootstrap=True \n",
      "[CV]  n_estimators=400, min_samples_split=10, min_samples_leaf=4, max_features=sqrt, max_depth=15, bootstrap=True, total=  11.0s\n",
      "[CV] n_estimators=400, min_samples_split=10, min_samples_leaf=4, max_features=sqrt, max_depth=15, bootstrap=True \n",
      "[CV]  n_estimators=400, min_samples_split=10, min_samples_leaf=4, max_features=sqrt, max_depth=15, bootstrap=True, total=  10.5s\n",
      "[CV] n_estimators=400, min_samples_split=10, min_samples_leaf=4, max_features=sqrt, max_depth=15, bootstrap=True \n",
      "[CV]  n_estimators=400, min_samples_split=10, min_samples_leaf=4, max_features=sqrt, max_depth=15, bootstrap=True, total=  10.5s\n",
      "[CV] n_estimators=400, min_samples_split=10, min_samples_leaf=4, max_features=sqrt, max_depth=15, bootstrap=True \n",
      "[CV]  n_estimators=400, min_samples_split=10, min_samples_leaf=4, max_features=sqrt, max_depth=15, bootstrap=True, total=  11.2s\n",
      "[CV] n_estimators=400, min_samples_split=10, min_samples_leaf=4, max_features=sqrt, max_depth=15, bootstrap=True \n"
     ]
    },
    {
     "name": "stdout",
     "output_type": "stream",
     "text": [
      "[CV]  n_estimators=400, min_samples_split=10, min_samples_leaf=4, max_features=sqrt, max_depth=15, bootstrap=True, total=  11.3s\n",
      "[CV] n_estimators=300, min_samples_split=2, min_samples_leaf=2, max_features=sqrt, max_depth=36, bootstrap=True \n",
      "[CV]  n_estimators=300, min_samples_split=2, min_samples_leaf=2, max_features=sqrt, max_depth=36, bootstrap=True, total=  11.5s\n",
      "[CV] n_estimators=300, min_samples_split=2, min_samples_leaf=2, max_features=sqrt, max_depth=36, bootstrap=True \n",
      "[CV]  n_estimators=300, min_samples_split=2, min_samples_leaf=2, max_features=sqrt, max_depth=36, bootstrap=True, total=   9.9s\n",
      "[CV] n_estimators=300, min_samples_split=2, min_samples_leaf=2, max_features=sqrt, max_depth=36, bootstrap=True \n",
      "[CV]  n_estimators=300, min_samples_split=2, min_samples_leaf=2, max_features=sqrt, max_depth=36, bootstrap=True, total=  10.1s\n",
      "[CV] n_estimators=300, min_samples_split=2, min_samples_leaf=2, max_features=sqrt, max_depth=36, bootstrap=True \n",
      "[CV]  n_estimators=300, min_samples_split=2, min_samples_leaf=2, max_features=sqrt, max_depth=36, bootstrap=True, total=  10.0s\n",
      "[CV] n_estimators=300, min_samples_split=2, min_samples_leaf=2, max_features=sqrt, max_depth=36, bootstrap=True \n",
      "[CV]  n_estimators=300, min_samples_split=2, min_samples_leaf=2, max_features=sqrt, max_depth=36, bootstrap=True, total=   9.5s\n",
      "[CV] n_estimators=500, min_samples_split=2, min_samples_leaf=4, max_features=auto, max_depth=15, bootstrap=False \n",
      "[CV]  n_estimators=500, min_samples_split=2, min_samples_leaf=4, max_features=auto, max_depth=15, bootstrap=False, total=  19.8s\n",
      "[CV] n_estimators=500, min_samples_split=2, min_samples_leaf=4, max_features=auto, max_depth=15, bootstrap=False \n",
      "[CV]  n_estimators=500, min_samples_split=2, min_samples_leaf=4, max_features=auto, max_depth=15, bootstrap=False, total=  20.0s\n",
      "[CV] n_estimators=500, min_samples_split=2, min_samples_leaf=4, max_features=auto, max_depth=15, bootstrap=False \n",
      "[CV]  n_estimators=500, min_samples_split=2, min_samples_leaf=4, max_features=auto, max_depth=15, bootstrap=False, total=  24.2s\n",
      "[CV] n_estimators=500, min_samples_split=2, min_samples_leaf=4, max_features=auto, max_depth=15, bootstrap=False \n",
      "[CV]  n_estimators=500, min_samples_split=2, min_samples_leaf=4, max_features=auto, max_depth=15, bootstrap=False, total=  21.0s\n",
      "[CV] n_estimators=500, min_samples_split=2, min_samples_leaf=4, max_features=auto, max_depth=15, bootstrap=False \n",
      "[CV]  n_estimators=500, min_samples_split=2, min_samples_leaf=4, max_features=auto, max_depth=15, bootstrap=False, total=  20.3s\n",
      "[CV] n_estimators=900, min_samples_split=10, min_samples_leaf=4, max_features=auto, max_depth=47, bootstrap=False \n",
      "[CV]  n_estimators=900, min_samples_split=10, min_samples_leaf=4, max_features=auto, max_depth=47, bootstrap=False, total=  43.2s\n",
      "[CV] n_estimators=900, min_samples_split=10, min_samples_leaf=4, max_features=auto, max_depth=47, bootstrap=False \n",
      "[CV]  n_estimators=900, min_samples_split=10, min_samples_leaf=4, max_features=auto, max_depth=47, bootstrap=False, total=  45.9s\n",
      "[CV] n_estimators=900, min_samples_split=10, min_samples_leaf=4, max_features=auto, max_depth=47, bootstrap=False \n",
      "[CV]  n_estimators=900, min_samples_split=10, min_samples_leaf=4, max_features=auto, max_depth=47, bootstrap=False, total=  41.7s\n",
      "[CV] n_estimators=900, min_samples_split=10, min_samples_leaf=4, max_features=auto, max_depth=47, bootstrap=False \n",
      "[CV]  n_estimators=900, min_samples_split=10, min_samples_leaf=4, max_features=auto, max_depth=47, bootstrap=False, total=  47.7s\n",
      "[CV] n_estimators=900, min_samples_split=10, min_samples_leaf=4, max_features=auto, max_depth=47, bootstrap=False \n",
      "[CV]  n_estimators=900, min_samples_split=10, min_samples_leaf=4, max_features=auto, max_depth=47, bootstrap=False, total=  43.8s\n",
      "[CV] n_estimators=700, min_samples_split=2, min_samples_leaf=2, max_features=auto, max_depth=89, bootstrap=False \n",
      "[CV]  n_estimators=700, min_samples_split=2, min_samples_leaf=2, max_features=auto, max_depth=89, bootstrap=False, total=  37.6s\n",
      "[CV] n_estimators=700, min_samples_split=2, min_samples_leaf=2, max_features=auto, max_depth=89, bootstrap=False \n",
      "[CV]  n_estimators=700, min_samples_split=2, min_samples_leaf=2, max_features=auto, max_depth=89, bootstrap=False, total=  39.1s\n",
      "[CV] n_estimators=700, min_samples_split=2, min_samples_leaf=2, max_features=auto, max_depth=89, bootstrap=False \n",
      "[CV]  n_estimators=700, min_samples_split=2, min_samples_leaf=2, max_features=auto, max_depth=89, bootstrap=False, total=  38.3s\n",
      "[CV] n_estimators=700, min_samples_split=2, min_samples_leaf=2, max_features=auto, max_depth=89, bootstrap=False \n",
      "[CV]  n_estimators=700, min_samples_split=2, min_samples_leaf=2, max_features=auto, max_depth=89, bootstrap=False, total=  37.0s\n",
      "[CV] n_estimators=700, min_samples_split=2, min_samples_leaf=2, max_features=auto, max_depth=89, bootstrap=False \n",
      "[CV]  n_estimators=700, min_samples_split=2, min_samples_leaf=2, max_features=auto, max_depth=89, bootstrap=False, total=  36.5s\n",
      "[CV] n_estimators=1000, min_samples_split=5, min_samples_leaf=2, max_features=sqrt, max_depth=5, bootstrap=False \n",
      "[CV]  n_estimators=1000, min_samples_split=5, min_samples_leaf=2, max_features=sqrt, max_depth=5, bootstrap=False, total=  21.2s\n",
      "[CV] n_estimators=1000, min_samples_split=5, min_samples_leaf=2, max_features=sqrt, max_depth=5, bootstrap=False \n",
      "[CV]  n_estimators=1000, min_samples_split=5, min_samples_leaf=2, max_features=sqrt, max_depth=5, bootstrap=False, total=  19.8s\n",
      "[CV] n_estimators=1000, min_samples_split=5, min_samples_leaf=2, max_features=sqrt, max_depth=5, bootstrap=False \n",
      "[CV]  n_estimators=1000, min_samples_split=5, min_samples_leaf=2, max_features=sqrt, max_depth=5, bootstrap=False, total=  21.7s\n",
      "[CV] n_estimators=1000, min_samples_split=5, min_samples_leaf=2, max_features=sqrt, max_depth=5, bootstrap=False \n",
      "[CV]  n_estimators=1000, min_samples_split=5, min_samples_leaf=2, max_features=sqrt, max_depth=5, bootstrap=False, total=  20.9s\n",
      "[CV] n_estimators=1000, min_samples_split=5, min_samples_leaf=2, max_features=sqrt, max_depth=5, bootstrap=False \n",
      "[CV]  n_estimators=1000, min_samples_split=5, min_samples_leaf=2, max_features=sqrt, max_depth=5, bootstrap=False, total=  20.7s\n",
      "[CV] n_estimators=800, min_samples_split=10, min_samples_leaf=2, max_features=sqrt, max_depth=47, bootstrap=True \n",
      "[CV]  n_estimators=800, min_samples_split=10, min_samples_leaf=2, max_features=sqrt, max_depth=47, bootstrap=True, total=  24.7s\n",
      "[CV] n_estimators=800, min_samples_split=10, min_samples_leaf=2, max_features=sqrt, max_depth=47, bootstrap=True \n",
      "[CV]  n_estimators=800, min_samples_split=10, min_samples_leaf=2, max_features=sqrt, max_depth=47, bootstrap=True, total=  24.5s\n",
      "[CV] n_estimators=800, min_samples_split=10, min_samples_leaf=2, max_features=sqrt, max_depth=47, bootstrap=True \n",
      "[CV]  n_estimators=800, min_samples_split=10, min_samples_leaf=2, max_features=sqrt, max_depth=47, bootstrap=True, total=  23.8s\n",
      "[CV] n_estimators=800, min_samples_split=10, min_samples_leaf=2, max_features=sqrt, max_depth=47, bootstrap=True \n",
      "[CV]  n_estimators=800, min_samples_split=10, min_samples_leaf=2, max_features=sqrt, max_depth=47, bootstrap=True, total=  22.7s\n",
      "[CV] n_estimators=800, min_samples_split=10, min_samples_leaf=2, max_features=sqrt, max_depth=47, bootstrap=True \n",
      "[CV]  n_estimators=800, min_samples_split=10, min_samples_leaf=2, max_features=sqrt, max_depth=47, bootstrap=True, total=  22.6s\n",
      "[CV] n_estimators=200, min_samples_split=5, min_samples_leaf=4, max_features=auto, max_depth=5, bootstrap=False \n",
      "[CV]  n_estimators=200, min_samples_split=5, min_samples_leaf=4, max_features=auto, max_depth=5, bootstrap=False, total=   4.2s\n",
      "[CV] n_estimators=200, min_samples_split=5, min_samples_leaf=4, max_features=auto, max_depth=5, bootstrap=False \n",
      "[CV]  n_estimators=200, min_samples_split=5, min_samples_leaf=4, max_features=auto, max_depth=5, bootstrap=False, total=   4.2s\n",
      "[CV] n_estimators=200, min_samples_split=5, min_samples_leaf=4, max_features=auto, max_depth=5, bootstrap=False \n",
      "[CV]  n_estimators=200, min_samples_split=5, min_samples_leaf=4, max_features=auto, max_depth=5, bootstrap=False, total=   5.4s\n",
      "[CV] n_estimators=200, min_samples_split=5, min_samples_leaf=4, max_features=auto, max_depth=5, bootstrap=False \n"
     ]
    },
    {
     "name": "stdout",
     "output_type": "stream",
     "text": [
      "[CV]  n_estimators=200, min_samples_split=5, min_samples_leaf=4, max_features=auto, max_depth=5, bootstrap=False, total=   4.6s\n",
      "[CV] n_estimators=200, min_samples_split=5, min_samples_leaf=4, max_features=auto, max_depth=5, bootstrap=False \n",
      "[CV]  n_estimators=200, min_samples_split=5, min_samples_leaf=4, max_features=auto, max_depth=5, bootstrap=False, total=   5.2s\n",
      "[CV] n_estimators=100, min_samples_split=10, min_samples_leaf=2, max_features=auto, max_depth=100, bootstrap=True \n",
      "[CV]  n_estimators=100, min_samples_split=10, min_samples_leaf=2, max_features=auto, max_depth=100, bootstrap=True, total=   2.9s\n",
      "[CV] n_estimators=100, min_samples_split=10, min_samples_leaf=2, max_features=auto, max_depth=100, bootstrap=True \n",
      "[CV]  n_estimators=100, min_samples_split=10, min_samples_leaf=2, max_features=auto, max_depth=100, bootstrap=True, total=   2.9s\n",
      "[CV] n_estimators=100, min_samples_split=10, min_samples_leaf=2, max_features=auto, max_depth=100, bootstrap=True \n",
      "[CV]  n_estimators=100, min_samples_split=10, min_samples_leaf=2, max_features=auto, max_depth=100, bootstrap=True, total=   2.9s\n",
      "[CV] n_estimators=100, min_samples_split=10, min_samples_leaf=2, max_features=auto, max_depth=100, bootstrap=True \n",
      "[CV]  n_estimators=100, min_samples_split=10, min_samples_leaf=2, max_features=auto, max_depth=100, bootstrap=True, total=   3.4s\n",
      "[CV] n_estimators=100, min_samples_split=10, min_samples_leaf=2, max_features=auto, max_depth=100, bootstrap=True \n",
      "[CV]  n_estimators=100, min_samples_split=10, min_samples_leaf=2, max_features=auto, max_depth=100, bootstrap=True, total=   3.3s\n",
      "[CV] n_estimators=600, min_samples_split=5, min_samples_leaf=4, max_features=auto, max_depth=100, bootstrap=True \n",
      "[CV]  n_estimators=600, min_samples_split=5, min_samples_leaf=4, max_features=auto, max_depth=100, bootstrap=True, total=  15.5s\n",
      "[CV] n_estimators=600, min_samples_split=5, min_samples_leaf=4, max_features=auto, max_depth=100, bootstrap=True \n",
      "[CV]  n_estimators=600, min_samples_split=5, min_samples_leaf=4, max_features=auto, max_depth=100, bootstrap=True, total=  18.2s\n",
      "[CV] n_estimators=600, min_samples_split=5, min_samples_leaf=4, max_features=auto, max_depth=100, bootstrap=True \n",
      "[CV]  n_estimators=600, min_samples_split=5, min_samples_leaf=4, max_features=auto, max_depth=100, bootstrap=True, total=  15.6s\n",
      "[CV] n_estimators=600, min_samples_split=5, min_samples_leaf=4, max_features=auto, max_depth=100, bootstrap=True \n",
      "[CV]  n_estimators=600, min_samples_split=5, min_samples_leaf=4, max_features=auto, max_depth=100, bootstrap=True, total=  17.7s\n",
      "[CV] n_estimators=600, min_samples_split=5, min_samples_leaf=4, max_features=auto, max_depth=100, bootstrap=True \n",
      "[CV]  n_estimators=600, min_samples_split=5, min_samples_leaf=4, max_features=auto, max_depth=100, bootstrap=True, total=  16.3s\n",
      "[CV] n_estimators=900, min_samples_split=2, min_samples_leaf=2, max_features=auto, max_depth=57, bootstrap=False \n",
      "[CV]  n_estimators=900, min_samples_split=2, min_samples_leaf=2, max_features=auto, max_depth=57, bootstrap=False, total=  45.6s\n",
      "[CV] n_estimators=900, min_samples_split=2, min_samples_leaf=2, max_features=auto, max_depth=57, bootstrap=False \n",
      "[CV]  n_estimators=900, min_samples_split=2, min_samples_leaf=2, max_features=auto, max_depth=57, bootstrap=False, total=  44.2s\n",
      "[CV] n_estimators=900, min_samples_split=2, min_samples_leaf=2, max_features=auto, max_depth=57, bootstrap=False \n",
      "[CV]  n_estimators=900, min_samples_split=2, min_samples_leaf=2, max_features=auto, max_depth=57, bootstrap=False, total=  47.7s\n",
      "[CV] n_estimators=900, min_samples_split=2, min_samples_leaf=2, max_features=auto, max_depth=57, bootstrap=False \n",
      "[CV]  n_estimators=900, min_samples_split=2, min_samples_leaf=2, max_features=auto, max_depth=57, bootstrap=False, total=  46.1s\n",
      "[CV] n_estimators=900, min_samples_split=2, min_samples_leaf=2, max_features=auto, max_depth=57, bootstrap=False \n",
      "[CV]  n_estimators=900, min_samples_split=2, min_samples_leaf=2, max_features=auto, max_depth=57, bootstrap=False, total=  43.8s\n",
      "[CV] n_estimators=300, min_samples_split=5, min_samples_leaf=4, max_features=auto, max_depth=78, bootstrap=False \n",
      "[CV]  n_estimators=300, min_samples_split=5, min_samples_leaf=4, max_features=auto, max_depth=78, bootstrap=False, total=  15.8s\n",
      "[CV] n_estimators=300, min_samples_split=5, min_samples_leaf=4, max_features=auto, max_depth=78, bootstrap=False \n",
      "[CV]  n_estimators=300, min_samples_split=5, min_samples_leaf=4, max_features=auto, max_depth=78, bootstrap=False, total=  15.0s\n",
      "[CV] n_estimators=300, min_samples_split=5, min_samples_leaf=4, max_features=auto, max_depth=78, bootstrap=False \n",
      "[CV]  n_estimators=300, min_samples_split=5, min_samples_leaf=4, max_features=auto, max_depth=78, bootstrap=False, total=  15.3s\n",
      "[CV] n_estimators=300, min_samples_split=5, min_samples_leaf=4, max_features=auto, max_depth=78, bootstrap=False \n",
      "[CV]  n_estimators=300, min_samples_split=5, min_samples_leaf=4, max_features=auto, max_depth=78, bootstrap=False, total=  13.5s\n",
      "[CV] n_estimators=300, min_samples_split=5, min_samples_leaf=4, max_features=auto, max_depth=78, bootstrap=False \n",
      "[CV]  n_estimators=300, min_samples_split=5, min_samples_leaf=4, max_features=auto, max_depth=78, bootstrap=False, total=  12.8s\n",
      "[CV] n_estimators=200, min_samples_split=5, min_samples_leaf=4, max_features=sqrt, max_depth=15, bootstrap=True \n",
      "[CV]  n_estimators=200, min_samples_split=5, min_samples_leaf=4, max_features=sqrt, max_depth=15, bootstrap=True, total=   5.5s\n",
      "[CV] n_estimators=200, min_samples_split=5, min_samples_leaf=4, max_features=sqrt, max_depth=15, bootstrap=True \n",
      "[CV]  n_estimators=200, min_samples_split=5, min_samples_leaf=4, max_features=sqrt, max_depth=15, bootstrap=True, total=   6.2s\n",
      "[CV] n_estimators=200, min_samples_split=5, min_samples_leaf=4, max_features=sqrt, max_depth=15, bootstrap=True \n",
      "[CV]  n_estimators=200, min_samples_split=5, min_samples_leaf=4, max_features=sqrt, max_depth=15, bootstrap=True, total=   5.5s\n",
      "[CV] n_estimators=200, min_samples_split=5, min_samples_leaf=4, max_features=sqrt, max_depth=15, bootstrap=True \n",
      "[CV]  n_estimators=200, min_samples_split=5, min_samples_leaf=4, max_features=sqrt, max_depth=15, bootstrap=True, total=   6.2s\n",
      "[CV] n_estimators=200, min_samples_split=5, min_samples_leaf=4, max_features=sqrt, max_depth=15, bootstrap=True \n",
      "[CV]  n_estimators=200, min_samples_split=5, min_samples_leaf=4, max_features=sqrt, max_depth=15, bootstrap=True, total=   5.2s\n",
      "[CV] n_estimators=1000, min_samples_split=10, min_samples_leaf=2, max_features=auto, max_depth=5, bootstrap=False \n",
      "[CV]  n_estimators=1000, min_samples_split=10, min_samples_leaf=2, max_features=auto, max_depth=5, bootstrap=False, total=  22.1s\n",
      "[CV] n_estimators=1000, min_samples_split=10, min_samples_leaf=2, max_features=auto, max_depth=5, bootstrap=False \n",
      "[CV]  n_estimators=1000, min_samples_split=10, min_samples_leaf=2, max_features=auto, max_depth=5, bootstrap=False, total=  23.8s\n",
      "[CV] n_estimators=1000, min_samples_split=10, min_samples_leaf=2, max_features=auto, max_depth=5, bootstrap=False \n",
      "[CV]  n_estimators=1000, min_samples_split=10, min_samples_leaf=2, max_features=auto, max_depth=5, bootstrap=False, total=  20.4s\n",
      "[CV] n_estimators=1000, min_samples_split=10, min_samples_leaf=2, max_features=auto, max_depth=5, bootstrap=False \n",
      "[CV]  n_estimators=1000, min_samples_split=10, min_samples_leaf=2, max_features=auto, max_depth=5, bootstrap=False, total=  22.1s\n",
      "[CV] n_estimators=1000, min_samples_split=10, min_samples_leaf=2, max_features=auto, max_depth=5, bootstrap=False \n",
      "[CV]  n_estimators=1000, min_samples_split=10, min_samples_leaf=2, max_features=auto, max_depth=5, bootstrap=False, total=  19.7s\n",
      "[CV] n_estimators=600, min_samples_split=2, min_samples_leaf=4, max_features=sqrt, max_depth=26, bootstrap=False \n",
      "[CV]  n_estimators=600, min_samples_split=2, min_samples_leaf=4, max_features=sqrt, max_depth=26, bootstrap=False, total=  25.9s\n",
      "[CV] n_estimators=600, min_samples_split=2, min_samples_leaf=4, max_features=sqrt, max_depth=26, bootstrap=False \n",
      "[CV]  n_estimators=600, min_samples_split=2, min_samples_leaf=4, max_features=sqrt, max_depth=26, bootstrap=False, total=  25.4s\n",
      "[CV] n_estimators=600, min_samples_split=2, min_samples_leaf=4, max_features=sqrt, max_depth=26, bootstrap=False \n"
     ]
    },
    {
     "name": "stdout",
     "output_type": "stream",
     "text": [
      "[CV]  n_estimators=600, min_samples_split=2, min_samples_leaf=4, max_features=sqrt, max_depth=26, bootstrap=False, total=  27.3s\n",
      "[CV] n_estimators=600, min_samples_split=2, min_samples_leaf=4, max_features=sqrt, max_depth=26, bootstrap=False \n",
      "[CV]  n_estimators=600, min_samples_split=2, min_samples_leaf=4, max_features=sqrt, max_depth=26, bootstrap=False, total=  27.0s\n",
      "[CV] n_estimators=600, min_samples_split=2, min_samples_leaf=4, max_features=sqrt, max_depth=26, bootstrap=False \n",
      "[CV]  n_estimators=600, min_samples_split=2, min_samples_leaf=4, max_features=sqrt, max_depth=26, bootstrap=False, total=  28.1s\n",
      "[CV] n_estimators=800, min_samples_split=5, min_samples_leaf=2, max_features=auto, max_depth=57, bootstrap=False \n",
      "[CV]  n_estimators=800, min_samples_split=5, min_samples_leaf=2, max_features=auto, max_depth=57, bootstrap=False, total=  46.6s\n",
      "[CV] n_estimators=800, min_samples_split=5, min_samples_leaf=2, max_features=auto, max_depth=57, bootstrap=False \n",
      "[CV]  n_estimators=800, min_samples_split=5, min_samples_leaf=2, max_features=auto, max_depth=57, bootstrap=False, total=  41.4s\n",
      "[CV] n_estimators=800, min_samples_split=5, min_samples_leaf=2, max_features=auto, max_depth=57, bootstrap=False \n",
      "[CV]  n_estimators=800, min_samples_split=5, min_samples_leaf=2, max_features=auto, max_depth=57, bootstrap=False, total=  38.4s\n",
      "[CV] n_estimators=800, min_samples_split=5, min_samples_leaf=2, max_features=auto, max_depth=57, bootstrap=False \n",
      "[CV]  n_estimators=800, min_samples_split=5, min_samples_leaf=2, max_features=auto, max_depth=57, bootstrap=False, total=  39.4s\n",
      "[CV] n_estimators=800, min_samples_split=5, min_samples_leaf=2, max_features=auto, max_depth=57, bootstrap=False \n",
      "[CV]  n_estimators=800, min_samples_split=5, min_samples_leaf=2, max_features=auto, max_depth=57, bootstrap=False, total=  41.9s\n",
      "[CV] n_estimators=300, min_samples_split=10, min_samples_leaf=2, max_features=sqrt, max_depth=68, bootstrap=False \n",
      "[CV]  n_estimators=300, min_samples_split=10, min_samples_leaf=2, max_features=sqrt, max_depth=68, bootstrap=False, total=  17.7s\n",
      "[CV] n_estimators=300, min_samples_split=10, min_samples_leaf=2, max_features=sqrt, max_depth=68, bootstrap=False \n",
      "[CV]  n_estimators=300, min_samples_split=10, min_samples_leaf=2, max_features=sqrt, max_depth=68, bootstrap=False, total=  16.8s\n",
      "[CV] n_estimators=300, min_samples_split=10, min_samples_leaf=2, max_features=sqrt, max_depth=68, bootstrap=False \n",
      "[CV]  n_estimators=300, min_samples_split=10, min_samples_leaf=2, max_features=sqrt, max_depth=68, bootstrap=False, total=  16.0s\n",
      "[CV] n_estimators=300, min_samples_split=10, min_samples_leaf=2, max_features=sqrt, max_depth=68, bootstrap=False \n",
      "[CV]  n_estimators=300, min_samples_split=10, min_samples_leaf=2, max_features=sqrt, max_depth=68, bootstrap=False, total=  14.6s\n",
      "[CV] n_estimators=300, min_samples_split=10, min_samples_leaf=2, max_features=sqrt, max_depth=68, bootstrap=False \n",
      "[CV]  n_estimators=300, min_samples_split=10, min_samples_leaf=2, max_features=sqrt, max_depth=68, bootstrap=False, total=  16.5s\n",
      "[CV] n_estimators=100, min_samples_split=2, min_samples_leaf=4, max_features=auto, max_depth=None, bootstrap=False \n",
      "[CV]  n_estimators=100, min_samples_split=2, min_samples_leaf=4, max_features=auto, max_depth=None, bootstrap=False, total=   4.3s\n",
      "[CV] n_estimators=100, min_samples_split=2, min_samples_leaf=4, max_features=auto, max_depth=None, bootstrap=False \n",
      "[CV]  n_estimators=100, min_samples_split=2, min_samples_leaf=4, max_features=auto, max_depth=None, bootstrap=False, total=   4.3s\n",
      "[CV] n_estimators=100, min_samples_split=2, min_samples_leaf=4, max_features=auto, max_depth=None, bootstrap=False \n",
      "[CV]  n_estimators=100, min_samples_split=2, min_samples_leaf=4, max_features=auto, max_depth=None, bootstrap=False, total=   4.2s\n",
      "[CV] n_estimators=100, min_samples_split=2, min_samples_leaf=4, max_features=auto, max_depth=None, bootstrap=False \n",
      "[CV]  n_estimators=100, min_samples_split=2, min_samples_leaf=4, max_features=auto, max_depth=None, bootstrap=False, total=   4.2s\n",
      "[CV] n_estimators=100, min_samples_split=2, min_samples_leaf=4, max_features=auto, max_depth=None, bootstrap=False \n",
      "[CV]  n_estimators=100, min_samples_split=2, min_samples_leaf=4, max_features=auto, max_depth=None, bootstrap=False, total=   4.2s\n",
      "[CV] n_estimators=400, min_samples_split=5, min_samples_leaf=4, max_features=sqrt, max_depth=36, bootstrap=False \n",
      "[CV]  n_estimators=400, min_samples_split=5, min_samples_leaf=4, max_features=sqrt, max_depth=36, bootstrap=False, total=  18.2s\n",
      "[CV] n_estimators=400, min_samples_split=5, min_samples_leaf=4, max_features=sqrt, max_depth=36, bootstrap=False \n",
      "[CV]  n_estimators=400, min_samples_split=5, min_samples_leaf=4, max_features=sqrt, max_depth=36, bootstrap=False, total=  18.4s\n",
      "[CV] n_estimators=400, min_samples_split=5, min_samples_leaf=4, max_features=sqrt, max_depth=36, bootstrap=False \n",
      "[CV]  n_estimators=400, min_samples_split=5, min_samples_leaf=4, max_features=sqrt, max_depth=36, bootstrap=False, total=  18.8s\n",
      "[CV] n_estimators=400, min_samples_split=5, min_samples_leaf=4, max_features=sqrt, max_depth=36, bootstrap=False \n",
      "[CV]  n_estimators=400, min_samples_split=5, min_samples_leaf=4, max_features=sqrt, max_depth=36, bootstrap=False, total=  17.6s\n",
      "[CV] n_estimators=400, min_samples_split=5, min_samples_leaf=4, max_features=sqrt, max_depth=36, bootstrap=False \n",
      "[CV]  n_estimators=400, min_samples_split=5, min_samples_leaf=4, max_features=sqrt, max_depth=36, bootstrap=False, total=  18.5s\n"
     ]
    },
    {
     "name": "stderr",
     "output_type": "stream",
     "text": [
      "[Parallel(n_jobs=1)]: Done 500 out of 500 | elapsed: 146.6min finished\n"
     ]
    },
    {
     "data": {
      "text/plain": [
       "RandomizedSearchCV(cv=5, error_score=nan,\n",
       "                   estimator=RandomForestClassifier(bootstrap=True,\n",
       "                                                    ccp_alpha=0.0,\n",
       "                                                    class_weight=None,\n",
       "                                                    criterion='gini',\n",
       "                                                    max_depth=None,\n",
       "                                                    max_features='auto',\n",
       "                                                    max_leaf_nodes=None,\n",
       "                                                    max_samples=None,\n",
       "                                                    min_impurity_decrease=0.0,\n",
       "                                                    min_impurity_split=None,\n",
       "                                                    min_samples_leaf=1,\n",
       "                                                    min_samples_split=2,\n",
       "                                                    min_weight_fraction_leaf=0.0,\n",
       "                                                    n_estimators=100,\n",
       "                                                    n_jobs...\n",
       "                   iid='deprecated', n_iter=100, n_jobs=1,\n",
       "                   param_distributions={'bootstrap': [True, False],\n",
       "                                        'max_depth': [5, 15, 26, 36, 47, 57, 68,\n",
       "                                                      78, 89, 100, None],\n",
       "                                        'max_features': ['auto', 'sqrt'],\n",
       "                                        'min_samples_leaf': [2, 4],\n",
       "                                        'min_samples_split': [2, 5, 10],\n",
       "                                        'n_estimators': [100, 200, 300, 400,\n",
       "                                                         500, 600, 700, 800,\n",
       "                                                         900, 1000]},\n",
       "                   pre_dispatch='2*n_jobs', random_state=42, refit=True,\n",
       "                   return_train_score=False, scoring=None, verbose=2)"
      ]
     },
     "execution_count": 70,
     "metadata": {},
     "output_type": "execute_result"
    }
   ],
   "source": [
    "#Fit the random search model  (takes 2 hour 30 mins) \n",
    "rf_random.fit(X_train, y_train)"
   ]
  },
  {
   "cell_type": "code",
   "execution_count": 71,
   "metadata": {},
   "outputs": [
    {
     "data": {
      "text/plain": [
       "{'n_estimators': 100,\n",
       " 'min_samples_split': 10,\n",
       " 'min_samples_leaf': 2,\n",
       " 'max_features': 'auto',\n",
       " 'max_depth': 57,\n",
       " 'bootstrap': True}"
      ]
     },
     "execution_count": 71,
     "metadata": {},
     "output_type": "execute_result"
    }
   ],
   "source": [
    "rf_random.best_params_"
   ]
  },
  {
   "cell_type": "code",
   "execution_count": 71,
   "metadata": {},
   "outputs": [
    {
     "name": "stdout",
     "output_type": "stream",
     "text": [
      "build RF\n",
      "train RF\n",
      "predictions\n",
      "RF accuracy for Classifier None vs. Any AKI : 0.7947\n",
      "compute ROC AUC\n",
      "Area Under ROC Curve: 0.8451\n",
      "compute PR AUC\n",
      "Area Under PR Curve(AP): 0.8423\n"
     ]
    }
   ],
   "source": [
    "print(\"build RF\")\n",
    "# building RF (default parameters)\n",
    "rf2_model = RandomForestClassifier(n_estimators=100,criterion='gini',max_depth=57,min_samples_split=10,min_samples_leaf=2,\n",
    "                                  min_weight_fraction_leaf=0.0,max_features='auto',max_leaf_nodes=None,min_impurity_decrease=0.0,\n",
    "                                  min_impurity_split=None,bootstrap=True,oob_score=False,n_jobs=None,random_state=None,verbose=0,\n",
    "                                  warm_start=False,class_weight=None,ccp_alpha=0.0,max_samples=None)\n",
    "\n",
    "\n",
    "print(\"train RF\")\n",
    "# train RF\n",
    "rf2_model.fit(X_train, y_train)\n",
    "\n",
    "print(\"predictions\")\n",
    "#Make predictions \n",
    "RF_pred = rf2_model.predict(X_test)\n",
    "RF_probs = rf2_model.predict_proba(X_test)[::,1] # probability of class 1\n",
    "\n",
    "# accuracy\n",
    "print('RF accuracy for Classifier ' + str(classifier_name) + ' : {:.4f}'.format(accuracy_score(y_test, RF_pred)))\n",
    "\n",
    "print(\"compute ROC AUC\")\n",
    "# ROC AUC | ROC curve\n",
    "fpr_RF, tpr_RF, _ = roc_curve(y_test, RF_probs)\n",
    "roc_auc_RF = roc_auc_score(y_test, RF_probs)\n",
    "print (\"Area Under ROC Curve: %0.4f\" % roc_auc_RF)\n",
    "\n",
    "\n",
    "print(\"compute PR AUC\")\n",
    "# PR AUC | Precision-Recall curve\n",
    "precision_RF, recall_RF, _ = precision_recall_curve(y_test, RF_probs)\n",
    "pr_auc_RF = auc(recall_RF, precision_RF)\n",
    "print (\"Area Under PR Curve(AP): %0.4f\" % pr_auc_RF  )"
   ]
  },
  {
   "cell_type": "code",
   "execution_count": 72,
   "metadata": {},
   "outputs": [],
   "source": [
    "#Improved RF accuracy for Classifier None vs. Any AKI :    0.0244\n",
    "#Improved Area Under ROC Curve:     0,0276\n",
    "#Improved Area Under PR Curve(AP): 0,029"
   ]
  },
  {
   "cell_type": "code",
   "execution_count": 73,
   "metadata": {},
   "outputs": [
    {
     "name": "stdout",
     "output_type": "stream",
     "text": [
      "compute calibration curve\n"
     ]
    }
   ],
   "source": [
    "print(\"compute calibration curve\")\n",
    "# calibration curve\n",
    "rf_y, rf_x = calibration_curve(y_test, RF_pred, n_bins=10)"
   ]
  },
  {
   "cell_type": "code",
   "execution_count": 74,
   "metadata": {},
   "outputs": [
    {
     "name": "stdout",
     "output_type": "stream",
     "text": [
      "The missing bins have midpoint values of  15%, 25%, 35%, 45%, 55%, 65%, 75%, 85%, \n"
     ]
    }
   ],
   "source": [
    "#find out which one are the missing bins\n",
    "bin_array = bin_total(y_test, RF_pred , n_bins=10)\n",
    "print(missing_bin(bin_array))"
   ]
  },
  {
   "cell_type": "code",
   "execution_count": 75,
   "metadata": {},
   "outputs": [
    {
     "name": "stdout",
     "output_type": "stream",
     "text": [
      "plot curves and save in one png file\n"
     ]
    },
    {
     "data": {
      "image/png": "[encoded data removed]",
      "text/plain": [
       "<Figure size 504x1728 with 3 Axes>"
      ]
     },
     "metadata": {
      "needs_background": "light"
     },
     "output_type": "display_data"
    }
   ],
   "source": [
    "print(\"plot curves and save in one png file\")\n",
    "#save two plots in one png file\n",
    "fig, (ax1, ax2, ax3) = plt.subplots(3, figsize=(7, 24))\n",
    "fig.subplots_adjust(wspace=0.3, hspace= 0.3)\n",
    "fig.suptitle('Evaluation of '+ plot_name)\n",
    "\n",
    "# plot roc curve\n",
    "ax1.plot(fpr_RF, tpr_RF, label=\"Classifier \" + str(classifier_name) + \", auc=\" +str(roc_auc_RF))\n",
    "ax1.title.set_text('ROC AUC')\n",
    "ax1.set(xlabel='False Positive Rate', ylabel='True Positive Rate')\n",
    "ax1.legend(loc=\"lower right\")\n",
    "\n",
    "# plot PR curve\n",
    "ax2.plot(recall_RF, precision_RF, label=\"Classifier \" + str(classifier_name) + \", auc=\"+str(pr_auc_RF))\n",
    "ax2.title.set_text('PR AUC')\n",
    "ax2.set(xlabel='Recall', ylabel='Precision')\n",
    "ax2.legend(loc=\"lower right\")\n",
    "\n",
    "# plot calibration curve\n",
    "ax3.plot(rf_x,rf_y, marker='o', linewidth=1, label='RF')\n",
    "line = mlines.Line2D([0, 1], [0, 1], color='black')\n",
    "transform = ax3.transAxes\n",
    "line.set_transform(transform)\n",
    "ax3.add_line(line)\n",
    "ax3.title.set_text('Calibration plot for '+str(plot_name))\n",
    "ax3.set(xlabel= 'Predicted probability', ylabel= 'True probability in each bin')\n",
    "ax3.legend(loc=\"lower right\")\n",
    "\n",
    "plt.savefig(plot_name+\".png\")\n",
    "plt.show()"
   ]
  }
 ],
 "metadata": {
  "kernelspec": {
   "display_name": "Python 3",
   "language": "python",
   "name": "python3"
  },
  "language_info": {
   "codemirror_mode": {
    "name": "ipython",
    "version": 3
   },
   "file_extension": ".py",
   "mimetype": "text/x-python",
   "name": "python",
   "nbconvert_exporter": "python",
   "pygments_lexer": "ipython3",
   "version": "3.7.6"
  }
 },
 "nbformat": 4,
 "nbformat_minor": 2
}
