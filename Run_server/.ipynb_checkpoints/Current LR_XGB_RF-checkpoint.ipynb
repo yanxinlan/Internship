{
 "cells": [
  {
   "cell_type": "code",
   "execution_count": 29,
   "metadata": {},
   "outputs": [],
   "source": [
    "#data preprocessing\n",
    "import pandas as pd\n",
    "import numpy as np\n",
    "from sklearn import preprocessing\n",
    "from sklearn.model_selection import train_test_split\n",
    "import collections\n",
    "from collections import defaultdict"
   ]
  },
  {
   "cell_type": "code",
   "execution_count": 30,
   "metadata": {},
   "outputs": [],
   "source": [
    "#logistic regression model: train and evaluation\n",
    "from sklearn.linear_model import LogisticRegression\n",
    "from sklearn.calibration import calibration_curve\n",
    "from sklearn.metrics import roc_curve, precision_recall_curve, roc_auc_score, auc, accuracy_score\n",
    "import sklearn.metrics as metrics\n",
    "from sklearn.impute import SimpleImputer\n",
    "import matplotlib.lines as mlines\n",
    "import matplotlib.transforms as mtransforms\n",
    "from matplotlib import pyplot as plt"
   ]
  },
  {
   "cell_type": "code",
   "execution_count": 31,
   "metadata": {},
   "outputs": [],
   "source": [
    "# gradient boost model: train and evaluation\n",
    "import xgboost as xgb\n",
    "from sklearn.metrics import roc_curve, precision_recall_curve, roc_auc_score, auc, accuracy_score\n",
    "from matplotlib import pyplot as plt\n",
    "from sklearn.calibration import calibration_curve\n",
    "\n",
    "import matplotlib.lines as mlines\n",
    "import matplotlib.transforms as mtransforms\n",
    "from sklearn.impute import SimpleImputer"
   ]
  },
  {
   "cell_type": "code",
   "execution_count": 32,
   "metadata": {},
   "outputs": [],
   "source": [
    "# the full files pathes are here\n",
    "# time dependent\n",
    "DATA_PATH_stages=\"../data/kdigo_stages_measured.csv\" \n",
    "DATA_PATH_labs = \"../data/labs-kdigo_stages_measured.csv\" \n",
    "DATA_PATH_vitals = \"../data/vitals-kdigo_stages_measured.csv\" \n",
    "DATA_PATH_vents = \"../data/vents-vasopressor-sedatives-kdigo_stages_measured.csv\"\n",
    "#no time dependent\n",
    "DATA_PATH_detail=\"../data/icustay_detail-kdigo_stages_measured.csv\" #age constraint\n",
    "DATA_PATH_icd = \"../data/diagnoses_icd_aki_measured.csv\" #AL was \"...measured 2.csv\"\n",
    "\n",
    "SEPARATOR=\";\""
   ]
  },
  {
   "cell_type": "code",
   "execution_count": 33,
   "metadata": {},
   "outputs": [],
   "source": [
    "# Set parameter as constant \n",
    "\n",
    "TESTING = True # Use 1% of data for testing. IF false - full dataset takes more time\n",
    "\n",
    "#which classifier to use, only run one classifier at one time \n",
    "CLASS1 = True   #AnyAKI\n",
    "CLASS2 = False    #ModerateSevereAKI\n",
    "CLASS3 = False    #SevereAKI\n",
    "\n",
    "#category threshold for the 3 binary class \n",
    "if CLASS1 == True:\n",
    "    CAT_THRESHOLD = 0\n",
    "elif CLASS2 == True:\n",
    "    CAT_THRESHOLD = 1\n",
    "elif CLASS3 == True: #AL changed class2 to class3\n",
    "    CAT_THRESHOLD = 2\n",
    "    \n",
    "SELECTED_FEATURE_SET = False\n",
    "MAX_FEATURE_SET = True\n",
    "   \n",
    "#Age constraints: adults\n",
    "ADULTS_MIN_AGE = 18\n",
    "ADULTS_MAX_AGE = -1\n",
    "\n",
    "#Two options to deal with time series data\n",
    "FIRST_TURN_POS = True #True #False # the first charttime that turn pos as bechmark for Target\n",
    "LAST_CHARTTIME = False #the last charttime as bechmark for Target\n",
    "\n",
    "# resampling or not\n",
    "TIME_SAMPLING = True \n",
    "SAMPLING_INTERVAL = '6H'\n",
    "MOST_COMMON = False #resampling with most common\n",
    "# if MOST_COMMON is not applied,sampling with different strategies per kind of variable, \n",
    "# numeric variables use mean value, categorical variables use max value\n",
    "IMPUTE_EACH_ID = False # imputation within each icustay_id\n",
    "IMPUTE_COLUMN = False # imputation based on whole column\n",
    "IMPUTE_METHOD = 'most_frequent' \n",
    "FILL_VALUE = -1 #fill missing value and ragged part of 3d array\n",
    "\n",
    "# How much time the prediction should occur (hours)\n",
    "HOURS_AHEAD = 48\n",
    "\n",
    "# precentage of dataset to be used for testing model\n",
    "TEST_SIZE = 0.3\n",
    "\n",
    "# set constant for function build_basic_LR\n",
    "C = 0.1\n",
    "PENALTY = \"l1\"\n",
    "SOLVER = 'saga' \n",
    "MAX_ITERATION = 1000 \n",
    "CLASS_WEIGHT = \"balanced\"\n",
    "RANDOM = 42"
   ]
  },
  {
   "cell_type": "code",
   "execution_count": 34,
   "metadata": {},
   "outputs": [],
   "source": [
    "#set changable info corresponding to each classifier as variables\n",
    "\n",
    "#min_set =  [\"icustay_id\", \"charttime\", \"creat\", \"uo_rt_6hr\", \"uo_rt_12hr\", \"uo_rt_24hr\", \"aki_stage\"]\n",
    "\n",
    "\n",
    "# as was before (CHECK!)\n",
    "\n",
    "selected_set = [\"icustay_id\", \"charttime\", 'hadm_id', \"creat\", \"aki_stage_creat\", \"uo_rt_6hr\",\"uo_rt_12hr\", \"uo_rt_24hr\", \n",
    "                  \"aki_stage_uo\", \"aki_stage\", \"aniongap_min\",\"albumin_min\", \"bicarbonate_min\", \"bilirubin_min\", \n",
    "                  \"chloride_min\", \"glucose_min\", \"hematocrit_min\", \"hemoglobin_min\", \"potassium_min\", \"ptt_min\",            \n",
    "                  \"sodium_min\" , \"bun_min\" , \"wbc_min\" , \"heartrate_mean\" , \"sysbp_mean\", \"diasbp_mean\" , \"resprate_mean\",\n",
    "                  \"vent\", \"vasopressor\", \"sedative\"]\n",
    "\n",
    "\n",
    "max_set = ['icustay_id', 'charttime', 'creat', 'uo_rt_6hr', 'uo_rt_12hr',\n",
    "       'uo_rt_24hr', 'aki_stage', 'subject_id', 'hadm_id', 'aniongap_avg',\n",
    "       'albumin_avg', 'bands_avg', 'bicarbonate_avg', 'bilirubin_avg',\n",
    "       'creatinine_avg', 'chloride_avg', 'glucose_avg', 'hematocrit_avg',\n",
    "       'hemoglobin_avg', 'lactate_avg', 'platelet_avg', 'potassium_avg',\n",
    "       'ptt_avg', 'inr_avg', 'pt_avg', 'sodium_avg', 'bun_avg', 'wbc_avg',\n",
    "       'heartrate_mean', 'sysbp_mean', 'diasbp_mean', 'meanbp_mean',\n",
    "       'resprate_mean', 'tempc_mean', 'spo2_mean', 'glucose_mean', 'vent',\n",
    "       'vasopressor', 'sedative']\n",
    "\n",
    "# naming model and plot\n",
    "classifier_name = \"None vs. Any AKI\"    ###change every time #Moderate vs. Severe #None vs. Any #Others vs. Severe\n",
    "plot_name = \"adult_AnyAKI_LR\"    ###change every time"
   ]
  },
  {
   "cell_type": "code",
   "execution_count": 35,
   "metadata": {},
   "outputs": [],
   "source": [
    "# Some functions used later\n",
    "\n",
    "# impute missing value in resampleing data with most common based on each id\n",
    "def fast_mode(df, key_cols, value_col):\n",
    "    \"\"\" \n",
    "    Calculate a column mode, by group, ignoring null values. \n",
    "\n",
    "    Parameters\n",
    "    ----------\n",
    "    df : pandas.DataFrame\n",
    "        DataFrame over which to calcualate the mode. \n",
    "    key_cols : list of str\n",
    "        Columns to groupby for calculation of mode.\n",
    "    value_col : str\n",
    "        Column for which to calculate the mode. \n",
    "\n",
    "    Return\n",
    "    ------ \n",
    "    pandas.DataFrame\n",
    "        One row for the mode of value_col per key_cols group. If ties, \n",
    "        returns the one which is sorted first. \n",
    "    \"\"\"\n",
    "    return (df.groupby(key_cols + [value_col]).size() \n",
    "              .to_frame('counts').reset_index() \n",
    "              .sort_values('counts', ascending=False) \n",
    "              .drop_duplicates(subset=key_cols)).drop('counts',axis=1)\n",
    "\n",
    "#get max shape of 3d array\n",
    "def get_dimensions(array, level=0):   \n",
    "    yield level, len(array)\n",
    "    try:\n",
    "        for row in array:\n",
    "            yield from get_dimensions(row, level + 1)\n",
    "    except TypeError: #not an iterable\n",
    "        pass\n",
    "\n",
    "def get_max_shape(array):\n",
    "    dimensions = defaultdict(int)\n",
    "    for level, length in get_dimensions(array):\n",
    "        dimensions[level] = max(dimensions[level], length)\n",
    "    return [value for _, value in sorted(dimensions.items())]\n",
    "\n",
    "#pad the ragged 3d array to rectangular shape based on max size\n",
    "def iterate_nested_array(array, index=()):\n",
    "    try:\n",
    "        for idx, row in enumerate(array):\n",
    "            yield from iterate_nested_array(row, (*index, idx))\n",
    "    except TypeError: # final level            \n",
    "        yield (*index, slice(len(array))), array\n",
    "\n",
    "def pad(array, fill_value):\n",
    "    dimensions = get_max_shape(array)\n",
    "    result = np.full(dimensions, fill_value)\n",
    "    for index, value in iterate_nested_array(array):\n",
    "        result[index] = value\n",
    "    return result\n",
    "\n",
    "def bin_total(y_true, y_prob, n_bins):\n",
    "    bins = np.linspace(0., 1. + 1e-8, n_bins + 1)\n",
    "\n",
    "    # In sklearn.calibration.calibration_curve,\n",
    "    # the last value in the array is always 0.\n",
    "    binids = np.digitize(y_prob, bins) - 1\n",
    "\n",
    "    return np.bincount(binids, minlength=len(bins))\n",
    "\n",
    "def missing_bin(bin_array):\n",
    "    midpoint = \" \"    \n",
    "    if bin_array[0]==0:\n",
    "        midpoint = \"5%, \"\n",
    "    if bin_array[1]==0:\n",
    "        midpoint = midpoint + \"15%, \"\n",
    "    if bin_array[2]==0:\n",
    "        midpoint = midpoint + \"25%, \"\n",
    "    if bin_array[3]==0:\n",
    "        midpoint = midpoint + \"35%, \" \n",
    "    if bin_array[4]==0:\n",
    "        midpoint = midpoint + \"45%, \"\n",
    "    if bin_array[5]==0:\n",
    "        midpoint = midpoint + \"55%, \"\n",
    "    if bin_array[6]==0:\n",
    "        midpoint = midpoint + \"65%, \"\n",
    "    if bin_array[7]==0:\n",
    "        midpoint = midpoint + \"75%, \"\n",
    "    if bin_array[8]==0:\n",
    "        midpoint = midpoint + \"85%, \"\n",
    "    if bin_array[9]==0:\n",
    "        midpoint = midpoint + \"95%, \"\n",
    "    return \"The missing bins have midpoint values of \"+ str(midpoint)\n"
   ]
  },
  {
   "cell_type": "code",
   "execution_count": 36,
   "metadata": {},
   "outputs": [
    {
     "name": "stdout",
     "output_type": "stream",
     "text": [
      "read csv files\n"
     ]
    }
   ],
   "source": [
    "print(\"read csv files\")\n",
    "#reading csv files\n",
    "dataset = pd.read_csv(DATA_PATH_stages, sep= SEPARATOR)\n",
    "dataset_detail = pd.read_csv(DATA_PATH_detail, sep= SEPARATOR)  #age constraint"
   ]
  },
  {
   "cell_type": "code",
   "execution_count": 37,
   "metadata": {},
   "outputs": [
    {
     "name": "stdout",
     "output_type": "stream",
     "text": [
      "convert charttime to timestamp\n"
     ]
    }
   ],
   "source": [
    "dataset.drop([\"aki_stage_creat\", \"aki_stage_uo\"], axis = 1, inplace = True)\n",
    "#remove rows with missing value in charttime\n",
    "dataset = dataset.dropna(subset=['charttime'])\n",
    "#merge rows if they have exact timestamp within same icustay_id\n",
    "dataset = dataset.groupby(['icustay_id', 'charttime']).sum().reset_index(['icustay_id', 'charttime'])\n",
    "print(\"convert charttime to timestamp\")\n",
    "dataset['charttime'] = pd.to_datetime(dataset['charttime'])"
   ]
  },
  {
   "cell_type": "code",
   "execution_count": 38,
   "metadata": {},
   "outputs": [
    {
     "name": "stdout",
     "output_type": "stream",
     "text": [
      "convert charttime to timestamp\n"
     ]
    }
   ],
   "source": [
    "if SELECTED_FEATURE_SET or MAX_FEATURE_SET:\n",
    "    #3,4,5,6\n",
    "    dataset_labs = pd.read_csv(DATA_PATH_labs, sep= SEPARATOR)\n",
    "    dataset_vitals = pd.read_csv(DATA_PATH_vitals, sep= SEPARATOR)  \n",
    "    dataset_vents = pd.read_csv(DATA_PATH_vents , sep= SEPARATOR)\n",
    "    dataset_icd = pd.read_csv(DATA_PATH_icd, sep= SEPARATOR)\n",
    "    \n",
    "    print(\"convert charttime to timestamp\")\n",
    "    dataset_labs['charttime'] = pd.to_datetime(dataset_labs['charttime'])\n",
    "    dataset_vitals['charttime'] = pd.to_datetime(dataset_vitals['charttime'])\n",
    "    dataset_vents['charttime'] = pd.to_datetime(dataset_vents['charttime'])"
   ]
  },
  {
   "cell_type": "code",
   "execution_count": 39,
   "metadata": {},
   "outputs": [],
   "source": [
    "# Labs file: instead of min and max their avg\n",
    "if SELECTED_FEATURE_SET or MAX_FEATURE_SET:\n",
    "    df = dataset_labs.copy(deep = True)\n",
    "    df = df.fillna(-1)\n",
    "    counter = 0\n",
    "    col1 = 4\n",
    "    col2 = 5\n",
    "    null_l = [] # no null values in those that differ\n",
    "    changed = [] # 4324 records changed to avg\n",
    "\n",
    "    while counter < 19:\n",
    "        diff_index = []\n",
    "        row = 0\n",
    "    # find where min and max are different and save their row indices \n",
    "        while row < len(df):\n",
    "            if df.iloc[row,col1]==df.iloc[row,col2]:\n",
    "                pass\n",
    "            elif df.iloc[row,col1]== -1 or df.iloc[row,col2]== -1:\n",
    "                null_l.append(row)\n",
    "            else:\n",
    "                diff_index.append(row)\n",
    "                changed.append(row)\n",
    "            row = row+1\n",
    "    # calculate avg there and save in the column of min\n",
    "        if len(diff_index) >0:\n",
    "            for i in diff_index:\n",
    "                avg = (dataset_labs.iloc[i,col1]+dataset_labs.iloc[i,col2])/2\n",
    "                dataset_labs.iloc[i,col1] = avg\n",
    "    # delete the redundant column max, update counters\n",
    "        dataset_labs.drop(dataset_labs.columns[col2], axis=1, inplace = True)\n",
    "        df.drop(df.columns[col2], axis = 1, inplace = True)\n",
    "        counter = counter+1\n",
    "        col1 = col1+1\n",
    "        col2 = col2+1\n",
    "        row = 0\n",
    "\n",
    "    dataset_labs.columns = ['subject_id', 'hadm_id', 'icustay_id', 'charttime', 'aniongap_avg','albumin_avg', 'bands_avg', \n",
    "                            'bicarbonate_avg', 'bilirubin_avg','creatinine_avg', 'chloride_avg', 'glucose_avg', \n",
    "                            'hematocrit_avg','hemoglobin_avg', 'lactate_avg', 'platelet_avg', 'potassium_avg','ptt_avg', \n",
    "                            'inr_avg', 'pt_avg', 'sodium_avg', 'bun_avg', 'wbc_avg']\n"
   ]
  },
  {
   "cell_type": "code",
   "execution_count": 42,
   "metadata": {
    "scrolled": true
   },
   "outputs": [
    {
     "data": {
      "text/plain": [
       "4324"
      ]
     },
     "execution_count": 42,
     "metadata": {},
     "output_type": "execute_result"
    }
   ],
   "source": [
    "len(changed)"
   ]
  },
  {
   "cell_type": "code",
   "execution_count": 215,
   "metadata": {},
   "outputs": [
    {
     "name": "stdout",
     "output_type": "stream",
     "text": [
      "Dropping min and max features in vitals (leaving only MEAN)\n"
     ]
    }
   ],
   "source": [
    "print(\"Dropping min and max features in vitals (leaving only MEAN)\")\n",
    "\n",
    "if SELECTED_FEATURE_SET or MAX_FEATURE_SET:\n",
    "    dataset_vitals.drop([\"heartrate_min\", \"heartrate_max\", \"sysbp_min\", \"sysbp_max\",\"diasbp_min\", \n",
    "                   \"diasbp_max\", \"meanbp_min\", \"meanbp_max\", \"resprate_min\", \"resprate_max\",\"tempc_min\",\n",
    "                   \"tempc_max\", \"spo2_min\", \"spo2_max\", \"glucose_min\", \"glucose_max\" ], axis=1, inplace=True)\n",
    "    "
   ]
  },
  {
   "cell_type": "code",
   "execution_count": 216,
   "metadata": {},
   "outputs": [
    {
     "name": "stdout",
     "output_type": "stream",
     "text": [
      "Merging labs, vitals and vents files\n"
     ]
    }
   ],
   "source": [
    "print(\"Merging labs, vitals and vents files\")\n",
    "#merge files with time-dependent data, based on icustay_id and charttime\n",
    "if SELECTED_FEATURE_SET or MAX_FEATURE_SET:\n",
    "    dataset = pd.merge(dataset, dataset_labs, on = [\"icustay_id\", \"charttime\"], how= \"outer\")\n",
    "    dataset = pd.merge(dataset, dataset_vitals, on = [\"icustay_id\", \"charttime\",\"subject_id\", \"hadm_id\"], how= \"outer\")\n",
    "    dataset = pd.merge(dataset, dataset_vents, on = [\"icustay_id\", \"charttime\"], how= \"outer\") "
   ]
  },
  {
   "cell_type": "code",
   "execution_count": 217,
   "metadata": {},
   "outputs": [
    {
     "name": "stdout",
     "output_type": "stream",
     "text": [
      "start preprocessing time dependent data\n"
     ]
    }
   ],
   "source": [
    "print(\"start preprocessing time dependent data\")\n",
    "#remove rows with missing data in aki_stage\n",
    "dataset = dataset.dropna(subset=['aki_stage'])"
   ]
  },
  {
   "cell_type": "code",
   "execution_count": 218,
   "metadata": {},
   "outputs": [
    {
     "name": "stdout",
     "output_type": "stream",
     "text": [
      "Removing patients under the min age\n"
     ]
    }
   ],
   "source": [
    "print(\"Removing patients under the min age\")\n",
    "dataset_detail = dataset_detail.loc[dataset_detail['age'] >= ADULTS_MIN_AGE]\n",
    "adults_icustay_id_list = dataset_detail['icustay_id'].unique()\n",
    "dataset = dataset[dataset.icustay_id.isin(adults_icustay_id_list)].sort_values(by=['icustay_id'])\n",
    "adults_icustay_id_list = np.sort(adults_icustay_id_list)"
   ]
  },
  {
   "cell_type": "code",
   "execution_count": 219,
   "metadata": {},
   "outputs": [
    {
     "name": "stdout",
     "output_type": "stream",
     "text": [
      "drop icustay_id with time span less than 48hrs\n"
     ]
    }
   ],
   "source": [
    "print(\"drop icustay_id with time span less than 48hrs\")\n",
    "#drop icustay_id that has time span less than 48hrs\n",
    "adults_icustay_id_list \n",
    "index_total_length = dataset.shape[0]\n",
    "drop_list = []\n",
    "dataset = dataset.sort_values(by=['icustay_id', 'charttime'])\n",
    "# and calculating LOS ICU based on charttime\n",
    "los_list = []\n",
    "# LOS longer than 32 days\n",
    "long_stays_id = []\n",
    "\n",
    "\n",
    "i=0 #index of train_id_DATASET\n",
    "j=0 #the times that id matches\n",
    "\n",
    "for icustay_id in adults_icustay_id_list:\n",
    "     while i < index_total_length:\n",
    "            if dataset.iat[i, dataset.columns.get_loc('icustay_id')] == icustay_id:\n",
    "                if j ==0 and i != index_total_length-1:\n",
    "                    first_row_index = i\n",
    "                    first_time = dataset.iat[first_row_index, dataset.columns.get_loc('charttime')]\n",
    "                    i = i+1\n",
    "                    j = j+1\n",
    "                elif j !=0:\n",
    "                    if i == index_total_length-1:\n",
    "                        last_row_index = i\n",
    "                        last_time = dataset.iat[last_row_index, dataset.columns.get_loc('charttime')]\n",
    "                        if (last_time - first_time).total_seconds() < HOURS_AHEAD*60*60:\n",
    "                            drop_list.append(icustay_id)\n",
    "                        else:\n",
    "                            los_list.append(round(float((last_time - first_time).total_seconds()/60/60/24),2))\n",
    "                        if (last_time - first_time).total_seconds() > 32*24*60*60:\n",
    "                            long_stays_id.append(icustay_id) \n",
    "                    i = i+1\n",
    "            elif dataset.iat[i, dataset.columns.get_loc('icustay_id')] != icustay_id:\n",
    "                last_row_index = i-1\n",
    "                last_time = dataset.iat[last_row_index, dataset.columns.get_loc('charttime')]\n",
    "                if (last_time - first_time).total_seconds() < HOURS_AHEAD*60*60:\n",
    "                    drop_list.append(icustay_id)\n",
    "                else:\n",
    "                    los_list.append(round(float((last_time - first_time).total_seconds()/60/60/24),2))\n",
    "                if (last_time - first_time).total_seconds() > 32*24*60*60:\n",
    "                           long_stays_id.append(icustay_id)\n",
    "                j=0\n",
    "                break\n",
    "\n",
    "\n",
    "# drop all the rows with the saved icustay_id\n",
    "dataset = dataset[~dataset.icustay_id.isin(drop_list)]"
   ]
  },
  {
   "cell_type": "code",
   "execution_count": 220,
   "metadata": {},
   "outputs": [],
   "source": [
    "# if I ever want to calculate the LOS\n",
    "LOS = False\n",
    "\n",
    "if LOS:\n",
    "    # add LOS in days\n",
    "    id_list = dataset['icustay_id'].unique()\n",
    "    dataset_detail = dataset_detail[dataset_detail.icustay_id.isin(id_list)].sort_values(by=['icustay_id'])\n",
    "    dataset[\"ICU_LOS_days\"] = \"\"\n",
    "    index_total_length = dataset.shape[0]\n",
    "    i = 0\n",
    "    j = 0\n",
    "\n",
    "    for icustay_id in id_list:\n",
    "         while i < index_total_length:\n",
    "                if dataset.iat[i, dataset.columns.get_loc('icustay_id')] == icustay_id:\n",
    "                    dataset.iat[i, dataset.columns.get_loc('ICU_LOS_days')] = los_list[j]\n",
    "                    i = i+1\n",
    "                elif dataset.iat[i, dataset.columns.get_loc('icustay_id')] != icustay_id:\n",
    "                    j=j+1\n",
    "                    dataset.iat[i, dataset.columns.get_loc('ICU_LOS_days')] = los_list[j]\n",
    "                    i = i+1\n",
    "                    break"
   ]
  },
  {
   "cell_type": "code",
   "execution_count": 222,
   "metadata": {},
   "outputs": [],
   "source": [
    "# To discuss with IV which to preserve (first 32 or last 32)\n",
    "\n",
    "# dataframe first32 will contain rows for the first 32 days of icu stay\n",
    "# dataframe last32 will contain rows for the last 32 days of icu stay\n",
    " \n",
    "# records >32 days\n",
    "long_stay = dataset[dataset.icustay_id.isin(long_stays_id)].sort_values(by = ['icustay_id', 'charttime'])\n",
    "\n",
    "last_charttime_list= [] \n",
    "first_charttime_list= [] \n",
    "dataset_size = long_stay.shape[0]\n",
    "\n",
    "k=0 #row index\n",
    "h=0 #the times that id matches\n",
    "\n",
    "for icu_id in long_stays_id:\n",
    "    while k < dataset_size:\n",
    "        if long_stay.iat[k, long_stay.columns.get_loc('icustay_id')] == icu_id:\n",
    "            if h==0 and k != dataset_size-1:\n",
    "                first_charttime_list.append(long_stay.iat[k, long_stay.columns.get_loc('charttime')])\n",
    "                k = k+1\n",
    "                h = h+1\n",
    "            elif h !=0:\n",
    "                if k == dataset_size-1:\n",
    "                    last_charttime_list.append(long_stay.iat[k, long_stay.columns.get_loc('charttime')])\n",
    "                    k = k+1\n",
    "                else:\n",
    "                    k = k+1\n",
    "        elif long_stay.iat[k, long_stay.columns.get_loc('icustay_id')] != icu_id:\n",
    "            last_charttime_list.append(long_stay.iat[k-1, long_stay.columns.get_loc('charttime')])\n",
    "            h=0\n",
    "            break\n",
    "            \n",
    "drop_first = []\n",
    "drop_last = []\n",
    "k = 0\n",
    "h = 0 # in id list\n",
    "\n",
    "for icu_id in long_stays_id:\n",
    "    while k < dataset_size:\n",
    "        if long_stay.iat[k, long_stay.columns.get_loc('icustay_id')] == icu_id:\n",
    "            if (long_stay.iat[k, long_stay.columns.get_loc('charttime')] - first_charttime_list[h]).total_seconds() > 32*24*60*60:\n",
    "                drop_first.append(k)\n",
    "            if (last_charttime_list[h] - long_stay.iat[k, long_stay.columns.get_loc('charttime')]).total_seconds() > 32*24*60*60:\n",
    "                drop_last.append(k)\n",
    "            k = k+1\n",
    "        elif long_stay.iat[k, long_stay.columns.get_loc('icustay_id')] != icu_id:\n",
    "            h = h+1\n",
    "            break\n",
    "\n",
    "\n",
    "first32  = long_stay.copy(deep = True)\n",
    "first32.drop(first32.index[drop_first], inplace=True)\n",
    "last32  = long_stay.copy(deep = True)\n",
    "last32.drop(last32.index[drop_last], inplace=True)            "
   ]
  },
  {
   "cell_type": "code",
   "execution_count": 280,
   "metadata": {},
   "outputs": [
    {
     "data": {
      "text/plain": [
       "0.0    181234\n",
       "2.0     27273\n",
       "3.0     26597\n",
       "1.0      9579\n",
       "Name: aki_stage, dtype: int64"
      ]
     },
     "execution_count": 280,
     "metadata": {},
     "output_type": "execute_result"
    }
   ],
   "source": [
    "first32['aki_stage'].value_counts()"
   ]
  },
  {
   "cell_type": "code",
   "execution_count": 281,
   "metadata": {},
   "outputs": [
    {
     "data": {
      "text/plain": [
       "0.0    181710\n",
       "3.0     27322\n",
       "2.0     25395\n",
       "1.0      8271\n",
       "Name: aki_stage, dtype: int64"
      ]
     },
     "execution_count": 281,
     "metadata": {},
     "output_type": "execute_result"
    }
   ],
   "source": [
    "last32['aki_stage'].value_counts()"
   ]
  },
  {
   "cell_type": "code",
   "execution_count": null,
   "metadata": {},
   "outputs": [],
   "source": []
  },
  {
   "cell_type": "code",
   "execution_count": null,
   "metadata": {},
   "outputs": [],
   "source": []
  },
  {
   "cell_type": "markdown",
   "metadata": {},
   "source": [
    "# For testing purpose, use small amount of data first"
   ]
  },
  {
   "cell_type": "code",
   "execution_count": 303,
   "metadata": {},
   "outputs": [],
   "source": [
    "#For testing purpose, use small amount of data first\n",
    "if TESTING:\n",
    "    rest, adults_icustay_id_list = train_test_split(adults_icustay_id_list, test_size= 0.01, random_state=42)\n",
    "    dataset = dataset[dataset.icustay_id.isin(adults_icustay_id_list)].sort_values(by=['icustay_id'])"
   ]
  },
  {
   "cell_type": "markdown",
   "metadata": {},
   "source": [
    "# Last charttime (option1)"
   ]
  },
  {
   "cell_type": "code",
   "execution_count": 304,
   "metadata": {},
   "outputs": [],
   "source": [
    "# extract list for \"last\" charttime\n",
    "extract_list = dataset['icustay_id'].unique()"
   ]
  },
  {
   "cell_type": "code",
   "execution_count": 305,
   "metadata": {},
   "outputs": [],
   "source": [
    "if LAST_CHARTTIME:\n",
    "    print(\"Here we choose the last charttime as bechmark for Target\")\n",
    "    print(\"find last charttime for each icustay_id\")\n",
    "    #extract the aki_stage value of row of \"last\" charttime of each icustay_id as the label/target set\n",
    "    #find last charttime for each icustay_id\n",
    "\n",
    "    target_list = [] #to store target(y)\n",
    "    last_charttime_list= [] #a list to store last charttime for every icustay_id\n",
    "    last_charttime_index_list = [] #a list to store index when last charttime for every icustay_id\n",
    "\n",
    "    dataset_size = dataset.shape[0]\n",
    "    k=0 #index\n",
    "    h=0 #the times that id matches\n",
    "\n",
    "    for extract_id in extract_list:\n",
    "        while k < dataset_size:\n",
    "            if dataset.iat[k, dataset.columns.get_loc('icustay_id')] == extract_id:\n",
    "                if h==0 and k != dataset_size-1:\n",
    "                    k = k+1\n",
    "                    h = h+1\n",
    "                elif h !=0:\n",
    "                    if k == dataset_size-1:\n",
    "                        target_list.append(dataset.iat[k, dataset.columns.get_loc('aki_stage')])\n",
    "                        last_charttime_list.append(dataset.iat[k, dataset.columns.get_loc('charttime')])\n",
    "                        last_charttime_index_list.append(k)\n",
    "                    k = k+1\n",
    "            elif dataset.iat[k, dataset.columns.get_loc('icustay_id')] != extract_id:\n",
    "                target_list.append(dataset.iat[k-1, dataset.columns.get_loc('aki_stage')])\n",
    "                last_charttime_list.append(dataset.iat[k-1, dataset.columns.get_loc('charttime')])\n",
    "                last_charttime_index_list.append(k-1)\n",
    "                h=0\n",
    "                break\n",
    "                \n"
   ]
  },
  {
   "cell_type": "code",
   "execution_count": 306,
   "metadata": {},
   "outputs": [],
   "source": [
    "if LAST_CHARTTIME:\n",
    "    #a threshold list to store the threshold time(last charttime-48hrs) for every icustay_id\n",
    "    threshold_list=[]\n",
    "\n",
    "    v=0#index for dataset\n",
    "\n",
    "    c=0 #number to countdown from index of last charttime\n",
    "\n",
    "    list_length = len(last_charttime_list)\n",
    "    t=0 #index for last_charttime_list\n",
    "\n",
    "\n",
    "\n",
    "    for index in last_charttime_index_list:\n",
    "        while t < list_length:\n",
    "            if (last_charttime_list[t]- dataset.iat[index-c, dataset.columns.get_loc('charttime')]).total_seconds() <HOURS_AHEAD*60*60:\n",
    "                t=t\n",
    "                c=c+1\n",
    "            elif (last_charttime_list[t]-dataset.iat[index-c, dataset.columns.get_loc('charttime')]).total_seconds() >= HOURS_AHEAD*60*60:\n",
    "                threshold_list.append(dataset.iat[index-c, dataset.columns.get_loc('charttime')])\n",
    "                t=t+1\n",
    "                c=0\n",
    "                break"
   ]
  },
  {
   "cell_type": "code",
   "execution_count": 307,
   "metadata": {
    "scrolled": true
   },
   "outputs": [],
   "source": [
    "if LAST_CHARTTIME:\n",
    "    print(\"extract rows that meet time constraint\")\n",
    "    # extract rows that are within threshold time\n",
    "    # set new variable to avoid changing orginal dataset\n",
    "    thresholds = pd.DataFrame({'icustay_id':extract_list, 'charttime': threshold_list})\n",
    "    X = (thresholds.merge(dataset, on='icustay_id', how='left',suffixes=('_x','')).query(\"charttime_x >= charttime\").reindex(columns=dataset.columns))\n"
   ]
  },
  {
   "cell_type": "markdown",
   "metadata": {},
   "source": [
    "# First Turn Pos (option 2)"
   ]
  },
  {
   "cell_type": "code",
   "execution_count": 308,
   "metadata": {},
   "outputs": [
    {
     "name": "stdout",
     "output_type": "stream",
     "text": [
      "Here we choose the first charttime that turn pos as bechmark for Target\n",
      "divide dataset into positive and negative dataset based on assigned threshold\n"
     ]
    }
   ],
   "source": [
    "if FIRST_TURN_POS:\n",
    "    print(\"Here we choose the first charttime that turn pos as bechmark for Target\")\n",
    "    #extract icustay_id that are positive in this category\n",
    "    positive_list = []\n",
    "    negative_list = []\n",
    "    \n",
    "    for ID in id_list:\n",
    "        df = dataset.loc[dataset['icustay_id']==ID].aki_stage\n",
    "        if CLASS1 == True :\n",
    "            if 3 in df.values:\n",
    "                positive_list.append(ID)\n",
    "            elif 2 in df.values: \n",
    "                positive_list.append(ID)\n",
    "            elif 1 in df.values: \n",
    "                positive_list.append(ID)\n",
    "            else:\n",
    "                negative_list.append(ID)\n",
    "                \n",
    "        if CLASS2 == True :\n",
    "            if 3 in df.values:\n",
    "                positive_list.append(ID)\n",
    "            elif 2 in df.values: \n",
    "                positive_list.append(ID)\n",
    "            else:\n",
    "                negative_list.append(ID)\n",
    "        \n",
    "        if CLASS3 == True :\n",
    "            if 3 in df.values:\n",
    "                positive_list.append(ID)\n",
    "            else:\n",
    "                negative_list.append(ID)\n",
    "            \n",
    "    \n",
    "    # divide dataset into positive and negative dataset based on assigned threshold\n",
    "    print(\"divide dataset into positive and negative dataset based on assigned threshold\")\n",
    "    dataset_pos = dataset[dataset.icustay_id.isin(positive_list)].sort_values(by=['icustay_id', 'charttime'])\n",
    "    dataset_neg = dataset[dataset.icustay_id.isin(negative_list)].sort_values(by=['icustay_id', 'charttime'])"
   ]
  },
  {
   "cell_type": "code",
   "execution_count": 309,
   "metadata": {},
   "outputs": [],
   "source": [
    "#dataset_pos"
   ]
  },
  {
   "cell_type": "code",
   "execution_count": 310,
   "metadata": {},
   "outputs": [
    {
     "name": "stdout",
     "output_type": "stream",
     "text": [
      "start preprocessing the dataset with positive label\n"
     ]
    }
   ],
   "source": [
    "if FIRST_TURN_POS:\n",
    "    print(\"start preprocessing the dataset with positive label\")\n",
    "    # extract list for \"last\" charttime\n",
    "    extract_list_pos = dataset_pos['icustay_id'].unique()"
   ]
  },
  {
   "cell_type": "code",
   "execution_count": 311,
   "metadata": {},
   "outputs": [],
   "source": [
    "if FIRST_TURN_POS:\n",
    "    #extract the aki_stage value of row of \"first\" charttime of each icustay_id that turn positive stages as the label/target set\n",
    "    #find first pos charttime for each icustay_id\n",
    "\n",
    "    target_pos = pd.DataFrame(columns=['icustay_id', 'aki_stage'])\n",
    "    pos_charttime_list= [] #a list to store first charttime that turn positive for every icustay_id\n",
    "    pos_charttime_index_list = [] #a list to store index of the first row that turn positive for every icustay_id\n",
    "\n",
    "    datasize = dataset_pos.shape[0]\n",
    "    k=0 #index\n",
    "\n",
    "    for extract_id in extract_list_pos:\n",
    "        while k < datasize:\n",
    "            if dataset_pos.iat[k, dataset_pos.columns.get_loc('icustay_id')] == extract_id and k != datasize-1:\n",
    "                if dataset_pos.iat[k, dataset_pos.columns.get_loc('aki_stage')] <= CAT_THRESHOLD:\n",
    "                    k = k+1\n",
    "                elif dataset_pos.iat[k, dataset_pos.columns.get_loc('aki_stage')] > CAT_THRESHOLD:\n",
    "                    target_pos = target_pos.append({'icustay_id': extract_id, 'aki_stage': 1}, ignore_index=True) #because in DATASET_pos, all target are pos, namely 1\n",
    "                    pos_charttime_list.append(dataset_pos.iat[k, dataset_pos.columns.get_loc('charttime')])\n",
    "                    pos_charttime_index_list.append(k)            \n",
    "                    k = k+1\n",
    "                    break\n",
    "            elif dataset_pos.iat[k, dataset_pos.columns.get_loc('icustay_id')] != extract_id:\n",
    "                k = k +1                "
   ]
  },
  {
   "cell_type": "code",
   "execution_count": 312,
   "metadata": {},
   "outputs": [],
   "source": [
    "if FIRST_TURN_POS:\n",
    "    #a threshold list to store the threshold time(last charttime-48hrs) for every icustay_id\n",
    "    threshold_time_list=[]\n",
    "    updated_extract_list = []\n",
    "    list_length = len(pos_charttime_list)\n",
    "\n",
    "    c=0 #number to countdown from index of last charttime\n",
    "    t=0 #index for last_charttime_list\n",
    "\n",
    "\n",
    "\n",
    "    for index in pos_charttime_index_list:\n",
    "        while t < list_length:\n",
    "            if dataset_pos.iat[index-c, dataset_pos.columns.get_loc('icustay_id')] == extract_list_pos[t]:\n",
    "                if (pos_charttime_list[t]- dataset_pos.iat[index-c, dataset_pos.columns.get_loc('charttime')]).total_seconds() <48*60*60:\n",
    "                    t=t\n",
    "                    #print(index)\n",
    "                    #print(\"t :\" + str(t))\n",
    "                    c=c+1\n",
    "                    #print(\"c :\" + str(c))\n",
    "                elif (pos_charttime_list[t]-dataset_pos.iat[index-c, dataset_pos.columns.get_loc('charttime')]).total_seconds() >= 48*60*60:\n",
    "                    #print(\"index-c :\"+ str(index-c))\n",
    "                    threshold_time_list.append(dataset_pos.iloc[index-c]['charttime'])\n",
    "                    updated_extract_list.append(dataset_pos.iloc[index]['icustay_id'])\n",
    "                    t=t+1\n",
    "                    #print(\"t :\" + str(t))\n",
    "                    #print(\"c :\" + str(c))\n",
    "                    c=0\n",
    "                    break\n",
    "            else:\n",
    "                t = t+1\n",
    "                c = 0\n",
    "                break\n",
    "     \n",
    "    # extract rows that are within threshold time\n",
    "    dataset_pos = dataset_pos[dataset_pos.icustay_id.isin(updated_extract_list)]\n",
    "    target_pos = target_pos[target_pos.icustay_id.isin(updated_extract_list)]\n",
    "    \n",
    "    Thresholds = pd.DataFrame({'icustay_id':updated_extract_list, 'charttime': threshold_time_list})\n",
    "    dataset_pos = (Thresholds.merge(dataset_pos, on='icustay_id', how='left',suffixes=('_x','')).query(\"charttime_x >= charttime\").reindex(columns=dataset_pos.columns))"
   ]
  },
  {
   "cell_type": "code",
   "execution_count": 313,
   "metadata": {},
   "outputs": [],
   "source": [
    "#dataset_neg"
   ]
  },
  {
   "cell_type": "code",
   "execution_count": 314,
   "metadata": {},
   "outputs": [
    {
     "name": "stdout",
     "output_type": "stream",
     "text": [
      "start preprocessing the dataset with negative label\n"
     ]
    }
   ],
   "source": [
    "if FIRST_TURN_POS:\n",
    "    print(\"start preprocessing the dataset with negative label\")\n",
    "    # extract list for \"last\" charttime\n",
    "    extract_list_neg = dataset_neg['icustay_id'].unique()"
   ]
  },
  {
   "cell_type": "code",
   "execution_count": 315,
   "metadata": {},
   "outputs": [],
   "source": [
    "if FIRST_TURN_POS:    \n",
    "    #extract the aki_stage value of row of \"last\" charttime of each icustay_id as the label/target set\n",
    "    #find last charttime for each icustay_id\n",
    "    #target_list_neg = [] #to store target(y)\n",
    "    target_neg = pd.DataFrame(columns=['icustay_id', 'aki_stage'])\n",
    "    last_charttime_list= [] #a list to store last charttime for every icustay_id\n",
    "    last_charttime_index_list = [] #a list to store index when last charttime for every icustay_id\n",
    "\n",
    "    datasize = dataset_neg.shape[0]\n",
    "    k=0 #index\n",
    "    h=0 #the times that id matches\n",
    "\n",
    "    for extract_id in extract_list_neg:\n",
    "        while k < datasize:\n",
    "            if dataset_neg.iat[k, dataset_neg.columns.get_loc('icustay_id')] == extract_id:\n",
    "                if h==0 and k != datasize-1:\n",
    "                    k = k+1\n",
    "                    h = h+1\n",
    "                elif h !=0:\n",
    "                    if k == datasize-1:\n",
    "                        target_neg = target_neg.append({'icustay_id': extract_id, 'aki_stage': 0}, ignore_index=True) #because in DATASET_neg, all target are neg, namely 0\n",
    "                        last_charttime_list.append(dataset_neg.iat[k, dataset_neg.columns.get_loc('charttime')])\n",
    "                        last_charttime_index_list.append(k)\n",
    "                    k = k+1\n",
    "            elif dataset_neg.iat[k, dataset_neg.columns.get_loc('icustay_id')] != extract_id:\n",
    "                target_neg = target_neg.append({'icustay_id': extract_id, 'aki_stage': 0}, ignore_index=True) #because in DATASET_neg, all target are neg, namely 0\n",
    "                last_charttime_list.append(dataset_neg.iat[k-1, dataset_neg.columns.get_loc('charttime')])\n",
    "                last_charttime_index_list.append(k-1)\n",
    "                h=0\n",
    "                break            "
   ]
  },
  {
   "cell_type": "code",
   "execution_count": 316,
   "metadata": {},
   "outputs": [],
   "source": [
    "if FIRST_TURN_POS:        \n",
    "    #a threshold list to store the threshold time(last charttime-48hrs) for every icustay_id\n",
    "    threshold_list=[]\n",
    "\n",
    "    datasize = dataset_neg.shape[0]\n",
    "    v=0#index for dataset_neg\n",
    "    c=0 #number to countdown from index of last charttime\n",
    "\n",
    "    list_length = len(last_charttime_list)\n",
    "    t=0 #index for last_charttime_list\n",
    "\n",
    "\n",
    "    for index in last_charttime_index_list:\n",
    "        while t < list_length:\n",
    "            if (last_charttime_list[t]- dataset_neg.iat[index-c, dataset_neg.columns.get_loc('charttime')]).total_seconds() <48*60*60:\n",
    "                t=t\n",
    "                c=c+1\n",
    "            elif (last_charttime_list[t]-dataset_neg.iat[index-c, dataset_neg.columns.get_loc('charttime')]).total_seconds() >= 48*60*60:\n",
    "                threshold_list.append(dataset_neg.iat[index-c, dataset_neg.columns.get_loc('charttime')])\n",
    "                t=t+1\n",
    "                c=0\n",
    "                break\n",
    "                \n",
    "    Thresholds = pd.DataFrame({'icustay_id':extract_list_neg, 'charttime': threshold_list})\n",
    "    dataset_neg = (Thresholds.merge(dataset_neg, on='icustay_id', how='left',suffixes=('_x','')).query(\"charttime_x >= charttime\").reindex(columns=dataset_neg.columns))            "
   ]
  },
  {
   "cell_type": "code",
   "execution_count": 317,
   "metadata": {},
   "outputs": [],
   "source": [
    "# combine"
   ]
  },
  {
   "cell_type": "code",
   "execution_count": 318,
   "metadata": {},
   "outputs": [],
   "source": [
    "if FIRST_TURN_POS:\n",
    "    # combine DATASET_pos and DATASET_neg, set as X\n",
    "    X = pd.concat([dataset_pos, dataset_neg], axis=0).sort_values(by=['icustay_id', 'charttime'])\n",
    "    #print(X[['icustay_id',\"aki_stage\"]])\n",
    "    extract_list = X['icustay_id'].unique()"
   ]
  },
  {
   "cell_type": "markdown",
   "metadata": {},
   "source": [
    "# Further preprocessing"
   ]
  },
  {
   "cell_type": "code",
   "execution_count": 319,
   "metadata": {
    "scrolled": true
   },
   "outputs": [
    {
     "name": "stdout",
     "output_type": "stream",
     "text": [
      "resampling: MOST_COMMON or MEAN & MAX\n",
      "Features before sampling\n",
      "Merging sampled features\n"
     ]
    }
   ],
   "source": [
    "print(\"resampling: MOST_COMMON or MEAN & MAX\")\n",
    "# resampling\n",
    "if TIME_SAMPLING & MOST_COMMON:\n",
    "    # Resample the data using assigned interval,mode() for most common\n",
    "    X = X.set_index('charttime').groupby('icustay_id').resample(SAMPLING_INTERVAL).mode().reset_index()\n",
    "elif TIME_SAMPLING:\n",
    "    # Sampling with different strategies per kind of variable\n",
    "    # Preparing masks for selecting features by their type\n",
    "    print(\"Features before sampling\")\n",
    "    #print(X.head())\n",
    "    \n",
    "    label = ['aki_stage']\n",
    "    #AL adding if-else to make it work\n",
    "    if SELECTED_FEATURE_SET or MAX_FEATURE_SET:\n",
    "        discrete_feat = list(dataset_vents.columns.difference([\"icustay_id\",\"charttime\"]))\n",
    "        discrete_feat.extend(label)\n",
    "    else:\n",
    "        discrete_feat = label\n",
    "        \n",
    "    skip = ['icustay_id', 'charttime']\n",
    "    skip.extend(discrete_feat)\n",
    "    \n",
    "    # all features that are not in skip are numeric\n",
    "    numeric_feat = list(X.columns.difference(skip))\n",
    "\n",
    "    # Applying aggregation to features depending on their type\n",
    "    X = X.set_index('charttime').groupby('icustay_id').resample(SAMPLING_INTERVAL)\n",
    "    \n",
    "    X_discrete = X[discrete_feat].max().fillna(0).astype(np.int64)\n",
    "    #print(\"discrete\")\n",
    "    #print(X_discrete.head())\n",
    "    \n",
    "    X_numeric = X[numeric_feat].mean()\n",
    "    #print(\"numeric\")\n",
    "    #print(X_numeric.head())\n",
    "    \n",
    "    X = pd.concat([X_numeric, X_discrete], axis=1).reset_index()\n",
    "    print(\"Merging sampled features\")\n",
    "    #print(X.head())"
   ]
  },
  {
   "cell_type": "code",
   "execution_count": 320,
   "metadata": {},
   "outputs": [
    {
     "name": "stdout",
     "output_type": "stream",
     "text": [
      "Additional option: do imputation again if there are still missing values\n"
     ]
    }
   ],
   "source": [
    "print(\"Additional option: do imputation again if there are still missing values\")\n",
    "# do imputation if there are still missing values\n",
    "\n",
    "# using most common within each icustay_id\n",
    "if IMPUTE_EACH_ID:\n",
    "    # set a new variable so won't change the orginial X\n",
    "    column_name = list(X.columns)\n",
    "    column_name.remove(column_name[0])\n",
    "    \n",
    "    for feature in column_name:\n",
    "        X.loc[X[feature].isnull(), feature] = X.icustay_id.map(fast_mode(X, ['icustay_id'], feature).set_index('icustay_id')[feature])\n",
    "        \n",
    "# imputation based on whole column\n",
    "if IMPUTE_COLUMN:\n",
    "    imp = SimpleImputer(missing_values=np.nan, strategy= IMPUTE_METHOD)\n",
    "    X=imp.fit_transform(X)\n",
    "    \n",
    "# If no imputation, fill missing value direclty with FILL_VALUE\n",
    "if IMPUTE_COLUMN==False and IMPUTE_EACH_ID==False: #AL added this condition\n",
    "    X = X.fillna(FILL_VALUE)"
   ]
  },
  {
   "cell_type": "code",
   "execution_count": 321,
   "metadata": {},
   "outputs": [
    {
     "name": "stdout",
     "output_type": "stream",
     "text": [
      "start preprocessing not time dependent data\n"
     ]
    }
   ],
   "source": [
    "#no time dependent data\n",
    "print(\"start preprocessing not time dependent data\")"
   ]
  },
  {
   "cell_type": "code",
   "execution_count": 322,
   "metadata": {},
   "outputs": [],
   "source": [
    "if SELECTED_FEATURE_SET or MAX_FEATURE_SET:\n",
    "    #extract datasets based on extract_list\n",
    "    dataset_detail = dataset_detail.loc[dataset_detail['icustay_id'].isin(extract_list)]\n",
    "    #sort by ascending order\n",
    "    dataset_detail = dataset_detail.sort_values(by=['icustay_id'])\n",
    "    subject_id = dataset_detail[\"subject_id\"].unique()\n",
    "    \n",
    "    #reorganize dataset by selecting needed columns \n",
    "    dataset_detail = dataset_detail[[\"icustay_id\",'subject_id',\"age\",\"gender\",\"ethnicity_grouped\"]]\n",
    "    #transfrom categorical data to binary form\n",
    "    dataset_detail = dataset_detail.join(pd.get_dummies(dataset_detail.pop('gender')))\n",
    "    dataset_detail = dataset_detail.join(pd.get_dummies(dataset_detail.pop(\"ethnicity_grouped\")))\n",
    "    dataset_detail = dataset_detail.drop([\"icustay_id\",'subject_id'], axis=1)\n",
    "    #convert dataframe to array for later concontenate\n",
    "    dataset_detail = np.array((dataset_detail.fillna(FILL_VALUE)).to_numpy())"
   ]
  },
  {
   "cell_type": "code",
   "execution_count": 323,
   "metadata": {},
   "outputs": [],
   "source": [
    "# Divide dataset into features(X) & target(y) sets\n",
    "# set features as X\n",
    "#AL added try except tp make it work\n",
    "if SELECTED_FEATURE_SET or MAX_FEATURE_SET:\n",
    "    X = X.drop([\"aki_stage\", \"subject_id\"], axis=1)\n",
    "else:\n",
    "    X = X.drop(['aki_stage'],axis=1)\n",
    "\n",
    "# set taeget as y\n",
    "if LAST_CHARTTIME:\n",
    "    y = pd.DataFrame(target_list)\n",
    "if FIRST_TURN_POS:\n",
    "    # combine target_pos and target_neg,set as y\n",
    "    y = pd.concat([target_pos, target_neg], axis=0).sort_values(by=['icustay_id']).reset_index(drop=True)\n",
    "    y = y.drop(['icustay_id'], axis=1)\n",
    "    y = y.values.ravel().astype('int64')\n",
    "    #print(y)"
   ]
  },
  {
   "cell_type": "code",
   "execution_count": 324,
   "metadata": {},
   "outputs": [
    {
     "name": "stdout",
     "output_type": "stream",
     "text": [
      "merge ICD9 codes at the end of admission\n"
     ]
    }
   ],
   "source": [
    "if SELECTED_FEATURE_SET or MAX_FEATURE_SET:\n",
    "    dataset_icd = dataset_icd.loc[dataset_icd['subject_id'].isin(subject_id)]\n",
    "    #convert catagorical data to binary form\n",
    "    dataset_icd = dataset_icd.join(pd.get_dummies(dataset_icd.pop('seq_num')))\n",
    "    dataset_icd = dataset_icd.join(pd.get_dummies(dataset_icd.pop('icd9_code')))\n",
    "    \n",
    "    #merge rows if they have the same \"hadm_id\"\n",
    "    dataset_icd.drop([\"subject_id\"], axis=1, inplace=True)\n",
    "    dataset_icd = dataset_icd.groupby(['hadm_id']).max().reset_index(['hadm_id'])\n",
    "    \n",
    "    # merge ICD9 codes at the end of admission\n",
    "    # Pushing all diagnoses at the end of the admission (to avoid leaking information from future)\n",
    "    # Add timestamp corresponding to the last charttime in the admission to diagnoses\n",
    "    # dataset_icd already with one-hot for ICD9 codes (merged, ie many ones per row)\n",
    "    print(\"merge ICD9 codes at the end of admission\")\n",
    "    dataset_icd = pd.merge(dataset_icd, X.groupby('hadm_id')['charttime'].max().to_frame().reset_index(), on='hadm_id', how='left')\n",
    "    X = pd.merge(X, dataset_icd, on=['hadm_id', 'charttime'], how='left')"
   ]
  },
  {
   "cell_type": "code",
   "execution_count": 325,
   "metadata": {},
   "outputs": [
    {
     "name": "stdout",
     "output_type": "stream",
     "text": [
      "select features used in the paper\n"
     ]
    }
   ],
   "source": [
    "print(\"select features used in the paper\")\n",
    "#select only features that used in paper\n",
    "if SELECTED_FEATURE_SET:\n",
    "    X = X[selected_set]"
   ]
  },
  {
   "cell_type": "code",
   "execution_count": 326,
   "metadata": {},
   "outputs": [],
   "source": [
    "X = X.fillna(FILL_VALUE)"
   ]
  },
  {
   "cell_type": "code",
   "execution_count": 327,
   "metadata": {},
   "outputs": [],
   "source": [
    "#AL re-write as try except to make it work as hadm_id is not used if only one csv file is used and none are merged\n",
    "try:\n",
    "    X = X.drop(['hadm_id', 'charttime'], axis=1)\n",
    "except:\n",
    "    X = X.drop(['charttime'], axis=1)"
   ]
  },
  {
   "cell_type": "code",
   "execution_count": 328,
   "metadata": {},
   "outputs": [],
   "source": [
    "#print(\"reshape 2D dataframe to 3D Array, group by icustay_id\")\n",
    "X = np.array(list(X.groupby(['icustay_id'],as_index=False).apply(pd.DataFrame.to_numpy)))"
   ]
  },
  {
   "cell_type": "code",
   "execution_count": 329,
   "metadata": {
    "scrolled": true
   },
   "outputs": [
    {
     "name": "stdout",
     "output_type": "stream",
     "text": [
      "fill ragged part(missing value) of 3d array with FILL_VALUE\n",
      "(437, 211, 429)\n",
      "flatten 3D array back to 2D array\n",
      "(437, 90519)\n"
     ]
    }
   ],
   "source": [
    "print(\"fill ragged part(missing value) of 3d array with FILL_VALUE\")\n",
    "# fill ragged part(missing value) of 3d array with FILL_VALUE\n",
    "X = pad(X, FILL_VALUE)\n",
    "print(X.shape)\n",
    "\n",
    "print(\"flatten 3D array back to 2D array\")\n",
    "#flatten 3d array to 2d array\n",
    "nsamples, nx, ny = X.shape\n",
    "X = X.reshape((nsamples,nx*ny))\n",
    "print(X.shape)"
   ]
  },
  {
   "cell_type": "code",
   "execution_count": 330,
   "metadata": {},
   "outputs": [
    {
     "name": "stdout",
     "output_type": "stream",
     "text": [
      "merge X with dataset_detail\n"
     ]
    }
   ],
   "source": [
    "if SELECTED_FEATURE_SET or MAX_FEATURE_SET:\n",
    "    print(\"merge X with dataset_detail\")\n",
    "    # concontenate X with dataset_detail\n",
    "    X = np.concatenate((X, dataset_detail), axis=1)"
   ]
  },
  {
   "cell_type": "code",
   "execution_count": 331,
   "metadata": {},
   "outputs": [
    {
     "name": "stdout",
     "output_type": "stream",
     "text": [
      "Now, we get the following: \n",
      "X as features\n",
      "y as Targets\n"
     ]
    }
   ],
   "source": [
    "print(\"Now, we get the following: \")\n",
    "print(\"X as features\")\n",
    "print(\"y as Targets\")\n",
    "\n",
    "#AL (for none vs any)\n",
    "#if First turn pos : y is numpy.ndarray \n",
    "# 0 and 1 Counter({0: 9649, 1: 9591})\n",
    "\n",
    "# if Last time : y is a dataframe \n",
    "# Counter({0.0: 26963, 1.0: 2629, 3.0: 1873, 2.0: 1407})\n",
    "# meaning for class1 (non vs any) 0: 26,963 and 1: 5,909"
   ]
  },
  {
   "cell_type": "code",
   "execution_count": 332,
   "metadata": {},
   "outputs": [
    {
     "name": "stdout",
     "output_type": "stream",
     "text": [
      "Counter({0: 367, 1: 70})\n"
     ]
    }
   ],
   "source": [
    "#AL to see the balance of the classes\n",
    "try:\n",
    "    z = list(y[0])\n",
    "except:\n",
    "    z = y\n",
    "counter=collections.Counter(z)\n",
    "print(counter)"
   ]
  },
  {
   "cell_type": "code",
   "execution_count": 333,
   "metadata": {},
   "outputs": [
    {
     "name": "stdout",
     "output_type": "stream",
     "text": [
      "divide dataset into train, test sets\n"
     ]
    }
   ],
   "source": [
    "print(\"divide dataset into train, test sets\")\n",
    "# divide dataset into train, test sets\n",
    "X_train, X_test, y_train, y_test = train_test_split(X, y, test_size = TEST_SIZE, random_state = 42)"
   ]
  },
  {
   "cell_type": "code",
   "execution_count": 334,
   "metadata": {},
   "outputs": [],
   "source": [
    "if LAST_CHARTTIME:\n",
    "    print(\"Transform multiclass to 3 binary sets\")\n",
    "    # Transform the multiclass dataset into 3 different binary outcome sets\n",
    "    lb = preprocessing.LabelBinarizer()\n",
    "\n",
    "    y_train = lb.fit_transform(y_train)\n",
    "    y_train = pd.DataFrame(y_train)\n",
    "    y_total_number = list(range(1, y_train.shape[0]+1, 1))\n",
    "\n",
    "    y_test = lb.fit_transform(y_test)\n",
    "    y_test = pd.DataFrame(y_test)\n",
    "    y_total_number1 = list(range(1, y_test.shape[0]+1, 1))\n",
    "\n",
    "\n",
    "    # classifier1 : stage0 vs. stage1,2,3\n",
    "    if CLASS1:\n",
    "        train_c1 = []\n",
    "        for n in y_total_number:\n",
    "            train_c1.append(n)\n",
    "            if y_train.at[n-1, 0] == 1:\n",
    "                train_c1[n-1] = 0\n",
    "            else:\n",
    "                train_c1[n-1] =1\n",
    "        y_train = pd.DataFrame(train_c1).values.ravel()\n",
    "        test_c1 = []\n",
    "        for n in y_total_number1:\n",
    "            test_c1.append(n)\n",
    "            if y_test.at[n-1, 0] == 1:\n",
    "                test_c1[n-1] = 0\n",
    "            else:\n",
    "                test_c1[n-1] =1\n",
    "        y_test = pd.DataFrame(test_c1).values.ravel()\n",
    "\n",
    "    # classifier2 : stage0,1 vs. stage2,3\n",
    "    if CLASS2:\n",
    "        train_c2 = []\n",
    "        for i in y_total_number:\n",
    "            train_c2.append(i)\n",
    "            if y_train.at[i-1, 0] == 1 or y_train.at[i-1, 1] == 1:\n",
    "                train_c2[i-1] = 0\n",
    "            else:\n",
    "                train_c2[i-1] =1\n",
    "        y_train = pd.DataFrame(train_c2).values.ravel()\n",
    "        test_c2 = []\n",
    "        for i in y_total_number1:\n",
    "            test_c2.append(i)\n",
    "            if y_test.at[i-1, 0] == 1 or y_test.at[i-1, 1] == 1:\n",
    "                test_c2[i-1] = 0\n",
    "            else:\n",
    "                test_c2[i-1] =1\n",
    "        y_test = pd.DataFrame(test_c2).values.ravel()\n",
    "\n",
    "\n",
    "    # classifier3 : stage0,1,2 vs. stage3\n",
    "    if CLASS3:\n",
    "        train_c3 = []\n",
    "        for z in y_total_number:\n",
    "            train_c3.append(z)\n",
    "            if y_train.at[z-1, 3] == 1:\n",
    "                train_c3[z-1] =1\n",
    "            else:\n",
    "                train_c3[z-1] =0\n",
    "        y_train = pd.DataFrame(train_c3).values.ravel()\n",
    "        test_c3 = []\n",
    "        for z in y_total_number1:\n",
    "            test_c3.append(z)\n",
    "            if y_test.at[z-1, 3] == 1:\n",
    "                test_c3[z-1] =1\n",
    "            else:\n",
    "                test_c3[z-1] =0\n",
    "        y_test = pd.DataFrame(test_c3).values.ravel()"
   ]
  },
  {
   "cell_type": "code",
   "execution_count": 335,
   "metadata": {},
   "outputs": [
    {
     "name": "stdout",
     "output_type": "stream",
     "text": [
      "Now, the dataset is divided to X_train, X_test, y_train, y_test\n"
     ]
    }
   ],
   "source": [
    "print(\"Now, the dataset is divided to X_train, X_test, y_train, y_test\")\n"
   ]
  },
  {
   "cell_type": "markdown",
   "metadata": {},
   "source": [
    "# LOGISTIC REGRESSION MODEL"
   ]
  },
  {
   "cell_type": "code",
   "execution_count": 336,
   "metadata": {},
   "outputs": [],
   "source": [
    "def build_basic_LR(C, PENALTY, SOLVER, MAX_ITERATION, CLASS_WEIGHT, RANDOM, X_train, y_train, X_test, y_test, \n",
    "                   classifier_name, plot_name):\n",
    "    \n",
    "    # Train binary-classification model with logistic regression\n",
    "    print(\"build LR\")\n",
    "    model_LR = LogisticRegression(penalty = PENALTY, solver = SOLVER, max_iter= MAX_ITERATION, \n",
    "                                  class_weight= CLASS_WEIGHT, random_state=RANDOM)\n",
    "    print(\"train LR\")\n",
    "    model_LR.fit(X_train, y_train)\n",
    "    \n",
    "    # Make predictions\n",
    "    print(\"predictions\")\n",
    "    LR_pred = model_LR.predict(X_test)\n",
    "    # Predict probabilities on testing points\n",
    "    LR_probs = model_LR.predict_proba(X_test)[::,1]\n",
    "    \n",
    "    \n",
    "    # compute roc curves\n",
    "    fpr_LR, tpr_LR, thresholds_LR = roc_curve(y_test, LR_probs)\n",
    "    # compute roc auc\n",
    "    roc_auc_LR = roc_auc_score(y_test, LR_probs, average = 'micro')\n",
    "    print (\"Area Under ROC Curve: %0.2f\" % roc_auc_LR  )\n",
    "    \n",
    "    \n",
    "    \n",
    "    # compute Precision_Recall curves\n",
    "    precision_LR, recall_LR, _ = precision_recall_curve(y_test, LR_probs)\n",
    "    # compute PR_AUC\n",
    "    pr_auc_LR = metrics.auc(recall_LR, precision_LR)\n",
    "    print (\"Area Under PR Curve(AP): %0.2f\" % pr_auc_LR  )\n",
    "    \n",
    "    \n",
    "    # compute calibration curve\n",
    "    print(\"compute calibration curve\")\n",
    "    LR_y, LR_x = calibration_curve(y_test, LR_pred, n_bins=10)\n",
    "    #find out which one are the missing bins\n",
    "    bin_array = bin_total(y_test, LR_pred , n_bins=10)\n",
    "    print(missing_bin(bin_array))\n",
    "\n",
    "    print(\"plot curves and save in one png file\")\n",
    "    #save three plots in one png file\n",
    "    fig, (ax1, ax2, ax3) = plt.subplots(3, figsize=(7, 24))\n",
    "    fig.subplots_adjust(wspace=0.3, hspace= 0.3)\n",
    "    fig.suptitle('Evaluation of '+ plot_name)\n",
    "\n",
    "    # plot roc curve\n",
    "    ax1.plot(fpr_LR, tpr_LR, label=\"Classifier \" + str(classifier_name) + \", auc=\" +str(roc_auc_LR))\n",
    "    ax1.title.set_text('ROC AUC')\n",
    "    ax1.set(xlabel='False Positive Rate', ylabel='True Positive Rate')\n",
    "    ax1.legend(loc=\"lower right\")\n",
    "\n",
    "    # plot PR curve\n",
    "    ax2.plot(recall_LR, precision_LR, label=\"Classifier \" + str(classifier_name) + \", auc=\"+str(pr_auc_LR))\n",
    "    ax2.title.set_text('PR AUC')\n",
    "    ax2.set(xlabel='Recall', ylabel='Precision')\n",
    "    ax2.legend(loc=\"lower right\")\n",
    "\n",
    "    # plot calibration curve\n",
    "    ax3.plot(LR_x, LR_y, marker='o', linewidth=1, label='LR')\n",
    "    line = mlines.Line2D([0, 1], [0, 1], color='black')\n",
    "    transform = ax3.transAxes\n",
    "    line.set_transform(transform)\n",
    "    ax3.add_line(line)\n",
    "    ax3.title.set_text('Calibration plot for '+str(plot_name))\n",
    "    ax3.set(xlabel= 'Predicted probability', ylabel= 'True probability in each bin')\n",
    "    ax3.legend(loc=\"lower right\")\n",
    "\n",
    "    plt.savefig(plot_name+\".png\")\n",
    "    plt.show()"
   ]
  },
  {
   "cell_type": "code",
   "execution_count": 337,
   "metadata": {},
   "outputs": [
    {
     "name": "stdout",
     "output_type": "stream",
     "text": [
      "start self written function for Logistic Regression model\n",
      "build LR\n",
      "train LR\n"
     ]
    },
    {
     "name": "stderr",
     "output_type": "stream",
     "text": [
      "/Users/alice/opt/anaconda3/lib/python3.7/site-packages/sklearn/linear_model/_sag.py:330: ConvergenceWarning: The max_iter was reached which means the coef_ did not converge\n",
      "  \"the coef_ did not converge\", ConvergenceWarning)\n"
     ]
    },
    {
     "name": "stdout",
     "output_type": "stream",
     "text": [
      "predictions\n",
      "Area Under ROC Curve: 0.62\n",
      "Area Under PR Curve(AP): 0.17\n",
      "compute calibration curve\n",
      "The missing bins have midpoint values of  15%, 25%, 35%, 45%, 55%, 65%, 75%, 85%, \n",
      "plot curves and save in one png file\n"
     ]
    },
    {
     "data": {
      "image/png": "[encoded data removed]",
      "text/plain": [
       "<Figure size 504x1728 with 3 Axes>"
      ]
     },
     "metadata": {
      "needs_background": "light"
     },
     "output_type": "display_data"
    }
   ],
   "source": [
    "print(\"start self written function for Logistic Regression model\")\n",
    "build_basic_LR(C, PENALTY, SOLVER, MAX_ITERATION, CLASS_WEIGHT, RANDOM, \n",
    "                            X_train, y_train, X_test, y_test, \n",
    "                            classifier_name, plot_name)"
   ]
  },
  {
   "cell_type": "markdown",
   "metadata": {},
   "source": [
    "# XGB model"
   ]
  },
  {
   "cell_type": "code",
   "execution_count": 338,
   "metadata": {},
   "outputs": [],
   "source": [
    "# building GBT(sklearn xgboost API) ; parameters for XGBClassifier\n",
    "MAX_DEPTH = 5  #should be between 3-10\n",
    "MIN_CHILD_WEIGHT = 1 # a smaller value is chosen because it is a imbalanced class problem and leaf nodes can have smaller size groups\n",
    "GAMMA = 0 \n",
    "SUBSAMPLE = 0.8 #typical values range between 0.5-0.9\n",
    "COLSAMPLE_BYTREE = 0.8 #typical values range between 0.5-0.9\n",
    "SCALE_POS_WEIGHT = 1 #because of high class imbalance\n",
    "LEARNING_RATE =0.1\n",
    "NUM_ESTIMATORS= 50  # the number of boosting rounds or trees to build, equal to XGBoost API num_boost_round\n",
    "OBJECTIVE= 'binary:logistic'\n",
    "NUM_THREAD=4\n",
    "SEED=27\n",
    "\n",
    "# sklearn API training method; model.fit\n",
    "EARLT_STOPPING_ROUNDS=40   \n",
    "EVAL_METRIC=[\"auc\", \"error\", \"logloss\"] \n",
    "VERBOSE= False"
   ]
  },
  {
   "cell_type": "code",
   "execution_count": 339,
   "metadata": {},
   "outputs": [
    {
     "name": "stdout",
     "output_type": "stream",
     "text": [
      "build GBT\n",
      "train GBT\n"
     ]
    },
    {
     "data": {
      "text/plain": [
       "XGBClassifier(base_score=0.5, booster='gbtree', colsample_bylevel=1,\n",
       "              colsample_bynode=1, colsample_bytree=0.8, gamma=0,\n",
       "              learning_rate=0.1, max_delta_step=0, max_depth=5,\n",
       "              min_child_weight=1, missing=None, n_estimators=50, n_jobs=1,\n",
       "              nthread=4, objective='binary:logistic', random_state=0,\n",
       "              reg_alpha=0, reg_lambda=1, scale_pos_weight=1, seed=27,\n",
       "              silent=None, subsample=0.8, verbosity=1)"
      ]
     },
     "execution_count": 339,
     "metadata": {},
     "output_type": "execute_result"
    }
   ],
   "source": [
    "print(\"build GBT\")\n",
    "#build gradient boost model\n",
    "xgb_model = xgb.XGBClassifier(\n",
    " learning_rate = LEARNING_RATE,\n",
    " n_estimators= NUM_ESTIMATORS,\n",
    " max_depth= MAX_DEPTH,\n",
    " min_child_weight= MIN_CHILD_WEIGHT,\n",
    " gamma= GAMMA,\n",
    " subsample= SUBSAMPLE,\n",
    " colsample_bytree= COLSAMPLE_BYTREE,\n",
    " objective= OBJECTIVE,\n",
    " nthread= NUM_THREAD,\n",
    " scale_pos_weight= SCALE_POS_WEIGHT,\n",
    " seed= SEED)\n",
    "\n",
    "print(\"train GBT\")\n",
    "# train xgb\n",
    "xgb_model.fit(X_train, y_train, \n",
    "                early_stopping_rounds= EARLT_STOPPING_ROUNDS, \n",
    "                eval_metric= EVAL_METRIC, \n",
    "                eval_set= [(X_test, y_test)],\n",
    "                verbose= VERBOSE)"
   ]
  },
  {
   "cell_type": "code",
   "execution_count": 340,
   "metadata": {},
   "outputs": [
    {
     "name": "stdout",
     "output_type": "stream",
     "text": [
      "predictions\n"
     ]
    }
   ],
   "source": [
    "print(\"predictions\")\n",
    "#Make predictions \n",
    "GBT_pred = xgb_model.predict(X_test)\n",
    "GBT_probs = xgb_model.predict_proba(X_test)[::,1]"
   ]
  },
  {
   "cell_type": "code",
   "execution_count": 341,
   "metadata": {},
   "outputs": [
    {
     "name": "stdout",
     "output_type": "stream",
     "text": [
      "GBT accuracy for Classifier None vs. Any AKI : 0.8864\n",
      "Area Under ROC Curve: 0.7694\n",
      "Area Under PR Curve(AP): 0.4823\n"
     ]
    }
   ],
   "source": [
    "# accuracy\n",
    "print('GBT accuracy for Classifier ' + str(classifier_name) + ' : {:.4f}'.format(accuracy_score(y_test, GBT_pred)))\n",
    "\n",
    "# ROC AUC | ROC curve\n",
    "fpr_GBT, tpr_GBT, _ = roc_curve(y_test, GBT_probs)\n",
    "roc_auc_GBT = roc_auc_score(y_test, GBT_probs)\n",
    "print (\"Area Under ROC Curve: %0.4f\" % roc_auc_GBT  )\n",
    "\n",
    "# PR AUC | Precision-Recall curve\n",
    "precision_GBT, recall_GBT, _ = precision_recall_curve(y_test, GBT_probs)\n",
    "pr_auc_GBT = auc(recall_GBT, precision_GBT)\n",
    "print (\"Area Under PR Curve(AP): %0.4f\" % pr_auc_GBT  )\n",
    "\n"
   ]
  },
  {
   "cell_type": "code",
   "execution_count": 207,
   "metadata": {},
   "outputs": [],
   "source": [
    "# naming model and plot\n",
    "classifier_name = \"None vs. Any AKI\"    ###change every time #Moderate vs. Severe #None vs. Any #Others vs. Severe\n",
    "plot_name = \"adult_allfeature_AnyAKI_GBT\"    ###change every time"
   ]
  },
  {
   "cell_type": "code",
   "execution_count": 208,
   "metadata": {},
   "outputs": [
    {
     "name": "stdout",
     "output_type": "stream",
     "text": [
      "compute calibration curve\n",
      "The missing bins have midpoint values of  15%, 25%, 35%, 45%, 55%, 65%, 75%, 85%, \n",
      "plot curves and save in one png file\n"
     ]
    },
    {
     "data": {
      "image/png": "[encoded data removed]",
      "text/plain": [
       "<Figure size 504x1728 with 3 Axes>"
      ]
     },
     "metadata": {
      "needs_background": "light"
     },
     "output_type": "display_data"
    }
   ],
   "source": [
    "print(\"compute calibration curve\")\n",
    "# calibration curve\n",
    "gbt_y, gbt_x = calibration_curve(y_test, GBT_pred, n_bins=10)\n",
    "#find out which one are the missing bins\n",
    "bin_array = bin_total(y_test, GBT_pred , n_bins=10)\n",
    "print(missing_bin(bin_array))\n",
    "print(\"plot curves and save in one png file\")\n",
    "#save two plots in one png file\n",
    "fig, (ax1, ax2, ax3) = plt.subplots(3, figsize=(7, 24))\n",
    "fig.subplots_adjust(wspace=0.3, hspace= 0.3)\n",
    "fig.suptitle('Evaluation of '+ plot_name)\n",
    "\n",
    "# plot roc curve\n",
    "ax1.plot(fpr_GBT, tpr_GBT, label=\"Classifier \" + str(classifier_name) + \", auc=\" +str(roc_auc_GBT))\n",
    "ax1.title.set_text('ROC AUC')\n",
    "ax1.set(xlabel='False Positive Rate', ylabel='True Positive Rate')\n",
    "ax1.legend(loc=\"lower right\")\n",
    "\n",
    "# plot PR curve\n",
    "ax2.plot(recall_GBT, precision_GBT, label=\"Classifier \" + str(classifier_name) + \", auc=\"+str(pr_auc_GBT))\n",
    "ax2.title.set_text('PR AUC')\n",
    "ax2.set(xlabel='Recall', ylabel='Precision')\n",
    "ax2.legend(loc=\"lower right\")\n",
    "\n",
    "# plot calibration curve\n",
    "ax3.plot(gbt_x,gbt_y, marker='o', linewidth=1, label='GBT')\n",
    "line = mlines.Line2D([0, 1], [0, 1], color='black')\n",
    "transform = ax3.transAxes\n",
    "line.set_transform(transform)\n",
    "ax3.add_line(line)\n",
    "ax3.title.set_text('Calibration plot for '+str(plot_name))\n",
    "ax3.set(xlabel= 'Predicted probability', ylabel= 'True probability in each bin')\n",
    "ax3.legend(loc=\"lower right\")\n",
    "\n",
    "plt.savefig(plot_name+\".png\")\n",
    "plt.show()"
   ]
  },
  {
   "cell_type": "markdown",
   "metadata": {},
   "source": [
    "# The Random Forests model"
   ]
  },
  {
   "cell_type": "code",
   "execution_count": 342,
   "metadata": {},
   "outputs": [],
   "source": [
    "from  sklearn.ensemble import RandomForestClassifier"
   ]
  },
  {
   "cell_type": "code",
   "execution_count": 343,
   "metadata": {},
   "outputs": [],
   "source": [
    "# naming model and plot\n",
    "classifier_name = \"None vs. Any AKI\"    ###change every time #Moderate vs. Severe #None vs. Any #Others vs. Severe\n",
    "plot_name = \"None_vs_Any_AKI_RF\"    ###change every time"
   ]
  },
  {
   "cell_type": "code",
   "execution_count": 344,
   "metadata": {},
   "outputs": [
    {
     "name": "stdout",
     "output_type": "stream",
     "text": [
      "y train has \n",
      "[[  0   1]\n",
      " [251  54]]\n"
     ]
    }
   ],
   "source": [
    "print('y train has ')\n",
    "(unique, counts) = np.unique(y_train, return_counts=True)\n",
    "frequencies = np.asarray((unique, counts))\n",
    "print(frequencies)"
   ]
  },
  {
   "cell_type": "markdown",
   "metadata": {},
   "source": [
    "# First try with the default parameters"
   ]
  },
  {
   "cell_type": "code",
   "execution_count": 345,
   "metadata": {},
   "outputs": [
    {
     "name": "stdout",
     "output_type": "stream",
     "text": [
      "build RF\n",
      "train RF\n"
     ]
    },
    {
     "data": {
      "text/plain": [
       "RandomForestClassifier(bootstrap=True, ccp_alpha=0.0, class_weight=None,\n",
       "                       criterion='gini', max_depth=None, max_features='auto',\n",
       "                       max_leaf_nodes=None, max_samples=None,\n",
       "                       min_impurity_decrease=0.0, min_impurity_split=None,\n",
       "                       min_samples_leaf=1, min_samples_split=2,\n",
       "                       min_weight_fraction_leaf=0.0, n_estimators=100,\n",
       "                       n_jobs=None, oob_score=False, random_state=None,\n",
       "                       verbose=0, warm_start=False)"
      ]
     },
     "execution_count": 345,
     "metadata": {},
     "output_type": "execute_result"
    }
   ],
   "source": [
    "print(\"build RF\")\n",
    "# building RF (default parameters) to compare to later\n",
    "rf_model = RandomForestClassifier(n_estimators=100,criterion='gini',max_depth=None,min_samples_split=2,min_samples_leaf=1,\n",
    "                                  min_weight_fraction_leaf=0.0,max_features='auto',max_leaf_nodes=None,min_impurity_decrease=0.0,\n",
    "                                  min_impurity_split=None,bootstrap=True,oob_score=False,n_jobs=None,random_state=None,verbose=0,\n",
    "                                  warm_start=False,class_weight=None,ccp_alpha=0.0,max_samples=None)\n",
    "\n",
    "\n",
    "print(\"train RF\")\n",
    "# train RF\n",
    "rf_model.fit(X_train, y_train)"
   ]
  },
  {
   "cell_type": "code",
   "execution_count": 346,
   "metadata": {},
   "outputs": [],
   "source": [
    "# to see how the forest looks like with default parameters\n",
    "\n",
    "# depth of trees is around 44-93 for the full set\n",
    "#[estimator.tree_.max_depth for estimator in rf_model.estimators_]"
   ]
  },
  {
   "cell_type": "code",
   "execution_count": 347,
   "metadata": {},
   "outputs": [
    {
     "name": "stdout",
     "output_type": "stream",
     "text": [
      "predictions\n"
     ]
    }
   ],
   "source": [
    "print(\"predictions\")\n",
    "#Make predictions \n",
    "RF_pred = rf_model.predict(X_test)\n",
    "RF_probs = rf_model.predict_proba(X_test)[::,1] # probability of class 1"
   ]
  },
  {
   "cell_type": "code",
   "execution_count": 348,
   "metadata": {},
   "outputs": [
    {
     "name": "stdout",
     "output_type": "stream",
     "text": [
      "RF accuracy for Classifier None vs. Any AKI : 0.8939\n",
      "compute ROC AUC\n",
      "Area Under ROC Curve: 0.6762\n",
      "compute PR AUC\n",
      "Area Under PR Curve(AP): 0.4191\n"
     ]
    }
   ],
   "source": [
    "# accuracy\n",
    "print('RF accuracy for Classifier ' + str(classifier_name) + ' : {:.4f}'.format(accuracy_score(y_test, RF_pred)))\n",
    "\n",
    "print(\"compute ROC AUC\")\n",
    "# ROC AUC | ROC curve\n",
    "fpr_RF, tpr_RF, _ = roc_curve(y_test, RF_probs)\n",
    "roc_auc_RF = roc_auc_score(y_test, RF_probs)\n",
    "print (\"Area Under ROC Curve: %0.4f\" % roc_auc_RF)\n",
    "\n",
    "\n",
    "print(\"compute PR AUC\")\n",
    "# PR AUC | Precision-Recall curve\n",
    "precision_RF, recall_RF, _ = precision_recall_curve(y_test, RF_probs)\n",
    "pr_auc_RF = auc(recall_RF, precision_RF)\n",
    "print (\"Area Under PR Curve(AP): %0.4f\" % pr_auc_RF  )"
   ]
  },
  {
   "cell_type": "markdown",
   "metadata": {},
   "source": [
    "# Next create a parameter grid to sample from during fitting"
   ]
  },
  {
   "cell_type": "code",
   "execution_count": 349,
   "metadata": {},
   "outputs": [
    {
     "name": "stdout",
     "output_type": "stream",
     "text": [
      "{'n_estimators': [100, 200, 300, 400, 500, 600, 700, 800, 900, 1000], 'max_features': ['auto', 'sqrt'], 'max_depth': [5, 15, 26, 36, 47, 57, 68, 78, 89, 100, None], 'min_samples_split': [2, 5, 10], 'min_samples_leaf': [2, 4], 'bootstrap': [True, False]}\n"
     ]
    }
   ],
   "source": [
    "from sklearn.model_selection import RandomizedSearchCV\n",
    "\n",
    "# Number of trees in random forest\n",
    "n_estimators = [int(x) for x in np.linspace(start = 100, stop = 1000, num = 10)]\n",
    "# Number of features to consider at every split\n",
    "max_features = ['auto', 'sqrt']\n",
    "# Maximum number of levels in tree\n",
    "max_depth = [int(x) for x in np.linspace(5, 100, num = 10)]\n",
    "max_depth.append(None)\n",
    "# Minimum number of samples required to split a node\n",
    "min_samples_split = [2, 5, 10]\n",
    "# Minimum number of samples required at each leaf node\n",
    "min_samples_leaf = [2, 4]\n",
    "# Method of selecting samples for training each tree\n",
    "bootstrap = [True, False]\n",
    "# Create the random grid\n",
    "random_grid = {'n_estimators': n_estimators,\n",
    "               'max_features': max_features,\n",
    "               'max_depth': max_depth,\n",
    "               'min_samples_split': min_samples_split,\n",
    "               'min_samples_leaf': min_samples_leaf,\n",
    "               'bootstrap': bootstrap}\n",
    "print(random_grid)\n",
    "\n",
    "# Random search training\n",
    "# Use the random grid to search for best hyperparameters\n",
    "# Random search of parameters, using 3 fold cross validation\n",
    "rf_random = RandomizedSearchCV(estimator = rf_model, param_distributions = random_grid, n_iter = 100, cv = 5, verbose=2, random_state=42, n_jobs = 1)"
   ]
  },
  {
   "cell_type": "code",
   "execution_count": 350,
   "metadata": {},
   "outputs": [
    {
     "name": "stdout",
     "output_type": "stream",
     "text": [
      "Fitting 5 folds for each of 100 candidates, totalling 500 fits\n",
      "[CV] n_estimators=600, min_samples_split=10, min_samples_leaf=2, max_features=sqrt, max_depth=57, bootstrap=False \n"
     ]
    },
    {
     "name": "stderr",
     "output_type": "stream",
     "text": [
      "[Parallel(n_jobs=1)]: Using backend SequentialBackend with 1 concurrent workers.\n"
     ]
    },
    {
     "name": "stdout",
     "output_type": "stream",
     "text": [
      "[CV]  n_estimators=600, min_samples_split=10, min_samples_leaf=2, max_features=sqrt, max_depth=57, bootstrap=False, total=   8.8s\n",
      "[CV] n_estimators=600, min_samples_split=10, min_samples_leaf=2, max_features=sqrt, max_depth=57, bootstrap=False \n"
     ]
    },
    {
     "name": "stderr",
     "output_type": "stream",
     "text": [
      "[Parallel(n_jobs=1)]: Done   1 out of   1 | elapsed:    8.8s remaining:    0.0s\n"
     ]
    },
    {
     "name": "stdout",
     "output_type": "stream",
     "text": [
      "[CV]  n_estimators=600, min_samples_split=10, min_samples_leaf=2, max_features=sqrt, max_depth=57, bootstrap=False, total=   8.5s\n",
      "[CV] n_estimators=600, min_samples_split=10, min_samples_leaf=2, max_features=sqrt, max_depth=57, bootstrap=False \n",
      "[CV]  n_estimators=600, min_samples_split=10, min_samples_leaf=2, max_features=sqrt, max_depth=57, bootstrap=False, total=   8.7s\n",
      "[CV] n_estimators=600, min_samples_split=10, min_samples_leaf=2, max_features=sqrt, max_depth=57, bootstrap=False \n",
      "[CV]  n_estimators=600, min_samples_split=10, min_samples_leaf=2, max_features=sqrt, max_depth=57, bootstrap=False, total=   8.8s\n",
      "[CV] n_estimators=600, min_samples_split=10, min_samples_leaf=2, max_features=sqrt, max_depth=57, bootstrap=False \n",
      "[CV]  n_estimators=600, min_samples_split=10, min_samples_leaf=2, max_features=sqrt, max_depth=57, bootstrap=False, total=   8.1s\n",
      "[CV] n_estimators=300, min_samples_split=2, min_samples_leaf=4, max_features=auto, max_depth=5, bootstrap=True \n",
      "[CV]  n_estimators=300, min_samples_split=2, min_samples_leaf=4, max_features=auto, max_depth=5, bootstrap=True, total=   1.5s\n",
      "[CV] n_estimators=300, min_samples_split=2, min_samples_leaf=4, max_features=auto, max_depth=5, bootstrap=True \n",
      "[CV]  n_estimators=300, min_samples_split=2, min_samples_leaf=4, max_features=auto, max_depth=5, bootstrap=True, total=   1.5s\n",
      "[CV] n_estimators=300, min_samples_split=2, min_samples_leaf=4, max_features=auto, max_depth=5, bootstrap=True \n",
      "[CV]  n_estimators=300, min_samples_split=2, min_samples_leaf=4, max_features=auto, max_depth=5, bootstrap=True, total=   1.5s\n",
      "[CV] n_estimators=300, min_samples_split=2, min_samples_leaf=4, max_features=auto, max_depth=5, bootstrap=True \n",
      "[CV]  n_estimators=300, min_samples_split=2, min_samples_leaf=4, max_features=auto, max_depth=5, bootstrap=True, total=   1.7s\n",
      "[CV] n_estimators=300, min_samples_split=2, min_samples_leaf=4, max_features=auto, max_depth=5, bootstrap=True \n",
      "[CV]  n_estimators=300, min_samples_split=2, min_samples_leaf=4, max_features=auto, max_depth=5, bootstrap=True, total=   1.5s\n",
      "[CV] n_estimators=300, min_samples_split=2, min_samples_leaf=2, max_features=auto, max_depth=89, bootstrap=True \n",
      "[CV]  n_estimators=300, min_samples_split=2, min_samples_leaf=2, max_features=auto, max_depth=89, bootstrap=True, total=   2.7s\n",
      "[CV] n_estimators=300, min_samples_split=2, min_samples_leaf=2, max_features=auto, max_depth=89, bootstrap=True \n",
      "[CV]  n_estimators=300, min_samples_split=2, min_samples_leaf=2, max_features=auto, max_depth=89, bootstrap=True, total=   2.7s\n",
      "[CV] n_estimators=300, min_samples_split=2, min_samples_leaf=2, max_features=auto, max_depth=89, bootstrap=True \n",
      "[CV]  n_estimators=300, min_samples_split=2, min_samples_leaf=2, max_features=auto, max_depth=89, bootstrap=True, total=   2.7s\n",
      "[CV] n_estimators=300, min_samples_split=2, min_samples_leaf=2, max_features=auto, max_depth=89, bootstrap=True \n",
      "[CV]  n_estimators=300, min_samples_split=2, min_samples_leaf=2, max_features=auto, max_depth=89, bootstrap=True, total=   2.6s\n",
      "[CV] n_estimators=300, min_samples_split=2, min_samples_leaf=2, max_features=auto, max_depth=89, bootstrap=True \n",
      "[CV]  n_estimators=300, min_samples_split=2, min_samples_leaf=2, max_features=auto, max_depth=89, bootstrap=True, total=   2.5s\n",
      "[CV] n_estimators=200, min_samples_split=10, min_samples_leaf=2, max_features=auto, max_depth=15, bootstrap=False \n",
      "[CV]  n_estimators=200, min_samples_split=10, min_samples_leaf=2, max_features=auto, max_depth=15, bootstrap=False, total=   2.6s\n",
      "[CV] n_estimators=200, min_samples_split=10, min_samples_leaf=2, max_features=auto, max_depth=15, bootstrap=False \n",
      "[CV]  n_estimators=200, min_samples_split=10, min_samples_leaf=2, max_features=auto, max_depth=15, bootstrap=False, total=   2.6s\n",
      "[CV] n_estimators=200, min_samples_split=10, min_samples_leaf=2, max_features=auto, max_depth=15, bootstrap=False \n",
      "[CV]  n_estimators=200, min_samples_split=10, min_samples_leaf=2, max_features=auto, max_depth=15, bootstrap=False, total=   2.6s\n",
      "[CV] n_estimators=200, min_samples_split=10, min_samples_leaf=2, max_features=auto, max_depth=15, bootstrap=False \n",
      "[CV]  n_estimators=200, min_samples_split=10, min_samples_leaf=2, max_features=auto, max_depth=15, bootstrap=False, total=   2.6s\n",
      "[CV] n_estimators=200, min_samples_split=10, min_samples_leaf=2, max_features=auto, max_depth=15, bootstrap=False \n",
      "[CV]  n_estimators=200, min_samples_split=10, min_samples_leaf=2, max_features=auto, max_depth=15, bootstrap=False, total=   2.5s\n",
      "[CV] n_estimators=900, min_samples_split=10, min_samples_leaf=4, max_features=sqrt, max_depth=36, bootstrap=True \n",
      "[CV]  n_estimators=900, min_samples_split=10, min_samples_leaf=4, max_features=sqrt, max_depth=36, bootstrap=True, total=   6.4s\n",
      "[CV] n_estimators=900, min_samples_split=10, min_samples_leaf=4, max_features=sqrt, max_depth=36, bootstrap=True \n",
      "[CV]  n_estimators=900, min_samples_split=10, min_samples_leaf=4, max_features=sqrt, max_depth=36, bootstrap=True, total=   6.1s\n",
      "[CV] n_estimators=900, min_samples_split=10, min_samples_leaf=4, max_features=sqrt, max_depth=36, bootstrap=True \n",
      "[CV]  n_estimators=900, min_samples_split=10, min_samples_leaf=4, max_features=sqrt, max_depth=36, bootstrap=True, total=   6.1s\n",
      "[CV] n_estimators=900, min_samples_split=10, min_samples_leaf=4, max_features=sqrt, max_depth=36, bootstrap=True \n",
      "[CV]  n_estimators=900, min_samples_split=10, min_samples_leaf=4, max_features=sqrt, max_depth=36, bootstrap=True, total=   6.9s\n",
      "[CV] n_estimators=900, min_samples_split=10, min_samples_leaf=4, max_features=sqrt, max_depth=36, bootstrap=True \n",
      "[CV]  n_estimators=900, min_samples_split=10, min_samples_leaf=4, max_features=sqrt, max_depth=36, bootstrap=True, total=   6.5s\n",
      "[CV] n_estimators=300, min_samples_split=5, min_samples_leaf=2, max_features=sqrt, max_depth=None, bootstrap=True \n",
      "[CV]  n_estimators=300, min_samples_split=5, min_samples_leaf=2, max_features=sqrt, max_depth=None, bootstrap=True, total=   2.6s\n",
      "[CV] n_estimators=300, min_samples_split=5, min_samples_leaf=2, max_features=sqrt, max_depth=None, bootstrap=True \n",
      "[CV]  n_estimators=300, min_samples_split=5, min_samples_leaf=2, max_features=sqrt, max_depth=None, bootstrap=True, total=   2.6s\n",
      "[CV] n_estimators=300, min_samples_split=5, min_samples_leaf=2, max_features=sqrt, max_depth=None, bootstrap=True \n",
      "[CV]  n_estimators=300, min_samples_split=5, min_samples_leaf=2, max_features=sqrt, max_depth=None, bootstrap=True, total=   2.5s\n",
      "[CV] n_estimators=300, min_samples_split=5, min_samples_leaf=2, max_features=sqrt, max_depth=None, bootstrap=True \n",
      "[CV]  n_estimators=300, min_samples_split=5, min_samples_leaf=2, max_features=sqrt, max_depth=None, bootstrap=True, total=   2.6s\n",
      "[CV] n_estimators=300, min_samples_split=5, min_samples_leaf=2, max_features=sqrt, max_depth=None, bootstrap=True \n",
      "[CV]  n_estimators=300, min_samples_split=5, min_samples_leaf=2, max_features=sqrt, max_depth=None, bootstrap=True, total=   2.5s\n",
      "[CV] n_estimators=200, min_samples_split=2, min_samples_leaf=4, max_features=sqrt, max_depth=15, bootstrap=True \n",
      "[CV]  n_estimators=200, min_samples_split=2, min_samples_leaf=4, max_features=sqrt, max_depth=15, bootstrap=True, total=   1.5s\n",
      "[CV] n_estimators=200, min_samples_split=2, min_samples_leaf=4, max_features=sqrt, max_depth=15, bootstrap=True \n",
      "[CV]  n_estimators=200, min_samples_split=2, min_samples_leaf=4, max_features=sqrt, max_depth=15, bootstrap=True, total=   1.5s\n",
      "[CV] n_estimators=200, min_samples_split=2, min_samples_leaf=4, max_features=sqrt, max_depth=15, bootstrap=True \n",
      "[CV]  n_estimators=200, min_samples_split=2, min_samples_leaf=4, max_features=sqrt, max_depth=15, bootstrap=True, total=   1.5s\n",
      "[CV] n_estimators=200, min_samples_split=2, min_samples_leaf=4, max_features=sqrt, max_depth=15, bootstrap=True \n",
      "[CV]  n_estimators=200, min_samples_split=2, min_samples_leaf=4, max_features=sqrt, max_depth=15, bootstrap=True, total=   1.5s\n",
      "[CV] n_estimators=200, min_samples_split=2, min_samples_leaf=4, max_features=sqrt, max_depth=15, bootstrap=True \n",
      "[CV]  n_estimators=200, min_samples_split=2, min_samples_leaf=4, max_features=sqrt, max_depth=15, bootstrap=True, total=   1.4s\n",
      "[CV] n_estimators=1000, min_samples_split=5, min_samples_leaf=4, max_features=sqrt, max_depth=None, bootstrap=True \n"
     ]
    },
    {
     "name": "stdout",
     "output_type": "stream",
     "text": [
      "[CV]  n_estimators=1000, min_samples_split=5, min_samples_leaf=4, max_features=sqrt, max_depth=None, bootstrap=True, total=   7.2s\n",
      "[CV] n_estimators=1000, min_samples_split=5, min_samples_leaf=4, max_features=sqrt, max_depth=None, bootstrap=True \n",
      "[CV]  n_estimators=1000, min_samples_split=5, min_samples_leaf=4, max_features=sqrt, max_depth=None, bootstrap=True, total=   7.9s\n",
      "[CV] n_estimators=1000, min_samples_split=5, min_samples_leaf=4, max_features=sqrt, max_depth=None, bootstrap=True \n",
      "[CV]  n_estimators=1000, min_samples_split=5, min_samples_leaf=4, max_features=sqrt, max_depth=None, bootstrap=True, total=   7.8s\n",
      "[CV] n_estimators=1000, min_samples_split=5, min_samples_leaf=4, max_features=sqrt, max_depth=None, bootstrap=True \n",
      "[CV]  n_estimators=1000, min_samples_split=5, min_samples_leaf=4, max_features=sqrt, max_depth=None, bootstrap=True, total=   7.8s\n",
      "[CV] n_estimators=1000, min_samples_split=5, min_samples_leaf=4, max_features=sqrt, max_depth=None, bootstrap=True \n",
      "[CV]  n_estimators=1000, min_samples_split=5, min_samples_leaf=4, max_features=sqrt, max_depth=None, bootstrap=True, total=   7.5s\n",
      "[CV] n_estimators=600, min_samples_split=2, min_samples_leaf=2, max_features=sqrt, max_depth=36, bootstrap=False \n",
      "[CV]  n_estimators=600, min_samples_split=2, min_samples_leaf=2, max_features=sqrt, max_depth=36, bootstrap=False, total=   9.3s\n",
      "[CV] n_estimators=600, min_samples_split=2, min_samples_leaf=2, max_features=sqrt, max_depth=36, bootstrap=False \n",
      "[CV]  n_estimators=600, min_samples_split=2, min_samples_leaf=2, max_features=sqrt, max_depth=36, bootstrap=False, total=   7.9s\n",
      "[CV] n_estimators=600, min_samples_split=2, min_samples_leaf=2, max_features=sqrt, max_depth=36, bootstrap=False \n",
      "[CV]  n_estimators=600, min_samples_split=2, min_samples_leaf=2, max_features=sqrt, max_depth=36, bootstrap=False, total=   7.6s\n",
      "[CV] n_estimators=600, min_samples_split=2, min_samples_leaf=2, max_features=sqrt, max_depth=36, bootstrap=False \n",
      "[CV]  n_estimators=600, min_samples_split=2, min_samples_leaf=2, max_features=sqrt, max_depth=36, bootstrap=False, total=   7.5s\n",
      "[CV] n_estimators=600, min_samples_split=2, min_samples_leaf=2, max_features=sqrt, max_depth=36, bootstrap=False \n",
      "[CV]  n_estimators=600, min_samples_split=2, min_samples_leaf=2, max_features=sqrt, max_depth=36, bootstrap=False, total=   7.5s\n",
      "[CV] n_estimators=900, min_samples_split=10, min_samples_leaf=4, max_features=auto, max_depth=15, bootstrap=False \n",
      "[CV]  n_estimators=900, min_samples_split=10, min_samples_leaf=4, max_features=auto, max_depth=15, bootstrap=False, total=  10.5s\n",
      "[CV] n_estimators=900, min_samples_split=10, min_samples_leaf=4, max_features=auto, max_depth=15, bootstrap=False \n",
      "[CV]  n_estimators=900, min_samples_split=10, min_samples_leaf=4, max_features=auto, max_depth=15, bootstrap=False, total=  10.5s\n",
      "[CV] n_estimators=900, min_samples_split=10, min_samples_leaf=4, max_features=auto, max_depth=15, bootstrap=False \n",
      "[CV]  n_estimators=900, min_samples_split=10, min_samples_leaf=4, max_features=auto, max_depth=15, bootstrap=False, total=  10.4s\n",
      "[CV] n_estimators=900, min_samples_split=10, min_samples_leaf=4, max_features=auto, max_depth=15, bootstrap=False \n",
      "[CV]  n_estimators=900, min_samples_split=10, min_samples_leaf=4, max_features=auto, max_depth=15, bootstrap=False, total=  10.3s\n",
      "[CV] n_estimators=900, min_samples_split=10, min_samples_leaf=4, max_features=auto, max_depth=15, bootstrap=False \n",
      "[CV]  n_estimators=900, min_samples_split=10, min_samples_leaf=4, max_features=auto, max_depth=15, bootstrap=False, total=  10.0s\n",
      "[CV] n_estimators=200, min_samples_split=2, min_samples_leaf=4, max_features=sqrt, max_depth=5, bootstrap=False \n",
      "[CV]  n_estimators=200, min_samples_split=2, min_samples_leaf=4, max_features=sqrt, max_depth=5, bootstrap=False, total=   1.5s\n",
      "[CV] n_estimators=200, min_samples_split=2, min_samples_leaf=4, max_features=sqrt, max_depth=5, bootstrap=False \n",
      "[CV]  n_estimators=200, min_samples_split=2, min_samples_leaf=4, max_features=sqrt, max_depth=5, bootstrap=False, total=   1.6s\n",
      "[CV] n_estimators=200, min_samples_split=2, min_samples_leaf=4, max_features=sqrt, max_depth=5, bootstrap=False \n",
      "[CV]  n_estimators=200, min_samples_split=2, min_samples_leaf=4, max_features=sqrt, max_depth=5, bootstrap=False, total=   1.5s\n",
      "[CV] n_estimators=200, min_samples_split=2, min_samples_leaf=4, max_features=sqrt, max_depth=5, bootstrap=False \n",
      "[CV]  n_estimators=200, min_samples_split=2, min_samples_leaf=4, max_features=sqrt, max_depth=5, bootstrap=False, total=   1.5s\n",
      "[CV] n_estimators=200, min_samples_split=2, min_samples_leaf=4, max_features=sqrt, max_depth=5, bootstrap=False \n",
      "[CV]  n_estimators=200, min_samples_split=2, min_samples_leaf=4, max_features=sqrt, max_depth=5, bootstrap=False, total=   1.5s\n",
      "[CV] n_estimators=500, min_samples_split=2, min_samples_leaf=4, max_features=sqrt, max_depth=100, bootstrap=False \n",
      "[CV]  n_estimators=500, min_samples_split=2, min_samples_leaf=4, max_features=sqrt, max_depth=100, bootstrap=False, total=   6.2s\n",
      "[CV] n_estimators=500, min_samples_split=2, min_samples_leaf=4, max_features=sqrt, max_depth=100, bootstrap=False \n",
      "[CV]  n_estimators=500, min_samples_split=2, min_samples_leaf=4, max_features=sqrt, max_depth=100, bootstrap=False, total=   6.2s\n",
      "[CV] n_estimators=500, min_samples_split=2, min_samples_leaf=4, max_features=sqrt, max_depth=100, bootstrap=False \n",
      "[CV]  n_estimators=500, min_samples_split=2, min_samples_leaf=4, max_features=sqrt, max_depth=100, bootstrap=False, total=   6.1s\n",
      "[CV] n_estimators=500, min_samples_split=2, min_samples_leaf=4, max_features=sqrt, max_depth=100, bootstrap=False \n",
      "[CV]  n_estimators=500, min_samples_split=2, min_samples_leaf=4, max_features=sqrt, max_depth=100, bootstrap=False, total=   6.2s\n",
      "[CV] n_estimators=500, min_samples_split=2, min_samples_leaf=4, max_features=sqrt, max_depth=100, bootstrap=False \n",
      "[CV]  n_estimators=500, min_samples_split=2, min_samples_leaf=4, max_features=sqrt, max_depth=100, bootstrap=False, total=   5.8s\n",
      "[CV] n_estimators=600, min_samples_split=5, min_samples_leaf=2, max_features=sqrt, max_depth=5, bootstrap=False \n",
      "[CV]  n_estimators=600, min_samples_split=5, min_samples_leaf=2, max_features=sqrt, max_depth=5, bootstrap=False, total=   4.6s\n",
      "[CV] n_estimators=600, min_samples_split=5, min_samples_leaf=2, max_features=sqrt, max_depth=5, bootstrap=False \n",
      "[CV]  n_estimators=600, min_samples_split=5, min_samples_leaf=2, max_features=sqrt, max_depth=5, bootstrap=False, total=   4.0s\n",
      "[CV] n_estimators=600, min_samples_split=5, min_samples_leaf=2, max_features=sqrt, max_depth=5, bootstrap=False \n",
      "[CV]  n_estimators=600, min_samples_split=5, min_samples_leaf=2, max_features=sqrt, max_depth=5, bootstrap=False, total=   4.0s\n",
      "[CV] n_estimators=600, min_samples_split=5, min_samples_leaf=2, max_features=sqrt, max_depth=5, bootstrap=False \n",
      "[CV]  n_estimators=600, min_samples_split=5, min_samples_leaf=2, max_features=sqrt, max_depth=5, bootstrap=False, total=   3.9s\n",
      "[CV] n_estimators=600, min_samples_split=5, min_samples_leaf=2, max_features=sqrt, max_depth=5, bootstrap=False \n",
      "[CV]  n_estimators=600, min_samples_split=5, min_samples_leaf=2, max_features=sqrt, max_depth=5, bootstrap=False, total=   4.0s\n",
      "[CV] n_estimators=100, min_samples_split=2, min_samples_leaf=4, max_features=sqrt, max_depth=5, bootstrap=False \n",
      "[CV]  n_estimators=100, min_samples_split=2, min_samples_leaf=4, max_features=sqrt, max_depth=5, bootstrap=False, total=   0.8s\n",
      "[CV] n_estimators=100, min_samples_split=2, min_samples_leaf=4, max_features=sqrt, max_depth=5, bootstrap=False \n",
      "[CV]  n_estimators=100, min_samples_split=2, min_samples_leaf=4, max_features=sqrt, max_depth=5, bootstrap=False, total=   0.8s\n",
      "[CV] n_estimators=100, min_samples_split=2, min_samples_leaf=4, max_features=sqrt, max_depth=5, bootstrap=False \n",
      "[CV]  n_estimators=100, min_samples_split=2, min_samples_leaf=4, max_features=sqrt, max_depth=5, bootstrap=False, total=   0.9s\n",
      "[CV] n_estimators=100, min_samples_split=2, min_samples_leaf=4, max_features=sqrt, max_depth=5, bootstrap=False \n",
      "[CV]  n_estimators=100, min_samples_split=2, min_samples_leaf=4, max_features=sqrt, max_depth=5, bootstrap=False, total=   0.8s\n",
      "[CV] n_estimators=100, min_samples_split=2, min_samples_leaf=4, max_features=sqrt, max_depth=5, bootstrap=False \n"
     ]
    },
    {
     "name": "stdout",
     "output_type": "stream",
     "text": [
      "[CV]  n_estimators=100, min_samples_split=2, min_samples_leaf=4, max_features=sqrt, max_depth=5, bootstrap=False, total=   0.8s\n",
      "[CV] n_estimators=500, min_samples_split=2, min_samples_leaf=2, max_features=sqrt, max_depth=None, bootstrap=True \n",
      "[CV]  n_estimators=500, min_samples_split=2, min_samples_leaf=2, max_features=sqrt, max_depth=None, bootstrap=True, total=   4.4s\n",
      "[CV] n_estimators=500, min_samples_split=2, min_samples_leaf=2, max_features=sqrt, max_depth=None, bootstrap=True \n",
      "[CV]  n_estimators=500, min_samples_split=2, min_samples_leaf=2, max_features=sqrt, max_depth=None, bootstrap=True, total=   4.6s\n",
      "[CV] n_estimators=500, min_samples_split=2, min_samples_leaf=2, max_features=sqrt, max_depth=None, bootstrap=True \n",
      "[CV]  n_estimators=500, min_samples_split=2, min_samples_leaf=2, max_features=sqrt, max_depth=None, bootstrap=True, total=   4.6s\n",
      "[CV] n_estimators=500, min_samples_split=2, min_samples_leaf=2, max_features=sqrt, max_depth=None, bootstrap=True \n",
      "[CV]  n_estimators=500, min_samples_split=2, min_samples_leaf=2, max_features=sqrt, max_depth=None, bootstrap=True, total=   5.0s\n",
      "[CV] n_estimators=500, min_samples_split=2, min_samples_leaf=2, max_features=sqrt, max_depth=None, bootstrap=True \n",
      "[CV]  n_estimators=500, min_samples_split=2, min_samples_leaf=2, max_features=sqrt, max_depth=None, bootstrap=True, total=   4.8s\n",
      "[CV] n_estimators=500, min_samples_split=5, min_samples_leaf=4, max_features=auto, max_depth=100, bootstrap=False \n",
      "[CV]  n_estimators=500, min_samples_split=5, min_samples_leaf=4, max_features=auto, max_depth=100, bootstrap=False, total=   6.6s\n",
      "[CV] n_estimators=500, min_samples_split=5, min_samples_leaf=4, max_features=auto, max_depth=100, bootstrap=False \n",
      "[CV]  n_estimators=500, min_samples_split=5, min_samples_leaf=4, max_features=auto, max_depth=100, bootstrap=False, total=   6.4s\n",
      "[CV] n_estimators=500, min_samples_split=5, min_samples_leaf=4, max_features=auto, max_depth=100, bootstrap=False \n",
      "[CV]  n_estimators=500, min_samples_split=5, min_samples_leaf=4, max_features=auto, max_depth=100, bootstrap=False, total=   6.0s\n",
      "[CV] n_estimators=500, min_samples_split=5, min_samples_leaf=4, max_features=auto, max_depth=100, bootstrap=False \n",
      "[CV]  n_estimators=500, min_samples_split=5, min_samples_leaf=4, max_features=auto, max_depth=100, bootstrap=False, total=   6.7s\n",
      "[CV] n_estimators=500, min_samples_split=5, min_samples_leaf=4, max_features=auto, max_depth=100, bootstrap=False \n",
      "[CV]  n_estimators=500, min_samples_split=5, min_samples_leaf=4, max_features=auto, max_depth=100, bootstrap=False, total=   5.8s\n",
      "[CV] n_estimators=600, min_samples_split=10, min_samples_leaf=2, max_features=sqrt, max_depth=68, bootstrap=False \n",
      "[CV]  n_estimators=600, min_samples_split=10, min_samples_leaf=2, max_features=sqrt, max_depth=68, bootstrap=False, total=   8.2s\n",
      "[CV] n_estimators=600, min_samples_split=10, min_samples_leaf=2, max_features=sqrt, max_depth=68, bootstrap=False \n",
      "[CV]  n_estimators=600, min_samples_split=10, min_samples_leaf=2, max_features=sqrt, max_depth=68, bootstrap=False, total=   8.2s\n",
      "[CV] n_estimators=600, min_samples_split=10, min_samples_leaf=2, max_features=sqrt, max_depth=68, bootstrap=False \n",
      "[CV]  n_estimators=600, min_samples_split=10, min_samples_leaf=2, max_features=sqrt, max_depth=68, bootstrap=False, total=   8.0s\n",
      "[CV] n_estimators=600, min_samples_split=10, min_samples_leaf=2, max_features=sqrt, max_depth=68, bootstrap=False \n",
      "[CV]  n_estimators=600, min_samples_split=10, min_samples_leaf=2, max_features=sqrt, max_depth=68, bootstrap=False, total=   8.1s\n",
      "[CV] n_estimators=600, min_samples_split=10, min_samples_leaf=2, max_features=sqrt, max_depth=68, bootstrap=False \n",
      "[CV]  n_estimators=600, min_samples_split=10, min_samples_leaf=2, max_features=sqrt, max_depth=68, bootstrap=False, total=   8.0s\n",
      "[CV] n_estimators=600, min_samples_split=2, min_samples_leaf=2, max_features=auto, max_depth=5, bootstrap=False \n",
      "[CV]  n_estimators=600, min_samples_split=2, min_samples_leaf=2, max_features=auto, max_depth=5, bootstrap=False, total=   4.6s\n",
      "[CV] n_estimators=600, min_samples_split=2, min_samples_leaf=2, max_features=auto, max_depth=5, bootstrap=False \n",
      "[CV]  n_estimators=600, min_samples_split=2, min_samples_leaf=2, max_features=auto, max_depth=5, bootstrap=False, total=   4.6s\n",
      "[CV] n_estimators=600, min_samples_split=2, min_samples_leaf=2, max_features=auto, max_depth=5, bootstrap=False \n",
      "[CV]  n_estimators=600, min_samples_split=2, min_samples_leaf=2, max_features=auto, max_depth=5, bootstrap=False, total=   4.7s\n",
      "[CV] n_estimators=600, min_samples_split=2, min_samples_leaf=2, max_features=auto, max_depth=5, bootstrap=False \n",
      "[CV]  n_estimators=600, min_samples_split=2, min_samples_leaf=2, max_features=auto, max_depth=5, bootstrap=False, total=   4.5s\n",
      "[CV] n_estimators=600, min_samples_split=2, min_samples_leaf=2, max_features=auto, max_depth=5, bootstrap=False \n",
      "[CV]  n_estimators=600, min_samples_split=2, min_samples_leaf=2, max_features=auto, max_depth=5, bootstrap=False, total=   4.6s\n",
      "[CV] n_estimators=600, min_samples_split=2, min_samples_leaf=2, max_features=auto, max_depth=47, bootstrap=True \n",
      "[CV]  n_estimators=600, min_samples_split=2, min_samples_leaf=2, max_features=auto, max_depth=47, bootstrap=True, total=   6.2s\n",
      "[CV] n_estimators=600, min_samples_split=2, min_samples_leaf=2, max_features=auto, max_depth=47, bootstrap=True \n",
      "[CV]  n_estimators=600, min_samples_split=2, min_samples_leaf=2, max_features=auto, max_depth=47, bootstrap=True, total=   5.8s\n",
      "[CV] n_estimators=600, min_samples_split=2, min_samples_leaf=2, max_features=auto, max_depth=47, bootstrap=True \n",
      "[CV]  n_estimators=600, min_samples_split=2, min_samples_leaf=2, max_features=auto, max_depth=47, bootstrap=True, total=   5.4s\n",
      "[CV] n_estimators=600, min_samples_split=2, min_samples_leaf=2, max_features=auto, max_depth=47, bootstrap=True \n",
      "[CV]  n_estimators=600, min_samples_split=2, min_samples_leaf=2, max_features=auto, max_depth=47, bootstrap=True, total=   5.8s\n",
      "[CV] n_estimators=600, min_samples_split=2, min_samples_leaf=2, max_features=auto, max_depth=47, bootstrap=True \n",
      "[CV]  n_estimators=600, min_samples_split=2, min_samples_leaf=2, max_features=auto, max_depth=47, bootstrap=True, total=   5.5s\n",
      "[CV] n_estimators=200, min_samples_split=5, min_samples_leaf=2, max_features=auto, max_depth=15, bootstrap=False \n",
      "[CV]  n_estimators=200, min_samples_split=5, min_samples_leaf=2, max_features=auto, max_depth=15, bootstrap=False, total=   2.9s\n",
      "[CV] n_estimators=200, min_samples_split=5, min_samples_leaf=2, max_features=auto, max_depth=15, bootstrap=False \n",
      "[CV]  n_estimators=200, min_samples_split=5, min_samples_leaf=2, max_features=auto, max_depth=15, bootstrap=False, total=   2.9s\n",
      "[CV] n_estimators=200, min_samples_split=5, min_samples_leaf=2, max_features=auto, max_depth=15, bootstrap=False \n",
      "[CV]  n_estimators=200, min_samples_split=5, min_samples_leaf=2, max_features=auto, max_depth=15, bootstrap=False, total=   2.8s\n",
      "[CV] n_estimators=200, min_samples_split=5, min_samples_leaf=2, max_features=auto, max_depth=15, bootstrap=False \n",
      "[CV]  n_estimators=200, min_samples_split=5, min_samples_leaf=2, max_features=auto, max_depth=15, bootstrap=False, total=   2.9s\n",
      "[CV] n_estimators=200, min_samples_split=5, min_samples_leaf=2, max_features=auto, max_depth=15, bootstrap=False \n",
      "[CV]  n_estimators=200, min_samples_split=5, min_samples_leaf=2, max_features=auto, max_depth=15, bootstrap=False, total=   2.7s\n",
      "[CV] n_estimators=700, min_samples_split=2, min_samples_leaf=4, max_features=sqrt, max_depth=89, bootstrap=True \n",
      "[CV]  n_estimators=700, min_samples_split=2, min_samples_leaf=4, max_features=sqrt, max_depth=89, bootstrap=True, total=   5.0s\n",
      "[CV] n_estimators=700, min_samples_split=2, min_samples_leaf=4, max_features=sqrt, max_depth=89, bootstrap=True \n",
      "[CV]  n_estimators=700, min_samples_split=2, min_samples_leaf=4, max_features=sqrt, max_depth=89, bootstrap=True, total=   5.6s\n",
      "[CV] n_estimators=700, min_samples_split=2, min_samples_leaf=4, max_features=sqrt, max_depth=89, bootstrap=True \n",
      "[CV]  n_estimators=700, min_samples_split=2, min_samples_leaf=4, max_features=sqrt, max_depth=89, bootstrap=True, total=   5.6s\n",
      "[CV] n_estimators=700, min_samples_split=2, min_samples_leaf=4, max_features=sqrt, max_depth=89, bootstrap=True \n"
     ]
    },
    {
     "name": "stdout",
     "output_type": "stream",
     "text": [
      "[CV]  n_estimators=700, min_samples_split=2, min_samples_leaf=4, max_features=sqrt, max_depth=89, bootstrap=True, total=   5.5s\n",
      "[CV] n_estimators=700, min_samples_split=2, min_samples_leaf=4, max_features=sqrt, max_depth=89, bootstrap=True \n",
      "[CV]  n_estimators=700, min_samples_split=2, min_samples_leaf=4, max_features=sqrt, max_depth=89, bootstrap=True, total=   5.3s\n",
      "[CV] n_estimators=100, min_samples_split=10, min_samples_leaf=4, max_features=auto, max_depth=36, bootstrap=True \n",
      "[CV]  n_estimators=100, min_samples_split=10, min_samples_leaf=4, max_features=auto, max_depth=36, bootstrap=True, total=   0.8s\n",
      "[CV] n_estimators=100, min_samples_split=10, min_samples_leaf=4, max_features=auto, max_depth=36, bootstrap=True \n",
      "[CV]  n_estimators=100, min_samples_split=10, min_samples_leaf=4, max_features=auto, max_depth=36, bootstrap=True, total=   0.8s\n",
      "[CV] n_estimators=100, min_samples_split=10, min_samples_leaf=4, max_features=auto, max_depth=36, bootstrap=True \n",
      "[CV]  n_estimators=100, min_samples_split=10, min_samples_leaf=4, max_features=auto, max_depth=36, bootstrap=True, total=   0.8s\n",
      "[CV] n_estimators=100, min_samples_split=10, min_samples_leaf=4, max_features=auto, max_depth=36, bootstrap=True \n",
      "[CV]  n_estimators=100, min_samples_split=10, min_samples_leaf=4, max_features=auto, max_depth=36, bootstrap=True, total=   0.8s\n",
      "[CV] n_estimators=100, min_samples_split=10, min_samples_leaf=4, max_features=auto, max_depth=36, bootstrap=True \n",
      "[CV]  n_estimators=100, min_samples_split=10, min_samples_leaf=4, max_features=auto, max_depth=36, bootstrap=True, total=   0.8s\n",
      "[CV] n_estimators=400, min_samples_split=5, min_samples_leaf=2, max_features=auto, max_depth=None, bootstrap=True \n",
      "[CV]  n_estimators=400, min_samples_split=5, min_samples_leaf=2, max_features=auto, max_depth=None, bootstrap=True, total=   3.4s\n",
      "[CV] n_estimators=400, min_samples_split=5, min_samples_leaf=2, max_features=auto, max_depth=None, bootstrap=True \n",
      "[CV]  n_estimators=400, min_samples_split=5, min_samples_leaf=2, max_features=auto, max_depth=None, bootstrap=True, total=   3.8s\n",
      "[CV] n_estimators=400, min_samples_split=5, min_samples_leaf=2, max_features=auto, max_depth=None, bootstrap=True \n",
      "[CV]  n_estimators=400, min_samples_split=5, min_samples_leaf=2, max_features=auto, max_depth=None, bootstrap=True, total=   3.5s\n",
      "[CV] n_estimators=400, min_samples_split=5, min_samples_leaf=2, max_features=auto, max_depth=None, bootstrap=True \n",
      "[CV]  n_estimators=400, min_samples_split=5, min_samples_leaf=2, max_features=auto, max_depth=None, bootstrap=True, total=   3.8s\n",
      "[CV] n_estimators=400, min_samples_split=5, min_samples_leaf=2, max_features=auto, max_depth=None, bootstrap=True \n",
      "[CV]  n_estimators=400, min_samples_split=5, min_samples_leaf=2, max_features=auto, max_depth=None, bootstrap=True, total=   3.6s\n",
      "[CV] n_estimators=100, min_samples_split=5, min_samples_leaf=4, max_features=auto, max_depth=None, bootstrap=False \n",
      "[CV]  n_estimators=100, min_samples_split=5, min_samples_leaf=4, max_features=auto, max_depth=None, bootstrap=False, total=   1.3s\n",
      "[CV] n_estimators=100, min_samples_split=5, min_samples_leaf=4, max_features=auto, max_depth=None, bootstrap=False \n",
      "[CV]  n_estimators=100, min_samples_split=5, min_samples_leaf=4, max_features=auto, max_depth=None, bootstrap=False, total=   1.4s\n",
      "[CV] n_estimators=100, min_samples_split=5, min_samples_leaf=4, max_features=auto, max_depth=None, bootstrap=False \n",
      "[CV]  n_estimators=100, min_samples_split=5, min_samples_leaf=4, max_features=auto, max_depth=None, bootstrap=False, total=   1.4s\n",
      "[CV] n_estimators=100, min_samples_split=5, min_samples_leaf=4, max_features=auto, max_depth=None, bootstrap=False \n",
      "[CV]  n_estimators=100, min_samples_split=5, min_samples_leaf=4, max_features=auto, max_depth=None, bootstrap=False, total=   1.3s\n",
      "[CV] n_estimators=100, min_samples_split=5, min_samples_leaf=4, max_features=auto, max_depth=None, bootstrap=False \n",
      "[CV]  n_estimators=100, min_samples_split=5, min_samples_leaf=4, max_features=auto, max_depth=None, bootstrap=False, total=   1.3s\n",
      "[CV] n_estimators=100, min_samples_split=2, min_samples_leaf=2, max_features=sqrt, max_depth=36, bootstrap=False \n",
      "[CV]  n_estimators=100, min_samples_split=2, min_samples_leaf=2, max_features=sqrt, max_depth=36, bootstrap=False, total=   1.7s\n",
      "[CV] n_estimators=100, min_samples_split=2, min_samples_leaf=2, max_features=sqrt, max_depth=36, bootstrap=False \n",
      "[CV]  n_estimators=100, min_samples_split=2, min_samples_leaf=2, max_features=sqrt, max_depth=36, bootstrap=False, total=   1.6s\n",
      "[CV] n_estimators=100, min_samples_split=2, min_samples_leaf=2, max_features=sqrt, max_depth=36, bootstrap=False \n",
      "[CV]  n_estimators=100, min_samples_split=2, min_samples_leaf=2, max_features=sqrt, max_depth=36, bootstrap=False, total=   1.6s\n",
      "[CV] n_estimators=100, min_samples_split=2, min_samples_leaf=2, max_features=sqrt, max_depth=36, bootstrap=False \n",
      "[CV]  n_estimators=100, min_samples_split=2, min_samples_leaf=2, max_features=sqrt, max_depth=36, bootstrap=False, total=   1.8s\n",
      "[CV] n_estimators=100, min_samples_split=2, min_samples_leaf=2, max_features=sqrt, max_depth=36, bootstrap=False \n",
      "[CV]  n_estimators=100, min_samples_split=2, min_samples_leaf=2, max_features=sqrt, max_depth=36, bootstrap=False, total=   1.8s\n",
      "[CV] n_estimators=1000, min_samples_split=10, min_samples_leaf=4, max_features=auto, max_depth=100, bootstrap=False \n",
      "[CV]  n_estimators=1000, min_samples_split=10, min_samples_leaf=4, max_features=auto, max_depth=100, bootstrap=False, total=  12.2s\n",
      "[CV] n_estimators=1000, min_samples_split=10, min_samples_leaf=4, max_features=auto, max_depth=100, bootstrap=False \n",
      "[CV]  n_estimators=1000, min_samples_split=10, min_samples_leaf=4, max_features=auto, max_depth=100, bootstrap=False, total=  12.2s\n",
      "[CV] n_estimators=1000, min_samples_split=10, min_samples_leaf=4, max_features=auto, max_depth=100, bootstrap=False \n",
      "[CV]  n_estimators=1000, min_samples_split=10, min_samples_leaf=4, max_features=auto, max_depth=100, bootstrap=False, total=  12.0s\n",
      "[CV] n_estimators=1000, min_samples_split=10, min_samples_leaf=4, max_features=auto, max_depth=100, bootstrap=False \n",
      "[CV]  n_estimators=1000, min_samples_split=10, min_samples_leaf=4, max_features=auto, max_depth=100, bootstrap=False, total=  12.6s\n",
      "[CV] n_estimators=1000, min_samples_split=10, min_samples_leaf=4, max_features=auto, max_depth=100, bootstrap=False \n",
      "[CV]  n_estimators=1000, min_samples_split=10, min_samples_leaf=4, max_features=auto, max_depth=100, bootstrap=False, total=  11.5s\n",
      "[CV] n_estimators=500, min_samples_split=5, min_samples_leaf=4, max_features=sqrt, max_depth=36, bootstrap=True \n",
      "[CV]  n_estimators=500, min_samples_split=5, min_samples_leaf=4, max_features=sqrt, max_depth=36, bootstrap=True, total=   4.0s\n",
      "[CV] n_estimators=500, min_samples_split=5, min_samples_leaf=4, max_features=sqrt, max_depth=36, bootstrap=True \n",
      "[CV]  n_estimators=500, min_samples_split=5, min_samples_leaf=4, max_features=sqrt, max_depth=36, bootstrap=True, total=   3.6s\n",
      "[CV] n_estimators=500, min_samples_split=5, min_samples_leaf=4, max_features=sqrt, max_depth=36, bootstrap=True \n",
      "[CV]  n_estimators=500, min_samples_split=5, min_samples_leaf=4, max_features=sqrt, max_depth=36, bootstrap=True, total=   3.9s\n",
      "[CV] n_estimators=500, min_samples_split=5, min_samples_leaf=4, max_features=sqrt, max_depth=36, bootstrap=True \n",
      "[CV]  n_estimators=500, min_samples_split=5, min_samples_leaf=4, max_features=sqrt, max_depth=36, bootstrap=True, total=   3.6s\n",
      "[CV] n_estimators=500, min_samples_split=5, min_samples_leaf=4, max_features=sqrt, max_depth=36, bootstrap=True \n",
      "[CV]  n_estimators=500, min_samples_split=5, min_samples_leaf=4, max_features=sqrt, max_depth=36, bootstrap=True, total=   3.4s\n",
      "[CV] n_estimators=700, min_samples_split=10, min_samples_leaf=2, max_features=sqrt, max_depth=36, bootstrap=False \n",
      "[CV]  n_estimators=700, min_samples_split=10, min_samples_leaf=2, max_features=sqrt, max_depth=36, bootstrap=False, total=   9.7s\n",
      "[CV] n_estimators=700, min_samples_split=10, min_samples_leaf=2, max_features=sqrt, max_depth=36, bootstrap=False \n",
      "[CV]  n_estimators=700, min_samples_split=10, min_samples_leaf=2, max_features=sqrt, max_depth=36, bootstrap=False, total=   9.9s\n",
      "[CV] n_estimators=700, min_samples_split=10, min_samples_leaf=2, max_features=sqrt, max_depth=36, bootstrap=False \n"
     ]
    },
    {
     "name": "stdout",
     "output_type": "stream",
     "text": [
      "[CV]  n_estimators=700, min_samples_split=10, min_samples_leaf=2, max_features=sqrt, max_depth=36, bootstrap=False, total=   9.6s\n",
      "[CV] n_estimators=700, min_samples_split=10, min_samples_leaf=2, max_features=sqrt, max_depth=36, bootstrap=False \n",
      "[CV]  n_estimators=700, min_samples_split=10, min_samples_leaf=2, max_features=sqrt, max_depth=36, bootstrap=False, total=   9.5s\n",
      "[CV] n_estimators=700, min_samples_split=10, min_samples_leaf=2, max_features=sqrt, max_depth=36, bootstrap=False \n",
      "[CV]  n_estimators=700, min_samples_split=10, min_samples_leaf=2, max_features=sqrt, max_depth=36, bootstrap=False, total=   8.8s\n",
      "[CV] n_estimators=300, min_samples_split=5, min_samples_leaf=4, max_features=sqrt, max_depth=47, bootstrap=True \n",
      "[CV]  n_estimators=300, min_samples_split=5, min_samples_leaf=4, max_features=sqrt, max_depth=47, bootstrap=True, total=   2.2s\n",
      "[CV] n_estimators=300, min_samples_split=5, min_samples_leaf=4, max_features=sqrt, max_depth=47, bootstrap=True \n",
      "[CV]  n_estimators=300, min_samples_split=5, min_samples_leaf=4, max_features=sqrt, max_depth=47, bootstrap=True, total=   2.2s\n",
      "[CV] n_estimators=300, min_samples_split=5, min_samples_leaf=4, max_features=sqrt, max_depth=47, bootstrap=True \n",
      "[CV]  n_estimators=300, min_samples_split=5, min_samples_leaf=4, max_features=sqrt, max_depth=47, bootstrap=True, total=   2.2s\n",
      "[CV] n_estimators=300, min_samples_split=5, min_samples_leaf=4, max_features=sqrt, max_depth=47, bootstrap=True \n",
      "[CV]  n_estimators=300, min_samples_split=5, min_samples_leaf=4, max_features=sqrt, max_depth=47, bootstrap=True, total=   2.2s\n",
      "[CV] n_estimators=300, min_samples_split=5, min_samples_leaf=4, max_features=sqrt, max_depth=47, bootstrap=True \n",
      "[CV]  n_estimators=300, min_samples_split=5, min_samples_leaf=4, max_features=sqrt, max_depth=47, bootstrap=True, total=   2.1s\n",
      "[CV] n_estimators=100, min_samples_split=10, min_samples_leaf=2, max_features=sqrt, max_depth=68, bootstrap=False \n",
      "[CV]  n_estimators=100, min_samples_split=10, min_samples_leaf=2, max_features=sqrt, max_depth=68, bootstrap=False, total=   1.5s\n",
      "[CV] n_estimators=100, min_samples_split=10, min_samples_leaf=2, max_features=sqrt, max_depth=68, bootstrap=False \n",
      "[CV]  n_estimators=100, min_samples_split=10, min_samples_leaf=2, max_features=sqrt, max_depth=68, bootstrap=False, total=   1.5s\n",
      "[CV] n_estimators=100, min_samples_split=10, min_samples_leaf=2, max_features=sqrt, max_depth=68, bootstrap=False \n",
      "[CV]  n_estimators=100, min_samples_split=10, min_samples_leaf=2, max_features=sqrt, max_depth=68, bootstrap=False, total=   1.4s\n",
      "[CV] n_estimators=100, min_samples_split=10, min_samples_leaf=2, max_features=sqrt, max_depth=68, bootstrap=False \n",
      "[CV]  n_estimators=100, min_samples_split=10, min_samples_leaf=2, max_features=sqrt, max_depth=68, bootstrap=False, total=   1.4s\n",
      "[CV] n_estimators=100, min_samples_split=10, min_samples_leaf=2, max_features=sqrt, max_depth=68, bootstrap=False \n",
      "[CV]  n_estimators=100, min_samples_split=10, min_samples_leaf=2, max_features=sqrt, max_depth=68, bootstrap=False, total=   1.4s\n",
      "[CV] n_estimators=100, min_samples_split=5, min_samples_leaf=2, max_features=sqrt, max_depth=36, bootstrap=True \n",
      "[CV]  n_estimators=100, min_samples_split=5, min_samples_leaf=2, max_features=sqrt, max_depth=36, bootstrap=True, total=   1.0s\n",
      "[CV] n_estimators=100, min_samples_split=5, min_samples_leaf=2, max_features=sqrt, max_depth=36, bootstrap=True \n",
      "[CV]  n_estimators=100, min_samples_split=5, min_samples_leaf=2, max_features=sqrt, max_depth=36, bootstrap=True, total=   1.0s\n",
      "[CV] n_estimators=100, min_samples_split=5, min_samples_leaf=2, max_features=sqrt, max_depth=36, bootstrap=True \n",
      "[CV]  n_estimators=100, min_samples_split=5, min_samples_leaf=2, max_features=sqrt, max_depth=36, bootstrap=True, total=   1.0s\n",
      "[CV] n_estimators=100, min_samples_split=5, min_samples_leaf=2, max_features=sqrt, max_depth=36, bootstrap=True \n",
      "[CV]  n_estimators=100, min_samples_split=5, min_samples_leaf=2, max_features=sqrt, max_depth=36, bootstrap=True, total=   1.0s\n",
      "[CV] n_estimators=100, min_samples_split=5, min_samples_leaf=2, max_features=sqrt, max_depth=36, bootstrap=True \n",
      "[CV]  n_estimators=100, min_samples_split=5, min_samples_leaf=2, max_features=sqrt, max_depth=36, bootstrap=True, total=   1.0s\n",
      "[CV] n_estimators=800, min_samples_split=5, min_samples_leaf=2, max_features=auto, max_depth=78, bootstrap=False \n",
      "[CV]  n_estimators=800, min_samples_split=5, min_samples_leaf=2, max_features=auto, max_depth=78, bootstrap=False, total=  11.9s\n",
      "[CV] n_estimators=800, min_samples_split=5, min_samples_leaf=2, max_features=auto, max_depth=78, bootstrap=False \n",
      "[CV]  n_estimators=800, min_samples_split=5, min_samples_leaf=2, max_features=auto, max_depth=78, bootstrap=False, total=  12.1s\n",
      "[CV] n_estimators=800, min_samples_split=5, min_samples_leaf=2, max_features=auto, max_depth=78, bootstrap=False \n",
      "[CV]  n_estimators=800, min_samples_split=5, min_samples_leaf=2, max_features=auto, max_depth=78, bootstrap=False, total=  11.9s\n",
      "[CV] n_estimators=800, min_samples_split=5, min_samples_leaf=2, max_features=auto, max_depth=78, bootstrap=False \n",
      "[CV]  n_estimators=800, min_samples_split=5, min_samples_leaf=2, max_features=auto, max_depth=78, bootstrap=False, total=  11.8s\n",
      "[CV] n_estimators=800, min_samples_split=5, min_samples_leaf=2, max_features=auto, max_depth=78, bootstrap=False \n",
      "[CV]  n_estimators=800, min_samples_split=5, min_samples_leaf=2, max_features=auto, max_depth=78, bootstrap=False, total=  11.1s\n",
      "[CV] n_estimators=600, min_samples_split=10, min_samples_leaf=4, max_features=auto, max_depth=5, bootstrap=False \n",
      "[CV]  n_estimators=600, min_samples_split=10, min_samples_leaf=4, max_features=auto, max_depth=5, bootstrap=False, total=   4.4s\n",
      "[CV] n_estimators=600, min_samples_split=10, min_samples_leaf=4, max_features=auto, max_depth=5, bootstrap=False \n",
      "[CV]  n_estimators=600, min_samples_split=10, min_samples_leaf=4, max_features=auto, max_depth=5, bootstrap=False, total=   4.4s\n",
      "[CV] n_estimators=600, min_samples_split=10, min_samples_leaf=4, max_features=auto, max_depth=5, bootstrap=False \n",
      "[CV]  n_estimators=600, min_samples_split=10, min_samples_leaf=4, max_features=auto, max_depth=5, bootstrap=False, total=   4.2s\n",
      "[CV] n_estimators=600, min_samples_split=10, min_samples_leaf=4, max_features=auto, max_depth=5, bootstrap=False \n",
      "[CV]  n_estimators=600, min_samples_split=10, min_samples_leaf=4, max_features=auto, max_depth=5, bootstrap=False, total=   4.3s\n",
      "[CV] n_estimators=600, min_samples_split=10, min_samples_leaf=4, max_features=auto, max_depth=5, bootstrap=False \n",
      "[CV]  n_estimators=600, min_samples_split=10, min_samples_leaf=4, max_features=auto, max_depth=5, bootstrap=False, total=   4.3s\n",
      "[CV] n_estimators=1000, min_samples_split=2, min_samples_leaf=4, max_features=sqrt, max_depth=57, bootstrap=False \n",
      "[CV]  n_estimators=1000, min_samples_split=2, min_samples_leaf=4, max_features=sqrt, max_depth=57, bootstrap=False, total=  12.6s\n",
      "[CV] n_estimators=1000, min_samples_split=2, min_samples_leaf=4, max_features=sqrt, max_depth=57, bootstrap=False \n",
      "[CV]  n_estimators=1000, min_samples_split=2, min_samples_leaf=4, max_features=sqrt, max_depth=57, bootstrap=False, total=  12.6s\n",
      "[CV] n_estimators=1000, min_samples_split=2, min_samples_leaf=4, max_features=sqrt, max_depth=57, bootstrap=False \n",
      "[CV]  n_estimators=1000, min_samples_split=2, min_samples_leaf=4, max_features=sqrt, max_depth=57, bootstrap=False, total=  12.5s\n",
      "[CV] n_estimators=1000, min_samples_split=2, min_samples_leaf=4, max_features=sqrt, max_depth=57, bootstrap=False \n",
      "[CV]  n_estimators=1000, min_samples_split=2, min_samples_leaf=4, max_features=sqrt, max_depth=57, bootstrap=False, total=  12.5s\n",
      "[CV] n_estimators=1000, min_samples_split=2, min_samples_leaf=4, max_features=sqrt, max_depth=57, bootstrap=False \n",
      "[CV]  n_estimators=1000, min_samples_split=2, min_samples_leaf=4, max_features=sqrt, max_depth=57, bootstrap=False, total=  11.8s\n",
      "[CV] n_estimators=200, min_samples_split=2, min_samples_leaf=2, max_features=auto, max_depth=78, bootstrap=False \n",
      "[CV]  n_estimators=200, min_samples_split=2, min_samples_leaf=2, max_features=auto, max_depth=78, bootstrap=False, total=   3.2s\n",
      "[CV] n_estimators=200, min_samples_split=2, min_samples_leaf=2, max_features=auto, max_depth=78, bootstrap=False \n"
     ]
    },
    {
     "name": "stdout",
     "output_type": "stream",
     "text": [
      "[CV]  n_estimators=200, min_samples_split=2, min_samples_leaf=2, max_features=auto, max_depth=78, bootstrap=False, total=   3.2s\n",
      "[CV] n_estimators=200, min_samples_split=2, min_samples_leaf=2, max_features=auto, max_depth=78, bootstrap=False \n",
      "[CV]  n_estimators=200, min_samples_split=2, min_samples_leaf=2, max_features=auto, max_depth=78, bootstrap=False, total=   3.1s\n",
      "[CV] n_estimators=200, min_samples_split=2, min_samples_leaf=2, max_features=auto, max_depth=78, bootstrap=False \n",
      "[CV]  n_estimators=200, min_samples_split=2, min_samples_leaf=2, max_features=auto, max_depth=78, bootstrap=False, total=   3.1s\n",
      "[CV] n_estimators=200, min_samples_split=2, min_samples_leaf=2, max_features=auto, max_depth=78, bootstrap=False \n",
      "[CV]  n_estimators=200, min_samples_split=2, min_samples_leaf=2, max_features=auto, max_depth=78, bootstrap=False, total=   3.0s\n",
      "[CV] n_estimators=700, min_samples_split=10, min_samples_leaf=4, max_features=auto, max_depth=5, bootstrap=True \n",
      "[CV]  n_estimators=700, min_samples_split=10, min_samples_leaf=4, max_features=auto, max_depth=5, bootstrap=True, total=   3.5s\n",
      "[CV] n_estimators=700, min_samples_split=10, min_samples_leaf=4, max_features=auto, max_depth=5, bootstrap=True \n",
      "[CV]  n_estimators=700, min_samples_split=10, min_samples_leaf=4, max_features=auto, max_depth=5, bootstrap=True, total=   3.5s\n",
      "[CV] n_estimators=700, min_samples_split=10, min_samples_leaf=4, max_features=auto, max_depth=5, bootstrap=True \n",
      "[CV]  n_estimators=700, min_samples_split=10, min_samples_leaf=4, max_features=auto, max_depth=5, bootstrap=True, total=   3.3s\n",
      "[CV] n_estimators=700, min_samples_split=10, min_samples_leaf=4, max_features=auto, max_depth=5, bootstrap=True \n",
      "[CV]  n_estimators=700, min_samples_split=10, min_samples_leaf=4, max_features=auto, max_depth=5, bootstrap=True, total=   3.7s\n",
      "[CV] n_estimators=700, min_samples_split=10, min_samples_leaf=4, max_features=auto, max_depth=5, bootstrap=True \n",
      "[CV]  n_estimators=700, min_samples_split=10, min_samples_leaf=4, max_features=auto, max_depth=5, bootstrap=True, total=   3.5s\n",
      "[CV] n_estimators=600, min_samples_split=5, min_samples_leaf=4, max_features=auto, max_depth=57, bootstrap=False \n",
      "[CV]  n_estimators=600, min_samples_split=5, min_samples_leaf=4, max_features=auto, max_depth=57, bootstrap=False, total=   7.6s\n",
      "[CV] n_estimators=600, min_samples_split=5, min_samples_leaf=4, max_features=auto, max_depth=57, bootstrap=False \n",
      "[CV]  n_estimators=600, min_samples_split=5, min_samples_leaf=4, max_features=auto, max_depth=57, bootstrap=False, total=   7.5s\n",
      "[CV] n_estimators=600, min_samples_split=5, min_samples_leaf=4, max_features=auto, max_depth=57, bootstrap=False \n",
      "[CV]  n_estimators=600, min_samples_split=5, min_samples_leaf=4, max_features=auto, max_depth=57, bootstrap=False, total=   7.3s\n",
      "[CV] n_estimators=600, min_samples_split=5, min_samples_leaf=4, max_features=auto, max_depth=57, bootstrap=False \n",
      "[CV]  n_estimators=600, min_samples_split=5, min_samples_leaf=4, max_features=auto, max_depth=57, bootstrap=False, total=   7.5s\n",
      "[CV] n_estimators=600, min_samples_split=5, min_samples_leaf=4, max_features=auto, max_depth=57, bootstrap=False \n",
      "[CV]  n_estimators=600, min_samples_split=5, min_samples_leaf=4, max_features=auto, max_depth=57, bootstrap=False, total=   7.0s\n",
      "[CV] n_estimators=400, min_samples_split=2, min_samples_leaf=4, max_features=auto, max_depth=100, bootstrap=True \n",
      "[CV]  n_estimators=400, min_samples_split=2, min_samples_leaf=4, max_features=auto, max_depth=100, bootstrap=True, total=   2.9s\n",
      "[CV] n_estimators=400, min_samples_split=2, min_samples_leaf=4, max_features=auto, max_depth=100, bootstrap=True \n",
      "[CV]  n_estimators=400, min_samples_split=2, min_samples_leaf=4, max_features=auto, max_depth=100, bootstrap=True, total=   3.3s\n",
      "[CV] n_estimators=400, min_samples_split=2, min_samples_leaf=4, max_features=auto, max_depth=100, bootstrap=True \n",
      "[CV]  n_estimators=400, min_samples_split=2, min_samples_leaf=4, max_features=auto, max_depth=100, bootstrap=True, total=   3.2s\n",
      "[CV] n_estimators=400, min_samples_split=2, min_samples_leaf=4, max_features=auto, max_depth=100, bootstrap=True \n",
      "[CV]  n_estimators=400, min_samples_split=2, min_samples_leaf=4, max_features=auto, max_depth=100, bootstrap=True, total=   3.0s\n",
      "[CV] n_estimators=400, min_samples_split=2, min_samples_leaf=4, max_features=auto, max_depth=100, bootstrap=True \n",
      "[CV]  n_estimators=400, min_samples_split=2, min_samples_leaf=4, max_features=auto, max_depth=100, bootstrap=True, total=   2.8s\n",
      "[CV] n_estimators=600, min_samples_split=5, min_samples_leaf=4, max_features=sqrt, max_depth=57, bootstrap=True \n",
      "[CV]  n_estimators=600, min_samples_split=5, min_samples_leaf=4, max_features=sqrt, max_depth=57, bootstrap=True, total=   4.8s\n",
      "[CV] n_estimators=600, min_samples_split=5, min_samples_leaf=4, max_features=sqrt, max_depth=57, bootstrap=True \n",
      "[CV]  n_estimators=600, min_samples_split=5, min_samples_leaf=4, max_features=sqrt, max_depth=57, bootstrap=True, total=   4.8s\n",
      "[CV] n_estimators=600, min_samples_split=5, min_samples_leaf=4, max_features=sqrt, max_depth=57, bootstrap=True \n",
      "[CV]  n_estimators=600, min_samples_split=5, min_samples_leaf=4, max_features=sqrt, max_depth=57, bootstrap=True, total=   4.7s\n",
      "[CV] n_estimators=600, min_samples_split=5, min_samples_leaf=4, max_features=sqrt, max_depth=57, bootstrap=True \n",
      "[CV]  n_estimators=600, min_samples_split=5, min_samples_leaf=4, max_features=sqrt, max_depth=57, bootstrap=True, total=   4.7s\n",
      "[CV] n_estimators=600, min_samples_split=5, min_samples_leaf=4, max_features=sqrt, max_depth=57, bootstrap=True \n",
      "[CV]  n_estimators=600, min_samples_split=5, min_samples_leaf=4, max_features=sqrt, max_depth=57, bootstrap=True, total=   4.4s\n",
      "[CV] n_estimators=600, min_samples_split=5, min_samples_leaf=4, max_features=sqrt, max_depth=57, bootstrap=False \n",
      "[CV]  n_estimators=600, min_samples_split=5, min_samples_leaf=4, max_features=sqrt, max_depth=57, bootstrap=False, total=   7.7s\n",
      "[CV] n_estimators=600, min_samples_split=5, min_samples_leaf=4, max_features=sqrt, max_depth=57, bootstrap=False \n",
      "[CV]  n_estimators=600, min_samples_split=5, min_samples_leaf=4, max_features=sqrt, max_depth=57, bootstrap=False, total=   7.5s\n",
      "[CV] n_estimators=600, min_samples_split=5, min_samples_leaf=4, max_features=sqrt, max_depth=57, bootstrap=False \n",
      "[CV]  n_estimators=600, min_samples_split=5, min_samples_leaf=4, max_features=sqrt, max_depth=57, bootstrap=False, total=   7.4s\n",
      "[CV] n_estimators=600, min_samples_split=5, min_samples_leaf=4, max_features=sqrt, max_depth=57, bootstrap=False \n",
      "[CV]  n_estimators=600, min_samples_split=5, min_samples_leaf=4, max_features=sqrt, max_depth=57, bootstrap=False, total=   7.5s\n",
      "[CV] n_estimators=600, min_samples_split=5, min_samples_leaf=4, max_features=sqrt, max_depth=57, bootstrap=False \n",
      "[CV]  n_estimators=600, min_samples_split=5, min_samples_leaf=4, max_features=sqrt, max_depth=57, bootstrap=False, total=   7.0s\n",
      "[CV] n_estimators=600, min_samples_split=2, min_samples_leaf=2, max_features=auto, max_depth=47, bootstrap=False \n",
      "[CV]  n_estimators=600, min_samples_split=2, min_samples_leaf=2, max_features=auto, max_depth=47, bootstrap=False, total=   9.2s\n",
      "[CV] n_estimators=600, min_samples_split=2, min_samples_leaf=2, max_features=auto, max_depth=47, bootstrap=False \n",
      "[CV]  n_estimators=600, min_samples_split=2, min_samples_leaf=2, max_features=auto, max_depth=47, bootstrap=False, total=   9.1s\n",
      "[CV] n_estimators=600, min_samples_split=2, min_samples_leaf=2, max_features=auto, max_depth=47, bootstrap=False \n",
      "[CV]  n_estimators=600, min_samples_split=2, min_samples_leaf=2, max_features=auto, max_depth=47, bootstrap=False, total=   9.3s\n",
      "[CV] n_estimators=600, min_samples_split=2, min_samples_leaf=2, max_features=auto, max_depth=47, bootstrap=False \n",
      "[CV]  n_estimators=600, min_samples_split=2, min_samples_leaf=2, max_features=auto, max_depth=47, bootstrap=False, total=   9.7s\n",
      "[CV] n_estimators=600, min_samples_split=2, min_samples_leaf=2, max_features=auto, max_depth=47, bootstrap=False \n",
      "[CV]  n_estimators=600, min_samples_split=2, min_samples_leaf=2, max_features=auto, max_depth=47, bootstrap=False, total=   9.5s\n",
      "[CV] n_estimators=300, min_samples_split=5, min_samples_leaf=2, max_features=sqrt, max_depth=89, bootstrap=True \n"
     ]
    },
    {
     "name": "stdout",
     "output_type": "stream",
     "text": [
      "[CV]  n_estimators=300, min_samples_split=5, min_samples_leaf=2, max_features=sqrt, max_depth=89, bootstrap=True, total=   3.3s\n",
      "[CV] n_estimators=300, min_samples_split=5, min_samples_leaf=2, max_features=sqrt, max_depth=89, bootstrap=True \n",
      "[CV]  n_estimators=300, min_samples_split=5, min_samples_leaf=2, max_features=sqrt, max_depth=89, bootstrap=True, total=   3.2s\n",
      "[CV] n_estimators=300, min_samples_split=5, min_samples_leaf=2, max_features=sqrt, max_depth=89, bootstrap=True \n",
      "[CV]  n_estimators=300, min_samples_split=5, min_samples_leaf=2, max_features=sqrt, max_depth=89, bootstrap=True, total=   3.0s\n",
      "[CV] n_estimators=300, min_samples_split=5, min_samples_leaf=2, max_features=sqrt, max_depth=89, bootstrap=True \n",
      "[CV]  n_estimators=300, min_samples_split=5, min_samples_leaf=2, max_features=sqrt, max_depth=89, bootstrap=True, total=   3.7s\n",
      "[CV] n_estimators=300, min_samples_split=5, min_samples_leaf=2, max_features=sqrt, max_depth=89, bootstrap=True \n",
      "[CV]  n_estimators=300, min_samples_split=5, min_samples_leaf=2, max_features=sqrt, max_depth=89, bootstrap=True, total=   4.5s\n",
      "[CV] n_estimators=100, min_samples_split=2, min_samples_leaf=2, max_features=auto, max_depth=57, bootstrap=False \n",
      "[CV]  n_estimators=100, min_samples_split=2, min_samples_leaf=2, max_features=auto, max_depth=57, bootstrap=False, total=   2.7s\n",
      "[CV] n_estimators=100, min_samples_split=2, min_samples_leaf=2, max_features=auto, max_depth=57, bootstrap=False \n",
      "[CV]  n_estimators=100, min_samples_split=2, min_samples_leaf=2, max_features=auto, max_depth=57, bootstrap=False, total=   2.3s\n",
      "[CV] n_estimators=100, min_samples_split=2, min_samples_leaf=2, max_features=auto, max_depth=57, bootstrap=False \n",
      "[CV]  n_estimators=100, min_samples_split=2, min_samples_leaf=2, max_features=auto, max_depth=57, bootstrap=False, total=   2.1s\n",
      "[CV] n_estimators=100, min_samples_split=2, min_samples_leaf=2, max_features=auto, max_depth=57, bootstrap=False \n",
      "[CV]  n_estimators=100, min_samples_split=2, min_samples_leaf=2, max_features=auto, max_depth=57, bootstrap=False, total=   1.9s\n",
      "[CV] n_estimators=100, min_samples_split=2, min_samples_leaf=2, max_features=auto, max_depth=57, bootstrap=False \n",
      "[CV]  n_estimators=100, min_samples_split=2, min_samples_leaf=2, max_features=auto, max_depth=57, bootstrap=False, total=   1.8s\n",
      "[CV] n_estimators=300, min_samples_split=2, min_samples_leaf=4, max_features=auto, max_depth=57, bootstrap=True \n",
      "[CV]  n_estimators=300, min_samples_split=2, min_samples_leaf=4, max_features=auto, max_depth=57, bootstrap=True, total=   2.9s\n",
      "[CV] n_estimators=300, min_samples_split=2, min_samples_leaf=4, max_features=auto, max_depth=57, bootstrap=True \n",
      "[CV]  n_estimators=300, min_samples_split=2, min_samples_leaf=4, max_features=auto, max_depth=57, bootstrap=True, total=   3.0s\n",
      "[CV] n_estimators=300, min_samples_split=2, min_samples_leaf=4, max_features=auto, max_depth=57, bootstrap=True \n",
      "[CV]  n_estimators=300, min_samples_split=2, min_samples_leaf=4, max_features=auto, max_depth=57, bootstrap=True, total=   2.7s\n",
      "[CV] n_estimators=300, min_samples_split=2, min_samples_leaf=4, max_features=auto, max_depth=57, bootstrap=True \n",
      "[CV]  n_estimators=300, min_samples_split=2, min_samples_leaf=4, max_features=auto, max_depth=57, bootstrap=True, total=   2.3s\n",
      "[CV] n_estimators=300, min_samples_split=2, min_samples_leaf=4, max_features=auto, max_depth=57, bootstrap=True \n",
      "[CV]  n_estimators=300, min_samples_split=2, min_samples_leaf=4, max_features=auto, max_depth=57, bootstrap=True, total=   2.2s\n",
      "[CV] n_estimators=300, min_samples_split=2, min_samples_leaf=2, max_features=auto, max_depth=100, bootstrap=False \n",
      "[CV]  n_estimators=300, min_samples_split=2, min_samples_leaf=2, max_features=auto, max_depth=100, bootstrap=False, total=   4.5s\n",
      "[CV] n_estimators=300, min_samples_split=2, min_samples_leaf=2, max_features=auto, max_depth=100, bootstrap=False \n",
      "[CV]  n_estimators=300, min_samples_split=2, min_samples_leaf=2, max_features=auto, max_depth=100, bootstrap=False, total=   4.9s\n",
      "[CV] n_estimators=300, min_samples_split=2, min_samples_leaf=2, max_features=auto, max_depth=100, bootstrap=False \n",
      "[CV]  n_estimators=300, min_samples_split=2, min_samples_leaf=2, max_features=auto, max_depth=100, bootstrap=False, total=   5.8s\n",
      "[CV] n_estimators=300, min_samples_split=2, min_samples_leaf=2, max_features=auto, max_depth=100, bootstrap=False \n",
      "[CV]  n_estimators=300, min_samples_split=2, min_samples_leaf=2, max_features=auto, max_depth=100, bootstrap=False, total=   7.0s\n",
      "[CV] n_estimators=300, min_samples_split=2, min_samples_leaf=2, max_features=auto, max_depth=100, bootstrap=False \n",
      "[CV]  n_estimators=300, min_samples_split=2, min_samples_leaf=2, max_features=auto, max_depth=100, bootstrap=False, total=   5.7s\n",
      "[CV] n_estimators=500, min_samples_split=5, min_samples_leaf=4, max_features=sqrt, max_depth=78, bootstrap=True \n",
      "[CV]  n_estimators=500, min_samples_split=5, min_samples_leaf=4, max_features=sqrt, max_depth=78, bootstrap=True, total=   4.8s\n",
      "[CV] n_estimators=500, min_samples_split=5, min_samples_leaf=4, max_features=sqrt, max_depth=78, bootstrap=True \n",
      "[CV]  n_estimators=500, min_samples_split=5, min_samples_leaf=4, max_features=sqrt, max_depth=78, bootstrap=True, total=   4.8s\n",
      "[CV] n_estimators=500, min_samples_split=5, min_samples_leaf=4, max_features=sqrt, max_depth=78, bootstrap=True \n",
      "[CV]  n_estimators=500, min_samples_split=5, min_samples_leaf=4, max_features=sqrt, max_depth=78, bootstrap=True, total=   4.6s\n",
      "[CV] n_estimators=500, min_samples_split=5, min_samples_leaf=4, max_features=sqrt, max_depth=78, bootstrap=True \n",
      "[CV]  n_estimators=500, min_samples_split=5, min_samples_leaf=4, max_features=sqrt, max_depth=78, bootstrap=True, total=   4.1s\n",
      "[CV] n_estimators=500, min_samples_split=5, min_samples_leaf=4, max_features=sqrt, max_depth=78, bootstrap=True \n",
      "[CV]  n_estimators=500, min_samples_split=5, min_samples_leaf=4, max_features=sqrt, max_depth=78, bootstrap=True, total=   4.7s\n",
      "[CV] n_estimators=500, min_samples_split=10, min_samples_leaf=2, max_features=sqrt, max_depth=78, bootstrap=False \n",
      "[CV]  n_estimators=500, min_samples_split=10, min_samples_leaf=2, max_features=sqrt, max_depth=78, bootstrap=False, total=   7.4s\n",
      "[CV] n_estimators=500, min_samples_split=10, min_samples_leaf=2, max_features=sqrt, max_depth=78, bootstrap=False \n",
      "[CV]  n_estimators=500, min_samples_split=10, min_samples_leaf=2, max_features=sqrt, max_depth=78, bootstrap=False, total=   7.8s\n",
      "[CV] n_estimators=500, min_samples_split=10, min_samples_leaf=2, max_features=sqrt, max_depth=78, bootstrap=False \n",
      "[CV]  n_estimators=500, min_samples_split=10, min_samples_leaf=2, max_features=sqrt, max_depth=78, bootstrap=False, total=   8.2s\n",
      "[CV] n_estimators=500, min_samples_split=10, min_samples_leaf=2, max_features=sqrt, max_depth=78, bootstrap=False \n",
      "[CV]  n_estimators=500, min_samples_split=10, min_samples_leaf=2, max_features=sqrt, max_depth=78, bootstrap=False, total=   8.0s\n",
      "[CV] n_estimators=500, min_samples_split=10, min_samples_leaf=2, max_features=sqrt, max_depth=78, bootstrap=False \n",
      "[CV]  n_estimators=500, min_samples_split=10, min_samples_leaf=2, max_features=sqrt, max_depth=78, bootstrap=False, total=   8.3s\n",
      "[CV] n_estimators=700, min_samples_split=2, min_samples_leaf=4, max_features=auto, max_depth=15, bootstrap=False \n",
      "[CV]  n_estimators=700, min_samples_split=2, min_samples_leaf=4, max_features=auto, max_depth=15, bootstrap=False, total=   9.2s\n",
      "[CV] n_estimators=700, min_samples_split=2, min_samples_leaf=4, max_features=auto, max_depth=15, bootstrap=False \n",
      "[CV]  n_estimators=700, min_samples_split=2, min_samples_leaf=4, max_features=auto, max_depth=15, bootstrap=False, total=   9.6s\n",
      "[CV] n_estimators=700, min_samples_split=2, min_samples_leaf=4, max_features=auto, max_depth=15, bootstrap=False \n",
      "[CV]  n_estimators=700, min_samples_split=2, min_samples_leaf=4, max_features=auto, max_depth=15, bootstrap=False, total=   9.3s\n",
      "[CV] n_estimators=700, min_samples_split=2, min_samples_leaf=4, max_features=auto, max_depth=15, bootstrap=False \n",
      "[CV]  n_estimators=700, min_samples_split=2, min_samples_leaf=4, max_features=auto, max_depth=15, bootstrap=False, total=   9.4s\n",
      "[CV] n_estimators=700, min_samples_split=2, min_samples_leaf=4, max_features=auto, max_depth=15, bootstrap=False \n"
     ]
    },
    {
     "name": "stdout",
     "output_type": "stream",
     "text": [
      "[CV]  n_estimators=700, min_samples_split=2, min_samples_leaf=4, max_features=auto, max_depth=15, bootstrap=False, total=  10.3s\n",
      "[CV] n_estimators=200, min_samples_split=5, min_samples_leaf=4, max_features=auto, max_depth=None, bootstrap=False \n",
      "[CV]  n_estimators=200, min_samples_split=5, min_samples_leaf=4, max_features=auto, max_depth=None, bootstrap=False, total=   3.6s\n",
      "[CV] n_estimators=200, min_samples_split=5, min_samples_leaf=4, max_features=auto, max_depth=None, bootstrap=False \n",
      "[CV]  n_estimators=200, min_samples_split=5, min_samples_leaf=4, max_features=auto, max_depth=None, bootstrap=False, total=   3.6s\n",
      "[CV] n_estimators=200, min_samples_split=5, min_samples_leaf=4, max_features=auto, max_depth=None, bootstrap=False \n",
      "[CV]  n_estimators=200, min_samples_split=5, min_samples_leaf=4, max_features=auto, max_depth=None, bootstrap=False, total=   3.3s\n",
      "[CV] n_estimators=200, min_samples_split=5, min_samples_leaf=4, max_features=auto, max_depth=None, bootstrap=False \n",
      "[CV]  n_estimators=200, min_samples_split=5, min_samples_leaf=4, max_features=auto, max_depth=None, bootstrap=False, total=   3.4s\n",
      "[CV] n_estimators=200, min_samples_split=5, min_samples_leaf=4, max_features=auto, max_depth=None, bootstrap=False \n",
      "[CV]  n_estimators=200, min_samples_split=5, min_samples_leaf=4, max_features=auto, max_depth=None, bootstrap=False, total=   3.1s\n",
      "[CV] n_estimators=1000, min_samples_split=10, min_samples_leaf=2, max_features=sqrt, max_depth=None, bootstrap=False \n",
      "[CV]  n_estimators=1000, min_samples_split=10, min_samples_leaf=2, max_features=sqrt, max_depth=None, bootstrap=False, total=  31.9s\n",
      "[CV] n_estimators=1000, min_samples_split=10, min_samples_leaf=2, max_features=sqrt, max_depth=None, bootstrap=False \n",
      "[CV]  n_estimators=1000, min_samples_split=10, min_samples_leaf=2, max_features=sqrt, max_depth=None, bootstrap=False, total=  19.9s\n",
      "[CV] n_estimators=1000, min_samples_split=10, min_samples_leaf=2, max_features=sqrt, max_depth=None, bootstrap=False \n",
      "[CV]  n_estimators=1000, min_samples_split=10, min_samples_leaf=2, max_features=sqrt, max_depth=None, bootstrap=False, total=  17.4s\n",
      "[CV] n_estimators=1000, min_samples_split=10, min_samples_leaf=2, max_features=sqrt, max_depth=None, bootstrap=False \n",
      "[CV]  n_estimators=1000, min_samples_split=10, min_samples_leaf=2, max_features=sqrt, max_depth=None, bootstrap=False, total=  17.1s\n",
      "[CV] n_estimators=1000, min_samples_split=10, min_samples_leaf=2, max_features=sqrt, max_depth=None, bootstrap=False \n",
      "[CV]  n_estimators=1000, min_samples_split=10, min_samples_leaf=2, max_features=sqrt, max_depth=None, bootstrap=False, total=  16.8s\n",
      "[CV] n_estimators=300, min_samples_split=10, min_samples_leaf=4, max_features=auto, max_depth=89, bootstrap=False \n",
      "[CV]  n_estimators=300, min_samples_split=10, min_samples_leaf=4, max_features=auto, max_depth=89, bootstrap=False, total=   4.7s\n",
      "[CV] n_estimators=300, min_samples_split=10, min_samples_leaf=4, max_features=auto, max_depth=89, bootstrap=False \n",
      "[CV]  n_estimators=300, min_samples_split=10, min_samples_leaf=4, max_features=auto, max_depth=89, bootstrap=False, total=   4.7s\n",
      "[CV] n_estimators=300, min_samples_split=10, min_samples_leaf=4, max_features=auto, max_depth=89, bootstrap=False \n",
      "[CV]  n_estimators=300, min_samples_split=10, min_samples_leaf=4, max_features=auto, max_depth=89, bootstrap=False, total=   4.6s\n",
      "[CV] n_estimators=300, min_samples_split=10, min_samples_leaf=4, max_features=auto, max_depth=89, bootstrap=False \n",
      "[CV]  n_estimators=300, min_samples_split=10, min_samples_leaf=4, max_features=auto, max_depth=89, bootstrap=False, total=   4.6s\n",
      "[CV] n_estimators=300, min_samples_split=10, min_samples_leaf=4, max_features=auto, max_depth=89, bootstrap=False \n",
      "[CV]  n_estimators=300, min_samples_split=10, min_samples_leaf=4, max_features=auto, max_depth=89, bootstrap=False, total=   4.4s\n",
      "[CV] n_estimators=800, min_samples_split=5, min_samples_leaf=4, max_features=auto, max_depth=36, bootstrap=True \n",
      "[CV]  n_estimators=800, min_samples_split=5, min_samples_leaf=4, max_features=auto, max_depth=36, bootstrap=True, total=   8.0s\n",
      "[CV] n_estimators=800, min_samples_split=5, min_samples_leaf=4, max_features=auto, max_depth=36, bootstrap=True \n",
      "[CV]  n_estimators=800, min_samples_split=5, min_samples_leaf=4, max_features=auto, max_depth=36, bootstrap=True, total=   8.1s\n",
      "[CV] n_estimators=800, min_samples_split=5, min_samples_leaf=4, max_features=auto, max_depth=36, bootstrap=True \n",
      "[CV]  n_estimators=800, min_samples_split=5, min_samples_leaf=4, max_features=auto, max_depth=36, bootstrap=True, total=   7.3s\n",
      "[CV] n_estimators=800, min_samples_split=5, min_samples_leaf=4, max_features=auto, max_depth=36, bootstrap=True \n",
      "[CV]  n_estimators=800, min_samples_split=5, min_samples_leaf=4, max_features=auto, max_depth=36, bootstrap=True, total=   8.7s\n",
      "[CV] n_estimators=800, min_samples_split=5, min_samples_leaf=4, max_features=auto, max_depth=36, bootstrap=True \n",
      "[CV]  n_estimators=800, min_samples_split=5, min_samples_leaf=4, max_features=auto, max_depth=36, bootstrap=True, total=   7.4s\n",
      "[CV] n_estimators=500, min_samples_split=2, min_samples_leaf=4, max_features=auto, max_depth=78, bootstrap=False \n",
      "[CV]  n_estimators=500, min_samples_split=2, min_samples_leaf=4, max_features=auto, max_depth=78, bootstrap=False, total=   9.5s\n",
      "[CV] n_estimators=500, min_samples_split=2, min_samples_leaf=4, max_features=auto, max_depth=78, bootstrap=False \n",
      "[CV]  n_estimators=500, min_samples_split=2, min_samples_leaf=4, max_features=auto, max_depth=78, bootstrap=False, total=  10.8s\n",
      "[CV] n_estimators=500, min_samples_split=2, min_samples_leaf=4, max_features=auto, max_depth=78, bootstrap=False \n",
      "[CV]  n_estimators=500, min_samples_split=2, min_samples_leaf=4, max_features=auto, max_depth=78, bootstrap=False, total=   7.1s\n",
      "[CV] n_estimators=500, min_samples_split=2, min_samples_leaf=4, max_features=auto, max_depth=78, bootstrap=False \n",
      "[CV]  n_estimators=500, min_samples_split=2, min_samples_leaf=4, max_features=auto, max_depth=78, bootstrap=False, total=   7.2s\n",
      "[CV] n_estimators=500, min_samples_split=2, min_samples_leaf=4, max_features=auto, max_depth=78, bootstrap=False \n",
      "[CV]  n_estimators=500, min_samples_split=2, min_samples_leaf=4, max_features=auto, max_depth=78, bootstrap=False, total=   7.4s\n",
      "[CV] n_estimators=500, min_samples_split=5, min_samples_leaf=4, max_features=auto, max_depth=5, bootstrap=True \n",
      "[CV]  n_estimators=500, min_samples_split=5, min_samples_leaf=4, max_features=auto, max_depth=5, bootstrap=True, total=   4.1s\n",
      "[CV] n_estimators=500, min_samples_split=5, min_samples_leaf=4, max_features=auto, max_depth=5, bootstrap=True \n",
      "[CV]  n_estimators=500, min_samples_split=5, min_samples_leaf=4, max_features=auto, max_depth=5, bootstrap=True, total=   3.3s\n",
      "[CV] n_estimators=500, min_samples_split=5, min_samples_leaf=4, max_features=auto, max_depth=5, bootstrap=True \n",
      "[CV]  n_estimators=500, min_samples_split=5, min_samples_leaf=4, max_features=auto, max_depth=5, bootstrap=True, total=   3.1s\n",
      "[CV] n_estimators=500, min_samples_split=5, min_samples_leaf=4, max_features=auto, max_depth=5, bootstrap=True \n",
      "[CV]  n_estimators=500, min_samples_split=5, min_samples_leaf=4, max_features=auto, max_depth=5, bootstrap=True, total=   3.2s\n",
      "[CV] n_estimators=500, min_samples_split=5, min_samples_leaf=4, max_features=auto, max_depth=5, bootstrap=True \n",
      "[CV]  n_estimators=500, min_samples_split=5, min_samples_leaf=4, max_features=auto, max_depth=5, bootstrap=True, total=   3.0s\n",
      "[CV] n_estimators=400, min_samples_split=5, min_samples_leaf=2, max_features=sqrt, max_depth=5, bootstrap=True \n",
      "[CV]  n_estimators=400, min_samples_split=5, min_samples_leaf=2, max_features=sqrt, max_depth=5, bootstrap=True, total=   2.6s\n",
      "[CV] n_estimators=400, min_samples_split=5, min_samples_leaf=2, max_features=sqrt, max_depth=5, bootstrap=True \n",
      "[CV]  n_estimators=400, min_samples_split=5, min_samples_leaf=2, max_features=sqrt, max_depth=5, bootstrap=True, total=   3.4s\n",
      "[CV] n_estimators=400, min_samples_split=5, min_samples_leaf=2, max_features=sqrt, max_depth=5, bootstrap=True \n",
      "[CV]  n_estimators=400, min_samples_split=5, min_samples_leaf=2, max_features=sqrt, max_depth=5, bootstrap=True, total=   2.8s\n",
      "[CV] n_estimators=400, min_samples_split=5, min_samples_leaf=2, max_features=sqrt, max_depth=5, bootstrap=True \n"
     ]
    },
    {
     "name": "stdout",
     "output_type": "stream",
     "text": [
      "[CV]  n_estimators=400, min_samples_split=5, min_samples_leaf=2, max_features=sqrt, max_depth=5, bootstrap=True, total=   2.7s\n",
      "[CV] n_estimators=400, min_samples_split=5, min_samples_leaf=2, max_features=sqrt, max_depth=5, bootstrap=True \n",
      "[CV]  n_estimators=400, min_samples_split=5, min_samples_leaf=2, max_features=sqrt, max_depth=5, bootstrap=True, total=   2.7s\n",
      "[CV] n_estimators=100, min_samples_split=2, min_samples_leaf=2, max_features=auto, max_depth=78, bootstrap=True \n",
      "[CV]  n_estimators=100, min_samples_split=2, min_samples_leaf=2, max_features=auto, max_depth=78, bootstrap=True, total=   1.2s\n",
      "[CV] n_estimators=100, min_samples_split=2, min_samples_leaf=2, max_features=auto, max_depth=78, bootstrap=True \n",
      "[CV]  n_estimators=100, min_samples_split=2, min_samples_leaf=2, max_features=auto, max_depth=78, bootstrap=True, total=   1.3s\n",
      "[CV] n_estimators=100, min_samples_split=2, min_samples_leaf=2, max_features=auto, max_depth=78, bootstrap=True \n",
      "[CV]  n_estimators=100, min_samples_split=2, min_samples_leaf=2, max_features=auto, max_depth=78, bootstrap=True, total=   1.2s\n",
      "[CV] n_estimators=100, min_samples_split=2, min_samples_leaf=2, max_features=auto, max_depth=78, bootstrap=True \n",
      "[CV]  n_estimators=100, min_samples_split=2, min_samples_leaf=2, max_features=auto, max_depth=78, bootstrap=True, total=   1.3s\n",
      "[CV] n_estimators=100, min_samples_split=2, min_samples_leaf=2, max_features=auto, max_depth=78, bootstrap=True \n",
      "[CV]  n_estimators=100, min_samples_split=2, min_samples_leaf=2, max_features=auto, max_depth=78, bootstrap=True, total=   1.2s\n",
      "[CV] n_estimators=300, min_samples_split=10, min_samples_leaf=4, max_features=auto, max_depth=100, bootstrap=False \n",
      "[CV]  n_estimators=300, min_samples_split=10, min_samples_leaf=4, max_features=auto, max_depth=100, bootstrap=False, total=   4.1s\n",
      "[CV] n_estimators=300, min_samples_split=10, min_samples_leaf=4, max_features=auto, max_depth=100, bootstrap=False \n",
      "[CV]  n_estimators=300, min_samples_split=10, min_samples_leaf=4, max_features=auto, max_depth=100, bootstrap=False, total=   4.6s\n",
      "[CV] n_estimators=300, min_samples_split=10, min_samples_leaf=4, max_features=auto, max_depth=100, bootstrap=False \n",
      "[CV]  n_estimators=300, min_samples_split=10, min_samples_leaf=4, max_features=auto, max_depth=100, bootstrap=False, total=   5.3s\n",
      "[CV] n_estimators=300, min_samples_split=10, min_samples_leaf=4, max_features=auto, max_depth=100, bootstrap=False \n",
      "[CV]  n_estimators=300, min_samples_split=10, min_samples_leaf=4, max_features=auto, max_depth=100, bootstrap=False, total=   6.3s\n",
      "[CV] n_estimators=300, min_samples_split=10, min_samples_leaf=4, max_features=auto, max_depth=100, bootstrap=False \n",
      "[CV]  n_estimators=300, min_samples_split=10, min_samples_leaf=4, max_features=auto, max_depth=100, bootstrap=False, total=   5.4s\n",
      "[CV] n_estimators=500, min_samples_split=5, min_samples_leaf=2, max_features=sqrt, max_depth=47, bootstrap=True \n",
      "[CV]  n_estimators=500, min_samples_split=5, min_samples_leaf=2, max_features=sqrt, max_depth=47, bootstrap=True, total=   7.1s\n",
      "[CV] n_estimators=500, min_samples_split=5, min_samples_leaf=2, max_features=sqrt, max_depth=47, bootstrap=True \n",
      "[CV]  n_estimators=500, min_samples_split=5, min_samples_leaf=2, max_features=sqrt, max_depth=47, bootstrap=True, total=   7.6s\n",
      "[CV] n_estimators=500, min_samples_split=5, min_samples_leaf=2, max_features=sqrt, max_depth=47, bootstrap=True \n",
      "[CV]  n_estimators=500, min_samples_split=5, min_samples_leaf=2, max_features=sqrt, max_depth=47, bootstrap=True, total=   7.6s\n",
      "[CV] n_estimators=500, min_samples_split=5, min_samples_leaf=2, max_features=sqrt, max_depth=47, bootstrap=True \n",
      "[CV]  n_estimators=500, min_samples_split=5, min_samples_leaf=2, max_features=sqrt, max_depth=47, bootstrap=True, total=   7.5s\n",
      "[CV] n_estimators=500, min_samples_split=5, min_samples_leaf=2, max_features=sqrt, max_depth=47, bootstrap=True \n",
      "[CV]  n_estimators=500, min_samples_split=5, min_samples_leaf=2, max_features=sqrt, max_depth=47, bootstrap=True, total=   7.4s\n",
      "[CV] n_estimators=300, min_samples_split=10, min_samples_leaf=2, max_features=auto, max_depth=78, bootstrap=True \n",
      "[CV]  n_estimators=300, min_samples_split=10, min_samples_leaf=2, max_features=auto, max_depth=78, bootstrap=True, total=   4.3s\n",
      "[CV] n_estimators=300, min_samples_split=10, min_samples_leaf=2, max_features=auto, max_depth=78, bootstrap=True \n",
      "[CV]  n_estimators=300, min_samples_split=10, min_samples_leaf=2, max_features=auto, max_depth=78, bootstrap=True, total=   4.2s\n",
      "[CV] n_estimators=300, min_samples_split=10, min_samples_leaf=2, max_features=auto, max_depth=78, bootstrap=True \n",
      "[CV]  n_estimators=300, min_samples_split=10, min_samples_leaf=2, max_features=auto, max_depth=78, bootstrap=True, total=   4.2s\n",
      "[CV] n_estimators=300, min_samples_split=10, min_samples_leaf=2, max_features=auto, max_depth=78, bootstrap=True \n",
      "[CV]  n_estimators=300, min_samples_split=10, min_samples_leaf=2, max_features=auto, max_depth=78, bootstrap=True, total=   4.2s\n",
      "[CV] n_estimators=300, min_samples_split=10, min_samples_leaf=2, max_features=auto, max_depth=78, bootstrap=True \n",
      "[CV]  n_estimators=300, min_samples_split=10, min_samples_leaf=2, max_features=auto, max_depth=78, bootstrap=True, total=   3.9s\n",
      "[CV] n_estimators=300, min_samples_split=10, min_samples_leaf=2, max_features=sqrt, max_depth=100, bootstrap=False \n",
      "[CV]  n_estimators=300, min_samples_split=10, min_samples_leaf=2, max_features=sqrt, max_depth=100, bootstrap=False, total=   6.5s\n",
      "[CV] n_estimators=300, min_samples_split=10, min_samples_leaf=2, max_features=sqrt, max_depth=100, bootstrap=False \n",
      "[CV]  n_estimators=300, min_samples_split=10, min_samples_leaf=2, max_features=sqrt, max_depth=100, bootstrap=False, total=   6.5s\n",
      "[CV] n_estimators=300, min_samples_split=10, min_samples_leaf=2, max_features=sqrt, max_depth=100, bootstrap=False \n",
      "[CV]  n_estimators=300, min_samples_split=10, min_samples_leaf=2, max_features=sqrt, max_depth=100, bootstrap=False, total=   6.3s\n",
      "[CV] n_estimators=300, min_samples_split=10, min_samples_leaf=2, max_features=sqrt, max_depth=100, bootstrap=False \n",
      "[CV]  n_estimators=300, min_samples_split=10, min_samples_leaf=2, max_features=sqrt, max_depth=100, bootstrap=False, total=   6.6s\n",
      "[CV] n_estimators=300, min_samples_split=10, min_samples_leaf=2, max_features=sqrt, max_depth=100, bootstrap=False \n",
      "[CV]  n_estimators=300, min_samples_split=10, min_samples_leaf=2, max_features=sqrt, max_depth=100, bootstrap=False, total=   6.0s\n",
      "[CV] n_estimators=1000, min_samples_split=5, min_samples_leaf=4, max_features=sqrt, max_depth=47, bootstrap=False \n",
      "[CV]  n_estimators=1000, min_samples_split=5, min_samples_leaf=4, max_features=sqrt, max_depth=47, bootstrap=False, total=  19.8s\n",
      "[CV] n_estimators=1000, min_samples_split=5, min_samples_leaf=4, max_features=sqrt, max_depth=47, bootstrap=False \n",
      "[CV]  n_estimators=1000, min_samples_split=5, min_samples_leaf=4, max_features=sqrt, max_depth=47, bootstrap=False, total=  20.0s\n",
      "[CV] n_estimators=1000, min_samples_split=5, min_samples_leaf=4, max_features=sqrt, max_depth=47, bootstrap=False \n",
      "[CV]  n_estimators=1000, min_samples_split=5, min_samples_leaf=4, max_features=sqrt, max_depth=47, bootstrap=False, total=  19.5s\n",
      "[CV] n_estimators=1000, min_samples_split=5, min_samples_leaf=4, max_features=sqrt, max_depth=47, bootstrap=False \n",
      "[CV]  n_estimators=1000, min_samples_split=5, min_samples_leaf=4, max_features=sqrt, max_depth=47, bootstrap=False, total=  19.6s\n",
      "[CV] n_estimators=1000, min_samples_split=5, min_samples_leaf=4, max_features=sqrt, max_depth=47, bootstrap=False \n",
      "[CV]  n_estimators=1000, min_samples_split=5, min_samples_leaf=4, max_features=sqrt, max_depth=47, bootstrap=False, total=  18.7s\n",
      "[CV] n_estimators=1000, min_samples_split=2, min_samples_leaf=4, max_features=auto, max_depth=68, bootstrap=True \n",
      "[CV]  n_estimators=1000, min_samples_split=2, min_samples_leaf=4, max_features=auto, max_depth=68, bootstrap=True, total=  12.4s\n",
      "[CV] n_estimators=1000, min_samples_split=2, min_samples_leaf=4, max_features=auto, max_depth=68, bootstrap=True \n",
      "[CV]  n_estimators=1000, min_samples_split=2, min_samples_leaf=4, max_features=auto, max_depth=68, bootstrap=True, total=  12.4s\n",
      "[CV] n_estimators=1000, min_samples_split=2, min_samples_leaf=4, max_features=auto, max_depth=68, bootstrap=True \n"
     ]
    },
    {
     "name": "stdout",
     "output_type": "stream",
     "text": [
      "[CV]  n_estimators=1000, min_samples_split=2, min_samples_leaf=4, max_features=auto, max_depth=68, bootstrap=True, total=  12.4s\n",
      "[CV] n_estimators=1000, min_samples_split=2, min_samples_leaf=4, max_features=auto, max_depth=68, bootstrap=True \n",
      "[CV]  n_estimators=1000, min_samples_split=2, min_samples_leaf=4, max_features=auto, max_depth=68, bootstrap=True, total=  13.3s\n",
      "[CV] n_estimators=1000, min_samples_split=2, min_samples_leaf=4, max_features=auto, max_depth=68, bootstrap=True \n",
      "[CV]  n_estimators=1000, min_samples_split=2, min_samples_leaf=4, max_features=auto, max_depth=68, bootstrap=True, total=  12.2s\n",
      "[CV] n_estimators=100, min_samples_split=2, min_samples_leaf=4, max_features=sqrt, max_depth=15, bootstrap=False \n",
      "[CV]  n_estimators=100, min_samples_split=2, min_samples_leaf=4, max_features=sqrt, max_depth=15, bootstrap=False, total=   2.1s\n",
      "[CV] n_estimators=100, min_samples_split=2, min_samples_leaf=4, max_features=sqrt, max_depth=15, bootstrap=False \n",
      "[CV]  n_estimators=100, min_samples_split=2, min_samples_leaf=4, max_features=sqrt, max_depth=15, bootstrap=False, total=   2.1s\n",
      "[CV] n_estimators=100, min_samples_split=2, min_samples_leaf=4, max_features=sqrt, max_depth=15, bootstrap=False \n",
      "[CV]  n_estimators=100, min_samples_split=2, min_samples_leaf=4, max_features=sqrt, max_depth=15, bootstrap=False, total=   2.2s\n",
      "[CV] n_estimators=100, min_samples_split=2, min_samples_leaf=4, max_features=sqrt, max_depth=15, bootstrap=False \n",
      "[CV]  n_estimators=100, min_samples_split=2, min_samples_leaf=4, max_features=sqrt, max_depth=15, bootstrap=False, total=   2.5s\n",
      "[CV] n_estimators=100, min_samples_split=2, min_samples_leaf=4, max_features=sqrt, max_depth=15, bootstrap=False \n",
      "[CV]  n_estimators=100, min_samples_split=2, min_samples_leaf=4, max_features=sqrt, max_depth=15, bootstrap=False, total=   2.3s\n",
      "[CV] n_estimators=100, min_samples_split=2, min_samples_leaf=4, max_features=sqrt, max_depth=68, bootstrap=True \n",
      "[CV]  n_estimators=100, min_samples_split=2, min_samples_leaf=4, max_features=sqrt, max_depth=68, bootstrap=True, total=   1.5s\n",
      "[CV] n_estimators=100, min_samples_split=2, min_samples_leaf=4, max_features=sqrt, max_depth=68, bootstrap=True \n",
      "[CV]  n_estimators=100, min_samples_split=2, min_samples_leaf=4, max_features=sqrt, max_depth=68, bootstrap=True, total=   1.5s\n",
      "[CV] n_estimators=100, min_samples_split=2, min_samples_leaf=4, max_features=sqrt, max_depth=68, bootstrap=True \n",
      "[CV]  n_estimators=100, min_samples_split=2, min_samples_leaf=4, max_features=sqrt, max_depth=68, bootstrap=True, total=   1.5s\n",
      "[CV] n_estimators=100, min_samples_split=2, min_samples_leaf=4, max_features=sqrt, max_depth=68, bootstrap=True \n",
      "[CV]  n_estimators=100, min_samples_split=2, min_samples_leaf=4, max_features=sqrt, max_depth=68, bootstrap=True, total=   1.5s\n",
      "[CV] n_estimators=100, min_samples_split=2, min_samples_leaf=4, max_features=sqrt, max_depth=68, bootstrap=True \n",
      "[CV]  n_estimators=100, min_samples_split=2, min_samples_leaf=4, max_features=sqrt, max_depth=68, bootstrap=True, total=   1.5s\n",
      "[CV] n_estimators=500, min_samples_split=2, min_samples_leaf=2, max_features=auto, max_depth=15, bootstrap=True \n",
      "[CV]  n_estimators=500, min_samples_split=2, min_samples_leaf=2, max_features=auto, max_depth=15, bootstrap=True, total=   7.6s\n",
      "[CV] n_estimators=500, min_samples_split=2, min_samples_leaf=2, max_features=auto, max_depth=15, bootstrap=True \n",
      "[CV]  n_estimators=500, min_samples_split=2, min_samples_leaf=2, max_features=auto, max_depth=15, bootstrap=True, total=   7.9s\n",
      "[CV] n_estimators=500, min_samples_split=2, min_samples_leaf=2, max_features=auto, max_depth=15, bootstrap=True \n",
      "[CV]  n_estimators=500, min_samples_split=2, min_samples_leaf=2, max_features=auto, max_depth=15, bootstrap=True, total=   8.0s\n",
      "[CV] n_estimators=500, min_samples_split=2, min_samples_leaf=2, max_features=auto, max_depth=15, bootstrap=True \n",
      "[CV]  n_estimators=500, min_samples_split=2, min_samples_leaf=2, max_features=auto, max_depth=15, bootstrap=True, total=   7.9s\n",
      "[CV] n_estimators=500, min_samples_split=2, min_samples_leaf=2, max_features=auto, max_depth=15, bootstrap=True \n",
      "[CV]  n_estimators=500, min_samples_split=2, min_samples_leaf=2, max_features=auto, max_depth=15, bootstrap=True, total=   7.6s\n",
      "[CV] n_estimators=100, min_samples_split=10, min_samples_leaf=2, max_features=auto, max_depth=26, bootstrap=False \n",
      "[CV]  n_estimators=100, min_samples_split=10, min_samples_leaf=2, max_features=auto, max_depth=26, bootstrap=False, total=   2.4s\n",
      "[CV] n_estimators=100, min_samples_split=10, min_samples_leaf=2, max_features=auto, max_depth=26, bootstrap=False \n",
      "[CV]  n_estimators=100, min_samples_split=10, min_samples_leaf=2, max_features=auto, max_depth=26, bootstrap=False, total=   2.4s\n",
      "[CV] n_estimators=100, min_samples_split=10, min_samples_leaf=2, max_features=auto, max_depth=26, bootstrap=False \n",
      "[CV]  n_estimators=100, min_samples_split=10, min_samples_leaf=2, max_features=auto, max_depth=26, bootstrap=False, total=   2.6s\n",
      "[CV] n_estimators=100, min_samples_split=10, min_samples_leaf=2, max_features=auto, max_depth=26, bootstrap=False \n",
      "[CV]  n_estimators=100, min_samples_split=10, min_samples_leaf=2, max_features=auto, max_depth=26, bootstrap=False, total=   2.4s\n",
      "[CV] n_estimators=100, min_samples_split=10, min_samples_leaf=2, max_features=auto, max_depth=26, bootstrap=False \n",
      "[CV]  n_estimators=100, min_samples_split=10, min_samples_leaf=2, max_features=auto, max_depth=26, bootstrap=False, total=   2.4s\n",
      "[CV] n_estimators=700, min_samples_split=10, min_samples_leaf=2, max_features=auto, max_depth=89, bootstrap=False \n",
      "[CV]  n_estimators=700, min_samples_split=10, min_samples_leaf=2, max_features=auto, max_depth=89, bootstrap=False, total=  15.5s\n",
      "[CV] n_estimators=700, min_samples_split=10, min_samples_leaf=2, max_features=auto, max_depth=89, bootstrap=False \n",
      "[CV]  n_estimators=700, min_samples_split=10, min_samples_leaf=2, max_features=auto, max_depth=89, bootstrap=False, total=  15.2s\n",
      "[CV] n_estimators=700, min_samples_split=10, min_samples_leaf=2, max_features=auto, max_depth=89, bootstrap=False \n",
      "[CV]  n_estimators=700, min_samples_split=10, min_samples_leaf=2, max_features=auto, max_depth=89, bootstrap=False, total=  15.2s\n",
      "[CV] n_estimators=700, min_samples_split=10, min_samples_leaf=2, max_features=auto, max_depth=89, bootstrap=False \n",
      "[CV]  n_estimators=700, min_samples_split=10, min_samples_leaf=2, max_features=auto, max_depth=89, bootstrap=False, total=  15.5s\n",
      "[CV] n_estimators=700, min_samples_split=10, min_samples_leaf=2, max_features=auto, max_depth=89, bootstrap=False \n",
      "[CV]  n_estimators=700, min_samples_split=10, min_samples_leaf=2, max_features=auto, max_depth=89, bootstrap=False, total=  14.6s\n",
      "[CV] n_estimators=300, min_samples_split=5, min_samples_leaf=4, max_features=auto, max_depth=None, bootstrap=True \n",
      "[CV]  n_estimators=300, min_samples_split=5, min_samples_leaf=4, max_features=auto, max_depth=None, bootstrap=True, total=   4.2s\n",
      "[CV] n_estimators=300, min_samples_split=5, min_samples_leaf=4, max_features=auto, max_depth=None, bootstrap=True \n",
      "[CV]  n_estimators=300, min_samples_split=5, min_samples_leaf=4, max_features=auto, max_depth=None, bootstrap=True, total=   3.9s\n",
      "[CV] n_estimators=300, min_samples_split=5, min_samples_leaf=4, max_features=auto, max_depth=None, bootstrap=True \n",
      "[CV]  n_estimators=300, min_samples_split=5, min_samples_leaf=4, max_features=auto, max_depth=None, bootstrap=True, total=   4.1s\n",
      "[CV] n_estimators=300, min_samples_split=5, min_samples_leaf=4, max_features=auto, max_depth=None, bootstrap=True \n",
      "[CV]  n_estimators=300, min_samples_split=5, min_samples_leaf=4, max_features=auto, max_depth=None, bootstrap=True, total=   4.0s\n",
      "[CV] n_estimators=300, min_samples_split=5, min_samples_leaf=4, max_features=auto, max_depth=None, bootstrap=True \n",
      "[CV]  n_estimators=300, min_samples_split=5, min_samples_leaf=4, max_features=auto, max_depth=None, bootstrap=True, total=   3.9s\n",
      "[CV] n_estimators=200, min_samples_split=2, min_samples_leaf=2, max_features=auto, max_depth=89, bootstrap=True \n",
      "[CV]  n_estimators=200, min_samples_split=2, min_samples_leaf=2, max_features=auto, max_depth=89, bootstrap=True, total=   3.3s\n",
      "[CV] n_estimators=200, min_samples_split=2, min_samples_leaf=2, max_features=auto, max_depth=89, bootstrap=True \n"
     ]
    },
    {
     "name": "stdout",
     "output_type": "stream",
     "text": [
      "[CV]  n_estimators=200, min_samples_split=2, min_samples_leaf=2, max_features=auto, max_depth=89, bootstrap=True, total=   3.7s\n",
      "[CV] n_estimators=200, min_samples_split=2, min_samples_leaf=2, max_features=auto, max_depth=89, bootstrap=True \n",
      "[CV]  n_estimators=200, min_samples_split=2, min_samples_leaf=2, max_features=auto, max_depth=89, bootstrap=True, total=   3.6s\n",
      "[CV] n_estimators=200, min_samples_split=2, min_samples_leaf=2, max_features=auto, max_depth=89, bootstrap=True \n",
      "[CV]  n_estimators=200, min_samples_split=2, min_samples_leaf=2, max_features=auto, max_depth=89, bootstrap=True, total=   3.6s\n",
      "[CV] n_estimators=200, min_samples_split=2, min_samples_leaf=2, max_features=auto, max_depth=89, bootstrap=True \n",
      "[CV]  n_estimators=200, min_samples_split=2, min_samples_leaf=2, max_features=auto, max_depth=89, bootstrap=True, total=   3.4s\n",
      "[CV] n_estimators=100, min_samples_split=5, min_samples_leaf=2, max_features=sqrt, max_depth=5, bootstrap=True \n",
      "[CV]  n_estimators=100, min_samples_split=5, min_samples_leaf=2, max_features=sqrt, max_depth=5, bootstrap=True, total=   1.2s\n",
      "[CV] n_estimators=100, min_samples_split=5, min_samples_leaf=2, max_features=sqrt, max_depth=5, bootstrap=True \n",
      "[CV]  n_estimators=100, min_samples_split=5, min_samples_leaf=2, max_features=sqrt, max_depth=5, bootstrap=True, total=   1.2s\n",
      "[CV] n_estimators=100, min_samples_split=5, min_samples_leaf=2, max_features=sqrt, max_depth=5, bootstrap=True \n",
      "[CV]  n_estimators=100, min_samples_split=5, min_samples_leaf=2, max_features=sqrt, max_depth=5, bootstrap=True, total=   1.1s\n",
      "[CV] n_estimators=100, min_samples_split=5, min_samples_leaf=2, max_features=sqrt, max_depth=5, bootstrap=True \n",
      "[CV]  n_estimators=100, min_samples_split=5, min_samples_leaf=2, max_features=sqrt, max_depth=5, bootstrap=True, total=   1.1s\n",
      "[CV] n_estimators=100, min_samples_split=5, min_samples_leaf=2, max_features=sqrt, max_depth=5, bootstrap=True \n",
      "[CV]  n_estimators=100, min_samples_split=5, min_samples_leaf=2, max_features=sqrt, max_depth=5, bootstrap=True, total=   1.1s\n",
      "[CV] n_estimators=800, min_samples_split=5, min_samples_leaf=2, max_features=sqrt, max_depth=89, bootstrap=True \n",
      "[CV]  n_estimators=800, min_samples_split=5, min_samples_leaf=2, max_features=sqrt, max_depth=89, bootstrap=True, total=  12.6s\n",
      "[CV] n_estimators=800, min_samples_split=5, min_samples_leaf=2, max_features=sqrt, max_depth=89, bootstrap=True \n",
      "[CV]  n_estimators=800, min_samples_split=5, min_samples_leaf=2, max_features=sqrt, max_depth=89, bootstrap=True, total=  12.3s\n",
      "[CV] n_estimators=800, min_samples_split=5, min_samples_leaf=2, max_features=sqrt, max_depth=89, bootstrap=True \n",
      "[CV]  n_estimators=800, min_samples_split=5, min_samples_leaf=2, max_features=sqrt, max_depth=89, bootstrap=True, total=  12.2s\n",
      "[CV] n_estimators=800, min_samples_split=5, min_samples_leaf=2, max_features=sqrt, max_depth=89, bootstrap=True \n",
      "[CV]  n_estimators=800, min_samples_split=5, min_samples_leaf=2, max_features=sqrt, max_depth=89, bootstrap=True, total=  12.8s\n",
      "[CV] n_estimators=800, min_samples_split=5, min_samples_leaf=2, max_features=sqrt, max_depth=89, bootstrap=True \n",
      "[CV]  n_estimators=800, min_samples_split=5, min_samples_leaf=2, max_features=sqrt, max_depth=89, bootstrap=True, total=  10.9s\n",
      "[CV] n_estimators=100, min_samples_split=10, min_samples_leaf=2, max_features=auto, max_depth=57, bootstrap=True \n",
      "[CV]  n_estimators=100, min_samples_split=10, min_samples_leaf=2, max_features=auto, max_depth=57, bootstrap=True, total=   1.5s\n",
      "[CV] n_estimators=100, min_samples_split=10, min_samples_leaf=2, max_features=auto, max_depth=57, bootstrap=True \n",
      "[CV]  n_estimators=100, min_samples_split=10, min_samples_leaf=2, max_features=auto, max_depth=57, bootstrap=True, total=   1.3s\n",
      "[CV] n_estimators=100, min_samples_split=10, min_samples_leaf=2, max_features=auto, max_depth=57, bootstrap=True \n",
      "[CV]  n_estimators=100, min_samples_split=10, min_samples_leaf=2, max_features=auto, max_depth=57, bootstrap=True, total=   1.3s\n",
      "[CV] n_estimators=100, min_samples_split=10, min_samples_leaf=2, max_features=auto, max_depth=57, bootstrap=True \n",
      "[CV]  n_estimators=100, min_samples_split=10, min_samples_leaf=2, max_features=auto, max_depth=57, bootstrap=True, total=   1.3s\n",
      "[CV] n_estimators=100, min_samples_split=10, min_samples_leaf=2, max_features=auto, max_depth=57, bootstrap=True \n",
      "[CV]  n_estimators=100, min_samples_split=10, min_samples_leaf=2, max_features=auto, max_depth=57, bootstrap=True, total=   1.3s\n",
      "[CV] n_estimators=500, min_samples_split=2, min_samples_leaf=4, max_features=auto, max_depth=78, bootstrap=True \n",
      "[CV]  n_estimators=500, min_samples_split=2, min_samples_leaf=4, max_features=auto, max_depth=78, bootstrap=True, total=   5.3s\n",
      "[CV] n_estimators=500, min_samples_split=2, min_samples_leaf=4, max_features=auto, max_depth=78, bootstrap=True \n",
      "[CV]  n_estimators=500, min_samples_split=2, min_samples_leaf=4, max_features=auto, max_depth=78, bootstrap=True, total=   5.3s\n",
      "[CV] n_estimators=500, min_samples_split=2, min_samples_leaf=4, max_features=auto, max_depth=78, bootstrap=True \n",
      "[CV]  n_estimators=500, min_samples_split=2, min_samples_leaf=4, max_features=auto, max_depth=78, bootstrap=True, total=   5.2s\n",
      "[CV] n_estimators=500, min_samples_split=2, min_samples_leaf=4, max_features=auto, max_depth=78, bootstrap=True \n",
      "[CV]  n_estimators=500, min_samples_split=2, min_samples_leaf=4, max_features=auto, max_depth=78, bootstrap=True, total=   5.1s\n",
      "[CV] n_estimators=500, min_samples_split=2, min_samples_leaf=4, max_features=auto, max_depth=78, bootstrap=True \n",
      "[CV]  n_estimators=500, min_samples_split=2, min_samples_leaf=4, max_features=auto, max_depth=78, bootstrap=True, total=   4.8s\n",
      "[CV] n_estimators=100, min_samples_split=10, min_samples_leaf=4, max_features=sqrt, max_depth=89, bootstrap=False \n",
      "[CV]  n_estimators=100, min_samples_split=10, min_samples_leaf=4, max_features=sqrt, max_depth=89, bootstrap=False, total=   1.7s\n",
      "[CV] n_estimators=100, min_samples_split=10, min_samples_leaf=4, max_features=sqrt, max_depth=89, bootstrap=False \n",
      "[CV]  n_estimators=100, min_samples_split=10, min_samples_leaf=4, max_features=sqrt, max_depth=89, bootstrap=False, total=   1.7s\n",
      "[CV] n_estimators=100, min_samples_split=10, min_samples_leaf=4, max_features=sqrt, max_depth=89, bootstrap=False \n",
      "[CV]  n_estimators=100, min_samples_split=10, min_samples_leaf=4, max_features=sqrt, max_depth=89, bootstrap=False, total=   1.7s\n",
      "[CV] n_estimators=100, min_samples_split=10, min_samples_leaf=4, max_features=sqrt, max_depth=89, bootstrap=False \n",
      "[CV]  n_estimators=100, min_samples_split=10, min_samples_leaf=4, max_features=sqrt, max_depth=89, bootstrap=False, total=   1.7s\n",
      "[CV] n_estimators=100, min_samples_split=10, min_samples_leaf=4, max_features=sqrt, max_depth=89, bootstrap=False \n",
      "[CV]  n_estimators=100, min_samples_split=10, min_samples_leaf=4, max_features=sqrt, max_depth=89, bootstrap=False, total=   1.6s\n",
      "[CV] n_estimators=700, min_samples_split=5, min_samples_leaf=2, max_features=sqrt, max_depth=47, bootstrap=False \n",
      "[CV]  n_estimators=700, min_samples_split=5, min_samples_leaf=2, max_features=sqrt, max_depth=47, bootstrap=False, total=  13.2s\n",
      "[CV] n_estimators=700, min_samples_split=5, min_samples_leaf=2, max_features=sqrt, max_depth=47, bootstrap=False \n",
      "[CV]  n_estimators=700, min_samples_split=5, min_samples_leaf=2, max_features=sqrt, max_depth=47, bootstrap=False, total=  13.5s\n",
      "[CV] n_estimators=700, min_samples_split=5, min_samples_leaf=2, max_features=sqrt, max_depth=47, bootstrap=False \n",
      "[CV]  n_estimators=700, min_samples_split=5, min_samples_leaf=2, max_features=sqrt, max_depth=47, bootstrap=False, total=  13.2s\n",
      "[CV] n_estimators=700, min_samples_split=5, min_samples_leaf=2, max_features=sqrt, max_depth=47, bootstrap=False \n",
      "[CV]  n_estimators=700, min_samples_split=5, min_samples_leaf=2, max_features=sqrt, max_depth=47, bootstrap=False, total=  12.9s\n",
      "[CV] n_estimators=700, min_samples_split=5, min_samples_leaf=2, max_features=sqrt, max_depth=47, bootstrap=False \n",
      "[CV]  n_estimators=700, min_samples_split=5, min_samples_leaf=2, max_features=sqrt, max_depth=47, bootstrap=False, total=  12.4s\n",
      "[CV] n_estimators=700, min_samples_split=5, min_samples_leaf=4, max_features=auto, max_depth=5, bootstrap=False \n"
     ]
    },
    {
     "name": "stdout",
     "output_type": "stream",
     "text": [
      "[CV]  n_estimators=700, min_samples_split=5, min_samples_leaf=4, max_features=auto, max_depth=5, bootstrap=False, total=   6.7s\n",
      "[CV] n_estimators=700, min_samples_split=5, min_samples_leaf=4, max_features=auto, max_depth=5, bootstrap=False \n",
      "[CV]  n_estimators=700, min_samples_split=5, min_samples_leaf=4, max_features=auto, max_depth=5, bootstrap=False, total=   7.0s\n",
      "[CV] n_estimators=700, min_samples_split=5, min_samples_leaf=4, max_features=auto, max_depth=5, bootstrap=False \n",
      "[CV]  n_estimators=700, min_samples_split=5, min_samples_leaf=4, max_features=auto, max_depth=5, bootstrap=False, total=   7.1s\n",
      "[CV] n_estimators=700, min_samples_split=5, min_samples_leaf=4, max_features=auto, max_depth=5, bootstrap=False \n",
      "[CV]  n_estimators=700, min_samples_split=5, min_samples_leaf=4, max_features=auto, max_depth=5, bootstrap=False, total=   6.7s\n",
      "[CV] n_estimators=700, min_samples_split=5, min_samples_leaf=4, max_features=auto, max_depth=5, bootstrap=False \n",
      "[CV]  n_estimators=700, min_samples_split=5, min_samples_leaf=4, max_features=auto, max_depth=5, bootstrap=False, total=   6.7s\n",
      "[CV] n_estimators=100, min_samples_split=2, min_samples_leaf=2, max_features=auto, max_depth=47, bootstrap=True \n",
      "[CV]  n_estimators=100, min_samples_split=2, min_samples_leaf=2, max_features=auto, max_depth=47, bootstrap=True, total=   1.5s\n",
      "[CV] n_estimators=100, min_samples_split=2, min_samples_leaf=2, max_features=auto, max_depth=47, bootstrap=True \n",
      "[CV]  n_estimators=100, min_samples_split=2, min_samples_leaf=2, max_features=auto, max_depth=47, bootstrap=True, total=   1.4s\n",
      "[CV] n_estimators=100, min_samples_split=2, min_samples_leaf=2, max_features=auto, max_depth=47, bootstrap=True \n",
      "[CV]  n_estimators=100, min_samples_split=2, min_samples_leaf=2, max_features=auto, max_depth=47, bootstrap=True, total=   1.5s\n",
      "[CV] n_estimators=100, min_samples_split=2, min_samples_leaf=2, max_features=auto, max_depth=47, bootstrap=True \n",
      "[CV]  n_estimators=100, min_samples_split=2, min_samples_leaf=2, max_features=auto, max_depth=47, bootstrap=True, total=   1.4s\n",
      "[CV] n_estimators=100, min_samples_split=2, min_samples_leaf=2, max_features=auto, max_depth=47, bootstrap=True \n",
      "[CV]  n_estimators=100, min_samples_split=2, min_samples_leaf=2, max_features=auto, max_depth=47, bootstrap=True, total=   1.4s\n",
      "[CV] n_estimators=800, min_samples_split=5, min_samples_leaf=2, max_features=sqrt, max_depth=26, bootstrap=False \n",
      "[CV]  n_estimators=800, min_samples_split=5, min_samples_leaf=2, max_features=sqrt, max_depth=26, bootstrap=False, total=  15.3s\n",
      "[CV] n_estimators=800, min_samples_split=5, min_samples_leaf=2, max_features=sqrt, max_depth=26, bootstrap=False \n",
      "[CV]  n_estimators=800, min_samples_split=5, min_samples_leaf=2, max_features=sqrt, max_depth=26, bootstrap=False, total=  15.2s\n",
      "[CV] n_estimators=800, min_samples_split=5, min_samples_leaf=2, max_features=sqrt, max_depth=26, bootstrap=False \n",
      "[CV]  n_estimators=800, min_samples_split=5, min_samples_leaf=2, max_features=sqrt, max_depth=26, bootstrap=False, total=  15.0s\n",
      "[CV] n_estimators=800, min_samples_split=5, min_samples_leaf=2, max_features=sqrt, max_depth=26, bootstrap=False \n",
      "[CV]  n_estimators=800, min_samples_split=5, min_samples_leaf=2, max_features=sqrt, max_depth=26, bootstrap=False, total=  14.9s\n",
      "[CV] n_estimators=800, min_samples_split=5, min_samples_leaf=2, max_features=sqrt, max_depth=26, bootstrap=False \n",
      "[CV]  n_estimators=800, min_samples_split=5, min_samples_leaf=2, max_features=sqrt, max_depth=26, bootstrap=False, total=  14.4s\n",
      "[CV] n_estimators=500, min_samples_split=5, min_samples_leaf=2, max_features=auto, max_depth=26, bootstrap=True \n",
      "[CV]  n_estimators=500, min_samples_split=5, min_samples_leaf=2, max_features=auto, max_depth=26, bootstrap=True, total=   6.1s\n",
      "[CV] n_estimators=500, min_samples_split=5, min_samples_leaf=2, max_features=auto, max_depth=26, bootstrap=True \n",
      "[CV]  n_estimators=500, min_samples_split=5, min_samples_leaf=2, max_features=auto, max_depth=26, bootstrap=True, total=   6.3s\n",
      "[CV] n_estimators=500, min_samples_split=5, min_samples_leaf=2, max_features=auto, max_depth=26, bootstrap=True \n",
      "[CV]  n_estimators=500, min_samples_split=5, min_samples_leaf=2, max_features=auto, max_depth=26, bootstrap=True, total=   6.2s\n",
      "[CV] n_estimators=500, min_samples_split=5, min_samples_leaf=2, max_features=auto, max_depth=26, bootstrap=True \n",
      "[CV]  n_estimators=500, min_samples_split=5, min_samples_leaf=2, max_features=auto, max_depth=26, bootstrap=True, total=   6.2s\n",
      "[CV] n_estimators=500, min_samples_split=5, min_samples_leaf=2, max_features=auto, max_depth=26, bootstrap=True \n",
      "[CV]  n_estimators=500, min_samples_split=5, min_samples_leaf=2, max_features=auto, max_depth=26, bootstrap=True, total=   5.9s\n",
      "[CV] n_estimators=100, min_samples_split=2, min_samples_leaf=2, max_features=sqrt, max_depth=36, bootstrap=True \n",
      "[CV]  n_estimators=100, min_samples_split=2, min_samples_leaf=2, max_features=sqrt, max_depth=36, bootstrap=True, total=   1.4s\n",
      "[CV] n_estimators=100, min_samples_split=2, min_samples_leaf=2, max_features=sqrt, max_depth=36, bootstrap=True \n",
      "[CV]  n_estimators=100, min_samples_split=2, min_samples_leaf=2, max_features=sqrt, max_depth=36, bootstrap=True, total=   1.4s\n",
      "[CV] n_estimators=100, min_samples_split=2, min_samples_leaf=2, max_features=sqrt, max_depth=36, bootstrap=True \n",
      "[CV]  n_estimators=100, min_samples_split=2, min_samples_leaf=2, max_features=sqrt, max_depth=36, bootstrap=True, total=   1.5s\n",
      "[CV] n_estimators=100, min_samples_split=2, min_samples_leaf=2, max_features=sqrt, max_depth=36, bootstrap=True \n",
      "[CV]  n_estimators=100, min_samples_split=2, min_samples_leaf=2, max_features=sqrt, max_depth=36, bootstrap=True, total=   1.4s\n",
      "[CV] n_estimators=100, min_samples_split=2, min_samples_leaf=2, max_features=sqrt, max_depth=36, bootstrap=True \n",
      "[CV]  n_estimators=100, min_samples_split=2, min_samples_leaf=2, max_features=sqrt, max_depth=36, bootstrap=True, total=   1.5s\n",
      "[CV] n_estimators=100, min_samples_split=10, min_samples_leaf=4, max_features=sqrt, max_depth=68, bootstrap=False \n",
      "[CV]  n_estimators=100, min_samples_split=10, min_samples_leaf=4, max_features=sqrt, max_depth=68, bootstrap=False, total=   1.8s\n",
      "[CV] n_estimators=100, min_samples_split=10, min_samples_leaf=4, max_features=sqrt, max_depth=68, bootstrap=False \n",
      "[CV]  n_estimators=100, min_samples_split=10, min_samples_leaf=4, max_features=sqrt, max_depth=68, bootstrap=False, total=   1.8s\n",
      "[CV] n_estimators=100, min_samples_split=10, min_samples_leaf=4, max_features=sqrt, max_depth=68, bootstrap=False \n",
      "[CV]  n_estimators=100, min_samples_split=10, min_samples_leaf=4, max_features=sqrt, max_depth=68, bootstrap=False, total=   1.7s\n",
      "[CV] n_estimators=100, min_samples_split=10, min_samples_leaf=4, max_features=sqrt, max_depth=68, bootstrap=False \n",
      "[CV]  n_estimators=100, min_samples_split=10, min_samples_leaf=4, max_features=sqrt, max_depth=68, bootstrap=False, total=   1.6s\n",
      "[CV] n_estimators=100, min_samples_split=10, min_samples_leaf=4, max_features=sqrt, max_depth=68, bootstrap=False \n",
      "[CV]  n_estimators=100, min_samples_split=10, min_samples_leaf=4, max_features=sqrt, max_depth=68, bootstrap=False, total=   1.7s\n",
      "[CV] n_estimators=400, min_samples_split=10, min_samples_leaf=4, max_features=sqrt, max_depth=15, bootstrap=True \n",
      "[CV]  n_estimators=400, min_samples_split=10, min_samples_leaf=4, max_features=sqrt, max_depth=15, bootstrap=True, total=   4.1s\n",
      "[CV] n_estimators=400, min_samples_split=10, min_samples_leaf=4, max_features=sqrt, max_depth=15, bootstrap=True \n",
      "[CV]  n_estimators=400, min_samples_split=10, min_samples_leaf=4, max_features=sqrt, max_depth=15, bootstrap=True, total=   4.2s\n",
      "[CV] n_estimators=400, min_samples_split=10, min_samples_leaf=4, max_features=sqrt, max_depth=15, bootstrap=True \n",
      "[CV]  n_estimators=400, min_samples_split=10, min_samples_leaf=4, max_features=sqrt, max_depth=15, bootstrap=True, total=   4.0s\n",
      "[CV] n_estimators=400, min_samples_split=10, min_samples_leaf=4, max_features=sqrt, max_depth=15, bootstrap=True \n",
      "[CV]  n_estimators=400, min_samples_split=10, min_samples_leaf=4, max_features=sqrt, max_depth=15, bootstrap=True, total=   4.2s\n",
      "[CV] n_estimators=400, min_samples_split=10, min_samples_leaf=4, max_features=sqrt, max_depth=15, bootstrap=True \n"
     ]
    },
    {
     "name": "stdout",
     "output_type": "stream",
     "text": [
      "[CV]  n_estimators=400, min_samples_split=10, min_samples_leaf=4, max_features=sqrt, max_depth=15, bootstrap=True, total=   3.8s\n",
      "[CV] n_estimators=300, min_samples_split=2, min_samples_leaf=2, max_features=sqrt, max_depth=36, bootstrap=True \n",
      "[CV]  n_estimators=300, min_samples_split=2, min_samples_leaf=2, max_features=sqrt, max_depth=36, bootstrap=True, total=   4.0s\n",
      "[CV] n_estimators=300, min_samples_split=2, min_samples_leaf=2, max_features=sqrt, max_depth=36, bootstrap=True \n",
      "[CV]  n_estimators=300, min_samples_split=2, min_samples_leaf=2, max_features=sqrt, max_depth=36, bootstrap=True, total=   3.9s\n",
      "[CV] n_estimators=300, min_samples_split=2, min_samples_leaf=2, max_features=sqrt, max_depth=36, bootstrap=True \n",
      "[CV]  n_estimators=300, min_samples_split=2, min_samples_leaf=2, max_features=sqrt, max_depth=36, bootstrap=True, total=   4.0s\n",
      "[CV] n_estimators=300, min_samples_split=2, min_samples_leaf=2, max_features=sqrt, max_depth=36, bootstrap=True \n",
      "[CV]  n_estimators=300, min_samples_split=2, min_samples_leaf=2, max_features=sqrt, max_depth=36, bootstrap=True, total=   3.8s\n",
      "[CV] n_estimators=300, min_samples_split=2, min_samples_leaf=2, max_features=sqrt, max_depth=36, bootstrap=True \n",
      "[CV]  n_estimators=300, min_samples_split=2, min_samples_leaf=2, max_features=sqrt, max_depth=36, bootstrap=True, total=   3.8s\n",
      "[CV] n_estimators=500, min_samples_split=2, min_samples_leaf=4, max_features=auto, max_depth=15, bootstrap=False \n",
      "[CV]  n_estimators=500, min_samples_split=2, min_samples_leaf=4, max_features=auto, max_depth=15, bootstrap=False, total=   8.0s\n",
      "[CV] n_estimators=500, min_samples_split=2, min_samples_leaf=4, max_features=auto, max_depth=15, bootstrap=False \n",
      "[CV]  n_estimators=500, min_samples_split=2, min_samples_leaf=4, max_features=auto, max_depth=15, bootstrap=False, total=   8.0s\n",
      "[CV] n_estimators=500, min_samples_split=2, min_samples_leaf=4, max_features=auto, max_depth=15, bootstrap=False \n",
      "[CV]  n_estimators=500, min_samples_split=2, min_samples_leaf=4, max_features=auto, max_depth=15, bootstrap=False, total=   8.0s\n",
      "[CV] n_estimators=500, min_samples_split=2, min_samples_leaf=4, max_features=auto, max_depth=15, bootstrap=False \n",
      "[CV]  n_estimators=500, min_samples_split=2, min_samples_leaf=4, max_features=auto, max_depth=15, bootstrap=False, total=   7.8s\n",
      "[CV] n_estimators=500, min_samples_split=2, min_samples_leaf=4, max_features=auto, max_depth=15, bootstrap=False \n",
      "[CV]  n_estimators=500, min_samples_split=2, min_samples_leaf=4, max_features=auto, max_depth=15, bootstrap=False, total=   7.8s\n",
      "[CV] n_estimators=900, min_samples_split=10, min_samples_leaf=4, max_features=auto, max_depth=47, bootstrap=False \n",
      "[CV]  n_estimators=900, min_samples_split=10, min_samples_leaf=4, max_features=auto, max_depth=47, bootstrap=False, total=  14.0s\n",
      "[CV] n_estimators=900, min_samples_split=10, min_samples_leaf=4, max_features=auto, max_depth=47, bootstrap=False \n",
      "[CV]  n_estimators=900, min_samples_split=10, min_samples_leaf=4, max_features=auto, max_depth=47, bootstrap=False, total=  14.1s\n",
      "[CV] n_estimators=900, min_samples_split=10, min_samples_leaf=4, max_features=auto, max_depth=47, bootstrap=False \n",
      "[CV]  n_estimators=900, min_samples_split=10, min_samples_leaf=4, max_features=auto, max_depth=47, bootstrap=False, total=  13.5s\n",
      "[CV] n_estimators=900, min_samples_split=10, min_samples_leaf=4, max_features=auto, max_depth=47, bootstrap=False \n",
      "[CV]  n_estimators=900, min_samples_split=10, min_samples_leaf=4, max_features=auto, max_depth=47, bootstrap=False, total=  13.8s\n",
      "[CV] n_estimators=900, min_samples_split=10, min_samples_leaf=4, max_features=auto, max_depth=47, bootstrap=False \n",
      "[CV]  n_estimators=900, min_samples_split=10, min_samples_leaf=4, max_features=auto, max_depth=47, bootstrap=False, total=  13.4s\n",
      "[CV] n_estimators=700, min_samples_split=2, min_samples_leaf=2, max_features=auto, max_depth=89, bootstrap=False \n",
      "[CV]  n_estimators=700, min_samples_split=2, min_samples_leaf=2, max_features=auto, max_depth=89, bootstrap=False, total=  13.8s\n",
      "[CV] n_estimators=700, min_samples_split=2, min_samples_leaf=2, max_features=auto, max_depth=89, bootstrap=False \n",
      "[CV]  n_estimators=700, min_samples_split=2, min_samples_leaf=2, max_features=auto, max_depth=89, bootstrap=False, total=  13.7s\n",
      "[CV] n_estimators=700, min_samples_split=2, min_samples_leaf=2, max_features=auto, max_depth=89, bootstrap=False \n",
      "[CV]  n_estimators=700, min_samples_split=2, min_samples_leaf=2, max_features=auto, max_depth=89, bootstrap=False, total=  13.4s\n",
      "[CV] n_estimators=700, min_samples_split=2, min_samples_leaf=2, max_features=auto, max_depth=89, bootstrap=False \n",
      "[CV]  n_estimators=700, min_samples_split=2, min_samples_leaf=2, max_features=auto, max_depth=89, bootstrap=False, total=  13.4s\n",
      "[CV] n_estimators=700, min_samples_split=2, min_samples_leaf=2, max_features=auto, max_depth=89, bootstrap=False \n",
      "[CV]  n_estimators=700, min_samples_split=2, min_samples_leaf=2, max_features=auto, max_depth=89, bootstrap=False, total=  14.1s\n",
      "[CV] n_estimators=1000, min_samples_split=5, min_samples_leaf=2, max_features=sqrt, max_depth=5, bootstrap=False \n",
      "[CV]  n_estimators=1000, min_samples_split=5, min_samples_leaf=2, max_features=sqrt, max_depth=5, bootstrap=False, total=  10.8s\n",
      "[CV] n_estimators=1000, min_samples_split=5, min_samples_leaf=2, max_features=sqrt, max_depth=5, bootstrap=False \n",
      "[CV]  n_estimators=1000, min_samples_split=5, min_samples_leaf=2, max_features=sqrt, max_depth=5, bootstrap=False, total=  10.3s\n",
      "[CV] n_estimators=1000, min_samples_split=5, min_samples_leaf=2, max_features=sqrt, max_depth=5, bootstrap=False \n",
      "[CV]  n_estimators=1000, min_samples_split=5, min_samples_leaf=2, max_features=sqrt, max_depth=5, bootstrap=False, total=  10.3s\n",
      "[CV] n_estimators=1000, min_samples_split=5, min_samples_leaf=2, max_features=sqrt, max_depth=5, bootstrap=False \n",
      "[CV]  n_estimators=1000, min_samples_split=5, min_samples_leaf=2, max_features=sqrt, max_depth=5, bootstrap=False, total=  10.3s\n",
      "[CV] n_estimators=1000, min_samples_split=5, min_samples_leaf=2, max_features=sqrt, max_depth=5, bootstrap=False \n",
      "[CV]  n_estimators=1000, min_samples_split=5, min_samples_leaf=2, max_features=sqrt, max_depth=5, bootstrap=False, total=   9.9s\n",
      "[CV] n_estimators=800, min_samples_split=10, min_samples_leaf=2, max_features=sqrt, max_depth=47, bootstrap=True \n",
      "[CV]  n_estimators=800, min_samples_split=10, min_samples_leaf=2, max_features=sqrt, max_depth=47, bootstrap=True, total=   9.0s\n",
      "[CV] n_estimators=800, min_samples_split=10, min_samples_leaf=2, max_features=sqrt, max_depth=47, bootstrap=True \n",
      "[CV]  n_estimators=800, min_samples_split=10, min_samples_leaf=2, max_features=sqrt, max_depth=47, bootstrap=True, total=   9.0s\n",
      "[CV] n_estimators=800, min_samples_split=10, min_samples_leaf=2, max_features=sqrt, max_depth=47, bootstrap=True \n",
      "[CV]  n_estimators=800, min_samples_split=10, min_samples_leaf=2, max_features=sqrt, max_depth=47, bootstrap=True, total=   9.4s\n",
      "[CV] n_estimators=800, min_samples_split=10, min_samples_leaf=2, max_features=sqrt, max_depth=47, bootstrap=True \n",
      "[CV]  n_estimators=800, min_samples_split=10, min_samples_leaf=2, max_features=sqrt, max_depth=47, bootstrap=True, total=   9.2s\n",
      "[CV] n_estimators=800, min_samples_split=10, min_samples_leaf=2, max_features=sqrt, max_depth=47, bootstrap=True \n",
      "[CV]  n_estimators=800, min_samples_split=10, min_samples_leaf=2, max_features=sqrt, max_depth=47, bootstrap=True, total=   8.6s\n",
      "[CV] n_estimators=200, min_samples_split=5, min_samples_leaf=4, max_features=auto, max_depth=5, bootstrap=False \n",
      "[CV]  n_estimators=200, min_samples_split=5, min_samples_leaf=4, max_features=auto, max_depth=5, bootstrap=False, total=   2.1s\n",
      "[CV] n_estimators=200, min_samples_split=5, min_samples_leaf=4, max_features=auto, max_depth=5, bootstrap=False \n",
      "[CV]  n_estimators=200, min_samples_split=5, min_samples_leaf=4, max_features=auto, max_depth=5, bootstrap=False, total=   2.1s\n",
      "[CV] n_estimators=200, min_samples_split=5, min_samples_leaf=4, max_features=auto, max_depth=5, bootstrap=False \n",
      "[CV]  n_estimators=200, min_samples_split=5, min_samples_leaf=4, max_features=auto, max_depth=5, bootstrap=False, total=   2.1s\n",
      "[CV] n_estimators=200, min_samples_split=5, min_samples_leaf=4, max_features=auto, max_depth=5, bootstrap=False \n"
     ]
    },
    {
     "name": "stdout",
     "output_type": "stream",
     "text": [
      "[CV]  n_estimators=200, min_samples_split=5, min_samples_leaf=4, max_features=auto, max_depth=5, bootstrap=False, total=   2.0s\n",
      "[CV] n_estimators=200, min_samples_split=5, min_samples_leaf=4, max_features=auto, max_depth=5, bootstrap=False \n",
      "[CV]  n_estimators=200, min_samples_split=5, min_samples_leaf=4, max_features=auto, max_depth=5, bootstrap=False, total=   2.1s\n",
      "[CV] n_estimators=100, min_samples_split=10, min_samples_leaf=2, max_features=auto, max_depth=100, bootstrap=True \n",
      "[CV]  n_estimators=100, min_samples_split=10, min_samples_leaf=2, max_features=auto, max_depth=100, bootstrap=True, total=   1.3s\n",
      "[CV] n_estimators=100, min_samples_split=10, min_samples_leaf=2, max_features=auto, max_depth=100, bootstrap=True \n",
      "[CV]  n_estimators=100, min_samples_split=10, min_samples_leaf=2, max_features=auto, max_depth=100, bootstrap=True, total=   1.3s\n",
      "[CV] n_estimators=100, min_samples_split=10, min_samples_leaf=2, max_features=auto, max_depth=100, bootstrap=True \n",
      "[CV]  n_estimators=100, min_samples_split=10, min_samples_leaf=2, max_features=auto, max_depth=100, bootstrap=True, total=   1.3s\n",
      "[CV] n_estimators=100, min_samples_split=10, min_samples_leaf=2, max_features=auto, max_depth=100, bootstrap=True \n",
      "[CV]  n_estimators=100, min_samples_split=10, min_samples_leaf=2, max_features=auto, max_depth=100, bootstrap=True, total=   1.2s\n",
      "[CV] n_estimators=100, min_samples_split=10, min_samples_leaf=2, max_features=auto, max_depth=100, bootstrap=True \n",
      "[CV]  n_estimators=100, min_samples_split=10, min_samples_leaf=2, max_features=auto, max_depth=100, bootstrap=True, total=   1.2s\n",
      "[CV] n_estimators=600, min_samples_split=5, min_samples_leaf=4, max_features=auto, max_depth=100, bootstrap=True \n",
      "[CV]  n_estimators=600, min_samples_split=5, min_samples_leaf=4, max_features=auto, max_depth=100, bootstrap=True, total=   6.0s\n",
      "[CV] n_estimators=600, min_samples_split=5, min_samples_leaf=4, max_features=auto, max_depth=100, bootstrap=True \n",
      "[CV]  n_estimators=600, min_samples_split=5, min_samples_leaf=4, max_features=auto, max_depth=100, bootstrap=True, total=   6.3s\n",
      "[CV] n_estimators=600, min_samples_split=5, min_samples_leaf=4, max_features=auto, max_depth=100, bootstrap=True \n",
      "[CV]  n_estimators=600, min_samples_split=5, min_samples_leaf=4, max_features=auto, max_depth=100, bootstrap=True, total=   6.4s\n",
      "[CV] n_estimators=600, min_samples_split=5, min_samples_leaf=4, max_features=auto, max_depth=100, bootstrap=True \n",
      "[CV]  n_estimators=600, min_samples_split=5, min_samples_leaf=4, max_features=auto, max_depth=100, bootstrap=True, total=   6.2s\n",
      "[CV] n_estimators=600, min_samples_split=5, min_samples_leaf=4, max_features=auto, max_depth=100, bootstrap=True \n",
      "[CV]  n_estimators=600, min_samples_split=5, min_samples_leaf=4, max_features=auto, max_depth=100, bootstrap=True, total=   6.0s\n",
      "[CV] n_estimators=900, min_samples_split=2, min_samples_leaf=2, max_features=auto, max_depth=57, bootstrap=False \n",
      "[CV]  n_estimators=900, min_samples_split=2, min_samples_leaf=2, max_features=auto, max_depth=57, bootstrap=False, total=  17.8s\n",
      "[CV] n_estimators=900, min_samples_split=2, min_samples_leaf=2, max_features=auto, max_depth=57, bootstrap=False \n",
      "[CV]  n_estimators=900, min_samples_split=2, min_samples_leaf=2, max_features=auto, max_depth=57, bootstrap=False, total=  17.5s\n",
      "[CV] n_estimators=900, min_samples_split=2, min_samples_leaf=2, max_features=auto, max_depth=57, bootstrap=False \n",
      "[CV]  n_estimators=900, min_samples_split=2, min_samples_leaf=2, max_features=auto, max_depth=57, bootstrap=False, total=  17.3s\n",
      "[CV] n_estimators=900, min_samples_split=2, min_samples_leaf=2, max_features=auto, max_depth=57, bootstrap=False \n",
      "[CV]  n_estimators=900, min_samples_split=2, min_samples_leaf=2, max_features=auto, max_depth=57, bootstrap=False, total=  17.2s\n",
      "[CV] n_estimators=900, min_samples_split=2, min_samples_leaf=2, max_features=auto, max_depth=57, bootstrap=False \n",
      "[CV]  n_estimators=900, min_samples_split=2, min_samples_leaf=2, max_features=auto, max_depth=57, bootstrap=False, total=  16.6s\n",
      "[CV] n_estimators=300, min_samples_split=5, min_samples_leaf=4, max_features=auto, max_depth=78, bootstrap=False \n",
      "[CV]  n_estimators=300, min_samples_split=5, min_samples_leaf=4, max_features=auto, max_depth=78, bootstrap=False, total=   5.1s\n",
      "[CV] n_estimators=300, min_samples_split=5, min_samples_leaf=4, max_features=auto, max_depth=78, bootstrap=False \n",
      "[CV]  n_estimators=300, min_samples_split=5, min_samples_leaf=4, max_features=auto, max_depth=78, bootstrap=False, total=   4.9s\n",
      "[CV] n_estimators=300, min_samples_split=5, min_samples_leaf=4, max_features=auto, max_depth=78, bootstrap=False \n",
      "[CV]  n_estimators=300, min_samples_split=5, min_samples_leaf=4, max_features=auto, max_depth=78, bootstrap=False, total=   4.8s\n",
      "[CV] n_estimators=300, min_samples_split=5, min_samples_leaf=4, max_features=auto, max_depth=78, bootstrap=False \n",
      "[CV]  n_estimators=300, min_samples_split=5, min_samples_leaf=4, max_features=auto, max_depth=78, bootstrap=False, total=   5.1s\n",
      "[CV] n_estimators=300, min_samples_split=5, min_samples_leaf=4, max_features=auto, max_depth=78, bootstrap=False \n",
      "[CV]  n_estimators=300, min_samples_split=5, min_samples_leaf=4, max_features=auto, max_depth=78, bootstrap=False, total=   4.6s\n",
      "[CV] n_estimators=200, min_samples_split=5, min_samples_leaf=4, max_features=sqrt, max_depth=15, bootstrap=True \n",
      "[CV]  n_estimators=200, min_samples_split=5, min_samples_leaf=4, max_features=sqrt, max_depth=15, bootstrap=True, total=   2.2s\n",
      "[CV] n_estimators=200, min_samples_split=5, min_samples_leaf=4, max_features=sqrt, max_depth=15, bootstrap=True \n",
      "[CV]  n_estimators=200, min_samples_split=5, min_samples_leaf=4, max_features=sqrt, max_depth=15, bootstrap=True, total=   2.2s\n",
      "[CV] n_estimators=200, min_samples_split=5, min_samples_leaf=4, max_features=sqrt, max_depth=15, bootstrap=True \n",
      "[CV]  n_estimators=200, min_samples_split=5, min_samples_leaf=4, max_features=sqrt, max_depth=15, bootstrap=True, total=   2.2s\n",
      "[CV] n_estimators=200, min_samples_split=5, min_samples_leaf=4, max_features=sqrt, max_depth=15, bootstrap=True \n",
      "[CV]  n_estimators=200, min_samples_split=5, min_samples_leaf=4, max_features=sqrt, max_depth=15, bootstrap=True, total=   2.3s\n",
      "[CV] n_estimators=200, min_samples_split=5, min_samples_leaf=4, max_features=sqrt, max_depth=15, bootstrap=True \n",
      "[CV]  n_estimators=200, min_samples_split=5, min_samples_leaf=4, max_features=sqrt, max_depth=15, bootstrap=True, total=   2.1s\n",
      "[CV] n_estimators=1000, min_samples_split=10, min_samples_leaf=2, max_features=auto, max_depth=5, bootstrap=False \n",
      "[CV]  n_estimators=1000, min_samples_split=10, min_samples_leaf=2, max_features=auto, max_depth=5, bootstrap=False, total=   9.8s\n",
      "[CV] n_estimators=1000, min_samples_split=10, min_samples_leaf=2, max_features=auto, max_depth=5, bootstrap=False \n",
      "[CV]  n_estimators=1000, min_samples_split=10, min_samples_leaf=2, max_features=auto, max_depth=5, bootstrap=False, total=   9.8s\n",
      "[CV] n_estimators=1000, min_samples_split=10, min_samples_leaf=2, max_features=auto, max_depth=5, bootstrap=False \n",
      "[CV]  n_estimators=1000, min_samples_split=10, min_samples_leaf=2, max_features=auto, max_depth=5, bootstrap=False, total=   9.7s\n",
      "[CV] n_estimators=1000, min_samples_split=10, min_samples_leaf=2, max_features=auto, max_depth=5, bootstrap=False \n",
      "[CV]  n_estimators=1000, min_samples_split=10, min_samples_leaf=2, max_features=auto, max_depth=5, bootstrap=False, total=   9.6s\n",
      "[CV] n_estimators=1000, min_samples_split=10, min_samples_leaf=2, max_features=auto, max_depth=5, bootstrap=False \n",
      "[CV]  n_estimators=1000, min_samples_split=10, min_samples_leaf=2, max_features=auto, max_depth=5, bootstrap=False, total=   9.7s\n",
      "[CV] n_estimators=600, min_samples_split=2, min_samples_leaf=4, max_features=sqrt, max_depth=26, bootstrap=False \n",
      "[CV]  n_estimators=600, min_samples_split=2, min_samples_leaf=4, max_features=sqrt, max_depth=26, bootstrap=False, total=   9.7s\n",
      "[CV] n_estimators=600, min_samples_split=2, min_samples_leaf=4, max_features=sqrt, max_depth=26, bootstrap=False \n",
      "[CV]  n_estimators=600, min_samples_split=2, min_samples_leaf=4, max_features=sqrt, max_depth=26, bootstrap=False, total=   9.8s\n",
      "[CV] n_estimators=600, min_samples_split=2, min_samples_leaf=4, max_features=sqrt, max_depth=26, bootstrap=False \n"
     ]
    },
    {
     "name": "stdout",
     "output_type": "stream",
     "text": [
      "[CV]  n_estimators=600, min_samples_split=2, min_samples_leaf=4, max_features=sqrt, max_depth=26, bootstrap=False, total=   9.8s\n",
      "[CV] n_estimators=600, min_samples_split=2, min_samples_leaf=4, max_features=sqrt, max_depth=26, bootstrap=False \n",
      "[CV]  n_estimators=600, min_samples_split=2, min_samples_leaf=4, max_features=sqrt, max_depth=26, bootstrap=False, total=  10.2s\n",
      "[CV] n_estimators=600, min_samples_split=2, min_samples_leaf=4, max_features=sqrt, max_depth=26, bootstrap=False \n",
      "[CV]  n_estimators=600, min_samples_split=2, min_samples_leaf=4, max_features=sqrt, max_depth=26, bootstrap=False, total=   9.2s\n",
      "[CV] n_estimators=800, min_samples_split=5, min_samples_leaf=2, max_features=auto, max_depth=57, bootstrap=False \n",
      "[CV]  n_estimators=800, min_samples_split=5, min_samples_leaf=2, max_features=auto, max_depth=57, bootstrap=False, total=  15.6s\n",
      "[CV] n_estimators=800, min_samples_split=5, min_samples_leaf=2, max_features=auto, max_depth=57, bootstrap=False \n",
      "[CV]  n_estimators=800, min_samples_split=5, min_samples_leaf=2, max_features=auto, max_depth=57, bootstrap=False, total=  15.1s\n",
      "[CV] n_estimators=800, min_samples_split=5, min_samples_leaf=2, max_features=auto, max_depth=57, bootstrap=False \n",
      "[CV]  n_estimators=800, min_samples_split=5, min_samples_leaf=2, max_features=auto, max_depth=57, bootstrap=False, total=  15.1s\n",
      "[CV] n_estimators=800, min_samples_split=5, min_samples_leaf=2, max_features=auto, max_depth=57, bootstrap=False \n",
      "[CV]  n_estimators=800, min_samples_split=5, min_samples_leaf=2, max_features=auto, max_depth=57, bootstrap=False, total=  14.7s\n",
      "[CV] n_estimators=800, min_samples_split=5, min_samples_leaf=2, max_features=auto, max_depth=57, bootstrap=False \n",
      "[CV]  n_estimators=800, min_samples_split=5, min_samples_leaf=2, max_features=auto, max_depth=57, bootstrap=False, total=  14.1s\n",
      "[CV] n_estimators=300, min_samples_split=10, min_samples_leaf=2, max_features=sqrt, max_depth=68, bootstrap=False \n",
      "[CV]  n_estimators=300, min_samples_split=10, min_samples_leaf=2, max_features=sqrt, max_depth=68, bootstrap=False, total=   5.4s\n",
      "[CV] n_estimators=300, min_samples_split=10, min_samples_leaf=2, max_features=sqrt, max_depth=68, bootstrap=False \n",
      "[CV]  n_estimators=300, min_samples_split=10, min_samples_leaf=2, max_features=sqrt, max_depth=68, bootstrap=False, total=   5.4s\n",
      "[CV] n_estimators=300, min_samples_split=10, min_samples_leaf=2, max_features=sqrt, max_depth=68, bootstrap=False \n",
      "[CV]  n_estimators=300, min_samples_split=10, min_samples_leaf=2, max_features=sqrt, max_depth=68, bootstrap=False, total=   5.3s\n",
      "[CV] n_estimators=300, min_samples_split=10, min_samples_leaf=2, max_features=sqrt, max_depth=68, bootstrap=False \n",
      "[CV]  n_estimators=300, min_samples_split=10, min_samples_leaf=2, max_features=sqrt, max_depth=68, bootstrap=False, total=   5.3s\n",
      "[CV] n_estimators=300, min_samples_split=10, min_samples_leaf=2, max_features=sqrt, max_depth=68, bootstrap=False \n",
      "[CV]  n_estimators=300, min_samples_split=10, min_samples_leaf=2, max_features=sqrt, max_depth=68, bootstrap=False, total=   5.1s\n",
      "[CV] n_estimators=100, min_samples_split=2, min_samples_leaf=4, max_features=auto, max_depth=None, bootstrap=False \n",
      "[CV]  n_estimators=100, min_samples_split=2, min_samples_leaf=4, max_features=auto, max_depth=None, bootstrap=False, total=   1.8s\n",
      "[CV] n_estimators=100, min_samples_split=2, min_samples_leaf=4, max_features=auto, max_depth=None, bootstrap=False \n",
      "[CV]  n_estimators=100, min_samples_split=2, min_samples_leaf=4, max_features=auto, max_depth=None, bootstrap=False, total=   1.8s\n",
      "[CV] n_estimators=100, min_samples_split=2, min_samples_leaf=4, max_features=auto, max_depth=None, bootstrap=False \n",
      "[CV]  n_estimators=100, min_samples_split=2, min_samples_leaf=4, max_features=auto, max_depth=None, bootstrap=False, total=   1.7s\n",
      "[CV] n_estimators=100, min_samples_split=2, min_samples_leaf=4, max_features=auto, max_depth=None, bootstrap=False \n",
      "[CV]  n_estimators=100, min_samples_split=2, min_samples_leaf=4, max_features=auto, max_depth=None, bootstrap=False, total=   1.7s\n",
      "[CV] n_estimators=100, min_samples_split=2, min_samples_leaf=4, max_features=auto, max_depth=None, bootstrap=False \n",
      "[CV]  n_estimators=100, min_samples_split=2, min_samples_leaf=4, max_features=auto, max_depth=None, bootstrap=False, total=   1.7s\n",
      "[CV] n_estimators=400, min_samples_split=5, min_samples_leaf=4, max_features=sqrt, max_depth=36, bootstrap=False \n",
      "[CV]  n_estimators=400, min_samples_split=5, min_samples_leaf=4, max_features=sqrt, max_depth=36, bootstrap=False, total=   6.3s\n",
      "[CV] n_estimators=400, min_samples_split=5, min_samples_leaf=4, max_features=sqrt, max_depth=36, bootstrap=False \n",
      "[CV]  n_estimators=400, min_samples_split=5, min_samples_leaf=4, max_features=sqrt, max_depth=36, bootstrap=False, total=   6.4s\n",
      "[CV] n_estimators=400, min_samples_split=5, min_samples_leaf=4, max_features=sqrt, max_depth=36, bootstrap=False \n",
      "[CV]  n_estimators=400, min_samples_split=5, min_samples_leaf=4, max_features=sqrt, max_depth=36, bootstrap=False, total=   6.3s\n",
      "[CV] n_estimators=400, min_samples_split=5, min_samples_leaf=4, max_features=sqrt, max_depth=36, bootstrap=False \n",
      "[CV]  n_estimators=400, min_samples_split=5, min_samples_leaf=4, max_features=sqrt, max_depth=36, bootstrap=False, total=   6.3s\n",
      "[CV] n_estimators=400, min_samples_split=5, min_samples_leaf=4, max_features=sqrt, max_depth=36, bootstrap=False \n",
      "[CV]  n_estimators=400, min_samples_split=5, min_samples_leaf=4, max_features=sqrt, max_depth=36, bootstrap=False, total=   6.1s\n"
     ]
    },
    {
     "name": "stderr",
     "output_type": "stream",
     "text": [
      "[Parallel(n_jobs=1)]: Done 500 out of 500 | elapsed: 49.9min finished\n"
     ]
    },
    {
     "data": {
      "text/plain": [
       "RandomizedSearchCV(cv=5, error_score=nan,\n",
       "                   estimator=RandomForestClassifier(bootstrap=True,\n",
       "                                                    ccp_alpha=0.0,\n",
       "                                                    class_weight=None,\n",
       "                                                    criterion='gini',\n",
       "                                                    max_depth=None,\n",
       "                                                    max_features='auto',\n",
       "                                                    max_leaf_nodes=None,\n",
       "                                                    max_samples=None,\n",
       "                                                    min_impurity_decrease=0.0,\n",
       "                                                    min_impurity_split=None,\n",
       "                                                    min_samples_leaf=1,\n",
       "                                                    min_samples_split=2,\n",
       "                                                    min_weight_fraction_leaf=0.0,\n",
       "                                                    n_estimators=100,\n",
       "                                                    n_jobs...\n",
       "                   iid='deprecated', n_iter=100, n_jobs=1,\n",
       "                   param_distributions={'bootstrap': [True, False],\n",
       "                                        'max_depth': [5, 15, 26, 36, 47, 57, 68,\n",
       "                                                      78, 89, 100, None],\n",
       "                                        'max_features': ['auto', 'sqrt'],\n",
       "                                        'min_samples_leaf': [2, 4],\n",
       "                                        'min_samples_split': [2, 5, 10],\n",
       "                                        'n_estimators': [100, 200, 300, 400,\n",
       "                                                         500, 600, 700, 800,\n",
       "                                                         900, 1000]},\n",
       "                   pre_dispatch='2*n_jobs', random_state=42, refit=True,\n",
       "                   return_train_score=False, scoring=None, verbose=2)"
      ]
     },
     "execution_count": 350,
     "metadata": {},
     "output_type": "execute_result"
    }
   ],
   "source": [
    "#Fit the random search model  (takes 4 hour 30 mins for the full dataset min features) \n",
    "rf_random.fit(X_train, y_train)"
   ]
  },
  {
   "cell_type": "code",
   "execution_count": 351,
   "metadata": {},
   "outputs": [
    {
     "data": {
      "text/plain": [
       "{'n_estimators': 100,\n",
       " 'min_samples_split': 10,\n",
       " 'min_samples_leaf': 2,\n",
       " 'max_features': 'sqrt',\n",
       " 'max_depth': 68,\n",
       " 'bootstrap': False}"
      ]
     },
     "execution_count": 351,
     "metadata": {},
     "output_type": "execute_result"
    }
   ],
   "source": [
    "rf_random.best_params_\n",
    "\n",
    "# CLASS1\n",
    "# for min features /full dataset\n",
    "#{'n_estimators': 1000,'min_samples_split': 5,'min_samples_leaf': 4,'max_features': 'sqrt','max_depth': 47,'bootstrap': False}\n",
    "\n",
    "# max features /1% data\n",
    "#{'n_est': 500,'min_samples_split': 5,'min_samples_leaf': 4,'max_features': 'auto','max_depth': 5,'bootstrap': True}\n",
    "\n",
    "#CLASS2\n",
    "# min features / 1% Data\n",
    "#{'n_est': 200, 'min_samples_split': 5,'min_samples_leaf': 4,'max_features': 'auto','max_depth': 5,'bootstrap': False}\n",
    "\n",
    "# max f / 1 % data\n",
    "# {'n_est': 100, 'min_samples_split': 10,'min_samples_leaf': 4,'max_features': 'sqrt','max_depth': 89,'bootstrap': False}\n",
    "\n",
    "#CLASS3\n",
    "#min / 1% data\n",
    "# {'n_est': 100,'min_samples_split': 10,'min_samples_leaf': 2,'max_features': 'auto','max_depth': 26,'bootstrap': False}\n",
    "\n",
    "#max / 1% data\n",
    "#{'n_est': 100,'min_samples_split': 10,'min_samples_leaf': 2,'max_features': 'sqrt','max_depth': 68,'bootstrap': False}"
   ]
  },
  {
   "cell_type": "markdown",
   "metadata": {},
   "source": [
    "# Use the parameters found"
   ]
  },
  {
   "cell_type": "code",
   "execution_count": 352,
   "metadata": {},
   "outputs": [
    {
     "name": "stdout",
     "output_type": "stream",
     "text": [
      "build RF\n",
      "train RF\n",
      "predictions\n",
      "RF accuracy for Classifier None vs. Any AKI : 0.8864\n",
      "Area Under ROC Curve: 0.7101\n",
      "Area Under PR Curve(AP): 0.4272\n"
     ]
    }
   ],
   "source": [
    "print(\"build RF\")\n",
    "# building RF (default parameters)\n",
    "rf2_model = RandomForestClassifier(n_estimators=100,criterion='gini',max_depth=68,min_samples_split=10,min_samples_leaf=2,\n",
    "                                  min_weight_fraction_leaf=0.0,max_features='sqrt',max_leaf_nodes=None,min_impurity_decrease=0.0,\n",
    "                                  min_impurity_split=None,bootstrap=False,oob_score=False,n_jobs=None,random_state=None,verbose=0,\n",
    "                                  warm_start=False,class_weight=None,ccp_alpha=0.0,max_samples=None)\n",
    "\n",
    "\n",
    "print(\"train RF\")\n",
    "# train RF\n",
    "rf2_model.fit(X_train, y_train)\n",
    "\n",
    "print(\"predictions\")\n",
    "#Make predictions \n",
    "RF_pred = rf2_model.predict(X_test)\n",
    "RF_probs = rf2_model.predict_proba(X_test)[::,1] # probability of class 1\n",
    "\n",
    "# accuracy\n",
    "print('RF accuracy for Classifier ' + str(classifier_name) + ' : {:.4f}'.format(accuracy_score(y_test, RF_pred)))\n",
    "\n",
    "# ROC AUC | ROC curve\n",
    "fpr_RF, tpr_RF, _ = roc_curve(y_test, RF_probs)\n",
    "roc_auc_RF = roc_auc_score(y_test, RF_probs)\n",
    "print (\"Area Under ROC Curve: %0.4f\" % roc_auc_RF)\n",
    "\n",
    "\n",
    "# PR AUC | Precision-Recall curve\n",
    "precision_RF, recall_RF, _ = precision_recall_curve(y_test, RF_probs)\n",
    "pr_auc_RF = auc(recall_RF, precision_RF)\n",
    "print (\"Area Under PR Curve(AP): %0.4f\" % pr_auc_RF  )"
   ]
  },
  {
   "cell_type": "code",
   "execution_count": 308,
   "metadata": {},
   "outputs": [],
   "source": [
    "#Improved RF accuracy for Classifier None vs. Any AKI :    0.0367\n",
    "#Improved Area Under ROC Curve:     0,0305\n",
    "#Improved Area Under PR Curve(AP): 0,0258"
   ]
  },
  {
   "cell_type": "code",
   "execution_count": 309,
   "metadata": {},
   "outputs": [
    {
     "name": "stdout",
     "output_type": "stream",
     "text": [
      "compute calibration curve\n"
     ]
    }
   ],
   "source": [
    "print(\"compute calibration curve\")\n",
    "# calibration curve\n",
    "rf_y, rf_x = calibration_curve(y_test, RF_pred, n_bins=10)"
   ]
  },
  {
   "cell_type": "code",
   "execution_count": 310,
   "metadata": {},
   "outputs": [
    {
     "name": "stdout",
     "output_type": "stream",
     "text": [
      "The missing bins have midpoint values of  15%, 25%, 35%, 45%, 55%, 65%, 75%, 85%, \n"
     ]
    }
   ],
   "source": [
    "#find out which one are the missing bins\n",
    "bin_array = bin_total(y_test, RF_pred , n_bins=10)\n",
    "print(missing_bin(bin_array))"
   ]
  },
  {
   "cell_type": "code",
   "execution_count": 311,
   "metadata": {},
   "outputs": [
    {
     "name": "stdout",
     "output_type": "stream",
     "text": [
      "plot curves and save in one png file\n"
     ]
    },
    {
     "data": {
      "image/png": "[encoded data removed]",
      "text/plain": [
       "<Figure size 504x1728 with 3 Axes>"
      ]
     },
     "metadata": {
      "needs_background": "light"
     },
     "output_type": "display_data"
    }
   ],
   "source": [
    "print(\"plot curves and save in one png file\")\n",
    "#save two plots in one png file\n",
    "fig, (ax1, ax2, ax3) = plt.subplots(3, figsize=(7, 24))\n",
    "fig.subplots_adjust(wspace=0.3, hspace= 0.3)\n",
    "fig.suptitle('Evaluation of '+ plot_name)\n",
    "\n",
    "# plot roc curve\n",
    "ax1.plot(fpr_RF, tpr_RF, label=\"Classifier \" + str(classifier_name) + \", auc=\" +str(roc_auc_RF))\n",
    "ax1.title.set_text('ROC AUC')\n",
    "ax1.set(xlabel='False Positive Rate', ylabel='True Positive Rate')\n",
    "ax1.legend(loc=\"lower right\")\n",
    "\n",
    "# plot PR curve\n",
    "ax2.plot(recall_RF, precision_RF, label=\"Classifier \" + str(classifier_name) + \", auc=\"+str(pr_auc_RF))\n",
    "ax2.title.set_text('PR AUC')\n",
    "ax2.set(xlabel='Recall', ylabel='Precision')\n",
    "ax2.legend(loc=\"lower right\")\n",
    "\n",
    "# plot calibration curve\n",
    "ax3.plot(rf_x,rf_y, marker='o', linewidth=1, label='RF')\n",
    "line = mlines.Line2D([0, 1], [0, 1], color='black')\n",
    "transform = ax3.transAxes\n",
    "line.set_transform(transform)\n",
    "ax3.add_line(line)\n",
    "ax3.title.set_text('Calibration plot for '+str(plot_name))\n",
    "ax3.set(xlabel= 'Predicted probability', ylabel= 'True probability in each bin')\n",
    "ax3.legend(loc=\"lower right\")\n",
    "\n",
    "plt.savefig(plot_name+\".png\")\n",
    "plt.show()"
   ]
  }
 ],
 "metadata": {
  "kernelspec": {
   "display_name": "Python 3",
   "language": "python",
   "name": "python3"
  },
  "language_info": {
   "codemirror_mode": {
    "name": "ipython",
    "version": 3
   },
   "file_extension": ".py",
   "mimetype": "text/x-python",
   "name": "python",
   "nbconvert_exporter": "python",
   "pygments_lexer": "ipython3",
   "version": "3.7.6"
  }
 },
 "nbformat": 4,
 "nbformat_minor": 2
}
