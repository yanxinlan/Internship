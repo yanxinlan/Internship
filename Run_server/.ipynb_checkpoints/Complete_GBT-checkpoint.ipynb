{
 "cells": [
  {
   "cell_type": "code",
   "execution_count": 131,
   "metadata": {},
   "outputs": [],
   "source": [
    "# data preprocessing\n",
    "import pandas as pd\n",
    "import numpy as np\n",
    "from sklearn import preprocessing\n",
    "from sklearn.model_selection import train_test_split\n",
    "from collections import defaultdict\n",
    "import collections"
   ]
  },
  {
   "cell_type": "code",
   "execution_count": 132,
   "metadata": {},
   "outputs": [],
   "source": [
    "# gradient boost model: train and evaluation\n",
    "import xgboost as xgb\n",
    "from sklearn.metrics import roc_curve, precision_recall_curve, roc_auc_score, auc, accuracy_score\n",
    "from matplotlib import pyplot as plt\n",
    "from sklearn.calibration import calibration_curve\n",
    "\n",
    "import matplotlib.lines as mlines\n",
    "import matplotlib.transforms as mtransforms\n",
    "from sklearn.impute import SimpleImputer"
   ]
  },
  {
   "cell_type": "code",
   "execution_count": 133,
   "metadata": {},
   "outputs": [],
   "source": [
    "# Set parameter as constant \n",
    "# path of the dataset\n",
    "# time dependent\n",
    "DATA_PATH_stages=\"../data/kdigo_stages_measured.csv\" \n",
    "DATA_PATH_labs = \"../data/labs-kdigo_stages_measured.csv\" \n",
    "DATA_PATH_vitals = \"../data/vitals-kdigo_stages_measured.csv\" \n",
    "DATA_PATH_vents = \"../data/vents-vasopressor-sedatives-kdigo_stages_measured.csv\"\n",
    "#no time dependent\n",
    "DATA_PATH_detail=\"../data/icustay_detail-kdigo_stages_measured.csv\" #age constraint\n",
    "DATA_PATH_icd = \"../data/diagnoses_icd_aki_measured.csv\"\n",
    "\n",
    "# seperator\n",
    "SEPARATOR=\";\"\n",
    "\n",
    "# whether to merge other time-dependent files\n",
    "MERGE_LABS = False\n",
    "MERGE_VITALS = False\n",
    "MERGE_VENTS = False\n",
    "\n",
    "# whether to merge other not time-dependent files\n",
    "MERGE_DETAILS = False\n",
    "MERGE_ICD = False\n",
    "\n",
    "# Age constraints: adults\n",
    "ADULTS_MIN_AGE = 18\n",
    "ADULTS_MAX_AGE = -1\n",
    "\n",
    "#Two options to deal with time series data\n",
    "LAST_CHARTTIME = False #True #the last charttime as bechmark for Target\n",
    "FIRST_TURN_POS = True #False # the first charttime that turn pos as bechmark for Target\n",
    "\n",
    "# resampling or not\n",
    "TIME_SAMPLING = True\n",
    "SAMPLING_INTERVAL = '6H'\n",
    "MOST_COMMON = False #resampling with most common\n",
    "# if MOST_COMMON is not applied,sampling with different strategies per kind of variable, \n",
    "# numeric variables use mean value, categorical variables use max value\n",
    "\n",
    "# imputation within each icustay_id\n",
    "IMPUTE_EACH_ID = False\n",
    "# imputation based on whole column\n",
    "IMPUTE_COLUMN = False\n",
    "IMPUTE_METHOD = 'most_frequent' \n",
    "\n",
    "# fill missing value and ragged part of 3d array\n",
    "FILL_VALUE = -1\n",
    "\n",
    "# How much time the prediction should occur (hours)\n",
    "HOURS_AHEAD = 48\n",
    "\n",
    "# precentage of dataset to be used for testing model\n",
    "TEST_SIZE = 0.3\n",
    "\n",
    "# whether to use only features in the paper \n",
    "PAPER_FEATURES = False #True\n",
    "\n",
    "#which classifier to use, only run one classifier at one time \n",
    "CLASS1 = True   #AnyAKI\n",
    "CLASS2 = False    #ModerateSevereAKI\n",
    "CLASS3 = False    #SevereAKI\n",
    "\n",
    "#category threshold for the 3 binary class \n",
    "if CLASS1 == True:\n",
    "    CAT_THRESHOLD = 0\n",
    "elif CLASS2 == True:\n",
    "    CAT_THRESHOLD = 1\n",
    "elif CLASS3 == True:\n",
    "    CAT_THRESHOLD = 2\n",
    "\n",
    "# building GBT(sklearn xgboost API) ; parameters for XGBClassifier\n",
    "MAX_DEPTH = 5  #should be between 3-10\n",
    "MIN_CHILD_WEIGHT = 1 # a smaller value is chosen because it is a imbalanced class problem and leaf nodes can have smaller size groups\n",
    "GAMMA = 0 \n",
    "SUBSAMPLE = 0.8 #typical values range between 0.5-0.9\n",
    "COLSAMPLE_BYTREE = 0.8 #typical values range between 0.5-0.9\n",
    "SCALE_POS_WEIGHT = 1 #because of high class imbalance\n",
    "LEARNING_RATE =0.1\n",
    "NUM_ESTIMATORS= 50  # the number of boosting rounds or trees to build, equal to XGBoost API num_boost_round\n",
    "OBJECTIVE= 'binary:logistic'\n",
    "NUM_THREAD=4\n",
    "SEED=27\n",
    "\n",
    "# sklearn API training method; model.fit\n",
    "EARLT_STOPPING_ROUNDS=40   \n",
    "EVAL_METRIC=[\"auc\", \"error\", \"logloss\"] \n",
    "VERBOSE= False"
   ]
  },
  {
   "cell_type": "code",
   "execution_count": 134,
   "metadata": {},
   "outputs": [],
   "source": [
    "#set changable info as variables\n",
    "\n",
    "# features used in the paper \n",
    "paper_features = [\"icustay_id\", \"charttime\", 'hadm_id', \"creat\", \"aki_stage_creat\", \"uo_rt_6hr\",\"uo_rt_12hr\", \"uo_rt_24hr\", \n",
    "                  \"aki_stage_uo\", \"aki_stage\", \"aniongap_min\",\"albumin_min\", \"bicarbonate_min\", \"bilirubin_min\", \n",
    "                  \"chloride_min\", \"glucose_min\", \"hematocrit_min\", \"hemoglobin_min\", \"potassium_min\", \"ptt_min\",            \n",
    "                  \"sodium_min\" , \"bun_min\" , \"wbc_min\" , \"heartrate_mean\" , \"sysbp_mean\", \"diasbp_mean\" , \"resprate_mean\",\n",
    "                  \"vent\", \"vasopressor\", \"sedative\"]\n",
    "\n",
    "# naming model and plot\n",
    "classifier_name = \"None vs. Any AKI\"    ###change every time #Moderate vs. Severe #None vs. Any #Others vs. Severe\n",
    "plot_name = \"adult_allfeature_AnyAKI_GBT\"    ###change every time"
   ]
  },
  {
   "cell_type": "code",
   "execution_count": 135,
   "metadata": {},
   "outputs": [],
   "source": [
    "# Some functions used later\n",
    "\n",
    "# impute missing value in resampleing data with most common based on each id\n",
    "def fast_mode(df, key_cols, value_col):\n",
    "    \"\"\" \n",
    "    Calculate a column mode, by group, ignoring null values. \n",
    "\n",
    "    Parameters\n",
    "    ----------\n",
    "    df : pandas.DataFrame\n",
    "        DataFrame over which to calcualate the mode. \n",
    "    key_cols : list of str\n",
    "        Columns to groupby for calculation of mode.\n",
    "    value_col : str\n",
    "        Column for which to calculate the mode. \n",
    "\n",
    "    Return\n",
    "    ------ \n",
    "    pandas.DataFrame\n",
    "        One row for the mode of value_col per key_cols group. If ties, \n",
    "        returns the one which is sorted first. \n",
    "    \"\"\"\n",
    "    return (df.groupby(key_cols + [value_col]).size() \n",
    "              .to_frame('counts').reset_index() \n",
    "              .sort_values('counts', ascending=False) \n",
    "              .drop_duplicates(subset=key_cols)).drop('counts',axis=1)\n",
    "\n",
    "# get max shape of 3d array\n",
    "def get_dimensions(array, level=0):   \n",
    "    yield level, len(array)\n",
    "    try:\n",
    "        for row in array:\n",
    "            yield from get_dimensions(row, level + 1)\n",
    "    except TypeError: #not an iterable\n",
    "        pass\n",
    "\n",
    "def get_max_shape(array):\n",
    "    dimensions = defaultdict(int)\n",
    "    for level, length in get_dimensions(array):\n",
    "        dimensions[level] = max(dimensions[level], length)\n",
    "    return [value for _, value in sorted(dimensions.items())]\n",
    "\n",
    "#pad the ragged 3d array to rectangular shape based on max size\n",
    "def iterate_nested_array(array, index=()):\n",
    "    try:\n",
    "        for idx, row in enumerate(array):\n",
    "            yield from iterate_nested_array(row, (*index, idx))\n",
    "    except TypeError: # final level            \n",
    "        yield (*index, slice(len(array))), array\n",
    "\n",
    "def pad(array, fill_value):\n",
    "    dimensions = get_max_shape(array)\n",
    "    result = np.full(dimensions, fill_value)\n",
    "    for index, value in iterate_nested_array(array):\n",
    "        result[index] = value\n",
    "    return result\n",
    "\n",
    "def bin_total(y_true, y_prob, n_bins):\n",
    "    bins = np.linspace(0., 1. + 1e-8, n_bins + 1)\n",
    "\n",
    "    # In sklearn.calibration.calibration_curve,\n",
    "    # the last value in the array is always 0.\n",
    "    binids = np.digitize(y_prob, bins) - 1\n",
    "\n",
    "    return np.bincount(binids, minlength=len(bins))\n",
    "\n",
    "\n",
    "def missing_bin(bin_array):\n",
    "    midpoint = \" \"    \n",
    "    if bin_array[0]==0:\n",
    "        midpoint = \"5%, \"\n",
    "    if bin_array[1]==0:\n",
    "        midpoint = midpoint + \"15%, \"\n",
    "    if bin_array[2]==0:\n",
    "        midpoint = midpoint + \"25%, \"\n",
    "    if bin_array[3]==0:\n",
    "        midpoint = midpoint + \"35%, \" \n",
    "    if bin_array[4]==0:\n",
    "        midpoint = midpoint + \"45%, \"\n",
    "    if bin_array[5]==0:\n",
    "        midpoint = midpoint + \"55%, \"\n",
    "    if bin_array[6]==0:\n",
    "        midpoint = midpoint + \"65%, \"\n",
    "    if bin_array[7]==0:\n",
    "        midpoint = midpoint + \"75%, \"\n",
    "    if bin_array[8]==0:\n",
    "        midpoint = midpoint + \"85%, \"\n",
    "    if bin_array[9]==0:\n",
    "        midpoint = midpoint + \"95%, \"\n",
    "    return \"The missing bins have midpoint values of \"+ str(midpoint)    "
   ]
  },
  {
   "cell_type": "code",
   "execution_count": 136,
   "metadata": {},
   "outputs": [
    {
     "name": "stdout",
     "output_type": "stream",
     "text": [
      "read csv file\n"
     ]
    }
   ],
   "source": [
    "print(\"read csv file\")\n",
    "# read csv file\n",
    "dataset = pd.read_csv(DATA_PATH_stages, sep= SEPARATOR)\n",
    "dataset_detail = pd.read_csv(DATA_PATH_detail, sep= SEPARATOR)  #age constraint"
   ]
  },
  {
   "cell_type": "code",
   "execution_count": 137,
   "metadata": {},
   "outputs": [],
   "source": [
    "# read csv file for further merging\n",
    "if MERGE_LABS:\n",
    "    dataset_labs = pd.read_csv(DATA_PATH_labs, sep= SEPARATOR)\n",
    "if MERGE_VITALS:\n",
    "    dataset_vitals = pd.read_csv(DATA_PATH_vitals, sep= SEPARATOR)\n",
    "if MERGE_VENTS:    \n",
    "    dataset_vents = pd.read_csv(DATA_PATH_vents , sep= SEPARATOR)\n",
    "if MERGE_ICD:\n",
    "    dataset_icd = pd.read_csv(DATA_PATH_icd, sep= SEPARATOR)"
   ]
  },
  {
   "cell_type": "code",
   "execution_count": 138,
   "metadata": {},
   "outputs": [
    {
     "name": "stdout",
     "output_type": "stream",
     "text": [
      "combine time dependent data\n"
     ]
    }
   ],
   "source": [
    "# time dependent data\n",
    "print(\"combine time dependent data\")"
   ]
  },
  {
   "cell_type": "code",
   "execution_count": 139,
   "metadata": {},
   "outputs": [
    {
     "name": "stdout",
     "output_type": "stream",
     "text": [
      "drop duplicate features & convert charttime to timestamp\n"
     ]
    }
   ],
   "source": [
    "print(\"drop duplicate features & convert charttime to timestamp\")\n",
    "# reorganize dataset by dropping duplicate columns \n",
    "# convert charttime column from object to timestamp\n",
    "dataset['charttime'] = pd.to_datetime(dataset['charttime'])\n",
    "\n",
    "if MERGE_LABS:\n",
    "    dataset_labs['charttime'] = pd.to_datetime(dataset_labs['charttime'])\n",
    "    dataset_labs.drop([\"aniongap_max\", \"albumin_max\", \"bands_max\", \"bicarbonate_max\", \"bilirubin_max\", \n",
    "                   \"bilirubin_max\", \"creatinine_max\", \"chloride_max\", \"glucose_max\", \"hematocrit_max\", \n",
    "                   \"hemoglobin_max\", \"lactate_max\", \"platelet_max\", \"potassium_max\", \"ptt_max\", \"sodium_max\", \n",
    "                   \"inr_max\", \"pt_max\", \"bun_max\", \"wbc_max\"], axis=1, inplace=True)  \n",
    "if MERGE_VITALS:\n",
    "    dataset_vitals['charttime'] = pd.to_datetime(dataset_vitals['charttime'])\n",
    "    dataset_vitals.drop([\"heartrate_min\", \"heartrate_max\", \"sysbp_min\", \"heartrate_max\", \"sysbp_min\", \"sysbp_max\",\n",
    "                   \"diasbp_min\", \"diasbp_max\", \"meanbp_min\", \"meanbp_max\", \"resprate_min\", \"resprate_max\",\n",
    "                   \"tempc_min\", \"tempc_max\", \"spo2_min\", \"spo2_max\", \"glucose_min\", \"glucose_max\" ], axis=1, inplace=True)\n",
    "if MERGE_VENTS:\n",
    "    dataset_vents['charttime'] = pd.to_datetime(dataset_vents['charttime'])"
   ]
  },
  {
   "cell_type": "code",
   "execution_count": 140,
   "metadata": {},
   "outputs": [
    {
     "name": "stdout",
     "output_type": "stream",
     "text": [
      "merge files\n"
     ]
    }
   ],
   "source": [
    "print(\"merge files\")\n",
    "# merge files with time-dependent data, based on icustay_id and charttime\n",
    "if MERGE_LABS:\n",
    "    dataset = pd.merge(dataset, dataset_labs, on = [\"icustay_id\", \"charttime\"], how= \"outer\")\n",
    "if MERGE_VITALS:\n",
    "    dataset = pd.merge(dataset, dataset_vitals, on = [\"icustay_id\", \"charttime\",\"subject_id\", \"hadm_id\"], how= \"outer\")"
   ]
  },
  {
   "cell_type": "code",
   "execution_count": 141,
   "metadata": {},
   "outputs": [],
   "source": [
    "# remove rows with missing value in charttime\n",
    "dataset = dataset.dropna(subset=['charttime'])"
   ]
  },
  {
   "cell_type": "code",
   "execution_count": 142,
   "metadata": {
    "scrolled": true
   },
   "outputs": [],
   "source": [
    "# merge rows if they have exact timestamp within same icustay_id\n",
    "dataset = dataset.groupby(['icustay_id', 'charttime']).sum().reset_index(['icustay_id', 'charttime'])"
   ]
  },
  {
   "cell_type": "code",
   "execution_count": 143,
   "metadata": {},
   "outputs": [],
   "source": [
    "# merge files with time-dependent data, based on icustay_id and charttime\n",
    "if MERGE_VENTS:\n",
    "    dataset = pd.merge(dataset, dataset_vents, on = [\"icustay_id\", \"charttime\"], how= \"outer\")    "
   ]
  },
  {
   "cell_type": "code",
   "execution_count": 144,
   "metadata": {},
   "outputs": [
    {
     "name": "stdout",
     "output_type": "stream",
     "text": [
      "start preprocessing time dependent data\n"
     ]
    }
   ],
   "source": [
    "print(\"start preprocessing time dependent data\")\n",
    "# remove rows with missing data in aki_stage\n",
    "dataset = dataset.dropna(subset=['aki_stage'])"
   ]
  },
  {
   "cell_type": "code",
   "execution_count": 145,
   "metadata": {},
   "outputs": [],
   "source": [
    "# extract icustay_id & age from dataset_detail for further age constraint \n",
    "dataset_age = dataset_detail[['icustay_id','age']]"
   ]
  },
  {
   "cell_type": "code",
   "execution_count": 146,
   "metadata": {},
   "outputs": [
    {
     "name": "stdout",
     "output_type": "stream",
     "text": [
      "extract adults from dataset\n"
     ]
    }
   ],
   "source": [
    "print(\"extract adults from dataset\")\n",
    "# only adults\n",
    "adults_testAge = (dataset_age['age'] >= ADULTS_MIN_AGE)\n",
    "adults = dataset_age[adults_testAge]"
   ]
  },
  {
   "cell_type": "code",
   "execution_count": 147,
   "metadata": {},
   "outputs": [],
   "source": [
    "# icustay_id list based on adults_dataset\n",
    "adults_icustay_id_list = adults['icustay_id'].unique()"
   ]
  },
  {
   "cell_type": "markdown",
   "metadata": {},
   "source": [
    "# For testing purpose, use small amount of data first"
   ]
  },
  {
   "cell_type": "code",
   "execution_count": 148,
   "metadata": {},
   "outputs": [],
   "source": [
    "#For testing purpose, use small amount of data first\n",
    "\n",
    "#large, adults_icustay_id_list = train_test_split(adults_icustay_id_list, test_size= 0.01, random_state=42)"
   ]
  },
  {
   "cell_type": "code",
   "execution_count": 149,
   "metadata": {},
   "outputs": [],
   "source": [
    "# updated datasets based on adults_icustay_id_list, children_icustay_id_list\n",
    "adults_dataset = dataset.loc[dataset['icustay_id'].isin(adults_icustay_id_list)]\n",
    "\n",
    "# unique id list derived from datasets, sorted by ascending order \n",
    "adults_list = np.sort(adults_dataset['icustay_id'].unique())\n",
    "\n",
    "# split list into train, test list\n",
    "adults_train_id, adults_test_id = train_test_split(adults_list, test_size= TEST_SIZE, random_state=42)\n",
    "\n",
    "# new adults dataset based on adults_train_id. and sort by 'icustay_id'\n",
    "adults_train_dataset = adults_dataset.loc[adults_dataset['icustay_id'].isin(adults_train_id)]\n",
    "adults_train_dataset = adults_train_dataset.sort_values(by=['icustay_id', 'charttime'])\n",
    "# sort adults_train_id by ascending ordder\n",
    "adults_train_id = np.sort(adults_train_id)\n",
    "dataset = adults_train_dataset "
   ]
  },
  {
   "cell_type": "code",
   "execution_count": 150,
   "metadata": {},
   "outputs": [
    {
     "name": "stdout",
     "output_type": "stream",
     "text": [
      "For Adults, we get the following: \n",
      "adults_train_dataset\n",
      "adults_train_id\n"
     ]
    }
   ],
   "source": [
    "print(\"For Adults, we get the following: \")\n",
    "print(\"adults_train_dataset\") \n",
    "print(\"adults_train_id\") "
   ]
  },
  {
   "cell_type": "code",
   "execution_count": 151,
   "metadata": {
    "scrolled": true
   },
   "outputs": [
    {
     "name": "stdout",
     "output_type": "stream",
     "text": [
      "Two options to deal with time series data\n",
      "LAST_CHARTTIME: the last charttime as bechmark for Target\n",
      "FIRST_TURN_POS: the first charttime that turn pos as bechmark for Target\n"
     ]
    }
   ],
   "source": [
    "print(\"Two options to deal with time series data\")\n",
    "print(\"LAST_CHARTTIME: the last charttime as bechmark for Target\")\n",
    "print(\"FIRST_TURN_POS: the first charttime that turn pos as bechmark for Target\")"
   ]
  },
  {
   "cell_type": "code",
   "execution_count": 81,
   "metadata": {},
   "outputs": [
    {
     "name": "stdout",
     "output_type": "stream",
     "text": [
      "drop icustay_id with time span less than 48hrs\n"
     ]
    }
   ],
   "source": [
    "print(\"drop icustay_id with time span less than 48hrs\")\n",
    "# drop icustay_id with time span less than 48hrs\n",
    "id_list = adults_train_id\n",
    "index_total_length = dataset.shape[0]\n",
    "drop_list = []\n",
    "\n",
    "i=0 # index of train_id_DATASET\n",
    "j=0 # the times that id matches\n",
    "\n",
    "for icustay_id in id_list:\n",
    "     while i < index_total_length:\n",
    "            if dataset.iat[i, dataset.columns.get_loc('icustay_id')] == icustay_id:\n",
    "                if j ==0 and i != index_total_length-1:\n",
    "                    first_row_index = i\n",
    "                    first_time = dataset.iat[first_row_index, dataset.columns.get_loc('charttime')]\n",
    "                    i = i+1\n",
    "                    j = j+1\n",
    "                elif j !=0:\n",
    "                    if i == index_total_length-1:\n",
    "                        last_row_index = i\n",
    "                        last_time = dataset.iat[last_row_index, dataset.columns.get_loc('charttime')]\n",
    "                        if (last_time - first_time).total_seconds() < HOURS_AHEAD*60*60:\n",
    "                            drop_list.append(icustay_id)\n",
    "                    i = i+1\n",
    "            elif dataset.iat[i, dataset.columns.get_loc('icustay_id')] != icustay_id:\n",
    "                last_row_index = i-1\n",
    "                last_time = dataset.iat[last_row_index, dataset.columns.get_loc('charttime')]\n",
    "                if (last_time - first_time).total_seconds() < HOURS_AHEAD*60*60:\n",
    "                    drop_list.append(icustay_id)\n",
    "                j=0\n",
    "                break"
   ]
  },
  {
   "cell_type": "code",
   "execution_count": 82,
   "metadata": {},
   "outputs": [],
   "source": [
    "# drop all the rows with the saved icustay_id\n",
    "dataset = dataset[~dataset.icustay_id.isin(drop_list)]"
   ]
  },
  {
   "cell_type": "markdown",
   "metadata": {},
   "source": [
    "# IF Lasttime"
   ]
  },
  {
   "cell_type": "code",
   "execution_count": 84,
   "metadata": {},
   "outputs": [],
   "source": [
    "# extract list for \"last\" charttime\n",
    "extract_list = dataset['icustay_id'].unique()"
   ]
  },
  {
   "cell_type": "code",
   "execution_count": 85,
   "metadata": {},
   "outputs": [],
   "source": [
    "if LAST_CHARTTIME:\n",
    "    print(\"Here we choose the last charttime as bechmark for Target\")\n",
    "    print(\"find last charttime for each icustay_id\")\n",
    "    # extract the aki_stage value of row of \"last\" charttime of each icustay_id as the label/target set\n",
    "    # find last charttime for each icustay_id\n",
    "\n",
    "    target_list = [] #to store target(y)\n",
    "    last_charttime_list= [] #a list to store last charttime for every icustay_id\n",
    "    last_charttime_index_list = [] #a list to store index when last charttime for every icustay_id\n",
    "\n",
    "    dataset_size = dataset.shape[0]\n",
    "    k=0 # index\n",
    "    h=0 # the times that id matches\n",
    "\n",
    "    for extract_id in extract_list:\n",
    "        while k < dataset_size:\n",
    "            if dataset.iat[k, dataset.columns.get_loc('icustay_id')] == extract_id:\n",
    "                if h==0 and k != dataset_size-1:\n",
    "                    k = k+1\n",
    "                    h = h+1\n",
    "                elif h !=0:\n",
    "                    if k == dataset_size-1:\n",
    "                        target_list.append(dataset.iat[k, dataset.columns.get_loc('aki_stage')])\n",
    "                        last_charttime_list.append(dataset.iat[k, dataset.columns.get_loc('charttime')])\n",
    "                        last_charttime_index_list.append(k)\n",
    "                    k = k+1\n",
    "            elif dataset.iat[k, dataset.columns.get_loc('icustay_id')] != extract_id:\n",
    "                target_list.append(dataset.iat[k-1, dataset.columns.get_loc('aki_stage')])\n",
    "                last_charttime_list.append(dataset.iat[k-1, dataset.columns.get_loc('charttime')])\n",
    "                last_charttime_index_list.append(k-1)\n",
    "                h=0\n",
    "                break"
   ]
  },
  {
   "cell_type": "code",
   "execution_count": 86,
   "metadata": {},
   "outputs": [],
   "source": [
    "if LAST_CHARTTIME:\n",
    "    # a threshold list to store the threshold time(last charttime-48hrs) for every icustay_id\n",
    "    threshold_list=[]\n",
    "\n",
    "    v=0# index for dataset\n",
    "\n",
    "    c=0 # number to countdown from index of last charttime\n",
    "\n",
    "    list_length = len(last_charttime_list)\n",
    "    t=0 # index for last_charttime_list\n",
    "\n",
    "\n",
    "\n",
    "    for index in last_charttime_index_list:\n",
    "        while t < list_length:\n",
    "            if (last_charttime_list[t]- dataset.iat[index-c, dataset.columns.get_loc('charttime')]).total_seconds() <HOURS_AHEAD*60*60:\n",
    "                t=t\n",
    "                c=c+1\n",
    "            elif (last_charttime_list[t]-dataset.iat[index-c, dataset.columns.get_loc('charttime')]).total_seconds() >= HOURS_AHEAD*60*60:\n",
    "                threshold_list.append(dataset.iat[index-c, dataset.columns.get_loc('charttime')])\n",
    "                t=t+1\n",
    "                c=0\n",
    "                break"
   ]
  },
  {
   "cell_type": "code",
   "execution_count": 87,
   "metadata": {},
   "outputs": [],
   "source": [
    "if LAST_CHARTTIME:\n",
    "    print(\"extract rows that meet time constraint\")\n",
    "    # extract rows that are within threshold time\n",
    "    # set new variable to avoid changing orginal dataset\n",
    "    thresholds = pd.DataFrame({'icustay_id':extract_list, 'charttime': threshold_list})\n",
    "    X = (thresholds.merge(dataset, on='icustay_id', how='left',suffixes=('_x','')).query(\"charttime_x >= charttime\").reindex(columns=dataset.columns))"
   ]
  },
  {
   "cell_type": "markdown",
   "metadata": {},
   "source": [
    "# option2 IF first turn pos"
   ]
  },
  {
   "cell_type": "code",
   "execution_count": 88,
   "metadata": {},
   "outputs": [
    {
     "name": "stdout",
     "output_type": "stream",
     "text": [
      "Here we choose the first charttime that turn pos as bechmark for Target\n",
      "divide dataset into positive and negative dataset based on assigned threshold\n"
     ]
    }
   ],
   "source": [
    "if FIRST_TURN_POS:\n",
    "    print(\"Here we choose the first charttime that turn pos as bechmark for Target\")\n",
    "    #extract icustay_id that are positive in this category\n",
    "    id_list = dataset['icustay_id'].unique()\n",
    "    positive_list = []\n",
    "    negative_list = []\n",
    "    \n",
    "    for ID in id_list:\n",
    "        df = dataset.loc[dataset['icustay_id']==ID].aki_stage\n",
    "        if CLASS1 == True :\n",
    "            if 3 in df.values:\n",
    "                positive_list.append(ID)\n",
    "            elif 2 in df.values: \n",
    "                positive_list.append(ID)\n",
    "            elif 1 in df.values: \n",
    "                positive_list.append(ID)\n",
    "            else:\n",
    "                negative_list.append(ID)\n",
    "                \n",
    "        if CLASS2 == True :\n",
    "            if 3 in df.values:\n",
    "                positive_list.append(ID)\n",
    "            elif 2 in df.values: \n",
    "                positive_list.append(ID)\n",
    "            else:\n",
    "                negative_list.append(ID)\n",
    "        \n",
    "        if CLASS3 == True :\n",
    "            if 3 in df.values:\n",
    "                positive_list.append(ID)\n",
    "            else:\n",
    "                negative_list.append(ID)\n",
    "    \n",
    "    # divide dataset into positive and negative dataset based on assigned threshold\n",
    "    print(\"divide dataset into positive and negative dataset based on assigned threshold\")\n",
    "    dataset_pos = dataset[dataset.icustay_id.isin(positive_list)].sort_values(by=['icustay_id', 'charttime'])\n",
    "    dataset_neg = dataset[dataset.icustay_id.isin(negative_list)].sort_values(by=['icustay_id', 'charttime'])"
   ]
  },
  {
   "cell_type": "code",
   "execution_count": 89,
   "metadata": {},
   "outputs": [
    {
     "name": "stdout",
     "output_type": "stream",
     "text": [
      "start preprocessing the dataset with positive label\n"
     ]
    }
   ],
   "source": [
    "if FIRST_TURN_POS:\n",
    "    print(\"start preprocessing the dataset with positive label\")\n",
    "    # extract list for \"last\" charttime\n",
    "    extract_list_pos = dataset_pos['icustay_id'].unique()"
   ]
  },
  {
   "cell_type": "code",
   "execution_count": 90,
   "metadata": {},
   "outputs": [],
   "source": [
    "if FIRST_TURN_POS:\n",
    "    #extract the aki_stage value of row of \"first\" charttime of each icustay_id that turn positive stages as the label/target set\n",
    "    #find first pos charttime for each icustay_id\n",
    "\n",
    "    target_pos = pd.DataFrame(columns=['icustay_id', 'aki_stage'])\n",
    "    pos_charttime_list= [] #a list to store first charttime that turn positive for every icustay_id\n",
    "    pos_charttime_index_list = [] #a list to store index of the first row that turn positive for every icustay_id\n",
    "\n",
    "    datasize = dataset_pos.shape[0]\n",
    "    k=0 #index\n",
    "\n",
    "    for extract_id in extract_list_pos:\n",
    "        while k < datasize:\n",
    "            if dataset_pos.iat[k, dataset_pos.columns.get_loc('icustay_id')] == extract_id and k != datasize-1:\n",
    "                if dataset_pos.iat[k, dataset_pos.columns.get_loc('aki_stage')] <= CAT_THRESHOLD:\n",
    "                    k = k+1\n",
    "                elif dataset_pos.iat[k, dataset_pos.columns.get_loc('aki_stage')] > CAT_THRESHOLD:\n",
    "                    target_pos = target_pos.append({'icustay_id': extract_id, 'aki_stage': 1}, ignore_index=True) #because in DATASET_pos, all target are pos, namely 1\n",
    "                    pos_charttime_list.append(dataset_pos.iat[k, dataset_pos.columns.get_loc('charttime')])\n",
    "                    pos_charttime_index_list.append(k)            \n",
    "                    k = k+1\n",
    "                    break\n",
    "            elif dataset_pos.iat[k, dataset_pos.columns.get_loc('icustay_id')] != extract_id:\n",
    "                k = k +1                "
   ]
  },
  {
   "cell_type": "code",
   "execution_count": 91,
   "metadata": {},
   "outputs": [],
   "source": [
    "if FIRST_TURN_POS:\n",
    "    #a threshold list to store the threshold time(last charttime-48hrs) for every icustay_id\n",
    "    threshold_time_list=[]\n",
    "    updated_extract_list = []\n",
    "    list_length = len(pos_charttime_list)\n",
    "\n",
    "    c=0 #number to countdown from index of last charttime\n",
    "    t=0 #index for last_charttime_list\n",
    "\n",
    "\n",
    "\n",
    "    for index in pos_charttime_index_list:\n",
    "        while t < list_length:\n",
    "            if dataset_pos.iat[index-c, dataset_pos.columns.get_loc('icustay_id')] == extract_list_pos[t]:\n",
    "                if (pos_charttime_list[t]- dataset_pos.iat[index-c, dataset_pos.columns.get_loc('charttime')]).total_seconds() <48*60*60:\n",
    "                    t=t\n",
    "                    #print(index)\n",
    "                    #print(\"t :\" + str(t))\n",
    "                    c=c+1\n",
    "                    #print(\"c :\" + str(c))\n",
    "                elif (pos_charttime_list[t]-dataset_pos.iat[index-c, dataset_pos.columns.get_loc('charttime')]).total_seconds() >= 48*60*60:\n",
    "                    #print(\"index-c :\"+ str(index-c))\n",
    "                    threshold_time_list.append(dataset_pos.iloc[index-c]['charttime'])\n",
    "                    updated_extract_list.append(dataset_pos.iloc[index]['icustay_id'])\n",
    "                    t=t+1\n",
    "                    #print(\"t :\" + str(t))\n",
    "                    #print(\"c :\" + str(c))\n",
    "                    c=0\n",
    "                    break\n",
    "            else:\n",
    "                t = t+1\n",
    "                c = 0\n",
    "                break\n",
    "     \n",
    "    # extract rows that are within threshold time\n",
    "    dataset_pos = dataset_pos[dataset_pos.icustay_id.isin(updated_extract_list)]\n",
    "    target_pos = target_pos[target_pos.icustay_id.isin(updated_extract_list)]\n",
    "    \n",
    "    Thresholds = pd.DataFrame({'icustay_id':updated_extract_list, 'charttime': threshold_time_list})\n",
    "    dataset_pos = (Thresholds.merge(dataset_pos, on='icustay_id', how='left',suffixes=('_x','')).query(\"charttime_x >= charttime\").reindex(columns=dataset_pos.columns))"
   ]
  },
  {
   "cell_type": "code",
   "execution_count": 92,
   "metadata": {},
   "outputs": [
    {
     "name": "stdout",
     "output_type": "stream",
     "text": [
      "start preprocessing the dataset with negative label\n"
     ]
    }
   ],
   "source": [
    "if FIRST_TURN_POS:\n",
    "    print(\"start preprocessing the dataset with negative label\")\n",
    "    # extract list for \"last\" charttime\n",
    "    extract_list_neg = dataset_neg['icustay_id'].unique()"
   ]
  },
  {
   "cell_type": "code",
   "execution_count": 93,
   "metadata": {},
   "outputs": [],
   "source": [
    "if FIRST_TURN_POS:    \n",
    "    #extract the aki_stage value of row of \"last\" charttime of each icustay_id as the label/target set\n",
    "    #find last charttime for each icustay_id\n",
    "    #target_list_neg = [] #to store target(y)\n",
    "    target_neg = pd.DataFrame(columns=['icustay_id', 'aki_stage'])\n",
    "    last_charttime_list= [] #a list to store last charttime for every icustay_id\n",
    "    last_charttime_index_list = [] #a list to store index when last charttime for every icustay_id\n",
    "\n",
    "    datasize = dataset_neg.shape[0]\n",
    "    k=0 #index\n",
    "    h=0 #the times that id matches\n",
    "\n",
    "    for extract_id in extract_list_neg:\n",
    "        while k < datasize:\n",
    "            if dataset_neg.iat[k, dataset_neg.columns.get_loc('icustay_id')] == extract_id:\n",
    "                if h==0 and k != datasize-1:\n",
    "                    k = k+1\n",
    "                    h = h+1\n",
    "                elif h !=0:\n",
    "                    if k == datasize-1:\n",
    "                        target_neg = target_neg.append({'icustay_id': extract_id, 'aki_stage': 0}, ignore_index=True) #because in DATASET_neg, all target are neg, namely 0\n",
    "                        last_charttime_list.append(dataset_neg.iat[k, dataset_neg.columns.get_loc('charttime')])\n",
    "                        last_charttime_index_list.append(k)\n",
    "                    k = k+1\n",
    "            elif dataset_neg.iat[k, dataset_neg.columns.get_loc('icustay_id')] != extract_id:\n",
    "                target_neg = target_neg.append({'icustay_id': extract_id, 'aki_stage': 0}, ignore_index=True) #because in DATASET_neg, all target are neg, namely 0\n",
    "                last_charttime_list.append(dataset_neg.iat[k-1, dataset_neg.columns.get_loc('charttime')])\n",
    "                last_charttime_index_list.append(k-1)\n",
    "                h=0\n",
    "                break            "
   ]
  },
  {
   "cell_type": "code",
   "execution_count": 94,
   "metadata": {},
   "outputs": [],
   "source": [
    "if FIRST_TURN_POS:        \n",
    "    #a threshold list to store the threshold time(last charttime-48hrs) for every icustay_id\n",
    "    threshold_list=[]\n",
    "\n",
    "    datasize = dataset_neg.shape[0]\n",
    "    v=0#index for dataset_neg\n",
    "    c=0 #number to countdown from index of last charttime\n",
    "\n",
    "    list_length = len(last_charttime_list)\n",
    "    t=0 #index for last_charttime_list\n",
    "\n",
    "\n",
    "    for index in last_charttime_index_list:\n",
    "        while t < list_length:\n",
    "            if (last_charttime_list[t]- dataset_neg.iat[index-c, dataset_neg.columns.get_loc('charttime')]).total_seconds() <48*60*60:\n",
    "                t=t\n",
    "                c=c+1\n",
    "            elif (last_charttime_list[t]-dataset_neg.iat[index-c, dataset_neg.columns.get_loc('charttime')]).total_seconds() >= 48*60*60:\n",
    "                threshold_list.append(dataset_neg.iat[index-c, dataset_neg.columns.get_loc('charttime')])\n",
    "                t=t+1\n",
    "                c=0\n",
    "                break\n",
    "                \n",
    "    Thresholds = pd.DataFrame({'icustay_id':extract_list_neg, 'charttime': threshold_list})\n",
    "    dataset_neg = (Thresholds.merge(dataset_neg, on='icustay_id', how='left',suffixes=('_x','')).query(\"charttime_x >= charttime\").reindex(columns=dataset_neg.columns))            "
   ]
  },
  {
   "cell_type": "code",
   "execution_count": 95,
   "metadata": {},
   "outputs": [],
   "source": [
    "if FIRST_TURN_POS:\n",
    "    # combine DATASET_pos and DATASET_neg, set as X\n",
    "    X = pd.concat([dataset_pos, dataset_neg], axis=0).sort_values(by=['icustay_id', 'charttime'])\n",
    "    #print(X[['icustay_id',\"aki_stage\"]])\n",
    "    extract_list = X['icustay_id'].unique()"
   ]
  },
  {
   "cell_type": "markdown",
   "metadata": {},
   "source": [
    "# Further processing"
   ]
  },
  {
   "cell_type": "code",
   "execution_count": 96,
   "metadata": {},
   "outputs": [
    {
     "name": "stdout",
     "output_type": "stream",
     "text": [
      "resampling: MOST_COMMON or MEAN & MAX\n",
      "Features before sampling\n",
      "Merging sampled features\n"
     ]
    }
   ],
   "source": [
    "print(\"resampling: MOST_COMMON or MEAN & MAX\")\n",
    "# resampling\n",
    "if TIME_SAMPLING & MOST_COMMON:\n",
    "    # Resample the data using assigned interval,mode() for most common\n",
    "    X = X.set_index('charttime').groupby('icustay_id').resample(SAMPLING_INTERVAL).mode().reset_index()\n",
    "elif TIME_SAMPLING:\n",
    "    # Sampling with different strategies per kind of variable\n",
    "    # Preparing masks for selecting features by their type\n",
    "    print(\"Features before sampling\")\n",
    "    #print(X.head())\n",
    "    \n",
    "    labels = ['aki_stage_creat', 'aki_stage_uo', 'aki_stage']\n",
    "    \n",
    "        #AL adding if-else to make it work\n",
    "    if MERGE_VENTS:\n",
    "        discrete_feat = list(dataset_vents.columns.difference([\"icustay_id\",\"charttime\"]))\n",
    "        discrete_feat.extend(labels)\n",
    "    else:\n",
    "        discrete_feat = labels\n",
    "        \n",
    "    skip = ['icustay_id', 'charttime']\n",
    "    skip.extend(discrete_feat)\n",
    "    \n",
    "    # all features that are not in skip are numeric\n",
    "    numeric_feat = list(X.columns.difference(skip))\n",
    "\n",
    "    # Applying aggregation to features depending on their type\n",
    "    X = X.set_index('charttime').groupby('icustay_id').resample(SAMPLING_INTERVAL)\n",
    "    \n",
    "    X_discrete = X[discrete_feat].max().fillna(0).astype(np.int64)\n",
    "    #print(\"discrete\")\n",
    "    #print(X_discrete.head())\n",
    "    \n",
    "    X_numeric = X[numeric_feat].mean()\n",
    "    #print(\"numeric\")\n",
    "    #print(X_numeric.head())\n",
    "    \n",
    "    X = pd.concat([X_numeric, X_discrete], axis=1).reset_index()\n",
    "    print(\"Merging sampled features\")\n",
    "    #print(X.head())"
   ]
  },
  {
   "cell_type": "code",
   "execution_count": 97,
   "metadata": {},
   "outputs": [
    {
     "name": "stdout",
     "output_type": "stream",
     "text": [
      "Additional option: do imputation again if there are still missing values\n"
     ]
    }
   ],
   "source": [
    "print(\"Additional option: do imputation again if there are still missing values\")\n",
    "# do imputation if there are still missing values\n",
    "\n",
    "# using most common within each icustay_id\n",
    "if IMPUTE_EACH_ID:\n",
    "    # set a new variable so won't change the orginial X\n",
    "    column_name = list(X.columns)\n",
    "    column_name.remove(column_name[0])\n",
    "    \n",
    "    for feature in column_name:\n",
    "        X.loc[X[feature].isnull(), feature] = X.icustay_id.map(fast_mode(X, ['icustay_id'], feature).set_index('icustay_id')[feature])\n",
    "        \n",
    "# imputation based on whole column\n",
    "if IMPUTE_COLUMN:\n",
    "    imp = SimpleImputer(missing_values=np.nan, strategy= IMPUTE_METHOD)\n",
    "    X=imp.fit_transform(X)\n",
    "    \n",
    "# If no imputation, fill missing value direclty with FILL_VALUE\n",
    "\n",
    "if IMPUTE_COLUMN==False and IMPUTE_EACH_ID==False:\n",
    "    X = X.fillna(FILL_VALUE)"
   ]
  },
  {
   "cell_type": "code",
   "execution_count": 98,
   "metadata": {},
   "outputs": [
    {
     "name": "stdout",
     "output_type": "stream",
     "text": [
      "start preprocessing not time dependent data\n"
     ]
    }
   ],
   "source": [
    "# no time dependent data\n",
    "print(\"start preprocessing not time dependent data\")"
   ]
  },
  {
   "cell_type": "code",
   "execution_count": 99,
   "metadata": {},
   "outputs": [],
   "source": [
    "if MERGE_DETAILS:\n",
    "    #extract datasets based on extract_list\n",
    "    dataset_detail = dataset_detail.loc[dataset_detail['icustay_id'].isin(extract_list)]\n",
    "    #sort by ascending order\n",
    "    dataset_detail = dataset_detail.sort_values(by=['icustay_id'])\n",
    "    subject_id = dataset_detail[\"subject_id\"].unique()\n",
    "    \n",
    "    #reorganize dataset by selecting needed columns \n",
    "    dataset_detail = dataset_detail[[\"icustay_id\",'subject_id',\"age\",\"gender\",\"ethnicity_grouped\"]]\n",
    "    #transfrom categorical data to binary form\n",
    "    dataset_detail = dataset_detail.join(pd.get_dummies(dataset_detail.pop('gender')))\n",
    "    dataset_detail = dataset_detail.join(pd.get_dummies(dataset_detail.pop(\"ethnicity_grouped\")))\n",
    "    dataset_detail = dataset_detail.drop([\"icustay_id\",'subject_id'], axis=1)\n",
    "    #convert dataframe to array for later concontenate\n",
    "    # AL: as_matrix does not work anymore\n",
    "    #dataset_detail = np.array((dataset_detail.fillna(FILL_VALUE)).apply(pd.DataFrame.as_matrix))\n",
    "    dataset_detail = np.array((dataset_detail.fillna(FILL_VALUE)).to_numpy())\n",
    "    "
   ]
  },
  {
   "cell_type": "code",
   "execution_count": 100,
   "metadata": {},
   "outputs": [],
   "source": [
    "# Divide dataset into features(X) & target(y) sets\n",
    "# set features as X\n",
    "#AL added try except tp make it work\n",
    "if MERGE_DETAILS:\n",
    "    X = X.drop([\"aki_stage\", \"subject_id\"], axis=1)\n",
    "else:\n",
    "    X = X.drop(['aki_stage'],axis=1)\n",
    "\n",
    "# set taeget as y\n",
    "if LAST_CHARTTIME:\n",
    "    y = pd.DataFrame(target_list)\n",
    "if FIRST_TURN_POS:\n",
    "    # combine target_pos and target_neg,set as y\n",
    "    y = pd.concat([target_pos, target_neg], axis=0).sort_values(by=['icustay_id']).reset_index(drop=True)\n",
    "    y = y.drop(['icustay_id'], axis=1)\n",
    "    y = y.values.ravel().astype('int64')\n",
    "    #print(y)"
   ]
  },
  {
   "cell_type": "code",
   "execution_count": 101,
   "metadata": {},
   "outputs": [],
   "source": [
    "if MERGE_ICD:\n",
    "    dataset_icd = dataset_icd.loc[dataset_icd['subject_id'].isin(subject_id)]\n",
    "    #convert catagorical data to binary form\n",
    "    dataset_icd = dataset_icd.join(pd.get_dummies(dataset_icd.pop('seq_num')))\n",
    "    dataset_icd = dataset_icd.join(pd.get_dummies(dataset_icd.pop('icd9_code')))\n",
    "    \n",
    "    #merge rows if they have the same \"hadm_id\"\n",
    "    dataset_icd.drop([\"subject_id\"], axis=1, inplace=True)\n",
    "    dataset_icd = dataset_icd.groupby(['hadm_id']).max().reset_index(['hadm_id'])\n",
    "    \n",
    "    # merge ICD9 codes at the end of admission\n",
    "    # Pushing all diagnoses at the end of the admission (to avoid leaking information from future)\n",
    "    # Add timestamp corresponding to the last charttime in the admission to diagnoses\n",
    "    # dataset_icd already with one-hot for ICD9 codes (merged, ie many ones per row)\n",
    "    print(\"merge ICD9 codes at the end of admission\")\n",
    "    dataset_icd = pd.merge(dataset_icd, X.groupby('hadm_id')['charttime'].max().to_frame().reset_index(), on='hadm_id', how='left')\n",
    "    X = pd.merge(X, dataset_icd, on=['hadm_id', 'charttime'], how='left')"
   ]
  },
  {
   "cell_type": "code",
   "execution_count": 102,
   "metadata": {
    "scrolled": true
   },
   "outputs": [
    {
     "name": "stdout",
     "output_type": "stream",
     "text": [
      "select features used in the paper\n"
     ]
    }
   ],
   "source": [
    "print(\"select features used in the paper\")\n",
    "#select only features that used in paper\n",
    "if PAPER_FEATURES:\n",
    "    X = X[paper_features]"
   ]
  },
  {
   "cell_type": "code",
   "execution_count": 103,
   "metadata": {},
   "outputs": [],
   "source": [
    "X = X.fillna(FILL_VALUE)"
   ]
  },
  {
   "cell_type": "code",
   "execution_count": 104,
   "metadata": {},
   "outputs": [],
   "source": [
    "#AL re-write as try except to make it work as hadm_id is not used if only one csv file is used and none are merged\n",
    "try:\n",
    "    X = X.drop(['hadm_id', 'charttime'], axis=1)\n",
    "except:\n",
    "    X = X.drop(['charttime'], axis=1)"
   ]
  },
  {
   "cell_type": "code",
   "execution_count": 105,
   "metadata": {},
   "outputs": [],
   "source": [
    "#AL I believe we should also drop these\n",
    "#X = X.drop(['aki_stage_creat','aki_stage_uo'], axis = 1)"
   ]
  },
  {
   "cell_type": "code",
   "execution_count": 106,
   "metadata": {
    "scrolled": true
   },
   "outputs": [
    {
     "name": "stdout",
     "output_type": "stream",
     "text": [
      "reshape 2D dataframe to 3D Array, group by icustay_id\n"
     ]
    }
   ],
   "source": [
    "print(\"reshape 2D dataframe to 3D Array, group by icustay_id\")\n",
    "#X = np.array(list(X.groupby(['icustay_id'],as_index=False).apply(pd.DataFrame.as_matrix)))\n",
    "X = np.array(list(X.groupby(['icustay_id'],as_index=False).apply(pd.DataFrame.to_numpy)))"
   ]
  },
  {
   "cell_type": "code",
   "execution_count": 107,
   "metadata": {
    "scrolled": true
   },
   "outputs": [
    {
     "name": "stdout",
     "output_type": "stream",
     "text": [
      "fill ragged part(missing value) of 3d array with FILL_VALUE\n",
      "(19240, 190, 7)\n",
      "flatten 3D array back to 2D array\n",
      "(19240, 1330)\n"
     ]
    }
   ],
   "source": [
    "print(\"fill ragged part(missing value) of 3d array with FILL_VALUE\")\n",
    "# fill ragged part(missing value) of 3d array with FILL_VALUE\n",
    "X = pad(X, FILL_VALUE)\n",
    "print(X.shape)\n",
    "\n",
    "print(\"flatten 3D array back to 2D array\")\n",
    "#flatten 3d array to 2d array\n",
    "nsamples, nx, ny = X.shape\n",
    "X = X.reshape((nsamples,nx*ny))\n",
    "print(X.shape)"
   ]
  },
  {
   "cell_type": "code",
   "execution_count": 108,
   "metadata": {},
   "outputs": [],
   "source": [
    "if MERGE_DETAILS:\n",
    "    print(\"merge X with dataset_detail\")\n",
    "    # concontenate X with dataset_detail\n",
    "    X = np.concatenate((X, dataset_detail), axis=1)"
   ]
  },
  {
   "cell_type": "code",
   "execution_count": 109,
   "metadata": {},
   "outputs": [
    {
     "name": "stdout",
     "output_type": "stream",
     "text": [
      "Now, we get the following: \n",
      "X as features\n",
      "y as Targets\n"
     ]
    }
   ],
   "source": [
    "print(\"Now, we get the following: \")\n",
    "print(\"X as features\")\n",
    "print(\"y as Targets\")\n",
    "\n",
    "#AL (for none vs any)\n",
    "#if First turn pos : y is numpy.ndarray \n",
    "# 0 and 1 Counter({0: 9649, 1: 9591})\n",
    "\n",
    "# if Last time : y is a dataframe \n",
    "# Counter({0.0: 26963, 1.0: 2629, 3.0: 1873, 2.0: 1407})\n",
    "# meaning for class1 (non vs any) 0: 26,963 and 1: 5,909"
   ]
  },
  {
   "cell_type": "code",
   "execution_count": 110,
   "metadata": {},
   "outputs": [
    {
     "name": "stdout",
     "output_type": "stream",
     "text": [
      "Counter({0: 9649, 1: 9591})\n"
     ]
    }
   ],
   "source": [
    "#AL to see the balance of the classes\n",
    "try:\n",
    "    z = list(y[0])\n",
    "except:\n",
    "    z = y\n",
    "counter=collections.Counter(z)\n",
    "print(counter)"
   ]
  },
  {
   "cell_type": "code",
   "execution_count": 110,
   "metadata": {},
   "outputs": [
    {
     "name": "stdout",
     "output_type": "stream",
     "text": [
      "divide dataset into train, test sets\n"
     ]
    }
   ],
   "source": [
    "print(\"divide dataset into train, test sets\")\n",
    "# divide dataset into train, test sets\n",
    "X_train, X_test, y_train, y_test = train_test_split(X, y, test_size = TEST_SIZE, random_state = 42)"
   ]
  },
  {
   "cell_type": "code",
   "execution_count": 111,
   "metadata": {},
   "outputs": [],
   "source": [
    "if LAST_CHARTTIME:\n",
    "    print(\"Transform multiclass Targets to 3 binary class\")\n",
    "    # Transform the multiclass dataset into 3 different binary outcome sets\n",
    "    lb = preprocessing.LabelBinarizer()\n",
    "\n",
    "    y_train = lb.fit_transform(y_train)\n",
    "    y_train = pd.DataFrame(y_train)\n",
    "    y_total_number = list(range(1, y_train.shape[0]+1, 1))\n",
    "\n",
    "    y_test = lb.fit_transform(y_test)\n",
    "    y_test = pd.DataFrame(y_test)\n",
    "    y_total_number1 = list(range(1, y_test.shape[0]+1, 1))\n",
    "\n",
    "\n",
    "    # classifier1 : stage0 vs. stage1,2,3\n",
    "    if CLASS1:\n",
    "        train_c1 = []\n",
    "        for n in y_total_number:\n",
    "            train_c1.append(n)\n",
    "            if y_train.at[n-1, 0] == 1:\n",
    "                train_c1[n-1] = 0\n",
    "            else:\n",
    "                train_c1[n-1] =1\n",
    "        y_train = pd.DataFrame(train_c1).values.ravel()\n",
    "        test_c1 = []\n",
    "        for n in y_total_number1:\n",
    "            test_c1.append(n)\n",
    "            if y_test.at[n-1, 0] == 1:\n",
    "                test_c1[n-1] = 0\n",
    "            else:\n",
    "                test_c1[n-1] =1\n",
    "        y_test = pd.DataFrame(test_c1).values.ravel()\n",
    "\n",
    "    # classifier2 : stage0,1 vs. stage2,3\n",
    "    if CLASS2:\n",
    "        train_c2 = []\n",
    "        for i in y_total_number:\n",
    "            train_c2.append(i)\n",
    "            if y_train.at[i-1, 0] == 1 or y_train.at[i-1, 1] == 1:\n",
    "                train_c2[i-1] = 0\n",
    "            else:\n",
    "                train_c2[i-1] =1\n",
    "        y_train = pd.DataFrame(train_c2).values.ravel()\n",
    "        test_c2 = []\n",
    "        for i in y_total_number1:\n",
    "            test_c2.append(i)\n",
    "            if y_test.at[i-1, 0] == 1 or y_test.at[i-1, 1] == 1:\n",
    "                test_c2[i-1] = 0\n",
    "            else:\n",
    "                test_c2[i-1] =1\n",
    "        y_test = pd.DataFrame(test_c2).values.ravel()\n",
    "\n",
    "\n",
    "    # classifier3 : stage0,1,2 vs. stage3\n",
    "    if CLASS3:\n",
    "        train_c3 = []\n",
    "        for z in y_total_number:\n",
    "            train_c3.append(z)\n",
    "            if y_train.at[z-1, 3] == 1:\n",
    "                train_c3[z-1] =1\n",
    "            else:\n",
    "                train_c3[z-1] =0\n",
    "        y_train = pd.DataFrame(train_c3).values.ravel()\n",
    "        test_c3 = []\n",
    "        for z in y_total_number1:\n",
    "            test_c3.append(z)\n",
    "            if y_test.at[z-1, 3] == 1:\n",
    "                test_c3[z-1] =1\n",
    "            else:\n",
    "                test_c3[z-1] =0\n",
    "        y_test = pd.DataFrame(test_c3).values.ravel()"
   ]
  },
  {
   "cell_type": "code",
   "execution_count": 112,
   "metadata": {},
   "outputs": [
    {
     "name": "stdout",
     "output_type": "stream",
     "text": [
      "Now, the dataset is divided to X_train, X_test, y_train, y_test\n"
     ]
    }
   ],
   "source": [
    "print(\"Now, the dataset is divided to X_train, X_test, y_train, y_test\")\n",
    "# Now, the dataset is divided to \n",
    "# X_train\n",
    "# X_test\n",
    "# y_train\n",
    "# y_test"
   ]
  },
  {
   "cell_type": "code",
   "execution_count": 113,
   "metadata": {
    "scrolled": true
   },
   "outputs": [
    {
     "name": "stdout",
     "output_type": "stream",
     "text": [
      "build GBT\n",
      "train GBT\n"
     ]
    },
    {
     "data": {
      "text/plain": [
       "XGBClassifier(base_score=0.5, booster='gbtree', colsample_bylevel=1,\n",
       "              colsample_bynode=1, colsample_bytree=0.8, gamma=0,\n",
       "              learning_rate=0.1, max_delta_step=0, max_depth=5,\n",
       "              min_child_weight=1, missing=None, n_estimators=50, n_jobs=1,\n",
       "              nthread=4, objective='binary:logistic', random_state=0,\n",
       "              reg_alpha=0, reg_lambda=1, scale_pos_weight=1, seed=27,\n",
       "              silent=None, subsample=0.8, verbosity=1)"
      ]
     },
     "execution_count": 113,
     "metadata": {},
     "output_type": "execute_result"
    }
   ],
   "source": [
    "print(\"build GBT\")\n",
    "#build gradient boost model\n",
    "xgb_model = xgb.XGBClassifier(\n",
    " learning_rate = LEARNING_RATE,\n",
    " n_estimators= NUM_ESTIMATORS,\n",
    " max_depth= MAX_DEPTH,\n",
    " min_child_weight= MIN_CHILD_WEIGHT,\n",
    " gamma= GAMMA,\n",
    " subsample= SUBSAMPLE,\n",
    " colsample_bytree= COLSAMPLE_BYTREE,\n",
    " objective= OBJECTIVE,\n",
    " nthread= NUM_THREAD,\n",
    " scale_pos_weight= SCALE_POS_WEIGHT,\n",
    " seed= SEED)\n",
    "\n",
    "print(\"train GBT\")\n",
    "# train xgb\n",
    "xgb_model.fit(X_train, y_train, \n",
    "                early_stopping_rounds= EARLT_STOPPING_ROUNDS, \n",
    "                eval_metric= EVAL_METRIC, \n",
    "                eval_set= [(X_test, y_test)],\n",
    "                verbose= VERBOSE)"
   ]
  },
  {
   "cell_type": "code",
   "execution_count": 114,
   "metadata": {},
   "outputs": [
    {
     "name": "stdout",
     "output_type": "stream",
     "text": [
      "predictions\n"
     ]
    }
   ],
   "source": [
    "print(\"predictions\")\n",
    "#Make predictions \n",
    "GBT_pred = xgb_model.predict(X_test)\n",
    "GBT_probs = xgb_model.predict_proba(X_test)[::,1]"
   ]
  },
  {
   "cell_type": "code",
   "execution_count": 115,
   "metadata": {},
   "outputs": [
    {
     "name": "stdout",
     "output_type": "stream",
     "text": [
      "GBT accuracy for Classifier None vs. Any AKI : 0.7893\n"
     ]
    }
   ],
   "source": [
    "# accuracy\n",
    "print('GBT accuracy for Classifier ' + str(classifier_name) + ' : {:.4f}'.format(accuracy_score(y_test, GBT_pred)))"
   ]
  },
  {
   "cell_type": "code",
   "execution_count": 116,
   "metadata": {},
   "outputs": [
    {
     "name": "stdout",
     "output_type": "stream",
     "text": [
      "compute ROC AUC\n",
      "Area Under ROC Curve: 0.8428\n"
     ]
    }
   ],
   "source": [
    "print(\"compute ROC AUC\")\n",
    "# ROC AUC | ROC curve\n",
    "fpr_GBT, tpr_GBT, _ = roc_curve(y_test, GBT_probs)\n",
    "roc_auc_GBT = roc_auc_score(y_test, GBT_probs)\n",
    "print (\"Area Under ROC Curve: %0.4f\" % roc_auc_GBT  )"
   ]
  },
  {
   "cell_type": "code",
   "execution_count": 117,
   "metadata": {},
   "outputs": [
    {
     "name": "stdout",
     "output_type": "stream",
     "text": [
      "compute PR AUC\n",
      "Area Under PR Curve(AP): 0.8510\n"
     ]
    }
   ],
   "source": [
    "print(\"compute PR AUC\")\n",
    "# PR AUC | Precision-Recall curve\n",
    "precision_GBT, recall_GBT, _ = precision_recall_curve(y_test, GBT_probs)\n",
    "pr_auc_GBT = auc(recall_GBT, precision_GBT)\n",
    "print (\"Area Under PR Curve(AP): %0.4f\" % pr_auc_GBT  )"
   ]
  },
  {
   "cell_type": "code",
   "execution_count": 118,
   "metadata": {},
   "outputs": [
    {
     "name": "stdout",
     "output_type": "stream",
     "text": [
      "compute calibration curve\n"
     ]
    }
   ],
   "source": [
    "print(\"compute calibration curve\")\n",
    "# calibration curve\n",
    "gbt_y, gbt_x = calibration_curve(y_test, GBT_pred, n_bins=10)"
   ]
  },
  {
   "cell_type": "code",
   "execution_count": 119,
   "metadata": {},
   "outputs": [
    {
     "name": "stdout",
     "output_type": "stream",
     "text": [
      "The missing bins have midpoint values of  15%, 25%, 35%, 45%, 55%, 65%, 75%, 85%, \n"
     ]
    }
   ],
   "source": [
    "#find out which one are the missing bins\n",
    "bin_array = bin_total(y_test, GBT_pred , n_bins=10)\n",
    "print(missing_bin(bin_array))"
   ]
  },
  {
   "cell_type": "code",
   "execution_count": 120,
   "metadata": {},
   "outputs": [
    {
     "name": "stdout",
     "output_type": "stream",
     "text": [
      "plot curves and save in one png file\n"
     ]
    },
    {
     "data": {
      "image/png": "[encoded data removed]",
      "text/plain": [
       "<Figure size 504x1728 with 3 Axes>"
      ]
     },
     "metadata": {
      "needs_background": "light"
     },
     "output_type": "display_data"
    }
   ],
   "source": [
    "print(\"plot curves and save in one png file\")\n",
    "#save two plots in one png file\n",
    "fig, (ax1, ax2, ax3) = plt.subplots(3, figsize=(7, 24))\n",
    "fig.subplots_adjust(wspace=0.3, hspace= 0.3)\n",
    "fig.suptitle('Evaluation of '+ plot_name)\n",
    "\n",
    "# plot roc curve\n",
    "ax1.plot(fpr_GBT, tpr_GBT, label=\"Classifier \" + str(classifier_name) + \", auc=\" +str(roc_auc_GBT))\n",
    "ax1.title.set_text('ROC AUC')\n",
    "ax1.set(xlabel='False Positive Rate', ylabel='True Positive Rate')\n",
    "ax1.legend(loc=\"lower right\")\n",
    "\n",
    "# plot PR curve\n",
    "ax2.plot(recall_GBT, precision_GBT, label=\"Classifier \" + str(classifier_name) + \", auc=\"+str(pr_auc_GBT))\n",
    "ax2.title.set_text('PR AUC')\n",
    "ax2.set(xlabel='Recall', ylabel='Precision')\n",
    "ax2.legend(loc=\"lower right\")\n",
    "\n",
    "# plot calibration curve\n",
    "ax3.plot(gbt_x,gbt_y, marker='o', linewidth=1, label='GBT')\n",
    "line = mlines.Line2D([0, 1], [0, 1], color='black')\n",
    "transform = ax3.transAxes\n",
    "line.set_transform(transform)\n",
    "ax3.add_line(line)\n",
    "ax3.title.set_text('Calibration plot for '+str(plot_name))\n",
    "ax3.set(xlabel= 'Predicted probability', ylabel= 'True probability in each bin')\n",
    "ax3.legend(loc=\"lower right\")\n",
    "\n",
    "plt.savefig(plot_name+\".png\")\n",
    "plt.show()"
   ]
  },
  {
   "cell_type": "code",
   "execution_count": null,
   "metadata": {},
   "outputs": [],
   "source": []
  }
 ],
 "metadata": {
  "kernelspec": {
   "display_name": "Python 3",
   "language": "python",
   "name": "python3"
  },
  "language_info": {
   "codemirror_mode": {
    "name": "ipython",
    "version": 3
   },
   "file_extension": ".py",
   "mimetype": "text/x-python",
   "name": "python",
   "nbconvert_exporter": "python",
   "pygments_lexer": "ipython3",
   "version": "3.7.6"
  }
 },
 "nbformat": 4,
 "nbformat_minor": 2
}
