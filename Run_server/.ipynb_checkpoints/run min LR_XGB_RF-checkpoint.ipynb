{
 "cells": [
  {
   "cell_type": "code",
   "execution_count": 1,
   "metadata": {},
   "outputs": [],
   "source": [
    "#data preprocessing\n",
    "import pandas as pd\n",
    "import numpy as np\n",
    "from sklearn import preprocessing\n",
    "from sklearn.model_selection import train_test_split\n",
    "import collections\n",
    "from collections import defaultdict\n",
    "#import time\n",
    "from datetime import datetime\n",
    "\n",
    "#logistic regression model: train and evaluation and XGB \n",
    "from sklearn.linear_model import LogisticRegression\n",
    "import xgboost as xgb\n",
    "from  sklearn.ensemble import RandomForestClassifier\n",
    "from sklearn.model_selection import RandomizedSearchCV\n",
    "\n",
    "from sklearn.calibration import CalibratedClassifierCV, calibration_curve\n",
    "from sklearn import metrics\n",
    "from sklearn.metrics import roc_curve, precision_recall_curve, f1_score, roc_auc_score, auc, accuracy_score\n",
    "from sklearn.model_selection import cross_validate\n",
    "from sklearn.impute import SimpleImputer\n",
    "import matplotlib.lines as mlines\n",
    "import matplotlib.transforms as mtransforms\n",
    "from matplotlib import pyplot as plt\n"
   ]
  },
  {
   "cell_type": "code",
   "execution_count": 2,
   "metadata": {},
   "outputs": [],
   "source": [
    "# the full files pathes are here\n",
    "# time dependent\n",
    "DATA_PATH_stages=\"../data/kdigo_stages_measured.csv\" \n",
    "DATA_PATH_labs = \"../data/labs-kdigo_stages_measured.csv\" \n",
    "DATA_PATH_vitals = \"../data/vitals-kdigo_stages_measured.csv\" \n",
    "DATA_PATH_vents = \"../data/vents-vasopressor-sedatives-kdigo_stages_measured.csv\"\n",
    "#no time dependent\n",
    "DATA_PATH_detail=\"../data/icustay_detail-kdigo_stages_measured.csv\" #age constraint\n",
    "#DATA_PATH_icd = \"../data/diagnoses_icd_aki_measured.csv\" #AL was \"...measured 2.csv\"\n",
    "\n",
    "SEPARATOR=\";\""
   ]
  },
  {
   "cell_type": "code",
   "execution_count": 3,
   "metadata": {},
   "outputs": [],
   "source": [
    "# Set parameter as constant \n",
    "\n",
    "TESTING = False # Use 1% of data for testing. IF false - full dataset takes more time\n",
    "\n",
    "#which classifier to use, only run one classifier at one time \n",
    "ALL_STAGES = False\n",
    "CLASS1 = True   #AnyAKI\n",
    "#CLASS2 = True    #ModerateSevereAKI\n",
    "#CLASS3 = False    #SevereAKI\n",
    "    \n",
    "MAX_FEATURE_SET = True\n",
    "SELECTED_FEATURE_SET = False\n",
    "#DIAGNOSIS = False\n",
    "\n",
    "MAX_DAYS = 35\n",
    "\n",
    "NORMALIZATION = True # worsen results for XGB and RF\n",
    "CAPPING = True\n",
    "\n",
    "if CAPPING:\n",
    "    CAPPING_THRESHOLD_UPPER = 0.99\n",
    "    CAPPING_THRESHOLD_LOWER = 0.01\n",
    "\n",
    "#Age constraints: adults\n",
    "ADULTS_MIN_AGE = 18\n",
    "ADULTS_MAX_AGE = -1\n",
    "\n",
    "#Two options to deal with time series data\n",
    "FIRST_TURN_POS = True #True #False # the first charttime that turn pos as bechmark for Target\n",
    "LAST_CHARTTIME = False #the last charttime as bechmark for Target\n",
    "\n",
    "# resampling or not\n",
    "TIME_SAMPLING = True \n",
    "SAMPLING_INTERVAL = '6H'\n",
    "RESAMPLE_LIMIT = 16 # 4 days*6h interval\n",
    "MOST_COMMON = False #resampling with most common\n",
    "# if MOST_COMMON is not applied,sampling with different strategies per kind of variable, \n",
    "# numeric variables use mean value, categorical variables use max value\n",
    "IMPUTE_EACH_ID = True # imputation within each icustay_id\n",
    "IMPUTE_COLUMN = True # imputation based on whole column\n",
    "IMPUTE_METHOD = 'most_frequent' \n",
    "FILL_VALUE = -1 #fill missing value and ragged part of 3d array\n",
    "\n",
    "# How much time the prediction should occur (hours)\n",
    "HOURS_AHEAD = 48\n",
    "\n",
    "# precentage of dataset to be used for testing model\n",
    "TEST_SIZE = 0.1\n",
    "\n",
    "NORM_TYPE = 'min_max'\n",
    "\n",
    "# set constant for function build_basic_LR\n",
    "PENALTY = \"l1\"\n",
    "SOLVER = 'saga' \n",
    "MAX_ITERATION = 1000 \n",
    "CLASS_WEIGHT = \"balanced\"\n",
    "RANDOM = 42\n",
    "INTERCEPT = True\n",
    "C = 1"
   ]
  },
  {
   "cell_type": "code",
   "execution_count": 4,
   "metadata": {},
   "outputs": [],
   "source": [
    "#set changable info corresponding to each classifier as variables\n",
    "\n",
    "min_set =  [\"icustay_id\", \"charttime\", \"creat\", \"uo_rt_6hr\", \"uo_rt_12hr\", \"uo_rt_24hr\", \"aki_stage\"]\n",
    "\n",
    "\n",
    "#selected_set = \n",
    "\n",
    "\n",
    "max_set = ['icustay_id', 'charttime', 'aki_stage', 'hadm_id', 'albumin_avg','aniongap_avg', 'bicarbonate_avg', \n",
    "           'bilirubin_avg', 'bun_avg','chloride_avg', 'creat', 'diasbp_mean', 'glucose_avg', 'heartrate_mean',\n",
    "           'hematocrit_avg', 'hemoglobin_avg', 'potassium_avg', 'resprate_mean','sodium_avg', 'spo2_mean', 'sysbp_mean', \n",
    "           'uo_rt_12hr', 'uo_rt_24hr','uo_rt_6hr', 'wbc_avg', 'sedative', 'vasopressor', 'vent', 'age', 'F','M', \n",
    "           'asian', 'black', 'hispanic', 'native', 'other', 'unknown','white', 'ELECTIVE', 'EMERGENCY', 'URGENT']\n",
    "\n",
    "# naming model and plot\n",
    "classifier_name = \"None vs. Any AKI\"    ###change every time #Moderate vs. Severe #None vs. Any #Others vs. Severe\n",
    "plot_name = \"adult_AnyAKI_LR\"    ###change every time"
   ]
  },
  {
   "cell_type": "code",
   "execution_count": 5,
   "metadata": {},
   "outputs": [],
   "source": [
    "# Some functions used later\n",
    "\n",
    "if CAPPING:\n",
    "    def cap_data(df):\n",
    "        print(\"Capping between the {} and {} quantile\".format(CAPPING_THRESHOLD_LOWER, CAPPING_THRESHOLD_UPPER))\n",
    "        cap_mask = df.columns.difference(['icustay_id', 'charttime', 'aki_stage'])\n",
    "        df[cap_mask] = df[cap_mask].clip(df[cap_mask].quantile(CAPPING_THRESHOLD_LOWER),\n",
    "                                         df[cap_mask].quantile(CAPPING_THRESHOLD_UPPER),\n",
    "                                         axis=1)\n",
    "\n",
    "        return df\n",
    "\n",
    "# impute missing value in resampleing data with most common based on each id\n",
    "def fast_mode(df, key_cols, value_col):\n",
    "    \"\"\" Calculate a column mode, by group, ignoring null values. \n",
    "    \n",
    "    key_cols : list of str - Columns to groupby for calculation of mode.\n",
    "    value_col : str - Column for which to calculate the mode. \n",
    "\n",
    "    Return\n",
    "    pandas.DataFrame\n",
    "        One row for the mode of value_col per key_cols group. If ties, returns the one which is sorted first. \"\"\"\n",
    "    return (df.groupby(key_cols + [value_col]).size() \n",
    "              .to_frame('counts').reset_index() \n",
    "              .sort_values('counts', ascending=False) \n",
    "              .drop_duplicates(subset=key_cols)).drop('counts',axis=1)\n",
    "\n",
    "def normalise_data(df, norm_mask):\n",
    "    print(\"Normalizing in [0,1] with {} normalization\".format(NORMALIZATION))\n",
    "\n",
    "    if NORM_TYPE == 'min_max':\n",
    "        df[norm_mask] = (df[norm_mask] - df[norm_mask].min()) / (df[norm_mask].max() - df[norm_mask].min())\n",
    "    else:\n",
    "        df[norm_mask] = (df[norm_mask] - df[norm_mask].mean()) / df[norm_mask].std()\n",
    "\n",
    "    return df\n",
    "\n",
    "\n",
    "#get max shape of 3d array\n",
    "def get_dimensions(array, level=0):   \n",
    "    yield level, len(array)\n",
    "    try:\n",
    "        for row in array:\n",
    "            yield from get_dimensions(row, level + 1)\n",
    "    except TypeError: #not an iterable\n",
    "        pass\n",
    "\n",
    "def get_max_shape(array):\n",
    "    dimensions = defaultdict(int)\n",
    "    for level, length in get_dimensions(array):\n",
    "        dimensions[level] = max(dimensions[level], length)\n",
    "    return [value for _, value in sorted(dimensions.items())]\n",
    "\n",
    "#pad the ragged 3d array to rectangular shape based on max size\n",
    "def iterate_nested_array(array, index=()):\n",
    "    try:\n",
    "        for idx, row in enumerate(array):\n",
    "            yield from iterate_nested_array(row, (*index, idx))\n",
    "    except TypeError: # final level            \n",
    "        yield (*index, slice(len(array))), array\n",
    "\n",
    "def pad(array, fill_value):\n",
    "    dimensions = get_max_shape(array)\n",
    "    result = np.full(dimensions, fill_value)\n",
    "    for index, value in iterate_nested_array(array):\n",
    "        result[index] = value\n",
    "    return result\n",
    "\n",
    "\n"
   ]
  },
  {
   "cell_type": "code",
   "execution_count": 6,
   "metadata": {},
   "outputs": [
    {
     "name": "stdout",
     "output_type": "stream",
     "text": [
      "read csv files\n",
      "convert charttime to timestamp\n"
     ]
    }
   ],
   "source": [
    "print(\"read csv files\")\n",
    "#reading csv files\n",
    "X = pd.read_csv(DATA_PATH_stages, sep= SEPARATOR)\n",
    "X.drop([\"aki_stage_creat\", \"aki_stage_uo\"], axis = 1, inplace = True)\n",
    "#remove totally empty rows \n",
    "X = X.dropna(how = 'all', subset = ['creat','uo_rt_6hr','uo_rt_12hr','uo_rt_24hr','aki_stage'])\n",
    "print(\"convert charttime to timestamp\")\n",
    "X['charttime'] = pd.to_datetime(X['charttime'])\n",
    "# AL it substitutes missing values with zero!\n",
    "#merge rows if they have exact timestamp within same icustay_id\n",
    "#X = X.groupby(['icustay_id', 'charttime']).sum().reset_index(['icustay_id', 'charttime'])\n",
    "\n",
    "dataset_detail = pd.read_csv(DATA_PATH_detail, sep= SEPARATOR)  #age constraint\n",
    "dataset_detail.drop(['dod', 'admittime','dischtime', 'los_hospital','ethnicity','hospital_expire_flag', 'hospstay_seq',\n",
    "       'first_hosp_stay', 'intime', 'outtime', 'los_icu', 'icustay_seq','first_icu_stay'], axis = 1, inplace = True)\n"
   ]
  },
  {
   "cell_type": "code",
   "execution_count": 7,
   "metadata": {},
   "outputs": [
    {
     "name": "stdout",
     "output_type": "stream",
     "text": [
      "convert charttime to timestamp\n"
     ]
    }
   ],
   "source": [
    "#3\n",
    "dataset_labs = pd.read_csv(DATA_PATH_labs, sep= SEPARATOR) # 'bands lactate platelet ptt inr pt\n",
    "dataset_labs.drop(['albumin_min', 'albumin_max','bilirubin_min', 'bilirubin_max','bands_min', 'bands_max',\n",
    "                   'lactate_min', 'lactate_max','platelet_min', 'platelet_max','ptt_min', 'ptt_max', \n",
    "                   'inr_min', 'inr_max', 'pt_min', 'pt_max'], axis = 1, inplace = True)\n",
    "dataset_labs = dataset_labs.dropna(subset=['charttime'])\n",
    "dataset_labs = dataset_labs.dropna(subset=dataset_labs.columns[4:], how='all')\n",
    "dataset_labs['charttime'] = pd.to_datetime(dataset_labs['charttime'])\n",
    "dataset_labs = dataset_labs.sort_values(by=['icustay_id', 'charttime'])\n",
    "\n",
    "if SELECTED_FEATURE_SET or MAX_FEATURE_SET:\n",
    "    #4,5,6\n",
    "    dataset_vitals = pd.read_csv(DATA_PATH_vitals, sep= SEPARATOR)  #'meanbp_mean', 'tempc_mean',\n",
    "    dataset_vents = pd.read_csv(DATA_PATH_vents , sep= SEPARATOR)\n",
    "    #dataset_icd = pd.read_csv(DATA_PATH_icd, sep= SEPARATOR)\n",
    "\n",
    "    dataset_vitals.drop([\"heartrate_min\", \"heartrate_max\",\"sysbp_min\", \"sysbp_max\",\"diasbp_min\", \"diasbp_max\",\n",
    "                        'meanbp_min','meanbp_max', 'meanbp_mean','tempc_min', 'tempc_max', 'tempc_mean',\n",
    "                        \"resprate_min\", \"resprate_max\", \"spo2_min\", \"spo2_max\", \"glucose_min\", \"glucose_max\"], axis = 1, inplace = True)\n",
    "          \n",
    "    print(\"convert charttime to timestamp\")\n",
    "    dataset_vitals['charttime'] = pd.to_datetime(dataset_vitals['charttime'])\n",
    "    dataset_vents['charttime'] = pd.to_datetime(dataset_vents['charttime'])\n",
    "    \n",
    "    dataset_vitals = dataset_vitals.sort_values(by=['icustay_id', 'charttime'])\n",
    "    dataset_vents = dataset_vents.sort_values(by=['icustay_id', 'charttime'])\n",
    "    \n",
    "    # AL drop those where all columns are nan\n",
    "    dataset_vitals = dataset_vitals.dropna(subset=dataset_vitals.columns[4:], how='all')   \n",
    "     "
   ]
  },
  {
   "cell_type": "code",
   "execution_count": 8,
   "metadata": {},
   "outputs": [],
   "source": [
    "# Labs file: instead of min and max their avg\n",
    "counter = 0\n",
    "col1 = 4\n",
    "col2 = 5\n",
    "null_l = [] # no null values in those that are different\n",
    "changed = 0 # 4316 records changed to avg\n",
    "\n",
    "while counter < 11:\n",
    "    row = 0\n",
    "# find where min and max are different and save their row indices \n",
    "    while row < len(dataset_labs):\n",
    "        a = dataset_labs.iloc[row,col1]\n",
    "        b = dataset_labs.iloc[row,col2]\n",
    "        if a==b or (np.isnan(a) and np.isnan(b)):\n",
    "            pass\n",
    "        elif a!=b:\n",
    "            changed +=1\n",
    "            avg = (a+b)/2\n",
    "            dataset_labs.iloc[row,col1] = avg\n",
    "            if (np.isnan(a) and ~np.isnan(b)) or (np.isnan(b) and ~np.isnan(a)):\n",
    "                null_l.append(row)\n",
    "        else:\n",
    "            print(a)\n",
    "            print(b)\n",
    "        row +=1       \n",
    "    # delete the redundant column max, update counters\n",
    "    dataset_labs.drop(dataset_labs.columns[col2], axis=1, inplace = True)\n",
    "    counter = counter+1\n",
    "    col1 = col1+1\n",
    "    col2 = col2+1\n",
    "\n",
    "dataset_labs.columns = ['subject_id','hadm_id', 'icustay_id', 'charttime', 'aniongap_avg', 'bicarbonate_avg', \n",
    "                        'creatinine_avg', 'chloride_avg', 'glucose_avg', 'hematocrit_avg','hemoglobin_avg',\n",
    "                        'potassium_avg', 'sodium_avg', 'bun_avg', 'wbc_avg']\n",
    "if len(null_l)>0:\n",
    "    print(\"null values encountered\")"
   ]
  },
  {
   "cell_type": "code",
   "execution_count": 9,
   "metadata": {},
   "outputs": [
    {
     "name": "stdout",
     "output_type": "stream",
     "text": [
      "Merge creatinine and glucose.\n"
     ]
    }
   ],
   "source": [
    "print(\"Merge creatinine and glucose.\")\n",
    "# merge creatinine from labs and set with labels\n",
    "creat_l = dataset_labs[['icustay_id','charttime','creatinine_avg']].copy()\n",
    "creat_l = creat_l.dropna(subset=['creatinine_avg'])\n",
    "creat = X[['icustay_id','charttime', 'creat']].copy()\n",
    "creat = creat.dropna(subset=['creat'])\n",
    "creat_l = creat_l.rename(columns={\"creatinine_avg\": \"creat\"})\n",
    "creat = creat.append(creat_l, ignore_index=True)\n",
    "creat.drop_duplicates(inplace = True)\n",
    "#delete old columns\n",
    "dataset_labs.drop([\"creatinine_avg\"], axis = 1, inplace = True)\n",
    "dataset_labs = dataset_labs.dropna(subset=dataset_labs.columns[4:], how='all')\n",
    "X.drop([\"creat\"], axis = 1, inplace = True)\n",
    "#merge new column\n",
    "X = pd.merge(X, creat, on = [\"icustay_id\", \"charttime\"], sort = True, how= \"outer\", copy = False)\n",
    "\n",
    "if SELECTED_FEATURE_SET or MAX_FEATURE_SET:\n",
    "    # merge glucose from vitals and labs\n",
    "    glucose_v = dataset_vitals[['subject_id','hadm_id','icustay_id','charttime', 'glucose_mean']].copy()\n",
    "    glucose_v = glucose_v.dropna(subset=['glucose_mean'])\n",
    "    glucose = dataset_labs[['subject_id','hadm_id','icustay_id','charttime', 'glucose_avg']].copy()\n",
    "    glucose = glucose.dropna(subset=['glucose_avg'])\n",
    "    glucose_v = glucose_v.rename(columns={\"glucose_mean\": \"glucose_avg\"})\n",
    "    glucose = glucose.append(glucose_v, ignore_index=True)\n",
    "    glucose.drop_duplicates(inplace = True)\n",
    "    #delete old columns\n",
    "    dataset_labs.drop([\"glucose_avg\"], axis = 1, inplace = True)\n",
    "    dataset_vitals.drop([\"glucose_mean\"], axis = 1, inplace = True)\n",
    "    dataset_vitals = dataset_vitals.dropna(subset=dataset_vitals.columns[4:], how='all')\n",
    "    #merge new column\n",
    "    dataset_labs = pd.merge(dataset_labs, glucose, on = ['subject_id','hadm_id','icustay_id','charttime',], sort = True, how= \"outer\", copy = False)\n",
    "    \n",
    "dataset_labs = dataset_labs.sort_values(by=['icustay_id', 'charttime'], ignore_index = True)\n",
    "X = X.sort_values(by=['icustay_id', 'charttime'], ignore_index = True)"
   ]
  },
  {
   "cell_type": "code",
   "execution_count": 10,
   "metadata": {},
   "outputs": [
    {
     "name": "stdout",
     "output_type": "stream",
     "text": [
      "Merging labs, vitals and vents files\n"
     ]
    }
   ],
   "source": [
    "print(\"Merging labs, vitals and vents files\")\n",
    "#merge files with time-dependent data, based on icustay_id and charttime\n",
    "if SELECTED_FEATURE_SET or MAX_FEATURE_SET:\n",
    "    X = pd.merge(X, dataset_labs, on = [\"icustay_id\", \"charttime\"], how= \"outer\", copy = False)\n",
    "    X = pd.merge(X, dataset_vitals, on = [\"icustay_id\", \"charttime\",\"subject_id\", \"hadm_id\"], how= \"outer\", copy = False)\n",
    "    X = pd.merge(X, dataset_vents, on = [\"icustay_id\", \"charttime\"], how= \"outer\", copy = False) \n",
    "    X.drop([\"subject_id\"], axis = 1, inplace = True) \n"
   ]
  },
  {
   "cell_type": "code",
   "execution_count": 11,
   "metadata": {},
   "outputs": [
    {
     "name": "stdout",
     "output_type": "stream",
     "text": [
      "start preprocessing time dependent data\n",
      "Removing patients under the min age\n"
     ]
    }
   ],
   "source": [
    "print(\"start preprocessing time dependent data\") # AL removed a line where rows with missing labels are deleted (we will ffil)\n",
    "print(\"Removing patients under the min age\")\n",
    "dataset_detail = dataset_detail.loc[dataset_detail['age'] >= ADULTS_MIN_AGE]\n",
    "adults_icustay_id_list = dataset_detail['icustay_id'].unique()\n",
    "X = X[X.icustay_id.isin(adults_icustay_id_list)].sort_values(by=['icustay_id'], ignore_index = True)\n",
    "X = X.sort_values(by=['icustay_id', 'charttime'], ignore_index = True)\n",
    "adults_icustay_id_list = np.sort(adults_icustay_id_list)"
   ]
  },
  {
   "cell_type": "code",
   "execution_count": 12,
   "metadata": {},
   "outputs": [
    {
     "name": "stdout",
     "output_type": "stream",
     "text": [
      "drop icustay_id with time span less than 48hrs\n",
      "2302 long stays\n",
      "there are 5214 id-s shorter than 48 hours\n"
     ]
    }
   ],
   "source": [
    "print(\"drop icustay_id with time span less than 48hrs\")\n",
    "def more_than_HOURS_ahead(adults_icustay_id_list, X):\n",
    "    drop_list = []\n",
    "    los_list = [] # calculating LOS ICU based on charttime\n",
    "    long_stays_id = [] # LOS longer than MAX DAYS days\n",
    "    last_charttime_list = []\n",
    "    seq_length = X.groupby(['icustay_id'],as_index=False).size().to_frame('size')\n",
    "    id_count = 0\n",
    "    first_row_index = 0\n",
    "\n",
    "    while id_count < len(adults_icustay_id_list):\n",
    "        icustay_id = adults_icustay_id_list[id_count]\n",
    "        last_row_index = first_row_index + seq_length.iloc[id_count,0]-1\n",
    "        first_time = X.iat[first_row_index, X.columns.get_loc('charttime')]\n",
    "        last_time = X.iat[last_row_index, X.columns.get_loc('charttime')]\n",
    "        los = round(float((last_time - first_time).total_seconds()/60/60/24),4) # in days\n",
    "        if los < HOURS_AHEAD/24:\n",
    "            drop_list.append(icustay_id)\n",
    "        else:\n",
    "            los_list.append(los)\n",
    "            if los > MAX_DAYS:\n",
    "                long_stays_id.append(icustay_id)\n",
    "                last_charttime_list.append(last_time)\n",
    "        # udpate for the next icustay_id\n",
    "        first_row_index = last_row_index+1\n",
    "        id_count +=1\n",
    "    if len(long_stays_id) != len(last_charttime_list):\n",
    "        print('ERROR')\n",
    "    print(\"%d long stays\" % len(long_stays_id))\n",
    "    # drop all the rows with the saved icustay_id\n",
    "    print(\"there are %d id-s shorter than 48 hours\" % len(drop_list))\n",
    "    X = X[~X.icustay_id.isin(drop_list)]\n",
    "    id_list = X['icustay_id'].unique()\n",
    "    X = X.sort_values(by=['icustay_id', 'charttime'], ignore_index = True)\n",
    "    \n",
    "    return id_list, X, long_stays_id,last_charttime_list\n",
    "\n",
    "id_list, X, long_stays_id,last_charttime_list  = more_than_HOURS_ahead(adults_icustay_id_list, X)\n",
    "\n",
    "\n",
    "long = pd.DataFrame()\n",
    "long['icustay_id']  = long_stays_id\n",
    "long['last_time']  = last_charttime_list\n"
   ]
  },
  {
   "cell_type": "code",
   "execution_count": 13,
   "metadata": {},
   "outputs": [
    {
     "name": "stdout",
     "output_type": "stream",
     "text": [
      "0 long stays\n",
      "there are 1 id-s shorter than 48 hours\n"
     ]
    }
   ],
   "source": [
    "# deleting rows that are not within MAX_DAYS (35) period\n",
    "i = 0 # long df index\n",
    "drop_long_time = []\n",
    "    \n",
    "while i < len(long_stays_id):\n",
    "    j = 0\n",
    "    all_rows = X.index[X['icustay_id'] == long.loc[i,'icustay_id']].tolist()\n",
    "    while j < len(all_rows):\n",
    "        time = X.iat[all_rows[j], X.columns.get_loc('charttime')]\n",
    "        # if keep last MAX_DAYS \n",
    "        if (long.loc[i,'last_time'] - time).total_seconds() > MAX_DAYS*24*60*60:\n",
    "            drop_long_time.append(all_rows[j])\n",
    "            j +=1\n",
    "        else:\n",
    "            break\n",
    "    i +=1       \n",
    "X.drop(X.index[drop_long_time], inplace=True) \n",
    "\n",
    "# checking for 48h min length again\n",
    "id_list, X, long_stays_id,last_charttime_list  = more_than_HOURS_ahead(id_list, X)\n",
    "dataset_detail = dataset_detail[dataset_detail.icustay_id.isin(id_list)].sort_values(by=['icustay_id'], ignore_index = True)\n"
   ]
  },
  {
   "cell_type": "code",
   "execution_count": 14,
   "metadata": {},
   "outputs": [],
   "source": [
    "if SELECTED_FEATURE_SET or MAX_FEATURE_SET:\n",
    "    # AL create a dictionary for hadm\n",
    "    hadm = dataset_detail.filter(['hadm_id','icustay_id'],axis = 1)\n",
    "    dict_hadm = pd.Series(hadm.hadm_id.values,index=hadm.icustay_id).to_dict()\n",
    "    # fill in the missing values (to ensure correct merging of icd below)\n",
    "    X.hadm_id = X.hadm_id.fillna(FILL_VALUE)\n",
    "    # AL change the type to prevent warning of merging int on float\n",
    "    X = X.astype({\"hadm_id\": int})\n",
    "    a = -1\n",
    "    while a < X.shape[0]-1:\n",
    "        a = a+1\n",
    "        if X.iat[a, X.columns.get_loc('hadm_id')] !=-1 :\n",
    "            continue\n",
    "        elif X.iat[a, X.columns.get_loc('hadm_id')]==-1:\n",
    "            X.iat[a, X.columns.get_loc('hadm_id')] = dict_hadm[X.iat[a, X.columns.get_loc('icustay_id')]]\n"
   ]
  },
  {
   "cell_type": "markdown",
   "metadata": {},
   "source": [
    "# For testing purpose, use small amount of data first"
   ]
  },
  {
   "cell_type": "code",
   "execution_count": 15,
   "metadata": {},
   "outputs": [],
   "source": [
    "#For testing purpose, use small amount of data first\n",
    "if TESTING:\n",
    "    rest, id_list = train_test_split(id_list, test_size= 0.01, random_state=42)\n",
    "    X = X[X.icustay_id.isin(id_list)].sort_values(by=['icustay_id'])\n",
    "    dataset_detail = dataset_detail[dataset_detail.icustay_id.isin(id_list)].sort_values(by=['icustay_id'])"
   ]
  },
  {
   "cell_type": "markdown",
   "metadata": {},
   "source": [
    "# Resample  and impute"
   ]
  },
  {
   "cell_type": "code",
   "execution_count": 16,
   "metadata": {},
   "outputs": [
    {
     "name": "stdout",
     "output_type": "stream",
     "text": [
      "resampling: MEAN & ZERO\n",
      "Merging sampled features\n",
      "(2156523, 26)\n"
     ]
    }
   ],
   "source": [
    "if (TIME_SAMPLING and MOST_COMMON):\n",
    "    print(\"resampling: MOST_COMMON\")\n",
    "    # Resample the data using assigned interval,mode() for most common\n",
    "    X = X.set_index('charttime').groupby('icustay_id').resample(SAMPLING_INTERVAL).mode().reset_index()\n",
    "elif TIME_SAMPLING:\n",
    "    print(\"resampling: MEAN & ZERO\")\n",
    "    # Sampling with different strategies per kind of variable\n",
    "    label = ['aki_stage']\n",
    "    skip = ['icustay_id', 'charttime', 'aki_stage']\n",
    "    if SELECTED_FEATURE_SET or MAX_FEATURE_SET:\n",
    "        discrete_feat = ['sedative', 'vasopressor', 'vent', 'hadm_id']\n",
    "        skip.extend(discrete_feat)    \n",
    "    # all features that are not in skip are numeric\n",
    "    numeric_feat = list(X.columns.difference(skip))\n",
    "    \n",
    "    # Applying aggregation to features depending on their type\n",
    "    X = X.set_index('charttime').groupby('icustay_id').resample(SAMPLING_INTERVAL)\n",
    "    if SELECTED_FEATURE_SET or MAX_FEATURE_SET:\n",
    "        X_discrete = X[discrete_feat].max().fillna(FILL_VALUE).astype(np.int64)\n",
    "    X_numeric = X[numeric_feat].mean() \n",
    "    X_label = X['aki_stage'].max()\n",
    "    print(\"Merging sampled features\")\n",
    "    try:\n",
    "        X = pd.concat([X_numeric, X_discrete,X_label], axis=1).reset_index()\n",
    "    except:\n",
    "        X = pd.concat([X_numeric,X_label], axis=1).reset_index()\n",
    "print(X.shape)\n",
    "#Label forward fill\n",
    "X['aki_stage'] = X['aki_stage'].ffill(limit=RESAMPLE_LIMIT)"
   ]
  },
  {
   "cell_type": "code",
   "execution_count": 17,
   "metadata": {},
   "outputs": [
    {
     "name": "stdout",
     "output_type": "stream",
     "text": [
      "Imputation.\n"
     ]
    }
   ],
   "source": [
    "print(\"Imputation.\")\n",
    "# do imputation of label with zero if there are still missing values\n",
    "X['aki_stage'] = X['aki_stage'].fillna(0)\n",
    "# using most common within each icustay_id\n",
    "if IMPUTE_EACH_ID:\n",
    "    # set a new variable so won't change the orginial X\n",
    "    column_name = list(X.columns)\n",
    "    column_name.remove(column_name[0]) \n",
    "    for feature in column_name:\n",
    "        X.loc[X[feature].isnull(), feature] = X.icustay_id.map(fast_mode(X, ['icustay_id'], feature).set_index('icustay_id')[feature])       \n",
    "\n",
    "# imputation based on whole column\n",
    "if IMPUTE_COLUMN:\n",
    "    imp = SimpleImputer(missing_values=np.nan, strategy= IMPUTE_METHOD)\n",
    "    cols = list(X.columns)\n",
    "    cols = cols[2:23]\n",
    "    X[cols]=imp.fit_transform(X[cols])  \n",
    "\n",
    "# If no imputation method selected or only impute each id, for the remaining nan impute direclty with FILL_VALUE\n",
    "X = X.fillna(FILL_VALUE) "
   ]
  },
  {
   "cell_type": "code",
   "execution_count": 18,
   "metadata": {},
   "outputs": [
    {
     "name": "stdout",
     "output_type": "stream",
     "text": [
      "success\n"
     ]
    }
   ],
   "source": [
    "# more comfortable to review in this order\n",
    "try:\n",
    "    cols = ['icustay_id', 'charttime','aki_stage','hadm_id','aniongap_avg','bicarbonate_avg', 'bun_avg','chloride_avg',\n",
    "            'creat','diasbp_mean', 'glucose_avg', 'heartrate_mean', 'hematocrit_avg','hemoglobin_avg', \n",
    "            'potassium_avg', 'resprate_mean', 'sodium_avg','spo2_mean', 'sysbp_mean', 'uo_rt_12hr', \n",
    "            'uo_rt_24hr', 'uo_rt_6hr','wbc_avg', 'sedative', 'vasopressor', 'vent' ]\n",
    "    X = X[cols]\n",
    "    print(\"success\")\n",
    "except:\n",
    "    try:\n",
    "        cols = ['icustay_id', 'charttime','aki_stage','creat','uo_rt_12hr', 'uo_rt_24hr', 'uo_rt_6hr']\n",
    "        X = X[cols]\n",
    "    except:\n",
    "        print(\"error\")"
   ]
  },
  {
   "cell_type": "code",
   "execution_count": 19,
   "metadata": {},
   "outputs": [
    {
     "name": "stdout",
     "output_type": "stream",
     "text": [
      "binarise labels\n"
     ]
    }
   ],
   "source": [
    "print(\"binarise labels\")\n",
    "if ALL_STAGES:\n",
    "    pass\n",
    "elif CLASS1:\n",
    "    X.loc[X['aki_stage'] > 1, 'aki_stage'] = 1\n",
    "elif CLASS2:\n",
    "    X.loc[X['aki_stage'] < 2, 'aki_stage'] = 0\n",
    "    X.loc[X['aki_stage'] > 1, 'aki_stage'] = 1\n",
    "elif CLASS3:\n",
    "    X.loc[X['aki_stage'] < 3, 'aki_stage'] = 0\n",
    "    X.loc[X['aki_stage'] > 2, 'aki_stage'] = 1"
   ]
  },
  {
   "cell_type": "markdown",
   "metadata": {},
   "source": [
    "#  Cap features between 0.01 / 0.99 quantile and normalisation"
   ]
  },
  {
   "cell_type": "code",
   "execution_count": 20,
   "metadata": {},
   "outputs": [
    {
     "name": "stdout",
     "output_type": "stream",
     "text": [
      "Capping between the 0.01 and 0.99 quantile\n",
      "Normalizing in [0,1] with True normalization\n"
     ]
    }
   ],
   "source": [
    "if CAPPING:\n",
    "    X = cap_data(X)\n",
    "if NORMALIZATION:\n",
    "    X = normalise_data(X, numeric_feat)"
   ]
  },
  {
   "cell_type": "markdown",
   "metadata": {},
   "source": [
    "# Shift labels for HOURS_AHEAD"
   ]
  },
  {
   "cell_type": "code",
   "execution_count": 21,
   "metadata": {},
   "outputs": [
    {
     "data": {
      "text/plain": [
       "(1774515, 26)"
      ]
     },
     "execution_count": 21,
     "metadata": {},
     "output_type": "execute_result"
    }
   ],
   "source": [
    "#print(\"Shifting the labels 48 h\") # by 8 position : 6h sampling*8=48h and ffil 8 newly empty ones\n",
    "# group by\n",
    "X['aki_stage'] = X.groupby('icustay_id')['aki_stage'].shift(-(HOURS_AHEAD // int(SAMPLING_INTERVAL[:-1])))\n",
    "X = X.dropna(subset=['aki_stage'])\n",
    "X['icustay_id'].nunique()\n",
    "X.shape"
   ]
  },
  {
   "cell_type": "markdown",
   "metadata": {},
   "source": [
    "# Last charttime (option1)"
   ]
  },
  {
   "cell_type": "code",
   "execution_count": 22,
   "metadata": {},
   "outputs": [],
   "source": [
    "if LAST_CHARTTIME:\n",
    "    print(\"Here we choose the last charttime as bechmark for Target\")\n",
    "    print(\"find last charttime for each icustay_id\")\n",
    "    #extract the aki_stage value of row of \"last\" charttime of each icustay_id as the label/target set\n",
    "    #find last charttime for each icustay_id\n",
    "\n",
    "    target_list = [] #to store target(y)\n",
    "    last_charttime_list= [] #a list to store last charttime for every icustay_id\n",
    "    last_charttime_index_list = [] #a list to store index when last charttime for every icustay_id\n",
    "\n",
    "    dataset_size = X.shape[0]\n",
    "    k=0 #index\n",
    "    h=0 #the times that id matches\n",
    "\n",
    "    for extract_id in id_list:\n",
    "        while k < X:\n",
    "            if X.iat[k, X.columns.get_loc('icustay_id')] == extract_id:\n",
    "                if h==0 and k != dataset_size-1:\n",
    "                    k = k+1\n",
    "                    h = h+1\n",
    "                elif h !=0:\n",
    "                    if k == dataset_size-1:\n",
    "                        target_list.append(X.iat[k, X.columns.get_loc('aki_stage')])\n",
    "                        last_charttime_list.append(X.iat[k, X.columns.get_loc('charttime')])\n",
    "                        last_charttime_index_list.append(k)\n",
    "                    k = k+1\n",
    "            elif X.iat[k, X.columns.get_loc('icustay_id')] != extract_id:\n",
    "                target_list.append(X.iat[k-1, X.columns.get_loc('aki_stage')])\n",
    "                last_charttime_list.append(X.iat[k-1, X.columns.get_loc('charttime')])\n",
    "                last_charttime_index_list.append(k-1)\n",
    "                h=0\n",
    "                break\n",
    "                "
   ]
  },
  {
   "cell_type": "markdown",
   "metadata": {},
   "source": [
    "# First Turn Pos (option 2)"
   ]
  },
  {
   "cell_type": "code",
   "execution_count": 23,
   "metadata": {},
   "outputs": [
    {
     "name": "stdout",
     "output_type": "stream",
     "text": [
      "(784755, 25)\n"
     ]
    }
   ],
   "source": [
    "if FIRST_TURN_POS:\n",
    "    # create one label per icustay_id - first turn positive approach\n",
    "\n",
    "    X = X.sort_values(by=['icustay_id', 'charttime'], ignore_index = True)\n",
    "    id_list.sort()\n",
    "    last_charttime_list= []\n",
    "\n",
    "    index_list = []\n",
    "    label_list = []\n",
    "\n",
    "    first_row_index = 0\n",
    "    id_count = 0\n",
    "    seq_length = X.groupby(['icustay_id'],as_index=False).size().to_frame('size')\n",
    "\n",
    "    for ID in id_list:\n",
    "        last_row_index = first_row_index + seq_length.iloc[id_count,0]-1\n",
    "        a = X.loc[X['icustay_id']==ID].aki_stage\n",
    "        if 1 not in a.values:\n",
    "            label_list.append(0)\n",
    "            last_charttime_list.append(X.iat[last_row_index, X.columns.get_loc('charttime')]) \n",
    "            index_list.append(last_row_index)\n",
    "        elif 1 in a.values:\n",
    "            label_list.append(1)\n",
    "            row = first_row_index\n",
    "            while row != last_row_index+1:\n",
    "                if X.iat[row, X.columns.get_loc('aki_stage')]==0:\n",
    "                    row +=1\n",
    "                elif X.iat[row, X.columns.get_loc('aki_stage')]==1:\n",
    "                    last_charttime_list.append(X.iat[row, X.columns.get_loc('charttime')])\n",
    "                    index_list.append(row)\n",
    "                    break\n",
    "        first_row_index = last_row_index+1\n",
    "        id_count +=1\n",
    "\n",
    "    X = X.drop(['aki_stage'], axis=1)\n",
    "    Thresholds = pd.DataFrame({'icustay_id':id_list, 'charttime': last_charttime_list, 'final_label':label_list})\n",
    "    X = (Thresholds.merge(X, on='icustay_id', how='left',suffixes=('_x','')).query(\"charttime_x >= charttime\").reindex(columns=X.columns))        \n",
    "    print(X.shape)\n",
    "    X['icustay_id'].nunique()"
   ]
  },
  {
   "cell_type": "code",
   "execution_count": 24,
   "metadata": {},
   "outputs": [
    {
     "data": {
      "text/plain": [
       "1    28097\n",
       "0    19654\n",
       "Name: final_label, dtype: int64"
      ]
     },
     "execution_count": 24,
     "metadata": {},
     "output_type": "execute_result"
    }
   ],
   "source": [
    "Thresholds['final_label'].value_counts()"
   ]
  },
  {
   "cell_type": "markdown",
   "metadata": {},
   "source": [
    "# Add categorical features (details and icd)"
   ]
  },
  {
   "cell_type": "code",
   "execution_count": 25,
   "metadata": {},
   "outputs": [
    {
     "name": "stdout",
     "output_type": "stream",
     "text": [
      "start preprocessing not time dependent data\n"
     ]
    }
   ],
   "source": [
    "print(\"start preprocessing not time dependent data\")\n",
    "if SELECTED_FEATURE_SET or MAX_FEATURE_SET:\n",
    "    #extract datasets based on id_list\n",
    "    dataset_detail = dataset_detail.loc[dataset_detail['icustay_id'].isin(id_list)]\n",
    "    #sort by ascending order\n",
    "    dataset_detail = dataset_detail.sort_values(by=['icustay_id'])\n",
    "    subject_id = dataset_detail[\"subject_id\"].unique()\n",
    "    \n",
    "    #transfrom categorical data to binary form\n",
    "    dataset_detail = dataset_detail.join(pd.get_dummies(dataset_detail.pop('gender')))\n",
    "    dataset_detail = dataset_detail.join(pd.get_dummies(dataset_detail.pop(\"ethnicity_grouped\")))\n",
    "    dataset_detail = dataset_detail.join(pd.get_dummies(dataset_detail.pop('admission_type')))\n",
    "    dataset_detail = dataset_detail.drop(['subject_id', 'hadm_id'], axis=1)\n",
    "    X =  pd.merge(X, dataset_detail, on = [\"icustay_id\"], how= \"left\", copy = False) \n",
    "    #dataset_detail = dataset_detail.drop([\"icustay_id\",'subject_id'], axis=1)\n",
    "    #!!!!!X =  pd.merge(X, dataset_detail, on = [\"icustay_id\"], how= \"left\") \n",
    "    \n",
    "    #convert dataframe to array for later concontenate\n",
    "    #dataset_detail = np.array((dataset_detail.fillna(FILL_VALUE)).to_numpy())\n",
    "    #X = np.concatenate((X, dataset_detail), axis=1)"
   ]
  },
  {
   "cell_type": "code",
   "execution_count": 26,
   "metadata": {},
   "outputs": [],
   "source": [
    "# ICD table was added here"
   ]
  },
  {
   "cell_type": "code",
   "execution_count": 27,
   "metadata": {},
   "outputs": [
    {
     "name": "stdout",
     "output_type": "stream",
     "text": [
      "select features used in the paper\n"
     ]
    }
   ],
   "source": [
    "print(\"select features used in the paper\")\n",
    "#select only features that used in paper\n",
    "if SELECTED_FEATURE_SET:\n",
    "    X = X[selected_set]"
   ]
  },
  {
   "cell_type": "code",
   "execution_count": 28,
   "metadata": {},
   "outputs": [],
   "source": [
    "#AL re-write as try except to make it work as hadm_id is not used if only one csv file is used and none are merged\n",
    "try:\n",
    "    X = X.drop(['hadm_id', 'charttime'], axis=1)\n",
    "except:\n",
    "    X = X.drop(['charttime'], axis=1)"
   ]
  },
  {
   "cell_type": "code",
   "execution_count": 29,
   "metadata": {},
   "outputs": [
    {
     "name": "stdout",
     "output_type": "stream",
     "text": [
      "47751\n"
     ]
    }
   ],
   "source": [
    "# set target as y\n",
    "if LAST_CHARTTIME:\n",
    "    y = pd.DataFrame(target_list)\n",
    "if FIRST_TURN_POS:\n",
    "    y = Thresholds['final_label']\n",
    "print(len(y))"
   ]
  },
  {
   "cell_type": "code",
   "execution_count": 30,
   "metadata": {},
   "outputs": [
    {
     "name": "stdout",
     "output_type": "stream",
     "text": [
      "133\n"
     ]
    }
   ],
   "source": [
    "rows = X.groupby(['icustay_id'],as_index=False).size()\n",
    "batch_size = rows.max()\n",
    "print(batch_size)"
   ]
  },
  {
   "cell_type": "code",
   "execution_count": 31,
   "metadata": {},
   "outputs": [],
   "source": [
    "#work = X.copy(deep = True)"
   ]
  },
  {
   "cell_type": "code",
   "execution_count": 32,
   "metadata": {},
   "outputs": [
    {
     "name": "stdout",
     "output_type": "stream",
     "text": [
      "(47751,)\n"
     ]
    }
   ],
   "source": [
    "#print(\"reshape 2D dataframe to 3D Array, group by icustay_id\")\n",
    "X = np.array(list(X.groupby(['icustay_id'],as_index=False).apply(pd.DataFrame.to_numpy)))\n",
    "print(X.shape)"
   ]
  },
  {
   "cell_type": "code",
   "execution_count": 33,
   "metadata": {
    "scrolled": true
   },
   "outputs": [
    {
     "name": "stdout",
     "output_type": "stream",
     "text": [
      "fill ragged part(missing value) of 3d array with FILL_VALUE\n",
      "(47751, 133, 36)\n",
      "flatten 3D array back to 2D array\n",
      "(47751, 4788)\n",
      "Now, we get the following: X as features and y as Targets\n"
     ]
    }
   ],
   "source": [
    "print(\"fill ragged part(missing value) of 3d array with FILL_VALUE\")\n",
    "# fill ragged part(missing value) of 3d array with FILL_VALUE\n",
    "X = pad(X, FILL_VALUE)\n",
    "print(X.shape)\n",
    "\n",
    "print(\"flatten 3D array back to 2D array\")\n",
    "#flatten 3d array to 2d array\n",
    "nsamples, nx, ny = X.shape\n",
    "X = X.reshape((nsamples,nx*ny))\n",
    "print(X.shape)\n",
    "print(\"Now, we get the following: X as features and y as Targets\")"
   ]
  },
  {
   "cell_type": "code",
   "execution_count": 34,
   "metadata": {},
   "outputs": [
    {
     "name": "stdout",
     "output_type": "stream",
     "text": [
      "Counter({1: 28097, 0: 19654})\n"
     ]
    }
   ],
   "source": [
    "#AL to see the balance of the classes\n",
    "try:\n",
    "    z = list(y[0])\n",
    "except:\n",
    "    z = y\n",
    "counter=collections.Counter(z)\n",
    "print(counter)"
   ]
  },
  {
   "cell_type": "code",
   "execution_count": 35,
   "metadata": {},
   "outputs": [
    {
     "name": "stdout",
     "output_type": "stream",
     "text": [
      "divide dataset into train, test sets\n"
     ]
    }
   ],
   "source": [
    "print(\"divide dataset into train, test sets\")\n",
    "# divide dataset into train, test sets\n",
    "X_train, X_test, y_train, y_test = train_test_split(X, y, test_size = TEST_SIZE, random_state = 42)"
   ]
  },
  {
   "cell_type": "code",
   "execution_count": 36,
   "metadata": {},
   "outputs": [
    {
     "name": "stdout",
     "output_type": "stream",
     "text": [
      "Now, the dataset is divided to X_train, X_test, y_train, y_test\n"
     ]
    }
   ],
   "source": [
    "print(\"Now, the dataset is divided to X_train, X_test, y_train, y_test\")\n"
   ]
  },
  {
   "cell_type": "markdown",
   "metadata": {},
   "source": [
    "# LOGISTIC REGRESSION MODEL"
   ]
  },
  {
   "cell_type": "code",
   "execution_count": 37,
   "metadata": {},
   "outputs": [],
   "source": [
    "def performance (model, y_test, pred_probabilities, predictions):\n",
    "    print('accuracy for Classifier : {:.2f}'.format(accuracy_score(y_test, predictions)))\n",
    "    # performance\n",
    "    fpr, tpr, thresholds = roc_curve(y_test, pred_probabilities)\n",
    "    # compute roc auc\n",
    "    roc_auc = roc_auc_score(y_test, pred_probabilities, average = 'micro')\n",
    "    print (\"Area Under ROC Curve: %0.2f\" % roc_auc  )\n",
    "    # compute Precision_Recall curves\n",
    "    precision, recall, _ = precision_recall_curve(y_test, pred_probabilities)\n",
    "    # compute PR_AUC\n",
    "    pr_auc = metrics.auc(recall, precision)\n",
    "    print (\"Area Under PR Curve(AP): %0.2f\" % pr_auc  )    \n",
    "    # I add confusion matrix\n",
    "    a = np.where(pred_probabilities > 0.5, 1, 0)\n",
    "    print(metrics.confusion_matrix(y_test, a, labels=None, normalize=None))\n",
    "    brier = round(metrics.brier_score_loss(y_test, pred_probabilities, sample_weight=None, pos_label=None),3)\n",
    "    print(\"brier\")\n",
    "    print(brier)\n",
    "     "
   ]
  },
  {
   "cell_type": "code",
   "execution_count": 38,
   "metadata": {},
   "outputs": [],
   "source": [
    "def build_graphs (y_test,pred_probabilities, classifier_name, plot_name):\n",
    "    \n",
    "    def bin_total(y_true, y_prob, n_bins):\n",
    "        bins = np.linspace(0., 1. + 1e-8, n_bins + 1)\n",
    "\n",
    "        # In sklearn.calibration.calibration_curve, the last value in the array is always 0.\n",
    "        binids = np.digitize(y_prob, bins) - 1\n",
    "\n",
    "        return np.bincount(binids, minlength=len(bins))\n",
    "\n",
    "    def missing_bin(bin_array):\n",
    "        midpoint = \" \"    \n",
    "        if bin_array[0]==0:\n",
    "            midpoint = \"5%, \"\n",
    "        if bin_array[1]==0:\n",
    "            midpoint = midpoint + \"15%, \"\n",
    "        if bin_array[2]==0:\n",
    "            midpoint = midpoint + \"25%, \"\n",
    "        if bin_array[3]==0:\n",
    "            midpoint = midpoint + \"35%, \" \n",
    "        if bin_array[4]==0:\n",
    "            midpoint = midpoint + \"45%, \"\n",
    "        if bin_array[5]==0:\n",
    "            midpoint = midpoint + \"55%, \"\n",
    "        if bin_array[6]==0:\n",
    "            midpoint = midpoint + \"65%, \"\n",
    "        if bin_array[7]==0:\n",
    "            midpoint = midpoint + \"75%, \"\n",
    "        if bin_array[8]==0:\n",
    "            midpoint = midpoint + \"85%, \"\n",
    "        if bin_array[9]==0:\n",
    "            midpoint = midpoint + \"95%, \"\n",
    "        return \"The missing bins have midpoint values of \"+ str(midpoint)\n",
    "    \n",
    "    # performance\n",
    "    fpr, tpr, thresholds = roc_curve(y_test, pred_probabilities)\n",
    "    # compute roc auc\n",
    "    roc_auc = roc_auc_score(y_test, pred_probabilities, average = 'micro')\n",
    "    # compute Precision_Recall curves\n",
    "    precision, recall, _ = precision_recall_curve(y_test, pred_probabilities)\n",
    "    # compute PR_AUC\n",
    "    pr_auc = metrics.auc(recall, precision)\n",
    "\n",
    "    # compute calibration curve\n",
    "    print(\"compute calibration curve\")\n",
    "    LR_y, LR_x = calibration_curve(y_test, pred_probabilities, n_bins=10)\n",
    "    #find out which one are the missing bins\n",
    "    bin_array = bin_total(y_test, pred_probabilities , n_bins=10)\n",
    "    print(missing_bin(bin_array))\n",
    "\n",
    "    print(\"plot curves and save in one png file\")\n",
    "    #save three plots in one png file\n",
    "    fig, (ax1, ax2, ax3) = plt.subplots(3, figsize=(7, 24))\n",
    "    fig.subplots_adjust(wspace=0.3, hspace= 0.3)\n",
    "    fig.suptitle('Evaluation of '+ plot_name)\n",
    "\n",
    "    fpr, tpr, thresholds = roc_curve(y_test, pred_probabilities)\n",
    "    \n",
    "    # plot roc curve\n",
    "    ax1.plot(fpr, tpr, label=\"Classifier \" + str(classifier_name) + \", auc=\" +str(roc_auc))\n",
    "    ax1.title.set_text('ROC AUC')\n",
    "    ax1.set(xlabel='False Positive Rate', ylabel='True Positive Rate')\n",
    "    ax1.legend(loc=\"lower right\")\n",
    "\n",
    "    # plot PR curve\n",
    "    ax2.plot(recall, precision, label=\"Classifier \" + str(classifier_name) + \", auc=\"+str(pr_auc))\n",
    "    ax2.title.set_text('PR AUC')\n",
    "    ax2.set(xlabel='Recall', ylabel='Precision')\n",
    "    ax2.legend(loc=\"lower right\")\n",
    "\n",
    "    # plot calibration curve\n",
    "    ax3.plot(LR_x, LR_y, marker='o', linewidth=1, label='LR')\n",
    "    line = mlines.Line2D([0, 1], [0, 1], color='black')\n",
    "    transform = ax3.transAxes\n",
    "    line.set_transform(transform)\n",
    "    ax3.add_line(line)\n",
    "    ax3.title.set_text('Calibration plot for '+str(plot_name))\n",
    "    ax3.set(xlabel= 'Predicted probability', ylabel= 'True probability in each bin')\n",
    "    ax3.legend(loc=\"lower right\")\n",
    "\n",
    "    plt.savefig(plot_name+\".png\")\n",
    "    plt.show()\n",
    "    \n"
   ]
  },
  {
   "cell_type": "code",
   "execution_count": 39,
   "metadata": {},
   "outputs": [
    {
     "name": "stdout",
     "output_type": "stream",
     "text": [
      "build LR\n",
      "train LR\n"
     ]
    },
    {
     "name": "stderr",
     "output_type": "stream",
     "text": [
      "/opt/anaconda3/lib/python3.8/site-packages/sklearn/linear_model/_sag.py:329: ConvergenceWarning: The max_iter was reached which means the coef_ did not converge\n",
      "  warnings.warn(\"The max_iter was reached which means \"\n"
     ]
    },
    {
     "name": "stdout",
     "output_type": "stream",
     "text": [
      "predictions before tuning\n"
     ]
    }
   ],
   "source": [
    "# Train binary-classification model with logistic regression\n",
    "print(\"build LR\")\n",
    "model_LR = LogisticRegression(penalty = PENALTY, C = C,fit_intercept = INTERCEPT, solver = SOLVER, max_iter= MAX_ITERATION, \n",
    "                                  class_weight= CLASS_WEIGHT, random_state=RANDOM)\n",
    "print(\"train LR\")\n",
    "model_LR.fit(X_train, y_train) \n",
    "# Make predictions\n",
    "print(\"predictions before tuning\")\n",
    "LR_pred = model_LR.predict(X_test)\n",
    "# Predict probabilities on testing points\n",
    "LR_probs = model_LR.predict_proba(X_test)[::,1]\n"
   ]
  },
  {
   "cell_type": "code",
   "execution_count": 40,
   "metadata": {},
   "outputs": [
    {
     "name": "stdout",
     "output_type": "stream",
     "text": [
      "accuracy for Classifier : 0.66\n",
      "Area Under ROC Curve: 0.76\n",
      "Area Under PR Curve(AP): 0.83\n",
      "[[1733  229]\n",
      " [1353 1374]]\n",
      "brier\n",
      "0.192\n"
     ]
    }
   ],
   "source": [
    "performance(model_LR,y_test,LR_probs, LR_pred)"
   ]
  },
  {
   "cell_type": "markdown",
   "metadata": {},
   "source": [
    "# Hyperparameters tuning"
   ]
  },
  {
   "cell_type": "code",
   "execution_count": 50,
   "metadata": {},
   "outputs": [
    {
     "name": "stdout",
     "output_type": "stream",
     "text": [
      "{'C': [0.001, 0.1, 1, 10], 'fit_intercept': [True, False]}\n",
      "Fitting 5 folds for each of 8 candidates, totalling 40 fits\n",
      "[CV] fit_intercept=True, C=0.001 .....................................\n"
     ]
    },
    {
     "name": "stderr",
     "output_type": "stream",
     "text": [
      "/opt/anaconda3/lib/python3.8/site-packages/sklearn/model_selection/_search.py:278: UserWarning: The total space of parameters 8 is smaller than n_iter=12. Running 8 iterations. For exhaustive searches, use GridSearchCV.\n",
      "  warnings.warn(\n",
      "[Parallel(n_jobs=1)]: Using backend SequentialBackend with 1 concurrent workers.\n",
      "/opt/anaconda3/lib/python3.8/site-packages/sklearn/linear_model/_sag.py:329: ConvergenceWarning: The max_iter was reached which means the coef_ did not converge\n",
      "  warnings.warn(\"The max_iter was reached which means \"\n",
      "[Parallel(n_jobs=1)]: Done   1 out of   1 | elapsed:  4.5min remaining:    0.0s\n"
     ]
    },
    {
     "name": "stdout",
     "output_type": "stream",
     "text": [
      "[CV] ...................... fit_intercept=True, C=0.001, total= 4.5min\n",
      "[CV] fit_intercept=True, C=0.001 .....................................\n"
     ]
    },
    {
     "name": "stderr",
     "output_type": "stream",
     "text": [
      "/opt/anaconda3/lib/python3.8/site-packages/sklearn/linear_model/_sag.py:329: ConvergenceWarning: The max_iter was reached which means the coef_ did not converge\n",
      "  warnings.warn(\"The max_iter was reached which means \"\n"
     ]
    },
    {
     "name": "stdout",
     "output_type": "stream",
     "text": [
      "[CV] ...................... fit_intercept=True, C=0.001, total= 4.8min\n",
      "[CV] fit_intercept=True, C=0.001 .....................................\n"
     ]
    },
    {
     "name": "stderr",
     "output_type": "stream",
     "text": [
      "/opt/anaconda3/lib/python3.8/site-packages/sklearn/linear_model/_sag.py:329: ConvergenceWarning: The max_iter was reached which means the coef_ did not converge\n",
      "  warnings.warn(\"The max_iter was reached which means \"\n"
     ]
    },
    {
     "name": "stdout",
     "output_type": "stream",
     "text": [
      "[CV] ...................... fit_intercept=True, C=0.001, total= 4.4min\n",
      "[CV] fit_intercept=True, C=0.001 .....................................\n"
     ]
    },
    {
     "name": "stderr",
     "output_type": "stream",
     "text": [
      "/opt/anaconda3/lib/python3.8/site-packages/sklearn/linear_model/_sag.py:329: ConvergenceWarning: The max_iter was reached which means the coef_ did not converge\n",
      "  warnings.warn(\"The max_iter was reached which means \"\n"
     ]
    },
    {
     "name": "stdout",
     "output_type": "stream",
     "text": [
      "[CV] ...................... fit_intercept=True, C=0.001, total= 4.0min\n",
      "[CV] fit_intercept=True, C=0.001 .....................................\n"
     ]
    },
    {
     "name": "stderr",
     "output_type": "stream",
     "text": [
      "/opt/anaconda3/lib/python3.8/site-packages/sklearn/linear_model/_sag.py:329: ConvergenceWarning: The max_iter was reached which means the coef_ did not converge\n",
      "  warnings.warn(\"The max_iter was reached which means \"\n"
     ]
    },
    {
     "name": "stdout",
     "output_type": "stream",
     "text": [
      "[CV] ...................... fit_intercept=True, C=0.001, total= 4.2min\n",
      "[CV] fit_intercept=False, C=0.001 ....................................\n"
     ]
    },
    {
     "name": "stderr",
     "output_type": "stream",
     "text": [
      "/opt/anaconda3/lib/python3.8/site-packages/sklearn/linear_model/_sag.py:329: ConvergenceWarning: The max_iter was reached which means the coef_ did not converge\n",
      "  warnings.warn(\"The max_iter was reached which means \"\n"
     ]
    },
    {
     "name": "stdout",
     "output_type": "stream",
     "text": [
      "[CV] ..................... fit_intercept=False, C=0.001, total= 4.2min\n",
      "[CV] fit_intercept=False, C=0.001 ....................................\n"
     ]
    },
    {
     "name": "stderr",
     "output_type": "stream",
     "text": [
      "/opt/anaconda3/lib/python3.8/site-packages/sklearn/linear_model/_sag.py:329: ConvergenceWarning: The max_iter was reached which means the coef_ did not converge\n",
      "  warnings.warn(\"The max_iter was reached which means \"\n"
     ]
    },
    {
     "name": "stdout",
     "output_type": "stream",
     "text": [
      "[CV] ..................... fit_intercept=False, C=0.001, total= 4.4min\n",
      "[CV] fit_intercept=False, C=0.001 ....................................\n"
     ]
    },
    {
     "name": "stderr",
     "output_type": "stream",
     "text": [
      "/opt/anaconda3/lib/python3.8/site-packages/sklearn/linear_model/_sag.py:329: ConvergenceWarning: The max_iter was reached which means the coef_ did not converge\n",
      "  warnings.warn(\"The max_iter was reached which means \"\n"
     ]
    },
    {
     "name": "stdout",
     "output_type": "stream",
     "text": [
      "[CV] ..................... fit_intercept=False, C=0.001, total= 4.7min\n",
      "[CV] fit_intercept=False, C=0.001 ....................................\n"
     ]
    },
    {
     "name": "stderr",
     "output_type": "stream",
     "text": [
      "/opt/anaconda3/lib/python3.8/site-packages/sklearn/linear_model/_sag.py:329: ConvergenceWarning: The max_iter was reached which means the coef_ did not converge\n",
      "  warnings.warn(\"The max_iter was reached which means \"\n"
     ]
    },
    {
     "name": "stdout",
     "output_type": "stream",
     "text": [
      "[CV] ..................... fit_intercept=False, C=0.001, total= 4.6min\n",
      "[CV] fit_intercept=False, C=0.001 ....................................\n"
     ]
    },
    {
     "name": "stderr",
     "output_type": "stream",
     "text": [
      "/opt/anaconda3/lib/python3.8/site-packages/sklearn/linear_model/_sag.py:329: ConvergenceWarning: The max_iter was reached which means the coef_ did not converge\n",
      "  warnings.warn(\"The max_iter was reached which means \"\n"
     ]
    },
    {
     "name": "stdout",
     "output_type": "stream",
     "text": [
      "[CV] ..................... fit_intercept=False, C=0.001, total= 4.8min\n",
      "[CV] fit_intercept=True, C=0.1 .......................................\n"
     ]
    },
    {
     "name": "stderr",
     "output_type": "stream",
     "text": [
      "/opt/anaconda3/lib/python3.8/site-packages/sklearn/linear_model/_sag.py:329: ConvergenceWarning: The max_iter was reached which means the coef_ did not converge\n",
      "  warnings.warn(\"The max_iter was reached which means \"\n"
     ]
    },
    {
     "name": "stdout",
     "output_type": "stream",
     "text": [
      "[CV] ........................ fit_intercept=True, C=0.1, total= 4.5min\n",
      "[CV] fit_intercept=True, C=0.1 .......................................\n"
     ]
    },
    {
     "name": "stderr",
     "output_type": "stream",
     "text": [
      "/opt/anaconda3/lib/python3.8/site-packages/sklearn/linear_model/_sag.py:329: ConvergenceWarning: The max_iter was reached which means the coef_ did not converge\n",
      "  warnings.warn(\"The max_iter was reached which means \"\n"
     ]
    },
    {
     "name": "stdout",
     "output_type": "stream",
     "text": [
      "[CV] ........................ fit_intercept=True, C=0.1, total= 4.3min\n",
      "[CV] fit_intercept=True, C=0.1 .......................................\n"
     ]
    },
    {
     "name": "stderr",
     "output_type": "stream",
     "text": [
      "/opt/anaconda3/lib/python3.8/site-packages/sklearn/linear_model/_sag.py:329: ConvergenceWarning: The max_iter was reached which means the coef_ did not converge\n",
      "  warnings.warn(\"The max_iter was reached which means \"\n"
     ]
    },
    {
     "name": "stdout",
     "output_type": "stream",
     "text": [
      "[CV] ........................ fit_intercept=True, C=0.1, total= 4.5min\n",
      "[CV] fit_intercept=True, C=0.1 .......................................\n"
     ]
    },
    {
     "name": "stderr",
     "output_type": "stream",
     "text": [
      "/opt/anaconda3/lib/python3.8/site-packages/sklearn/linear_model/_sag.py:329: ConvergenceWarning: The max_iter was reached which means the coef_ did not converge\n",
      "  warnings.warn(\"The max_iter was reached which means \"\n"
     ]
    },
    {
     "name": "stdout",
     "output_type": "stream",
     "text": [
      "[CV] ........................ fit_intercept=True, C=0.1, total= 4.4min\n",
      "[CV] fit_intercept=True, C=0.1 .......................................\n"
     ]
    },
    {
     "name": "stderr",
     "output_type": "stream",
     "text": [
      "/opt/anaconda3/lib/python3.8/site-packages/sklearn/linear_model/_sag.py:329: ConvergenceWarning: The max_iter was reached which means the coef_ did not converge\n",
      "  warnings.warn(\"The max_iter was reached which means \"\n"
     ]
    },
    {
     "name": "stdout",
     "output_type": "stream",
     "text": [
      "[CV] ........................ fit_intercept=True, C=0.1, total= 4.4min\n",
      "[CV] fit_intercept=False, C=0.1 ......................................\n"
     ]
    },
    {
     "name": "stderr",
     "output_type": "stream",
     "text": [
      "/opt/anaconda3/lib/python3.8/site-packages/sklearn/linear_model/_sag.py:329: ConvergenceWarning: The max_iter was reached which means the coef_ did not converge\n",
      "  warnings.warn(\"The max_iter was reached which means \"\n"
     ]
    },
    {
     "name": "stdout",
     "output_type": "stream",
     "text": [
      "[CV] ....................... fit_intercept=False, C=0.1, total= 4.4min\n",
      "[CV] fit_intercept=False, C=0.1 ......................................\n"
     ]
    },
    {
     "name": "stderr",
     "output_type": "stream",
     "text": [
      "/opt/anaconda3/lib/python3.8/site-packages/sklearn/linear_model/_sag.py:329: ConvergenceWarning: The max_iter was reached which means the coef_ did not converge\n",
      "  warnings.warn(\"The max_iter was reached which means \"\n"
     ]
    },
    {
     "name": "stdout",
     "output_type": "stream",
     "text": [
      "[CV] ....................... fit_intercept=False, C=0.1, total= 4.5min\n",
      "[CV] fit_intercept=False, C=0.1 ......................................\n"
     ]
    },
    {
     "name": "stderr",
     "output_type": "stream",
     "text": [
      "/opt/anaconda3/lib/python3.8/site-packages/sklearn/linear_model/_sag.py:329: ConvergenceWarning: The max_iter was reached which means the coef_ did not converge\n",
      "  warnings.warn(\"The max_iter was reached which means \"\n"
     ]
    },
    {
     "name": "stdout",
     "output_type": "stream",
     "text": [
      "[CV] ....................... fit_intercept=False, C=0.1, total= 4.4min\n",
      "[CV] fit_intercept=False, C=0.1 ......................................\n"
     ]
    },
    {
     "name": "stderr",
     "output_type": "stream",
     "text": [
      "/opt/anaconda3/lib/python3.8/site-packages/sklearn/linear_model/_sag.py:329: ConvergenceWarning: The max_iter was reached which means the coef_ did not converge\n",
      "  warnings.warn(\"The max_iter was reached which means \"\n"
     ]
    },
    {
     "name": "stdout",
     "output_type": "stream",
     "text": [
      "[CV] ....................... fit_intercept=False, C=0.1, total= 4.4min\n",
      "[CV] fit_intercept=False, C=0.1 ......................................\n"
     ]
    },
    {
     "name": "stderr",
     "output_type": "stream",
     "text": [
      "/opt/anaconda3/lib/python3.8/site-packages/sklearn/linear_model/_sag.py:329: ConvergenceWarning: The max_iter was reached which means the coef_ did not converge\n",
      "  warnings.warn(\"The max_iter was reached which means \"\n"
     ]
    },
    {
     "name": "stdout",
     "output_type": "stream",
     "text": [
      "[CV] ....................... fit_intercept=False, C=0.1, total= 4.4min\n",
      "[CV] fit_intercept=True, C=1 .........................................\n"
     ]
    },
    {
     "name": "stderr",
     "output_type": "stream",
     "text": [
      "/opt/anaconda3/lib/python3.8/site-packages/sklearn/linear_model/_sag.py:329: ConvergenceWarning: The max_iter was reached which means the coef_ did not converge\n",
      "  warnings.warn(\"The max_iter was reached which means \"\n"
     ]
    },
    {
     "name": "stdout",
     "output_type": "stream",
     "text": [
      "[CV] .......................... fit_intercept=True, C=1, total= 4.2min\n",
      "[CV] fit_intercept=True, C=1 .........................................\n"
     ]
    },
    {
     "name": "stderr",
     "output_type": "stream",
     "text": [
      "/opt/anaconda3/lib/python3.8/site-packages/sklearn/linear_model/_sag.py:329: ConvergenceWarning: The max_iter was reached which means the coef_ did not converge\n",
      "  warnings.warn(\"The max_iter was reached which means \"\n"
     ]
    },
    {
     "name": "stdout",
     "output_type": "stream",
     "text": [
      "[CV] .......................... fit_intercept=True, C=1, total= 4.2min\n",
      "[CV] fit_intercept=True, C=1 .........................................\n"
     ]
    },
    {
     "name": "stderr",
     "output_type": "stream",
     "text": [
      "/opt/anaconda3/lib/python3.8/site-packages/sklearn/linear_model/_sag.py:329: ConvergenceWarning: The max_iter was reached which means the coef_ did not converge\n",
      "  warnings.warn(\"The max_iter was reached which means \"\n"
     ]
    },
    {
     "name": "stdout",
     "output_type": "stream",
     "text": [
      "[CV] .......................... fit_intercept=True, C=1, total= 4.2min\n",
      "[CV] fit_intercept=True, C=1 .........................................\n"
     ]
    },
    {
     "name": "stderr",
     "output_type": "stream",
     "text": [
      "/opt/anaconda3/lib/python3.8/site-packages/sklearn/linear_model/_sag.py:329: ConvergenceWarning: The max_iter was reached which means the coef_ did not converge\n",
      "  warnings.warn(\"The max_iter was reached which means \"\n"
     ]
    },
    {
     "name": "stdout",
     "output_type": "stream",
     "text": [
      "[CV] .......................... fit_intercept=True, C=1, total= 4.2min\n",
      "[CV] fit_intercept=True, C=1 .........................................\n"
     ]
    },
    {
     "name": "stderr",
     "output_type": "stream",
     "text": [
      "/opt/anaconda3/lib/python3.8/site-packages/sklearn/linear_model/_sag.py:329: ConvergenceWarning: The max_iter was reached which means the coef_ did not converge\n",
      "  warnings.warn(\"The max_iter was reached which means \"\n"
     ]
    },
    {
     "name": "stdout",
     "output_type": "stream",
     "text": [
      "[CV] .......................... fit_intercept=True, C=1, total= 4.3min\n",
      "[CV] fit_intercept=False, C=1 ........................................\n"
     ]
    },
    {
     "name": "stderr",
     "output_type": "stream",
     "text": [
      "/opt/anaconda3/lib/python3.8/site-packages/sklearn/linear_model/_sag.py:329: ConvergenceWarning: The max_iter was reached which means the coef_ did not converge\n",
      "  warnings.warn(\"The max_iter was reached which means \"\n"
     ]
    },
    {
     "name": "stdout",
     "output_type": "stream",
     "text": [
      "[CV] ......................... fit_intercept=False, C=1, total= 4.1min\n",
      "[CV] fit_intercept=False, C=1 ........................................\n"
     ]
    },
    {
     "name": "stderr",
     "output_type": "stream",
     "text": [
      "/opt/anaconda3/lib/python3.8/site-packages/sklearn/linear_model/_sag.py:329: ConvergenceWarning: The max_iter was reached which means the coef_ did not converge\n",
      "  warnings.warn(\"The max_iter was reached which means \"\n"
     ]
    },
    {
     "name": "stdout",
     "output_type": "stream",
     "text": [
      "[CV] ......................... fit_intercept=False, C=1, total= 4.0min\n",
      "[CV] fit_intercept=False, C=1 ........................................\n"
     ]
    },
    {
     "name": "stderr",
     "output_type": "stream",
     "text": [
      "/opt/anaconda3/lib/python3.8/site-packages/sklearn/linear_model/_sag.py:329: ConvergenceWarning: The max_iter was reached which means the coef_ did not converge\n",
      "  warnings.warn(\"The max_iter was reached which means \"\n"
     ]
    },
    {
     "name": "stdout",
     "output_type": "stream",
     "text": [
      "[CV] ......................... fit_intercept=False, C=1, total= 4.1min\n",
      "[CV] fit_intercept=False, C=1 ........................................\n"
     ]
    },
    {
     "name": "stderr",
     "output_type": "stream",
     "text": [
      "/opt/anaconda3/lib/python3.8/site-packages/sklearn/linear_model/_sag.py:329: ConvergenceWarning: The max_iter was reached which means the coef_ did not converge\n",
      "  warnings.warn(\"The max_iter was reached which means \"\n"
     ]
    },
    {
     "name": "stdout",
     "output_type": "stream",
     "text": [
      "[CV] ......................... fit_intercept=False, C=1, total= 4.1min\n",
      "[CV] fit_intercept=False, C=1 ........................................\n"
     ]
    },
    {
     "name": "stderr",
     "output_type": "stream",
     "text": [
      "/opt/anaconda3/lib/python3.8/site-packages/sklearn/linear_model/_sag.py:329: ConvergenceWarning: The max_iter was reached which means the coef_ did not converge\n",
      "  warnings.warn(\"The max_iter was reached which means \"\n"
     ]
    },
    {
     "name": "stdout",
     "output_type": "stream",
     "text": [
      "[CV] ......................... fit_intercept=False, C=1, total= 4.2min\n",
      "[CV] fit_intercept=True, C=10 ........................................\n"
     ]
    },
    {
     "name": "stderr",
     "output_type": "stream",
     "text": [
      "/opt/anaconda3/lib/python3.8/site-packages/sklearn/linear_model/_sag.py:329: ConvergenceWarning: The max_iter was reached which means the coef_ did not converge\n",
      "  warnings.warn(\"The max_iter was reached which means \"\n"
     ]
    },
    {
     "name": "stdout",
     "output_type": "stream",
     "text": [
      "[CV] ......................... fit_intercept=True, C=10, total= 4.0min\n",
      "[CV] fit_intercept=True, C=10 ........................................\n"
     ]
    },
    {
     "name": "stderr",
     "output_type": "stream",
     "text": [
      "/opt/anaconda3/lib/python3.8/site-packages/sklearn/linear_model/_sag.py:329: ConvergenceWarning: The max_iter was reached which means the coef_ did not converge\n",
      "  warnings.warn(\"The max_iter was reached which means \"\n"
     ]
    },
    {
     "name": "stdout",
     "output_type": "stream",
     "text": [
      "[CV] ......................... fit_intercept=True, C=10, total= 4.0min\n",
      "[CV] fit_intercept=True, C=10 ........................................\n"
     ]
    },
    {
     "name": "stderr",
     "output_type": "stream",
     "text": [
      "/opt/anaconda3/lib/python3.8/site-packages/sklearn/linear_model/_sag.py:329: ConvergenceWarning: The max_iter was reached which means the coef_ did not converge\n",
      "  warnings.warn(\"The max_iter was reached which means \"\n"
     ]
    },
    {
     "name": "stdout",
     "output_type": "stream",
     "text": [
      "[CV] ......................... fit_intercept=True, C=10, total= 4.0min\n",
      "[CV] fit_intercept=True, C=10 ........................................\n"
     ]
    },
    {
     "name": "stderr",
     "output_type": "stream",
     "text": [
      "/opt/anaconda3/lib/python3.8/site-packages/sklearn/linear_model/_sag.py:329: ConvergenceWarning: The max_iter was reached which means the coef_ did not converge\n",
      "  warnings.warn(\"The max_iter was reached which means \"\n"
     ]
    },
    {
     "name": "stdout",
     "output_type": "stream",
     "text": [
      "[CV] ......................... fit_intercept=True, C=10, total= 4.0min\n",
      "[CV] fit_intercept=True, C=10 ........................................\n"
     ]
    },
    {
     "name": "stderr",
     "output_type": "stream",
     "text": [
      "/opt/anaconda3/lib/python3.8/site-packages/sklearn/linear_model/_sag.py:329: ConvergenceWarning: The max_iter was reached which means the coef_ did not converge\n",
      "  warnings.warn(\"The max_iter was reached which means \"\n"
     ]
    },
    {
     "name": "stdout",
     "output_type": "stream",
     "text": [
      "[CV] ......................... fit_intercept=True, C=10, total= 4.0min\n",
      "[CV] fit_intercept=False, C=10 .......................................\n"
     ]
    },
    {
     "name": "stderr",
     "output_type": "stream",
     "text": [
      "/opt/anaconda3/lib/python3.8/site-packages/sklearn/linear_model/_sag.py:329: ConvergenceWarning: The max_iter was reached which means the coef_ did not converge\n",
      "  warnings.warn(\"The max_iter was reached which means \"\n"
     ]
    },
    {
     "name": "stdout",
     "output_type": "stream",
     "text": [
      "[CV] ........................ fit_intercept=False, C=10, total= 4.1min\n",
      "[CV] fit_intercept=False, C=10 .......................................\n"
     ]
    },
    {
     "name": "stderr",
     "output_type": "stream",
     "text": [
      "/opt/anaconda3/lib/python3.8/site-packages/sklearn/linear_model/_sag.py:329: ConvergenceWarning: The max_iter was reached which means the coef_ did not converge\n",
      "  warnings.warn(\"The max_iter was reached which means \"\n"
     ]
    },
    {
     "name": "stdout",
     "output_type": "stream",
     "text": [
      "[CV] ........................ fit_intercept=False, C=10, total= 4.1min\n",
      "[CV] fit_intercept=False, C=10 .......................................\n"
     ]
    },
    {
     "name": "stderr",
     "output_type": "stream",
     "text": [
      "/opt/anaconda3/lib/python3.8/site-packages/sklearn/linear_model/_sag.py:329: ConvergenceWarning: The max_iter was reached which means the coef_ did not converge\n",
      "  warnings.warn(\"The max_iter was reached which means \"\n"
     ]
    },
    {
     "name": "stdout",
     "output_type": "stream",
     "text": [
      "[CV] ........................ fit_intercept=False, C=10, total= 4.1min\n",
      "[CV] fit_intercept=False, C=10 .......................................\n"
     ]
    },
    {
     "name": "stderr",
     "output_type": "stream",
     "text": [
      "/opt/anaconda3/lib/python3.8/site-packages/sklearn/linear_model/_sag.py:329: ConvergenceWarning: The max_iter was reached which means the coef_ did not converge\n",
      "  warnings.warn(\"The max_iter was reached which means \"\n"
     ]
    },
    {
     "name": "stdout",
     "output_type": "stream",
     "text": [
      "[CV] ........................ fit_intercept=False, C=10, total= 4.0min\n",
      "[CV] fit_intercept=False, C=10 .......................................\n"
     ]
    },
    {
     "name": "stderr",
     "output_type": "stream",
     "text": [
      "/opt/anaconda3/lib/python3.8/site-packages/sklearn/linear_model/_sag.py:329: ConvergenceWarning: The max_iter was reached which means the coef_ did not converge\n",
      "  warnings.warn(\"The max_iter was reached which means \"\n",
      "[Parallel(n_jobs=1)]: Done  40 out of  40 | elapsed: 170.4min finished\n"
     ]
    },
    {
     "name": "stdout",
     "output_type": "stream",
     "text": [
      "[CV] ........................ fit_intercept=False, C=10, total= 4.0min\n",
      "starttime = 2020-12-13 20:21:25.734720\n",
      "endtime = 2020-12-13 23:16:54.541991\n"
     ]
    },
    {
     "name": "stderr",
     "output_type": "stream",
     "text": [
      "/opt/anaconda3/lib/python3.8/site-packages/sklearn/linear_model/_sag.py:329: ConvergenceWarning: The max_iter was reached which means the coef_ did not converge\n",
      "  warnings.warn(\"The max_iter was reached which means \"\n"
     ]
    }
   ],
   "source": [
    "TUNING = False\n",
    "\n",
    "if TUNING: \n",
    "    #C = [0.001, 0.01, 0.1, 1, 10, 100] \n",
    "    C = [0.001, 0.1, 1, 10] \n",
    "    # Intercept\n",
    "    INTERCEPT = [True, False]\n",
    "\n",
    "    # Create the random grid\n",
    "    random_grid_LR = {'C': C,'fit_intercept': INTERCEPT}\n",
    "    print(random_grid_LR)\n",
    "    # Random search training. Use the random grid to search for best hyperparameters\n",
    "    # Random search of parameters, using 5 fold cross validation\n",
    "\n",
    "\n",
    "    lr_random = RandomizedSearchCV(estimator = model_LR, param_distributions = random_grid_LR, n_iter = 12, cv = 5, verbose=2, random_state=42, n_jobs = 1)\n",
    "    starttime =datetime.now() \n",
    "    lr_random.fit(X_train, y_train)\n",
    "    print(\"starttime =\", starttime)\n",
    "    print(\"endtime =\", datetime.now())\n",
    "\n"
   ]
  },
  {
   "cell_type": "markdown",
   "metadata": {},
   "source": [
    "# best parameters"
   ]
  },
  {
   "cell_type": "code",
   "execution_count": 52,
   "metadata": {},
   "outputs": [
    {
     "data": {
      "text/plain": [
       "{'fit_intercept': True, 'C': 0.001}"
      ]
     },
     "execution_count": 52,
     "metadata": {},
     "output_type": "execute_result"
    }
   ],
   "source": [
    "# best parameters for full features data set (around 27 hours)\n",
    "#'fit_intercept': True, 'C': 0.001\n",
    "# best for MIN\n",
    "# same   \n",
    "lr_random.best_params_"
   ]
  },
  {
   "cell_type": "code",
   "execution_count": 39,
   "metadata": {},
   "outputs": [
    {
     "name": "stdout",
     "output_type": "stream",
     "text": [
      "build LR\n",
      "train LR\n"
     ]
    },
    {
     "name": "stderr",
     "output_type": "stream",
     "text": [
      "/opt/anaconda3/lib/python3.8/site-packages/sklearn/linear_model/_sag.py:329: ConvergenceWarning: The max_iter was reached which means the coef_ did not converge\n",
      "  warnings.warn(\"The max_iter was reached which means \"\n"
     ]
    },
    {
     "name": "stdout",
     "output_type": "stream",
     "text": [
      "predictions\n",
      "accuracy for Classifier : 0.68\n",
      "Area Under ROC Curve: 0.77\n",
      "Area Under PR Curve(AP): 0.84\n",
      "[[1804  203]\n",
      " [1322 1447]]\n",
      "brier\n",
      "0.187\n"
     ]
    }
   ],
   "source": [
    "print(\"build LR\")\n",
    "model_LR = LogisticRegression(penalty = PENALTY, C = 0.001,fit_intercept = True, solver = SOLVER, max_iter= MAX_ITERATION, \n",
    "                                  class_weight= CLASS_WEIGHT, random_state=RANDOM)\n",
    "print(\"train LR\")\n",
    "model_LR.fit(X_train, y_train) \n",
    "# Make predictions\n",
    "print(\"predictions\")\n",
    "LR_pred = model_LR.predict(X_test)\n",
    "# Predict probabilities on testing points\n",
    "LR_probs = model_LR.predict_proba(X_test)[::,1]\n",
    "performance(model_LR,y_test,LR_probs, LR_pred)"
   ]
  },
  {
   "cell_type": "code",
   "execution_count": 40,
   "metadata": {
    "scrolled": true
   },
   "outputs": [
    {
     "name": "stdout",
     "output_type": "stream",
     "text": [
      "compute calibration curve\n",
      "The missing bins have midpoint values of  85%, \n",
      "plot curves and save in one png file\n"
     ]
    },
    {
     "data": {
      "image/png": "[encoded data removed]",
      "text/plain": [
       "<Figure size 504x1728 with 3 Axes>"
      ]
     },
     "metadata": {
      "needs_background": "light"
     },
     "output_type": "display_data"
    }
   ],
   "source": [
    "build_graphs(y_test, LR_probs, classifier_name, \"LR_all_feat_with_imp_adult_AnyAKI\")"
   ]
  },
  {
   "cell_type": "markdown",
   "metadata": {},
   "source": [
    "# XGB model"
   ]
  },
  {
   "cell_type": "code",
   "execution_count": 41,
   "metadata": {},
   "outputs": [
    {
     "name": "stdout",
     "output_type": "stream",
     "text": [
      "Counter({1: 25328, 0: 17647})\n"
     ]
    }
   ],
   "source": [
    "counter=collections.Counter(y_train)\n",
    "print(counter)\n",
    "SCALE_POS_WEIGHT = round(counter[0]/counter[1],1)"
   ]
  },
  {
   "cell_type": "code",
   "execution_count": 42,
   "metadata": {},
   "outputs": [],
   "source": [
    "# building GBT(sklearn xgboost API) ; parameters for XGBClassifier\n",
    "MAX_DEPTH = 5  #should be between 3-10\n",
    "MIN_CHILD_WEIGHT = 1 # a smaller value is chosen because it is a imbalanced class problem and leaf nodes can have smaller size groups\n",
    "GAMMA = 0 \n",
    "SUBSAMPLE = 0.8 #typical values range between 0.5-0.9\n",
    "COLSAMPLE_BYTREE = 0.8 #typical values range between 0.5-0.9\n",
    "#SCALE_POS_WEIGHT = 1 \n",
    "LEARNING_RATE =0.1\n",
    "NUM_ESTIMATORS= 50  # the number of boosting rounds or trees to build, equal to XGBoost API num_boost_round\n",
    "OBJECTIVE= 'binary:logistic'\n",
    "NUM_THREAD=4\n",
    "SEED=27\n",
    "\n",
    "# sklearn API training method; model.fit\n",
    "EARLT_STOPPING_ROUNDS=40   \n",
    "EVAL_METRIC=[\"auc\", \"error\", \"logloss\"] \n",
    "VERBOSE= False"
   ]
  },
  {
   "cell_type": "code",
   "execution_count": 43,
   "metadata": {},
   "outputs": [
    {
     "name": "stdout",
     "output_type": "stream",
     "text": [
      "build GBT\n",
      "train GBT\n",
      "predictions before tuning\n"
     ]
    }
   ],
   "source": [
    "print(\"build GBT\")\n",
    "#build gradient boost model\n",
    "xgb_model = xgb.XGBClassifier(\n",
    " learning_rate = LEARNING_RATE,\n",
    " n_estimators= NUM_ESTIMATORS,\n",
    " max_depth= MAX_DEPTH,\n",
    " min_child_weight= MIN_CHILD_WEIGHT,\n",
    " gamma= GAMMA,\n",
    " subsample= SUBSAMPLE,\n",
    " colsample_bytree= COLSAMPLE_BYTREE,\n",
    " objective= OBJECTIVE,\n",
    " nthread= NUM_THREAD,\n",
    " scale_pos_weight= SCALE_POS_WEIGHT,\n",
    " seed= SEED)\n",
    "\n",
    "print(\"train GBT\")\n",
    "# train xgb\n",
    "xgb_model.fit(X_train, y_train, \n",
    "                early_stopping_rounds= EARLT_STOPPING_ROUNDS, \n",
    "                eval_metric= EVAL_METRIC, \n",
    "                eval_set= [(X_test, y_test)],\n",
    "                verbose= VERBOSE)\n",
    "print(\"predictions before tuning\")\n",
    "#Make predictions \n",
    "GBT_pred = xgb_model.predict(X_test)\n",
    "GBT_probs = xgb_model.predict_proba(X_test)[::,1]\n",
    "\n"
   ]
  },
  {
   "cell_type": "code",
   "execution_count": 44,
   "metadata": {
    "scrolled": true
   },
   "outputs": [
    {
     "name": "stdout",
     "output_type": "stream",
     "text": [
      "accuracy for Classifier : 0.81\n",
      "Area Under ROC Curve: 0.89\n",
      "Area Under PR Curve(AP): 0.92\n",
      "[[1718  289]\n",
      " [ 635 2134]]\n",
      "brier\n",
      "0.136\n"
     ]
    }
   ],
   "source": [
    "performance(xgb_model,y_test,GBT_probs, GBT_pred)"
   ]
  },
  {
   "cell_type": "markdown",
   "metadata": {},
   "source": [
    "# hyperparameters tuning"
   ]
  },
  {
   "cell_type": "code",
   "execution_count": 59,
   "metadata": {},
   "outputs": [
    {
     "name": "stdout",
     "output_type": "stream",
     "text": [
      "{'learning_rate': [0.0001, 0.001, 0.01, 0.1], 'n_estimators': [10, 30, 50, 70], 'max_depth': [3, 5, 7, 9], 'min_child_weight': [1, 3, 5, 7], 'gamma': [0, 0.5, 1]}\n",
      "Fitting 5 folds for each of 50 candidates, totalling 250 fits\n",
      "[CV] n_estimators=10, min_child_weight=7, max_depth=5, learning_rate=0.01, gamma=1 \n"
     ]
    },
    {
     "name": "stderr",
     "output_type": "stream",
     "text": [
      "[Parallel(n_jobs=1)]: Using backend SequentialBackend with 1 concurrent workers.\n"
     ]
    },
    {
     "name": "stdout",
     "output_type": "stream",
     "text": [
      "[CV]  n_estimators=10, min_child_weight=7, max_depth=5, learning_rate=0.01, gamma=1, total=   5.5s\n",
      "[CV] n_estimators=10, min_child_weight=7, max_depth=5, learning_rate=0.01, gamma=1 \n"
     ]
    },
    {
     "name": "stderr",
     "output_type": "stream",
     "text": [
      "[Parallel(n_jobs=1)]: Done   1 out of   1 | elapsed:    5.6s remaining:    0.0s\n"
     ]
    },
    {
     "name": "stdout",
     "output_type": "stream",
     "text": [
      "[CV]  n_estimators=10, min_child_weight=7, max_depth=5, learning_rate=0.01, gamma=1, total=   5.0s\n",
      "[CV] n_estimators=10, min_child_weight=7, max_depth=5, learning_rate=0.01, gamma=1 \n",
      "[CV]  n_estimators=10, min_child_weight=7, max_depth=5, learning_rate=0.01, gamma=1, total=   5.0s\n",
      "[CV] n_estimators=10, min_child_weight=7, max_depth=5, learning_rate=0.01, gamma=1 \n",
      "[CV]  n_estimators=10, min_child_weight=7, max_depth=5, learning_rate=0.01, gamma=1, total=   5.2s\n",
      "[CV] n_estimators=10, min_child_weight=7, max_depth=5, learning_rate=0.01, gamma=1 \n",
      "[CV]  n_estimators=10, min_child_weight=7, max_depth=5, learning_rate=0.01, gamma=1, total=   5.0s\n",
      "[CV] n_estimators=10, min_child_weight=3, max_depth=3, learning_rate=0.001, gamma=0.5 \n",
      "[CV]  n_estimators=10, min_child_weight=3, max_depth=3, learning_rate=0.001, gamma=0.5, total=   3.7s\n",
      "[CV] n_estimators=10, min_child_weight=3, max_depth=3, learning_rate=0.001, gamma=0.5 \n",
      "[CV]  n_estimators=10, min_child_weight=3, max_depth=3, learning_rate=0.001, gamma=0.5, total=   3.8s\n",
      "[CV] n_estimators=10, min_child_weight=3, max_depth=3, learning_rate=0.001, gamma=0.5 \n",
      "[CV]  n_estimators=10, min_child_weight=3, max_depth=3, learning_rate=0.001, gamma=0.5, total=   3.7s\n",
      "[CV] n_estimators=10, min_child_weight=3, max_depth=3, learning_rate=0.001, gamma=0.5 \n",
      "[CV]  n_estimators=10, min_child_weight=3, max_depth=3, learning_rate=0.001, gamma=0.5, total=   3.7s\n",
      "[CV] n_estimators=10, min_child_weight=3, max_depth=3, learning_rate=0.001, gamma=0.5 \n",
      "[CV]  n_estimators=10, min_child_weight=3, max_depth=3, learning_rate=0.001, gamma=0.5, total=   3.5s\n",
      "[CV] n_estimators=10, min_child_weight=1, max_depth=9, learning_rate=0.001, gamma=1 \n",
      "[CV]  n_estimators=10, min_child_weight=1, max_depth=9, learning_rate=0.001, gamma=1, total=   8.0s\n",
      "[CV] n_estimators=10, min_child_weight=1, max_depth=9, learning_rate=0.001, gamma=1 \n",
      "[CV]  n_estimators=10, min_child_weight=1, max_depth=9, learning_rate=0.001, gamma=1, total=   8.0s\n",
      "[CV] n_estimators=10, min_child_weight=1, max_depth=9, learning_rate=0.001, gamma=1 \n",
      "[CV]  n_estimators=10, min_child_weight=1, max_depth=9, learning_rate=0.001, gamma=1, total=   8.1s\n",
      "[CV] n_estimators=10, min_child_weight=1, max_depth=9, learning_rate=0.001, gamma=1 \n",
      "[CV]  n_estimators=10, min_child_weight=1, max_depth=9, learning_rate=0.001, gamma=1, total=   8.0s\n",
      "[CV] n_estimators=10, min_child_weight=1, max_depth=9, learning_rate=0.001, gamma=1 \n",
      "[CV]  n_estimators=10, min_child_weight=1, max_depth=9, learning_rate=0.001, gamma=1, total=   8.0s\n",
      "[CV] n_estimators=50, min_child_weight=1, max_depth=9, learning_rate=0.01, gamma=1 \n",
      "[CV]  n_estimators=50, min_child_weight=1, max_depth=9, learning_rate=0.01, gamma=1, total=  36.7s\n",
      "[CV] n_estimators=50, min_child_weight=1, max_depth=9, learning_rate=0.01, gamma=1 \n",
      "[CV]  n_estimators=50, min_child_weight=1, max_depth=9, learning_rate=0.01, gamma=1, total=  36.3s\n",
      "[CV] n_estimators=50, min_child_weight=1, max_depth=9, learning_rate=0.01, gamma=1 \n",
      "[CV]  n_estimators=50, min_child_weight=1, max_depth=9, learning_rate=0.01, gamma=1, total=  36.7s\n",
      "[CV] n_estimators=50, min_child_weight=1, max_depth=9, learning_rate=0.01, gamma=1 \n",
      "[CV]  n_estimators=50, min_child_weight=1, max_depth=9, learning_rate=0.01, gamma=1, total=  36.9s\n",
      "[CV] n_estimators=50, min_child_weight=1, max_depth=9, learning_rate=0.01, gamma=1 \n",
      "[CV]  n_estimators=50, min_child_weight=1, max_depth=9, learning_rate=0.01, gamma=1, total=  36.6s\n",
      "[CV] n_estimators=30, min_child_weight=5, max_depth=5, learning_rate=0.1, gamma=0.5 \n",
      "[CV]  n_estimators=30, min_child_weight=5, max_depth=5, learning_rate=0.1, gamma=0.5, total=  13.3s\n",
      "[CV] n_estimators=30, min_child_weight=5, max_depth=5, learning_rate=0.1, gamma=0.5 \n",
      "[CV]  n_estimators=30, min_child_weight=5, max_depth=5, learning_rate=0.1, gamma=0.5, total=  13.2s\n",
      "[CV] n_estimators=30, min_child_weight=5, max_depth=5, learning_rate=0.1, gamma=0.5 \n",
      "[CV]  n_estimators=30, min_child_weight=5, max_depth=5, learning_rate=0.1, gamma=0.5, total=  13.2s\n",
      "[CV] n_estimators=30, min_child_weight=5, max_depth=5, learning_rate=0.1, gamma=0.5 \n",
      "[CV]  n_estimators=30, min_child_weight=5, max_depth=5, learning_rate=0.1, gamma=0.5, total=  13.2s\n",
      "[CV] n_estimators=30, min_child_weight=5, max_depth=5, learning_rate=0.1, gamma=0.5 \n",
      "[CV]  n_estimators=30, min_child_weight=5, max_depth=5, learning_rate=0.1, gamma=0.5, total=  13.2s\n",
      "[CV] n_estimators=10, min_child_weight=7, max_depth=3, learning_rate=0.1, gamma=0 \n",
      "[CV]  n_estimators=10, min_child_weight=7, max_depth=3, learning_rate=0.1, gamma=0, total=   3.5s\n",
      "[CV] n_estimators=10, min_child_weight=7, max_depth=3, learning_rate=0.1, gamma=0 \n",
      "[CV]  n_estimators=10, min_child_weight=7, max_depth=3, learning_rate=0.1, gamma=0, total=   3.6s\n",
      "[CV] n_estimators=10, min_child_weight=7, max_depth=3, learning_rate=0.1, gamma=0 \n",
      "[CV]  n_estimators=10, min_child_weight=7, max_depth=3, learning_rate=0.1, gamma=0, total=   3.6s\n",
      "[CV] n_estimators=10, min_child_weight=7, max_depth=3, learning_rate=0.1, gamma=0 \n",
      "[CV]  n_estimators=10, min_child_weight=7, max_depth=3, learning_rate=0.1, gamma=0, total=   4.1s\n",
      "[CV] n_estimators=10, min_child_weight=7, max_depth=3, learning_rate=0.1, gamma=0 \n",
      "[CV]  n_estimators=10, min_child_weight=7, max_depth=3, learning_rate=0.1, gamma=0, total=   4.5s\n",
      "[CV] n_estimators=30, min_child_weight=1, max_depth=7, learning_rate=0.001, gamma=0 \n",
      "[CV]  n_estimators=30, min_child_weight=1, max_depth=7, learning_rate=0.001, gamma=0, total=  17.7s\n",
      "[CV] n_estimators=30, min_child_weight=1, max_depth=7, learning_rate=0.001, gamma=0 \n",
      "[CV]  n_estimators=30, min_child_weight=1, max_depth=7, learning_rate=0.001, gamma=0, total=  17.6s\n",
      "[CV] n_estimators=30, min_child_weight=1, max_depth=7, learning_rate=0.001, gamma=0 \n",
      "[CV]  n_estimators=30, min_child_weight=1, max_depth=7, learning_rate=0.001, gamma=0, total=  17.6s\n",
      "[CV] n_estimators=30, min_child_weight=1, max_depth=7, learning_rate=0.001, gamma=0 \n",
      "[CV]  n_estimators=30, min_child_weight=1, max_depth=7, learning_rate=0.001, gamma=0, total=  17.8s\n",
      "[CV] n_estimators=30, min_child_weight=1, max_depth=7, learning_rate=0.001, gamma=0 \n",
      "[CV]  n_estimators=30, min_child_weight=1, max_depth=7, learning_rate=0.001, gamma=0, total=  19.5s\n",
      "[CV] n_estimators=10, min_child_weight=1, max_depth=5, learning_rate=0.001, gamma=0.5 \n",
      "[CV]  n_estimators=10, min_child_weight=1, max_depth=5, learning_rate=0.001, gamma=0.5, total=   5.5s\n",
      "[CV] n_estimators=10, min_child_weight=1, max_depth=5, learning_rate=0.001, gamma=0.5 \n",
      "[CV]  n_estimators=10, min_child_weight=1, max_depth=5, learning_rate=0.001, gamma=0.5, total=   5.1s\n",
      "[CV] n_estimators=10, min_child_weight=1, max_depth=5, learning_rate=0.001, gamma=0.5 \n",
      "[CV]  n_estimators=10, min_child_weight=1, max_depth=5, learning_rate=0.001, gamma=0.5, total=   5.0s\n",
      "[CV] n_estimators=10, min_child_weight=1, max_depth=5, learning_rate=0.001, gamma=0.5 \n",
      "[CV]  n_estimators=10, min_child_weight=1, max_depth=5, learning_rate=0.001, gamma=0.5, total=   5.3s\n",
      "[CV] n_estimators=10, min_child_weight=1, max_depth=5, learning_rate=0.001, gamma=0.5 \n",
      "[CV]  n_estimators=10, min_child_weight=1, max_depth=5, learning_rate=0.001, gamma=0.5, total=   5.0s\n",
      "[CV] n_estimators=10, min_child_weight=5, max_depth=9, learning_rate=0.0001, gamma=1 \n",
      "[CV]  n_estimators=10, min_child_weight=5, max_depth=9, learning_rate=0.0001, gamma=1, total=   8.0s\n",
      "[CV] n_estimators=10, min_child_weight=5, max_depth=9, learning_rate=0.0001, gamma=1 \n",
      "[CV]  n_estimators=10, min_child_weight=5, max_depth=9, learning_rate=0.0001, gamma=1, total=   8.0s\n",
      "[CV] n_estimators=10, min_child_weight=5, max_depth=9, learning_rate=0.0001, gamma=1 \n",
      "[CV]  n_estimators=10, min_child_weight=5, max_depth=9, learning_rate=0.0001, gamma=1, total=   8.0s\n",
      "[CV] n_estimators=10, min_child_weight=5, max_depth=9, learning_rate=0.0001, gamma=1 \n",
      "[CV]  n_estimators=10, min_child_weight=5, max_depth=9, learning_rate=0.0001, gamma=1, total=   8.0s\n",
      "[CV] n_estimators=10, min_child_weight=5, max_depth=9, learning_rate=0.0001, gamma=1 \n",
      "[CV]  n_estimators=10, min_child_weight=5, max_depth=9, learning_rate=0.0001, gamma=1, total=   8.0s\n",
      "[CV] n_estimators=10, min_child_weight=3, max_depth=5, learning_rate=0.01, gamma=0 \n",
      "[CV]  n_estimators=10, min_child_weight=3, max_depth=5, learning_rate=0.01, gamma=0, total=   5.0s\n",
      "[CV] n_estimators=10, min_child_weight=3, max_depth=5, learning_rate=0.01, gamma=0 \n"
     ]
    },
    {
     "name": "stdout",
     "output_type": "stream",
     "text": [
      "[CV]  n_estimators=10, min_child_weight=3, max_depth=5, learning_rate=0.01, gamma=0, total=   5.0s\n",
      "[CV] n_estimators=10, min_child_weight=3, max_depth=5, learning_rate=0.01, gamma=0 \n",
      "[CV]  n_estimators=10, min_child_weight=3, max_depth=5, learning_rate=0.01, gamma=0, total=   5.0s\n",
      "[CV] n_estimators=10, min_child_weight=3, max_depth=5, learning_rate=0.01, gamma=0 \n",
      "[CV]  n_estimators=10, min_child_weight=3, max_depth=5, learning_rate=0.01, gamma=0, total=   5.0s\n",
      "[CV] n_estimators=10, min_child_weight=3, max_depth=5, learning_rate=0.01, gamma=0 \n",
      "[CV]  n_estimators=10, min_child_weight=3, max_depth=5, learning_rate=0.01, gamma=0, total=   5.0s\n",
      "[CV] n_estimators=70, min_child_weight=5, max_depth=5, learning_rate=0.01, gamma=1 \n",
      "[CV]  n_estimators=70, min_child_weight=5, max_depth=5, learning_rate=0.01, gamma=1, total=  29.9s\n",
      "[CV] n_estimators=70, min_child_weight=5, max_depth=5, learning_rate=0.01, gamma=1 \n",
      "[CV]  n_estimators=70, min_child_weight=5, max_depth=5, learning_rate=0.01, gamma=1, total=  29.8s\n",
      "[CV] n_estimators=70, min_child_weight=5, max_depth=5, learning_rate=0.01, gamma=1 \n",
      "[CV]  n_estimators=70, min_child_weight=5, max_depth=5, learning_rate=0.01, gamma=1, total=  29.6s\n",
      "[CV] n_estimators=70, min_child_weight=5, max_depth=5, learning_rate=0.01, gamma=1 \n",
      "[CV]  n_estimators=70, min_child_weight=5, max_depth=5, learning_rate=0.01, gamma=1, total=  29.9s\n",
      "[CV] n_estimators=70, min_child_weight=5, max_depth=5, learning_rate=0.01, gamma=1 \n",
      "[CV]  n_estimators=70, min_child_weight=5, max_depth=5, learning_rate=0.01, gamma=1, total=  30.8s\n",
      "[CV] n_estimators=10, min_child_weight=3, max_depth=5, learning_rate=0.1, gamma=0 \n",
      "[CV]  n_estimators=10, min_child_weight=3, max_depth=5, learning_rate=0.1, gamma=0, total=   5.8s\n",
      "[CV] n_estimators=10, min_child_weight=3, max_depth=5, learning_rate=0.1, gamma=0 \n",
      "[CV]  n_estimators=10, min_child_weight=3, max_depth=5, learning_rate=0.1, gamma=0, total=   5.1s\n",
      "[CV] n_estimators=10, min_child_weight=3, max_depth=5, learning_rate=0.1, gamma=0 \n",
      "[CV]  n_estimators=10, min_child_weight=3, max_depth=5, learning_rate=0.1, gamma=0, total=   5.3s\n",
      "[CV] n_estimators=10, min_child_weight=3, max_depth=5, learning_rate=0.1, gamma=0 \n",
      "[CV]  n_estimators=10, min_child_weight=3, max_depth=5, learning_rate=0.1, gamma=0, total=   5.1s\n",
      "[CV] n_estimators=10, min_child_weight=3, max_depth=5, learning_rate=0.1, gamma=0 \n",
      "[CV]  n_estimators=10, min_child_weight=3, max_depth=5, learning_rate=0.1, gamma=0, total=   5.0s\n",
      "[CV] n_estimators=70, min_child_weight=3, max_depth=3, learning_rate=0.1, gamma=0 \n",
      "[CV]  n_estimators=70, min_child_weight=3, max_depth=3, learning_rate=0.1, gamma=0, total=  19.3s\n",
      "[CV] n_estimators=70, min_child_weight=3, max_depth=3, learning_rate=0.1, gamma=0 \n",
      "[CV]  n_estimators=70, min_child_weight=3, max_depth=3, learning_rate=0.1, gamma=0, total=  19.2s\n",
      "[CV] n_estimators=70, min_child_weight=3, max_depth=3, learning_rate=0.1, gamma=0 \n",
      "[CV]  n_estimators=70, min_child_weight=3, max_depth=3, learning_rate=0.1, gamma=0, total=  19.1s\n",
      "[CV] n_estimators=70, min_child_weight=3, max_depth=3, learning_rate=0.1, gamma=0 \n",
      "[CV]  n_estimators=70, min_child_weight=3, max_depth=3, learning_rate=0.1, gamma=0, total=  19.9s\n",
      "[CV] n_estimators=70, min_child_weight=3, max_depth=3, learning_rate=0.1, gamma=0 \n",
      "[CV]  n_estimators=70, min_child_weight=3, max_depth=3, learning_rate=0.1, gamma=0, total=  19.1s\n",
      "[CV] n_estimators=30, min_child_weight=5, max_depth=3, learning_rate=0.0001, gamma=0.5 \n",
      "[CV]  n_estimators=30, min_child_weight=5, max_depth=3, learning_rate=0.0001, gamma=0.5, total=   8.7s\n",
      "[CV] n_estimators=30, min_child_weight=5, max_depth=3, learning_rate=0.0001, gamma=0.5 \n",
      "[CV]  n_estimators=30, min_child_weight=5, max_depth=3, learning_rate=0.0001, gamma=0.5, total=   9.0s\n",
      "[CV] n_estimators=30, min_child_weight=5, max_depth=3, learning_rate=0.0001, gamma=0.5 \n",
      "[CV]  n_estimators=30, min_child_weight=5, max_depth=3, learning_rate=0.0001, gamma=0.5, total=   8.9s\n",
      "[CV] n_estimators=30, min_child_weight=5, max_depth=3, learning_rate=0.0001, gamma=0.5 \n",
      "[CV]  n_estimators=30, min_child_weight=5, max_depth=3, learning_rate=0.0001, gamma=0.5, total=   8.8s\n",
      "[CV] n_estimators=30, min_child_weight=5, max_depth=3, learning_rate=0.0001, gamma=0.5 \n",
      "[CV]  n_estimators=30, min_child_weight=5, max_depth=3, learning_rate=0.0001, gamma=0.5, total=   8.9s\n",
      "[CV] n_estimators=10, min_child_weight=5, max_depth=9, learning_rate=0.1, gamma=1 \n",
      "[CV]  n_estimators=10, min_child_weight=5, max_depth=9, learning_rate=0.1, gamma=1, total=   8.0s\n",
      "[CV] n_estimators=10, min_child_weight=5, max_depth=9, learning_rate=0.1, gamma=1 \n",
      "[CV]  n_estimators=10, min_child_weight=5, max_depth=9, learning_rate=0.1, gamma=1, total=   8.0s\n",
      "[CV] n_estimators=10, min_child_weight=5, max_depth=9, learning_rate=0.1, gamma=1 \n",
      "[CV]  n_estimators=10, min_child_weight=5, max_depth=9, learning_rate=0.1, gamma=1, total=   8.0s\n",
      "[CV] n_estimators=10, min_child_weight=5, max_depth=9, learning_rate=0.1, gamma=1 \n",
      "[CV]  n_estimators=10, min_child_weight=5, max_depth=9, learning_rate=0.1, gamma=1, total=   8.1s\n",
      "[CV] n_estimators=10, min_child_weight=5, max_depth=9, learning_rate=0.1, gamma=1 \n",
      "[CV]  n_estimators=10, min_child_weight=5, max_depth=9, learning_rate=0.1, gamma=1, total=   8.1s\n",
      "[CV] n_estimators=10, min_child_weight=3, max_depth=7, learning_rate=0.001, gamma=0.5 \n",
      "[CV]  n_estimators=10, min_child_weight=3, max_depth=7, learning_rate=0.001, gamma=0.5, total=   6.5s\n",
      "[CV] n_estimators=10, min_child_weight=3, max_depth=7, learning_rate=0.001, gamma=0.5 \n",
      "[CV]  n_estimators=10, min_child_weight=3, max_depth=7, learning_rate=0.001, gamma=0.5, total=   6.6s\n",
      "[CV] n_estimators=10, min_child_weight=3, max_depth=7, learning_rate=0.001, gamma=0.5 \n",
      "[CV]  n_estimators=10, min_child_weight=3, max_depth=7, learning_rate=0.001, gamma=0.5, total=   6.6s\n",
      "[CV] n_estimators=10, min_child_weight=3, max_depth=7, learning_rate=0.001, gamma=0.5 \n",
      "[CV]  n_estimators=10, min_child_weight=3, max_depth=7, learning_rate=0.001, gamma=0.5, total=   6.6s\n",
      "[CV] n_estimators=10, min_child_weight=3, max_depth=7, learning_rate=0.001, gamma=0.5 \n",
      "[CV]  n_estimators=10, min_child_weight=3, max_depth=7, learning_rate=0.001, gamma=0.5, total=   8.0s\n",
      "[CV] n_estimators=30, min_child_weight=3, max_depth=9, learning_rate=0.1, gamma=0.5 \n",
      "[CV]  n_estimators=30, min_child_weight=3, max_depth=9, learning_rate=0.1, gamma=0.5, total=  23.0s\n",
      "[CV] n_estimators=30, min_child_weight=3, max_depth=9, learning_rate=0.1, gamma=0.5 \n",
      "[CV]  n_estimators=30, min_child_weight=3, max_depth=9, learning_rate=0.1, gamma=0.5, total=  22.6s\n",
      "[CV] n_estimators=30, min_child_weight=3, max_depth=9, learning_rate=0.1, gamma=0.5 \n",
      "[CV]  n_estimators=30, min_child_weight=3, max_depth=9, learning_rate=0.1, gamma=0.5, total=  22.2s\n",
      "[CV] n_estimators=30, min_child_weight=3, max_depth=9, learning_rate=0.1, gamma=0.5 \n",
      "[CV]  n_estimators=30, min_child_weight=3, max_depth=9, learning_rate=0.1, gamma=0.5, total=  22.4s\n",
      "[CV] n_estimators=30, min_child_weight=3, max_depth=9, learning_rate=0.1, gamma=0.5 \n",
      "[CV]  n_estimators=30, min_child_weight=3, max_depth=9, learning_rate=0.1, gamma=0.5, total=  24.1s\n",
      "[CV] n_estimators=30, min_child_weight=5, max_depth=3, learning_rate=0.1, gamma=0.5 \n",
      "[CV]  n_estimators=30, min_child_weight=5, max_depth=3, learning_rate=0.1, gamma=0.5, total=   8.8s\n",
      "[CV] n_estimators=30, min_child_weight=5, max_depth=3, learning_rate=0.1, gamma=0.5 \n",
      "[CV]  n_estimators=30, min_child_weight=5, max_depth=3, learning_rate=0.1, gamma=0.5, total=   8.8s\n",
      "[CV] n_estimators=30, min_child_weight=5, max_depth=3, learning_rate=0.1, gamma=0.5 \n",
      "[CV]  n_estimators=30, min_child_weight=5, max_depth=3, learning_rate=0.1, gamma=0.5, total=   9.0s\n",
      "[CV] n_estimators=30, min_child_weight=5, max_depth=3, learning_rate=0.1, gamma=0.5 \n",
      "[CV]  n_estimators=30, min_child_weight=5, max_depth=3, learning_rate=0.1, gamma=0.5, total=   8.8s\n",
      "[CV] n_estimators=30, min_child_weight=5, max_depth=3, learning_rate=0.1, gamma=0.5 \n",
      "[CV]  n_estimators=30, min_child_weight=5, max_depth=3, learning_rate=0.1, gamma=0.5, total=   8.8s\n",
      "[CV] n_estimators=10, min_child_weight=7, max_depth=5, learning_rate=0.001, gamma=1 \n",
      "[CV]  n_estimators=10, min_child_weight=7, max_depth=5, learning_rate=0.001, gamma=1, total=   5.1s\n",
      "[CV] n_estimators=10, min_child_weight=7, max_depth=5, learning_rate=0.001, gamma=1 \n"
     ]
    },
    {
     "name": "stdout",
     "output_type": "stream",
     "text": [
      "[CV]  n_estimators=10, min_child_weight=7, max_depth=5, learning_rate=0.001, gamma=1, total=   5.1s\n",
      "[CV] n_estimators=10, min_child_weight=7, max_depth=5, learning_rate=0.001, gamma=1 \n",
      "[CV]  n_estimators=10, min_child_weight=7, max_depth=5, learning_rate=0.001, gamma=1, total=   5.2s\n",
      "[CV] n_estimators=10, min_child_weight=7, max_depth=5, learning_rate=0.001, gamma=1 \n",
      "[CV]  n_estimators=10, min_child_weight=7, max_depth=5, learning_rate=0.001, gamma=1, total=   5.1s\n",
      "[CV] n_estimators=10, min_child_weight=7, max_depth=5, learning_rate=0.001, gamma=1 \n",
      "[CV]  n_estimators=10, min_child_weight=7, max_depth=5, learning_rate=0.001, gamma=1, total=   5.0s\n",
      "[CV] n_estimators=30, min_child_weight=3, max_depth=5, learning_rate=0.1, gamma=0 \n",
      "[CV]  n_estimators=30, min_child_weight=3, max_depth=5, learning_rate=0.1, gamma=0, total=  13.2s\n",
      "[CV] n_estimators=30, min_child_weight=3, max_depth=5, learning_rate=0.1, gamma=0 \n",
      "[CV]  n_estimators=30, min_child_weight=3, max_depth=5, learning_rate=0.1, gamma=0, total=  13.2s\n",
      "[CV] n_estimators=30, min_child_weight=3, max_depth=5, learning_rate=0.1, gamma=0 \n",
      "[CV]  n_estimators=30, min_child_weight=3, max_depth=5, learning_rate=0.1, gamma=0, total=  13.2s\n",
      "[CV] n_estimators=30, min_child_weight=3, max_depth=5, learning_rate=0.1, gamma=0 \n",
      "[CV]  n_estimators=30, min_child_weight=3, max_depth=5, learning_rate=0.1, gamma=0, total=  13.7s\n",
      "[CV] n_estimators=30, min_child_weight=3, max_depth=5, learning_rate=0.1, gamma=0 \n",
      "[CV]  n_estimators=30, min_child_weight=3, max_depth=5, learning_rate=0.1, gamma=0, total=  14.0s\n",
      "[CV] n_estimators=10, min_child_weight=7, max_depth=9, learning_rate=0.001, gamma=1 \n",
      "[CV]  n_estimators=10, min_child_weight=7, max_depth=9, learning_rate=0.001, gamma=1, total=   8.8s\n",
      "[CV] n_estimators=10, min_child_weight=7, max_depth=9, learning_rate=0.001, gamma=1 \n",
      "[CV]  n_estimators=10, min_child_weight=7, max_depth=9, learning_rate=0.001, gamma=1, total=   8.5s\n",
      "[CV] n_estimators=10, min_child_weight=7, max_depth=9, learning_rate=0.001, gamma=1 \n",
      "[CV]  n_estimators=10, min_child_weight=7, max_depth=9, learning_rate=0.001, gamma=1, total=   8.1s\n",
      "[CV] n_estimators=10, min_child_weight=7, max_depth=9, learning_rate=0.001, gamma=1 \n",
      "[CV]  n_estimators=10, min_child_weight=7, max_depth=9, learning_rate=0.001, gamma=1, total=   8.1s\n",
      "[CV] n_estimators=10, min_child_weight=7, max_depth=9, learning_rate=0.001, gamma=1 \n",
      "[CV]  n_estimators=10, min_child_weight=7, max_depth=9, learning_rate=0.001, gamma=1, total=   8.1s\n",
      "[CV] n_estimators=10, min_child_weight=1, max_depth=7, learning_rate=0.0001, gamma=1 \n",
      "[CV]  n_estimators=10, min_child_weight=1, max_depth=7, learning_rate=0.0001, gamma=1, total=   6.6s\n",
      "[CV] n_estimators=10, min_child_weight=1, max_depth=7, learning_rate=0.0001, gamma=1 \n",
      "[CV]  n_estimators=10, min_child_weight=1, max_depth=7, learning_rate=0.0001, gamma=1, total=   6.6s\n",
      "[CV] n_estimators=10, min_child_weight=1, max_depth=7, learning_rate=0.0001, gamma=1 \n",
      "[CV]  n_estimators=10, min_child_weight=1, max_depth=7, learning_rate=0.0001, gamma=1, total=   6.5s\n",
      "[CV] n_estimators=10, min_child_weight=1, max_depth=7, learning_rate=0.0001, gamma=1 \n",
      "[CV]  n_estimators=10, min_child_weight=1, max_depth=7, learning_rate=0.0001, gamma=1, total=   6.6s\n",
      "[CV] n_estimators=10, min_child_weight=1, max_depth=7, learning_rate=0.0001, gamma=1 \n",
      "[CV]  n_estimators=10, min_child_weight=1, max_depth=7, learning_rate=0.0001, gamma=1, total=   6.6s\n",
      "[CV] n_estimators=50, min_child_weight=3, max_depth=5, learning_rate=0.001, gamma=0 \n",
      "[CV]  n_estimators=50, min_child_weight=3, max_depth=5, learning_rate=0.001, gamma=0, total=  21.5s\n",
      "[CV] n_estimators=50, min_child_weight=3, max_depth=5, learning_rate=0.001, gamma=0 \n",
      "[CV]  n_estimators=50, min_child_weight=3, max_depth=5, learning_rate=0.001, gamma=0, total=  24.6s\n",
      "[CV] n_estimators=50, min_child_weight=3, max_depth=5, learning_rate=0.001, gamma=0 \n",
      "[CV]  n_estimators=50, min_child_weight=3, max_depth=5, learning_rate=0.001, gamma=0, total=  25.0s\n",
      "[CV] n_estimators=50, min_child_weight=3, max_depth=5, learning_rate=0.001, gamma=0 \n",
      "[CV]  n_estimators=50, min_child_weight=3, max_depth=5, learning_rate=0.001, gamma=0, total=  20.9s\n",
      "[CV] n_estimators=50, min_child_weight=3, max_depth=5, learning_rate=0.001, gamma=0 \n",
      "[CV]  n_estimators=50, min_child_weight=3, max_depth=5, learning_rate=0.001, gamma=0, total=  20.8s\n",
      "[CV] n_estimators=10, min_child_weight=1, max_depth=5, learning_rate=0.1, gamma=0 \n",
      "[CV]  n_estimators=10, min_child_weight=1, max_depth=5, learning_rate=0.1, gamma=0, total=   4.9s\n",
      "[CV] n_estimators=10, min_child_weight=1, max_depth=5, learning_rate=0.1, gamma=0 \n",
      "[CV]  n_estimators=10, min_child_weight=1, max_depth=5, learning_rate=0.1, gamma=0, total=   4.9s\n",
      "[CV] n_estimators=10, min_child_weight=1, max_depth=5, learning_rate=0.1, gamma=0 \n",
      "[CV]  n_estimators=10, min_child_weight=1, max_depth=5, learning_rate=0.1, gamma=0, total=   4.9s\n",
      "[CV] n_estimators=10, min_child_weight=1, max_depth=5, learning_rate=0.1, gamma=0 \n",
      "[CV]  n_estimators=10, min_child_weight=1, max_depth=5, learning_rate=0.1, gamma=0, total=   5.0s\n",
      "[CV] n_estimators=10, min_child_weight=1, max_depth=5, learning_rate=0.1, gamma=0 \n",
      "[CV]  n_estimators=10, min_child_weight=1, max_depth=5, learning_rate=0.1, gamma=0, total=   4.9s\n",
      "[CV] n_estimators=30, min_child_weight=5, max_depth=5, learning_rate=0.0001, gamma=0.5 \n",
      "[CV]  n_estimators=30, min_child_weight=5, max_depth=5, learning_rate=0.0001, gamma=0.5, total=  12.8s\n",
      "[CV] n_estimators=30, min_child_weight=5, max_depth=5, learning_rate=0.0001, gamma=0.5 \n",
      "[CV]  n_estimators=30, min_child_weight=5, max_depth=5, learning_rate=0.0001, gamma=0.5, total=  14.1s\n",
      "[CV] n_estimators=30, min_child_weight=5, max_depth=5, learning_rate=0.0001, gamma=0.5 \n",
      "[CV]  n_estimators=30, min_child_weight=5, max_depth=5, learning_rate=0.0001, gamma=0.5, total=  13.9s\n",
      "[CV] n_estimators=30, min_child_weight=5, max_depth=5, learning_rate=0.0001, gamma=0.5 \n",
      "[CV]  n_estimators=30, min_child_weight=5, max_depth=5, learning_rate=0.0001, gamma=0.5, total=  13.0s\n",
      "[CV] n_estimators=30, min_child_weight=5, max_depth=5, learning_rate=0.0001, gamma=0.5 \n",
      "[CV]  n_estimators=30, min_child_weight=5, max_depth=5, learning_rate=0.0001, gamma=0.5, total=  12.9s\n",
      "[CV] n_estimators=30, min_child_weight=1, max_depth=5, learning_rate=0.1, gamma=0 \n",
      "[CV]  n_estimators=30, min_child_weight=1, max_depth=5, learning_rate=0.1, gamma=0, total=  13.0s\n",
      "[CV] n_estimators=30, min_child_weight=1, max_depth=5, learning_rate=0.1, gamma=0 \n",
      "[CV]  n_estimators=30, min_child_weight=1, max_depth=5, learning_rate=0.1, gamma=0, total=  12.9s\n",
      "[CV] n_estimators=30, min_child_weight=1, max_depth=5, learning_rate=0.1, gamma=0 \n",
      "[CV]  n_estimators=30, min_child_weight=1, max_depth=5, learning_rate=0.1, gamma=0, total=  12.9s\n",
      "[CV] n_estimators=30, min_child_weight=1, max_depth=5, learning_rate=0.1, gamma=0 \n",
      "[CV]  n_estimators=30, min_child_weight=1, max_depth=5, learning_rate=0.1, gamma=0, total=  13.2s\n",
      "[CV] n_estimators=30, min_child_weight=1, max_depth=5, learning_rate=0.1, gamma=0 \n",
      "[CV]  n_estimators=30, min_child_weight=1, max_depth=5, learning_rate=0.1, gamma=0, total=  12.9s\n",
      "[CV] n_estimators=30, min_child_weight=3, max_depth=3, learning_rate=0.001, gamma=1 \n",
      "[CV]  n_estimators=30, min_child_weight=3, max_depth=3, learning_rate=0.001, gamma=1, total=   8.5s\n",
      "[CV] n_estimators=30, min_child_weight=3, max_depth=3, learning_rate=0.001, gamma=1 \n",
      "[CV]  n_estimators=30, min_child_weight=3, max_depth=3, learning_rate=0.001, gamma=1, total=   8.5s\n",
      "[CV] n_estimators=30, min_child_weight=3, max_depth=3, learning_rate=0.001, gamma=1 \n",
      "[CV]  n_estimators=30, min_child_weight=3, max_depth=3, learning_rate=0.001, gamma=1, total=   8.6s\n",
      "[CV] n_estimators=30, min_child_weight=3, max_depth=3, learning_rate=0.001, gamma=1 \n",
      "[CV]  n_estimators=30, min_child_weight=3, max_depth=3, learning_rate=0.001, gamma=1, total=   8.6s\n",
      "[CV] n_estimators=30, min_child_weight=3, max_depth=3, learning_rate=0.001, gamma=1 \n",
      "[CV]  n_estimators=30, min_child_weight=3, max_depth=3, learning_rate=0.001, gamma=1, total=   8.8s\n",
      "[CV] n_estimators=70, min_child_weight=7, max_depth=9, learning_rate=0.001, gamma=1 \n",
      "[CV]  n_estimators=70, min_child_weight=7, max_depth=9, learning_rate=0.001, gamma=1, total=  48.7s\n",
      "[CV] n_estimators=70, min_child_weight=7, max_depth=9, learning_rate=0.001, gamma=1 \n"
     ]
    },
    {
     "name": "stdout",
     "output_type": "stream",
     "text": [
      "[CV]  n_estimators=70, min_child_weight=7, max_depth=9, learning_rate=0.001, gamma=1, total=  50.1s\n",
      "[CV] n_estimators=70, min_child_weight=7, max_depth=9, learning_rate=0.001, gamma=1 \n",
      "[CV]  n_estimators=70, min_child_weight=7, max_depth=9, learning_rate=0.001, gamma=1, total=  49.4s\n",
      "[CV] n_estimators=70, min_child_weight=7, max_depth=9, learning_rate=0.001, gamma=1 \n",
      "[CV]  n_estimators=70, min_child_weight=7, max_depth=9, learning_rate=0.001, gamma=1, total=  49.2s\n",
      "[CV] n_estimators=70, min_child_weight=7, max_depth=9, learning_rate=0.001, gamma=1 \n",
      "[CV]  n_estimators=70, min_child_weight=7, max_depth=9, learning_rate=0.001, gamma=1, total=  48.8s\n",
      "[CV] n_estimators=10, min_child_weight=5, max_depth=3, learning_rate=0.001, gamma=0.5 \n",
      "[CV]  n_estimators=10, min_child_weight=5, max_depth=3, learning_rate=0.001, gamma=0.5, total=   3.7s\n",
      "[CV] n_estimators=10, min_child_weight=5, max_depth=3, learning_rate=0.001, gamma=0.5 \n",
      "[CV]  n_estimators=10, min_child_weight=5, max_depth=3, learning_rate=0.001, gamma=0.5, total=   3.5s\n",
      "[CV] n_estimators=10, min_child_weight=5, max_depth=3, learning_rate=0.001, gamma=0.5 \n",
      "[CV]  n_estimators=10, min_child_weight=5, max_depth=3, learning_rate=0.001, gamma=0.5, total=   3.5s\n",
      "[CV] n_estimators=10, min_child_weight=5, max_depth=3, learning_rate=0.001, gamma=0.5 \n",
      "[CV]  n_estimators=10, min_child_weight=5, max_depth=3, learning_rate=0.001, gamma=0.5, total=   3.5s\n",
      "[CV] n_estimators=10, min_child_weight=5, max_depth=3, learning_rate=0.001, gamma=0.5 \n",
      "[CV]  n_estimators=10, min_child_weight=5, max_depth=3, learning_rate=0.001, gamma=0.5, total=   3.5s\n",
      "[CV] n_estimators=70, min_child_weight=7, max_depth=7, learning_rate=0.01, gamma=0.5 \n",
      "[CV]  n_estimators=70, min_child_weight=7, max_depth=7, learning_rate=0.01, gamma=0.5, total=  38.9s\n",
      "[CV] n_estimators=70, min_child_weight=7, max_depth=7, learning_rate=0.01, gamma=0.5 \n",
      "[CV]  n_estimators=70, min_child_weight=7, max_depth=7, learning_rate=0.01, gamma=0.5, total=  38.9s\n",
      "[CV] n_estimators=70, min_child_weight=7, max_depth=7, learning_rate=0.01, gamma=0.5 \n",
      "[CV]  n_estimators=70, min_child_weight=7, max_depth=7, learning_rate=0.01, gamma=0.5, total=  38.9s\n",
      "[CV] n_estimators=70, min_child_weight=7, max_depth=7, learning_rate=0.01, gamma=0.5 \n",
      "[CV]  n_estimators=70, min_child_weight=7, max_depth=7, learning_rate=0.01, gamma=0.5, total=  39.0s\n",
      "[CV] n_estimators=70, min_child_weight=7, max_depth=7, learning_rate=0.01, gamma=0.5 \n",
      "[CV]  n_estimators=70, min_child_weight=7, max_depth=7, learning_rate=0.01, gamma=0.5, total=  39.0s\n",
      "[CV] n_estimators=10, min_child_weight=5, max_depth=9, learning_rate=0.001, gamma=0 \n",
      "[CV]  n_estimators=10, min_child_weight=5, max_depth=9, learning_rate=0.001, gamma=0, total=   8.0s\n",
      "[CV] n_estimators=10, min_child_weight=5, max_depth=9, learning_rate=0.001, gamma=0 \n",
      "[CV]  n_estimators=10, min_child_weight=5, max_depth=9, learning_rate=0.001, gamma=0, total=   7.9s\n",
      "[CV] n_estimators=10, min_child_weight=5, max_depth=9, learning_rate=0.001, gamma=0 \n",
      "[CV]  n_estimators=10, min_child_weight=5, max_depth=9, learning_rate=0.001, gamma=0, total=   8.3s\n",
      "[CV] n_estimators=10, min_child_weight=5, max_depth=9, learning_rate=0.001, gamma=0 \n",
      "[CV]  n_estimators=10, min_child_weight=5, max_depth=9, learning_rate=0.001, gamma=0, total=   7.9s\n",
      "[CV] n_estimators=10, min_child_weight=5, max_depth=9, learning_rate=0.001, gamma=0 \n",
      "[CV]  n_estimators=10, min_child_weight=5, max_depth=9, learning_rate=0.001, gamma=0, total=   7.9s\n",
      "[CV] n_estimators=70, min_child_weight=5, max_depth=7, learning_rate=0.001, gamma=0.5 \n",
      "[CV]  n_estimators=70, min_child_weight=5, max_depth=7, learning_rate=0.001, gamma=0.5, total=  39.0s\n",
      "[CV] n_estimators=70, min_child_weight=5, max_depth=7, learning_rate=0.001, gamma=0.5 \n",
      "[CV]  n_estimators=70, min_child_weight=5, max_depth=7, learning_rate=0.001, gamma=0.5, total=  38.9s\n",
      "[CV] n_estimators=70, min_child_weight=5, max_depth=7, learning_rate=0.001, gamma=0.5 \n",
      "[CV]  n_estimators=70, min_child_weight=5, max_depth=7, learning_rate=0.001, gamma=0.5, total=  38.9s\n",
      "[CV] n_estimators=70, min_child_weight=5, max_depth=7, learning_rate=0.001, gamma=0.5 \n",
      "[CV]  n_estimators=70, min_child_weight=5, max_depth=7, learning_rate=0.001, gamma=0.5, total=  40.1s\n",
      "[CV] n_estimators=70, min_child_weight=5, max_depth=7, learning_rate=0.001, gamma=0.5 \n",
      "[CV]  n_estimators=70, min_child_weight=5, max_depth=7, learning_rate=0.001, gamma=0.5, total=  45.5s\n",
      "[CV] n_estimators=30, min_child_weight=5, max_depth=7, learning_rate=0.01, gamma=0.5 \n",
      "[CV]  n_estimators=30, min_child_weight=5, max_depth=7, learning_rate=0.01, gamma=0.5, total=  17.6s\n",
      "[CV] n_estimators=30, min_child_weight=5, max_depth=7, learning_rate=0.01, gamma=0.5 \n",
      "[CV]  n_estimators=30, min_child_weight=5, max_depth=7, learning_rate=0.01, gamma=0.5, total=  17.6s\n",
      "[CV] n_estimators=30, min_child_weight=5, max_depth=7, learning_rate=0.01, gamma=0.5 \n",
      "[CV]  n_estimators=30, min_child_weight=5, max_depth=7, learning_rate=0.01, gamma=0.5, total=  17.6s\n",
      "[CV] n_estimators=30, min_child_weight=5, max_depth=7, learning_rate=0.01, gamma=0.5 \n",
      "[CV]  n_estimators=30, min_child_weight=5, max_depth=7, learning_rate=0.01, gamma=0.5, total=  19.7s\n",
      "[CV] n_estimators=30, min_child_weight=5, max_depth=7, learning_rate=0.01, gamma=0.5 \n",
      "[CV]  n_estimators=30, min_child_weight=5, max_depth=7, learning_rate=0.01, gamma=0.5, total=  18.4s\n",
      "[CV] n_estimators=10, min_child_weight=7, max_depth=7, learning_rate=0.0001, gamma=0.5 \n",
      "[CV]  n_estimators=10, min_child_weight=7, max_depth=7, learning_rate=0.0001, gamma=0.5, total=   6.7s\n",
      "[CV] n_estimators=10, min_child_weight=7, max_depth=7, learning_rate=0.0001, gamma=0.5 \n",
      "[CV]  n_estimators=10, min_child_weight=7, max_depth=7, learning_rate=0.0001, gamma=0.5, total=   6.6s\n",
      "[CV] n_estimators=10, min_child_weight=7, max_depth=7, learning_rate=0.0001, gamma=0.5 \n",
      "[CV]  n_estimators=10, min_child_weight=7, max_depth=7, learning_rate=0.0001, gamma=0.5, total=   6.5s\n",
      "[CV] n_estimators=10, min_child_weight=7, max_depth=7, learning_rate=0.0001, gamma=0.5 \n",
      "[CV]  n_estimators=10, min_child_weight=7, max_depth=7, learning_rate=0.0001, gamma=0.5, total=   6.8s\n",
      "[CV] n_estimators=10, min_child_weight=7, max_depth=7, learning_rate=0.0001, gamma=0.5 \n",
      "[CV]  n_estimators=10, min_child_weight=7, max_depth=7, learning_rate=0.0001, gamma=0.5, total=   6.5s\n",
      "[CV] n_estimators=70, min_child_weight=1, max_depth=3, learning_rate=0.001, gamma=0 \n",
      "[CV]  n_estimators=70, min_child_weight=1, max_depth=3, learning_rate=0.001, gamma=0, total=  19.0s\n",
      "[CV] n_estimators=70, min_child_weight=1, max_depth=3, learning_rate=0.001, gamma=0 \n",
      "[CV]  n_estimators=70, min_child_weight=1, max_depth=3, learning_rate=0.001, gamma=0, total=  19.0s\n",
      "[CV] n_estimators=70, min_child_weight=1, max_depth=3, learning_rate=0.001, gamma=0 \n",
      "[CV]  n_estimators=70, min_child_weight=1, max_depth=3, learning_rate=0.001, gamma=0, total=  19.0s\n",
      "[CV] n_estimators=70, min_child_weight=1, max_depth=3, learning_rate=0.001, gamma=0 \n",
      "[CV]  n_estimators=70, min_child_weight=1, max_depth=3, learning_rate=0.001, gamma=0, total=  19.0s\n",
      "[CV] n_estimators=70, min_child_weight=1, max_depth=3, learning_rate=0.001, gamma=0 \n",
      "[CV]  n_estimators=70, min_child_weight=1, max_depth=3, learning_rate=0.001, gamma=0, total=  19.0s\n",
      "[CV] n_estimators=50, min_child_weight=1, max_depth=5, learning_rate=0.001, gamma=0.5 \n",
      "[CV]  n_estimators=50, min_child_weight=1, max_depth=5, learning_rate=0.001, gamma=0.5, total=  21.5s\n",
      "[CV] n_estimators=50, min_child_weight=1, max_depth=5, learning_rate=0.001, gamma=0.5 \n",
      "[CV]  n_estimators=50, min_child_weight=1, max_depth=5, learning_rate=0.001, gamma=0.5, total=  21.6s\n",
      "[CV] n_estimators=50, min_child_weight=1, max_depth=5, learning_rate=0.001, gamma=0.5 \n",
      "[CV]  n_estimators=50, min_child_weight=1, max_depth=5, learning_rate=0.001, gamma=0.5, total=  21.5s\n",
      "[CV] n_estimators=50, min_child_weight=1, max_depth=5, learning_rate=0.001, gamma=0.5 \n",
      "[CV]  n_estimators=50, min_child_weight=1, max_depth=5, learning_rate=0.001, gamma=0.5, total=  21.5s\n",
      "[CV] n_estimators=50, min_child_weight=1, max_depth=5, learning_rate=0.001, gamma=0.5 \n",
      "[CV]  n_estimators=50, min_child_weight=1, max_depth=5, learning_rate=0.001, gamma=0.5, total=  21.9s\n",
      "[CV] n_estimators=70, min_child_weight=1, max_depth=3, learning_rate=0.001, gamma=1 \n"
     ]
    },
    {
     "name": "stdout",
     "output_type": "stream",
     "text": [
      "[CV]  n_estimators=70, min_child_weight=1, max_depth=3, learning_rate=0.001, gamma=1, total=  19.2s\n",
      "[CV] n_estimators=70, min_child_weight=1, max_depth=3, learning_rate=0.001, gamma=1 \n",
      "[CV]  n_estimators=70, min_child_weight=1, max_depth=3, learning_rate=0.001, gamma=1, total=  19.1s\n",
      "[CV] n_estimators=70, min_child_weight=1, max_depth=3, learning_rate=0.001, gamma=1 \n",
      "[CV]  n_estimators=70, min_child_weight=1, max_depth=3, learning_rate=0.001, gamma=1, total=  18.9s\n",
      "[CV] n_estimators=70, min_child_weight=1, max_depth=3, learning_rate=0.001, gamma=1 \n",
      "[CV]  n_estimators=70, min_child_weight=1, max_depth=3, learning_rate=0.001, gamma=1, total=  19.0s\n",
      "[CV] n_estimators=70, min_child_weight=1, max_depth=3, learning_rate=0.001, gamma=1 \n",
      "[CV]  n_estimators=70, min_child_weight=1, max_depth=3, learning_rate=0.001, gamma=1, total=  19.0s\n",
      "[CV] n_estimators=50, min_child_weight=1, max_depth=3, learning_rate=0.001, gamma=0 \n",
      "[CV]  n_estimators=50, min_child_weight=1, max_depth=3, learning_rate=0.001, gamma=0, total=  13.8s\n",
      "[CV] n_estimators=50, min_child_weight=1, max_depth=3, learning_rate=0.001, gamma=0 \n",
      "[CV]  n_estimators=50, min_child_weight=1, max_depth=3, learning_rate=0.001, gamma=0, total=  13.8s\n",
      "[CV] n_estimators=50, min_child_weight=1, max_depth=3, learning_rate=0.001, gamma=0 \n",
      "[CV]  n_estimators=50, min_child_weight=1, max_depth=3, learning_rate=0.001, gamma=0, total=  13.8s\n",
      "[CV] n_estimators=50, min_child_weight=1, max_depth=3, learning_rate=0.001, gamma=0 \n",
      "[CV]  n_estimators=50, min_child_weight=1, max_depth=3, learning_rate=0.001, gamma=0, total=  14.1s\n",
      "[CV] n_estimators=50, min_child_weight=1, max_depth=3, learning_rate=0.001, gamma=0 \n",
      "[CV]  n_estimators=50, min_child_weight=1, max_depth=3, learning_rate=0.001, gamma=0, total=  13.8s\n",
      "[CV] n_estimators=50, min_child_weight=3, max_depth=3, learning_rate=0.001, gamma=1 \n",
      "[CV]  n_estimators=50, min_child_weight=3, max_depth=3, learning_rate=0.001, gamma=1, total=  13.8s\n",
      "[CV] n_estimators=50, min_child_weight=3, max_depth=3, learning_rate=0.001, gamma=1 \n",
      "[CV]  n_estimators=50, min_child_weight=3, max_depth=3, learning_rate=0.001, gamma=1, total=  13.8s\n",
      "[CV] n_estimators=50, min_child_weight=3, max_depth=3, learning_rate=0.001, gamma=1 \n",
      "[CV]  n_estimators=50, min_child_weight=3, max_depth=3, learning_rate=0.001, gamma=1, total=  13.8s\n",
      "[CV] n_estimators=50, min_child_weight=3, max_depth=3, learning_rate=0.001, gamma=1 \n",
      "[CV]  n_estimators=50, min_child_weight=3, max_depth=3, learning_rate=0.001, gamma=1, total=  13.9s\n",
      "[CV] n_estimators=50, min_child_weight=3, max_depth=3, learning_rate=0.001, gamma=1 \n",
      "[CV]  n_estimators=50, min_child_weight=3, max_depth=3, learning_rate=0.001, gamma=1, total=  13.9s\n",
      "[CV] n_estimators=50, min_child_weight=7, max_depth=3, learning_rate=0.001, gamma=0 \n",
      "[CV]  n_estimators=50, min_child_weight=7, max_depth=3, learning_rate=0.001, gamma=0, total=  14.0s\n",
      "[CV] n_estimators=50, min_child_weight=7, max_depth=3, learning_rate=0.001, gamma=0 \n",
      "[CV]  n_estimators=50, min_child_weight=7, max_depth=3, learning_rate=0.001, gamma=0, total=  13.8s\n",
      "[CV] n_estimators=50, min_child_weight=7, max_depth=3, learning_rate=0.001, gamma=0 \n",
      "[CV]  n_estimators=50, min_child_weight=7, max_depth=3, learning_rate=0.001, gamma=0, total=  14.0s\n",
      "[CV] n_estimators=50, min_child_weight=7, max_depth=3, learning_rate=0.001, gamma=0 \n",
      "[CV]  n_estimators=50, min_child_weight=7, max_depth=3, learning_rate=0.001, gamma=0, total=  13.8s\n",
      "[CV] n_estimators=50, min_child_weight=7, max_depth=3, learning_rate=0.001, gamma=0 \n",
      "[CV]  n_estimators=50, min_child_weight=7, max_depth=3, learning_rate=0.001, gamma=0, total=  13.9s\n",
      "[CV] n_estimators=50, min_child_weight=1, max_depth=7, learning_rate=0.1, gamma=0.5 \n",
      "[CV]  n_estimators=50, min_child_weight=1, max_depth=7, learning_rate=0.1, gamma=0.5, total=  28.8s\n",
      "[CV] n_estimators=50, min_child_weight=1, max_depth=7, learning_rate=0.1, gamma=0.5 \n",
      "[CV]  n_estimators=50, min_child_weight=1, max_depth=7, learning_rate=0.1, gamma=0.5, total=  29.2s\n",
      "[CV] n_estimators=50, min_child_weight=1, max_depth=7, learning_rate=0.1, gamma=0.5 \n",
      "[CV]  n_estimators=50, min_child_weight=1, max_depth=7, learning_rate=0.1, gamma=0.5, total=  29.0s\n",
      "[CV] n_estimators=50, min_child_weight=1, max_depth=7, learning_rate=0.1, gamma=0.5 \n",
      "[CV]  n_estimators=50, min_child_weight=1, max_depth=7, learning_rate=0.1, gamma=0.5, total=  28.9s\n",
      "[CV] n_estimators=50, min_child_weight=1, max_depth=7, learning_rate=0.1, gamma=0.5 \n",
      "[CV]  n_estimators=50, min_child_weight=1, max_depth=7, learning_rate=0.1, gamma=0.5, total=  30.2s\n",
      "[CV] n_estimators=10, min_child_weight=5, max_depth=3, learning_rate=0.1, gamma=0.5 \n",
      "[CV]  n_estimators=10, min_child_weight=5, max_depth=3, learning_rate=0.1, gamma=0.5, total=   4.4s\n",
      "[CV] n_estimators=10, min_child_weight=5, max_depth=3, learning_rate=0.1, gamma=0.5 \n",
      "[CV]  n_estimators=10, min_child_weight=5, max_depth=3, learning_rate=0.1, gamma=0.5, total=   3.6s\n",
      "[CV] n_estimators=10, min_child_weight=5, max_depth=3, learning_rate=0.1, gamma=0.5 \n",
      "[CV]  n_estimators=10, min_child_weight=5, max_depth=3, learning_rate=0.1, gamma=0.5, total=   3.6s\n",
      "[CV] n_estimators=10, min_child_weight=5, max_depth=3, learning_rate=0.1, gamma=0.5 \n",
      "[CV]  n_estimators=10, min_child_weight=5, max_depth=3, learning_rate=0.1, gamma=0.5, total=   3.6s\n",
      "[CV] n_estimators=10, min_child_weight=5, max_depth=3, learning_rate=0.1, gamma=0.5 \n",
      "[CV]  n_estimators=10, min_child_weight=5, max_depth=3, learning_rate=0.1, gamma=0.5, total=   3.7s\n",
      "[CV] n_estimators=50, min_child_weight=7, max_depth=5, learning_rate=0.0001, gamma=0 \n",
      "[CV]  n_estimators=50, min_child_weight=7, max_depth=5, learning_rate=0.0001, gamma=0, total=  21.7s\n",
      "[CV] n_estimators=50, min_child_weight=7, max_depth=5, learning_rate=0.0001, gamma=0 \n",
      "[CV]  n_estimators=50, min_child_weight=7, max_depth=5, learning_rate=0.0001, gamma=0, total=  21.5s\n",
      "[CV] n_estimators=50, min_child_weight=7, max_depth=5, learning_rate=0.0001, gamma=0 \n",
      "[CV]  n_estimators=50, min_child_weight=7, max_depth=5, learning_rate=0.0001, gamma=0, total=  21.4s\n",
      "[CV] n_estimators=50, min_child_weight=7, max_depth=5, learning_rate=0.0001, gamma=0 \n",
      "[CV]  n_estimators=50, min_child_weight=7, max_depth=5, learning_rate=0.0001, gamma=0, total=  21.6s\n",
      "[CV] n_estimators=50, min_child_weight=7, max_depth=5, learning_rate=0.0001, gamma=0 \n",
      "[CV]  n_estimators=50, min_child_weight=7, max_depth=5, learning_rate=0.0001, gamma=0, total=  21.6s\n",
      "[CV] n_estimators=70, min_child_weight=5, max_depth=9, learning_rate=0.001, gamma=1 \n",
      "[CV]  n_estimators=70, min_child_weight=5, max_depth=9, learning_rate=0.001, gamma=1, total=  50.1s\n",
      "[CV] n_estimators=70, min_child_weight=5, max_depth=9, learning_rate=0.001, gamma=1 \n",
      "[CV]  n_estimators=70, min_child_weight=5, max_depth=9, learning_rate=0.001, gamma=1, total=  53.8s\n",
      "[CV] n_estimators=70, min_child_weight=5, max_depth=9, learning_rate=0.001, gamma=1 \n",
      "[CV]  n_estimators=70, min_child_weight=5, max_depth=9, learning_rate=0.001, gamma=1, total=  49.1s\n",
      "[CV] n_estimators=70, min_child_weight=5, max_depth=9, learning_rate=0.001, gamma=1 \n",
      "[CV]  n_estimators=70, min_child_weight=5, max_depth=9, learning_rate=0.001, gamma=1, total=  48.9s\n",
      "[CV] n_estimators=70, min_child_weight=5, max_depth=9, learning_rate=0.001, gamma=1 \n",
      "[CV]  n_estimators=70, min_child_weight=5, max_depth=9, learning_rate=0.001, gamma=1, total=  49.0s\n",
      "[CV] n_estimators=30, min_child_weight=1, max_depth=7, learning_rate=0.0001, gamma=0 \n",
      "[CV]  n_estimators=30, min_child_weight=1, max_depth=7, learning_rate=0.0001, gamma=0, total=  17.7s\n",
      "[CV] n_estimators=30, min_child_weight=1, max_depth=7, learning_rate=0.0001, gamma=0 \n",
      "[CV]  n_estimators=30, min_child_weight=1, max_depth=7, learning_rate=0.0001, gamma=0, total=  17.3s\n",
      "[CV] n_estimators=30, min_child_weight=1, max_depth=7, learning_rate=0.0001, gamma=0 \n",
      "[CV]  n_estimators=30, min_child_weight=1, max_depth=7, learning_rate=0.0001, gamma=0, total=  17.2s\n",
      "[CV] n_estimators=30, min_child_weight=1, max_depth=7, learning_rate=0.0001, gamma=0 \n",
      "[CV]  n_estimators=30, min_child_weight=1, max_depth=7, learning_rate=0.0001, gamma=0, total=  17.2s\n",
      "[CV] n_estimators=30, min_child_weight=1, max_depth=7, learning_rate=0.0001, gamma=0 \n",
      "[CV]  n_estimators=30, min_child_weight=1, max_depth=7, learning_rate=0.0001, gamma=0, total=  17.3s\n",
      "[CV] n_estimators=70, min_child_weight=7, max_depth=5, learning_rate=0.0001, gamma=0 \n"
     ]
    },
    {
     "name": "stdout",
     "output_type": "stream",
     "text": [
      "[CV]  n_estimators=70, min_child_weight=7, max_depth=5, learning_rate=0.0001, gamma=0, total=  28.8s\n",
      "[CV] n_estimators=70, min_child_weight=7, max_depth=5, learning_rate=0.0001, gamma=0 \n",
      "[CV]  n_estimators=70, min_child_weight=7, max_depth=5, learning_rate=0.0001, gamma=0, total=  28.6s\n",
      "[CV] n_estimators=70, min_child_weight=7, max_depth=5, learning_rate=0.0001, gamma=0 \n",
      "[CV]  n_estimators=70, min_child_weight=7, max_depth=5, learning_rate=0.0001, gamma=0, total=  29.0s\n",
      "[CV] n_estimators=70, min_child_weight=7, max_depth=5, learning_rate=0.0001, gamma=0 \n",
      "[CV]  n_estimators=70, min_child_weight=7, max_depth=5, learning_rate=0.0001, gamma=0, total=  29.0s\n",
      "[CV] n_estimators=70, min_child_weight=7, max_depth=5, learning_rate=0.0001, gamma=0 \n",
      "[CV]  n_estimators=70, min_child_weight=7, max_depth=5, learning_rate=0.0001, gamma=0, total=  28.8s\n",
      "[CV] n_estimators=70, min_child_weight=3, max_depth=7, learning_rate=0.0001, gamma=0 \n",
      "[CV]  n_estimators=70, min_child_weight=3, max_depth=7, learning_rate=0.0001, gamma=0, total=  38.9s\n",
      "[CV] n_estimators=70, min_child_weight=3, max_depth=7, learning_rate=0.0001, gamma=0 \n",
      "[CV]  n_estimators=70, min_child_weight=3, max_depth=7, learning_rate=0.0001, gamma=0, total=  40.2s\n",
      "[CV] n_estimators=70, min_child_weight=3, max_depth=7, learning_rate=0.0001, gamma=0 \n",
      "[CV]  n_estimators=70, min_child_weight=3, max_depth=7, learning_rate=0.0001, gamma=0, total=  39.9s\n",
      "[CV] n_estimators=70, min_child_weight=3, max_depth=7, learning_rate=0.0001, gamma=0 \n",
      "[CV]  n_estimators=70, min_child_weight=3, max_depth=7, learning_rate=0.0001, gamma=0, total=  39.5s\n",
      "[CV] n_estimators=70, min_child_weight=3, max_depth=7, learning_rate=0.0001, gamma=0 \n",
      "[CV]  n_estimators=70, min_child_weight=3, max_depth=7, learning_rate=0.0001, gamma=0, total=  39.2s\n",
      "[CV] n_estimators=30, min_child_weight=7, max_depth=3, learning_rate=0.001, gamma=0 \n",
      "[CV]  n_estimators=30, min_child_weight=7, max_depth=3, learning_rate=0.001, gamma=0, total=   8.6s\n",
      "[CV] n_estimators=30, min_child_weight=7, max_depth=3, learning_rate=0.001, gamma=0 \n",
      "[CV]  n_estimators=30, min_child_weight=7, max_depth=3, learning_rate=0.001, gamma=0, total=   8.5s\n",
      "[CV] n_estimators=30, min_child_weight=7, max_depth=3, learning_rate=0.001, gamma=0 \n",
      "[CV]  n_estimators=30, min_child_weight=7, max_depth=3, learning_rate=0.001, gamma=0, total=   8.5s\n",
      "[CV] n_estimators=30, min_child_weight=7, max_depth=3, learning_rate=0.001, gamma=0 \n",
      "[CV]  n_estimators=30, min_child_weight=7, max_depth=3, learning_rate=0.001, gamma=0, total=   8.5s\n",
      "[CV] n_estimators=30, min_child_weight=7, max_depth=3, learning_rate=0.001, gamma=0 \n",
      "[CV]  n_estimators=30, min_child_weight=7, max_depth=3, learning_rate=0.001, gamma=0, total=   8.5s\n",
      "[CV] n_estimators=70, min_child_weight=5, max_depth=7, learning_rate=0.0001, gamma=0.5 \n",
      "[CV]  n_estimators=70, min_child_weight=5, max_depth=7, learning_rate=0.0001, gamma=0.5, total=  39.0s\n",
      "[CV] n_estimators=70, min_child_weight=5, max_depth=7, learning_rate=0.0001, gamma=0.5 \n",
      "[CV]  n_estimators=70, min_child_weight=5, max_depth=7, learning_rate=0.0001, gamma=0.5, total=  43.0s\n",
      "[CV] n_estimators=70, min_child_weight=5, max_depth=7, learning_rate=0.0001, gamma=0.5 \n",
      "[CV]  n_estimators=70, min_child_weight=5, max_depth=7, learning_rate=0.0001, gamma=0.5, total=  41.4s\n",
      "[CV] n_estimators=70, min_child_weight=5, max_depth=7, learning_rate=0.0001, gamma=0.5 \n",
      "[CV]  n_estimators=70, min_child_weight=5, max_depth=7, learning_rate=0.0001, gamma=0.5, total=  42.6s\n",
      "[CV] n_estimators=70, min_child_weight=5, max_depth=7, learning_rate=0.0001, gamma=0.5 \n",
      "[CV]  n_estimators=70, min_child_weight=5, max_depth=7, learning_rate=0.0001, gamma=0.5, total=  38.6s\n",
      "[CV] n_estimators=70, min_child_weight=3, max_depth=7, learning_rate=0.1, gamma=0.5 \n",
      "[CV]  n_estimators=70, min_child_weight=3, max_depth=7, learning_rate=0.1, gamma=0.5, total=  38.7s\n",
      "[CV] n_estimators=70, min_child_weight=3, max_depth=7, learning_rate=0.1, gamma=0.5 \n",
      "[CV]  n_estimators=70, min_child_weight=3, max_depth=7, learning_rate=0.1, gamma=0.5, total=  38.9s\n",
      "[CV] n_estimators=70, min_child_weight=3, max_depth=7, learning_rate=0.1, gamma=0.5 \n",
      "[CV]  n_estimators=70, min_child_weight=3, max_depth=7, learning_rate=0.1, gamma=0.5, total=  38.9s\n",
      "[CV] n_estimators=70, min_child_weight=3, max_depth=7, learning_rate=0.1, gamma=0.5 \n",
      "[CV]  n_estimators=70, min_child_weight=3, max_depth=7, learning_rate=0.1, gamma=0.5, total=  38.8s\n",
      "[CV] n_estimators=70, min_child_weight=3, max_depth=7, learning_rate=0.1, gamma=0.5 \n",
      "[CV]  n_estimators=70, min_child_weight=3, max_depth=7, learning_rate=0.1, gamma=0.5, total=  38.8s\n"
     ]
    },
    {
     "name": "stderr",
     "output_type": "stream",
     "text": [
      "[Parallel(n_jobs=1)]: Done 250 out of 250 | elapsed: 71.6min finished\n"
     ]
    },
    {
     "name": "stdout",
     "output_type": "stream",
     "text": [
      "starttime = 2020-12-13 23:25:54.806500\n",
      "endtime = 2020-12-14 00:38:12.475232\n"
     ]
    }
   ],
   "source": [
    "TUNING = False\n",
    "if TUNING:\n",
    "    learning_rate = [0.0001, 0.001,0.01,0.1]\n",
    "    n_estimators = [10,30,50,70]\n",
    "    max_depth = [3,5,7,9]\n",
    "    min_child_weight = [1,3,5,7]\n",
    "    gamma =  [0, 0.5, 1]\n",
    "\n",
    "\n",
    "    # Create the random grid\n",
    "    random_grid_xgb = {'learning_rate': learning_rate,\n",
    "                   'n_estimators': n_estimators,\n",
    "                   'max_depth': max_depth,\n",
    "                   'min_child_weight': min_child_weight,\n",
    "                   'gamma': gamma}\n",
    "    print(random_grid_xgb)\n",
    "\n",
    "    # Random search training\n",
    "    xgb_random = RandomizedSearchCV(estimator = xgb_model, param_distributions = random_grid_xgb, n_iter = 50, cv = 5, verbose=2, random_state=42, n_jobs = 1)\n",
    "\n",
    "    \n",
    "    starttime =datetime.now() \n",
    "    xgb_random.fit(X_train, y_train)\n",
    "    print(\"starttime =\", starttime)\n",
    "    print(\"endtime =\", datetime.now())"
   ]
  },
  {
   "cell_type": "markdown",
   "metadata": {},
   "source": [
    "# best parameters"
   ]
  },
  {
   "cell_type": "code",
   "execution_count": 60,
   "metadata": {},
   "outputs": [
    {
     "data": {
      "text/plain": [
       "{'n_estimators': 50,\n",
       " 'min_child_weight': 1,\n",
       " 'max_depth': 9,\n",
       " 'learning_rate': 0.01,\n",
       " 'gamma': 1}"
      ]
     },
     "execution_count": 60,
     "metadata": {},
     "output_type": "execute_result"
    }
   ],
   "source": [
    "# best parameters for full features data set\n",
    "'''{'n_estimators': 70,\n",
    " 'min_child_weight': 3,\n",
    " 'max_depth': 7,\n",
    " 'learning_rate': 0.1,\n",
    " 'gamma': 0.5}\n",
    " '''\n",
    "# best for min\n",
    "xgb_random.best_params_"
   ]
  },
  {
   "cell_type": "code",
   "execution_count": null,
   "metadata": {},
   "outputs": [
    {
     "name": "stdout",
     "output_type": "stream",
     "text": [
      "build GBT\n",
      "train GBT\n"
     ]
    }
   ],
   "source": [
    "print(\"build GBT\")\n",
    "#build gradient boost model\n",
    "xgb_model = xgb.XGBClassifier(\n",
    " learning_rate = 0.1,\n",
    " n_estimators= 50,\n",
    " max_depth= 9,\n",
    " min_child_weight= 1,\n",
    " gamma= 1,\n",
    " subsample= SUBSAMPLE,\n",
    " colsample_bytree= COLSAMPLE_BYTREE,\n",
    " objective= OBJECTIVE,\n",
    " nthread= NUM_THREAD,\n",
    " scale_pos_weight= SCALE_POS_WEIGHT,\n",
    " seed= SEED)\n",
    "\n",
    "print(\"train GBT\")\n",
    "# train xgb\n",
    "xgb_model.fit(X_train, y_train, \n",
    "                early_stopping_rounds= EARLT_STOPPING_ROUNDS, \n",
    "                eval_metric= EVAL_METRIC, \n",
    "                eval_set= [(X_test, y_test)],\n",
    "                verbose= VERBOSE)\n",
    "print(\"predictions after tuning\")\n",
    "#Make predictions \n",
    "GBT_pred = xgb_model.predict(X_test)\n",
    "GBT_probs = xgb_model.predict_proba(X_test)[::,1]"
   ]
  },
  {
   "cell_type": "code",
   "execution_count": null,
   "metadata": {
    "scrolled": true
   },
   "outputs": [],
   "source": [
    "performance(xgb_model,y_test,GBT_probs, GBT_pred)"
   ]
  },
  {
   "cell_type": "code",
   "execution_count": null,
   "metadata": {},
   "outputs": [],
   "source": [
    "build_graphs(y_test, GBT_probs, classifier_name, \"XGB_max_feat_with_imp_adult_AnyAKI\")"
   ]
  },
  {
   "cell_type": "markdown",
   "metadata": {},
   "source": [
    "# The Random Forests model"
   ]
  },
  {
   "cell_type": "code",
   "execution_count": 52,
   "metadata": {},
   "outputs": [],
   "source": [
    "# naming model and plot\n",
    "classifier_name = \"None vs. Any AKI\"    ###change every time #Moderate vs. Severe #None vs. Any #Others vs. Severe\n",
    "plot_name = \"None_vs_Any_AKI_RF\"    ###change every time"
   ]
  },
  {
   "cell_type": "code",
   "execution_count": 53,
   "metadata": {},
   "outputs": [
    {
     "name": "stdout",
     "output_type": "stream",
     "text": [
      "y train has \n",
      "[[    0     1]\n",
      " [17132 25069]]\n"
     ]
    }
   ],
   "source": [
    "print('y train has ')\n",
    "(unique, counts) = np.unique(y_train, return_counts=True)\n",
    "frequencies = np.asarray((unique, counts))\n",
    "print(frequencies)"
   ]
  },
  {
   "cell_type": "markdown",
   "metadata": {},
   "source": [
    "# First try with the default parameters"
   ]
  },
  {
   "cell_type": "code",
   "execution_count": 54,
   "metadata": {},
   "outputs": [
    {
     "name": "stdout",
     "output_type": "stream",
     "text": [
      "build RF\n",
      "train RF\n"
     ]
    },
    {
     "data": {
      "text/plain": [
       "RandomForestClassifier()"
      ]
     },
     "execution_count": 54,
     "metadata": {},
     "output_type": "execute_result"
    }
   ],
   "source": [
    "print(\"build RF\")\n",
    "# building RF (default parameters) to compare to later\n",
    "rf_model = RandomForestClassifier(n_estimators=100,criterion='gini',max_depth=None,min_samples_split=2,min_samples_leaf=1,\n",
    "                                  min_weight_fraction_leaf=0.0,max_features='auto',max_leaf_nodes=None,min_impurity_decrease=0.0,\n",
    "                                  min_impurity_split=None,bootstrap=True,oob_score=False,n_jobs=None,random_state=None,verbose=0,\n",
    "                                  warm_start=False,class_weight=None,ccp_alpha=0.0,max_samples=None)\n",
    "\n",
    "\n",
    "print(\"train RF\")\n",
    "# train RF\n",
    "rf_model.fit(X_train, y_train)\n",
    "# to see how the forest looks like with default parameters\n",
    "\n",
    "# depth of trees is around 44-93 for the full set\n",
    "#[estimator.tree_.max_depth for estimator in rf_model.estimators_]"
   ]
  },
  {
   "cell_type": "code",
   "execution_count": 55,
   "metadata": {
    "scrolled": true
   },
   "outputs": [
    {
     "name": "stdout",
     "output_type": "stream",
     "text": [
      "predictions\n"
     ]
    }
   ],
   "source": [
    "print(\"predictions\")\n",
    "#Make predictions \n",
    "RF_pred = rf_model.predict(X_test)\n",
    "RF_probs = rf_model.predict_proba(X_test)[::,1] # probability of class 1\n"
   ]
  },
  {
   "cell_type": "code",
   "execution_count": 56,
   "metadata": {
    "scrolled": true
   },
   "outputs": [
    {
     "name": "stdout",
     "output_type": "stream",
     "text": [
      "accuracy for Classifier : 0.64\n",
      "Area Under ROC Curve: 0.71\n",
      "Area Under PR Curve(AP): 0.81\n",
      "[[1152  810]\n",
      " [ 861 1866]]\n",
      "brier\n",
      "0.252\n"
     ]
    }
   ],
   "source": [
    "performance(rf_model,y_test,RF_probs,RF_pred)"
   ]
  },
  {
   "cell_type": "markdown",
   "metadata": {},
   "source": [
    "# Next create a parameter grid to sample from during fitting"
   ]
  },
  {
   "cell_type": "code",
   "execution_count": 69,
   "metadata": {},
   "outputs": [
    {
     "name": "stdout",
     "output_type": "stream",
     "text": [
      "{'n_estimators': [100, 300, 500, 700, 900], 'max_features': ['auto', 'sqrt'], 'max_depth': [10, 25, 40, 55, 70, None], 'min_samples_split': [2, 5, 10], 'min_samples_leaf': [2, 4], 'bootstrap': [True, False]}\n"
     ]
    }
   ],
   "source": [
    "# Number of trees in random forest\n",
    "n_estimators = [int(x) for x in np.linspace(start = 100, stop = 900, num = 5)]\n",
    "# Number of features to consider at every split\n",
    "max_features = ['auto', 'sqrt']\n",
    "# Maximum number of levels in tree\n",
    "max_depth = [int(x) for x in np.linspace(10, 70, num = 5)]\n",
    "max_depth.append(None)\n",
    "# Minimum number of samples required to split a node\n",
    "min_samples_split = [2, 5, 10]\n",
    "# Minimum number of samples required at each leaf node\n",
    "min_samples_leaf = [2, 4]\n",
    "# Method of selecting samples for training each tree\n",
    "bootstrap = [True, False]\n",
    "# Create the random grid\n",
    "random_grid = {'n_estimators': n_estimators,\n",
    "               'max_features': max_features,\n",
    "               'max_depth': max_depth,\n",
    "               'min_samples_split': min_samples_split,\n",
    "               'min_samples_leaf': min_samples_leaf,\n",
    "               'bootstrap': bootstrap}\n",
    "print(random_grid)\n",
    "\n",
    "# Random search training\n",
    "# Use the random grid to search for best hyperparameters\n",
    "# Random search of parameters, using 3 fold cross validation\n",
    "rf_random = RandomizedSearchCV(estimator = rf_model, param_distributions = random_grid, n_iter = 50, cv = 5, verbose=2, random_state=42, n_jobs = 1)\n"
   ]
  },
  {
   "cell_type": "code",
   "execution_count": 70,
   "metadata": {},
   "outputs": [
    {
     "name": "stdout",
     "output_type": "stream",
     "text": [
      "Fitting 5 folds for each of 50 candidates, totalling 250 fits\n",
      "[CV] n_estimators=100, min_samples_split=10, min_samples_leaf=2, max_features=sqrt, max_depth=None, bootstrap=True \n"
     ]
    },
    {
     "name": "stderr",
     "output_type": "stream",
     "text": [
      "[Parallel(n_jobs=1)]: Using backend SequentialBackend with 1 concurrent workers.\n"
     ]
    },
    {
     "name": "stdout",
     "output_type": "stream",
     "text": [
      "[CV]  n_estimators=100, min_samples_split=10, min_samples_leaf=2, max_features=sqrt, max_depth=None, bootstrap=True, total=  18.6s\n",
      "[CV] n_estimators=100, min_samples_split=10, min_samples_leaf=2, max_features=sqrt, max_depth=None, bootstrap=True \n"
     ]
    },
    {
     "name": "stderr",
     "output_type": "stream",
     "text": [
      "[Parallel(n_jobs=1)]: Done   1 out of   1 | elapsed:   18.6s remaining:    0.0s\n"
     ]
    },
    {
     "name": "stdout",
     "output_type": "stream",
     "text": [
      "[CV]  n_estimators=100, min_samples_split=10, min_samples_leaf=2, max_features=sqrt, max_depth=None, bootstrap=True, total=  19.0s\n",
      "[CV] n_estimators=100, min_samples_split=10, min_samples_leaf=2, max_features=sqrt, max_depth=None, bootstrap=True \n",
      "[CV]  n_estimators=100, min_samples_split=10, min_samples_leaf=2, max_features=sqrt, max_depth=None, bootstrap=True, total=  18.9s\n",
      "[CV] n_estimators=100, min_samples_split=10, min_samples_leaf=2, max_features=sqrt, max_depth=None, bootstrap=True \n",
      "[CV]  n_estimators=100, min_samples_split=10, min_samples_leaf=2, max_features=sqrt, max_depth=None, bootstrap=True, total=  18.9s\n",
      "[CV] n_estimators=100, min_samples_split=10, min_samples_leaf=2, max_features=sqrt, max_depth=None, bootstrap=True \n",
      "[CV]  n_estimators=100, min_samples_split=10, min_samples_leaf=2, max_features=sqrt, max_depth=None, bootstrap=True, total=  18.6s\n",
      "[CV] n_estimators=100, min_samples_split=5, min_samples_leaf=4, max_features=sqrt, max_depth=70, bootstrap=True \n",
      "[CV]  n_estimators=100, min_samples_split=5, min_samples_leaf=4, max_features=sqrt, max_depth=70, bootstrap=True, total=  16.7s\n",
      "[CV] n_estimators=100, min_samples_split=5, min_samples_leaf=4, max_features=sqrt, max_depth=70, bootstrap=True \n",
      "[CV]  n_estimators=100, min_samples_split=5, min_samples_leaf=4, max_features=sqrt, max_depth=70, bootstrap=True, total=  16.8s\n",
      "[CV] n_estimators=100, min_samples_split=5, min_samples_leaf=4, max_features=sqrt, max_depth=70, bootstrap=True \n",
      "[CV]  n_estimators=100, min_samples_split=5, min_samples_leaf=4, max_features=sqrt, max_depth=70, bootstrap=True, total=  17.5s\n",
      "[CV] n_estimators=100, min_samples_split=5, min_samples_leaf=4, max_features=sqrt, max_depth=70, bootstrap=True \n",
      "[CV]  n_estimators=100, min_samples_split=5, min_samples_leaf=4, max_features=sqrt, max_depth=70, bootstrap=True, total=  17.5s\n",
      "[CV] n_estimators=100, min_samples_split=5, min_samples_leaf=4, max_features=sqrt, max_depth=70, bootstrap=True \n",
      "[CV]  n_estimators=100, min_samples_split=5, min_samples_leaf=4, max_features=sqrt, max_depth=70, bootstrap=True, total=  17.2s\n",
      "[CV] n_estimators=900, min_samples_split=5, min_samples_leaf=4, max_features=sqrt, max_depth=10, bootstrap=True \n",
      "[CV]  n_estimators=900, min_samples_split=5, min_samples_leaf=4, max_features=sqrt, max_depth=10, bootstrap=True, total= 1.7min\n",
      "[CV] n_estimators=900, min_samples_split=5, min_samples_leaf=4, max_features=sqrt, max_depth=10, bootstrap=True \n",
      "[CV]  n_estimators=900, min_samples_split=5, min_samples_leaf=4, max_features=sqrt, max_depth=10, bootstrap=True, total= 1.7min\n",
      "[CV] n_estimators=900, min_samples_split=5, min_samples_leaf=4, max_features=sqrt, max_depth=10, bootstrap=True \n",
      "[CV]  n_estimators=900, min_samples_split=5, min_samples_leaf=4, max_features=sqrt, max_depth=10, bootstrap=True, total= 1.7min\n",
      "[CV] n_estimators=900, min_samples_split=5, min_samples_leaf=4, max_features=sqrt, max_depth=10, bootstrap=True \n",
      "[CV]  n_estimators=900, min_samples_split=5, min_samples_leaf=4, max_features=sqrt, max_depth=10, bootstrap=True, total= 1.7min\n",
      "[CV] n_estimators=900, min_samples_split=5, min_samples_leaf=4, max_features=sqrt, max_depth=10, bootstrap=True \n",
      "[CV]  n_estimators=900, min_samples_split=5, min_samples_leaf=4, max_features=sqrt, max_depth=10, bootstrap=True, total= 1.8min\n",
      "[CV] n_estimators=700, min_samples_split=2, min_samples_leaf=4, max_features=auto, max_depth=55, bootstrap=True \n",
      "[CV]  n_estimators=700, min_samples_split=2, min_samples_leaf=4, max_features=auto, max_depth=55, bootstrap=True, total= 2.0min\n",
      "[CV] n_estimators=700, min_samples_split=2, min_samples_leaf=4, max_features=auto, max_depth=55, bootstrap=True \n",
      "[CV]  n_estimators=700, min_samples_split=2, min_samples_leaf=4, max_features=auto, max_depth=55, bootstrap=True, total= 2.0min\n",
      "[CV] n_estimators=700, min_samples_split=2, min_samples_leaf=4, max_features=auto, max_depth=55, bootstrap=True \n",
      "[CV]  n_estimators=700, min_samples_split=2, min_samples_leaf=4, max_features=auto, max_depth=55, bootstrap=True, total= 2.0min\n",
      "[CV] n_estimators=700, min_samples_split=2, min_samples_leaf=4, max_features=auto, max_depth=55, bootstrap=True \n",
      "[CV]  n_estimators=700, min_samples_split=2, min_samples_leaf=4, max_features=auto, max_depth=55, bootstrap=True, total= 2.0min\n",
      "[CV] n_estimators=700, min_samples_split=2, min_samples_leaf=4, max_features=auto, max_depth=55, bootstrap=True \n",
      "[CV]  n_estimators=700, min_samples_split=2, min_samples_leaf=4, max_features=auto, max_depth=55, bootstrap=True, total= 2.0min\n",
      "[CV] n_estimators=700, min_samples_split=2, min_samples_leaf=2, max_features=sqrt, max_depth=25, bootstrap=False \n",
      "[CV]  n_estimators=700, min_samples_split=2, min_samples_leaf=2, max_features=sqrt, max_depth=25, bootstrap=False, total= 3.2min\n",
      "[CV] n_estimators=700, min_samples_split=2, min_samples_leaf=2, max_features=sqrt, max_depth=25, bootstrap=False \n",
      "[CV]  n_estimators=700, min_samples_split=2, min_samples_leaf=2, max_features=sqrt, max_depth=25, bootstrap=False, total= 3.2min\n",
      "[CV] n_estimators=700, min_samples_split=2, min_samples_leaf=2, max_features=sqrt, max_depth=25, bootstrap=False \n",
      "[CV]  n_estimators=700, min_samples_split=2, min_samples_leaf=2, max_features=sqrt, max_depth=25, bootstrap=False, total= 3.3min\n",
      "[CV] n_estimators=700, min_samples_split=2, min_samples_leaf=2, max_features=sqrt, max_depth=25, bootstrap=False \n",
      "[CV]  n_estimators=700, min_samples_split=2, min_samples_leaf=2, max_features=sqrt, max_depth=25, bootstrap=False, total= 3.3min\n",
      "[CV] n_estimators=700, min_samples_split=2, min_samples_leaf=2, max_features=sqrt, max_depth=25, bootstrap=False \n",
      "[CV]  n_estimators=700, min_samples_split=2, min_samples_leaf=2, max_features=sqrt, max_depth=25, bootstrap=False, total= 3.4min\n",
      "[CV] n_estimators=100, min_samples_split=5, min_samples_leaf=2, max_features=auto, max_depth=25, bootstrap=True \n",
      "[CV]  n_estimators=100, min_samples_split=5, min_samples_leaf=2, max_features=auto, max_depth=25, bootstrap=True, total=  16.8s\n",
      "[CV] n_estimators=100, min_samples_split=5, min_samples_leaf=2, max_features=auto, max_depth=25, bootstrap=True \n",
      "[CV]  n_estimators=100, min_samples_split=5, min_samples_leaf=2, max_features=auto, max_depth=25, bootstrap=True, total=  16.7s\n",
      "[CV] n_estimators=100, min_samples_split=5, min_samples_leaf=2, max_features=auto, max_depth=25, bootstrap=True \n",
      "[CV]  n_estimators=100, min_samples_split=5, min_samples_leaf=2, max_features=auto, max_depth=25, bootstrap=True, total=  16.8s\n",
      "[CV] n_estimators=100, min_samples_split=5, min_samples_leaf=2, max_features=auto, max_depth=25, bootstrap=True \n",
      "[CV]  n_estimators=100, min_samples_split=5, min_samples_leaf=2, max_features=auto, max_depth=25, bootstrap=True, total=  16.5s\n",
      "[CV] n_estimators=100, min_samples_split=5, min_samples_leaf=2, max_features=auto, max_depth=25, bootstrap=True \n",
      "[CV]  n_estimators=100, min_samples_split=5, min_samples_leaf=2, max_features=auto, max_depth=25, bootstrap=True, total=  17.8s\n",
      "[CV] n_estimators=700, min_samples_split=2, min_samples_leaf=2, max_features=auto, max_depth=25, bootstrap=True \n",
      "[CV]  n_estimators=700, min_samples_split=2, min_samples_leaf=2, max_features=auto, max_depth=25, bootstrap=True, total= 1.9min\n",
      "[CV] n_estimators=700, min_samples_split=2, min_samples_leaf=2, max_features=auto, max_depth=25, bootstrap=True \n",
      "[CV]  n_estimators=700, min_samples_split=2, min_samples_leaf=2, max_features=auto, max_depth=25, bootstrap=True, total= 2.0min\n",
      "[CV] n_estimators=700, min_samples_split=2, min_samples_leaf=2, max_features=auto, max_depth=25, bootstrap=True \n",
      "[CV]  n_estimators=700, min_samples_split=2, min_samples_leaf=2, max_features=auto, max_depth=25, bootstrap=True, total= 1.9min\n",
      "[CV] n_estimators=700, min_samples_split=2, min_samples_leaf=2, max_features=auto, max_depth=25, bootstrap=True \n",
      "[CV]  n_estimators=700, min_samples_split=2, min_samples_leaf=2, max_features=auto, max_depth=25, bootstrap=True, total= 2.0min\n",
      "[CV] n_estimators=700, min_samples_split=2, min_samples_leaf=2, max_features=auto, max_depth=25, bootstrap=True \n",
      "[CV]  n_estimators=700, min_samples_split=2, min_samples_leaf=2, max_features=auto, max_depth=25, bootstrap=True, total= 2.0min\n",
      "[CV] n_estimators=100, min_samples_split=10, min_samples_leaf=4, max_features=auto, max_depth=40, bootstrap=True \n"
     ]
    },
    {
     "name": "stdout",
     "output_type": "stream",
     "text": [
      "[CV]  n_estimators=100, min_samples_split=10, min_samples_leaf=4, max_features=auto, max_depth=40, bootstrap=True, total=  16.3s\n",
      "[CV] n_estimators=100, min_samples_split=10, min_samples_leaf=4, max_features=auto, max_depth=40, bootstrap=True \n",
      "[CV]  n_estimators=100, min_samples_split=10, min_samples_leaf=4, max_features=auto, max_depth=40, bootstrap=True, total=  17.0s\n",
      "[CV] n_estimators=100, min_samples_split=10, min_samples_leaf=4, max_features=auto, max_depth=40, bootstrap=True \n",
      "[CV]  n_estimators=100, min_samples_split=10, min_samples_leaf=4, max_features=auto, max_depth=40, bootstrap=True, total=  16.4s\n",
      "[CV] n_estimators=100, min_samples_split=10, min_samples_leaf=4, max_features=auto, max_depth=40, bootstrap=True \n",
      "[CV]  n_estimators=100, min_samples_split=10, min_samples_leaf=4, max_features=auto, max_depth=40, bootstrap=True, total=  16.7s\n",
      "[CV] n_estimators=100, min_samples_split=10, min_samples_leaf=4, max_features=auto, max_depth=40, bootstrap=True \n",
      "[CV]  n_estimators=100, min_samples_split=10, min_samples_leaf=4, max_features=auto, max_depth=40, bootstrap=True, total=  16.6s\n",
      "[CV] n_estimators=500, min_samples_split=5, min_samples_leaf=4, max_features=sqrt, max_depth=70, bootstrap=True \n",
      "[CV]  n_estimators=500, min_samples_split=5, min_samples_leaf=4, max_features=sqrt, max_depth=70, bootstrap=True, total= 1.4min\n",
      "[CV] n_estimators=500, min_samples_split=5, min_samples_leaf=4, max_features=sqrt, max_depth=70, bootstrap=True \n",
      "[CV]  n_estimators=500, min_samples_split=5, min_samples_leaf=4, max_features=sqrt, max_depth=70, bootstrap=True, total= 1.4min\n",
      "[CV] n_estimators=500, min_samples_split=5, min_samples_leaf=4, max_features=sqrt, max_depth=70, bootstrap=True \n",
      "[CV]  n_estimators=500, min_samples_split=5, min_samples_leaf=4, max_features=sqrt, max_depth=70, bootstrap=True, total= 1.4min\n",
      "[CV] n_estimators=500, min_samples_split=5, min_samples_leaf=4, max_features=sqrt, max_depth=70, bootstrap=True \n",
      "[CV]  n_estimators=500, min_samples_split=5, min_samples_leaf=4, max_features=sqrt, max_depth=70, bootstrap=True, total= 1.4min\n",
      "[CV] n_estimators=500, min_samples_split=5, min_samples_leaf=4, max_features=sqrt, max_depth=70, bootstrap=True \n",
      "[CV]  n_estimators=500, min_samples_split=5, min_samples_leaf=4, max_features=sqrt, max_depth=70, bootstrap=True, total= 1.4min\n",
      "[CV] n_estimators=100, min_samples_split=2, min_samples_leaf=2, max_features=sqrt, max_depth=10, bootstrap=False \n",
      "[CV]  n_estimators=100, min_samples_split=2, min_samples_leaf=2, max_features=sqrt, max_depth=10, bootstrap=False, total=  18.4s\n",
      "[CV] n_estimators=100, min_samples_split=2, min_samples_leaf=2, max_features=sqrt, max_depth=10, bootstrap=False \n",
      "[CV]  n_estimators=100, min_samples_split=2, min_samples_leaf=2, max_features=sqrt, max_depth=10, bootstrap=False, total=  18.7s\n",
      "[CV] n_estimators=100, min_samples_split=2, min_samples_leaf=2, max_features=sqrt, max_depth=10, bootstrap=False \n",
      "[CV]  n_estimators=100, min_samples_split=2, min_samples_leaf=2, max_features=sqrt, max_depth=10, bootstrap=False, total=  20.1s\n",
      "[CV] n_estimators=100, min_samples_split=2, min_samples_leaf=2, max_features=sqrt, max_depth=10, bootstrap=False \n",
      "[CV]  n_estimators=100, min_samples_split=2, min_samples_leaf=2, max_features=sqrt, max_depth=10, bootstrap=False, total=  19.0s\n",
      "[CV] n_estimators=100, min_samples_split=2, min_samples_leaf=2, max_features=sqrt, max_depth=10, bootstrap=False \n",
      "[CV]  n_estimators=100, min_samples_split=2, min_samples_leaf=2, max_features=sqrt, max_depth=10, bootstrap=False, total=  20.8s\n",
      "[CV] n_estimators=300, min_samples_split=2, min_samples_leaf=4, max_features=sqrt, max_depth=None, bootstrap=False \n",
      "[CV]  n_estimators=300, min_samples_split=2, min_samples_leaf=4, max_features=sqrt, max_depth=None, bootstrap=False, total= 1.5min\n",
      "[CV] n_estimators=300, min_samples_split=2, min_samples_leaf=4, max_features=sqrt, max_depth=None, bootstrap=False \n",
      "[CV]  n_estimators=300, min_samples_split=2, min_samples_leaf=4, max_features=sqrt, max_depth=None, bootstrap=False, total= 1.6min\n",
      "[CV] n_estimators=300, min_samples_split=2, min_samples_leaf=4, max_features=sqrt, max_depth=None, bootstrap=False \n",
      "[CV]  n_estimators=300, min_samples_split=2, min_samples_leaf=4, max_features=sqrt, max_depth=None, bootstrap=False, total= 1.6min\n",
      "[CV] n_estimators=300, min_samples_split=2, min_samples_leaf=4, max_features=sqrt, max_depth=None, bootstrap=False \n",
      "[CV]  n_estimators=300, min_samples_split=2, min_samples_leaf=4, max_features=sqrt, max_depth=None, bootstrap=False, total= 1.5min\n",
      "[CV] n_estimators=300, min_samples_split=2, min_samples_leaf=4, max_features=sqrt, max_depth=None, bootstrap=False \n",
      "[CV]  n_estimators=300, min_samples_split=2, min_samples_leaf=4, max_features=sqrt, max_depth=None, bootstrap=False, total= 1.6min\n",
      "[CV] n_estimators=700, min_samples_split=10, min_samples_leaf=4, max_features=auto, max_depth=25, bootstrap=False \n",
      "[CV]  n_estimators=700, min_samples_split=10, min_samples_leaf=4, max_features=auto, max_depth=25, bootstrap=False, total= 3.1min\n",
      "[CV] n_estimators=700, min_samples_split=10, min_samples_leaf=4, max_features=auto, max_depth=25, bootstrap=False \n",
      "[CV]  n_estimators=700, min_samples_split=10, min_samples_leaf=4, max_features=auto, max_depth=25, bootstrap=False, total= 3.2min\n",
      "[CV] n_estimators=700, min_samples_split=10, min_samples_leaf=4, max_features=auto, max_depth=25, bootstrap=False \n",
      "[CV]  n_estimators=700, min_samples_split=10, min_samples_leaf=4, max_features=auto, max_depth=25, bootstrap=False, total= 3.2min\n",
      "[CV] n_estimators=700, min_samples_split=10, min_samples_leaf=4, max_features=auto, max_depth=25, bootstrap=False \n",
      "[CV]  n_estimators=700, min_samples_split=10, min_samples_leaf=4, max_features=auto, max_depth=25, bootstrap=False, total= 3.2min\n",
      "[CV] n_estimators=700, min_samples_split=10, min_samples_leaf=4, max_features=auto, max_depth=25, bootstrap=False \n",
      "[CV]  n_estimators=700, min_samples_split=10, min_samples_leaf=4, max_features=auto, max_depth=25, bootstrap=False, total= 3.5min\n",
      "[CV] n_estimators=900, min_samples_split=5, min_samples_leaf=2, max_features=sqrt, max_depth=10, bootstrap=True \n",
      "[CV]  n_estimators=900, min_samples_split=5, min_samples_leaf=2, max_features=sqrt, max_depth=10, bootstrap=True, total= 1.9min\n",
      "[CV] n_estimators=900, min_samples_split=5, min_samples_leaf=2, max_features=sqrt, max_depth=10, bootstrap=True \n",
      "[CV]  n_estimators=900, min_samples_split=5, min_samples_leaf=2, max_features=sqrt, max_depth=10, bootstrap=True, total= 1.9min\n",
      "[CV] n_estimators=900, min_samples_split=5, min_samples_leaf=2, max_features=sqrt, max_depth=10, bootstrap=True \n",
      "[CV]  n_estimators=900, min_samples_split=5, min_samples_leaf=2, max_features=sqrt, max_depth=10, bootstrap=True, total= 1.9min\n",
      "[CV] n_estimators=900, min_samples_split=5, min_samples_leaf=2, max_features=sqrt, max_depth=10, bootstrap=True \n",
      "[CV]  n_estimators=900, min_samples_split=5, min_samples_leaf=2, max_features=sqrt, max_depth=10, bootstrap=True, total= 1.9min\n",
      "[CV] n_estimators=900, min_samples_split=5, min_samples_leaf=2, max_features=sqrt, max_depth=10, bootstrap=True \n",
      "[CV]  n_estimators=900, min_samples_split=5, min_samples_leaf=2, max_features=sqrt, max_depth=10, bootstrap=True, total= 2.0min\n",
      "[CV] n_estimators=300, min_samples_split=10, min_samples_leaf=2, max_features=sqrt, max_depth=25, bootstrap=True \n",
      "[CV]  n_estimators=300, min_samples_split=10, min_samples_leaf=2, max_features=sqrt, max_depth=25, bootstrap=True, total=  53.6s\n",
      "[CV] n_estimators=300, min_samples_split=10, min_samples_leaf=2, max_features=sqrt, max_depth=25, bootstrap=True \n",
      "[CV]  n_estimators=300, min_samples_split=10, min_samples_leaf=2, max_features=sqrt, max_depth=25, bootstrap=True, total=  54.4s\n",
      "[CV] n_estimators=300, min_samples_split=10, min_samples_leaf=2, max_features=sqrt, max_depth=25, bootstrap=True \n",
      "[CV]  n_estimators=300, min_samples_split=10, min_samples_leaf=2, max_features=sqrt, max_depth=25, bootstrap=True, total=  54.5s\n",
      "[CV] n_estimators=300, min_samples_split=10, min_samples_leaf=2, max_features=sqrt, max_depth=25, bootstrap=True \n",
      "[CV]  n_estimators=300, min_samples_split=10, min_samples_leaf=2, max_features=sqrt, max_depth=25, bootstrap=True, total=  54.2s\n",
      "[CV] n_estimators=300, min_samples_split=10, min_samples_leaf=2, max_features=sqrt, max_depth=25, bootstrap=True \n"
     ]
    },
    {
     "name": "stdout",
     "output_type": "stream",
     "text": [
      "[CV]  n_estimators=300, min_samples_split=10, min_samples_leaf=2, max_features=sqrt, max_depth=25, bootstrap=True, total=  54.8s\n",
      "[CV] n_estimators=100, min_samples_split=10, min_samples_leaf=2, max_features=auto, max_depth=25, bootstrap=False \n",
      "[CV]  n_estimators=100, min_samples_split=10, min_samples_leaf=2, max_features=auto, max_depth=25, bootstrap=False, total=  29.3s\n",
      "[CV] n_estimators=100, min_samples_split=10, min_samples_leaf=2, max_features=auto, max_depth=25, bootstrap=False \n",
      "[CV]  n_estimators=100, min_samples_split=10, min_samples_leaf=2, max_features=auto, max_depth=25, bootstrap=False, total=  30.1s\n",
      "[CV] n_estimators=100, min_samples_split=10, min_samples_leaf=2, max_features=auto, max_depth=25, bootstrap=False \n",
      "[CV]  n_estimators=100, min_samples_split=10, min_samples_leaf=2, max_features=auto, max_depth=25, bootstrap=False, total=  30.6s\n",
      "[CV] n_estimators=100, min_samples_split=10, min_samples_leaf=2, max_features=auto, max_depth=25, bootstrap=False \n",
      "[CV]  n_estimators=100, min_samples_split=10, min_samples_leaf=2, max_features=auto, max_depth=25, bootstrap=False, total=  30.5s\n",
      "[CV] n_estimators=100, min_samples_split=10, min_samples_leaf=2, max_features=auto, max_depth=25, bootstrap=False \n",
      "[CV]  n_estimators=100, min_samples_split=10, min_samples_leaf=2, max_features=auto, max_depth=25, bootstrap=False, total=  31.9s\n",
      "[CV] n_estimators=700, min_samples_split=10, min_samples_leaf=4, max_features=auto, max_depth=None, bootstrap=True \n",
      "[CV]  n_estimators=700, min_samples_split=10, min_samples_leaf=4, max_features=auto, max_depth=None, bootstrap=True, total= 2.0min\n",
      "[CV] n_estimators=700, min_samples_split=10, min_samples_leaf=4, max_features=auto, max_depth=None, bootstrap=True \n",
      "[CV]  n_estimators=700, min_samples_split=10, min_samples_leaf=4, max_features=auto, max_depth=None, bootstrap=True, total= 2.1min\n",
      "[CV] n_estimators=700, min_samples_split=10, min_samples_leaf=4, max_features=auto, max_depth=None, bootstrap=True \n",
      "[CV]  n_estimators=700, min_samples_split=10, min_samples_leaf=4, max_features=auto, max_depth=None, bootstrap=True, total= 2.1min\n",
      "[CV] n_estimators=700, min_samples_split=10, min_samples_leaf=4, max_features=auto, max_depth=None, bootstrap=True \n",
      "[CV]  n_estimators=700, min_samples_split=10, min_samples_leaf=4, max_features=auto, max_depth=None, bootstrap=True, total= 2.0min\n",
      "[CV] n_estimators=700, min_samples_split=10, min_samples_leaf=4, max_features=auto, max_depth=None, bootstrap=True \n",
      "[CV]  n_estimators=700, min_samples_split=10, min_samples_leaf=4, max_features=auto, max_depth=None, bootstrap=True, total= 2.0min\n",
      "[CV] n_estimators=300, min_samples_split=10, min_samples_leaf=4, max_features=auto, max_depth=25, bootstrap=True \n",
      "[CV]  n_estimators=300, min_samples_split=10, min_samples_leaf=4, max_features=auto, max_depth=25, bootstrap=True, total=  48.7s\n",
      "[CV] n_estimators=300, min_samples_split=10, min_samples_leaf=4, max_features=auto, max_depth=25, bootstrap=True \n",
      "[CV]  n_estimators=300, min_samples_split=10, min_samples_leaf=4, max_features=auto, max_depth=25, bootstrap=True, total=  50.0s\n",
      "[CV] n_estimators=300, min_samples_split=10, min_samples_leaf=4, max_features=auto, max_depth=25, bootstrap=True \n",
      "[CV]  n_estimators=300, min_samples_split=10, min_samples_leaf=4, max_features=auto, max_depth=25, bootstrap=True, total=  48.4s\n",
      "[CV] n_estimators=300, min_samples_split=10, min_samples_leaf=4, max_features=auto, max_depth=25, bootstrap=True \n",
      "[CV]  n_estimators=300, min_samples_split=10, min_samples_leaf=4, max_features=auto, max_depth=25, bootstrap=True, total=  49.1s\n",
      "[CV] n_estimators=300, min_samples_split=10, min_samples_leaf=4, max_features=auto, max_depth=25, bootstrap=True \n",
      "[CV]  n_estimators=300, min_samples_split=10, min_samples_leaf=4, max_features=auto, max_depth=25, bootstrap=True, total=  49.2s\n",
      "[CV] n_estimators=500, min_samples_split=10, min_samples_leaf=4, max_features=auto, max_depth=70, bootstrap=False \n",
      "[CV]  n_estimators=500, min_samples_split=10, min_samples_leaf=4, max_features=auto, max_depth=70, bootstrap=False, total= 2.5min\n",
      "[CV] n_estimators=500, min_samples_split=10, min_samples_leaf=4, max_features=auto, max_depth=70, bootstrap=False \n",
      "[CV]  n_estimators=500, min_samples_split=10, min_samples_leaf=4, max_features=auto, max_depth=70, bootstrap=False, total= 2.6min\n",
      "[CV] n_estimators=500, min_samples_split=10, min_samples_leaf=4, max_features=auto, max_depth=70, bootstrap=False \n",
      "[CV]  n_estimators=500, min_samples_split=10, min_samples_leaf=4, max_features=auto, max_depth=70, bootstrap=False, total= 2.6min\n",
      "[CV] n_estimators=500, min_samples_split=10, min_samples_leaf=4, max_features=auto, max_depth=70, bootstrap=False \n",
      "[CV]  n_estimators=500, min_samples_split=10, min_samples_leaf=4, max_features=auto, max_depth=70, bootstrap=False, total= 2.6min\n",
      "[CV] n_estimators=500, min_samples_split=10, min_samples_leaf=4, max_features=auto, max_depth=70, bootstrap=False \n",
      "[CV]  n_estimators=500, min_samples_split=10, min_samples_leaf=4, max_features=auto, max_depth=70, bootstrap=False, total= 2.5min\n",
      "[CV] n_estimators=900, min_samples_split=2, min_samples_leaf=4, max_features=auto, max_depth=70, bootstrap=True \n",
      "[CV]  n_estimators=900, min_samples_split=2, min_samples_leaf=4, max_features=auto, max_depth=70, bootstrap=True, total= 2.6min\n",
      "[CV] n_estimators=900, min_samples_split=2, min_samples_leaf=4, max_features=auto, max_depth=70, bootstrap=True \n",
      "[CV]  n_estimators=900, min_samples_split=2, min_samples_leaf=4, max_features=auto, max_depth=70, bootstrap=True, total= 2.6min\n",
      "[CV] n_estimators=900, min_samples_split=2, min_samples_leaf=4, max_features=auto, max_depth=70, bootstrap=True \n",
      "[CV]  n_estimators=900, min_samples_split=2, min_samples_leaf=4, max_features=auto, max_depth=70, bootstrap=True, total= 2.6min\n",
      "[CV] n_estimators=900, min_samples_split=2, min_samples_leaf=4, max_features=auto, max_depth=70, bootstrap=True \n",
      "[CV]  n_estimators=900, min_samples_split=2, min_samples_leaf=4, max_features=auto, max_depth=70, bootstrap=True, total= 2.6min\n",
      "[CV] n_estimators=900, min_samples_split=2, min_samples_leaf=4, max_features=auto, max_depth=70, bootstrap=True \n",
      "[CV]  n_estimators=900, min_samples_split=2, min_samples_leaf=4, max_features=auto, max_depth=70, bootstrap=True, total= 2.6min\n",
      "[CV] n_estimators=700, min_samples_split=2, min_samples_leaf=2, max_features=sqrt, max_depth=55, bootstrap=True \n",
      "[CV]  n_estimators=700, min_samples_split=2, min_samples_leaf=2, max_features=sqrt, max_depth=55, bootstrap=True, total= 2.2min\n",
      "[CV] n_estimators=700, min_samples_split=2, min_samples_leaf=2, max_features=sqrt, max_depth=55, bootstrap=True \n",
      "[CV]  n_estimators=700, min_samples_split=2, min_samples_leaf=2, max_features=sqrt, max_depth=55, bootstrap=True, total= 2.2min\n",
      "[CV] n_estimators=700, min_samples_split=2, min_samples_leaf=2, max_features=sqrt, max_depth=55, bootstrap=True \n",
      "[CV]  n_estimators=700, min_samples_split=2, min_samples_leaf=2, max_features=sqrt, max_depth=55, bootstrap=True, total= 2.2min\n",
      "[CV] n_estimators=700, min_samples_split=2, min_samples_leaf=2, max_features=sqrt, max_depth=55, bootstrap=True \n",
      "[CV]  n_estimators=700, min_samples_split=2, min_samples_leaf=2, max_features=sqrt, max_depth=55, bootstrap=True, total= 2.2min\n",
      "[CV] n_estimators=700, min_samples_split=2, min_samples_leaf=2, max_features=sqrt, max_depth=55, bootstrap=True \n",
      "[CV]  n_estimators=700, min_samples_split=2, min_samples_leaf=2, max_features=sqrt, max_depth=55, bootstrap=True, total= 2.2min\n",
      "[CV] n_estimators=300, min_samples_split=10, min_samples_leaf=4, max_features=auto, max_depth=25, bootstrap=False \n",
      "[CV]  n_estimators=300, min_samples_split=10, min_samples_leaf=4, max_features=auto, max_depth=25, bootstrap=False, total= 1.3min\n",
      "[CV] n_estimators=300, min_samples_split=10, min_samples_leaf=4, max_features=auto, max_depth=25, bootstrap=False \n",
      "[CV]  n_estimators=300, min_samples_split=10, min_samples_leaf=4, max_features=auto, max_depth=25, bootstrap=False, total= 1.3min\n",
      "[CV] n_estimators=300, min_samples_split=10, min_samples_leaf=4, max_features=auto, max_depth=25, bootstrap=False \n",
      "[CV]  n_estimators=300, min_samples_split=10, min_samples_leaf=4, max_features=auto, max_depth=25, bootstrap=False, total= 1.4min\n",
      "[CV] n_estimators=300, min_samples_split=10, min_samples_leaf=4, max_features=auto, max_depth=25, bootstrap=False \n"
     ]
    },
    {
     "name": "stdout",
     "output_type": "stream",
     "text": [
      "[CV]  n_estimators=300, min_samples_split=10, min_samples_leaf=4, max_features=auto, max_depth=25, bootstrap=False, total= 1.4min\n",
      "[CV] n_estimators=300, min_samples_split=10, min_samples_leaf=4, max_features=auto, max_depth=25, bootstrap=False \n",
      "[CV]  n_estimators=300, min_samples_split=10, min_samples_leaf=4, max_features=auto, max_depth=25, bootstrap=False, total= 1.4min\n",
      "[CV] n_estimators=500, min_samples_split=5, min_samples_leaf=2, max_features=auto, max_depth=10, bootstrap=False \n",
      "[CV]  n_estimators=500, min_samples_split=5, min_samples_leaf=2, max_features=auto, max_depth=10, bootstrap=False, total= 1.6min\n",
      "[CV] n_estimators=500, min_samples_split=5, min_samples_leaf=2, max_features=auto, max_depth=10, bootstrap=False \n",
      "[CV]  n_estimators=500, min_samples_split=5, min_samples_leaf=2, max_features=auto, max_depth=10, bootstrap=False, total= 1.6min\n",
      "[CV] n_estimators=500, min_samples_split=5, min_samples_leaf=2, max_features=auto, max_depth=10, bootstrap=False \n",
      "[CV]  n_estimators=500, min_samples_split=5, min_samples_leaf=2, max_features=auto, max_depth=10, bootstrap=False, total= 1.6min\n",
      "[CV] n_estimators=500, min_samples_split=5, min_samples_leaf=2, max_features=auto, max_depth=10, bootstrap=False \n",
      "[CV]  n_estimators=500, min_samples_split=5, min_samples_leaf=2, max_features=auto, max_depth=10, bootstrap=False, total= 1.6min\n",
      "[CV] n_estimators=500, min_samples_split=5, min_samples_leaf=2, max_features=auto, max_depth=10, bootstrap=False \n",
      "[CV]  n_estimators=500, min_samples_split=5, min_samples_leaf=2, max_features=auto, max_depth=10, bootstrap=False, total= 1.7min\n",
      "[CV] n_estimators=700, min_samples_split=2, min_samples_leaf=2, max_features=sqrt, max_depth=10, bootstrap=True \n",
      "[CV]  n_estimators=700, min_samples_split=2, min_samples_leaf=2, max_features=sqrt, max_depth=10, bootstrap=True, total= 1.4min\n",
      "[CV] n_estimators=700, min_samples_split=2, min_samples_leaf=2, max_features=sqrt, max_depth=10, bootstrap=True \n",
      "[CV]  n_estimators=700, min_samples_split=2, min_samples_leaf=2, max_features=sqrt, max_depth=10, bootstrap=True, total= 1.4min\n",
      "[CV] n_estimators=700, min_samples_split=2, min_samples_leaf=2, max_features=sqrt, max_depth=10, bootstrap=True \n",
      "[CV]  n_estimators=700, min_samples_split=2, min_samples_leaf=2, max_features=sqrt, max_depth=10, bootstrap=True, total= 1.4min\n",
      "[CV] n_estimators=700, min_samples_split=2, min_samples_leaf=2, max_features=sqrt, max_depth=10, bootstrap=True \n",
      "[CV]  n_estimators=700, min_samples_split=2, min_samples_leaf=2, max_features=sqrt, max_depth=10, bootstrap=True, total= 1.4min\n",
      "[CV] n_estimators=700, min_samples_split=2, min_samples_leaf=2, max_features=sqrt, max_depth=10, bootstrap=True \n",
      "[CV]  n_estimators=700, min_samples_split=2, min_samples_leaf=2, max_features=sqrt, max_depth=10, bootstrap=True, total= 1.4min\n",
      "[CV] n_estimators=300, min_samples_split=10, min_samples_leaf=4, max_features=auto, max_depth=None, bootstrap=False \n",
      "[CV]  n_estimators=300, min_samples_split=10, min_samples_leaf=4, max_features=auto, max_depth=None, bootstrap=False, total= 1.4min\n",
      "[CV] n_estimators=300, min_samples_split=10, min_samples_leaf=4, max_features=auto, max_depth=None, bootstrap=False \n",
      "[CV]  n_estimators=300, min_samples_split=10, min_samples_leaf=4, max_features=auto, max_depth=None, bootstrap=False, total= 1.5min\n",
      "[CV] n_estimators=300, min_samples_split=10, min_samples_leaf=4, max_features=auto, max_depth=None, bootstrap=False \n",
      "[CV]  n_estimators=300, min_samples_split=10, min_samples_leaf=4, max_features=auto, max_depth=None, bootstrap=False, total= 1.5min\n",
      "[CV] n_estimators=300, min_samples_split=10, min_samples_leaf=4, max_features=auto, max_depth=None, bootstrap=False \n",
      "[CV]  n_estimators=300, min_samples_split=10, min_samples_leaf=4, max_features=auto, max_depth=None, bootstrap=False, total= 1.5min\n",
      "[CV] n_estimators=300, min_samples_split=10, min_samples_leaf=4, max_features=auto, max_depth=None, bootstrap=False \n",
      "[CV]  n_estimators=300, min_samples_split=10, min_samples_leaf=4, max_features=auto, max_depth=None, bootstrap=False, total= 1.5min\n",
      "[CV] n_estimators=700, min_samples_split=10, min_samples_leaf=4, max_features=sqrt, max_depth=25, bootstrap=False \n",
      "[CV]  n_estimators=700, min_samples_split=10, min_samples_leaf=4, max_features=sqrt, max_depth=25, bootstrap=False, total= 3.1min\n",
      "[CV] n_estimators=700, min_samples_split=10, min_samples_leaf=4, max_features=sqrt, max_depth=25, bootstrap=False \n",
      "[CV]  n_estimators=700, min_samples_split=10, min_samples_leaf=4, max_features=sqrt, max_depth=25, bootstrap=False, total= 3.1min\n",
      "[CV] n_estimators=700, min_samples_split=10, min_samples_leaf=4, max_features=sqrt, max_depth=25, bootstrap=False \n",
      "[CV]  n_estimators=700, min_samples_split=10, min_samples_leaf=4, max_features=sqrt, max_depth=25, bootstrap=False, total= 3.1min\n",
      "[CV] n_estimators=700, min_samples_split=10, min_samples_leaf=4, max_features=sqrt, max_depth=25, bootstrap=False \n",
      "[CV]  n_estimators=700, min_samples_split=10, min_samples_leaf=4, max_features=sqrt, max_depth=25, bootstrap=False, total= 3.1min\n",
      "[CV] n_estimators=700, min_samples_split=10, min_samples_leaf=4, max_features=sqrt, max_depth=25, bootstrap=False \n",
      "[CV]  n_estimators=700, min_samples_split=10, min_samples_leaf=4, max_features=sqrt, max_depth=25, bootstrap=False, total= 3.2min\n",
      "[CV] n_estimators=700, min_samples_split=5, min_samples_leaf=4, max_features=auto, max_depth=None, bootstrap=True \n",
      "[CV]  n_estimators=700, min_samples_split=5, min_samples_leaf=4, max_features=auto, max_depth=None, bootstrap=True, total= 1.9min\n",
      "[CV] n_estimators=700, min_samples_split=5, min_samples_leaf=4, max_features=auto, max_depth=None, bootstrap=True \n",
      "[CV]  n_estimators=700, min_samples_split=5, min_samples_leaf=4, max_features=auto, max_depth=None, bootstrap=True, total= 1.9min\n",
      "[CV] n_estimators=700, min_samples_split=5, min_samples_leaf=4, max_features=auto, max_depth=None, bootstrap=True \n",
      "[CV]  n_estimators=700, min_samples_split=5, min_samples_leaf=4, max_features=auto, max_depth=None, bootstrap=True, total= 1.9min\n",
      "[CV] n_estimators=700, min_samples_split=5, min_samples_leaf=4, max_features=auto, max_depth=None, bootstrap=True \n",
      "[CV]  n_estimators=700, min_samples_split=5, min_samples_leaf=4, max_features=auto, max_depth=None, bootstrap=True, total= 2.0min\n",
      "[CV] n_estimators=700, min_samples_split=5, min_samples_leaf=4, max_features=auto, max_depth=None, bootstrap=True \n",
      "[CV]  n_estimators=700, min_samples_split=5, min_samples_leaf=4, max_features=auto, max_depth=None, bootstrap=True, total= 2.0min\n",
      "[CV] n_estimators=900, min_samples_split=10, min_samples_leaf=2, max_features=auto, max_depth=70, bootstrap=True \n",
      "[CV]  n_estimators=900, min_samples_split=10, min_samples_leaf=2, max_features=auto, max_depth=70, bootstrap=True, total= 2.7min\n",
      "[CV] n_estimators=900, min_samples_split=10, min_samples_leaf=2, max_features=auto, max_depth=70, bootstrap=True \n",
      "[CV]  n_estimators=900, min_samples_split=10, min_samples_leaf=2, max_features=auto, max_depth=70, bootstrap=True, total= 2.7min\n",
      "[CV] n_estimators=900, min_samples_split=10, min_samples_leaf=2, max_features=auto, max_depth=70, bootstrap=True \n",
      "[CV]  n_estimators=900, min_samples_split=10, min_samples_leaf=2, max_features=auto, max_depth=70, bootstrap=True, total= 2.7min\n",
      "[CV] n_estimators=900, min_samples_split=10, min_samples_leaf=2, max_features=auto, max_depth=70, bootstrap=True \n",
      "[CV]  n_estimators=900, min_samples_split=10, min_samples_leaf=2, max_features=auto, max_depth=70, bootstrap=True, total= 2.7min\n",
      "[CV] n_estimators=900, min_samples_split=10, min_samples_leaf=2, max_features=auto, max_depth=70, bootstrap=True \n",
      "[CV]  n_estimators=900, min_samples_split=10, min_samples_leaf=2, max_features=auto, max_depth=70, bootstrap=True, total= 2.7min\n",
      "[CV] n_estimators=100, min_samples_split=2, min_samples_leaf=2, max_features=sqrt, max_depth=55, bootstrap=True \n",
      "[CV]  n_estimators=100, min_samples_split=2, min_samples_leaf=2, max_features=sqrt, max_depth=55, bootstrap=True, total=  18.5s\n",
      "[CV] n_estimators=100, min_samples_split=2, min_samples_leaf=2, max_features=sqrt, max_depth=55, bootstrap=True \n",
      "[CV]  n_estimators=100, min_samples_split=2, min_samples_leaf=2, max_features=sqrt, max_depth=55, bootstrap=True, total=  18.2s\n",
      "[CV] n_estimators=100, min_samples_split=2, min_samples_leaf=2, max_features=sqrt, max_depth=55, bootstrap=True \n"
     ]
    },
    {
     "name": "stdout",
     "output_type": "stream",
     "text": [
      "[CV]  n_estimators=100, min_samples_split=2, min_samples_leaf=2, max_features=sqrt, max_depth=55, bootstrap=True, total=  19.0s\n",
      "[CV] n_estimators=100, min_samples_split=2, min_samples_leaf=2, max_features=sqrt, max_depth=55, bootstrap=True \n",
      "[CV]  n_estimators=100, min_samples_split=2, min_samples_leaf=2, max_features=sqrt, max_depth=55, bootstrap=True, total=  18.1s\n",
      "[CV] n_estimators=100, min_samples_split=2, min_samples_leaf=2, max_features=sqrt, max_depth=55, bootstrap=True \n",
      "[CV]  n_estimators=100, min_samples_split=2, min_samples_leaf=2, max_features=sqrt, max_depth=55, bootstrap=True, total=  18.7s\n",
      "[CV] n_estimators=100, min_samples_split=2, min_samples_leaf=2, max_features=auto, max_depth=40, bootstrap=True \n",
      "[CV]  n_estimators=100, min_samples_split=2, min_samples_leaf=2, max_features=auto, max_depth=40, bootstrap=True, total=  18.0s\n",
      "[CV] n_estimators=100, min_samples_split=2, min_samples_leaf=2, max_features=auto, max_depth=40, bootstrap=True \n",
      "[CV]  n_estimators=100, min_samples_split=2, min_samples_leaf=2, max_features=auto, max_depth=40, bootstrap=True, total=  18.8s\n",
      "[CV] n_estimators=100, min_samples_split=2, min_samples_leaf=2, max_features=auto, max_depth=40, bootstrap=True \n",
      "[CV]  n_estimators=100, min_samples_split=2, min_samples_leaf=2, max_features=auto, max_depth=40, bootstrap=True, total=  17.7s\n",
      "[CV] n_estimators=100, min_samples_split=2, min_samples_leaf=2, max_features=auto, max_depth=40, bootstrap=True \n",
      "[CV]  n_estimators=100, min_samples_split=2, min_samples_leaf=2, max_features=auto, max_depth=40, bootstrap=True, total=  18.2s\n",
      "[CV] n_estimators=100, min_samples_split=2, min_samples_leaf=2, max_features=auto, max_depth=40, bootstrap=True \n",
      "[CV]  n_estimators=100, min_samples_split=2, min_samples_leaf=2, max_features=auto, max_depth=40, bootstrap=True, total=  18.4s\n",
      "[CV] n_estimators=700, min_samples_split=10, min_samples_leaf=2, max_features=auto, max_depth=40, bootstrap=True \n",
      "[CV]  n_estimators=700, min_samples_split=10, min_samples_leaf=2, max_features=auto, max_depth=40, bootstrap=True, total= 2.0min\n",
      "[CV] n_estimators=700, min_samples_split=10, min_samples_leaf=2, max_features=auto, max_depth=40, bootstrap=True \n",
      "[CV]  n_estimators=700, min_samples_split=10, min_samples_leaf=2, max_features=auto, max_depth=40, bootstrap=True, total= 2.0min\n",
      "[CV] n_estimators=700, min_samples_split=10, min_samples_leaf=2, max_features=auto, max_depth=40, bootstrap=True \n",
      "[CV]  n_estimators=700, min_samples_split=10, min_samples_leaf=2, max_features=auto, max_depth=40, bootstrap=True, total= 2.0min\n",
      "[CV] n_estimators=700, min_samples_split=10, min_samples_leaf=2, max_features=auto, max_depth=40, bootstrap=True \n",
      "[CV]  n_estimators=700, min_samples_split=10, min_samples_leaf=2, max_features=auto, max_depth=40, bootstrap=True, total= 2.0min\n",
      "[CV] n_estimators=700, min_samples_split=10, min_samples_leaf=2, max_features=auto, max_depth=40, bootstrap=True \n",
      "[CV]  n_estimators=700, min_samples_split=10, min_samples_leaf=2, max_features=auto, max_depth=40, bootstrap=True, total= 2.1min\n",
      "[CV] n_estimators=500, min_samples_split=10, min_samples_leaf=4, max_features=sqrt, max_depth=10, bootstrap=False \n",
      "[CV]  n_estimators=500, min_samples_split=10, min_samples_leaf=4, max_features=sqrt, max_depth=10, bootstrap=False, total= 1.5min\n",
      "[CV] n_estimators=500, min_samples_split=10, min_samples_leaf=4, max_features=sqrt, max_depth=10, bootstrap=False \n",
      "[CV]  n_estimators=500, min_samples_split=10, min_samples_leaf=4, max_features=sqrt, max_depth=10, bootstrap=False, total= 1.4min\n",
      "[CV] n_estimators=500, min_samples_split=10, min_samples_leaf=4, max_features=sqrt, max_depth=10, bootstrap=False \n",
      "[CV]  n_estimators=500, min_samples_split=10, min_samples_leaf=4, max_features=sqrt, max_depth=10, bootstrap=False, total= 1.5min\n",
      "[CV] n_estimators=500, min_samples_split=10, min_samples_leaf=4, max_features=sqrt, max_depth=10, bootstrap=False \n",
      "[CV]  n_estimators=500, min_samples_split=10, min_samples_leaf=4, max_features=sqrt, max_depth=10, bootstrap=False, total= 1.5min\n",
      "[CV] n_estimators=500, min_samples_split=10, min_samples_leaf=4, max_features=sqrt, max_depth=10, bootstrap=False \n",
      "[CV]  n_estimators=500, min_samples_split=10, min_samples_leaf=4, max_features=sqrt, max_depth=10, bootstrap=False, total= 1.6min\n",
      "[CV] n_estimators=700, min_samples_split=2, min_samples_leaf=2, max_features=auto, max_depth=10, bootstrap=False \n",
      "[CV]  n_estimators=700, min_samples_split=2, min_samples_leaf=2, max_features=auto, max_depth=10, bootstrap=False, total= 2.1min\n",
      "[CV] n_estimators=700, min_samples_split=2, min_samples_leaf=2, max_features=auto, max_depth=10, bootstrap=False \n",
      "[CV]  n_estimators=700, min_samples_split=2, min_samples_leaf=2, max_features=auto, max_depth=10, bootstrap=False, total= 2.1min\n",
      "[CV] n_estimators=700, min_samples_split=2, min_samples_leaf=2, max_features=auto, max_depth=10, bootstrap=False \n",
      "[CV]  n_estimators=700, min_samples_split=2, min_samples_leaf=2, max_features=auto, max_depth=10, bootstrap=False, total= 2.1min\n",
      "[CV] n_estimators=700, min_samples_split=2, min_samples_leaf=2, max_features=auto, max_depth=10, bootstrap=False \n",
      "[CV]  n_estimators=700, min_samples_split=2, min_samples_leaf=2, max_features=auto, max_depth=10, bootstrap=False, total= 2.1min\n",
      "[CV] n_estimators=700, min_samples_split=2, min_samples_leaf=2, max_features=auto, max_depth=10, bootstrap=False \n",
      "[CV]  n_estimators=700, min_samples_split=2, min_samples_leaf=2, max_features=auto, max_depth=10, bootstrap=False, total= 2.2min\n",
      "[CV] n_estimators=300, min_samples_split=5, min_samples_leaf=2, max_features=sqrt, max_depth=None, bootstrap=True \n",
      "[CV]  n_estimators=300, min_samples_split=5, min_samples_leaf=2, max_features=sqrt, max_depth=None, bootstrap=True, total=  53.9s\n",
      "[CV] n_estimators=300, min_samples_split=5, min_samples_leaf=2, max_features=sqrt, max_depth=None, bootstrap=True \n",
      "[CV]  n_estimators=300, min_samples_split=5, min_samples_leaf=2, max_features=sqrt, max_depth=None, bootstrap=True, total=  55.1s\n",
      "[CV] n_estimators=300, min_samples_split=5, min_samples_leaf=2, max_features=sqrt, max_depth=None, bootstrap=True \n",
      "[CV]  n_estimators=300, min_samples_split=5, min_samples_leaf=2, max_features=sqrt, max_depth=None, bootstrap=True, total=  55.1s\n",
      "[CV] n_estimators=300, min_samples_split=5, min_samples_leaf=2, max_features=sqrt, max_depth=None, bootstrap=True \n",
      "[CV]  n_estimators=300, min_samples_split=5, min_samples_leaf=2, max_features=sqrt, max_depth=None, bootstrap=True, total=  54.4s\n",
      "[CV] n_estimators=300, min_samples_split=5, min_samples_leaf=2, max_features=sqrt, max_depth=None, bootstrap=True \n",
      "[CV]  n_estimators=300, min_samples_split=5, min_samples_leaf=2, max_features=sqrt, max_depth=None, bootstrap=True, total=  54.0s\n",
      "[CV] n_estimators=100, min_samples_split=2, min_samples_leaf=4, max_features=auto, max_depth=10, bootstrap=False \n",
      "[CV]  n_estimators=100, min_samples_split=2, min_samples_leaf=4, max_features=auto, max_depth=10, bootstrap=False, total=  18.2s\n",
      "[CV] n_estimators=100, min_samples_split=2, min_samples_leaf=4, max_features=auto, max_depth=10, bootstrap=False \n",
      "[CV]  n_estimators=100, min_samples_split=2, min_samples_leaf=4, max_features=auto, max_depth=10, bootstrap=False, total=  17.6s\n",
      "[CV] n_estimators=100, min_samples_split=2, min_samples_leaf=4, max_features=auto, max_depth=10, bootstrap=False \n",
      "[CV]  n_estimators=100, min_samples_split=2, min_samples_leaf=4, max_features=auto, max_depth=10, bootstrap=False, total=  17.9s\n",
      "[CV] n_estimators=100, min_samples_split=2, min_samples_leaf=4, max_features=auto, max_depth=10, bootstrap=False \n",
      "[CV]  n_estimators=100, min_samples_split=2, min_samples_leaf=4, max_features=auto, max_depth=10, bootstrap=False, total=  17.5s\n",
      "[CV] n_estimators=100, min_samples_split=2, min_samples_leaf=4, max_features=auto, max_depth=10, bootstrap=False \n",
      "[CV]  n_estimators=100, min_samples_split=2, min_samples_leaf=4, max_features=auto, max_depth=10, bootstrap=False, total=  18.7s\n",
      "[CV] n_estimators=300, min_samples_split=2, min_samples_leaf=2, max_features=sqrt, max_depth=55, bootstrap=False \n",
      "[CV]  n_estimators=300, min_samples_split=2, min_samples_leaf=2, max_features=sqrt, max_depth=55, bootstrap=False, total= 1.6min\n",
      "[CV] n_estimators=300, min_samples_split=2, min_samples_leaf=2, max_features=sqrt, max_depth=55, bootstrap=False \n"
     ]
    },
    {
     "name": "stdout",
     "output_type": "stream",
     "text": [
      "[CV]  n_estimators=300, min_samples_split=2, min_samples_leaf=2, max_features=sqrt, max_depth=55, bootstrap=False, total= 1.6min\n",
      "[CV] n_estimators=300, min_samples_split=2, min_samples_leaf=2, max_features=sqrt, max_depth=55, bootstrap=False \n",
      "[CV]  n_estimators=300, min_samples_split=2, min_samples_leaf=2, max_features=sqrt, max_depth=55, bootstrap=False, total= 1.6min\n",
      "[CV] n_estimators=300, min_samples_split=2, min_samples_leaf=2, max_features=sqrt, max_depth=55, bootstrap=False \n",
      "[CV]  n_estimators=300, min_samples_split=2, min_samples_leaf=2, max_features=sqrt, max_depth=55, bootstrap=False, total= 1.6min\n",
      "[CV] n_estimators=300, min_samples_split=2, min_samples_leaf=2, max_features=sqrt, max_depth=55, bootstrap=False \n",
      "[CV]  n_estimators=300, min_samples_split=2, min_samples_leaf=2, max_features=sqrt, max_depth=55, bootstrap=False, total= 1.6min\n",
      "[CV] n_estimators=300, min_samples_split=5, min_samples_leaf=2, max_features=sqrt, max_depth=70, bootstrap=False \n",
      "[CV]  n_estimators=300, min_samples_split=5, min_samples_leaf=2, max_features=sqrt, max_depth=70, bootstrap=False, total= 1.5min\n",
      "[CV] n_estimators=300, min_samples_split=5, min_samples_leaf=2, max_features=sqrt, max_depth=70, bootstrap=False \n",
      "[CV]  n_estimators=300, min_samples_split=5, min_samples_leaf=2, max_features=sqrt, max_depth=70, bootstrap=False, total= 1.6min\n",
      "[CV] n_estimators=300, min_samples_split=5, min_samples_leaf=2, max_features=sqrt, max_depth=70, bootstrap=False \n",
      "[CV]  n_estimators=300, min_samples_split=5, min_samples_leaf=2, max_features=sqrt, max_depth=70, bootstrap=False, total= 1.6min\n",
      "[CV] n_estimators=300, min_samples_split=5, min_samples_leaf=2, max_features=sqrt, max_depth=70, bootstrap=False \n",
      "[CV]  n_estimators=300, min_samples_split=5, min_samples_leaf=2, max_features=sqrt, max_depth=70, bootstrap=False, total= 1.6min\n",
      "[CV] n_estimators=300, min_samples_split=5, min_samples_leaf=2, max_features=sqrt, max_depth=70, bootstrap=False \n",
      "[CV]  n_estimators=300, min_samples_split=5, min_samples_leaf=2, max_features=sqrt, max_depth=70, bootstrap=False, total= 1.6min\n",
      "[CV] n_estimators=300, min_samples_split=10, min_samples_leaf=4, max_features=sqrt, max_depth=None, bootstrap=False \n",
      "[CV]  n_estimators=300, min_samples_split=10, min_samples_leaf=4, max_features=sqrt, max_depth=None, bootstrap=False, total= 1.4min\n",
      "[CV] n_estimators=300, min_samples_split=10, min_samples_leaf=4, max_features=sqrt, max_depth=None, bootstrap=False \n",
      "[CV]  n_estimators=300, min_samples_split=10, min_samples_leaf=4, max_features=sqrt, max_depth=None, bootstrap=False, total= 1.5min\n",
      "[CV] n_estimators=300, min_samples_split=10, min_samples_leaf=4, max_features=sqrt, max_depth=None, bootstrap=False \n",
      "[CV]  n_estimators=300, min_samples_split=10, min_samples_leaf=4, max_features=sqrt, max_depth=None, bootstrap=False, total= 1.5min\n",
      "[CV] n_estimators=300, min_samples_split=10, min_samples_leaf=4, max_features=sqrt, max_depth=None, bootstrap=False \n",
      "[CV]  n_estimators=300, min_samples_split=10, min_samples_leaf=4, max_features=sqrt, max_depth=None, bootstrap=False, total= 1.5min\n",
      "[CV] n_estimators=300, min_samples_split=10, min_samples_leaf=4, max_features=sqrt, max_depth=None, bootstrap=False \n",
      "[CV]  n_estimators=300, min_samples_split=10, min_samples_leaf=4, max_features=sqrt, max_depth=None, bootstrap=False, total= 1.5min\n",
      "[CV] n_estimators=900, min_samples_split=10, min_samples_leaf=4, max_features=auto, max_depth=55, bootstrap=False \n",
      "[CV]  n_estimators=900, min_samples_split=10, min_samples_leaf=4, max_features=auto, max_depth=55, bootstrap=False, total= 4.1min\n",
      "[CV] n_estimators=900, min_samples_split=10, min_samples_leaf=4, max_features=auto, max_depth=55, bootstrap=False \n",
      "[CV]  n_estimators=900, min_samples_split=10, min_samples_leaf=4, max_features=auto, max_depth=55, bootstrap=False, total= 4.4min\n",
      "[CV] n_estimators=900, min_samples_split=10, min_samples_leaf=4, max_features=auto, max_depth=55, bootstrap=False \n",
      "[CV]  n_estimators=900, min_samples_split=10, min_samples_leaf=4, max_features=auto, max_depth=55, bootstrap=False, total= 4.3min\n",
      "[CV] n_estimators=900, min_samples_split=10, min_samples_leaf=4, max_features=auto, max_depth=55, bootstrap=False \n",
      "[CV]  n_estimators=900, min_samples_split=10, min_samples_leaf=4, max_features=auto, max_depth=55, bootstrap=False, total= 4.4min\n",
      "[CV] n_estimators=900, min_samples_split=10, min_samples_leaf=4, max_features=auto, max_depth=55, bootstrap=False \n",
      "[CV]  n_estimators=900, min_samples_split=10, min_samples_leaf=4, max_features=auto, max_depth=55, bootstrap=False, total= 4.7min\n",
      "[CV] n_estimators=700, min_samples_split=10, min_samples_leaf=2, max_features=sqrt, max_depth=55, bootstrap=False \n",
      "[CV]  n_estimators=700, min_samples_split=10, min_samples_leaf=2, max_features=sqrt, max_depth=55, bootstrap=False, total= 3.8min\n",
      "[CV] n_estimators=700, min_samples_split=10, min_samples_leaf=2, max_features=sqrt, max_depth=55, bootstrap=False \n",
      "[CV]  n_estimators=700, min_samples_split=10, min_samples_leaf=2, max_features=sqrt, max_depth=55, bootstrap=False, total= 4.0min\n",
      "[CV] n_estimators=700, min_samples_split=10, min_samples_leaf=2, max_features=sqrt, max_depth=55, bootstrap=False \n",
      "[CV]  n_estimators=700, min_samples_split=10, min_samples_leaf=2, max_features=sqrt, max_depth=55, bootstrap=False, total= 4.0min\n",
      "[CV] n_estimators=700, min_samples_split=10, min_samples_leaf=2, max_features=sqrt, max_depth=55, bootstrap=False \n",
      "[CV]  n_estimators=700, min_samples_split=10, min_samples_leaf=2, max_features=sqrt, max_depth=55, bootstrap=False, total= 4.0min\n",
      "[CV] n_estimators=700, min_samples_split=10, min_samples_leaf=2, max_features=sqrt, max_depth=55, bootstrap=False \n",
      "[CV]  n_estimators=700, min_samples_split=10, min_samples_leaf=2, max_features=sqrt, max_depth=55, bootstrap=False, total= 4.0min\n",
      "[CV] n_estimators=700, min_samples_split=10, min_samples_leaf=2, max_features=auto, max_depth=40, bootstrap=False \n",
      "[CV]  n_estimators=700, min_samples_split=10, min_samples_leaf=2, max_features=auto, max_depth=40, bootstrap=False, total= 3.7min\n",
      "[CV] n_estimators=700, min_samples_split=10, min_samples_leaf=2, max_features=auto, max_depth=40, bootstrap=False \n",
      "[CV]  n_estimators=700, min_samples_split=10, min_samples_leaf=2, max_features=auto, max_depth=40, bootstrap=False, total= 3.8min\n",
      "[CV] n_estimators=700, min_samples_split=10, min_samples_leaf=2, max_features=auto, max_depth=40, bootstrap=False \n",
      "[CV]  n_estimators=700, min_samples_split=10, min_samples_leaf=2, max_features=auto, max_depth=40, bootstrap=False, total= 3.8min\n",
      "[CV] n_estimators=700, min_samples_split=10, min_samples_leaf=2, max_features=auto, max_depth=40, bootstrap=False \n",
      "[CV]  n_estimators=700, min_samples_split=10, min_samples_leaf=2, max_features=auto, max_depth=40, bootstrap=False, total= 3.9min\n",
      "[CV] n_estimators=700, min_samples_split=10, min_samples_leaf=2, max_features=auto, max_depth=40, bootstrap=False \n",
      "[CV]  n_estimators=700, min_samples_split=10, min_samples_leaf=2, max_features=auto, max_depth=40, bootstrap=False, total= 3.9min\n",
      "[CV] n_estimators=100, min_samples_split=2, min_samples_leaf=2, max_features=auto, max_depth=None, bootstrap=True \n",
      "[CV]  n_estimators=100, min_samples_split=2, min_samples_leaf=2, max_features=auto, max_depth=None, bootstrap=True, total=  19.2s\n",
      "[CV] n_estimators=100, min_samples_split=2, min_samples_leaf=2, max_features=auto, max_depth=None, bootstrap=True \n",
      "[CV]  n_estimators=100, min_samples_split=2, min_samples_leaf=2, max_features=auto, max_depth=None, bootstrap=True, total=  20.2s\n",
      "[CV] n_estimators=100, min_samples_split=2, min_samples_leaf=2, max_features=auto, max_depth=None, bootstrap=True \n",
      "[CV]  n_estimators=100, min_samples_split=2, min_samples_leaf=2, max_features=auto, max_depth=None, bootstrap=True, total=  19.5s\n",
      "[CV] n_estimators=100, min_samples_split=2, min_samples_leaf=2, max_features=auto, max_depth=None, bootstrap=True \n",
      "[CV]  n_estimators=100, min_samples_split=2, min_samples_leaf=2, max_features=auto, max_depth=None, bootstrap=True, total=  19.6s\n",
      "[CV] n_estimators=100, min_samples_split=2, min_samples_leaf=2, max_features=auto, max_depth=None, bootstrap=True \n",
      "[CV]  n_estimators=100, min_samples_split=2, min_samples_leaf=2, max_features=auto, max_depth=None, bootstrap=True, total=  19.2s\n",
      "[CV] n_estimators=100, min_samples_split=2, min_samples_leaf=4, max_features=auto, max_depth=40, bootstrap=True \n"
     ]
    },
    {
     "name": "stdout",
     "output_type": "stream",
     "text": [
      "[CV]  n_estimators=100, min_samples_split=2, min_samples_leaf=4, max_features=auto, max_depth=40, bootstrap=True, total=  18.0s\n",
      "[CV] n_estimators=100, min_samples_split=2, min_samples_leaf=4, max_features=auto, max_depth=40, bootstrap=True \n",
      "[CV]  n_estimators=100, min_samples_split=2, min_samples_leaf=4, max_features=auto, max_depth=40, bootstrap=True, total=  18.5s\n",
      "[CV] n_estimators=100, min_samples_split=2, min_samples_leaf=4, max_features=auto, max_depth=40, bootstrap=True \n",
      "[CV]  n_estimators=100, min_samples_split=2, min_samples_leaf=4, max_features=auto, max_depth=40, bootstrap=True, total=  17.9s\n",
      "[CV] n_estimators=100, min_samples_split=2, min_samples_leaf=4, max_features=auto, max_depth=40, bootstrap=True \n",
      "[CV]  n_estimators=100, min_samples_split=2, min_samples_leaf=4, max_features=auto, max_depth=40, bootstrap=True, total=  17.1s\n",
      "[CV] n_estimators=100, min_samples_split=2, min_samples_leaf=4, max_features=auto, max_depth=40, bootstrap=True \n",
      "[CV]  n_estimators=100, min_samples_split=2, min_samples_leaf=4, max_features=auto, max_depth=40, bootstrap=True, total=  17.8s\n",
      "[CV] n_estimators=900, min_samples_split=2, min_samples_leaf=4, max_features=sqrt, max_depth=10, bootstrap=True \n",
      "[CV]  n_estimators=900, min_samples_split=2, min_samples_leaf=4, max_features=sqrt, max_depth=10, bootstrap=True, total= 1.8min\n",
      "[CV] n_estimators=900, min_samples_split=2, min_samples_leaf=4, max_features=sqrt, max_depth=10, bootstrap=True \n",
      "[CV]  n_estimators=900, min_samples_split=2, min_samples_leaf=4, max_features=sqrt, max_depth=10, bootstrap=True, total= 1.8min\n",
      "[CV] n_estimators=900, min_samples_split=2, min_samples_leaf=4, max_features=sqrt, max_depth=10, bootstrap=True \n",
      "[CV]  n_estimators=900, min_samples_split=2, min_samples_leaf=4, max_features=sqrt, max_depth=10, bootstrap=True, total= 1.7min\n",
      "[CV] n_estimators=900, min_samples_split=2, min_samples_leaf=4, max_features=sqrt, max_depth=10, bootstrap=True \n",
      "[CV]  n_estimators=900, min_samples_split=2, min_samples_leaf=4, max_features=sqrt, max_depth=10, bootstrap=True, total= 1.7min\n",
      "[CV] n_estimators=900, min_samples_split=2, min_samples_leaf=4, max_features=sqrt, max_depth=10, bootstrap=True \n",
      "[CV]  n_estimators=900, min_samples_split=2, min_samples_leaf=4, max_features=sqrt, max_depth=10, bootstrap=True, total= 1.7min\n",
      "[CV] n_estimators=500, min_samples_split=5, min_samples_leaf=4, max_features=sqrt, max_depth=None, bootstrap=False \n",
      "[CV]  n_estimators=500, min_samples_split=5, min_samples_leaf=4, max_features=sqrt, max_depth=None, bootstrap=False, total= 2.3min\n",
      "[CV] n_estimators=500, min_samples_split=5, min_samples_leaf=4, max_features=sqrt, max_depth=None, bootstrap=False \n",
      "[CV]  n_estimators=500, min_samples_split=5, min_samples_leaf=4, max_features=sqrt, max_depth=None, bootstrap=False, total= 2.5min\n",
      "[CV] n_estimators=500, min_samples_split=5, min_samples_leaf=4, max_features=sqrt, max_depth=None, bootstrap=False \n",
      "[CV]  n_estimators=500, min_samples_split=5, min_samples_leaf=4, max_features=sqrt, max_depth=None, bootstrap=False, total= 2.5min\n",
      "[CV] n_estimators=500, min_samples_split=5, min_samples_leaf=4, max_features=sqrt, max_depth=None, bootstrap=False \n",
      "[CV]  n_estimators=500, min_samples_split=5, min_samples_leaf=4, max_features=sqrt, max_depth=None, bootstrap=False, total= 2.5min\n",
      "[CV] n_estimators=500, min_samples_split=5, min_samples_leaf=4, max_features=sqrt, max_depth=None, bootstrap=False \n",
      "[CV]  n_estimators=500, min_samples_split=5, min_samples_leaf=4, max_features=sqrt, max_depth=None, bootstrap=False, total= 2.7min\n",
      "[CV] n_estimators=300, min_samples_split=10, min_samples_leaf=4, max_features=sqrt, max_depth=10, bootstrap=False \n",
      "[CV]  n_estimators=300, min_samples_split=10, min_samples_leaf=4, max_features=sqrt, max_depth=10, bootstrap=False, total=  57.5s\n",
      "[CV] n_estimators=300, min_samples_split=10, min_samples_leaf=4, max_features=sqrt, max_depth=10, bootstrap=False \n",
      "[CV]  n_estimators=300, min_samples_split=10, min_samples_leaf=4, max_features=sqrt, max_depth=10, bootstrap=False, total=  56.1s\n",
      "[CV] n_estimators=300, min_samples_split=10, min_samples_leaf=4, max_features=sqrt, max_depth=10, bootstrap=False \n",
      "[CV]  n_estimators=300, min_samples_split=10, min_samples_leaf=4, max_features=sqrt, max_depth=10, bootstrap=False, total=  53.6s\n",
      "[CV] n_estimators=300, min_samples_split=10, min_samples_leaf=4, max_features=sqrt, max_depth=10, bootstrap=False \n",
      "[CV]  n_estimators=300, min_samples_split=10, min_samples_leaf=4, max_features=sqrt, max_depth=10, bootstrap=False, total=  54.5s\n",
      "[CV] n_estimators=300, min_samples_split=10, min_samples_leaf=4, max_features=sqrt, max_depth=10, bootstrap=False \n",
      "[CV]  n_estimators=300, min_samples_split=10, min_samples_leaf=4, max_features=sqrt, max_depth=10, bootstrap=False, total=  57.2s\n",
      "[CV] n_estimators=500, min_samples_split=10, min_samples_leaf=2, max_features=auto, max_depth=25, bootstrap=True \n",
      "[CV]  n_estimators=500, min_samples_split=10, min_samples_leaf=2, max_features=auto, max_depth=25, bootstrap=True, total= 1.4min\n",
      "[CV] n_estimators=500, min_samples_split=10, min_samples_leaf=2, max_features=auto, max_depth=25, bootstrap=True \n",
      "[CV]  n_estimators=500, min_samples_split=10, min_samples_leaf=2, max_features=auto, max_depth=25, bootstrap=True, total= 1.4min\n",
      "[CV] n_estimators=500, min_samples_split=10, min_samples_leaf=2, max_features=auto, max_depth=25, bootstrap=True \n",
      "[CV]  n_estimators=500, min_samples_split=10, min_samples_leaf=2, max_features=auto, max_depth=25, bootstrap=True, total= 1.4min\n",
      "[CV] n_estimators=500, min_samples_split=10, min_samples_leaf=2, max_features=auto, max_depth=25, bootstrap=True \n",
      "[CV]  n_estimators=500, min_samples_split=10, min_samples_leaf=2, max_features=auto, max_depth=25, bootstrap=True, total= 1.4min\n",
      "[CV] n_estimators=500, min_samples_split=10, min_samples_leaf=2, max_features=auto, max_depth=25, bootstrap=True \n",
      "[CV]  n_estimators=500, min_samples_split=10, min_samples_leaf=2, max_features=auto, max_depth=25, bootstrap=True, total= 1.4min\n",
      "[CV] n_estimators=500, min_samples_split=10, min_samples_leaf=2, max_features=sqrt, max_depth=None, bootstrap=True \n",
      "[CV]  n_estimators=500, min_samples_split=10, min_samples_leaf=2, max_features=sqrt, max_depth=None, bootstrap=True, total= 1.5min\n",
      "[CV] n_estimators=500, min_samples_split=10, min_samples_leaf=2, max_features=sqrt, max_depth=None, bootstrap=True \n",
      "[CV]  n_estimators=500, min_samples_split=10, min_samples_leaf=2, max_features=sqrt, max_depth=None, bootstrap=True, total= 1.5min\n",
      "[CV] n_estimators=500, min_samples_split=10, min_samples_leaf=2, max_features=sqrt, max_depth=None, bootstrap=True \n",
      "[CV]  n_estimators=500, min_samples_split=10, min_samples_leaf=2, max_features=sqrt, max_depth=None, bootstrap=True, total= 1.5min\n",
      "[CV] n_estimators=500, min_samples_split=10, min_samples_leaf=2, max_features=sqrt, max_depth=None, bootstrap=True \n",
      "[CV]  n_estimators=500, min_samples_split=10, min_samples_leaf=2, max_features=sqrt, max_depth=None, bootstrap=True, total= 1.5min\n",
      "[CV] n_estimators=500, min_samples_split=10, min_samples_leaf=2, max_features=sqrt, max_depth=None, bootstrap=True \n",
      "[CV]  n_estimators=500, min_samples_split=10, min_samples_leaf=2, max_features=sqrt, max_depth=None, bootstrap=True, total= 1.5min\n",
      "[CV] n_estimators=500, min_samples_split=10, min_samples_leaf=4, max_features=sqrt, max_depth=55, bootstrap=False \n",
      "[CV]  n_estimators=500, min_samples_split=10, min_samples_leaf=4, max_features=sqrt, max_depth=55, bootstrap=False, total= 2.4min\n",
      "[CV] n_estimators=500, min_samples_split=10, min_samples_leaf=4, max_features=sqrt, max_depth=55, bootstrap=False \n",
      "[CV]  n_estimators=500, min_samples_split=10, min_samples_leaf=4, max_features=sqrt, max_depth=55, bootstrap=False, total= 2.5min\n",
      "[CV] n_estimators=500, min_samples_split=10, min_samples_leaf=4, max_features=sqrt, max_depth=55, bootstrap=False \n",
      "[CV]  n_estimators=500, min_samples_split=10, min_samples_leaf=4, max_features=sqrt, max_depth=55, bootstrap=False, total= 2.5min\n",
      "[CV] n_estimators=500, min_samples_split=10, min_samples_leaf=4, max_features=sqrt, max_depth=55, bootstrap=False \n",
      "[CV]  n_estimators=500, min_samples_split=10, min_samples_leaf=4, max_features=sqrt, max_depth=55, bootstrap=False, total= 2.5min\n",
      "[CV] n_estimators=500, min_samples_split=10, min_samples_leaf=4, max_features=sqrt, max_depth=55, bootstrap=False \n"
     ]
    },
    {
     "name": "stdout",
     "output_type": "stream",
     "text": [
      "[CV]  n_estimators=500, min_samples_split=10, min_samples_leaf=4, max_features=sqrt, max_depth=55, bootstrap=False, total= 2.5min\n",
      "[CV] n_estimators=300, min_samples_split=5, min_samples_leaf=4, max_features=sqrt, max_depth=70, bootstrap=False \n",
      "[CV]  n_estimators=300, min_samples_split=5, min_samples_leaf=4, max_features=sqrt, max_depth=70, bootstrap=False, total= 1.4min\n",
      "[CV] n_estimators=300, min_samples_split=5, min_samples_leaf=4, max_features=sqrt, max_depth=70, bootstrap=False \n",
      "[CV]  n_estimators=300, min_samples_split=5, min_samples_leaf=4, max_features=sqrt, max_depth=70, bootstrap=False, total= 1.5min\n",
      "[CV] n_estimators=300, min_samples_split=5, min_samples_leaf=4, max_features=sqrt, max_depth=70, bootstrap=False \n",
      "[CV]  n_estimators=300, min_samples_split=5, min_samples_leaf=4, max_features=sqrt, max_depth=70, bootstrap=False, total= 1.5min\n",
      "[CV] n_estimators=300, min_samples_split=5, min_samples_leaf=4, max_features=sqrt, max_depth=70, bootstrap=False \n",
      "[CV]  n_estimators=300, min_samples_split=5, min_samples_leaf=4, max_features=sqrt, max_depth=70, bootstrap=False, total= 1.5min\n",
      "[CV] n_estimators=300, min_samples_split=5, min_samples_leaf=4, max_features=sqrt, max_depth=70, bootstrap=False \n",
      "[CV]  n_estimators=300, min_samples_split=5, min_samples_leaf=4, max_features=sqrt, max_depth=70, bootstrap=False, total= 1.5min\n",
      "[CV] n_estimators=500, min_samples_split=2, min_samples_leaf=4, max_features=auto, max_depth=25, bootstrap=True \n",
      "[CV]  n_estimators=500, min_samples_split=2, min_samples_leaf=4, max_features=auto, max_depth=25, bootstrap=True, total= 1.3min\n",
      "[CV] n_estimators=500, min_samples_split=2, min_samples_leaf=4, max_features=auto, max_depth=25, bootstrap=True \n",
      "[CV]  n_estimators=500, min_samples_split=2, min_samples_leaf=4, max_features=auto, max_depth=25, bootstrap=True, total= 1.3min\n",
      "[CV] n_estimators=500, min_samples_split=2, min_samples_leaf=4, max_features=auto, max_depth=25, bootstrap=True \n",
      "[CV]  n_estimators=500, min_samples_split=2, min_samples_leaf=4, max_features=auto, max_depth=25, bootstrap=True, total= 1.3min\n",
      "[CV] n_estimators=500, min_samples_split=2, min_samples_leaf=4, max_features=auto, max_depth=25, bootstrap=True \n",
      "[CV]  n_estimators=500, min_samples_split=2, min_samples_leaf=4, max_features=auto, max_depth=25, bootstrap=True, total= 1.3min\n",
      "[CV] n_estimators=500, min_samples_split=2, min_samples_leaf=4, max_features=auto, max_depth=25, bootstrap=True \n",
      "[CV]  n_estimators=500, min_samples_split=2, min_samples_leaf=4, max_features=auto, max_depth=25, bootstrap=True, total= 1.3min\n"
     ]
    },
    {
     "name": "stderr",
     "output_type": "stream",
     "text": [
      "[Parallel(n_jobs=1)]: Done 250 out of 250 | elapsed: 410.2min finished\n"
     ]
    },
    {
     "name": "stdout",
     "output_type": "stream",
     "text": [
      "starttime = 2020-12-14 00:56:33.278959\n",
      "endtime = 2020-12-14 07:48:41.322948\n"
     ]
    }
   ],
   "source": [
    "if TUNING:\n",
    "    #Fit the random search model  \n",
    "\n",
    "    starttime =datetime.now() \n",
    "    rf_random.fit(X_train, y_train)\n",
    "    print(\"starttime =\", starttime)\n",
    "    print(\"endtime =\", datetime.now())\n"
   ]
  },
  {
   "cell_type": "code",
   "execution_count": 72,
   "metadata": {},
   "outputs": [
    {
     "data": {
      "text/plain": [
       "{'n_estimators': 500,\n",
       " 'min_samples_split': 10,\n",
       " 'min_samples_leaf': 4,\n",
       " 'max_features': 'sqrt',\n",
       " 'max_depth': 10,\n",
       " 'bootstrap': False}"
      ]
     },
     "execution_count": 72,
     "metadata": {},
     "output_type": "execute_result"
    }
   ],
   "source": [
    "rf_random.best_params_\n",
    "\n",
    "# CLASS1\n",
    "# for max features no ICD /full dataset\n",
    "#{'n_estimators': 1000,'min_samples_split': 5,'min_samples_leaf': 4,'max_features': 'sqrt','max_depth': 47,'bootstrap': False}\n",
    "\n"
   ]
  },
  {
   "cell_type": "markdown",
   "metadata": {},
   "source": [
    "# Use the parameters found"
   ]
  },
  {
   "cell_type": "code",
   "execution_count": 57,
   "metadata": {},
   "outputs": [
    {
     "name": "stdout",
     "output_type": "stream",
     "text": [
      "build RF\n",
      "train RF\n",
      "predictions\n"
     ]
    }
   ],
   "source": [
    "print(\"build RF\")\n",
    "# building RF (default parameters)\n",
    "rf2_model = RandomForestClassifier(n_estimators=500,criterion='gini',max_depth=10,min_samples_split=10,min_samples_leaf=4,\n",
    "                                  min_weight_fraction_leaf=0.0,max_features='sqrt',max_leaf_nodes=None,min_impurity_decrease=0.0,\n",
    "                                  min_impurity_split=None,bootstrap=False,oob_score=False,n_jobs=None,random_state=None,verbose=0,\n",
    "                                  warm_start=False,class_weight=None,ccp_alpha=0.0,max_samples=None)\n",
    "\n",
    "\n",
    "print(\"train RF\")\n",
    "# train RF\n",
    "rf2_model.fit(X_train, y_train)\n",
    "\n",
    "print(\"predictions\")\n",
    "#Make predictions \n",
    "RF_pred = rf2_model.predict(X_test)\n",
    "RF_probs = rf2_model.predict_proba(X_test)[::,1] # probability of class 1\n",
    "\n",
    "\n",
    "\n"
   ]
  },
  {
   "cell_type": "code",
   "execution_count": 58,
   "metadata": {},
   "outputs": [
    {
     "name": "stdout",
     "output_type": "stream",
     "text": [
      "accuracy for Classifier : 0.68\n",
      "Area Under ROC Curve: 0.77\n",
      "Area Under PR Curve(AP): 0.84\n",
      "[[1298  664]\n",
      " [ 854 1873]]\n",
      "brier\n",
      "0.186\n"
     ]
    }
   ],
   "source": [
    "performance(rf2_model,y_test,RF_probs, RF_pred)"
   ]
  },
  {
   "cell_type": "code",
   "execution_count": 59,
   "metadata": {},
   "outputs": [
    {
     "name": "stdout",
     "output_type": "stream",
     "text": [
      "compute calibration curve\n",
      "The missing bins have midpoint values of  \n",
      "plot curves and save in one png file\n"
     ]
    },
    {
     "data": {
      "image/png": "[encoded data removed]",
      "text/plain": [
       "<Figure size 504x1728 with 3 Axes>"
      ]
     },
     "metadata": {
      "needs_background": "light"
     },
     "output_type": "display_data"
    }
   ],
   "source": [
    "build_graphs(y_test, GBT_probs, classifier_name, \"RF_min feat_with_imp_adult_AnyAKI\")"
   ]
  },
  {
   "cell_type": "code",
   "execution_count": null,
   "metadata": {},
   "outputs": [],
   "source": [
    "'''\n",
    "code for adding ICD table - fixed.\n",
    "\n",
    "if (SELECTED_FEATURE_SET or MAX_FEATURE_SET ) and DIAGNOSIS:\n",
    "    dataset_icd = dataset_icd.loc[dataset_icd['subject_id'].isin(subject_id)]\n",
    "    hadm_id_list = X['hadm_id'].unique()\n",
    "    dataset_icd = dataset_icd.loc[dataset_icd['hadm_id'].isin(hadm_id_list)]\n",
    "    #convert catagorical data to binary form\n",
    "    dataset_icd = dataset_icd.join(pd.get_dummies(dataset_icd.pop('seq_num')))\n",
    "    dataset_icd = dataset_icd.join(pd.get_dummies(dataset_icd.pop('icd9_code')))\n",
    "    #merge rows if they have the same \"hadm_id\"\n",
    "    dataset_icd.drop([\"subject_id\"], axis=1, inplace=True)\n",
    "    dataset_icd = dataset_icd.groupby(['hadm_id']).max().reset_index(['hadm_id'])\n",
    "    \n",
    "    # merge ICD9 codes at the end of admission (to avoid leaking information from future)\n",
    "    # Add timestamp corresponding to the last charttime in the admission to diagnoses\n",
    "    # dataset_icd already with one-hot for ICD9 codes (merged, ie many ones per row)\n",
    "    \n",
    "    print(\"merge ICD9 codes at the end of admission\")\n",
    "    max_time = X.groupby('hadm_id')['charttime'].max().to_frame().reset_index()\n",
    "    dataset_icd = pd.merge(dataset_icd, max_time, on= 'hadm_id', how='left', copy = False)\n",
    "    X = pd.merge(X, dataset_icd, on = [\"hadm_id\", \"charttime\"], how='left', copy = False)  \n",
    "    X = X.fillna(FILL_VALUE)\n",
    "'''"
   ]
  }
 ],
 "metadata": {
  "kernelspec": {
   "display_name": "Python 3",
   "language": "python",
   "name": "python3"
  },
  "language_info": {
   "codemirror_mode": {
    "name": "ipython",
    "version": 3
   },
   "file_extension": ".py",
   "mimetype": "text/x-python",
   "name": "python",
   "nbconvert_exporter": "python",
   "pygments_lexer": "ipython3",
   "version": "3.8.3"
  }
 },
 "nbformat": 4,
 "nbformat_minor": 2
}
