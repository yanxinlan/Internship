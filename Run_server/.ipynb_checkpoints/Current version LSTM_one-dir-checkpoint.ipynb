{
 "cells": [
  {
   "cell_type": "code",
   "execution_count": 1,
   "metadata": {},
   "outputs": [
    {
     "name": "stdout",
     "output_type": "stream",
     "text": [
      "2020-11-30 11:41:47.229283\n"
     ]
    }
   ],
   "source": [
    "from datetime import datetime\n",
    "print(datetime.now())\n",
    "\n",
    "#data preprocessing\n",
    "import pandas as pd\n",
    "import numpy as np\n",
    "from sklearn import preprocessing\n",
    "from sklearn.model_selection import train_test_split\n",
    "import collections\n",
    "from collections import defaultdict\n",
    "\n",
    "# NN\n",
    "import torch\n",
    "from torch.autograd import Variable\n",
    "import torch.nn as nn\n",
    "import torch.optim as optim\n",
    "import torch.nn.functional as F\n",
    "import time\n",
    "import math\n",
    "from sklearn.calibration import calibration_curve\n",
    "from sklearn.metrics import roc_curve, precision_recall_curve, f1_score, roc_auc_score, auc, accuracy_score\n",
    "from sklearn.metrics import average_precision_score\n",
    "import sklearn.metrics as metrics\n",
    "from sklearn.impute import SimpleImputer\n",
    "import matplotlib.lines as mlines\n",
    "import matplotlib.transforms as mtransforms\n",
    "from matplotlib import pyplot as plt"
   ]
  },
  {
   "cell_type": "code",
   "execution_count": 2,
   "metadata": {},
   "outputs": [],
   "source": [
    "# the full files pathes are here\n",
    "# time dependent\n",
    "DATA_PATH_stages=\"../data/kdigo_stages_measured.csv\" \n",
    "DATA_PATH_labs = \"../data/labs-kdigo_stages_measured.csv\" \n",
    "DATA_PATH_vitals = \"../data/vitals-kdigo_stages_measured.csv\" \n",
    "DATA_PATH_vents = \"../data/vents-vasopressor-sedatives-kdigo_stages_measured.csv\"\n",
    "#no time dependent\n",
    "DATA_PATH_detail=\"../data/icustay_detail-kdigo_stages_measured.csv\" #age constraint\n",
    "#DATA_PATH_icd = \"../data/diagnoses_icd_aki_measured.csv\" #AL was \"...measured 2.csv\"\n",
    "\n",
    "SEPARATOR=\";\""
   ]
  },
  {
   "cell_type": "code",
   "execution_count": 3,
   "metadata": {},
   "outputs": [],
   "source": [
    "# Set parameter as constant \n",
    "\n",
    "TESTING = False \n",
    "TEST_SIZE = 0.10\n",
    "\n",
    "SPLIT_SIZE = 0.2 \n",
    "MAX_DAYS = 35\n",
    "\n",
    "#which classifier to use, only run one classifier at one time \n",
    "CLASS1 = True   #AnyAKI\n",
    "#CLASS2 = False    #ModerateSevereAKI\n",
    "#CLASS3 = False    #SevereAKI\n",
    "ALL_STAGES = False # not binary label, each class separately 0,1,2,3\n",
    "    \n",
    "SELECTED_FEATURE_SET = False\n",
    "MAX_FEATURE_SET = True\n",
    "#DIAGNOSIS = False\n",
    "\n",
    "FIRST_TURN_POS = True # creating one label per one ICU stay id\n",
    "\n",
    "# resampling  and imputing\n",
    "TIME_SAMPLING = True \n",
    "SAMPLING_INTERVAL = '6H'\n",
    "RESAMPLE_LIMIT = 16 # 4 days*6h interval\n",
    "MOST_COMMON = False #resampling with most common\n",
    "# if MOST_COMMON is not applied,sampling with different strategies per kind of variable, \n",
    "# numeric variables use mean value, categorical variables use max value\n",
    "IMPUTE_EACH_ID = True # imputation within each icustay_id with most common value\n",
    "IMPUTE_COLUMN = True # imputation based on whole column\n",
    "IMPUTE_METHOD = 'most_frequent' \n",
    "FILL_VALUE = 0 #fill missing value and ragged part of 3d array\n",
    "\n",
    "#Age constraints: adults\n",
    "ADULTS_MIN_AGE = 18\n",
    "ADULTS_MAX_AGE = -1\n",
    "\n",
    "NORMALIZATION = True\n",
    "CAPPING = True\n",
    "\n",
    "if CAPPING:\n",
    "    CAPPING_THRESHOLD_UPPER = 0.99\n",
    "    CAPPING_THRESHOLD_LOWER = 0.01\n",
    "\n",
    "# How much time the prediction should occur (hours)\n",
    "HOURS_AHEAD = 48\n",
    "\n",
    "NORM_TYPE = 'min_max'\n",
    "\n",
    "RANDOM = 42\n",
    "\n",
    "#set changable info corresponding to each classifier as variables\n",
    "\n",
    "min_set =  [\"icustay_id\", \"charttime\", \"creat\", \"uo_rt_6hr\", \"uo_rt_12hr\", \"uo_rt_24hr\", \"aki_stage\"]\n",
    "\n",
    "\n",
    "#selected_set = \n",
    "\n",
    "\n",
    "max_set = ['icustay_id', 'charttime', 'aki_stage', 'hadm_id', 'albumin_avg','aniongap_avg', 'bicarbonate_avg', \n",
    "           'bilirubin_avg', 'bun_avg','chloride_avg', 'creat', 'diasbp_mean', 'glucose_avg', 'heartrate_mean',\n",
    "           'hematocrit_avg', 'hemoglobin_avg', 'potassium_avg', 'resprate_mean','sodium_avg', 'spo2_mean', 'sysbp_mean', \n",
    "           'uo_rt_12hr', 'uo_rt_24hr','uo_rt_6hr', 'wbc_avg', 'sedative', 'vasopressor', 'vent', 'age', 'F','M', \n",
    "           'asian', 'black', 'hispanic', 'native', 'other', 'unknown','white', 'ELECTIVE', 'EMERGENCY', 'URGENT']\n",
    "\n",
    "# naming model and plot\n",
    "classifier_name = \"None vs. Any AKI\"    ###change every time #Moderate vs. Severe #None vs. Any #Others vs. Severe\n",
    "plot_name = \"adult_AnyAKI_LR\"    ###change every time"
   ]
  },
  {
   "cell_type": "code",
   "execution_count": 4,
   "metadata": {},
   "outputs": [],
   "source": [
    "# Some functions used later\n",
    "if CAPPING:\n",
    "    def cap_data(df):\n",
    "        print(\"Capping between the {} and {} quantile\".format(CAPPING_THRESHOLD_LOWER, CAPPING_THRESHOLD_UPPER))\n",
    "        cap_mask = df.columns.difference(['icustay_id', 'charttime', 'aki_stage'])\n",
    "        df[cap_mask] = df[cap_mask].clip(df[cap_mask].quantile(CAPPING_THRESHOLD_LOWER),\n",
    "                                         df[cap_mask].quantile(CAPPING_THRESHOLD_UPPER),\n",
    "                                         axis=1)\n",
    "\n",
    "        return df\n",
    " \n",
    "    \n",
    "def normalise_data(df, norm_mask):\n",
    "    print(\"Normalizing in [0,1] with {} normalization\".format(NORMALIZATION))\n",
    "\n",
    "    if NORM_TYPE == 'min_max':\n",
    "        df[norm_mask] = (df[norm_mask] - df[norm_mask].min()) / (df[norm_mask].max() - df[norm_mask].min())\n",
    "    else:\n",
    "        df[norm_mask] = (df[norm_mask] - df[norm_mask].mean()) / df[norm_mask].std()\n",
    "\n",
    "    return df\n",
    "\n",
    "\n",
    "\n",
    "# impute missing value in resampleing data with most common based on each id\n",
    "def fast_mode(df, key_cols, value_col):\n",
    "    \"\"\" Calculate a column mode, by group, ignoring null values. \n",
    "    \n",
    "    key_cols : list of str - Columns to groupby for calculation of mode.\n",
    "    value_col : str - Column for which to calculate the mode. \n",
    "\n",
    "    Return\n",
    "    pandas.DataFrame\n",
    "        One row for the mode of value_col per key_cols group. If ties, returns the one which is sorted first. \"\"\"\n",
    "    return (df.groupby(key_cols + [value_col]).size() \n",
    "              .to_frame('counts').reset_index() \n",
    "              .sort_values('counts', ascending=False) \n",
    "              .drop_duplicates(subset=key_cols)).drop('counts',axis=1)\n",
    "\n",
    "\n",
    "#get max shape of 3d array\n",
    "def get_dimensions(array, level=0):   \n",
    "    yield level, len(array)\n",
    "    try:\n",
    "        for row in array:\n",
    "            yield from get_dimensions(row, level + 1)\n",
    "    except TypeError: #not an iterable\n",
    "        pass\n",
    "\n",
    "def get_max_shape(array):\n",
    "    dimensions = defaultdict(int)\n",
    "    for level, length in get_dimensions(array):\n",
    "        dimensions[level] = max(dimensions[level], length)\n",
    "    return [value for _, value in sorted(dimensions.items())]\n",
    "\n",
    "#pad the ragged 3d array to rectangular shape based on max size\n",
    "def iterate_nested_array(array, index=()):\n",
    "    try:\n",
    "        for idx, row in enumerate(array):\n",
    "            yield from iterate_nested_array(row, (*index, idx))\n",
    "    except TypeError: # final level            \n",
    "        yield (*index, slice(len(array))), array\n",
    "\n",
    "def pad(array, fill_value):\n",
    "    dimensions = get_max_shape(array)\n",
    "    result = np.full(dimensions, fill_value)\n",
    "    for index, value in iterate_nested_array(array):\n",
    "        result[index] = value\n",
    "    return result\n",
    "\n",
    "def bin_total(y_true, y_prob, n_bins):\n",
    "    bins = np.linspace(0., 1. + 1e-8, n_bins + 1)\n",
    "\n",
    "    # In sklearn.calibration.calibration_curve,\n",
    "    # the last value in the array is always 0.\n",
    "    binids = np.digitize(y_prob, bins) - 1\n",
    "\n",
    "    return np.bincount(binids, minlength=len(bins))\n",
    "\n",
    "def missing_bin(bin_array):\n",
    "    midpoint = \" \"    \n",
    "    if bin_array[0]==0:\n",
    "        midpoint = \"5%, \"\n",
    "    if bin_array[1]==0:\n",
    "        midpoint = midpoint + \"15%, \"\n",
    "    if bin_array[2]==0:\n",
    "        midpoint = midpoint + \"25%, \"\n",
    "    if bin_array[3]==0:\n",
    "        midpoint = midpoint + \"35%, \" \n",
    "    if bin_array[4]==0:\n",
    "        midpoint = midpoint + \"45%, \"\n",
    "    if bin_array[5]==0:\n",
    "        midpoint = midpoint + \"55%, \"\n",
    "    if bin_array[6]==0:\n",
    "        midpoint = midpoint + \"65%, \"\n",
    "    if bin_array[7]==0:\n",
    "        midpoint = midpoint + \"75%, \"\n",
    "    if bin_array[8]==0:\n",
    "        midpoint = midpoint + \"85%, \"\n",
    "    if bin_array[9]==0:\n",
    "        midpoint = midpoint + \"95%, \"\n",
    "    return \"The missing bins have midpoint values of \"+ str(midpoint)\n"
   ]
  },
  {
   "cell_type": "code",
   "execution_count": 5,
   "metadata": {},
   "outputs": [
    {
     "name": "stdout",
     "output_type": "stream",
     "text": [
      "read csv files\n",
      "convert charttime to timestamp\n"
     ]
    }
   ],
   "source": [
    "print(\"read csv files\")\n",
    "#reading csv files\n",
    "X = pd.read_csv(DATA_PATH_stages, sep= SEPARATOR)\n",
    "X.drop([\"aki_stage_creat\", \"aki_stage_uo\"], axis = 1, inplace = True)\n",
    "#remove totally empty rows \n",
    "X = X.dropna(how = 'all', subset = ['creat','uo_rt_6hr','uo_rt_12hr','uo_rt_24hr','aki_stage'])\n",
    "print(\"convert charttime to timestamp\")\n",
    "X['charttime'] = pd.to_datetime(X['charttime'])\n",
    "# AL it substitutes missing values with zero!\n",
    "#merge rows if they have exact timestamp within same icustay_id\n",
    "#X = X.groupby(['icustay_id', 'charttime']).sum().reset_index(['icustay_id', 'charttime'])\n",
    "\n",
    "dataset_detail = pd.read_csv(DATA_PATH_detail, sep= SEPARATOR)  #age constraint\n",
    "dataset_detail.drop(['dod', 'admittime','dischtime', 'los_hospital','ethnicity','hospital_expire_flag', 'hospstay_seq',\n",
    "       'first_hosp_stay', 'intime', 'outtime', 'los_icu', 'icustay_seq','first_icu_stay'], axis = 1, inplace = True)\n"
   ]
  },
  {
   "cell_type": "code",
   "execution_count": 6,
   "metadata": {},
   "outputs": [
    {
     "name": "stdout",
     "output_type": "stream",
     "text": [
      "convert charttime to timestamp\n"
     ]
    }
   ],
   "source": [
    "#3\n",
    "dataset_labs = pd.read_csv(DATA_PATH_labs, sep= SEPARATOR) # 'bands lactate platelet ptt inr pt\n",
    "dataset_labs.drop(['albumin_min', 'albumin_max','bilirubin_min', 'bilirubin_max','bands_min', 'bands_max',\n",
    "                   'lactate_min', 'lactate_max','platelet_min', 'platelet_max','ptt_min', 'ptt_max', \n",
    "                   'inr_min', 'inr_max', 'pt_min', 'pt_max'], axis = 1, inplace = True)\n",
    "dataset_labs = dataset_labs.dropna(subset=['charttime'])\n",
    "dataset_labs = dataset_labs.dropna(subset=dataset_labs.columns[4:], how='all')\n",
    "dataset_labs['charttime'] = pd.to_datetime(dataset_labs['charttime'])\n",
    "dataset_labs = dataset_labs.sort_values(by=['icustay_id', 'charttime'])\n",
    "\n",
    "if SELECTED_FEATURE_SET or MAX_FEATURE_SET:\n",
    "    #4,5,6\n",
    "    dataset_vitals = pd.read_csv(DATA_PATH_vitals, sep= SEPARATOR)  #'meanbp_mean', 'tempc_mean',\n",
    "    dataset_vents = pd.read_csv(DATA_PATH_vents , sep= SEPARATOR)\n",
    "    #dataset_icd = pd.read_csv(DATA_PATH_icd, sep= SEPARATOR)\n",
    "\n",
    "    dataset_vitals.drop([\"heartrate_min\", \"heartrate_max\",\"sysbp_min\", \"sysbp_max\",\"diasbp_min\", \"diasbp_max\",\n",
    "                        'meanbp_min','meanbp_max', 'meanbp_mean','tempc_min', 'tempc_max', 'tempc_mean',\n",
    "                        \"resprate_min\", \"resprate_max\", \"spo2_min\", \"spo2_max\", \"glucose_min\", \"glucose_max\"], axis = 1, inplace = True)\n",
    "          \n",
    "    print(\"convert charttime to timestamp\")\n",
    "    dataset_vitals['charttime'] = pd.to_datetime(dataset_vitals['charttime'])\n",
    "    dataset_vents['charttime'] = pd.to_datetime(dataset_vents['charttime'])\n",
    "    \n",
    "    dataset_vitals = dataset_vitals.sort_values(by=['icustay_id', 'charttime'])\n",
    "    dataset_vents = dataset_vents.sort_values(by=['icustay_id', 'charttime'])\n",
    "    \n",
    "    # AL drop those where all columns are nan\n",
    "    dataset_vitals = dataset_vitals.dropna(subset=dataset_vitals.columns[4:], how='all')   \n",
    "     "
   ]
  },
  {
   "cell_type": "code",
   "execution_count": 7,
   "metadata": {},
   "outputs": [],
   "source": [
    "# Labs file: instead of min and max their avg\n",
    "counter = 0\n",
    "col1 = 4\n",
    "col2 = 5\n",
    "null_l = [] # no null values in those that are different\n",
    "changed = 0 # 4316 records changed to avg\n",
    "\n",
    "while counter < 11:\n",
    "    row = 0\n",
    "# find where min and max are different and save their row indices \n",
    "    while row < len(dataset_labs):\n",
    "        a = dataset_labs.iloc[row,col1]\n",
    "        b = dataset_labs.iloc[row,col2]\n",
    "        if a==b or (np.isnan(a) and np.isnan(b)):\n",
    "            pass\n",
    "        elif a!=b:\n",
    "            changed +=1\n",
    "            avg = (a+b)/2\n",
    "            dataset_labs.iloc[row,col1] = avg\n",
    "            if (np.isnan(a) and ~np.isnan(b)) or (np.isnan(b) and ~np.isnan(a)):\n",
    "                null_l.append(row)\n",
    "        else:\n",
    "            print(a)\n",
    "            print(b)\n",
    "        row +=1       \n",
    "    # delete the redundant column max, update counters\n",
    "    dataset_labs.drop(dataset_labs.columns[col2], axis=1, inplace = True)\n",
    "    counter = counter+1\n",
    "    col1 = col1+1\n",
    "    col2 = col2+1\n",
    "\n",
    "dataset_labs.columns = ['subject_id','hadm_id', 'icustay_id', 'charttime', 'aniongap_avg', 'bicarbonate_avg', \n",
    "                        'creatinine_avg', 'chloride_avg', 'glucose_avg', 'hematocrit_avg','hemoglobin_avg',\n",
    "                        'potassium_avg', 'sodium_avg', 'bun_avg', 'wbc_avg']\n",
    "if len(null_l)>0:\n",
    "    print(\"null values encountered\")"
   ]
  },
  {
   "cell_type": "code",
   "execution_count": 8,
   "metadata": {},
   "outputs": [
    {
     "name": "stdout",
     "output_type": "stream",
     "text": [
      "Merge creatinine and glucose.\n"
     ]
    }
   ],
   "source": [
    "print(\"Merge creatinine and glucose.\")\n",
    "# merge creatinine from labs and set with labels\n",
    "creat_l = dataset_labs[['icustay_id','charttime','creatinine_avg']].copy()\n",
    "creat_l = creat_l.dropna(subset=['creatinine_avg'])\n",
    "creat = X[['icustay_id','charttime', 'creat']].copy()\n",
    "creat = creat.dropna(subset=['creat'])\n",
    "creat_l = creat_l.rename(columns={\"creatinine_avg\": \"creat\"})\n",
    "creat = creat.append(creat_l, ignore_index=True)\n",
    "creat.drop_duplicates(inplace = True)\n",
    "#delete old columns\n",
    "dataset_labs.drop([\"creatinine_avg\"], axis = 1, inplace = True)\n",
    "dataset_labs = dataset_labs.dropna(subset=dataset_labs.columns[4:], how='all')\n",
    "X.drop([\"creat\"], axis = 1, inplace = True)\n",
    "#merge new column\n",
    "X = pd.merge(X, creat, on = [\"icustay_id\", \"charttime\"], sort = True, how= \"outer\", copy = False)\n",
    "\n",
    "if SELECTED_FEATURE_SET or MAX_FEATURE_SET:\n",
    "    # merge glucose from vitals and labs\n",
    "    glucose_v = dataset_vitals[['subject_id','hadm_id','icustay_id','charttime', 'glucose_mean']].copy()\n",
    "    glucose_v = glucose_v.dropna(subset=['glucose_mean'])\n",
    "    glucose = dataset_labs[['subject_id','hadm_id','icustay_id','charttime', 'glucose_avg']].copy()\n",
    "    glucose = glucose.dropna(subset=['glucose_avg'])\n",
    "    glucose_v = glucose_v.rename(columns={\"glucose_mean\": \"glucose_avg\"})\n",
    "    glucose = glucose.append(glucose_v, ignore_index=True)\n",
    "    glucose.drop_duplicates(inplace = True)\n",
    "    #delete old columns\n",
    "    dataset_labs.drop([\"glucose_avg\"], axis = 1, inplace = True)\n",
    "    dataset_vitals.drop([\"glucose_mean\"], axis = 1, inplace = True)\n",
    "    dataset_vitals = dataset_vitals.dropna(subset=dataset_vitals.columns[4:], how='all')\n",
    "    #merge new column\n",
    "    dataset_labs = pd.merge(dataset_labs, glucose, on = ['subject_id','hadm_id','icustay_id','charttime',], sort = True, how= \"outer\", copy = False)\n",
    "    \n",
    "dataset_labs = dataset_labs.sort_values(by=['icustay_id', 'charttime'], ignore_index = True)\n",
    "X = X.sort_values(by=['icustay_id', 'charttime'], ignore_index = True)"
   ]
  },
  {
   "cell_type": "code",
   "execution_count": 9,
   "metadata": {},
   "outputs": [
    {
     "name": "stdout",
     "output_type": "stream",
     "text": [
      "Merging labs, vitals and vents files\n"
     ]
    }
   ],
   "source": [
    "print(\"Merging labs, vitals and vents files\")\n",
    "#merge files with time-dependent data, based on icustay_id and charttime\n",
    "if SELECTED_FEATURE_SET or MAX_FEATURE_SET:\n",
    "    X = pd.merge(X, dataset_labs, on = [\"icustay_id\", \"charttime\"], how= \"outer\", copy = False)\n",
    "    X = pd.merge(X, dataset_vitals, on = [\"icustay_id\", \"charttime\",\"subject_id\", \"hadm_id\"], how= \"outer\", copy = False)\n",
    "    X = pd.merge(X, dataset_vents, on = [\"icustay_id\", \"charttime\"], how= \"outer\", copy = False) \n",
    "    X.drop([\"subject_id\"], axis = 1, inplace = True) \n"
   ]
  },
  {
   "cell_type": "code",
   "execution_count": 10,
   "metadata": {},
   "outputs": [
    {
     "name": "stdout",
     "output_type": "stream",
     "text": [
      "start preprocessing time dependent data\n",
      "Removing patients under the min age\n"
     ]
    }
   ],
   "source": [
    "print(\"start preprocessing time dependent data\") # AL removed a line where rows with missing labels are deleted (we will ffil)\n",
    "print(\"Removing patients under the min age\")\n",
    "dataset_detail = dataset_detail.loc[dataset_detail['age'] >= ADULTS_MIN_AGE]\n",
    "adults_icustay_id_list = dataset_detail['icustay_id'].unique()\n",
    "X = X[X.icustay_id.isin(adults_icustay_id_list)].sort_values(by=['icustay_id'], ignore_index = True)\n",
    "X = X.sort_values(by=['icustay_id', 'charttime'], ignore_index = True)\n",
    "adults_icustay_id_list = np.sort(adults_icustay_id_list)"
   ]
  },
  {
   "cell_type": "code",
   "execution_count": 11,
   "metadata": {},
   "outputs": [
    {
     "name": "stdout",
     "output_type": "stream",
     "text": [
      "drop icustay_id with time span less than 48hrs\n",
      "2302 long stays\n",
      "there are 5214 id-s shorter than 48 hours\n"
     ]
    }
   ],
   "source": [
    "print(\"drop icustay_id with time span less than 48hrs\")\n",
    "def more_than_HOURS_ahead(adults_icustay_id_list, X):\n",
    "    drop_list = []\n",
    "    los_list = [] # calculating LOS ICU based on charttime\n",
    "    long_stays_id = [] # LOS longer than MAX DAYS days\n",
    "    last_charttime_list = []\n",
    "    seq_length = X.groupby(['icustay_id'],as_index=False).size().to_frame('size')\n",
    "    id_count = 0\n",
    "    first_row_index = 0\n",
    "\n",
    "    while id_count < len(adults_icustay_id_list):\n",
    "        icustay_id = adults_icustay_id_list[id_count]\n",
    "        last_row_index = first_row_index + seq_length.iloc[id_count,0]-1\n",
    "        first_time = X.iat[first_row_index, X.columns.get_loc('charttime')]\n",
    "        last_time = X.iat[last_row_index, X.columns.get_loc('charttime')]\n",
    "        los = round(float((last_time - first_time).total_seconds()/60/60/24),4) # in days\n",
    "        if los < HOURS_AHEAD/24:\n",
    "            drop_list.append(icustay_id)\n",
    "        else:\n",
    "            los_list.append(los)\n",
    "            if los > MAX_DAYS:\n",
    "                long_stays_id.append(icustay_id)\n",
    "                last_charttime_list.append(last_time)\n",
    "        # udpate for the next icustay_id\n",
    "        first_row_index = last_row_index+1\n",
    "        id_count +=1\n",
    "    if len(long_stays_id) != len(last_charttime_list):\n",
    "        print('ERROR')\n",
    "    print(\"%d long stays\" % len(long_stays_id))\n",
    "    # drop all the rows with the saved icustay_id\n",
    "    print(\"there are %d id-s shorter than 48 hours\" % len(drop_list))\n",
    "    X = X[~X.icustay_id.isin(drop_list)]\n",
    "    id_list = X['icustay_id'].unique()\n",
    "    X = X.sort_values(by=['icustay_id', 'charttime'], ignore_index = True)\n",
    "    \n",
    "    return id_list, X, long_stays_id,last_charttime_list\n",
    "\n",
    "id_list, X, long_stays_id,last_charttime_list  = more_than_HOURS_ahead(adults_icustay_id_list, X)\n",
    "\n",
    "long = pd.DataFrame()\n",
    "long['icustay_id']  = long_stays_id\n",
    "long['last_time']  = last_charttime_list\n"
   ]
  },
  {
   "cell_type": "code",
   "execution_count": 12,
   "metadata": {},
   "outputs": [
    {
     "name": "stdout",
     "output_type": "stream",
     "text": [
      "0 long stays\n",
      "there are 1 id-s shorter than 48 hours\n"
     ]
    }
   ],
   "source": [
    "# deleting rows that are not within MAX_DAYS (35) period\n",
    "i = 0 # long df index\n",
    "drop_long_time = []\n",
    "    \n",
    "while i < len(long_stays_id):\n",
    "    j = 0\n",
    "    all_rows = X.index[X['icustay_id'] == long.loc[i,'icustay_id']].tolist()\n",
    "    while j < len(all_rows):\n",
    "        time = X.iat[all_rows[j], X.columns.get_loc('charttime')]\n",
    "        # if keep last MAX_DAYS \n",
    "        if (long.loc[i,'last_time'] - time).total_seconds() > MAX_DAYS*24*60*60:\n",
    "            drop_long_time.append(all_rows[j])\n",
    "            j +=1\n",
    "        else:\n",
    "            break\n",
    "    i +=1       \n",
    "X.drop(X.index[drop_long_time], inplace=True) \n",
    "\n",
    "# checking for 48h min length again\n",
    "id_list, X, long_stays_id,last_charttime_list  = more_than_HOURS_ahead(id_list, X)\n",
    "dataset_detail = dataset_detail[dataset_detail.icustay_id.isin(id_list)].sort_values(by=['icustay_id'], ignore_index = True)\n"
   ]
  },
  {
   "cell_type": "code",
   "execution_count": 13,
   "metadata": {},
   "outputs": [],
   "source": [
    "if SELECTED_FEATURE_SET or MAX_FEATURE_SET:\n",
    "    # AL create a dictionary for hadm\n",
    "    hadm = dataset_detail.filter(['hadm_id','icustay_id'],axis = 1)\n",
    "    dict_hadm = pd.Series(hadm.hadm_id.values,index=hadm.icustay_id).to_dict()\n",
    "    # fill in the missing values (to ensure correct merging of icd below)\n",
    "    X.hadm_id = X.hadm_id.fillna(FILL_VALUE)\n",
    "    # AL change the type to prevent warning of merging int on float\n",
    "    X = X.astype({\"hadm_id\": int})\n",
    "    a = -1\n",
    "    while a < X.shape[0]-1:\n",
    "        a = a+1\n",
    "        if X.iat[a, X.columns.get_loc('hadm_id')] !=-1 :\n",
    "            continue\n",
    "        elif X.iat[a, X.columns.get_loc('hadm_id')]==-1:\n",
    "            X.iat[a, X.columns.get_loc('hadm_id')] = dict_hadm[X.iat[a, X.columns.get_loc('icustay_id')]]\n"
   ]
  },
  {
   "cell_type": "markdown",
   "metadata": {},
   "source": [
    "# For testing purpose, use small amount of data first"
   ]
  },
  {
   "cell_type": "code",
   "execution_count": 14,
   "metadata": {},
   "outputs": [],
   "source": [
    "#For testing purpose, use small amount of data first\n",
    "if TESTING:\n",
    "    rest, id_list = train_test_split(id_list, test_size= TEST_SIZE, random_state=42)\n",
    "    X = X[X.icustay_id.isin(id_list)].sort_values(by=['icustay_id'])\n",
    "    dataset_detail = dataset_detail[dataset_detail.icustay_id.isin(id_list)].sort_values(by=['icustay_id'])"
   ]
  },
  {
   "cell_type": "markdown",
   "metadata": {},
   "source": [
    "# Resampling , imputing"
   ]
  },
  {
   "cell_type": "code",
   "execution_count": 15,
   "metadata": {},
   "outputs": [
    {
     "name": "stdout",
     "output_type": "stream",
     "text": [
      "resampling: MEAN & ZERO\n",
      "Merging sampled features\n",
      "(2156523, 26)\n"
     ]
    }
   ],
   "source": [
    "if (TIME_SAMPLING and MOST_COMMON):\n",
    "    print(\"resampling: MOST_COMMON\")\n",
    "    # Resample the data using assigned interval,mode() for most common\n",
    "    X = X.set_index('charttime').groupby('icustay_id').resample(SAMPLING_INTERVAL).mode().reset_index()\n",
    "elif TIME_SAMPLING:\n",
    "    print(\"resampling: MEAN & ZERO\")\n",
    "    # Sampling with different strategies per kind of variable\n",
    "    label = ['aki_stage']\n",
    "    skip = ['icustay_id', 'charttime', 'aki_stage']\n",
    "    if SELECTED_FEATURE_SET or MAX_FEATURE_SET:\n",
    "        discrete_feat = ['sedative', 'vasopressor', 'vent', 'hadm_id']\n",
    "        skip.extend(discrete_feat)    \n",
    "    # all features that are not in skip are numeric\n",
    "    numeric_feat = list(X.columns.difference(skip))\n",
    "    \n",
    "    # Applying aggregation to features depending on their type\n",
    "    X = X.set_index('charttime').groupby('icustay_id').resample(SAMPLING_INTERVAL)\n",
    "    if SELECTED_FEATURE_SET or MAX_FEATURE_SET:\n",
    "        X_discrete = X[discrete_feat].max().fillna(FILL_VALUE).astype(np.int64)\n",
    "    X_numeric = X[numeric_feat].mean() \n",
    "    X_label = X['aki_stage'].max()\n",
    "    print(\"Merging sampled features\")\n",
    "    try:\n",
    "        X = pd.concat([X_numeric, X_discrete,X_label], axis=1).reset_index()\n",
    "    except:\n",
    "        X = pd.concat([X_numeric,X_label], axis=1).reset_index()\n",
    "print(X.shape)\n",
    "#Label forward fill\n",
    "X['aki_stage'] = X['aki_stage'].ffill(limit=RESAMPLE_LIMIT)"
   ]
  },
  {
   "cell_type": "code",
   "execution_count": 16,
   "metadata": {},
   "outputs": [
    {
     "name": "stdout",
     "output_type": "stream",
     "text": [
      "Imputation.\n"
     ]
    }
   ],
   "source": [
    "print(\"Imputation.\")\n",
    "# do imputation of label with zero if there are still missing values\n",
    "X['aki_stage'] = X['aki_stage'].fillna(0)\n",
    "# using most common within each icustay_id\n",
    "if IMPUTE_EACH_ID:\n",
    "    # set a new variable so won't change the orginial X\n",
    "    column_name = list(X.columns)\n",
    "    column_name.remove(column_name[0]) \n",
    "    for feature in column_name:\n",
    "        X.loc[X[feature].isnull(), feature] = X.icustay_id.map(fast_mode(X, ['icustay_id'], feature).set_index('icustay_id')[feature])       \n",
    "\n",
    "# imputation based on whole column\n",
    "if IMPUTE_COLUMN:\n",
    "    imp = SimpleImputer(missing_values=np.nan, strategy= IMPUTE_METHOD)\n",
    "    cols = list(X.columns)\n",
    "    cols = cols[2:23]\n",
    "    X[cols]=imp.fit_transform(X[cols])  \n",
    "\n",
    "# If no imputation method selected or only impute each id, for the remaining nan impute direclty with FILL_VALUE\n",
    "X = X.fillna(FILL_VALUE) "
   ]
  },
  {
   "cell_type": "code",
   "execution_count": 17,
   "metadata": {},
   "outputs": [
    {
     "name": "stdout",
     "output_type": "stream",
     "text": [
      "success\n"
     ]
    }
   ],
   "source": [
    "# more comfortable to review in this order\n",
    "try:\n",
    "    cols = ['icustay_id', 'charttime','aki_stage','hadm_id','aniongap_avg','bicarbonate_avg', 'bun_avg','chloride_avg',\n",
    "            'creat','diasbp_mean', 'glucose_avg', 'heartrate_mean', 'hematocrit_avg','hemoglobin_avg', \n",
    "            'potassium_avg', 'resprate_mean', 'sodium_avg','spo2_mean', 'sysbp_mean', 'uo_rt_12hr', \n",
    "            'uo_rt_24hr', 'uo_rt_6hr','wbc_avg', 'sedative', 'vasopressor', 'vent' ]\n",
    "    X = X[cols]\n",
    "    print(\"success\")\n",
    "except:\n",
    "    try:\n",
    "        cols = ['icustay_id', 'charttime','aki_stage','creat','uo_rt_12hr', 'uo_rt_24hr', 'uo_rt_6hr']\n",
    "        X = X[cols]\n",
    "    except:\n",
    "        print(\"error\")"
   ]
  },
  {
   "cell_type": "code",
   "execution_count": 18,
   "metadata": {},
   "outputs": [
    {
     "name": "stdout",
     "output_type": "stream",
     "text": [
      "binarise labels\n"
     ]
    }
   ],
   "source": [
    "print(\"binarise labels\")\n",
    "if ALL_STAGES:\n",
    "    pass\n",
    "elif CLASS1:\n",
    "    X.loc[X['aki_stage'] > 1, 'aki_stage'] = 1\n",
    "elif CLASS2:\n",
    "    X.loc[X['aki_stage'] < 2, 'aki_stage'] = 0\n",
    "    X.loc[X['aki_stage'] > 1, 'aki_stage'] = 1\n",
    "elif CLASS3:\n",
    "    X.loc[X['aki_stage'] < 3, 'aki_stage'] = 0\n",
    "    X.loc[X['aki_stage'] > 2, 'aki_stage'] = 1"
   ]
  },
  {
   "cell_type": "code",
   "execution_count": 19,
   "metadata": {},
   "outputs": [
    {
     "data": {
      "text/plain": [
       "0.0    1769822\n",
       "1.0     386701\n",
       "Name: aki_stage, dtype: int64"
      ]
     },
     "execution_count": 19,
     "metadata": {},
     "output_type": "execute_result"
    }
   ],
   "source": [
    "X['aki_stage'].value_counts()"
   ]
  },
  {
   "cell_type": "markdown",
   "metadata": {},
   "source": [
    "#  Cap features between 0.01 / 0.99 quantile and normalisation"
   ]
  },
  {
   "cell_type": "code",
   "execution_count": 20,
   "metadata": {
    "scrolled": true
   },
   "outputs": [
    {
     "name": "stdout",
     "output_type": "stream",
     "text": [
      "Capping between the 0.01 and 0.99 quantile\n",
      "Normalizing in [0,1] with True normalization\n"
     ]
    }
   ],
   "source": [
    "if CAPPING:\n",
    "    X = cap_data(X)\n",
    "if NORMALIZATION:\n",
    "    X = normalise_data(X, numeric_feat)"
   ]
  },
  {
   "cell_type": "code",
   "execution_count": 21,
   "metadata": {},
   "outputs": [
    {
     "data": {
      "text/plain": [
       "47751"
      ]
     },
     "execution_count": 21,
     "metadata": {},
     "output_type": "execute_result"
    }
   ],
   "source": [
    "X['icustay_id'].nunique()"
   ]
  },
  {
   "cell_type": "code",
   "execution_count": 22,
   "metadata": {},
   "outputs": [
    {
     "data": {
      "text/plain": [
       "(2156523, 26)"
      ]
     },
     "execution_count": 22,
     "metadata": {},
     "output_type": "execute_result"
    }
   ],
   "source": [
    "X.shape"
   ]
  },
  {
   "cell_type": "code",
   "execution_count": 23,
   "metadata": {},
   "outputs": [],
   "source": [
    "work = X.copy(deep = True)\n",
    "#X = work.copy(deep = True)"
   ]
  },
  {
   "cell_type": "markdown",
   "metadata": {},
   "source": [
    "# SHIFTING labels"
   ]
  },
  {
   "cell_type": "code",
   "execution_count": 24,
   "metadata": {},
   "outputs": [
    {
     "data": {
      "text/plain": [
       "47751"
      ]
     },
     "execution_count": 24,
     "metadata": {},
     "output_type": "execute_result"
    }
   ],
   "source": [
    "#print(\"Shifting the labels 48 h\") # by 8 position : 6h sampling*8=48h and ffil 8 newly empty ones\n",
    "# group by\n",
    "X['aki_stage'] = X.groupby('icustay_id')['aki_stage'].shift(-(HOURS_AHEAD // int(SAMPLING_INTERVAL[:-1])))\n",
    "X = X.dropna(subset=['aki_stage'])\n",
    "X['icustay_id'].nunique()"
   ]
  },
  {
   "cell_type": "markdown",
   "metadata": {},
   "source": [
    "# Add categorical features (details)"
   ]
  },
  {
   "cell_type": "code",
   "execution_count": 25,
   "metadata": {},
   "outputs": [
    {
     "name": "stdout",
     "output_type": "stream",
     "text": [
      "start preprocessing not time dependent data\n"
     ]
    }
   ],
   "source": [
    "#no time dependent data\n",
    "print(\"start preprocessing not time dependent data\")\n",
    "if SELECTED_FEATURE_SET or MAX_FEATURE_SET:\n",
    "    #extract datasets based on id_list\n",
    "    dataset_detail = dataset_detail.loc[dataset_detail['icustay_id'].isin(id_list)]\n",
    "    #sort by ascending order\n",
    "    dataset_detail = dataset_detail.sort_values(by=['icustay_id'])\n",
    "    subject_id = dataset_detail[\"subject_id\"].unique()\n",
    "    \n",
    "    #transfrom categorical data to binary form\n",
    "    dataset_detail = dataset_detail.join(pd.get_dummies(dataset_detail.pop('gender')))\n",
    "    dataset_detail = dataset_detail.join(pd.get_dummies(dataset_detail.pop(\"ethnicity_grouped\")))\n",
    "    dataset_detail = dataset_detail.join(pd.get_dummies(dataset_detail.pop('admission_type')))\n",
    "    dataset_detail = dataset_detail.drop(['subject_id', 'hadm_id'], axis=1)\n",
    "    # AL merge\n",
    "    X =  pd.merge(X, dataset_detail, on = [\"icustay_id\"], how= \"left\", copy = False) \n",
    "    "
   ]
  },
  {
   "cell_type": "code",
   "execution_count": 26,
   "metadata": {},
   "outputs": [
    {
     "name": "stdout",
     "output_type": "stream",
     "text": [
      "Filter for the selected features\n"
     ]
    }
   ],
   "source": [
    "print(\"Filter for the selected features\")\n",
    "if SELECTED_FEATURE_SET:\n",
    "    X = X[selected_set]"
   ]
  },
  {
   "cell_type": "code",
   "execution_count": 27,
   "metadata": {},
   "outputs": [
    {
     "name": "stdout",
     "output_type": "stream",
     "text": [
      "Counter({0.0: 1452698, 1.0: 321817})\n"
     ]
    }
   ],
   "source": [
    "# approximate weights (just for information, preliminary)\n",
    "counter=collections.Counter(X['aki_stage'])\n",
    "print(counter)"
   ]
  },
  {
   "cell_type": "code",
   "execution_count": 28,
   "metadata": {},
   "outputs": [
    {
     "name": "stdout",
     "output_type": "stream",
     "text": [
      "133\n"
     ]
    }
   ],
   "source": [
    "X = X.sort_values(by=['icustay_id', 'charttime'])\n",
    "seq_lengths = X.groupby(['icustay_id'],as_index=False).size().sort_values(ascending=False)\n",
    "sequence_length = seq_lengths.max() # the longest sequence per icustay-id\n",
    "print(sequence_length)"
   ]
  },
  {
   "cell_type": "code",
   "execution_count": 29,
   "metadata": {},
   "outputs": [],
   "source": [
    "#AL re-write as try except to make it work as hadm_id is not used if only one csv file is used and none are merged\n",
    "try:\n",
    "    X.drop(['hadm_id'], axis=1, inplace = True)\n",
    "except:\n",
    "    pass"
   ]
  },
  {
   "cell_type": "code",
   "execution_count": 30,
   "metadata": {
    "scrolled": true
   },
   "outputs": [],
   "source": [
    "features = X.shape[1]-3"
   ]
  },
  {
   "cell_type": "code",
   "execution_count": 31,
   "metadata": {},
   "outputs": [
    {
     "name": "stdout",
     "output_type": "stream",
     "text": [
      "divide dataset into train, test and validation sets\n",
      "train is 38200\n",
      "val and test are 4776\n"
     ]
    }
   ],
   "source": [
    "print(\"divide dataset into train, test and validation sets\")\n",
    "id_train, id_test_val = train_test_split(id_list, test_size = SPLIT_SIZE, random_state = 42) # train set is 80%)\n",
    "train = X[X.icustay_id.isin(id_train)].sort_values(by=['icustay_id'])\n",
    "print(\"train is %d\" % len(id_train))\n",
    "\n",
    "# remaining 20% split in halves as test and validation 10% and 10%\n",
    "id_valid, id_test = train_test_split(id_test_val, test_size = 0.5, random_state = 42) # test 10% valid 10%\n",
    "print(\"val and test are %d\" %len(id_test))\n",
    "test = X[X.icustay_id.isin(id_test)].sort_values(by=['icustay_id'], ignore_index = True) \n",
    "validation = X[X.icustay_id.isin(id_valid)].sort_values(by=['icustay_id']) \n",
    "\n",
    "test = test.sort_values(by=['icustay_id', 'charttime'], ignore_index = True)\n",
    "train = train.sort_values(by=['icustay_id', 'charttime'], ignore_index = True)\n",
    "validation = validation.sort_values(by=['icustay_id', 'charttime'], ignore_index = True)"
   ]
  },
  {
   "cell_type": "code",
   "execution_count": 32,
   "metadata": {},
   "outputs": [
    {
     "data": {
      "text/plain": [
       "(174987, 38)"
      ]
     },
     "execution_count": 32,
     "metadata": {},
     "output_type": "execute_result"
    }
   ],
   "source": [
    "test.shape"
   ]
  },
  {
   "cell_type": "markdown",
   "metadata": {},
   "source": [
    "# remember 1 label per icu stay for the test set"
   ]
  },
  {
   "cell_type": "code",
   "execution_count": 33,
   "metadata": {},
   "outputs": [],
   "source": [
    "Z = test.copy(deep = True)\n",
    "test = test.sort_values(by=['icustay_id', 'charttime'], ignore_index = True)\n",
    "id_test.sort()\n",
    "#last_charttime_list= []\n",
    "\n",
    "index_list = []\n",
    "label_list = []\n",
    "\n",
    "first_row_index = 0\n",
    "id_count = 0\n",
    "seq_length = Z.groupby(['icustay_id'],as_index=False).size().to_frame('size')\n",
    "\n",
    "for ID in id_test:\n",
    "    last_row_index = first_row_index + seq_length.iloc[id_count,0]-1\n",
    "    a = Z.loc[Z['icustay_id']==ID].aki_stage\n",
    "    if 1 not in a.values:\n",
    "        label_list.append(0)\n",
    "        #last_charttime_list.append(Z.iat[last_row_index, Z.columns.get_loc('charttime')]) \n",
    "        index_list.append(last_row_index)\n",
    "    elif 1 in a.values:\n",
    "        label_list.append(1)\n",
    "        row = first_row_index\n",
    "        while row != last_row_index+1:\n",
    "            if Z.iat[row, Z.columns.get_loc('aki_stage')]==0:\n",
    "                row +=1\n",
    "            elif Z.iat[row, Z.columns.get_loc('aki_stage')]==1:\n",
    "                #last_charttime_list.append(Z.iat[row, Z.columns.get_loc('charttime')])\n",
    "                index_list.append(row)\n",
    "                break\n",
    "    first_row_index = last_row_index+1\n",
    "    id_count +=1\n"
   ]
  },
  {
   "cell_type": "code",
   "execution_count": 34,
   "metadata": {},
   "outputs": [],
   "source": [
    "test.drop(['charttime'], axis=1, inplace = True)\n",
    "train.drop(['charttime'], axis=1, inplace = True)\n",
    "validation.drop(['charttime'], axis=1, inplace = True)"
   ]
  },
  {
   "cell_type": "code",
   "execution_count": 35,
   "metadata": {},
   "outputs": [
    {
     "name": "stdout",
     "output_type": "stream",
     "text": [
      "(38200,)\n"
     ]
    }
   ],
   "source": [
    "#print(\"reshape 2D dataframe to 3D Array, group by icustay_id\")\n",
    "train = np.array(sorted(list(train.groupby(['icustay_id'],as_index=False).apply(pd.DataFrame.to_numpy)),key=len, reverse=True))\n",
    "test = np.array(list(test.groupby(['icustay_id'],as_index=False).apply(pd.DataFrame.to_numpy)))\n",
    "validation = np.array(list(validation.groupby(['icustay_id'],as_index=False).apply(pd.DataFrame.to_numpy)))\n",
    "\n",
    "print(train.shape)"
   ]
  },
  {
   "cell_type": "code",
   "execution_count": 36,
   "metadata": {},
   "outputs": [
    {
     "name": "stdout",
     "output_type": "stream",
     "text": [
      "(4776,)\n"
     ]
    }
   ],
   "source": [
    "print(test.shape)"
   ]
  },
  {
   "cell_type": "code",
   "execution_count": 37,
   "metadata": {
    "scrolled": true
   },
   "outputs": [
    {
     "name": "stdout",
     "output_type": "stream",
     "text": [
      "2020-11-30 11:56:03.560747\n"
     ]
    }
   ],
   "source": [
    "print(datetime.now())"
   ]
  },
  {
   "cell_type": "code",
   "execution_count": 38,
   "metadata": {},
   "outputs": [],
   "source": [
    "# jupyter notebook --NotebookApp.iopub_data_rate_limit=1.0e10"
   ]
  },
  {
   "cell_type": "markdown",
   "metadata": {},
   "source": [
    "# LSTM"
   ]
  },
  {
   "cell_type": "code",
   "execution_count": 39,
   "metadata": {},
   "outputs": [
    {
     "name": "stdout",
     "output_type": "stream",
     "text": [
      "Training on CPU\n"
     ]
    }
   ],
   "source": [
    "if (torch.cuda.is_available()):\n",
    "    print('Training on GPU')\n",
    "else:\n",
    "    print('Training on CPU') # On mac book GPU is not possible =() \n",
    "device = torch.device('cuda:0' if torch.cuda.is_available() else 'cpu')\n"
   ]
  },
  {
   "cell_type": "code",
   "execution_count": 40,
   "metadata": {},
   "outputs": [],
   "source": [
    "n_epochs = 75\n",
    "lr = 0.001\n",
    "input_size = features\n",
    "hidden_size = round(features/1)\n",
    "output_size = 2\n",
    "number_layers = 2\n",
    "BIAS = True # def true\n",
    "batch_size = 5\n",
    "p = 0.5 #dropout\n"
   ]
  },
  {
   "cell_type": "code",
   "execution_count": 41,
   "metadata": {},
   "outputs": [
    {
     "name": "stdout",
     "output_type": "stream",
     "text": [
      "Counter({0: 1163757, 1: 257313})\n",
      "torch.Size([635075])\n"
     ]
    },
    {
     "data": {
      "text/plain": [
       "torch.Size([4775, 133, 35])"
      ]
     },
     "execution_count": 41,
     "metadata": {},
     "output_type": "execute_result"
    }
   ],
   "source": [
    "def batch(data, batch_size):\n",
    "    X_batches = []\n",
    "    y_batches = []\n",
    "    times = math.floor(data.shape[0]/batch_size)\n",
    "    remainder = data.shape[0]%times\n",
    "    a = 0\n",
    "    start = 0\n",
    "    end = start+batch_size\n",
    "    if remainder ==0:\n",
    "        a +=1\n",
    "    while a<times:\n",
    "        temp = pad(data[start:end,],0)\n",
    "        x = Variable(torch.from_numpy(temp[:,:,2:]).float()) # without icustay_id and without aki_stage columns\n",
    "        y = torch.flatten(Variable(torch.from_numpy(temp[:, :,1].reshape(-1,1)).float()).long())\n",
    "        X_batches.append(x)\n",
    "        y_batches.append(y)\n",
    "        start = end\n",
    "        end = start+batch_size\n",
    "        a +=1\n",
    "    temp = pad(data[start:data.shape[0]],0)\n",
    "    x = Variable(torch.from_numpy(temp[:,:,2:]).float())\n",
    "    y = torch.flatten(Variable(torch.from_numpy(temp[:, :,1].reshape(-1,1)).float()).long())\n",
    "    X_batches.append(x)\n",
    "    y_batches.append(y)\n",
    "    if len(X_batches) != len(y_batches):\n",
    "        print(\"length error\")\n",
    "    return X_batches, y_batches # arrays\n",
    "\n",
    "# batching\n",
    "X_train, y_train = batch(train, batch_size) # to count weights\n",
    "\n",
    "# counting balance of the classes\n",
    "y = []\n",
    "for i in y_train:\n",
    "    for element in i:\n",
    "        y.append(element.item())\n",
    "\n",
    "#  weights\n",
    "counter=collections.Counter(y)\n",
    "print(counter)\n",
    "zeroes = counter[0]\n",
    "ones = counter[1]\n",
    "\n",
    "X_test, y_test = batch(test, test.shape[0]) \n",
    "X_val, y_val = batch(validation, validation.shape[0])\n",
    "X_val = X_val[0]\n",
    "y_val = y_val[0]\n",
    "X_test = X_test[0]\n",
    "y_test = y_test[0]\n",
    "print(y_val.shape)\n",
    "X_val.shape"
   ]
  },
  {
   "cell_type": "code",
   "execution_count": 42,
   "metadata": {},
   "outputs": [],
   "source": [
    "ONE_DIRECTIONAL = True\n",
    "BIDIRECTIONAL = False\n",
    "\n",
    "if ONE_DIRECTIONAL:\n",
    "    class Net(nn.Module):\n",
    "        def __init__(self, input_size, hidden_size, output_size):\n",
    "            super(Net, self).__init__()\n",
    "            self.input_size = input_size\n",
    "            self.hidden_size = hidden_size \n",
    "            self.output_size = output_size\n",
    "            self.number_layers = number_layers\n",
    "\n",
    "            self.activation = nn.Sigmoid() #here might use RELU\n",
    "            self.fc1 = nn.Linear(self.input_size, self.hidden_size) # I can have a few (IV) within this line - documentation        \n",
    "            self.fc2 = nn.LSTM(self.hidden_size, self.output_size,num_layers=self.number_layers,bias = BIAS, batch_first = True, bidirectional = False) # this is where it returns a tuple instead of tensor\n",
    "\n",
    "        def forward(self, x):\n",
    "            h = self.fc1(x) \n",
    "            h, _ = self.fc2(h) # h, _ : as I have 2outputs (tuple), only take the real output [0]. \n",
    "            #print(type(h)) # Underscore throughs away the rest, _ \"I do not care\" variable notation in python\n",
    "            h = self.activation(h)\n",
    "            return h\n",
    "        \n",
    "if BIDIRECTIONAL:\n",
    "    class Net(nn.Module):\n",
    "        def __init__(self, input_size, hidden_size, output_size):\n",
    "            super(Net, self).__init__()\n",
    "            self.input_size = input_size\n",
    "            self.hidden_size = hidden_size \n",
    "            self.output_size = output_size\n",
    "\n",
    "            self.fc1 = nn.Linear(self.input_size, self.hidden_size)\n",
    "            \n",
    "            # Create a (bidirectional) LSTM to encode sequence\n",
    "            self.lstm = nn.LSTM(self.hidden_size, self.output_size, num_layers=self.number_layers,bias = BIAS, batch_first = True, bidirectional=True)\n",
    "            # The output of the LSTM doubles when we use a bidirectional encoder.\n",
    "            # we have the forward and backward hidden states \n",
    "            \n",
    "            encoding_size = self.output_size * 2 # AL!!! if bider, then double if not - no doubling.\n",
    "            self.combination_layer = nn.Linear(encoding_size, encoding_size)\n",
    "            # Create affine layer to project to the classes \n",
    "            self.projection = nn.Linear(encoding_size, self.output_size)\n",
    "            # dropout layer for regularizetion of a sequence\n",
    "            \n",
    "            #self.dropout_layer = nn.Dropout(p = dropout)  \n",
    "            self.relu = nn.ReLU()   \n",
    "            \n",
    "\n",
    "        def forward(self, x, seq_mask=None, seq_len=None):\n",
    "            # Encode the sentence using the LSTM.this first step process\n",
    "            e = self.fc1(x)\n",
    "            #e = self.dropout_layer(e)\n",
    "            outputs, _ = self.lstm(e)   \n",
    "            h = self.relu(self.combination_layer(outputs))\n",
    "            #h = self.dropout_layer(h)\n",
    "            # [B, num_class]\n",
    "            # logits\n",
    "            logits = self.projection(h)\n",
    "            return logits\n",
    "\n",
    "    "
   ]
  },
  {
   "cell_type": "code",
   "execution_count": 43,
   "metadata": {},
   "outputs": [
    {
     "name": "stdout",
     "output_type": "stream",
     "text": [
      "tensor([1., 5.])\n"
     ]
    }
   ],
   "source": [
    "#create a network \n",
    "nn_model = Net(input_size, hidden_size, output_size)\n",
    "\n",
    "#print(nn_model)\n",
    "#print(list(nn_model.parameters()))\n",
    "\n",
    "# Cross Entropy Loss  \n",
    "weights = torch.tensor([round(zeroes/zeroes,0), round(zeroes/ones,0)])\n",
    "print(weights)\n",
    "criterion = nn.CrossEntropyLoss(weight = weights)\n",
    "optimizer = optim.Adam(nn_model.parameters(), lr=lr) \n"
   ]
  },
  {
   "cell_type": "code",
   "execution_count": null,
   "metadata": {
    "scrolled": true
   },
   "outputs": [
    {
     "name": "stdout",
     "output_type": "stream",
     "text": [
      "\n",
      " Epoch [1] out of 75\n",
      "Training loss: 0.687.. Validation loss: 0.593.. \n",
      "AUC: 0.23 PR AUC: 0.06 \n",
      "\n",
      " Epoch [2] out of 75\n",
      "Training loss: 0.691.. Validation loss: 0.608.. \n",
      "AUC: 0.18 PR AUC: 0.04 \n",
      "\n",
      " Epoch [3] out of 75\n",
      "Training loss: 0.690.. Validation loss: 0.594.. \n",
      "AUC: 0.88 PR AUC: 0.21 \n",
      "\n",
      " Epoch [4] out of 75\n",
      "Training loss: 0.687.. Validation loss: 0.581.. \n",
      "AUC: 0.90 PR AUC: 0.23 \n",
      "\n",
      " Epoch [5] out of 75\n",
      "Training loss: 0.683.. Validation loss: 0.585.. \n",
      "AUC: 0.62 PR AUC: 0.18 \n",
      "\n",
      " Epoch [6] out of 75\n",
      "Training loss: 0.692.. Validation loss: 0.591.. \n",
      "AUC: 0.30 PR AUC: 0.09 \n",
      "\n",
      " Epoch [7] out of 75\n",
      "Training loss: 0.680.. Validation loss: 0.577.. \n",
      "AUC: 0.86 PR AUC: 0.24 \n",
      "\n",
      " Epoch [8] out of 75\n",
      "Training loss: 0.680.. Validation loss: 0.576.. \n",
      "AUC: 0.69 PR AUC: 0.22 \n",
      "\n",
      " Epoch [9] out of 75\n",
      "Training loss: 0.677.. Validation loss: 0.572.. \n",
      "AUC: 0.77 PR AUC: 0.23 \n",
      "\n",
      " Epoch [10] out of 75\n",
      "Training loss: 0.670.. Validation loss: 0.588.. \n",
      "AUC: 0.67 PR AUC: 0.20 \n",
      "\n",
      " Epoch [11] out of 75\n",
      "Training loss: 0.671.. Validation loss: 0.584.. \n",
      "AUC: 0.89 PR AUC: 0.25 \n",
      "\n",
      " Epoch [12] out of 75\n",
      "Training loss: 0.676.. Validation loss: 0.575.. \n",
      "AUC: 0.83 PR AUC: 0.26 \n",
      "\n",
      " Epoch [13] out of 75\n",
      "Training loss: 0.671.. Validation loss: 0.574.. \n",
      "AUC: 0.83 PR AUC: 0.26 \n",
      "\n",
      " Epoch [14] out of 75\n",
      "Training loss: 0.668.. Validation loss: 0.576.. \n",
      "AUC: 0.88 PR AUC: 0.27 \n",
      "\n",
      " Epoch [15] out of 75\n",
      "Training loss: 0.669.. Validation loss: 0.575.. \n",
      "AUC: 0.86 PR AUC: 0.26 \n",
      "\n",
      " Epoch [16] out of 75\n",
      "Training loss: 0.669.. Validation loss: 0.574.. \n",
      "AUC: 0.87 PR AUC: 0.27 \n",
      "\n",
      " Epoch [17] out of 75\n",
      "Training loss: 0.667.. Validation loss: 0.580.. \n",
      "AUC: 0.87 PR AUC: 0.26 \n",
      "\n",
      " Epoch [18] out of 75\n",
      "Training loss: 0.668.. Validation loss: 0.583.. \n",
      "AUC: 0.86 PR AUC: 0.25 \n",
      "\n",
      " Epoch [19] out of 75\n",
      "Training loss: 0.672.. Validation loss: 0.576.. \n",
      "AUC: 0.83 PR AUC: 0.24 \n",
      "\n",
      " Epoch [20] out of 75\n",
      "Training loss: 0.671.. Validation loss: 0.572.. \n",
      "AUC: 0.86 PR AUC: 0.25 \n",
      "\n",
      " Epoch [21] out of 75\n",
      "Training loss: 0.669.. Validation loss: 0.577.. \n",
      "AUC: 0.87 PR AUC: 0.24 \n",
      "\n",
      " Epoch [22] out of 75\n",
      "Training loss: 0.673.. Validation loss: 0.578.. \n",
      "AUC: 0.83 PR AUC: 0.26 \n",
      "\n",
      " Epoch [23] out of 75\n",
      "Training loss: 0.670.. Validation loss: 0.578.. \n",
      "AUC: 0.88 PR AUC: 0.26 \n",
      "\n",
      " Epoch [24] out of 75\n",
      "Training loss: 0.667.. Validation loss: 0.580.. \n",
      "AUC: 0.87 PR AUC: 0.26 \n",
      "\n",
      " Epoch [25] out of 75\n",
      "Training loss: 0.667.. Validation loss: 0.581.. \n",
      "AUC: 0.86 PR AUC: 0.25 \n",
      "\n",
      " Epoch [26] out of 75\n",
      "Training loss: 0.668.. Validation loss: 0.575.. \n",
      "AUC: 0.88 PR AUC: 0.26 \n",
      "\n",
      " Epoch [27] out of 75\n",
      "Training loss: 0.672.. Validation loss: 0.583.. \n",
      "AUC: 0.83 PR AUC: 0.19 \n",
      "\n",
      " Epoch [28] out of 75\n",
      "Training loss: 0.669.. Validation loss: 0.584.. \n",
      "AUC: 0.83 PR AUC: 0.20 \n",
      "\n",
      " Epoch [29] out of 75\n",
      "Training loss: 0.667.. Validation loss: 0.575.. \n",
      "AUC: 0.88 PR AUC: 0.27 \n",
      "\n",
      " Epoch [30] out of 75\n",
      "Training loss: 0.667.. Validation loss: 0.572.. \n",
      "AUC: 0.89 PR AUC: 0.28 \n",
      "\n",
      " Epoch [31] out of 75\n",
      "Training loss: 0.670.. Validation loss: 0.577.. \n",
      "AUC: 0.85 PR AUC: 0.18 \n",
      "\n",
      " Epoch [32] out of 75\n",
      "Training loss: 0.667.. Validation loss: 0.572.. \n",
      "AUC: 0.90 PR AUC: 0.25 \n",
      "\n",
      " Epoch [33] out of 75\n",
      "Training loss: 0.668.. Validation loss: 0.577.. \n",
      "AUC: 0.88 PR AUC: 0.27 \n",
      "\n",
      " Epoch [34] out of 75\n",
      "Training loss: 0.668.. Validation loss: 0.576.. \n",
      "AUC: 0.88 PR AUC: 0.26 \n",
      "\n",
      " Epoch [35] out of 75\n",
      "Training loss: 0.666.. Validation loss: 0.579.. \n",
      "AUC: 0.87 PR AUC: 0.24 \n",
      "\n",
      " Epoch [36] out of 75\n",
      "Training loss: 0.668.. Validation loss: 0.584.. \n",
      "AUC: 0.84 PR AUC: 0.22 \n",
      "\n",
      " Epoch [37] out of 75\n",
      "Training loss: 0.669.. Validation loss: 0.621.. \n",
      "AUC: 0.68 PR AUC: 0.07 \n",
      "\n",
      " Epoch [38] out of 75\n",
      "Training loss: 0.668.. Validation loss: 0.582.. \n",
      "AUC: 0.84 PR AUC: 0.21 \n",
      "\n",
      " Epoch [39] out of 75\n",
      "Training loss: 0.679.. Validation loss: 0.570.. \n",
      "AUC: 0.90 PR AUC: 0.28 \n",
      "\n",
      " Epoch [40] out of 75\n",
      "Training loss: 0.666.. Validation loss: 0.575.. \n",
      "AUC: 0.88 PR AUC: 0.26 \n",
      "\n",
      " Epoch [41] out of 75\n",
      "Training loss: 0.668.. Validation loss: 0.577.. \n",
      "AUC: 0.89 PR AUC: 0.23 \n",
      "\n",
      " Epoch [42] out of 75\n",
      "Training loss: 0.667.. Validation loss: 0.577.. \n",
      "AUC: 0.88 PR AUC: 0.27 \n",
      "\n",
      " Epoch [43] out of 75\n",
      "Training loss: 0.666.. Validation loss: 0.576.. \n",
      "AUC: 0.86 PR AUC: 0.24 \n",
      "\n",
      " Epoch [44] out of 75\n",
      "Training loss: 0.667.. Validation loss: 0.577.. \n",
      "AUC: 0.85 PR AUC: 0.16 \n",
      "\n",
      " Epoch [45] out of 75\n",
      "Training loss: 0.668.. Validation loss: 0.589.. \n",
      "AUC: 0.77 PR AUC: 0.10 \n",
      "\n",
      " Epoch [46] out of 75\n",
      "Training loss: 0.668.. Validation loss: 0.574.. \n",
      "AUC: 0.89 PR AUC: 0.21 \n",
      "\n",
      " Epoch [47] out of 75\n",
      "Training loss: 0.667.. Validation loss: 0.571.. \n",
      "AUC: 0.89 PR AUC: 0.27 \n",
      "\n",
      " Epoch [48] out of 75\n",
      "Training loss: 0.668.. Validation loss: 0.576.. \n",
      "AUC: 0.87 PR AUC: 0.21 \n",
      "\n",
      " Epoch [49] out of 75\n",
      "Training loss: 0.667.. Validation loss: 0.576.. \n",
      "AUC: 0.87 PR AUC: 0.27 \n",
      "\n",
      " Epoch [50] out of 75\n",
      "Training loss: 0.669.. Validation loss: 0.569.. \n",
      "AUC: 0.87 PR AUC: 0.21 \n",
      "\n",
      " Epoch [51] out of 75\n",
      "Training loss: 0.668.. Validation loss: 0.574.. \n",
      "AUC: 0.88 PR AUC: 0.26 \n",
      "\n",
      " Epoch [52] out of 75\n",
      "Training loss: 0.667.. Validation loss: 0.589.. \n",
      "AUC: 0.77 PR AUC: 0.10 \n",
      "\n",
      " Epoch [53] out of 75\n",
      "Training loss: 0.666.. Validation loss: 0.573.. \n",
      "AUC: 0.87 PR AUC: 0.26 \n",
      "\n",
      " Epoch [54] out of 75\n",
      "Training loss: 0.668.. Validation loss: 0.577.. \n",
      "AUC: 0.85 PR AUC: 0.25 \n",
      "\n",
      " Epoch [55] out of 75\n",
      "Training loss: 0.669.. Validation loss: 0.572.. \n",
      "AUC: 0.88 PR AUC: 0.26 \n",
      "\n",
      " Epoch [56] out of 75\n",
      "Training loss: 0.667.. Validation loss: 0.569.. \n",
      "AUC: 0.89 PR AUC: 0.24 \n",
      "\n",
      " Epoch [57] out of 75\n",
      "Training loss: 0.669.. Validation loss: 0.575.. \n",
      "AUC: 0.89 PR AUC: 0.25 \n",
      "\n",
      " Epoch [58] out of 75\n",
      "Training loss: 0.670.. Validation loss: 0.571.. \n",
      "AUC: 0.86 PR AUC: 0.24 \n",
      "\n",
      " Epoch [59] out of 75\n",
      "Training loss: 0.672.. Validation loss: 0.570.. \n",
      "AUC: 0.87 PR AUC: 0.24 \n",
      "\n",
      " Epoch [60] out of 75\n",
      "Training loss: 0.669.. Validation loss: 0.570.. \n",
      "AUC: 0.87 PR AUC: 0.24 \n",
      "\n",
      " Epoch [61] out of 75\n",
      "Training loss: 0.667.. Validation loss: 0.574.. \n",
      "AUC: 0.88 PR AUC: 0.27 \n",
      "\n",
      " Epoch [62] out of 75\n",
      "Training loss: 0.668.. Validation loss: 0.577.. \n",
      "AUC: 0.83 PR AUC: 0.24 \n",
      "\n",
      " Epoch [63] out of 75\n",
      "Training loss: 0.669.. Validation loss: 0.578.. \n",
      "AUC: 0.82 PR AUC: 0.22 \n",
      "\n",
      " Epoch [64] out of 75\n",
      "Training loss: 0.668.. Validation loss: 0.585.. \n",
      "AUC: 0.86 PR AUC: 0.24 \n",
      "\n",
      " Epoch [65] out of 75\n"
     ]
    }
   ],
   "source": [
    "# training loop (full data 3.5 hours)\n",
    "\n",
    "epochs = n_epochs\n",
    "starttime = datetime.now() # datetime object containing current date and time\n",
    "train_losses, validation_losses = [], []\n",
    "best = 0\n",
    "exception = 0\n",
    "\n",
    "for epoch in range(epochs):  # loop over the dataset multiple times\n",
    "    print (\"\\n Epoch [%d] out of %d\" % (epoch + 1, epochs))\n",
    "    \n",
    "    running_loss = 0.0\n",
    "    validation_loss = 0.0\n",
    "    roc_auc = 0.0\n",
    "    pr_auc = 0.0\n",
    "    m = 0\n",
    "    \n",
    "    #train\n",
    "    for i in X_train:\n",
    "        # zero the parameter gradients\n",
    "        optimizer.zero_grad() # zero the gradient buffers not to consider gradients of previous iterations\n",
    "        X_batch = X_train[m]\n",
    "        y_batch = y_train[m]\n",
    "        # forward + backward + optimize\n",
    "        outputs = nn_model(X_batch)\n",
    "        outputs = outputs.view(X_batch.shape[1]*X_batch.shape[0],output_size)\n",
    "        loss = criterion(outputs, y_batch)\n",
    "        loss.backward()\n",
    "        optimizer.step() # Does the update\n",
    "        running_loss += loss.item()\n",
    "        m +=1\n",
    "    \n",
    "    #validation \n",
    "    nn_model.eval()\n",
    "    with torch.no_grad():\n",
    "        v_out = nn_model(X_val) \n",
    "        v_out = v_out.view(-1,output_size)\n",
    "        v_loss = criterion(v_out, y_val)\n",
    "        val_loss = v_loss.item()\n",
    "        # auc and pr auc\n",
    "        v_out = v_out[:,1]\n",
    "        precision, recall, thresholds = precision_recall_curve(y_val, v_out)\n",
    "        pr_auc = auc(recall, precision)\n",
    "        roc_auc = roc_auc_score(y_val,v_out)\n",
    "        \n",
    "    \n",
    "    print(f\"Training loss: {running_loss/len(X_train):.3f}.. \"\n",
    "                    f\"Validation loss: {val_loss:.3f}.. \")\n",
    "    print(f\"AUC: {roc_auc:.2f} \" f\"PR AUC: {pr_auc:.2f} \")\n",
    "        \n",
    "    nn_model.train()\n",
    "    \n",
    "    validation_losses.append(validation_loss) \n",
    "    train_losses.append(running_loss/len(X_train)) \n",
    "    \n",
    "\n",
    "    if pr_auc > best:\n",
    "        best = pr_auc\n",
    "        # save the model\n",
    "        PATH = './30Nov_one-dir_with_imp_hid1_best.pth'\n",
    "        torch.save(nn_model.state_dict(), PATH)\n",
    "    else:\n",
    "        pass\n",
    "\n",
    "        \n",
    "print('Finished Training')\n",
    "print(\"starttime =\", starttime)\n",
    "now = datetime.now()\n",
    "print(\"now =\", now)"
   ]
  },
  {
   "cell_type": "code",
   "execution_count": null,
   "metadata": {},
   "outputs": [],
   "source": [
    "# save the model\n",
    "PATH = './30Nov_one-dir_with_imp_hid1.pth'\n",
    "torch.save(nn_model.state_dict(), PATH)\n",
    "\n",
    "# code to load saved model\n",
    "#nn_model = Net(input_size, hidden_size, output_size)\n",
    "#nn_model.load_state_dict(torch.load(PATH))"
   ]
  },
  {
   "cell_type": "markdown",
   "metadata": {},
   "source": [
    "# Next step testing the model"
   ]
  },
  {
   "cell_type": "code",
   "execution_count": null,
   "metadata": {},
   "outputs": [],
   "source": [
    "# CROSS E LOSS scenario\n",
    "pred = nn_model(X_test) # 2 columns that sum up to 1\n",
    "max_rows = pred.shape[1]\n",
    "predictions = pred.detach().numpy()\n",
    "predictions = predictions.reshape(-1,2)\n",
    "predictions = np.delete(predictions, 0, axis=1) # as 2 columns that sum up to 1, we can use one only (for 1)\n",
    "# select 1 per icu stay id by index\n",
    "prob_1_label = []\n",
    "row = 0\n",
    "prev = 0\n",
    "\n",
    "for i in index_list:\n",
    "    prob_1_label.append(predictions[row+i-prev])\n",
    "    row += pred.shape[1]\n",
    "    prev = i\n",
    "prob_1_label = np.array(prob_1_label).reshape(-1,1)\n",
    "\n",
    "labels = np.array(label_list)\n",
    "labels = labels.reshape(-1,1)\n",
    "labels = labels.astype(int)"
   ]
  },
  {
   "cell_type": "code",
   "execution_count": null,
   "metadata": {},
   "outputs": [],
   "source": [
    "import collections\n",
    "\n",
    "c=collections.Counter(label_list)\n",
    "print(c)"
   ]
  },
  {
   "cell_type": "code",
   "execution_count": null,
   "metadata": {
    "scrolled": true
   },
   "outputs": [],
   "source": [
    "auc_list = []\n",
    "\n",
    "def preliminary_view (threshold):\n",
    "    a = np.where(prob_1_label > threshold, 1, 0)\n",
    "    #print(\"\\nFrequency of unique values of the predicted array:\")\n",
    "    #print(np.asarray((unique_elements, counts_elements)))\n",
    "    auc = roc_auc_score(labels,a)\n",
    "    auc_list.append(auc)\n",
    "    print (f\"threshold: {i:.2f} \"   f\"AUC: {auc:.2f}\") \n",
    "    \n",
    "# thresholds\n",
    "thresholds = np.arange(0.1,0.9,0.05)\n",
    "for i in thresholds:\n",
    "    preliminary_view(i)"
   ]
  },
  {
   "cell_type": "code",
   "execution_count": 58,
   "metadata": {
    "scrolled": true
   },
   "outputs": [
    {
     "name": "stdout",
     "output_type": "stream",
     "text": [
      "0.54\n"
     ]
    }
   ],
   "source": [
    "standard_threshold_pred = np.where( prob_1_label > 0.5, 1, 0)\n",
    "auc_score = round(roc_auc_score(labels,standard_threshold_pred),2)\n",
    "print(auc_score)"
   ]
  },
  {
   "cell_type": "code",
   "execution_count": 59,
   "metadata": {},
   "outputs": [
    {
     "name": "stdout",
     "output_type": "stream",
     "text": [
      "F1 = 0.145, PR auc =0.861\n"
     ]
    },
    {
     "data": {
      "image/png": "[encoded data removed]",
      "text/plain": [
       "<Figure size 432x288 with 1 Axes>"
      ]
     },
     "metadata": {
      "needs_background": "light"
     },
     "output_type": "display_data"
    }
   ],
   "source": [
    "precision, recall, thresholds = precision_recall_curve(labels, prob_1_label)\n",
    "f1 = f1_score(labels,standard_threshold_pred)\n",
    "prauc =auc(recall, precision)\n",
    "print('F1 = %.3f, PR auc =%.3f' % (f1,prauc))\n",
    "\n",
    "# plot the precision-recall curves\n",
    "no_skill = len(labels[labels==1]) / len(labels)\n",
    "plt.plot([0, 1], [no_skill, no_skill], linestyle='--', label='No Skill')\n",
    "plt.plot(recall, precision, marker='.', label='LSTM')\n",
    "# axis labels\n",
    "plt.xlabel('Recall')\n",
    "plt.ylabel('Precision')\n",
    "# show the legend\n",
    "plt.legend()\n",
    "# show the plot\n",
    "plt.show()\n",
    "\n"
   ]
  },
  {
   "cell_type": "code",
   "execution_count": 60,
   "metadata": {
    "scrolled": true
   },
   "outputs": [
    {
     "name": "stdout",
     "output_type": "stream",
     "text": [
      "[[1975   24]\n",
      " [2153  624]]\n"
     ]
    }
   ],
   "source": [
    "from sklearn import metrics\n",
    "a = np.where(prob_1_label > 0.3, 1, 0)\n",
    "print(metrics.confusion_matrix(labels, a, labels=None, sample_weight=None, normalize=None))"
   ]
  }
 ],
 "metadata": {
  "kernelspec": {
   "display_name": "Python 3",
   "language": "python",
   "name": "python3"
  },
  "language_info": {
   "codemirror_mode": {
    "name": "ipython",
    "version": 3
   },
   "file_extension": ".py",
   "mimetype": "text/x-python",
   "name": "python",
   "nbconvert_exporter": "python",
   "pygments_lexer": "ipython3",
   "version": "3.8.3"
  }
 },
 "nbformat": 4,
 "nbformat_minor": 2
}
